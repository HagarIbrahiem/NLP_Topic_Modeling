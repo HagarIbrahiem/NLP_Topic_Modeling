{
  "cells": [
    {
      "cell_type": "markdown",
      "metadata": {
        "id": "view-in-github",
        "colab_type": "text"
      },
      "source": [
        "<a href=\"https://colab.research.google.com/github/HagarIbrahiem/NLP_Topic_Modeling/blob/main/Topic_Modeling_for_Arabic_short_texts.ipynb\" target=\"_parent\"><img src=\"https://colab.research.google.com/assets/colab-badge.svg\" alt=\"Open In Colab\"/></a>"
      ]
    },
    {
      "cell_type": "markdown",
      "source": [
        "gogogo"
      ],
      "metadata": {
        "id": "SbM3wVhC3Jzq"
      },
      "id": "SbM3wVhC3Jzq"
    },
    {
      "cell_type": "markdown",
      "source": [
        "# Libs"
      ],
      "metadata": {
        "id": "DUr1Upo4vOzg"
      },
      "id": "DUr1Upo4vOzg"
    },
    {
      "cell_type": "code",
      "source": [
        "'''\n",
        "!pip install --upgrade pip\n",
        "!pip install fastapi==0.68.0 kaleido==0.2.1 python-multipart==0.0.5 uvicorn==0.15.0 pandas==1.5.3\n",
        "!pip install numpy==1.25.4\n",
        "!pip install tmplot\n",
        "!pip install python-bidi\n",
        "!pip install arabic_reshaper\n",
        "!pip install git+https://github.com/rwalk/gsdmm.git\n",
        "!pip install bitermplus\n",
        "!pip install qalsadi\n",
        "!pip install pyLDAvis\n",
        "!pip install tomotopy\n",
        "\n",
        "'''"
      ],
      "metadata": {
        "id": "FxC8sj5I4d-B",
        "colab": {
          "base_uri": "https://localhost:8080/",
          "height": 73
        },
        "outputId": "1fbbc039-b041-4e0d-fbf8-9c3e2395873f"
      },
      "id": "FxC8sj5I4d-B",
      "execution_count": 10,
      "outputs": [
        {
          "output_type": "execute_result",
          "data": {
            "text/plain": [
              "'\\n!pip install --upgrade pip\\n!pip install fastapi==0.68.0 kaleido==0.2.1 python-multipart==0.0.5 uvicorn==0.15.0 pandas==1.5.3\\n!pip install numpy==1.25.4\\n!pip install tmplot\\n!pip install python-bidi\\n!pip install arabic_reshaper\\n!pip install git+https://github.com/rwalk/gsdmm.git\\n!pip install bitermplus\\n!pip install qalsadi\\n!pip install pyLDAvis\\n!pip install tomotopy\\n\\n'"
            ],
            "application/vnd.google.colaboratory.intrinsic+json": {
              "type": "string"
            }
          },
          "metadata": {},
          "execution_count": 10
        }
      ]
    },
    {
      "cell_type": "code",
      "source": [],
      "metadata": {
        "id": "NSjylHS4WIFm"
      },
      "id": "NSjylHS4WIFm",
      "execution_count": 10,
      "outputs": []
    },
    {
      "cell_type": "code",
      "source": [
        "#Base and Cleaning\n",
        "import pandas as pd\n",
        "import numpy as np\n",
        "import warnings\n",
        "warnings.filterwarnings(\"ignore\")\n",
        "from pprint import pprint\n",
        "import pip\n",
        "import setuptools\n",
        "import tmplot as tmp\n",
        "\n",
        "\n",
        "\n",
        "# loading some necessary packages\n",
        "import gensim\n",
        "from gensim.utils import simple_preprocess\n",
        "from gensim.parsing.preprocessing import STOPWORDS\n",
        "from nltk.stem import ISRIStemmer\n",
        "from nltk.stem.porter import *\n",
        "import nltk\n",
        "from nltk.corpus import stopwords\n",
        "from gensim.models import CoherenceModel\n",
        "import gensim.corpora as corpora\n",
        "from gensim.models import CoherenceModel\n",
        "\n",
        "from sklearn.feature_extraction.text import CountVectorizer, TfidfTransformer;\n",
        "from sklearn.decomposition import NMF;\n",
        "from sklearn.preprocessing import normalize;\n",
        "from bidi.algorithm import get_display\n",
        "import arabic_reshaper\n",
        "\n",
        "\n",
        "from gensim.models.nmf import Nmf as GensimNmf\n",
        "from gsdmm import MovieGroupProcess\n",
        "from gensim.models import AuthorTopicModel\n",
        "import tomotopy as tp\n",
        "from gensim import models\n",
        "from statistics import mean\n",
        "import bitermplus as btm\n",
        "from gensim.models import LdaSeqModel\n",
        "import qalsadi.lemmatizer\n",
        "from gensim.models import HdpModel\n",
        "\n",
        "\n",
        "# Visualizations\n",
        "import matplotlib.pyplot as plt\n",
        "import pyLDAvis\n",
        "import pyLDAvis.gensim_models"
      ],
      "metadata": {
        "id": "zJo-tKyIvWWw"
      },
      "execution_count": 11,
      "outputs": [],
      "id": "zJo-tKyIvWWw"
    },
    {
      "cell_type": "code",
      "source": [
        "# Global Variables\n",
        "TXT_INDX = 1500"
      ],
      "metadata": {
        "id": "t8t994zR1T7j"
      },
      "execution_count": 12,
      "outputs": [],
      "id": "t8t994zR1T7j"
    },
    {
      "cell_type": "markdown",
      "source": [
        "# Load Data"
      ],
      "metadata": {
        "id": "5UPKuiChxKvt"
      },
      "id": "5UPKuiChxKvt"
    },
    {
      "cell_type": "code",
      "source": [
        "data = pd.read_csv('tickets-commentcitizens.csv',index_col=0)\n",
        "data.head()"
      ],
      "metadata": {
        "id": "MIjwlhB7rSxh",
        "colab": {
          "base_uri": "https://localhost:8080/",
          "height": 206
        },
        "outputId": "8988480c-1d83-47f3-fe1a-fc0eb3c6d6f7"
      },
      "execution_count": 13,
      "outputs": [
        {
          "output_type": "execute_result",
          "data": {
            "text/plain": [
              "       ID                                     citizenComment\n",
              "0  7628.0  السلام عليكم\\nلدي طلب رقم 746855 لم تتغير حالت...\n",
              "1  7768.0                  عدم الاستطاعة باضافة العقد الموثق\n",
              "2  7771.0      عدم استطاعتي بتعديل الطلب واضافة العقد الموثق\n",
              "3  7796.0  هناك حساب فقد لا نتزكر كلمة السر  الرقم القومى...\n",
              "4  7830.0  السلام عليكم الاول عملت طلب اتاخر كتير عملت طل..."
            ],
            "text/html": [
              "\n",
              "  <div id=\"df-df3ca234-b924-41e0-80a2-e31fcfcc3156\" class=\"colab-df-container\">\n",
              "    <div>\n",
              "<style scoped>\n",
              "    .dataframe tbody tr th:only-of-type {\n",
              "        vertical-align: middle;\n",
              "    }\n",
              "\n",
              "    .dataframe tbody tr th {\n",
              "        vertical-align: top;\n",
              "    }\n",
              "\n",
              "    .dataframe thead th {\n",
              "        text-align: right;\n",
              "    }\n",
              "</style>\n",
              "<table border=\"1\" class=\"dataframe\">\n",
              "  <thead>\n",
              "    <tr style=\"text-align: right;\">\n",
              "      <th></th>\n",
              "      <th>ID</th>\n",
              "      <th>citizenComment</th>\n",
              "    </tr>\n",
              "  </thead>\n",
              "  <tbody>\n",
              "    <tr>\n",
              "      <th>0</th>\n",
              "      <td>7628.0</td>\n",
              "      <td>السلام عليكم\\nلدي طلب رقم 746855 لم تتغير حالت...</td>\n",
              "    </tr>\n",
              "    <tr>\n",
              "      <th>1</th>\n",
              "      <td>7768.0</td>\n",
              "      <td>عدم الاستطاعة باضافة العقد الموثق</td>\n",
              "    </tr>\n",
              "    <tr>\n",
              "      <th>2</th>\n",
              "      <td>7771.0</td>\n",
              "      <td>عدم استطاعتي بتعديل الطلب واضافة العقد الموثق</td>\n",
              "    </tr>\n",
              "    <tr>\n",
              "      <th>3</th>\n",
              "      <td>7796.0</td>\n",
              "      <td>هناك حساب فقد لا نتزكر كلمة السر  الرقم القومى...</td>\n",
              "    </tr>\n",
              "    <tr>\n",
              "      <th>4</th>\n",
              "      <td>7830.0</td>\n",
              "      <td>السلام عليكم الاول عملت طلب اتاخر كتير عملت طل...</td>\n",
              "    </tr>\n",
              "  </tbody>\n",
              "</table>\n",
              "</div>\n",
              "    <div class=\"colab-df-buttons\">\n",
              "\n",
              "  <div class=\"colab-df-container\">\n",
              "    <button class=\"colab-df-convert\" onclick=\"convertToInteractive('df-df3ca234-b924-41e0-80a2-e31fcfcc3156')\"\n",
              "            title=\"Convert this dataframe to an interactive table.\"\n",
              "            style=\"display:none;\">\n",
              "\n",
              "  <svg xmlns=\"http://www.w3.org/2000/svg\" height=\"24px\" viewBox=\"0 -960 960 960\">\n",
              "    <path d=\"M120-120v-720h720v720H120Zm60-500h600v-160H180v160Zm220 220h160v-160H400v160Zm0 220h160v-160H400v160ZM180-400h160v-160H180v160Zm440 0h160v-160H620v160ZM180-180h160v-160H180v160Zm440 0h160v-160H620v160Z\"/>\n",
              "  </svg>\n",
              "    </button>\n",
              "\n",
              "  <style>\n",
              "    .colab-df-container {\n",
              "      display:flex;\n",
              "      gap: 12px;\n",
              "    }\n",
              "\n",
              "    .colab-df-convert {\n",
              "      background-color: #E8F0FE;\n",
              "      border: none;\n",
              "      border-radius: 50%;\n",
              "      cursor: pointer;\n",
              "      display: none;\n",
              "      fill: #1967D2;\n",
              "      height: 32px;\n",
              "      padding: 0 0 0 0;\n",
              "      width: 32px;\n",
              "    }\n",
              "\n",
              "    .colab-df-convert:hover {\n",
              "      background-color: #E2EBFA;\n",
              "      box-shadow: 0px 1px 2px rgba(60, 64, 67, 0.3), 0px 1px 3px 1px rgba(60, 64, 67, 0.15);\n",
              "      fill: #174EA6;\n",
              "    }\n",
              "\n",
              "    .colab-df-buttons div {\n",
              "      margin-bottom: 4px;\n",
              "    }\n",
              "\n",
              "    [theme=dark] .colab-df-convert {\n",
              "      background-color: #3B4455;\n",
              "      fill: #D2E3FC;\n",
              "    }\n",
              "\n",
              "    [theme=dark] .colab-df-convert:hover {\n",
              "      background-color: #434B5C;\n",
              "      box-shadow: 0px 1px 3px 1px rgba(0, 0, 0, 0.15);\n",
              "      filter: drop-shadow(0px 1px 2px rgba(0, 0, 0, 0.3));\n",
              "      fill: #FFFFFF;\n",
              "    }\n",
              "  </style>\n",
              "\n",
              "    <script>\n",
              "      const buttonEl =\n",
              "        document.querySelector('#df-df3ca234-b924-41e0-80a2-e31fcfcc3156 button.colab-df-convert');\n",
              "      buttonEl.style.display =\n",
              "        google.colab.kernel.accessAllowed ? 'block' : 'none';\n",
              "\n",
              "      async function convertToInteractive(key) {\n",
              "        const element = document.querySelector('#df-df3ca234-b924-41e0-80a2-e31fcfcc3156');\n",
              "        const dataTable =\n",
              "          await google.colab.kernel.invokeFunction('convertToInteractive',\n",
              "                                                    [key], {});\n",
              "        if (!dataTable) return;\n",
              "\n",
              "        const docLinkHtml = 'Like what you see? Visit the ' +\n",
              "          '<a target=\"_blank\" href=https://colab.research.google.com/notebooks/data_table.ipynb>data table notebook</a>'\n",
              "          + ' to learn more about interactive tables.';\n",
              "        element.innerHTML = '';\n",
              "        dataTable['output_type'] = 'display_data';\n",
              "        await google.colab.output.renderOutput(dataTable, element);\n",
              "        const docLink = document.createElement('div');\n",
              "        docLink.innerHTML = docLinkHtml;\n",
              "        element.appendChild(docLink);\n",
              "      }\n",
              "    </script>\n",
              "  </div>\n",
              "\n",
              "\n",
              "<div id=\"df-2e6fdaa5-f4d1-4da5-8313-b52cd44f763e\">\n",
              "  <button class=\"colab-df-quickchart\" onclick=\"quickchart('df-2e6fdaa5-f4d1-4da5-8313-b52cd44f763e')\"\n",
              "            title=\"Suggest charts\"\n",
              "            style=\"display:none;\">\n",
              "\n",
              "<svg xmlns=\"http://www.w3.org/2000/svg\" height=\"24px\"viewBox=\"0 0 24 24\"\n",
              "     width=\"24px\">\n",
              "    <g>\n",
              "        <path d=\"M19 3H5c-1.1 0-2 .9-2 2v14c0 1.1.9 2 2 2h14c1.1 0 2-.9 2-2V5c0-1.1-.9-2-2-2zM9 17H7v-7h2v7zm4 0h-2V7h2v10zm4 0h-2v-4h2v4z\"/>\n",
              "    </g>\n",
              "</svg>\n",
              "  </button>\n",
              "\n",
              "<style>\n",
              "  .colab-df-quickchart {\n",
              "      --bg-color: #E8F0FE;\n",
              "      --fill-color: #1967D2;\n",
              "      --hover-bg-color: #E2EBFA;\n",
              "      --hover-fill-color: #174EA6;\n",
              "      --disabled-fill-color: #AAA;\n",
              "      --disabled-bg-color: #DDD;\n",
              "  }\n",
              "\n",
              "  [theme=dark] .colab-df-quickchart {\n",
              "      --bg-color: #3B4455;\n",
              "      --fill-color: #D2E3FC;\n",
              "      --hover-bg-color: #434B5C;\n",
              "      --hover-fill-color: #FFFFFF;\n",
              "      --disabled-bg-color: #3B4455;\n",
              "      --disabled-fill-color: #666;\n",
              "  }\n",
              "\n",
              "  .colab-df-quickchart {\n",
              "    background-color: var(--bg-color);\n",
              "    border: none;\n",
              "    border-radius: 50%;\n",
              "    cursor: pointer;\n",
              "    display: none;\n",
              "    fill: var(--fill-color);\n",
              "    height: 32px;\n",
              "    padding: 0;\n",
              "    width: 32px;\n",
              "  }\n",
              "\n",
              "  .colab-df-quickchart:hover {\n",
              "    background-color: var(--hover-bg-color);\n",
              "    box-shadow: 0 1px 2px rgba(60, 64, 67, 0.3), 0 1px 3px 1px rgba(60, 64, 67, 0.15);\n",
              "    fill: var(--button-hover-fill-color);\n",
              "  }\n",
              "\n",
              "  .colab-df-quickchart-complete:disabled,\n",
              "  .colab-df-quickchart-complete:disabled:hover {\n",
              "    background-color: var(--disabled-bg-color);\n",
              "    fill: var(--disabled-fill-color);\n",
              "    box-shadow: none;\n",
              "  }\n",
              "\n",
              "  .colab-df-spinner {\n",
              "    border: 2px solid var(--fill-color);\n",
              "    border-color: transparent;\n",
              "    border-bottom-color: var(--fill-color);\n",
              "    animation:\n",
              "      spin 1s steps(1) infinite;\n",
              "  }\n",
              "\n",
              "  @keyframes spin {\n",
              "    0% {\n",
              "      border-color: transparent;\n",
              "      border-bottom-color: var(--fill-color);\n",
              "      border-left-color: var(--fill-color);\n",
              "    }\n",
              "    20% {\n",
              "      border-color: transparent;\n",
              "      border-left-color: var(--fill-color);\n",
              "      border-top-color: var(--fill-color);\n",
              "    }\n",
              "    30% {\n",
              "      border-color: transparent;\n",
              "      border-left-color: var(--fill-color);\n",
              "      border-top-color: var(--fill-color);\n",
              "      border-right-color: var(--fill-color);\n",
              "    }\n",
              "    40% {\n",
              "      border-color: transparent;\n",
              "      border-right-color: var(--fill-color);\n",
              "      border-top-color: var(--fill-color);\n",
              "    }\n",
              "    60% {\n",
              "      border-color: transparent;\n",
              "      border-right-color: var(--fill-color);\n",
              "    }\n",
              "    80% {\n",
              "      border-color: transparent;\n",
              "      border-right-color: var(--fill-color);\n",
              "      border-bottom-color: var(--fill-color);\n",
              "    }\n",
              "    90% {\n",
              "      border-color: transparent;\n",
              "      border-bottom-color: var(--fill-color);\n",
              "    }\n",
              "  }\n",
              "</style>\n",
              "\n",
              "  <script>\n",
              "    async function quickchart(key) {\n",
              "      const quickchartButtonEl =\n",
              "        document.querySelector('#' + key + ' button');\n",
              "      quickchartButtonEl.disabled = true;  // To prevent multiple clicks.\n",
              "      quickchartButtonEl.classList.add('colab-df-spinner');\n",
              "      try {\n",
              "        const charts = await google.colab.kernel.invokeFunction(\n",
              "            'suggestCharts', [key], {});\n",
              "      } catch (error) {\n",
              "        console.error('Error during call to suggestCharts:', error);\n",
              "      }\n",
              "      quickchartButtonEl.classList.remove('colab-df-spinner');\n",
              "      quickchartButtonEl.classList.add('colab-df-quickchart-complete');\n",
              "    }\n",
              "    (() => {\n",
              "      let quickchartButtonEl =\n",
              "        document.querySelector('#df-2e6fdaa5-f4d1-4da5-8313-b52cd44f763e button');\n",
              "      quickchartButtonEl.style.display =\n",
              "        google.colab.kernel.accessAllowed ? 'block' : 'none';\n",
              "    })();\n",
              "  </script>\n",
              "</div>\n",
              "    </div>\n",
              "  </div>\n"
            ]
          },
          "metadata": {},
          "execution_count": 13
        }
      ],
      "id": "MIjwlhB7rSxh"
    },
    {
      "cell_type": "code",
      "source": [
        "data.rename(columns = {'citizenComment':'text'}, inplace = True)\n",
        "data.drop(['ID'], axis=1)"
      ],
      "metadata": {
        "id": "Si6oXjsrrXT0",
        "colab": {
          "base_uri": "https://localhost:8080/",
          "height": 423
        },
        "outputId": "a331a30b-20e6-4ef0-98cc-a10d67c55c7e"
      },
      "execution_count": 14,
      "outputs": [
        {
          "output_type": "execute_result",
          "data": {
            "text/plain": [
              "                                                    text\n",
              "0      السلام عليكم\\nلدي طلب رقم 746855 لم تتغير حالت...\n",
              "1                      عدم الاستطاعة باضافة العقد الموثق\n",
              "2          عدم استطاعتي بتعديل الطلب واضافة العقد الموثق\n",
              "3      هناك حساب فقد لا نتزكر كلمة السر  الرقم القومى...\n",
              "4      السلام عليكم الاول عملت طلب اتاخر كتير عملت طل...\n",
              "...                                                  ...\n",
              "47736  السلام عليكم\\nنظرا ا للظروف التي تحدث والانقطا...\n",
              "47737  إلغاء الطلب رقم 3579676\\nلدواعي السفر وعدم الج...\n",
              "47738  بعد تركيب العداد تفاجأت بأنه إنتاج 2021 في حين...\n",
              "47739                               كم سعر الرسوم ؟؟؟؟؟؟\n",
              "47740  لا استطيع ارسال القراءة وصورة العداد علي موقعك...\n",
              "\n",
              "[47741 rows x 1 columns]"
            ],
            "text/html": [
              "\n",
              "  <div id=\"df-bf55c5f5-9c6f-4f1c-9027-1d8a5569666f\" class=\"colab-df-container\">\n",
              "    <div>\n",
              "<style scoped>\n",
              "    .dataframe tbody tr th:only-of-type {\n",
              "        vertical-align: middle;\n",
              "    }\n",
              "\n",
              "    .dataframe tbody tr th {\n",
              "        vertical-align: top;\n",
              "    }\n",
              "\n",
              "    .dataframe thead th {\n",
              "        text-align: right;\n",
              "    }\n",
              "</style>\n",
              "<table border=\"1\" class=\"dataframe\">\n",
              "  <thead>\n",
              "    <tr style=\"text-align: right;\">\n",
              "      <th></th>\n",
              "      <th>text</th>\n",
              "    </tr>\n",
              "  </thead>\n",
              "  <tbody>\n",
              "    <tr>\n",
              "      <th>0</th>\n",
              "      <td>السلام عليكم\\nلدي طلب رقم 746855 لم تتغير حالت...</td>\n",
              "    </tr>\n",
              "    <tr>\n",
              "      <th>1</th>\n",
              "      <td>عدم الاستطاعة باضافة العقد الموثق</td>\n",
              "    </tr>\n",
              "    <tr>\n",
              "      <th>2</th>\n",
              "      <td>عدم استطاعتي بتعديل الطلب واضافة العقد الموثق</td>\n",
              "    </tr>\n",
              "    <tr>\n",
              "      <th>3</th>\n",
              "      <td>هناك حساب فقد لا نتزكر كلمة السر  الرقم القومى...</td>\n",
              "    </tr>\n",
              "    <tr>\n",
              "      <th>4</th>\n",
              "      <td>السلام عليكم الاول عملت طلب اتاخر كتير عملت طل...</td>\n",
              "    </tr>\n",
              "    <tr>\n",
              "      <th>...</th>\n",
              "      <td>...</td>\n",
              "    </tr>\n",
              "    <tr>\n",
              "      <th>47736</th>\n",
              "      <td>السلام عليكم\\nنظرا ا للظروف التي تحدث والانقطا...</td>\n",
              "    </tr>\n",
              "    <tr>\n",
              "      <th>47737</th>\n",
              "      <td>إلغاء الطلب رقم 3579676\\nلدواعي السفر وعدم الج...</td>\n",
              "    </tr>\n",
              "    <tr>\n",
              "      <th>47738</th>\n",
              "      <td>بعد تركيب العداد تفاجأت بأنه إنتاج 2021 في حين...</td>\n",
              "    </tr>\n",
              "    <tr>\n",
              "      <th>47739</th>\n",
              "      <td>كم سعر الرسوم ؟؟؟؟؟؟</td>\n",
              "    </tr>\n",
              "    <tr>\n",
              "      <th>47740</th>\n",
              "      <td>لا استطيع ارسال القراءة وصورة العداد علي موقعك...</td>\n",
              "    </tr>\n",
              "  </tbody>\n",
              "</table>\n",
              "<p>47741 rows × 1 columns</p>\n",
              "</div>\n",
              "    <div class=\"colab-df-buttons\">\n",
              "\n",
              "  <div class=\"colab-df-container\">\n",
              "    <button class=\"colab-df-convert\" onclick=\"convertToInteractive('df-bf55c5f5-9c6f-4f1c-9027-1d8a5569666f')\"\n",
              "            title=\"Convert this dataframe to an interactive table.\"\n",
              "            style=\"display:none;\">\n",
              "\n",
              "  <svg xmlns=\"http://www.w3.org/2000/svg\" height=\"24px\" viewBox=\"0 -960 960 960\">\n",
              "    <path d=\"M120-120v-720h720v720H120Zm60-500h600v-160H180v160Zm220 220h160v-160H400v160Zm0 220h160v-160H400v160ZM180-400h160v-160H180v160Zm440 0h160v-160H620v160ZM180-180h160v-160H180v160Zm440 0h160v-160H620v160Z\"/>\n",
              "  </svg>\n",
              "    </button>\n",
              "\n",
              "  <style>\n",
              "    .colab-df-container {\n",
              "      display:flex;\n",
              "      gap: 12px;\n",
              "    }\n",
              "\n",
              "    .colab-df-convert {\n",
              "      background-color: #E8F0FE;\n",
              "      border: none;\n",
              "      border-radius: 50%;\n",
              "      cursor: pointer;\n",
              "      display: none;\n",
              "      fill: #1967D2;\n",
              "      height: 32px;\n",
              "      padding: 0 0 0 0;\n",
              "      width: 32px;\n",
              "    }\n",
              "\n",
              "    .colab-df-convert:hover {\n",
              "      background-color: #E2EBFA;\n",
              "      box-shadow: 0px 1px 2px rgba(60, 64, 67, 0.3), 0px 1px 3px 1px rgba(60, 64, 67, 0.15);\n",
              "      fill: #174EA6;\n",
              "    }\n",
              "\n",
              "    .colab-df-buttons div {\n",
              "      margin-bottom: 4px;\n",
              "    }\n",
              "\n",
              "    [theme=dark] .colab-df-convert {\n",
              "      background-color: #3B4455;\n",
              "      fill: #D2E3FC;\n",
              "    }\n",
              "\n",
              "    [theme=dark] .colab-df-convert:hover {\n",
              "      background-color: #434B5C;\n",
              "      box-shadow: 0px 1px 3px 1px rgba(0, 0, 0, 0.15);\n",
              "      filter: drop-shadow(0px 1px 2px rgba(0, 0, 0, 0.3));\n",
              "      fill: #FFFFFF;\n",
              "    }\n",
              "  </style>\n",
              "\n",
              "    <script>\n",
              "      const buttonEl =\n",
              "        document.querySelector('#df-bf55c5f5-9c6f-4f1c-9027-1d8a5569666f button.colab-df-convert');\n",
              "      buttonEl.style.display =\n",
              "        google.colab.kernel.accessAllowed ? 'block' : 'none';\n",
              "\n",
              "      async function convertToInteractive(key) {\n",
              "        const element = document.querySelector('#df-bf55c5f5-9c6f-4f1c-9027-1d8a5569666f');\n",
              "        const dataTable =\n",
              "          await google.colab.kernel.invokeFunction('convertToInteractive',\n",
              "                                                    [key], {});\n",
              "        if (!dataTable) return;\n",
              "\n",
              "        const docLinkHtml = 'Like what you see? Visit the ' +\n",
              "          '<a target=\"_blank\" href=https://colab.research.google.com/notebooks/data_table.ipynb>data table notebook</a>'\n",
              "          + ' to learn more about interactive tables.';\n",
              "        element.innerHTML = '';\n",
              "        dataTable['output_type'] = 'display_data';\n",
              "        await google.colab.output.renderOutput(dataTable, element);\n",
              "        const docLink = document.createElement('div');\n",
              "        docLink.innerHTML = docLinkHtml;\n",
              "        element.appendChild(docLink);\n",
              "      }\n",
              "    </script>\n",
              "  </div>\n",
              "\n",
              "\n",
              "<div id=\"df-1f41f859-ff3d-4e86-8d8d-569081c77f55\">\n",
              "  <button class=\"colab-df-quickchart\" onclick=\"quickchart('df-1f41f859-ff3d-4e86-8d8d-569081c77f55')\"\n",
              "            title=\"Suggest charts\"\n",
              "            style=\"display:none;\">\n",
              "\n",
              "<svg xmlns=\"http://www.w3.org/2000/svg\" height=\"24px\"viewBox=\"0 0 24 24\"\n",
              "     width=\"24px\">\n",
              "    <g>\n",
              "        <path d=\"M19 3H5c-1.1 0-2 .9-2 2v14c0 1.1.9 2 2 2h14c1.1 0 2-.9 2-2V5c0-1.1-.9-2-2-2zM9 17H7v-7h2v7zm4 0h-2V7h2v10zm4 0h-2v-4h2v4z\"/>\n",
              "    </g>\n",
              "</svg>\n",
              "  </button>\n",
              "\n",
              "<style>\n",
              "  .colab-df-quickchart {\n",
              "      --bg-color: #E8F0FE;\n",
              "      --fill-color: #1967D2;\n",
              "      --hover-bg-color: #E2EBFA;\n",
              "      --hover-fill-color: #174EA6;\n",
              "      --disabled-fill-color: #AAA;\n",
              "      --disabled-bg-color: #DDD;\n",
              "  }\n",
              "\n",
              "  [theme=dark] .colab-df-quickchart {\n",
              "      --bg-color: #3B4455;\n",
              "      --fill-color: #D2E3FC;\n",
              "      --hover-bg-color: #434B5C;\n",
              "      --hover-fill-color: #FFFFFF;\n",
              "      --disabled-bg-color: #3B4455;\n",
              "      --disabled-fill-color: #666;\n",
              "  }\n",
              "\n",
              "  .colab-df-quickchart {\n",
              "    background-color: var(--bg-color);\n",
              "    border: none;\n",
              "    border-radius: 50%;\n",
              "    cursor: pointer;\n",
              "    display: none;\n",
              "    fill: var(--fill-color);\n",
              "    height: 32px;\n",
              "    padding: 0;\n",
              "    width: 32px;\n",
              "  }\n",
              "\n",
              "  .colab-df-quickchart:hover {\n",
              "    background-color: var(--hover-bg-color);\n",
              "    box-shadow: 0 1px 2px rgba(60, 64, 67, 0.3), 0 1px 3px 1px rgba(60, 64, 67, 0.15);\n",
              "    fill: var(--button-hover-fill-color);\n",
              "  }\n",
              "\n",
              "  .colab-df-quickchart-complete:disabled,\n",
              "  .colab-df-quickchart-complete:disabled:hover {\n",
              "    background-color: var(--disabled-bg-color);\n",
              "    fill: var(--disabled-fill-color);\n",
              "    box-shadow: none;\n",
              "  }\n",
              "\n",
              "  .colab-df-spinner {\n",
              "    border: 2px solid var(--fill-color);\n",
              "    border-color: transparent;\n",
              "    border-bottom-color: var(--fill-color);\n",
              "    animation:\n",
              "      spin 1s steps(1) infinite;\n",
              "  }\n",
              "\n",
              "  @keyframes spin {\n",
              "    0% {\n",
              "      border-color: transparent;\n",
              "      border-bottom-color: var(--fill-color);\n",
              "      border-left-color: var(--fill-color);\n",
              "    }\n",
              "    20% {\n",
              "      border-color: transparent;\n",
              "      border-left-color: var(--fill-color);\n",
              "      border-top-color: var(--fill-color);\n",
              "    }\n",
              "    30% {\n",
              "      border-color: transparent;\n",
              "      border-left-color: var(--fill-color);\n",
              "      border-top-color: var(--fill-color);\n",
              "      border-right-color: var(--fill-color);\n",
              "    }\n",
              "    40% {\n",
              "      border-color: transparent;\n",
              "      border-right-color: var(--fill-color);\n",
              "      border-top-color: var(--fill-color);\n",
              "    }\n",
              "    60% {\n",
              "      border-color: transparent;\n",
              "      border-right-color: var(--fill-color);\n",
              "    }\n",
              "    80% {\n",
              "      border-color: transparent;\n",
              "      border-right-color: var(--fill-color);\n",
              "      border-bottom-color: var(--fill-color);\n",
              "    }\n",
              "    90% {\n",
              "      border-color: transparent;\n",
              "      border-bottom-color: var(--fill-color);\n",
              "    }\n",
              "  }\n",
              "</style>\n",
              "\n",
              "  <script>\n",
              "    async function quickchart(key) {\n",
              "      const quickchartButtonEl =\n",
              "        document.querySelector('#' + key + ' button');\n",
              "      quickchartButtonEl.disabled = true;  // To prevent multiple clicks.\n",
              "      quickchartButtonEl.classList.add('colab-df-spinner');\n",
              "      try {\n",
              "        const charts = await google.colab.kernel.invokeFunction(\n",
              "            'suggestCharts', [key], {});\n",
              "      } catch (error) {\n",
              "        console.error('Error during call to suggestCharts:', error);\n",
              "      }\n",
              "      quickchartButtonEl.classList.remove('colab-df-spinner');\n",
              "      quickchartButtonEl.classList.add('colab-df-quickchart-complete');\n",
              "    }\n",
              "    (() => {\n",
              "      let quickchartButtonEl =\n",
              "        document.querySelector('#df-1f41f859-ff3d-4e86-8d8d-569081c77f55 button');\n",
              "      quickchartButtonEl.style.display =\n",
              "        google.colab.kernel.accessAllowed ? 'block' : 'none';\n",
              "    })();\n",
              "  </script>\n",
              "</div>\n",
              "    </div>\n",
              "  </div>\n"
            ]
          },
          "metadata": {},
          "execution_count": 14
        }
      ],
      "id": "Si6oXjsrrXT0"
    },
    {
      "cell_type": "code",
      "source": [
        "len(data)"
      ],
      "metadata": {
        "id": "lA344xQYsNnQ",
        "colab": {
          "base_uri": "https://localhost:8080/"
        },
        "outputId": "05af6b79-6553-4682-9019-7519baa0acc0"
      },
      "execution_count": 15,
      "outputs": [
        {
          "output_type": "execute_result",
          "data": {
            "text/plain": [
              "47741"
            ]
          },
          "metadata": {},
          "execution_count": 15
        }
      ],
      "id": "lA344xQYsNnQ"
    },
    {
      "cell_type": "markdown",
      "source": [
        "# Data Pre-processing\n",
        "Our goal in the data pre-processing stage is to convert sentences into words, convert words to\n",
        "their root and removing words that are too common or too irrelevant to the purpose of our\n",
        "topic modeling project,We used the following techniques to reach our goal:\n",
        "\n",
        "\n",
        "- Tokenization: Split the text into sentences and the sentences into words. Lowercase the words and remove punctuation.\n",
        "- Words that have fewer than 3 characters are removed.\n",
        "- All stopwords are removed.\n",
        "- Words are lemmatized and stemmed — words in the third person are changed to first person and verbs in past and future tenses are changed into the present and are reduced to their root form."
      ],
      "metadata": {
        "id": "qPXv-uOPtZPy"
      },
      "id": "qPXv-uOPtZPy"
    },
    {
      "cell_type": "markdown",
      "source": [
        "## Removing punctuation"
      ],
      "metadata": {
        "id": "_a2WBApqtsKJ"
      },
      "id": "_a2WBApqtsKJ"
    },
    {
      "cell_type": "code",
      "source": [
        "data['text'][TXT_INDX] #1000"
      ],
      "metadata": {
        "id": "WzoNZhoWtULp",
        "colab": {
          "base_uri": "https://localhost:8080/",
          "height": 109
        },
        "outputId": "2881ddf5-1054-4dcd-af5d-c3661bd219e4"
      },
      "execution_count": 16,
      "outputs": [
        {
          "output_type": "execute_result",
          "data": {
            "text/plain": [
              "'بعد السلام عليكم \\nتلقيت مكالمة من أحد موظفى الشركة الكرام للسؤال عن وجودى بمقر إقامتى لإجراء المقايسة اللازمة وتوجهت لمقر الشقة المطلوب تركيب العداد بها حيث أنى غير مقيم فى هذا المكان أغلب الوقت .\\nفوجئت بالموظف المذكور عند معاودة اتصالة به بأن الشقة المطلوب تركيب عداد بها لا ينطبق عليها الشروط وأنه لابد من الإنتهاء من واجهة العقار وكذا التشطيبات مع تأكيدى له بأن وقف إجراء تلك التشطيبات قرار دولة وليس لى كمالك للوحدة داخل العقار محل الدراسة .\\nلذا أرجو الإفادة وسرعة عمل المقايسة المطلوبة وتركيب العداد لأنه ليس من العدل أن أسدد ما يقرب من 500 جنيه شهرياً لمكان لا أقيم به .\\nوتجدون سيادتكم مرفقاً مع هذا صورة من آخر سداد للممارسة .\\nمع وافر الشكر والتقدير \\nرضا شحات على خطاب'"
            ],
            "application/vnd.google.colaboratory.intrinsic+json": {
              "type": "string"
            }
          },
          "metadata": {},
          "execution_count": 16
        }
      ],
      "id": "WzoNZhoWtULp"
    },
    {
      "cell_type": "code",
      "source": [
        "\n",
        "data['text'] = data['text'].map(lambda x: x.replace(\"#\", \" \").replace(\"_\", \" \").replace(\"|\", \" \").replace(\"؟\", \"\").replace(\"!\", \" \")\n",
        "                                          .replace('\\\"', \" \").replace(';', \"\").replace(':', \"\").replace('(', \"\").replace(')', \"\")\n",
        "                                          .replace('،', \" \").replace('-', \" \").replace('…', \"\").replace('\\n', \"\").replace('.', \"\"))"
      ],
      "metadata": {
        "id": "NP3Bk3kIyybq"
      },
      "execution_count": 17,
      "outputs": [],
      "id": "NP3Bk3kIyybq"
    },
    {
      "cell_type": "code",
      "source": [
        "data['text'][TXT_INDX]"
      ],
      "metadata": {
        "id": "B8wXQzftzUol",
        "colab": {
          "base_uri": "https://localhost:8080/",
          "height": 109
        },
        "outputId": "47b788c1-db49-4e44-a7d3-a71e188ba075"
      },
      "execution_count": 18,
      "outputs": [
        {
          "output_type": "execute_result",
          "data": {
            "text/plain": [
              "'بعد السلام عليكم تلقيت مكالمة من أحد موظفى الشركة الكرام للسؤال عن وجودى بمقر إقامتى لإجراء المقايسة اللازمة وتوجهت لمقر الشقة المطلوب تركيب العداد بها حيث أنى غير مقيم فى هذا المكان أغلب الوقت فوجئت بالموظف المذكور عند معاودة اتصالة به بأن الشقة المطلوب تركيب عداد بها لا ينطبق عليها الشروط وأنه لابد من الإنتهاء من واجهة العقار وكذا التشطيبات مع تأكيدى له بأن وقف إجراء تلك التشطيبات قرار دولة وليس لى كمالك للوحدة داخل العقار محل الدراسة لذا أرجو الإفادة وسرعة عمل المقايسة المطلوبة وتركيب العداد لأنه ليس من العدل أن أسدد ما يقرب من 500 جنيه شهرياً لمكان لا أقيم به وتجدون سيادتكم مرفقاً مع هذا صورة من آخر سداد للممارسة مع وافر الشكر والتقدير رضا شحات على خطاب'"
            ],
            "application/vnd.google.colaboratory.intrinsic+json": {
              "type": "string"
            }
          },
          "metadata": {},
          "execution_count": 18
        }
      ],
      "id": "B8wXQzftzUol"
    },
    {
      "cell_type": "markdown",
      "source": [
        "## Remove StopWords"
      ],
      "metadata": {
        "id": "XOwYIq7vzvMS"
      },
      "id": "XOwYIq7vzvMS"
    },
    {
      "cell_type": "code",
      "source": [
        "nltk.download('stopwords')"
      ],
      "metadata": {
        "id": "g0cu6A1VzbMv",
        "colab": {
          "base_uri": "https://localhost:8080/"
        },
        "outputId": "bd45904a-a8e4-43ea-e45c-e31560f70255"
      },
      "execution_count": 19,
      "outputs": [
        {
          "output_type": "stream",
          "name": "stderr",
          "text": [
            "[nltk_data] Downloading package stopwords to /root/nltk_data...\n",
            "[nltk_data]   Unzipping corpora/stopwords.zip.\n"
          ]
        },
        {
          "output_type": "execute_result",
          "data": {
            "text/plain": [
              "True"
            ]
          },
          "metadata": {},
          "execution_count": 19
        }
      ],
      "id": "g0cu6A1VzbMv"
    },
    {
      "cell_type": "code",
      "source": [
        "# let's check if nltk contains stopwords for arabic datasets\n",
        "stopwords.fileids()"
      ],
      "metadata": {
        "id": "vAlhR9e1zzu1",
        "colab": {
          "base_uri": "https://localhost:8080/"
        },
        "outputId": "30148f01-3079-4410-e2fa-d9d8ea0bfc1a"
      },
      "execution_count": 20,
      "outputs": [
        {
          "output_type": "execute_result",
          "data": {
            "text/plain": [
              "['arabic',\n",
              " 'azerbaijani',\n",
              " 'basque',\n",
              " 'bengali',\n",
              " 'catalan',\n",
              " 'chinese',\n",
              " 'danish',\n",
              " 'dutch',\n",
              " 'english',\n",
              " 'finnish',\n",
              " 'french',\n",
              " 'german',\n",
              " 'greek',\n",
              " 'hebrew',\n",
              " 'hinglish',\n",
              " 'hungarian',\n",
              " 'indonesian',\n",
              " 'italian',\n",
              " 'kazakh',\n",
              " 'nepali',\n",
              " 'norwegian',\n",
              " 'portuguese',\n",
              " 'romanian',\n",
              " 'russian',\n",
              " 'slovene',\n",
              " 'spanish',\n",
              " 'swedish',\n",
              " 'tajik',\n",
              " 'turkish']"
            ]
          },
          "metadata": {},
          "execution_count": 20
        }
      ],
      "id": "vAlhR9e1zzu1"
    },
    {
      "cell_type": "code",
      "source": [
        "stopwords_list = stopwords.words('arabic')\n",
        "print(stopwords_list)"
      ],
      "metadata": {
        "id": "LQpy4FVXz2Jn",
        "colab": {
          "base_uri": "https://localhost:8080/"
        },
        "outputId": "e80e8478-0898-466e-d1de-a5ae16998682"
      },
      "execution_count": 21,
      "outputs": [
        {
          "output_type": "stream",
          "name": "stdout",
          "text": [
            "['إذ', 'إذا', 'إذما', 'إذن', 'أف', 'أقل', 'أكثر', 'ألا', 'إلا', 'التي', 'الذي', 'الذين', 'اللاتي', 'اللائي', 'اللتان', 'اللتيا', 'اللتين', 'اللذان', 'اللذين', 'اللواتي', 'إلى', 'إليك', 'إليكم', 'إليكما', 'إليكن', 'أم', 'أما', 'أما', 'إما', 'أن', 'إن', 'إنا', 'أنا', 'أنت', 'أنتم', 'أنتما', 'أنتن', 'إنما', 'إنه', 'أنى', 'أنى', 'آه', 'آها', 'أو', 'أولاء', 'أولئك', 'أوه', 'آي', 'أي', 'أيها', 'إي', 'أين', 'أين', 'أينما', 'إيه', 'بخ', 'بس', 'بعد', 'بعض', 'بك', 'بكم', 'بكم', 'بكما', 'بكن', 'بل', 'بلى', 'بما', 'بماذا', 'بمن', 'بنا', 'به', 'بها', 'بهم', 'بهما', 'بهن', 'بي', 'بين', 'بيد', 'تلك', 'تلكم', 'تلكما', 'ته', 'تي', 'تين', 'تينك', 'ثم', 'ثمة', 'حاشا', 'حبذا', 'حتى', 'حيث', 'حيثما', 'حين', 'خلا', 'دون', 'ذا', 'ذات', 'ذاك', 'ذان', 'ذانك', 'ذلك', 'ذلكم', 'ذلكما', 'ذلكن', 'ذه', 'ذو', 'ذوا', 'ذواتا', 'ذواتي', 'ذي', 'ذين', 'ذينك', 'ريث', 'سوف', 'سوى', 'شتان', 'عدا', 'عسى', 'عل', 'على', 'عليك', 'عليه', 'عما', 'عن', 'عند', 'غير', 'فإذا', 'فإن', 'فلا', 'فمن', 'في', 'فيم', 'فيما', 'فيه', 'فيها', 'قد', 'كأن', 'كأنما', 'كأي', 'كأين', 'كذا', 'كذلك', 'كل', 'كلا', 'كلاهما', 'كلتا', 'كلما', 'كليكما', 'كليهما', 'كم', 'كم', 'كما', 'كي', 'كيت', 'كيف', 'كيفما', 'لا', 'لاسيما', 'لدى', 'لست', 'لستم', 'لستما', 'لستن', 'لسن', 'لسنا', 'لعل', 'لك', 'لكم', 'لكما', 'لكن', 'لكنما', 'لكي', 'لكيلا', 'لم', 'لما', 'لن', 'لنا', 'له', 'لها', 'لهم', 'لهما', 'لهن', 'لو', 'لولا', 'لوما', 'لي', 'لئن', 'ليت', 'ليس', 'ليسا', 'ليست', 'ليستا', 'ليسوا', 'ما', 'ماذا', 'متى', 'مذ', 'مع', 'مما', 'ممن', 'من', 'منه', 'منها', 'منذ', 'مه', 'مهما', 'نحن', 'نحو', 'نعم', 'ها', 'هاتان', 'هاته', 'هاتي', 'هاتين', 'هاك', 'هاهنا', 'هذا', 'هذان', 'هذه', 'هذي', 'هذين', 'هكذا', 'هل', 'هلا', 'هم', 'هما', 'هن', 'هنا', 'هناك', 'هنالك', 'هو', 'هؤلاء', 'هي', 'هيا', 'هيت', 'هيهات', 'والذي', 'والذين', 'وإذ', 'وإذا', 'وإن', 'ولا', 'ولكن', 'ولو', 'وما', 'ومن', 'وهو', 'يا', 'أبٌ', 'أخٌ', 'حمٌ', 'فو', 'أنتِ', 'يناير', 'فبراير', 'مارس', 'أبريل', 'مايو', 'يونيو', 'يوليو', 'أغسطس', 'سبتمبر', 'أكتوبر', 'نوفمبر', 'ديسمبر', 'جانفي', 'فيفري', 'مارس', 'أفريل', 'ماي', 'جوان', 'جويلية', 'أوت', 'كانون', 'شباط', 'آذار', 'نيسان', 'أيار', 'حزيران', 'تموز', 'آب', 'أيلول', 'تشرين', 'دولار', 'دينار', 'ريال', 'درهم', 'ليرة', 'جنيه', 'قرش', 'مليم', 'فلس', 'هللة', 'سنتيم', 'يورو', 'ين', 'يوان', 'شيكل', 'واحد', 'اثنان', 'ثلاثة', 'أربعة', 'خمسة', 'ستة', 'سبعة', 'ثمانية', 'تسعة', 'عشرة', 'أحد', 'اثنا', 'اثني', 'إحدى', 'ثلاث', 'أربع', 'خمس', 'ست', 'سبع', 'ثماني', 'تسع', 'عشر', 'ثمان', 'سبت', 'أحد', 'اثنين', 'ثلاثاء', 'أربعاء', 'خميس', 'جمعة', 'أول', 'ثان', 'ثاني', 'ثالث', 'رابع', 'خامس', 'سادس', 'سابع', 'ثامن', 'تاسع', 'عاشر', 'حادي', 'أ', 'ب', 'ت', 'ث', 'ج', 'ح', 'خ', 'د', 'ذ', 'ر', 'ز', 'س', 'ش', 'ص', 'ض', 'ط', 'ظ', 'ع', 'غ', 'ف', 'ق', 'ك', 'ل', 'م', 'ن', 'ه', 'و', 'ي', 'ء', 'ى', 'آ', 'ؤ', 'ئ', 'أ', 'ة', 'ألف', 'باء', 'تاء', 'ثاء', 'جيم', 'حاء', 'خاء', 'دال', 'ذال', 'راء', 'زاي', 'سين', 'شين', 'صاد', 'ضاد', 'طاء', 'ظاء', 'عين', 'غين', 'فاء', 'قاف', 'كاف', 'لام', 'ميم', 'نون', 'هاء', 'واو', 'ياء', 'همزة', 'ي', 'نا', 'ك', 'كن', 'ه', 'إياه', 'إياها', 'إياهما', 'إياهم', 'إياهن', 'إياك', 'إياكما', 'إياكم', 'إياك', 'إياكن', 'إياي', 'إيانا', 'أولالك', 'تانِ', 'تانِك', 'تِه', 'تِي', 'تَيْنِ', 'ثمّ', 'ثمّة', 'ذانِ', 'ذِه', 'ذِي', 'ذَيْنِ', 'هَؤلاء', 'هَاتانِ', 'هَاتِه', 'هَاتِي', 'هَاتَيْنِ', 'هَذا', 'هَذانِ', 'هَذِه', 'هَذِي', 'هَذَيْنِ', 'الألى', 'الألاء', 'أل', 'أنّى', 'أيّ', 'ّأيّان', 'أنّى', 'أيّ', 'ّأيّان', 'ذيت', 'كأيّ', 'كأيّن', 'بضع', 'فلان', 'وا', 'آمينَ', 'آهِ', 'آهٍ', 'آهاً', 'أُفٍّ', 'أُفٍّ', 'أفٍّ', 'أمامك', 'أمامكَ', 'أوّهْ', 'إلَيْكَ', 'إلَيْكَ', 'إليكَ', 'إليكنّ', 'إيهٍ', 'بخٍ', 'بسّ', 'بَسْ', 'بطآن', 'بَلْهَ', 'حاي', 'حَذارِ', 'حيَّ', 'حيَّ', 'دونك', 'رويدك', 'سرعان', 'شتانَ', 'شَتَّانَ', 'صهْ', 'صهٍ', 'طاق', 'طَق', 'عَدَسْ', 'كِخ', 'مكانَك', 'مكانَك', 'مكانَك', 'مكانكم', 'مكانكما', 'مكانكنّ', 'نَخْ', 'هاكَ', 'هَجْ', 'هلم', 'هيّا', 'هَيْهات', 'وا', 'واهاً', 'وراءَك', 'وُشْكَانَ', 'وَيْ', 'يفعلان', 'تفعلان', 'يفعلون', 'تفعلون', 'تفعلين', 'اتخذ', 'ألفى', 'تخذ', 'ترك', 'تعلَّم', 'جعل', 'حجا', 'حبيب', 'خال', 'حسب', 'خال', 'درى', 'رأى', 'زعم', 'صبر', 'ظنَّ', 'عدَّ', 'علم', 'غادر', 'ذهب', 'وجد', 'ورد', 'وهب', 'أسكن', 'أطعم', 'أعطى', 'رزق', 'زود', 'سقى', 'كسا', 'أخبر', 'أرى', 'أعلم', 'أنبأ', 'حدَث', 'خبَّر', 'نبَّا', 'أفعل به', 'ما أفعله', 'بئس', 'ساء', 'طالما', 'قلما', 'لات', 'لكنَّ', 'ءَ', 'أجل', 'إذاً', 'أمّا', 'إمّا', 'إنَّ', 'أنًّ', 'أى', 'إى', 'أيا', 'ب', 'ثمَّ', 'جلل', 'جير', 'رُبَّ', 'س', 'علًّ', 'ف', 'كأنّ', 'كلَّا', 'كى', 'ل', 'لات', 'لعلَّ', 'لكنَّ', 'لكنَّ', 'م', 'نَّ', 'هلّا', 'وا', 'أل', 'إلّا', 'ت', 'ك', 'لمّا', 'ن', 'ه', 'و', 'ا', 'ي', 'تجاه', 'تلقاء', 'جميع', 'حسب', 'سبحان', 'شبه', 'لعمر', 'مثل', 'معاذ', 'أبو', 'أخو', 'حمو', 'فو', 'مئة', 'مئتان', 'ثلاثمئة', 'أربعمئة', 'خمسمئة', 'ستمئة', 'سبعمئة', 'ثمنمئة', 'تسعمئة', 'مائة', 'ثلاثمائة', 'أربعمائة', 'خمسمائة', 'ستمائة', 'سبعمائة', 'ثمانمئة', 'تسعمائة', 'عشرون', 'ثلاثون', 'اربعون', 'خمسون', 'ستون', 'سبعون', 'ثمانون', 'تسعون', 'عشرين', 'ثلاثين', 'اربعين', 'خمسين', 'ستين', 'سبعين', 'ثمانين', 'تسعين', 'بضع', 'نيف', 'أجمع', 'جميع', 'عامة', 'عين', 'نفس', 'لا سيما', 'أصلا', 'أهلا', 'أيضا', 'بؤسا', 'بعدا', 'بغتة', 'تعسا', 'حقا', 'حمدا', 'خلافا', 'خاصة', 'دواليك', 'سحقا', 'سرا', 'سمعا', 'صبرا', 'صدقا', 'صراحة', 'طرا', 'عجبا', 'عيانا', 'غالبا', 'فرادى', 'فضلا', 'قاطبة', 'كثيرا', 'لبيك', 'معاذ', 'أبدا', 'إزاء', 'أصلا', 'الآن', 'أمد', 'أمس', 'آنفا', 'آناء', 'أنّى', 'أول', 'أيّان', 'تارة', 'ثمّ', 'ثمّة', 'حقا', 'صباح', 'مساء', 'ضحوة', 'عوض', 'غدا', 'غداة', 'قطّ', 'كلّما', 'لدن', 'لمّا', 'مرّة', 'قبل', 'خلف', 'أمام', 'فوق', 'تحت', 'يمين', 'شمال', 'ارتدّ', 'استحال', 'أصبح', 'أضحى', 'آض', 'أمسى', 'انقلب', 'بات', 'تبدّل', 'تحوّل', 'حار', 'رجع', 'راح', 'صار', 'ظلّ', 'عاد', 'غدا', 'كان', 'ما انفك', 'ما برح', 'مادام', 'مازال', 'مافتئ', 'ابتدأ', 'أخذ', 'اخلولق', 'أقبل', 'انبرى', 'أنشأ', 'أوشك', 'جعل', 'حرى', 'شرع', 'طفق', 'علق', 'قام', 'كرب', 'كاد', 'هبّ']\n"
          ]
        }
      ],
      "id": "LQpy4FVXz2Jn"
    },
    {
      "cell_type": "code",
      "source": [
        "data['text'] = data['text'].apply(lambda x: ' '.join([word for word in x.split() if word not in (stopwords_list)]))\n",
        "data"
      ],
      "metadata": {
        "id": "P6ylJY7iz5za",
        "colab": {
          "base_uri": "https://localhost:8080/",
          "height": 423
        },
        "outputId": "2c4dbc78-587c-4336-cda2-2b3af5e74fb1"
      },
      "execution_count": 22,
      "outputs": [
        {
          "output_type": "execute_result",
          "data": {
            "text/plain": [
              "            ID                                               text\n",
              "0       7628.0  السلام عليكملدي طلب رقم 746855 تتغير حالته 14 ...\n",
              "1       7768.0                  عدم الاستطاعة باضافة العقد الموثق\n",
              "2       7771.0      عدم استطاعتي بتعديل الطلب واضافة العقد الموثق\n",
              "3       7796.0  حساب فقد نتزكر كلمة السر الرقم القومى الخاص با...\n",
              "4       7830.0  السلام عليكم الاول عملت طلب اتاخر كتير عملت طل...\n",
              "...        ...                                                ...\n",
              "47736  51684.0  السلام عليكمنظرا للظروف تحدث والانقطاع المستمر...\n",
              "47737  51631.0  إلغاء الطلب رقم 3579676لدواعي السفر وعدم الجاه...\n",
              "47738  51659.0  تركيب العداد تفاجأت بأنه إنتاج 2021 جارى ركب ع...\n",
              "47739  51701.0                                         سعر الرسوم\n",
              "47740  51733.0  استطيع ارسال القراءة وصورة العداد علي موقعكم ر...\n",
              "\n",
              "[47741 rows x 2 columns]"
            ],
            "text/html": [
              "\n",
              "  <div id=\"df-1ee8acfc-aa46-41ae-b248-1bb8981490df\" class=\"colab-df-container\">\n",
              "    <div>\n",
              "<style scoped>\n",
              "    .dataframe tbody tr th:only-of-type {\n",
              "        vertical-align: middle;\n",
              "    }\n",
              "\n",
              "    .dataframe tbody tr th {\n",
              "        vertical-align: top;\n",
              "    }\n",
              "\n",
              "    .dataframe thead th {\n",
              "        text-align: right;\n",
              "    }\n",
              "</style>\n",
              "<table border=\"1\" class=\"dataframe\">\n",
              "  <thead>\n",
              "    <tr style=\"text-align: right;\">\n",
              "      <th></th>\n",
              "      <th>ID</th>\n",
              "      <th>text</th>\n",
              "    </tr>\n",
              "  </thead>\n",
              "  <tbody>\n",
              "    <tr>\n",
              "      <th>0</th>\n",
              "      <td>7628.0</td>\n",
              "      <td>السلام عليكملدي طلب رقم 746855 تتغير حالته 14 ...</td>\n",
              "    </tr>\n",
              "    <tr>\n",
              "      <th>1</th>\n",
              "      <td>7768.0</td>\n",
              "      <td>عدم الاستطاعة باضافة العقد الموثق</td>\n",
              "    </tr>\n",
              "    <tr>\n",
              "      <th>2</th>\n",
              "      <td>7771.0</td>\n",
              "      <td>عدم استطاعتي بتعديل الطلب واضافة العقد الموثق</td>\n",
              "    </tr>\n",
              "    <tr>\n",
              "      <th>3</th>\n",
              "      <td>7796.0</td>\n",
              "      <td>حساب فقد نتزكر كلمة السر الرقم القومى الخاص با...</td>\n",
              "    </tr>\n",
              "    <tr>\n",
              "      <th>4</th>\n",
              "      <td>7830.0</td>\n",
              "      <td>السلام عليكم الاول عملت طلب اتاخر كتير عملت طل...</td>\n",
              "    </tr>\n",
              "    <tr>\n",
              "      <th>...</th>\n",
              "      <td>...</td>\n",
              "      <td>...</td>\n",
              "    </tr>\n",
              "    <tr>\n",
              "      <th>47736</th>\n",
              "      <td>51684.0</td>\n",
              "      <td>السلام عليكمنظرا للظروف تحدث والانقطاع المستمر...</td>\n",
              "    </tr>\n",
              "    <tr>\n",
              "      <th>47737</th>\n",
              "      <td>51631.0</td>\n",
              "      <td>إلغاء الطلب رقم 3579676لدواعي السفر وعدم الجاه...</td>\n",
              "    </tr>\n",
              "    <tr>\n",
              "      <th>47738</th>\n",
              "      <td>51659.0</td>\n",
              "      <td>تركيب العداد تفاجأت بأنه إنتاج 2021 جارى ركب ع...</td>\n",
              "    </tr>\n",
              "    <tr>\n",
              "      <th>47739</th>\n",
              "      <td>51701.0</td>\n",
              "      <td>سعر الرسوم</td>\n",
              "    </tr>\n",
              "    <tr>\n",
              "      <th>47740</th>\n",
              "      <td>51733.0</td>\n",
              "      <td>استطيع ارسال القراءة وصورة العداد علي موقعكم ر...</td>\n",
              "    </tr>\n",
              "  </tbody>\n",
              "</table>\n",
              "<p>47741 rows × 2 columns</p>\n",
              "</div>\n",
              "    <div class=\"colab-df-buttons\">\n",
              "\n",
              "  <div class=\"colab-df-container\">\n",
              "    <button class=\"colab-df-convert\" onclick=\"convertToInteractive('df-1ee8acfc-aa46-41ae-b248-1bb8981490df')\"\n",
              "            title=\"Convert this dataframe to an interactive table.\"\n",
              "            style=\"display:none;\">\n",
              "\n",
              "  <svg xmlns=\"http://www.w3.org/2000/svg\" height=\"24px\" viewBox=\"0 -960 960 960\">\n",
              "    <path d=\"M120-120v-720h720v720H120Zm60-500h600v-160H180v160Zm220 220h160v-160H400v160Zm0 220h160v-160H400v160ZM180-400h160v-160H180v160Zm440 0h160v-160H620v160ZM180-180h160v-160H180v160Zm440 0h160v-160H620v160Z\"/>\n",
              "  </svg>\n",
              "    </button>\n",
              "\n",
              "  <style>\n",
              "    .colab-df-container {\n",
              "      display:flex;\n",
              "      gap: 12px;\n",
              "    }\n",
              "\n",
              "    .colab-df-convert {\n",
              "      background-color: #E8F0FE;\n",
              "      border: none;\n",
              "      border-radius: 50%;\n",
              "      cursor: pointer;\n",
              "      display: none;\n",
              "      fill: #1967D2;\n",
              "      height: 32px;\n",
              "      padding: 0 0 0 0;\n",
              "      width: 32px;\n",
              "    }\n",
              "\n",
              "    .colab-df-convert:hover {\n",
              "      background-color: #E2EBFA;\n",
              "      box-shadow: 0px 1px 2px rgba(60, 64, 67, 0.3), 0px 1px 3px 1px rgba(60, 64, 67, 0.15);\n",
              "      fill: #174EA6;\n",
              "    }\n",
              "\n",
              "    .colab-df-buttons div {\n",
              "      margin-bottom: 4px;\n",
              "    }\n",
              "\n",
              "    [theme=dark] .colab-df-convert {\n",
              "      background-color: #3B4455;\n",
              "      fill: #D2E3FC;\n",
              "    }\n",
              "\n",
              "    [theme=dark] .colab-df-convert:hover {\n",
              "      background-color: #434B5C;\n",
              "      box-shadow: 0px 1px 3px 1px rgba(0, 0, 0, 0.15);\n",
              "      filter: drop-shadow(0px 1px 2px rgba(0, 0, 0, 0.3));\n",
              "      fill: #FFFFFF;\n",
              "    }\n",
              "  </style>\n",
              "\n",
              "    <script>\n",
              "      const buttonEl =\n",
              "        document.querySelector('#df-1ee8acfc-aa46-41ae-b248-1bb8981490df button.colab-df-convert');\n",
              "      buttonEl.style.display =\n",
              "        google.colab.kernel.accessAllowed ? 'block' : 'none';\n",
              "\n",
              "      async function convertToInteractive(key) {\n",
              "        const element = document.querySelector('#df-1ee8acfc-aa46-41ae-b248-1bb8981490df');\n",
              "        const dataTable =\n",
              "          await google.colab.kernel.invokeFunction('convertToInteractive',\n",
              "                                                    [key], {});\n",
              "        if (!dataTable) return;\n",
              "\n",
              "        const docLinkHtml = 'Like what you see? Visit the ' +\n",
              "          '<a target=\"_blank\" href=https://colab.research.google.com/notebooks/data_table.ipynb>data table notebook</a>'\n",
              "          + ' to learn more about interactive tables.';\n",
              "        element.innerHTML = '';\n",
              "        dataTable['output_type'] = 'display_data';\n",
              "        await google.colab.output.renderOutput(dataTable, element);\n",
              "        const docLink = document.createElement('div');\n",
              "        docLink.innerHTML = docLinkHtml;\n",
              "        element.appendChild(docLink);\n",
              "      }\n",
              "    </script>\n",
              "  </div>\n",
              "\n",
              "\n",
              "<div id=\"df-3996caf0-c2a3-44b9-a434-451a1ed31a97\">\n",
              "  <button class=\"colab-df-quickchart\" onclick=\"quickchart('df-3996caf0-c2a3-44b9-a434-451a1ed31a97')\"\n",
              "            title=\"Suggest charts\"\n",
              "            style=\"display:none;\">\n",
              "\n",
              "<svg xmlns=\"http://www.w3.org/2000/svg\" height=\"24px\"viewBox=\"0 0 24 24\"\n",
              "     width=\"24px\">\n",
              "    <g>\n",
              "        <path d=\"M19 3H5c-1.1 0-2 .9-2 2v14c0 1.1.9 2 2 2h14c1.1 0 2-.9 2-2V5c0-1.1-.9-2-2-2zM9 17H7v-7h2v7zm4 0h-2V7h2v10zm4 0h-2v-4h2v4z\"/>\n",
              "    </g>\n",
              "</svg>\n",
              "  </button>\n",
              "\n",
              "<style>\n",
              "  .colab-df-quickchart {\n",
              "      --bg-color: #E8F0FE;\n",
              "      --fill-color: #1967D2;\n",
              "      --hover-bg-color: #E2EBFA;\n",
              "      --hover-fill-color: #174EA6;\n",
              "      --disabled-fill-color: #AAA;\n",
              "      --disabled-bg-color: #DDD;\n",
              "  }\n",
              "\n",
              "  [theme=dark] .colab-df-quickchart {\n",
              "      --bg-color: #3B4455;\n",
              "      --fill-color: #D2E3FC;\n",
              "      --hover-bg-color: #434B5C;\n",
              "      --hover-fill-color: #FFFFFF;\n",
              "      --disabled-bg-color: #3B4455;\n",
              "      --disabled-fill-color: #666;\n",
              "  }\n",
              "\n",
              "  .colab-df-quickchart {\n",
              "    background-color: var(--bg-color);\n",
              "    border: none;\n",
              "    border-radius: 50%;\n",
              "    cursor: pointer;\n",
              "    display: none;\n",
              "    fill: var(--fill-color);\n",
              "    height: 32px;\n",
              "    padding: 0;\n",
              "    width: 32px;\n",
              "  }\n",
              "\n",
              "  .colab-df-quickchart:hover {\n",
              "    background-color: var(--hover-bg-color);\n",
              "    box-shadow: 0 1px 2px rgba(60, 64, 67, 0.3), 0 1px 3px 1px rgba(60, 64, 67, 0.15);\n",
              "    fill: var(--button-hover-fill-color);\n",
              "  }\n",
              "\n",
              "  .colab-df-quickchart-complete:disabled,\n",
              "  .colab-df-quickchart-complete:disabled:hover {\n",
              "    background-color: var(--disabled-bg-color);\n",
              "    fill: var(--disabled-fill-color);\n",
              "    box-shadow: none;\n",
              "  }\n",
              "\n",
              "  .colab-df-spinner {\n",
              "    border: 2px solid var(--fill-color);\n",
              "    border-color: transparent;\n",
              "    border-bottom-color: var(--fill-color);\n",
              "    animation:\n",
              "      spin 1s steps(1) infinite;\n",
              "  }\n",
              "\n",
              "  @keyframes spin {\n",
              "    0% {\n",
              "      border-color: transparent;\n",
              "      border-bottom-color: var(--fill-color);\n",
              "      border-left-color: var(--fill-color);\n",
              "    }\n",
              "    20% {\n",
              "      border-color: transparent;\n",
              "      border-left-color: var(--fill-color);\n",
              "      border-top-color: var(--fill-color);\n",
              "    }\n",
              "    30% {\n",
              "      border-color: transparent;\n",
              "      border-left-color: var(--fill-color);\n",
              "      border-top-color: var(--fill-color);\n",
              "      border-right-color: var(--fill-color);\n",
              "    }\n",
              "    40% {\n",
              "      border-color: transparent;\n",
              "      border-right-color: var(--fill-color);\n",
              "      border-top-color: var(--fill-color);\n",
              "    }\n",
              "    60% {\n",
              "      border-color: transparent;\n",
              "      border-right-color: var(--fill-color);\n",
              "    }\n",
              "    80% {\n",
              "      border-color: transparent;\n",
              "      border-right-color: var(--fill-color);\n",
              "      border-bottom-color: var(--fill-color);\n",
              "    }\n",
              "    90% {\n",
              "      border-color: transparent;\n",
              "      border-bottom-color: var(--fill-color);\n",
              "    }\n",
              "  }\n",
              "</style>\n",
              "\n",
              "  <script>\n",
              "    async function quickchart(key) {\n",
              "      const quickchartButtonEl =\n",
              "        document.querySelector('#' + key + ' button');\n",
              "      quickchartButtonEl.disabled = true;  // To prevent multiple clicks.\n",
              "      quickchartButtonEl.classList.add('colab-df-spinner');\n",
              "      try {\n",
              "        const charts = await google.colab.kernel.invokeFunction(\n",
              "            'suggestCharts', [key], {});\n",
              "      } catch (error) {\n",
              "        console.error('Error during call to suggestCharts:', error);\n",
              "      }\n",
              "      quickchartButtonEl.classList.remove('colab-df-spinner');\n",
              "      quickchartButtonEl.classList.add('colab-df-quickchart-complete');\n",
              "    }\n",
              "    (() => {\n",
              "      let quickchartButtonEl =\n",
              "        document.querySelector('#df-3996caf0-c2a3-44b9-a434-451a1ed31a97 button');\n",
              "      quickchartButtonEl.style.display =\n",
              "        google.colab.kernel.accessAllowed ? 'block' : 'none';\n",
              "    })();\n",
              "  </script>\n",
              "</div>\n",
              "    </div>\n",
              "  </div>\n"
            ]
          },
          "metadata": {},
          "execution_count": 22
        }
      ],
      "id": "P6ylJY7iz5za"
    },
    {
      "cell_type": "markdown",
      "source": [
        "## lemmatization"
      ],
      "metadata": {
        "id": "X-PkBoz00bhT"
      },
      "id": "X-PkBoz00bhT"
    },
    {
      "cell_type": "markdown",
      "source": [
        "- The library used for the lemmatization in our case is [Qalsadi](https://pypi.org/project/qalsadi/)"
      ],
      "metadata": {
        "id": "Sl4njT0z0fSu"
      },
      "id": "Sl4njT0z0fSu"
    },
    {
      "cell_type": "code",
      "source": [
        "def lemmatize_stemming(text):\n",
        "    return qalsadi.lemmatizer.Lemmatizer().lemmatize(text)\n",
        "def preprocess(text):\n",
        "    result = []\n",
        "    for token in gensim.utils.simple_preprocess(text):\n",
        "        if token not in stopwords_list and len(token) > 3:\n",
        "            emoji_pattern = re.compile(\"[\"\n",
        "          u\"\\U0001F600-\\U0001F64F\"  # emoticons\n",
        "          u\"\\U0001F300-\\U0001F5FF\"  # symbols & pictographs\n",
        "          u\"\\U0001F680-\\U0001F6FF\"  # transport & map symbols\n",
        "          u\"\\U0001F1E0-\\U0001F1FF\"  # flags (iOS)\n",
        "                            \"]+\", flags=re.UNICODE)\n",
        "            emoji_pattern.sub(r'', token)\n",
        "            result.append(lemmatize_stemming(token))\n",
        "    return result"
      ],
      "metadata": {
        "id": "ybrVLfvG0AQF"
      },
      "execution_count": 23,
      "outputs": [],
      "id": "ybrVLfvG0AQF"
    },
    {
      "cell_type": "code",
      "source": [
        "data_text = data[[\"text\"]]\n",
        "data_text[\"index\"] = data_text.index\n",
        "documents = data_text\n",
        "documents"
      ],
      "metadata": {
        "id": "UXmOWCjT0xg0",
        "colab": {
          "base_uri": "https://localhost:8080/",
          "height": 423
        },
        "outputId": "ffec88b3-6bb9-477b-fe2f-f3992c8e1f89"
      },
      "execution_count": 24,
      "outputs": [
        {
          "output_type": "execute_result",
          "data": {
            "text/plain": [
              "                                                    text  index\n",
              "0      السلام عليكملدي طلب رقم 746855 تتغير حالته 14 ...      0\n",
              "1                      عدم الاستطاعة باضافة العقد الموثق      1\n",
              "2          عدم استطاعتي بتعديل الطلب واضافة العقد الموثق      2\n",
              "3      حساب فقد نتزكر كلمة السر الرقم القومى الخاص با...      3\n",
              "4      السلام عليكم الاول عملت طلب اتاخر كتير عملت طل...      4\n",
              "...                                                  ...    ...\n",
              "47736  السلام عليكمنظرا للظروف تحدث والانقطاع المستمر...  47736\n",
              "47737  إلغاء الطلب رقم 3579676لدواعي السفر وعدم الجاه...  47737\n",
              "47738  تركيب العداد تفاجأت بأنه إنتاج 2021 جارى ركب ع...  47738\n",
              "47739                                         سعر الرسوم  47739\n",
              "47740  استطيع ارسال القراءة وصورة العداد علي موقعكم ر...  47740\n",
              "\n",
              "[47741 rows x 2 columns]"
            ],
            "text/html": [
              "\n",
              "  <div id=\"df-ba0b7e3e-1cfd-4f1a-bc74-0f47f5312a4d\" class=\"colab-df-container\">\n",
              "    <div>\n",
              "<style scoped>\n",
              "    .dataframe tbody tr th:only-of-type {\n",
              "        vertical-align: middle;\n",
              "    }\n",
              "\n",
              "    .dataframe tbody tr th {\n",
              "        vertical-align: top;\n",
              "    }\n",
              "\n",
              "    .dataframe thead th {\n",
              "        text-align: right;\n",
              "    }\n",
              "</style>\n",
              "<table border=\"1\" class=\"dataframe\">\n",
              "  <thead>\n",
              "    <tr style=\"text-align: right;\">\n",
              "      <th></th>\n",
              "      <th>text</th>\n",
              "      <th>index</th>\n",
              "    </tr>\n",
              "  </thead>\n",
              "  <tbody>\n",
              "    <tr>\n",
              "      <th>0</th>\n",
              "      <td>السلام عليكملدي طلب رقم 746855 تتغير حالته 14 ...</td>\n",
              "      <td>0</td>\n",
              "    </tr>\n",
              "    <tr>\n",
              "      <th>1</th>\n",
              "      <td>عدم الاستطاعة باضافة العقد الموثق</td>\n",
              "      <td>1</td>\n",
              "    </tr>\n",
              "    <tr>\n",
              "      <th>2</th>\n",
              "      <td>عدم استطاعتي بتعديل الطلب واضافة العقد الموثق</td>\n",
              "      <td>2</td>\n",
              "    </tr>\n",
              "    <tr>\n",
              "      <th>3</th>\n",
              "      <td>حساب فقد نتزكر كلمة السر الرقم القومى الخاص با...</td>\n",
              "      <td>3</td>\n",
              "    </tr>\n",
              "    <tr>\n",
              "      <th>4</th>\n",
              "      <td>السلام عليكم الاول عملت طلب اتاخر كتير عملت طل...</td>\n",
              "      <td>4</td>\n",
              "    </tr>\n",
              "    <tr>\n",
              "      <th>...</th>\n",
              "      <td>...</td>\n",
              "      <td>...</td>\n",
              "    </tr>\n",
              "    <tr>\n",
              "      <th>47736</th>\n",
              "      <td>السلام عليكمنظرا للظروف تحدث والانقطاع المستمر...</td>\n",
              "      <td>47736</td>\n",
              "    </tr>\n",
              "    <tr>\n",
              "      <th>47737</th>\n",
              "      <td>إلغاء الطلب رقم 3579676لدواعي السفر وعدم الجاه...</td>\n",
              "      <td>47737</td>\n",
              "    </tr>\n",
              "    <tr>\n",
              "      <th>47738</th>\n",
              "      <td>تركيب العداد تفاجأت بأنه إنتاج 2021 جارى ركب ع...</td>\n",
              "      <td>47738</td>\n",
              "    </tr>\n",
              "    <tr>\n",
              "      <th>47739</th>\n",
              "      <td>سعر الرسوم</td>\n",
              "      <td>47739</td>\n",
              "    </tr>\n",
              "    <tr>\n",
              "      <th>47740</th>\n",
              "      <td>استطيع ارسال القراءة وصورة العداد علي موقعكم ر...</td>\n",
              "      <td>47740</td>\n",
              "    </tr>\n",
              "  </tbody>\n",
              "</table>\n",
              "<p>47741 rows × 2 columns</p>\n",
              "</div>\n",
              "    <div class=\"colab-df-buttons\">\n",
              "\n",
              "  <div class=\"colab-df-container\">\n",
              "    <button class=\"colab-df-convert\" onclick=\"convertToInteractive('df-ba0b7e3e-1cfd-4f1a-bc74-0f47f5312a4d')\"\n",
              "            title=\"Convert this dataframe to an interactive table.\"\n",
              "            style=\"display:none;\">\n",
              "\n",
              "  <svg xmlns=\"http://www.w3.org/2000/svg\" height=\"24px\" viewBox=\"0 -960 960 960\">\n",
              "    <path d=\"M120-120v-720h720v720H120Zm60-500h600v-160H180v160Zm220 220h160v-160H400v160Zm0 220h160v-160H400v160ZM180-400h160v-160H180v160Zm440 0h160v-160H620v160ZM180-180h160v-160H180v160Zm440 0h160v-160H620v160Z\"/>\n",
              "  </svg>\n",
              "    </button>\n",
              "\n",
              "  <style>\n",
              "    .colab-df-container {\n",
              "      display:flex;\n",
              "      gap: 12px;\n",
              "    }\n",
              "\n",
              "    .colab-df-convert {\n",
              "      background-color: #E8F0FE;\n",
              "      border: none;\n",
              "      border-radius: 50%;\n",
              "      cursor: pointer;\n",
              "      display: none;\n",
              "      fill: #1967D2;\n",
              "      height: 32px;\n",
              "      padding: 0 0 0 0;\n",
              "      width: 32px;\n",
              "    }\n",
              "\n",
              "    .colab-df-convert:hover {\n",
              "      background-color: #E2EBFA;\n",
              "      box-shadow: 0px 1px 2px rgba(60, 64, 67, 0.3), 0px 1px 3px 1px rgba(60, 64, 67, 0.15);\n",
              "      fill: #174EA6;\n",
              "    }\n",
              "\n",
              "    .colab-df-buttons div {\n",
              "      margin-bottom: 4px;\n",
              "    }\n",
              "\n",
              "    [theme=dark] .colab-df-convert {\n",
              "      background-color: #3B4455;\n",
              "      fill: #D2E3FC;\n",
              "    }\n",
              "\n",
              "    [theme=dark] .colab-df-convert:hover {\n",
              "      background-color: #434B5C;\n",
              "      box-shadow: 0px 1px 3px 1px rgba(0, 0, 0, 0.15);\n",
              "      filter: drop-shadow(0px 1px 2px rgba(0, 0, 0, 0.3));\n",
              "      fill: #FFFFFF;\n",
              "    }\n",
              "  </style>\n",
              "\n",
              "    <script>\n",
              "      const buttonEl =\n",
              "        document.querySelector('#df-ba0b7e3e-1cfd-4f1a-bc74-0f47f5312a4d button.colab-df-convert');\n",
              "      buttonEl.style.display =\n",
              "        google.colab.kernel.accessAllowed ? 'block' : 'none';\n",
              "\n",
              "      async function convertToInteractive(key) {\n",
              "        const element = document.querySelector('#df-ba0b7e3e-1cfd-4f1a-bc74-0f47f5312a4d');\n",
              "        const dataTable =\n",
              "          await google.colab.kernel.invokeFunction('convertToInteractive',\n",
              "                                                    [key], {});\n",
              "        if (!dataTable) return;\n",
              "\n",
              "        const docLinkHtml = 'Like what you see? Visit the ' +\n",
              "          '<a target=\"_blank\" href=https://colab.research.google.com/notebooks/data_table.ipynb>data table notebook</a>'\n",
              "          + ' to learn more about interactive tables.';\n",
              "        element.innerHTML = '';\n",
              "        dataTable['output_type'] = 'display_data';\n",
              "        await google.colab.output.renderOutput(dataTable, element);\n",
              "        const docLink = document.createElement('div');\n",
              "        docLink.innerHTML = docLinkHtml;\n",
              "        element.appendChild(docLink);\n",
              "      }\n",
              "    </script>\n",
              "  </div>\n",
              "\n",
              "\n",
              "<div id=\"df-4970b99c-4614-4860-8d79-ad30f1e66fb6\">\n",
              "  <button class=\"colab-df-quickchart\" onclick=\"quickchart('df-4970b99c-4614-4860-8d79-ad30f1e66fb6')\"\n",
              "            title=\"Suggest charts\"\n",
              "            style=\"display:none;\">\n",
              "\n",
              "<svg xmlns=\"http://www.w3.org/2000/svg\" height=\"24px\"viewBox=\"0 0 24 24\"\n",
              "     width=\"24px\">\n",
              "    <g>\n",
              "        <path d=\"M19 3H5c-1.1 0-2 .9-2 2v14c0 1.1.9 2 2 2h14c1.1 0 2-.9 2-2V5c0-1.1-.9-2-2-2zM9 17H7v-7h2v7zm4 0h-2V7h2v10zm4 0h-2v-4h2v4z\"/>\n",
              "    </g>\n",
              "</svg>\n",
              "  </button>\n",
              "\n",
              "<style>\n",
              "  .colab-df-quickchart {\n",
              "      --bg-color: #E8F0FE;\n",
              "      --fill-color: #1967D2;\n",
              "      --hover-bg-color: #E2EBFA;\n",
              "      --hover-fill-color: #174EA6;\n",
              "      --disabled-fill-color: #AAA;\n",
              "      --disabled-bg-color: #DDD;\n",
              "  }\n",
              "\n",
              "  [theme=dark] .colab-df-quickchart {\n",
              "      --bg-color: #3B4455;\n",
              "      --fill-color: #D2E3FC;\n",
              "      --hover-bg-color: #434B5C;\n",
              "      --hover-fill-color: #FFFFFF;\n",
              "      --disabled-bg-color: #3B4455;\n",
              "      --disabled-fill-color: #666;\n",
              "  }\n",
              "\n",
              "  .colab-df-quickchart {\n",
              "    background-color: var(--bg-color);\n",
              "    border: none;\n",
              "    border-radius: 50%;\n",
              "    cursor: pointer;\n",
              "    display: none;\n",
              "    fill: var(--fill-color);\n",
              "    height: 32px;\n",
              "    padding: 0;\n",
              "    width: 32px;\n",
              "  }\n",
              "\n",
              "  .colab-df-quickchart:hover {\n",
              "    background-color: var(--hover-bg-color);\n",
              "    box-shadow: 0 1px 2px rgba(60, 64, 67, 0.3), 0 1px 3px 1px rgba(60, 64, 67, 0.15);\n",
              "    fill: var(--button-hover-fill-color);\n",
              "  }\n",
              "\n",
              "  .colab-df-quickchart-complete:disabled,\n",
              "  .colab-df-quickchart-complete:disabled:hover {\n",
              "    background-color: var(--disabled-bg-color);\n",
              "    fill: var(--disabled-fill-color);\n",
              "    box-shadow: none;\n",
              "  }\n",
              "\n",
              "  .colab-df-spinner {\n",
              "    border: 2px solid var(--fill-color);\n",
              "    border-color: transparent;\n",
              "    border-bottom-color: var(--fill-color);\n",
              "    animation:\n",
              "      spin 1s steps(1) infinite;\n",
              "  }\n",
              "\n",
              "  @keyframes spin {\n",
              "    0% {\n",
              "      border-color: transparent;\n",
              "      border-bottom-color: var(--fill-color);\n",
              "      border-left-color: var(--fill-color);\n",
              "    }\n",
              "    20% {\n",
              "      border-color: transparent;\n",
              "      border-left-color: var(--fill-color);\n",
              "      border-top-color: var(--fill-color);\n",
              "    }\n",
              "    30% {\n",
              "      border-color: transparent;\n",
              "      border-left-color: var(--fill-color);\n",
              "      border-top-color: var(--fill-color);\n",
              "      border-right-color: var(--fill-color);\n",
              "    }\n",
              "    40% {\n",
              "      border-color: transparent;\n",
              "      border-right-color: var(--fill-color);\n",
              "      border-top-color: var(--fill-color);\n",
              "    }\n",
              "    60% {\n",
              "      border-color: transparent;\n",
              "      border-right-color: var(--fill-color);\n",
              "    }\n",
              "    80% {\n",
              "      border-color: transparent;\n",
              "      border-right-color: var(--fill-color);\n",
              "      border-bottom-color: var(--fill-color);\n",
              "    }\n",
              "    90% {\n",
              "      border-color: transparent;\n",
              "      border-bottom-color: var(--fill-color);\n",
              "    }\n",
              "  }\n",
              "</style>\n",
              "\n",
              "  <script>\n",
              "    async function quickchart(key) {\n",
              "      const quickchartButtonEl =\n",
              "        document.querySelector('#' + key + ' button');\n",
              "      quickchartButtonEl.disabled = true;  // To prevent multiple clicks.\n",
              "      quickchartButtonEl.classList.add('colab-df-spinner');\n",
              "      try {\n",
              "        const charts = await google.colab.kernel.invokeFunction(\n",
              "            'suggestCharts', [key], {});\n",
              "      } catch (error) {\n",
              "        console.error('Error during call to suggestCharts:', error);\n",
              "      }\n",
              "      quickchartButtonEl.classList.remove('colab-df-spinner');\n",
              "      quickchartButtonEl.classList.add('colab-df-quickchart-complete');\n",
              "    }\n",
              "    (() => {\n",
              "      let quickchartButtonEl =\n",
              "        document.querySelector('#df-4970b99c-4614-4860-8d79-ad30f1e66fb6 button');\n",
              "      quickchartButtonEl.style.display =\n",
              "        google.colab.kernel.accessAllowed ? 'block' : 'none';\n",
              "    })();\n",
              "  </script>\n",
              "</div>\n",
              "    </div>\n",
              "  </div>\n"
            ]
          },
          "metadata": {},
          "execution_count": 24
        }
      ],
      "id": "UXmOWCjT0xg0"
    },
    {
      "cell_type": "code",
      "source": [
        "# Checking The first row of the column text\n",
        "data[\"text\"][TXT_INDX]"
      ],
      "metadata": {
        "id": "A5yK9DoH1DsN",
        "colab": {
          "base_uri": "https://localhost:8080/",
          "height": 91
        },
        "outputId": "24d2a24a-beb6-4724-a5ee-c5552c947dbf"
      },
      "execution_count": 25,
      "outputs": [
        {
          "output_type": "execute_result",
          "data": {
            "text/plain": [
              "'السلام عليكم تلقيت مكالمة موظفى الشركة الكرام للسؤال وجودى بمقر إقامتى لإجراء المقايسة اللازمة وتوجهت لمقر الشقة المطلوب تركيب العداد مقيم فى المكان أغلب الوقت فوجئت بالموظف المذكور معاودة اتصالة بأن الشقة المطلوب تركيب عداد ينطبق عليها الشروط وأنه لابد الإنتهاء واجهة العقار وكذا التشطيبات تأكيدى بأن وقف إجراء التشطيبات قرار دولة وليس لى كمالك للوحدة داخل العقار محل الدراسة لذا أرجو الإفادة وسرعة عمل المقايسة المطلوبة وتركيب العداد لأنه العدل أسدد يقرب 500 شهرياً لمكان أقيم وتجدون سيادتكم مرفقاً صورة آخر سداد للممارسة وافر الشكر والتقدير رضا شحات خطاب'"
            ],
            "application/vnd.google.colaboratory.intrinsic+json": {
              "type": "string"
            }
          },
          "metadata": {},
          "execution_count": 25
        }
      ],
      "id": "A5yK9DoH1DsN"
    },
    {
      "cell_type": "code",
      "source": [
        "doc_sample = documents[documents['index'] == TXT_INDX].values[0][0]\n",
        "\n",
        "print('original document: ')\n",
        "words = []\n",
        "for word in doc_sample.split(' '):\n",
        "    words.append(word)\n",
        "print(words)\n",
        "print('\\n\\n tokenized and lemmatized document: ')\n",
        "print(preprocess(doc_sample))\n"
      ],
      "metadata": {
        "id": "KiZV0wtd0kSj",
        "colab": {
          "base_uri": "https://localhost:8080/"
        },
        "outputId": "a50d19b9-11c6-48a6-f93d-457cce868ba4"
      },
      "execution_count": 26,
      "outputs": [
        {
          "output_type": "stream",
          "name": "stdout",
          "text": [
            "original document: \n",
            "['السلام', 'عليكم', 'تلقيت', 'مكالمة', 'موظفى', 'الشركة', 'الكرام', 'للسؤال', 'وجودى', 'بمقر', 'إقامتى', 'لإجراء', 'المقايسة', 'اللازمة', 'وتوجهت', 'لمقر', 'الشقة', 'المطلوب', 'تركيب', 'العداد', 'مقيم', 'فى', 'المكان', 'أغلب', 'الوقت', 'فوجئت', 'بالموظف', 'المذكور', 'معاودة', 'اتصالة', 'بأن', 'الشقة', 'المطلوب', 'تركيب', 'عداد', 'ينطبق', 'عليها', 'الشروط', 'وأنه', 'لابد', 'الإنتهاء', 'واجهة', 'العقار', 'وكذا', 'التشطيبات', 'تأكيدى', 'بأن', 'وقف', 'إجراء', 'التشطيبات', 'قرار', 'دولة', 'وليس', 'لى', 'كمالك', 'للوحدة', 'داخل', 'العقار', 'محل', 'الدراسة', 'لذا', 'أرجو', 'الإفادة', 'وسرعة', 'عمل', 'المقايسة', 'المطلوبة', 'وتركيب', 'العداد', 'لأنه', 'العدل', 'أسدد', 'يقرب', '500', 'شهرياً', 'لمكان', 'أقيم', 'وتجدون', 'سيادتكم', 'مرفقاً', 'صورة', 'آخر', 'سداد', 'للممارسة', 'وافر', 'الشكر', 'والتقدير', 'رضا', 'شحات', 'خطاب']\n",
            "\n",
            "\n",
            " tokenized and lemmatized document: \n",
            "['سلام', 'على', 'تلقى', 'مكالم', 'موظفى', 'شرك', 'كرام', 'سؤال', 'جودى', 'مقر', 'إقامتى', 'إجراء', 'مقايسة', 'لازم', 'توجه', 'مقر', 'شق', 'مطلوب', 'تركيب', 'عداد', 'مقيم', 'مكان', 'أغلب', 'وقت', 'فاجأ', 'موظف', 'مذكور', 'معاود', 'اتصال', 'شق', 'مطلوب', 'تركيب', 'عداد', 'انطبق', 'على', 'شروط', 'أن', 'لابد', 'الإنتهاء', 'واجهة', 'عقار', 'كذا', 'تشطيب', 'تأكيدى', 'إجراء', 'تشطيب', 'قرار', 'دول', 'ليس', 'كمال', 'وحد', 'داخل', 'عقار', 'دراس', 'رجا', 'إفادة', 'سرع', 'مقايسة', 'مطلوب', 'تركيب', 'عداد', 'أن', 'عدل', 'سدد', 'قرب', 'شهر', 'مكان', 'قيم', 'وجد', 'سيادة', 'مرفق', 'صور', 'سداد', 'ممارس', 'وافر', 'شكر', 'تقدير', 'شح', 'خطاب']\n"
          ]
        }
      ],
      "id": "KiZV0wtd0kSj"
    },
    {
      "cell_type": "markdown",
      "source": [
        "## Drop Missing Values"
      ],
      "metadata": {
        "id": "fL82ScyE1gEp"
      },
      "id": "fL82ScyE1gEp"
    },
    {
      "cell_type": "code",
      "source": [
        "data.isnull().sum()"
      ],
      "metadata": {
        "id": "5Ed3x_yf0pvK",
        "colab": {
          "base_uri": "https://localhost:8080/"
        },
        "outputId": "7e2e1373-1c7d-4d00-d2d1-93dc5ee64b69"
      },
      "execution_count": 27,
      "outputs": [
        {
          "output_type": "execute_result",
          "data": {
            "text/plain": [
              "ID      0\n",
              "text    0\n",
              "dtype: int64"
            ]
          },
          "metadata": {},
          "execution_count": 27
        }
      ],
      "id": "5Ed3x_yf0pvK"
    },
    {
      "cell_type": "markdown",
      "source": [
        "P.S. In this next part we will be using only 10 samples instead of the whole dataset to speed up the process"
      ],
      "metadata": {
        "id": "KXjtwiwk1z9g"
      },
      "id": "KXjtwiwk1z9g"
    },
    {
      "cell_type": "code",
      "source": [
        "documents = documents[:100]\n",
        "documents"
      ],
      "metadata": {
        "id": "k-BxoyG81jJ0",
        "colab": {
          "base_uri": "https://localhost:8080/",
          "height": 363
        },
        "outputId": "396311d0-1f89-4825-8877-db2cecccb7d3"
      },
      "execution_count": 30,
      "outputs": [
        {
          "output_type": "execute_result",
          "data": {
            "text/plain": [
              "                                                text  index\n",
              "0  السلام عليكملدي طلب رقم 746855 تتغير حالته 14 ...      0\n",
              "1                  عدم الاستطاعة باضافة العقد الموثق      1\n",
              "2      عدم استطاعتي بتعديل الطلب واضافة العقد الموثق      2\n",
              "3  حساب فقد نتزكر كلمة السر الرقم القومى الخاص با...      3\n",
              "4  السلام عليكم الاول عملت طلب اتاخر كتير عملت طل...      4\n",
              "5  تاخرت المعاينة عنى علما بان غيرى اتته المعاينة...      5\n",
              "6                    عدم استطاعتي رفع عقد ايجار موثق      6\n",
              "7  يرجي التكرم بالافاده الطلب المقدم بتاريخ 10 اغ...      7\n",
              "8  لقد تقدمت بطلب تركيب عداد كودى وتمت كتابة الرق...      8\n",
              "9  يتم تغير حالة الطلب اكثر شهرين الرجاء تغير حال...      9"
            ],
            "text/html": [
              "\n",
              "  <div id=\"df-6df38d50-fcb4-4440-bc7e-d865ebacf3f4\" class=\"colab-df-container\">\n",
              "    <div>\n",
              "<style scoped>\n",
              "    .dataframe tbody tr th:only-of-type {\n",
              "        vertical-align: middle;\n",
              "    }\n",
              "\n",
              "    .dataframe tbody tr th {\n",
              "        vertical-align: top;\n",
              "    }\n",
              "\n",
              "    .dataframe thead th {\n",
              "        text-align: right;\n",
              "    }\n",
              "</style>\n",
              "<table border=\"1\" class=\"dataframe\">\n",
              "  <thead>\n",
              "    <tr style=\"text-align: right;\">\n",
              "      <th></th>\n",
              "      <th>text</th>\n",
              "      <th>index</th>\n",
              "    </tr>\n",
              "  </thead>\n",
              "  <tbody>\n",
              "    <tr>\n",
              "      <th>0</th>\n",
              "      <td>السلام عليكملدي طلب رقم 746855 تتغير حالته 14 ...</td>\n",
              "      <td>0</td>\n",
              "    </tr>\n",
              "    <tr>\n",
              "      <th>1</th>\n",
              "      <td>عدم الاستطاعة باضافة العقد الموثق</td>\n",
              "      <td>1</td>\n",
              "    </tr>\n",
              "    <tr>\n",
              "      <th>2</th>\n",
              "      <td>عدم استطاعتي بتعديل الطلب واضافة العقد الموثق</td>\n",
              "      <td>2</td>\n",
              "    </tr>\n",
              "    <tr>\n",
              "      <th>3</th>\n",
              "      <td>حساب فقد نتزكر كلمة السر الرقم القومى الخاص با...</td>\n",
              "      <td>3</td>\n",
              "    </tr>\n",
              "    <tr>\n",
              "      <th>4</th>\n",
              "      <td>السلام عليكم الاول عملت طلب اتاخر كتير عملت طل...</td>\n",
              "      <td>4</td>\n",
              "    </tr>\n",
              "    <tr>\n",
              "      <th>5</th>\n",
              "      <td>تاخرت المعاينة عنى علما بان غيرى اتته المعاينة...</td>\n",
              "      <td>5</td>\n",
              "    </tr>\n",
              "    <tr>\n",
              "      <th>6</th>\n",
              "      <td>عدم استطاعتي رفع عقد ايجار موثق</td>\n",
              "      <td>6</td>\n",
              "    </tr>\n",
              "    <tr>\n",
              "      <th>7</th>\n",
              "      <td>يرجي التكرم بالافاده الطلب المقدم بتاريخ 10 اغ...</td>\n",
              "      <td>7</td>\n",
              "    </tr>\n",
              "    <tr>\n",
              "      <th>8</th>\n",
              "      <td>لقد تقدمت بطلب تركيب عداد كودى وتمت كتابة الرق...</td>\n",
              "      <td>8</td>\n",
              "    </tr>\n",
              "    <tr>\n",
              "      <th>9</th>\n",
              "      <td>يتم تغير حالة الطلب اكثر شهرين الرجاء تغير حال...</td>\n",
              "      <td>9</td>\n",
              "    </tr>\n",
              "  </tbody>\n",
              "</table>\n",
              "</div>\n",
              "    <div class=\"colab-df-buttons\">\n",
              "\n",
              "  <div class=\"colab-df-container\">\n",
              "    <button class=\"colab-df-convert\" onclick=\"convertToInteractive('df-6df38d50-fcb4-4440-bc7e-d865ebacf3f4')\"\n",
              "            title=\"Convert this dataframe to an interactive table.\"\n",
              "            style=\"display:none;\">\n",
              "\n",
              "  <svg xmlns=\"http://www.w3.org/2000/svg\" height=\"24px\" viewBox=\"0 -960 960 960\">\n",
              "    <path d=\"M120-120v-720h720v720H120Zm60-500h600v-160H180v160Zm220 220h160v-160H400v160Zm0 220h160v-160H400v160ZM180-400h160v-160H180v160Zm440 0h160v-160H620v160ZM180-180h160v-160H180v160Zm440 0h160v-160H620v160Z\"/>\n",
              "  </svg>\n",
              "    </button>\n",
              "\n",
              "  <style>\n",
              "    .colab-df-container {\n",
              "      display:flex;\n",
              "      gap: 12px;\n",
              "    }\n",
              "\n",
              "    .colab-df-convert {\n",
              "      background-color: #E8F0FE;\n",
              "      border: none;\n",
              "      border-radius: 50%;\n",
              "      cursor: pointer;\n",
              "      display: none;\n",
              "      fill: #1967D2;\n",
              "      height: 32px;\n",
              "      padding: 0 0 0 0;\n",
              "      width: 32px;\n",
              "    }\n",
              "\n",
              "    .colab-df-convert:hover {\n",
              "      background-color: #E2EBFA;\n",
              "      box-shadow: 0px 1px 2px rgba(60, 64, 67, 0.3), 0px 1px 3px 1px rgba(60, 64, 67, 0.15);\n",
              "      fill: #174EA6;\n",
              "    }\n",
              "\n",
              "    .colab-df-buttons div {\n",
              "      margin-bottom: 4px;\n",
              "    }\n",
              "\n",
              "    [theme=dark] .colab-df-convert {\n",
              "      background-color: #3B4455;\n",
              "      fill: #D2E3FC;\n",
              "    }\n",
              "\n",
              "    [theme=dark] .colab-df-convert:hover {\n",
              "      background-color: #434B5C;\n",
              "      box-shadow: 0px 1px 3px 1px rgba(0, 0, 0, 0.15);\n",
              "      filter: drop-shadow(0px 1px 2px rgba(0, 0, 0, 0.3));\n",
              "      fill: #FFFFFF;\n",
              "    }\n",
              "  </style>\n",
              "\n",
              "    <script>\n",
              "      const buttonEl =\n",
              "        document.querySelector('#df-6df38d50-fcb4-4440-bc7e-d865ebacf3f4 button.colab-df-convert');\n",
              "      buttonEl.style.display =\n",
              "        google.colab.kernel.accessAllowed ? 'block' : 'none';\n",
              "\n",
              "      async function convertToInteractive(key) {\n",
              "        const element = document.querySelector('#df-6df38d50-fcb4-4440-bc7e-d865ebacf3f4');\n",
              "        const dataTable =\n",
              "          await google.colab.kernel.invokeFunction('convertToInteractive',\n",
              "                                                    [key], {});\n",
              "        if (!dataTable) return;\n",
              "\n",
              "        const docLinkHtml = 'Like what you see? Visit the ' +\n",
              "          '<a target=\"_blank\" href=https://colab.research.google.com/notebooks/data_table.ipynb>data table notebook</a>'\n",
              "          + ' to learn more about interactive tables.';\n",
              "        element.innerHTML = '';\n",
              "        dataTable['output_type'] = 'display_data';\n",
              "        await google.colab.output.renderOutput(dataTable, element);\n",
              "        const docLink = document.createElement('div');\n",
              "        docLink.innerHTML = docLinkHtml;\n",
              "        element.appendChild(docLink);\n",
              "      }\n",
              "    </script>\n",
              "  </div>\n",
              "\n",
              "\n",
              "<div id=\"df-86068998-7706-4da7-868c-f003f390c254\">\n",
              "  <button class=\"colab-df-quickchart\" onclick=\"quickchart('df-86068998-7706-4da7-868c-f003f390c254')\"\n",
              "            title=\"Suggest charts\"\n",
              "            style=\"display:none;\">\n",
              "\n",
              "<svg xmlns=\"http://www.w3.org/2000/svg\" height=\"24px\"viewBox=\"0 0 24 24\"\n",
              "     width=\"24px\">\n",
              "    <g>\n",
              "        <path d=\"M19 3H5c-1.1 0-2 .9-2 2v14c0 1.1.9 2 2 2h14c1.1 0 2-.9 2-2V5c0-1.1-.9-2-2-2zM9 17H7v-7h2v7zm4 0h-2V7h2v10zm4 0h-2v-4h2v4z\"/>\n",
              "    </g>\n",
              "</svg>\n",
              "  </button>\n",
              "\n",
              "<style>\n",
              "  .colab-df-quickchart {\n",
              "      --bg-color: #E8F0FE;\n",
              "      --fill-color: #1967D2;\n",
              "      --hover-bg-color: #E2EBFA;\n",
              "      --hover-fill-color: #174EA6;\n",
              "      --disabled-fill-color: #AAA;\n",
              "      --disabled-bg-color: #DDD;\n",
              "  }\n",
              "\n",
              "  [theme=dark] .colab-df-quickchart {\n",
              "      --bg-color: #3B4455;\n",
              "      --fill-color: #D2E3FC;\n",
              "      --hover-bg-color: #434B5C;\n",
              "      --hover-fill-color: #FFFFFF;\n",
              "      --disabled-bg-color: #3B4455;\n",
              "      --disabled-fill-color: #666;\n",
              "  }\n",
              "\n",
              "  .colab-df-quickchart {\n",
              "    background-color: var(--bg-color);\n",
              "    border: none;\n",
              "    border-radius: 50%;\n",
              "    cursor: pointer;\n",
              "    display: none;\n",
              "    fill: var(--fill-color);\n",
              "    height: 32px;\n",
              "    padding: 0;\n",
              "    width: 32px;\n",
              "  }\n",
              "\n",
              "  .colab-df-quickchart:hover {\n",
              "    background-color: var(--hover-bg-color);\n",
              "    box-shadow: 0 1px 2px rgba(60, 64, 67, 0.3), 0 1px 3px 1px rgba(60, 64, 67, 0.15);\n",
              "    fill: var(--button-hover-fill-color);\n",
              "  }\n",
              "\n",
              "  .colab-df-quickchart-complete:disabled,\n",
              "  .colab-df-quickchart-complete:disabled:hover {\n",
              "    background-color: var(--disabled-bg-color);\n",
              "    fill: var(--disabled-fill-color);\n",
              "    box-shadow: none;\n",
              "  }\n",
              "\n",
              "  .colab-df-spinner {\n",
              "    border: 2px solid var(--fill-color);\n",
              "    border-color: transparent;\n",
              "    border-bottom-color: var(--fill-color);\n",
              "    animation:\n",
              "      spin 1s steps(1) infinite;\n",
              "  }\n",
              "\n",
              "  @keyframes spin {\n",
              "    0% {\n",
              "      border-color: transparent;\n",
              "      border-bottom-color: var(--fill-color);\n",
              "      border-left-color: var(--fill-color);\n",
              "    }\n",
              "    20% {\n",
              "      border-color: transparent;\n",
              "      border-left-color: var(--fill-color);\n",
              "      border-top-color: var(--fill-color);\n",
              "    }\n",
              "    30% {\n",
              "      border-color: transparent;\n",
              "      border-left-color: var(--fill-color);\n",
              "      border-top-color: var(--fill-color);\n",
              "      border-right-color: var(--fill-color);\n",
              "    }\n",
              "    40% {\n",
              "      border-color: transparent;\n",
              "      border-right-color: var(--fill-color);\n",
              "      border-top-color: var(--fill-color);\n",
              "    }\n",
              "    60% {\n",
              "      border-color: transparent;\n",
              "      border-right-color: var(--fill-color);\n",
              "    }\n",
              "    80% {\n",
              "      border-color: transparent;\n",
              "      border-right-color: var(--fill-color);\n",
              "      border-bottom-color: var(--fill-color);\n",
              "    }\n",
              "    90% {\n",
              "      border-color: transparent;\n",
              "      border-bottom-color: var(--fill-color);\n",
              "    }\n",
              "  }\n",
              "</style>\n",
              "\n",
              "  <script>\n",
              "    async function quickchart(key) {\n",
              "      const quickchartButtonEl =\n",
              "        document.querySelector('#' + key + ' button');\n",
              "      quickchartButtonEl.disabled = true;  // To prevent multiple clicks.\n",
              "      quickchartButtonEl.classList.add('colab-df-spinner');\n",
              "      try {\n",
              "        const charts = await google.colab.kernel.invokeFunction(\n",
              "            'suggestCharts', [key], {});\n",
              "      } catch (error) {\n",
              "        console.error('Error during call to suggestCharts:', error);\n",
              "      }\n",
              "      quickchartButtonEl.classList.remove('colab-df-spinner');\n",
              "      quickchartButtonEl.classList.add('colab-df-quickchart-complete');\n",
              "    }\n",
              "    (() => {\n",
              "      let quickchartButtonEl =\n",
              "        document.querySelector('#df-86068998-7706-4da7-868c-f003f390c254 button');\n",
              "      quickchartButtonEl.style.display =\n",
              "        google.colab.kernel.accessAllowed ? 'block' : 'none';\n",
              "    })();\n",
              "  </script>\n",
              "</div>\n",
              "    </div>\n",
              "  </div>\n"
            ]
          },
          "metadata": {},
          "execution_count": 30
        }
      ],
      "id": "k-BxoyG81jJ0"
    },
    {
      "cell_type": "code",
      "source": [
        "for txt in documents['text']:\n",
        "  print(preprocess(txt))"
      ],
      "metadata": {
        "id": "ZfgeCe3U14tD",
        "colab": {
          "base_uri": "https://localhost:8080/"
        },
        "outputId": "a91a288f-99db-4691-b1c4-eeeb95075e88"
      },
      "execution_count": 31,
      "outputs": [
        {
          "output_type": "stream",
          "name": "stdout",
          "text": [
            "['سلام', 'عليكملدي', 'تغير', 'حال', 'دراس', 'فن', 'رجاء', 'الافاده', 'حال', 'طلب', 'توقف', 'شكر']\n",
            "['استطاعة', 'باضافة', 'عقد', 'موثق']\n",
            "['استطاعة', 'تعديل', 'طلب', 'واضافة', 'عقد', 'موثق']\n",
            "['حساب', 'نتزكر', 'كلم', 'سر', 'رقم', 'قومى', 'الخاص', 'حساب']\n",
            "['سلام', 'على', 'الاول', 'عمل', 'اتاخر', 'كتير', 'عمل', 'تانى', 'رد', 'استكمال', 'بيان', 'وقف', 'عمل', 'تال', 'اتقبل', 'سرع', 'عاوز', 'حذف', 'خلى']\n",
            "['تاخرت', 'معاين', 'علم', 'غيرى', 'اتته', 'معاين', 'عدى', 'مد', 'زمن']\n",
            "['استطاعة', 'ايجار', 'موثق']\n",
            "['رجى', 'تكرم', 'بالافاده', 'طلب', 'مقدم', 'تاريخ', 'اغسطس', 'رقم', 'طلب', 'للدراسه', 'الفنيه', 'الافاده', 'ال', 'تركيب']\n",
            "['تقدم', 'طلب', 'تركيب', 'عداد', 'ودى', 'أمات', 'كتاب', 'رقم', 'قومى', 'تسبب', 'قبول', 'طلب', 'رجا', 'تصحيح', 'رقم', 'قومى', 'الخاص', 'تفعيل', 'طلب', 'الخاص', 'مرفق', 'صور', 'بطاقة', 'رقم', 'قومى']\n",
            "['تغير', 'حال', 'طلب', 'كثر', 'شهر', 'رجاء', 'تغير', 'حال', 'طلب', 'انتهاء', 'المده']\n"
          ]
        }
      ],
      "id": "ZfgeCe3U14tD"
    },
    {
      "cell_type": "code",
      "source": [
        "processed_docs = documents['text'].map(preprocess)\n",
        "processed_docs"
      ],
      "metadata": {
        "id": "jHM7zL3-155w",
        "colab": {
          "base_uri": "https://localhost:8080/"
        },
        "outputId": "56e4848d-1467-40a8-b327-799f0d26c2fc"
      },
      "execution_count": 32,
      "outputs": [
        {
          "output_type": "execute_result",
          "data": {
            "text/plain": [
              "0    [سلام, عليكملدي, تغير, حال, دراس, فن, رجاء, ال...\n",
              "1                         [استطاعة, باضافة, عقد, موثق]\n",
              "2             [استطاعة, تعديل, طلب, واضافة, عقد, موثق]\n",
              "3       [حساب, نتزكر, كلم, سر, رقم, قومى, الخاص, حساب]\n",
              "4    [سلام, على, الاول, عمل, اتاخر, كتير, عمل, تانى...\n",
              "5    [تاخرت, معاين, علم, غيرى, اتته, معاين, عدى, مد...\n",
              "6                               [استطاعة, ايجار, موثق]\n",
              "7    [رجى, تكرم, بالافاده, طلب, مقدم, تاريخ, اغسطس,...\n",
              "8    [تقدم, طلب, تركيب, عداد, ودى, أمات, كتاب, رقم,...\n",
              "9    [تغير, حال, طلب, كثر, شهر, رجاء, تغير, حال, طل...\n",
              "Name: text, dtype: object"
            ]
          },
          "metadata": {},
          "execution_count": 32
        }
      ],
      "id": "jHM7zL3-155w"
    },
    {
      "cell_type": "code",
      "source": [
        "type(processed_docs)"
      ],
      "metadata": {
        "id": "vdESPRY71_yn",
        "colab": {
          "base_uri": "https://localhost:8080/"
        },
        "outputId": "11dc974f-42d9-4523-c66f-d53448bffcdc"
      },
      "execution_count": 33,
      "outputs": [
        {
          "output_type": "execute_result",
          "data": {
            "text/plain": [
              "pandas.core.series.Series"
            ]
          },
          "metadata": {},
          "execution_count": 33
        }
      ],
      "id": "vdESPRY71_yn"
    },
    {
      "cell_type": "code",
      "source": [],
      "metadata": {
        "id": "qiCEP_d948w2"
      },
      "id": "qiCEP_d948w2",
      "execution_count": 33,
      "outputs": []
    },
    {
      "cell_type": "markdown",
      "source": [
        "## Bag Of Words"
      ],
      "metadata": {
        "id": "iHoheiKo2YlD"
      },
      "id": "iHoheiKo2YlD"
    },
    {
      "cell_type": "markdown",
      "id": "27c9cf2e",
      "metadata": {
        "id": "27c9cf2e"
      },
      "source": [
        "### Bag of words:\n",
        "\n",
        "Create a dictionary from ‘processed_docs’ containing the number of times a word appears in the training set."
      ]
    },
    {
      "cell_type": "code",
      "execution_count": 34,
      "id": "b8051acb",
      "metadata": {
        "id": "b8051acb"
      },
      "outputs": [],
      "source": [
        "dictionary = gensim.corpora.Dictionary(processed_docs)"
      ]
    },
    {
      "cell_type": "code",
      "execution_count": 35,
      "id": "6572cd67",
      "metadata": {
        "id": "6572cd67",
        "colab": {
          "base_uri": "https://localhost:8080/"
        },
        "outputId": "eb7b1c7b-96b8-4883-f917-b32315445219"
      },
      "outputs": [
        {
          "output_type": "stream",
          "name": "stdout",
          "text": [
            "Dictionary<76 unique tokens: ['الافاده', 'تغير', 'توقف', 'حال', 'دراس']...>\n"
          ]
        }
      ],
      "source": [
        "print(dictionary)"
      ]
    },
    {
      "cell_type": "code",
      "execution_count": 36,
      "id": "d04db6c0",
      "metadata": {
        "id": "d04db6c0",
        "colab": {
          "base_uri": "https://localhost:8080/"
        },
        "outputId": "651c01ae-1c89-45fd-b8bb-5942a69ab4fe"
      },
      "outputs": [
        {
          "output_type": "stream",
          "name": "stdout",
          "text": [
            "الافاده 0\n",
            "تغير 1\n",
            "توقف 2\n",
            "حال 3\n",
            "دراس 4\n",
            "رجاء 5\n",
            "سلام 6\n",
            "شكر 7\n",
            "طلب 8\n",
            "عليكملدي 9\n",
            "فن 10\n"
          ]
        }
      ],
      "source": [
        "count = 0\n",
        "for k, v in dictionary.iteritems():\n",
        "    print(v, k)\n",
        "    count += 1\n",
        "    if count > 10:\n",
        "        break"
      ]
    },
    {
      "cell_type": "markdown",
      "id": "c719bf76",
      "metadata": {
        "id": "c719bf76"
      },
      "source": [
        "\n",
        "- read more about filter_extremes (https://radimrehurek.com/gensim/corpora/dictionary.html#gensim.corpora.dictionary.Dictionary.filter_extremes)"
      ]
    },
    {
      "cell_type": "code",
      "execution_count": 37,
      "id": "719a3c9a",
      "metadata": {
        "id": "719a3c9a",
        "colab": {
          "base_uri": "https://localhost:8080/"
        },
        "outputId": "6e2c4161-ee08-4d75-bb96-118904e4f3d6"
      },
      "outputs": [
        {
          "output_type": "execute_result",
          "data": {
            "text/plain": [
              "[(11, 1), (12, 1), (13, 1), (14, 1)]"
            ]
          },
          "metadata": {},
          "execution_count": 37
        }
      ],
      "source": [
        "bow_corpus = [dictionary.doc2bow(doc) for doc in processed_docs]\n",
        "\n",
        "bow_corpus[1]"
      ]
    },
    {
      "cell_type": "code",
      "execution_count": 38,
      "id": "ca98a1ac",
      "metadata": {
        "id": "ca98a1ac",
        "colab": {
          "base_uri": "https://localhost:8080/"
        },
        "outputId": "998e4cba-bcd0-42d9-8b49-80f2ab919539"
      },
      "outputs": [
        {
          "output_type": "execute_result",
          "data": {
            "text/plain": [
              "list"
            ]
          },
          "metadata": {},
          "execution_count": 38
        }
      ],
      "source": [
        "type(bow_corpus)"
      ]
    },
    {
      "cell_type": "code",
      "execution_count": 39,
      "id": "524f3342",
      "metadata": {
        "id": "524f3342",
        "colab": {
          "base_uri": "https://localhost:8080/"
        },
        "outputId": "42ecbf64-cc67-4dbe-ca11-0c37a110b615"
      },
      "outputs": [
        {
          "output_type": "stream",
          "name": "stdout",
          "text": [
            "Word 11 (\"استطاعة\") appears 1 time.\n",
            "Word 12 (\"باضافة\") appears 1 time.\n",
            "Word 13 (\"عقد\") appears 1 time.\n",
            "Word 14 (\"موثق\") appears 1 time.\n"
          ]
        }
      ],
      "source": [
        "# SAmple of Topic 01\n",
        "bow_doc_01 = bow_corpus[1]\n",
        "for i in range(len(bow_doc_01)):\n",
        "    print(\"Word {} (\\\"{}\\\") appears {} time.\".format(bow_doc_01[i][0],\n",
        "                                                     dictionary[bow_doc_01[i][0]],\n",
        "                                                     bow_doc_01[i][1]))"
      ]
    },
    {
      "cell_type": "markdown",
      "id": "63694388",
      "metadata": {
        "id": "63694388"
      },
      "source": [
        "- Read More about  [BAG OF WORDS](https://www.tutorialspoint.com/gensim/gensim_creating_a_bag_of_words_corpus.htm)"
      ]
    },
    {
      "cell_type": "markdown",
      "id": "6dfcb698",
      "metadata": {
        "id": "6dfcb698"
      },
      "source": [
        "### TF-IDF:\n",
        "\n"
      ]
    },
    {
      "cell_type": "code",
      "execution_count": 40,
      "id": "394e8064",
      "metadata": {
        "id": "394e8064"
      },
      "outputs": [],
      "source": [
        "\n",
        "tfidf = gensim.models.TfidfModel(bow_corpus)"
      ]
    },
    {
      "cell_type": "code",
      "execution_count": 41,
      "id": "1eff644e",
      "metadata": {
        "id": "1eff644e"
      },
      "outputs": [],
      "source": [
        "corpus_tfidf = tfidf[bow_corpus]"
      ]
    },
    {
      "cell_type": "code",
      "execution_count": 42,
      "id": "ae3e6956",
      "metadata": {
        "id": "ae3e6956",
        "colab": {
          "base_uri": "https://localhost:8080/"
        },
        "outputId": "3cf439a3-dd0a-4981-e913-884503bf36af"
      },
      "outputs": [
        {
          "output_type": "execute_result",
          "data": {
            "text/plain": [
              "gensim.interfaces.TransformedCorpus"
            ]
          },
          "metadata": {},
          "execution_count": 42
        }
      ],
      "source": [
        "type(corpus_tfidf)"
      ]
    },
    {
      "cell_type": "code",
      "execution_count": 43,
      "id": "8d0d5092",
      "metadata": {
        "id": "8d0d5092",
        "colab": {
          "base_uri": "https://localhost:8080/"
        },
        "outputId": "45a33de0-839e-4b01-cd51-8642560e24dc"
      },
      "outputs": [
        {
          "output_type": "stream",
          "name": "stdout",
          "text": [
            "[(0, 0.2330017606421678),\n",
            " (1, 0.2330017606421678),\n",
            " (2, 0.33335015694057724),\n",
            " (3, 0.4660035212843356),\n",
            " (4, 0.33335015694057724),\n",
            " (5, 0.2330017606421678),\n",
            " (6, 0.2330017606421678),\n",
            " (7, 0.33335015694057724),\n",
            " (8, 0.1003483962984094),\n",
            " (9, 0.33335015694057724),\n",
            " (10, 0.33335015694057724)]\n"
          ]
        }
      ],
      "source": [
        "for doc in corpus_tfidf:\n",
        "    pprint(doc)\n",
        "    break"
      ]
    },
    {
      "cell_type": "code",
      "execution_count": 44,
      "id": "ed1d59a3",
      "metadata": {
        "id": "ed1d59a3"
      },
      "outputs": [],
      "source": [
        "documents = data['text'].values\n",
        "texts = [[word for word in str(document).split()] for document in documents]\n",
        "id2word = corpora.Dictionary(texts)\n",
        "corpus = [id2word.doc2bow(text) for text in texts]"
      ]
    },
    {
      "cell_type": "markdown",
      "id": "147b9d06",
      "metadata": {
        "id": "147b9d06"
      },
      "source": [
        "# Modeling Part:\n"
      ]
    },
    {
      "cell_type": "markdown",
      "id": "f2d42d3b",
      "metadata": {
        "id": "f2d42d3b"
      },
      "source": [
        "- In this section we are going to use the topic modeling algorithms and calculte the most important measure \"coherence\""
      ]
    },
    {
      "cell_type": "markdown",
      "id": "e4ea99ae",
      "metadata": {
        "id": "e4ea99ae"
      },
      "source": [
        "# 1- Latent Dirichlet Allocation( LDA)"
      ]
    },
    {
      "cell_type": "code",
      "execution_count": 45,
      "id": "742728b9",
      "metadata": {
        "id": "742728b9",
        "colab": {
          "base_uri": "https://localhost:8080/"
        },
        "outputId": "da34366a-631c-46b8-a102-acec2482fa88"
      },
      "outputs": [
        {
          "output_type": "stream",
          "name": "stderr",
          "text": [
            "WARNING:gensim.models.ldamulticore:too few updates, training might not converge; consider increasing the number of passes or iterations to improve accuracy\n"
          ]
        }
      ],
      "source": [
        "lda_model = gensim.models.LdaMulticore(bow_corpus, num_topics=10, id2word=dictionary, passes=2, workers=2)"
      ]
    },
    {
      "cell_type": "code",
      "execution_count": 46,
      "id": "34d5dc6c",
      "metadata": {
        "scrolled": false,
        "id": "34d5dc6c",
        "colab": {
          "base_uri": "https://localhost:8080/"
        },
        "outputId": "0e315f2c-70ff-43f0-afab-3290c8ee01d3"
      },
      "outputs": [
        {
          "output_type": "stream",
          "name": "stdout",
          "text": [
            "Topic: 0 \n",
            "Words: 0.110*\"طلب\" + 0.084*\"رقم\" + 0.084*\"قومى\" + 0.057*\"الخاص\" + 0.030*\"تقدم\" + 0.030*\"عداد\" + 0.030*\"تصحيح\" + 0.030*\"أمات\" + 0.030*\"تركيب\" + 0.030*\"ودى\"\n",
            "Topic: 1 \n",
            "Words: 0.087*\"عمل\" + 0.059*\"معاين\" + 0.031*\"وقف\" + 0.031*\"اتقبل\" + 0.031*\"الاول\" + 0.031*\"استكمال\" + 0.031*\"كتير\" + 0.031*\"خلى\" + 0.031*\"سرع\" + 0.031*\"اتاخر\"\n",
            "Topic: 2 \n",
            "Words: 0.013*\"موثق\" + 0.013*\"استطاعة\" + 0.013*\"عقد\" + 0.013*\"طلب\" + 0.013*\"ايجار\" + 0.013*\"رقم\" + 0.013*\"باضافة\" + 0.013*\"تغير\" + 0.013*\"حال\" + 0.013*\"حساب\"\n",
            "Topic: 3 \n",
            "Words: 0.013*\"موثق\" + 0.013*\"طلب\" + 0.013*\"استطاعة\" + 0.013*\"عقد\" + 0.013*\"رقم\" + 0.013*\"ايجار\" + 0.013*\"حال\" + 0.013*\"رجاء\" + 0.013*\"تغير\" + 0.013*\"باضافة\"\n",
            "Topic: 4 \n",
            "Words: 0.013*\"استطاعة\" + 0.013*\"طلب\" + 0.013*\"موثق\" + 0.013*\"عقد\" + 0.013*\"ايجار\" + 0.013*\"رقم\" + 0.013*\"باضافة\" + 0.013*\"حال\" + 0.013*\"قومى\" + 0.013*\"حساب\"\n",
            "Topic: 5 \n",
            "Words: 0.164*\"استطاعة\" + 0.164*\"موثق\" + 0.094*\"عقد\" + 0.068*\"باضافة\" + 0.068*\"ايجار\" + 0.006*\"تعديل\" + 0.006*\"واضافة\" + 0.006*\"طلب\" + 0.006*\"رقم\" + 0.006*\"حال\"\n",
            "Topic: 6 \n",
            "Words: 0.113*\"طلب\" + 0.113*\"تغير\" + 0.113*\"حال\" + 0.059*\"كثر\" + 0.059*\"شهر\" + 0.059*\"انتهاء\" + 0.059*\"المده\" + 0.059*\"رجاء\" + 0.005*\"استطاعة\" + 0.005*\"موثق\"\n",
            "Topic: 7 \n",
            "Words: 0.135*\"حساب\" + 0.071*\"الخاص\" + 0.071*\"كلم\" + 0.071*\"قومى\" + 0.071*\"سر\" + 0.071*\"نتزكر\" + 0.071*\"رقم\" + 0.006*\"استطاعة\" + 0.006*\"موثق\" + 0.006*\"عقد\"\n",
            "Topic: 8 \n",
            "Words: 0.097*\"طلب\" + 0.051*\"الفنيه\" + 0.051*\"للدراسه\" + 0.051*\"تركيب\" + 0.051*\"الافاده\" + 0.051*\"رجى\" + 0.051*\"مقدم\" + 0.051*\"اغسطس\" + 0.051*\"تاريخ\" + 0.051*\"بالافاده\"\n",
            "Topic: 9 \n",
            "Words: 0.107*\"حال\" + 0.056*\"عليكملدي\" + 0.056*\"دراس\" + 0.056*\"توقف\" + 0.056*\"سلام\" + 0.056*\"تغير\" + 0.056*\"فن\" + 0.056*\"رجاء\" + 0.056*\"الافاده\" + 0.056*\"شكر\"\n"
          ]
        }
      ],
      "source": [
        "for idx, topic in lda_model.print_topics(-1):\n",
        "    print('Topic: {} \\nWords: {}'.format(idx, topic))"
      ]
    },
    {
      "cell_type": "markdown",
      "id": "13bb5635",
      "metadata": {
        "id": "13bb5635"
      },
      "source": [
        "### LDA Coherence with u_mass"
      ]
    },
    {
      "cell_type": "code",
      "execution_count": 47,
      "id": "81efd890",
      "metadata": {
        "id": "81efd890",
        "colab": {
          "base_uri": "https://localhost:8080/"
        },
        "outputId": "7b1b55db-7e64-435d-995d-652d58b0d09a"
      },
      "outputs": [
        {
          "output_type": "stream",
          "name": "stdout",
          "text": [
            "\n",
            "Coherence Score with u_mass:  -15.796892798958657\n"
          ]
        }
      ],
      "source": [
        "# Compute Coherence Score\n",
        "coherence_model_lda = CoherenceModel(model=lda_model, dictionary=dictionary, coherence='u_mass',corpus=bow_corpus)\n",
        "coherence_lda_uMass = coherence_model_lda.get_coherence()\n",
        "print('\\nCoherence Score with u_mass: ', coherence_lda_uMass)"
      ]
    },
    {
      "cell_type": "markdown",
      "id": "011c2e24",
      "metadata": {
        "id": "011c2e24"
      },
      "source": [
        "### LDA cohernece with c_v"
      ]
    },
    {
      "cell_type": "code",
      "execution_count": 48,
      "id": "c9a590d2",
      "metadata": {
        "id": "c9a590d2",
        "colab": {
          "base_uri": "https://localhost:8080/"
        },
        "outputId": "78f09dcd-05df-484a-8764-ed3ac9c2ba0d"
      },
      "outputs": [
        {
          "output_type": "stream",
          "name": "stdout",
          "text": [
            "\n",
            "Coherence Score with c_v:  0.5676901999545799\n"
          ]
        }
      ],
      "source": [
        "\n",
        "# Compute Coherence Score with tfidf and u_mass parameter\n",
        "coherence_model_lda = CoherenceModel(model=lda_model, dictionary=dictionary, coherence='c_v', texts =processed_docs  )\n",
        "coherence_lda_cv = coherence_model_lda.get_coherence()\n",
        "print('\\nCoherence Score with c_v: ', coherence_lda_cv)"
      ]
    },
    {
      "cell_type": "markdown",
      "id": "8852055f",
      "metadata": {
        "id": "8852055f"
      },
      "source": [
        "### LDA Cohernece with c_npmi"
      ]
    },
    {
      "cell_type": "code",
      "execution_count": 49,
      "id": "18066675",
      "metadata": {
        "id": "18066675",
        "colab": {
          "base_uri": "https://localhost:8080/"
        },
        "outputId": "8933f80e-7e8d-430a-b722-1866852b7223"
      },
      "outputs": [
        {
          "output_type": "stream",
          "name": "stdout",
          "text": [
            "\n",
            "Coherence Score with c_npmi:  -0.34658886073215867\n"
          ]
        }
      ],
      "source": [
        "#corpus_tfidf\n",
        "# Compute Coherence Score with tfidf and u_mass parameter\n",
        "coherence_model_lda = CoherenceModel(model=lda_model, dictionary=dictionary, coherence='c_npmi', texts =processed_docs  )\n",
        "coherence_lda_npmi = coherence_model_lda.get_coherence()\n",
        "print('\\nCoherence Score with c_npmi: ', coherence_lda_npmi)"
      ]
    },
    {
      "cell_type": "markdown",
      "id": "894001e7",
      "metadata": {
        "id": "894001e7"
      },
      "source": [
        "### LDA Cohernece with C_uci"
      ]
    },
    {
      "cell_type": "code",
      "execution_count": 50,
      "id": "929f67f3",
      "metadata": {
        "id": "929f67f3",
        "colab": {
          "base_uri": "https://localhost:8080/"
        },
        "outputId": "426800ad-f95c-45ff-8842-2dbd5260b42e"
      },
      "outputs": [
        {
          "output_type": "stream",
          "name": "stdout",
          "text": [
            "\n",
            "Coherence Score:  -14.014338983535703\n"
          ]
        }
      ],
      "source": [
        "\n",
        "coherence_model_lda = CoherenceModel(model=lda_model, texts=processed_docs, dictionary=dictionary, coherence='c_uci')\n",
        "coherence_lda_uci = coherence_model_lda.get_coherence()\n",
        "print('\\nCoherence Score: ', coherence_lda_uci)"
      ]
    },
    {
      "cell_type": "markdown",
      "id": "86432d54",
      "metadata": {
        "id": "86432d54"
      },
      "source": [
        "### Optimal number of topics LDA"
      ]
    },
    {
      "cell_type": "markdown",
      "id": "bc780556",
      "metadata": {
        "id": "bc780556"
      },
      "source": [
        "The last step is to find the optimal number of topics.We need to build many LDA models with different values of the number of topics (k) and pick the one that gives the highest coherence value. Choosing a ‘k’ that marks the end of a rapid growth of topic coherence usually offers meaningful and interpretable topics. Picking an even higher value can sometimes provide more granular sub-topics. If you see the same keywords being repeated in multiple topics, it’s probably a sign that the ‘k’ is too large.\n",
        "\n",
        "read more about how to implement this step: https://datascience.oneoffcoder.com/topic-modeling-gensim.html"
      ]
    },
    {
      "cell_type": "code",
      "execution_count": 51,
      "id": "303155ca",
      "metadata": {
        "id": "303155ca",
        "colab": {
          "base_uri": "https://localhost:8080/"
        },
        "outputId": "6e9197b2-074a-4e90-c495-bf5435e552ed"
      },
      "outputs": [
        {
          "output_type": "stream",
          "name": "stderr",
          "text": [
            "WARNING:gensim.models.ldamulticore:too few updates, training might not converge; consider increasing the number of passes or iterations to improve accuracy\n",
            "WARNING:gensim.models.ldamulticore:too few updates, training might not converge; consider increasing the number of passes or iterations to improve accuracy\n",
            "WARNING:gensim.models.ldamulticore:too few updates, training might not converge; consider increasing the number of passes or iterations to improve accuracy\n",
            "WARNING:gensim.models.ldamulticore:too few updates, training might not converge; consider increasing the number of passes or iterations to improve accuracy\n",
            "WARNING:gensim.models.ldamulticore:too few updates, training might not converge; consider increasing the number of passes or iterations to improve accuracy\n",
            "WARNING:gensim.models.ldamulticore:too few updates, training might not converge; consider increasing the number of passes or iterations to improve accuracy\n",
            "WARNING:gensim.models.ldamulticore:too few updates, training might not converge; consider increasing the number of passes or iterations to improve accuracy\n",
            "WARNING:gensim.models.ldamulticore:too few updates, training might not converge; consider increasing the number of passes or iterations to improve accuracy\n"
          ]
        }
      ],
      "source": [
        "results = []\n",
        "\n",
        "for t in range(2,10):\n",
        "    lda_model = gensim.models.LdaMulticore(bow_corpus, id2word=dictionary, passes=2, workers=2,num_topics=t)\n",
        "    corpus_lda = lda_model[corpus_tfidf]\n",
        "\n",
        "    cm = CoherenceModel(model=lda_model, corpus=corpus_lda, coherence='u_mass')\n",
        "    score = cm.get_coherence()\n",
        "    tup = t, score\n",
        "    results.append(tup)\n",
        "\n",
        "results = pd.DataFrame(results, columns=['topic', 'score'])"
      ]
    },
    {
      "cell_type": "code",
      "execution_count": 52,
      "id": "6a6491b1",
      "metadata": {
        "id": "6a6491b1",
        "colab": {
          "base_uri": "https://localhost:8080/",
          "height": 300
        },
        "outputId": "648ba9f3-01f8-423f-fb36-abe676f2c2cb"
      },
      "outputs": [
        {
          "output_type": "execute_result",
          "data": {
            "text/plain": [
              "   topic     score\n",
              "0      2 -1.817830\n",
              "1      3 -1.939019\n",
              "2      4 -3.417521\n",
              "3      5 -3.053955\n",
              "4      6 -3.587185\n",
              "5      7 -3.781087\n",
              "6      8 -4.926320\n",
              "7      9 -4.718280"
            ],
            "text/html": [
              "\n",
              "  <div id=\"df-db27343d-1696-417c-b204-1452f5a07a3e\" class=\"colab-df-container\">\n",
              "    <div>\n",
              "<style scoped>\n",
              "    .dataframe tbody tr th:only-of-type {\n",
              "        vertical-align: middle;\n",
              "    }\n",
              "\n",
              "    .dataframe tbody tr th {\n",
              "        vertical-align: top;\n",
              "    }\n",
              "\n",
              "    .dataframe thead th {\n",
              "        text-align: right;\n",
              "    }\n",
              "</style>\n",
              "<table border=\"1\" class=\"dataframe\">\n",
              "  <thead>\n",
              "    <tr style=\"text-align: right;\">\n",
              "      <th></th>\n",
              "      <th>topic</th>\n",
              "      <th>score</th>\n",
              "    </tr>\n",
              "  </thead>\n",
              "  <tbody>\n",
              "    <tr>\n",
              "      <th>0</th>\n",
              "      <td>2</td>\n",
              "      <td>-1.817830</td>\n",
              "    </tr>\n",
              "    <tr>\n",
              "      <th>1</th>\n",
              "      <td>3</td>\n",
              "      <td>-1.939019</td>\n",
              "    </tr>\n",
              "    <tr>\n",
              "      <th>2</th>\n",
              "      <td>4</td>\n",
              "      <td>-3.417521</td>\n",
              "    </tr>\n",
              "    <tr>\n",
              "      <th>3</th>\n",
              "      <td>5</td>\n",
              "      <td>-3.053955</td>\n",
              "    </tr>\n",
              "    <tr>\n",
              "      <th>4</th>\n",
              "      <td>6</td>\n",
              "      <td>-3.587185</td>\n",
              "    </tr>\n",
              "    <tr>\n",
              "      <th>5</th>\n",
              "      <td>7</td>\n",
              "      <td>-3.781087</td>\n",
              "    </tr>\n",
              "    <tr>\n",
              "      <th>6</th>\n",
              "      <td>8</td>\n",
              "      <td>-4.926320</td>\n",
              "    </tr>\n",
              "    <tr>\n",
              "      <th>7</th>\n",
              "      <td>9</td>\n",
              "      <td>-4.718280</td>\n",
              "    </tr>\n",
              "  </tbody>\n",
              "</table>\n",
              "</div>\n",
              "    <div class=\"colab-df-buttons\">\n",
              "\n",
              "  <div class=\"colab-df-container\">\n",
              "    <button class=\"colab-df-convert\" onclick=\"convertToInteractive('df-db27343d-1696-417c-b204-1452f5a07a3e')\"\n",
              "            title=\"Convert this dataframe to an interactive table.\"\n",
              "            style=\"display:none;\">\n",
              "\n",
              "  <svg xmlns=\"http://www.w3.org/2000/svg\" height=\"24px\" viewBox=\"0 -960 960 960\">\n",
              "    <path d=\"M120-120v-720h720v720H120Zm60-500h600v-160H180v160Zm220 220h160v-160H400v160Zm0 220h160v-160H400v160ZM180-400h160v-160H180v160Zm440 0h160v-160H620v160ZM180-180h160v-160H180v160Zm440 0h160v-160H620v160Z\"/>\n",
              "  </svg>\n",
              "    </button>\n",
              "\n",
              "  <style>\n",
              "    .colab-df-container {\n",
              "      display:flex;\n",
              "      gap: 12px;\n",
              "    }\n",
              "\n",
              "    .colab-df-convert {\n",
              "      background-color: #E8F0FE;\n",
              "      border: none;\n",
              "      border-radius: 50%;\n",
              "      cursor: pointer;\n",
              "      display: none;\n",
              "      fill: #1967D2;\n",
              "      height: 32px;\n",
              "      padding: 0 0 0 0;\n",
              "      width: 32px;\n",
              "    }\n",
              "\n",
              "    .colab-df-convert:hover {\n",
              "      background-color: #E2EBFA;\n",
              "      box-shadow: 0px 1px 2px rgba(60, 64, 67, 0.3), 0px 1px 3px 1px rgba(60, 64, 67, 0.15);\n",
              "      fill: #174EA6;\n",
              "    }\n",
              "\n",
              "    .colab-df-buttons div {\n",
              "      margin-bottom: 4px;\n",
              "    }\n",
              "\n",
              "    [theme=dark] .colab-df-convert {\n",
              "      background-color: #3B4455;\n",
              "      fill: #D2E3FC;\n",
              "    }\n",
              "\n",
              "    [theme=dark] .colab-df-convert:hover {\n",
              "      background-color: #434B5C;\n",
              "      box-shadow: 0px 1px 3px 1px rgba(0, 0, 0, 0.15);\n",
              "      filter: drop-shadow(0px 1px 2px rgba(0, 0, 0, 0.3));\n",
              "      fill: #FFFFFF;\n",
              "    }\n",
              "  </style>\n",
              "\n",
              "    <script>\n",
              "      const buttonEl =\n",
              "        document.querySelector('#df-db27343d-1696-417c-b204-1452f5a07a3e button.colab-df-convert');\n",
              "      buttonEl.style.display =\n",
              "        google.colab.kernel.accessAllowed ? 'block' : 'none';\n",
              "\n",
              "      async function convertToInteractive(key) {\n",
              "        const element = document.querySelector('#df-db27343d-1696-417c-b204-1452f5a07a3e');\n",
              "        const dataTable =\n",
              "          await google.colab.kernel.invokeFunction('convertToInteractive',\n",
              "                                                    [key], {});\n",
              "        if (!dataTable) return;\n",
              "\n",
              "        const docLinkHtml = 'Like what you see? Visit the ' +\n",
              "          '<a target=\"_blank\" href=https://colab.research.google.com/notebooks/data_table.ipynb>data table notebook</a>'\n",
              "          + ' to learn more about interactive tables.';\n",
              "        element.innerHTML = '';\n",
              "        dataTable['output_type'] = 'display_data';\n",
              "        await google.colab.output.renderOutput(dataTable, element);\n",
              "        const docLink = document.createElement('div');\n",
              "        docLink.innerHTML = docLinkHtml;\n",
              "        element.appendChild(docLink);\n",
              "      }\n",
              "    </script>\n",
              "  </div>\n",
              "\n",
              "\n",
              "<div id=\"df-2bf8e798-53fe-4371-9880-e1f498859c83\">\n",
              "  <button class=\"colab-df-quickchart\" onclick=\"quickchart('df-2bf8e798-53fe-4371-9880-e1f498859c83')\"\n",
              "            title=\"Suggest charts\"\n",
              "            style=\"display:none;\">\n",
              "\n",
              "<svg xmlns=\"http://www.w3.org/2000/svg\" height=\"24px\"viewBox=\"0 0 24 24\"\n",
              "     width=\"24px\">\n",
              "    <g>\n",
              "        <path d=\"M19 3H5c-1.1 0-2 .9-2 2v14c0 1.1.9 2 2 2h14c1.1 0 2-.9 2-2V5c0-1.1-.9-2-2-2zM9 17H7v-7h2v7zm4 0h-2V7h2v10zm4 0h-2v-4h2v4z\"/>\n",
              "    </g>\n",
              "</svg>\n",
              "  </button>\n",
              "\n",
              "<style>\n",
              "  .colab-df-quickchart {\n",
              "      --bg-color: #E8F0FE;\n",
              "      --fill-color: #1967D2;\n",
              "      --hover-bg-color: #E2EBFA;\n",
              "      --hover-fill-color: #174EA6;\n",
              "      --disabled-fill-color: #AAA;\n",
              "      --disabled-bg-color: #DDD;\n",
              "  }\n",
              "\n",
              "  [theme=dark] .colab-df-quickchart {\n",
              "      --bg-color: #3B4455;\n",
              "      --fill-color: #D2E3FC;\n",
              "      --hover-bg-color: #434B5C;\n",
              "      --hover-fill-color: #FFFFFF;\n",
              "      --disabled-bg-color: #3B4455;\n",
              "      --disabled-fill-color: #666;\n",
              "  }\n",
              "\n",
              "  .colab-df-quickchart {\n",
              "    background-color: var(--bg-color);\n",
              "    border: none;\n",
              "    border-radius: 50%;\n",
              "    cursor: pointer;\n",
              "    display: none;\n",
              "    fill: var(--fill-color);\n",
              "    height: 32px;\n",
              "    padding: 0;\n",
              "    width: 32px;\n",
              "  }\n",
              "\n",
              "  .colab-df-quickchart:hover {\n",
              "    background-color: var(--hover-bg-color);\n",
              "    box-shadow: 0 1px 2px rgba(60, 64, 67, 0.3), 0 1px 3px 1px rgba(60, 64, 67, 0.15);\n",
              "    fill: var(--button-hover-fill-color);\n",
              "  }\n",
              "\n",
              "  .colab-df-quickchart-complete:disabled,\n",
              "  .colab-df-quickchart-complete:disabled:hover {\n",
              "    background-color: var(--disabled-bg-color);\n",
              "    fill: var(--disabled-fill-color);\n",
              "    box-shadow: none;\n",
              "  }\n",
              "\n",
              "  .colab-df-spinner {\n",
              "    border: 2px solid var(--fill-color);\n",
              "    border-color: transparent;\n",
              "    border-bottom-color: var(--fill-color);\n",
              "    animation:\n",
              "      spin 1s steps(1) infinite;\n",
              "  }\n",
              "\n",
              "  @keyframes spin {\n",
              "    0% {\n",
              "      border-color: transparent;\n",
              "      border-bottom-color: var(--fill-color);\n",
              "      border-left-color: var(--fill-color);\n",
              "    }\n",
              "    20% {\n",
              "      border-color: transparent;\n",
              "      border-left-color: var(--fill-color);\n",
              "      border-top-color: var(--fill-color);\n",
              "    }\n",
              "    30% {\n",
              "      border-color: transparent;\n",
              "      border-left-color: var(--fill-color);\n",
              "      border-top-color: var(--fill-color);\n",
              "      border-right-color: var(--fill-color);\n",
              "    }\n",
              "    40% {\n",
              "      border-color: transparent;\n",
              "      border-right-color: var(--fill-color);\n",
              "      border-top-color: var(--fill-color);\n",
              "    }\n",
              "    60% {\n",
              "      border-color: transparent;\n",
              "      border-right-color: var(--fill-color);\n",
              "    }\n",
              "    80% {\n",
              "      border-color: transparent;\n",
              "      border-right-color: var(--fill-color);\n",
              "      border-bottom-color: var(--fill-color);\n",
              "    }\n",
              "    90% {\n",
              "      border-color: transparent;\n",
              "      border-bottom-color: var(--fill-color);\n",
              "    }\n",
              "  }\n",
              "</style>\n",
              "\n",
              "  <script>\n",
              "    async function quickchart(key) {\n",
              "      const quickchartButtonEl =\n",
              "        document.querySelector('#' + key + ' button');\n",
              "      quickchartButtonEl.disabled = true;  // To prevent multiple clicks.\n",
              "      quickchartButtonEl.classList.add('colab-df-spinner');\n",
              "      try {\n",
              "        const charts = await google.colab.kernel.invokeFunction(\n",
              "            'suggestCharts', [key], {});\n",
              "      } catch (error) {\n",
              "        console.error('Error during call to suggestCharts:', error);\n",
              "      }\n",
              "      quickchartButtonEl.classList.remove('colab-df-spinner');\n",
              "      quickchartButtonEl.classList.add('colab-df-quickchart-complete');\n",
              "    }\n",
              "    (() => {\n",
              "      let quickchartButtonEl =\n",
              "        document.querySelector('#df-2bf8e798-53fe-4371-9880-e1f498859c83 button');\n",
              "      quickchartButtonEl.style.display =\n",
              "        google.colab.kernel.accessAllowed ? 'block' : 'none';\n",
              "    })();\n",
              "  </script>\n",
              "</div>\n",
              "    </div>\n",
              "  </div>\n"
            ]
          },
          "metadata": {},
          "execution_count": 52
        }
      ],
      "source": [
        "results"
      ]
    },
    {
      "cell_type": "code",
      "execution_count": 53,
      "id": "7ddbe3c7",
      "metadata": {
        "id": "7ddbe3c7",
        "colab": {
          "base_uri": "https://localhost:8080/",
          "height": 465
        },
        "outputId": "6a98804a-fadb-4ee8-a685-7d3f5a0da044"
      },
      "outputs": [
        {
          "output_type": "display_data",
          "data": {
            "text/plain": [
              "<Figure size 1000x500 with 1 Axes>"
            ],
            "image/png": "[encoded data removed]"
          },
          "metadata": {}
        }
      ],
      "source": [
        "plt.figure(figsize = (10,5))\n",
        "s = pd.Series(results.score.values, index=results.topic.values)\n",
        "plt.xlabel(\"number of topics\")\n",
        "plt.ylabel(\"Score\")\n",
        "_ = s.plot()"
      ]
    },
    {
      "cell_type": "code",
      "execution_count": 54,
      "id": "a13de7d0",
      "metadata": {
        "id": "a13de7d0",
        "colab": {
          "base_uri": "https://localhost:8080/",
          "height": 862
        },
        "outputId": "57de6702-18f1-42ac-e5b8-ee145f81e2f1"
      },
      "outputs": [
        {
          "output_type": "execute_result",
          "data": {
            "text/plain": [
              "PreparedData(topic_coordinates=              x         y  topics  cluster       Freq\n",
              "topic                                                \n",
              "2     -0.216096  0.005936       1        1  31.724002\n",
              "5      0.074476  0.139268       2        1  29.842575\n",
              "6      0.079434 -0.111893       3        1  21.783296\n",
              "7      0.088001  0.010446       4        1  10.178201\n",
              "4      0.020026 -0.038237       5        1   2.916085\n",
              "8     -0.033099  0.005274       6        1   0.888963\n",
              "3      0.004254 -0.021327       7        1   0.888961\n",
              "0     -0.008498  0.005266       8        1   0.888958\n",
              "1     -0.008498  0.005266       9        1   0.888958, topic_info=       Term      Freq     Total Category  logprob  loglift\n",
              "3       حال  3.000000  3.000000  Default  30.0000  30.0000\n",
              "1      تغير  2.000000  2.000000  Default  29.0000  29.0000\n",
              "37      عمل  2.000000  2.000000  Default  28.0000  28.0000\n",
              "11  استطاعة  1.000000  1.000000  Default  27.0000  27.0000\n",
              "14     موثق  1.000000  1.000000  Default  26.0000  26.0000\n",
              "..      ...       ...       ...      ...      ...      ...\n",
              "6      سلام  0.012983  1.888525   Topic9  -4.3307  -0.2570\n",
              "42      زمن  0.012983  1.196172   Topic9  -4.3307   0.1997\n",
              "43      عدى  0.012983  1.196172   Topic9  -4.3307   0.1997\n",
              "54    تركيب  0.012983  1.977712   Topic9  -4.3307  -0.3031\n",
              "40     اتته  0.012983  1.196174   Topic9  -4.3307   0.1997\n",
              "\n",
              "[404 rows x 6 columns], token_table=      Topic      Freq     Term\n",
              "term                          \n",
              "59        2  0.842814     أمات\n",
              "24        3  0.907955    اتاخر\n",
              "40        2  0.835999     اتته\n",
              "25        3  0.912295    اتقبل\n",
              "11        3  0.507895  استطاعة\n",
              "...     ...       ...      ...\n",
              "14        4  0.507894     موثق\n",
              "23        4  1.066588    نتزكر\n",
              "16        3  0.871050   واضافة\n",
              "71        2  0.842838      ودى\n",
              "39        3  0.914922      وقف\n",
              "\n",
              "[86 rows x 3 columns], R=30, lambda_step=0.01, plot_opts={'xlab': 'PC1', 'ylab': 'PC2'}, topic_order=[3, 6, 7, 8, 5, 9, 4, 1, 2])"
            ],
            "text/html": [
              "\n",
              "<link rel=\"stylesheet\" type=\"text/css\" href=\"https://cdn.jsdelivr.net/gh/bmabey/pyLDAvis@3.4.0/pyLDAvis/js/ldavis.v1.0.0.css\">\n",
              "\n",
              "\n",
              "<div id=\"ldavis_el27871384790162524003075111369\" style=\"background-color:white;\"></div>\n",
              "<script type=\"text/javascript\">\n",
              "\n",
              "var ldavis_el27871384790162524003075111369_data = {\"mdsDat\": {\"x\": [-0.21609601959888122, 0.07447571953087871, 0.07943417519295355, 0.0880012799648424, 0.020026093152772644, -0.033098735880713964, 0.004254050585699214, -0.008498288746751053, -0.008498274200800298], \"y\": [0.0059358860967058434, 0.1392677971886141, -0.11189258578029153, 0.010446269478566694, -0.03823686066080752, 0.005274386906449318, -0.02132672168344988, 0.00526599698762474, 0.005265831466588235], \"topics\": [1, 2, 3, 4, 5, 6, 7, 8, 9], \"cluster\": [1, 1, 1, 1, 1, 1, 1, 1, 1], \"Freq\": [31.72400222828489, 29.84257516427465, 21.783295657123013, 10.178201446134688, 2.9160854695924012, 0.8889625331819717, 0.8889607145858949, 0.8889583934112482, 0.8889583934112482]}, \"tinfo\": {\"Term\": [\"\\u062d\\u0627\\u0644\", \"\\u062a\\u063a\\u064a\\u0631\", \"\\u0639\\u0645\\u0644\", \"\\u0627\\u0633\\u062a\\u0637\\u0627\\u0639\\u0629\", \"\\u0645\\u0648\\u062b\\u0642\", \"\\u0642\\u0648\\u0645\\u0649\", \"\\u062d\\u0633\\u0627\\u0628\", \"\\u0631\\u062c\\u0627\\u0621\", \"\\u0627\\u0644\\u062e\\u0627\\u0635\", \"\\u0645\\u0639\\u0627\\u064a\\u0646\", \"\\u0627\\u0644\\u0627\\u0641\\u0627\\u062f\\u0647\", \"\\u0637\\u0644\\u0628\", \"\\u0631\\u0642\\u0645\", \"\\u0639\\u0642\\u062f\", \"\\u0633\\u0644\\u0627\\u0645\", \"\\u0627\\u0646\\u062a\\u0647\\u0627\\u0621\", \"\\u0627\\u0644\\u0645\\u062f\\u0647\", \"\\u0634\\u0647\\u0631\", \"\\u0643\\u062b\\u0631\", \"\\u062a\\u0631\\u0643\\u064a\\u0628\", \"\\u0627\\u064a\\u062c\\u0627\\u0631\", \"\\u062a\\u0627\\u0644\", \"\\u0627\\u062a\\u0642\\u0628\\u0644\", \"\\u0628\\u064a\\u0627\\u0646\", \"\\u0648\\u0642\\u0641\", \"\\u0643\\u062a\\u064a\\u0631\", \"\\u0627\\u062a\\u0627\\u062e\\u0631\", \"\\u0633\\u0631\\u0639\", \"\\u0639\\u0644\\u0645\", \"\\u0639\\u062f\\u0649\", \"\\u062d\\u0627\\u0644\", \"\\u062a\\u063a\\u064a\\u0631\", \"\\u0627\\u0644\\u0627\\u0641\\u0627\\u062f\\u0647\", \"\\u0631\\u062c\\u0627\\u0621\", \"\\u0645\\u0642\\u062f\\u0645\", \"\\u0627\\u0644\", \"\\u0627\\u0644\\u0641\\u0646\\u064a\\u0647\", \"\\u0628\\u0627\\u0644\\u0627\\u0641\\u0627\\u062f\\u0647\", \"\\u0627\\u063a\\u0633\\u0637\\u0633\", \"\\u0631\\u062c\\u0649\", \"\\u0644\\u0644\\u062f\\u0631\\u0627\\u0633\\u0647\", \"\\u0641\\u0646\", \"\\u0639\\u0644\\u064a\\u0643\\u0645\\u0644\\u062f\\u064a\", \"\\u0634\\u0643\\u0631\", \"\\u062a\\u0627\\u0631\\u064a\\u062e\", \"\\u062a\\u0648\\u0642\\u0641\", \"\\u062f\\u0631\\u0627\\u0633\", \"\\u062a\\u0643\\u0631\\u0645\", \"\\u0643\\u062b\\u0631\", \"\\u0634\\u0647\\u0631\", \"\\u0627\\u0644\\u0645\\u062f\\u0647\", \"\\u0627\\u0646\\u062a\\u0647\\u0627\\u0621\", \"\\u0637\\u0644\\u0628\", \"\\u0633\\u0644\\u0627\\u0645\", \"\\u062a\\u0631\\u0643\\u064a\\u0628\", \"\\u0631\\u0642\\u0645\", \"\\u0627\\u064a\\u062c\\u0627\\u0631\", \"\\u0628\\u0627\\u0636\\u0627\\u0641\\u0629\", \"\\u0633\\u0631\", \"\\u0646\\u062a\\u0632\\u0643\\u0631\", \"\\u0645\\u0648\\u062b\\u0642\", \"\\u0627\\u0633\\u062a\\u0637\\u0627\\u0639\\u0629\", \"\\u0639\\u0642\\u062f\", \"\\u062d\\u0633\\u0627\\u0628\", \"\\u0645\\u0639\\u0627\\u064a\\u0646\", \"\\u063a\\u064a\\u0631\\u0649\", \"\\u0627\\u062a\\u062a\\u0647\", \"\\u0645\\u062f\", \"\\u062a\\u0627\\u062e\\u0631\\u062a\", \"\\u0639\\u062f\\u0649\", \"\\u0632\\u0645\\u0646\", \"\\u0639\\u0644\\u0645\", \"\\u0642\\u0648\\u0645\\u0649\", \"\\u0645\\u0631\\u0641\\u0642\", \"\\u0639\\u062f\\u0627\\u062f\", \"\\u0642\\u0628\\u0648\\u0644\", \"\\u0635\\u0648\\u0631\", \"\\u0631\\u062c\\u0627\", \"\\u0623\\u0645\\u0627\\u062a\", \"\\u0648\\u062f\\u0649\", \"\\u062a\\u0641\\u0639\\u064a\\u0644\", \"\\u062a\\u0633\\u0628\\u0628\", \"\\u062a\\u0635\\u062d\\u064a\\u062d\", \"\\u0643\\u062a\\u0627\\u0628\", \"\\u0628\\u0637\\u0627\\u0642\\u0629\", \"\\u062a\\u0642\\u062f\\u0645\", \"\\u0627\\u0644\\u062e\\u0627\\u0635\", \"\\u0631\\u0642\\u0645\", \"\\u062a\\u0631\\u0643\\u064a\\u0628\", \"\\u0637\\u0644\\u0628\", \"\\u0648\\u0642\\u0641\", \"\\u062a\\u0627\\u0644\", \"\\u062e\\u0644\\u0649\", \"\\u0627\\u0644\\u0627\\u0648\\u0644\", \"\\u0639\\u0645\\u0644\", \"\\u0639\\u0645\\u0644\", \"\\u062a\\u0639\\u062f\\u064a\\u0644\", \"\\u0648\\u0627\\u0636\\u0627\\u0641\\u0629\", \"\\u062d\\u0630\\u0641\", \"\\u0633\\u0631\\u0639\", \"\\u0627\\u062a\\u0627\\u062e\\u0631\", \"\\u0639\\u0627\\u0648\\u0632\", \"\\u0631\\u062f\", \"\\u0627\\u062a\\u0642\\u0628\\u0644\", \"\\u0627\\u0633\\u062a\\u0643\\u0645\\u0627\\u0644\", \"\\u0643\\u062a\\u064a\\u0631\", \"\\u062a\\u0627\\u0646\\u0649\", \"\\u0639\\u0644\\u0649\", \"\\u0628\\u064a\\u0627\\u0646\", \"\\u0627\\u0644\\u0627\\u0648\\u0644\", \"\\u062e\\u0644\\u0649\", \"\\u062a\\u0627\\u0644\", \"\\u0648\\u0642\\u0641\", \"\\u0639\\u0642\\u062f\", \"\\u0645\\u0648\\u062b\\u0642\", \"\\u0627\\u0633\\u062a\\u0637\\u0627\\u0639\\u0629\", \"\\u0633\\u0644\\u0627\\u0645\", \"\\u0637\\u0644\\u0628\", \"\\u0628\\u0637\\u0627\\u0642\\u0629\", \"\\u062a\\u0642\\u062f\\u0645\", \"\\u0643\\u062a\\u0627\\u0628\", \"\\u062a\\u0633\\u0628\\u0628\", \"\\u062a\\u0635\\u062d\\u064a\\u062d\", \"\\u062a\\u0641\\u0639\\u064a\\u0644\", \"\\u0648\\u062f\\u0649\", \"\\u0642\\u0648\\u0645\\u0649\", \"\\u0631\\u0642\\u0645\", \"\\u0627\\u0644\\u062e\\u0627\\u0635\", \"\\u062d\\u0633\\u0627\\u0628\", \"\\u0643\\u0644\\u0645\", \"\\u0646\\u062a\\u0632\\u0643\\u0631\", \"\\u0633\\u0631\", \"\\u0628\\u0627\\u0636\\u0627\\u0641\\u0629\", \"\\u0639\\u0642\\u062f\", \"\\u0627\\u0633\\u062a\\u0637\\u0627\\u0639\\u0629\", \"\\u0645\\u0648\\u062b\\u0642\", \"\\u0627\\u0644\\u062e\\u0627\\u0635\", \"\\u0642\\u0648\\u0645\\u0649\", \"\\u0631\\u0642\\u0645\", \"\\u0627\\u064a\\u062c\\u0627\\u0631\", \"\\u062a\\u0642\\u062f\\u0645\", \"\\u062a\\u0635\\u062d\\u064a\\u062d\", \"\\u0628\\u0637\\u0627\\u0642\\u0629\", \"\\u0645\\u0631\\u0641\\u0642\", \"\\u062a\\u0641\\u0639\\u064a\\u0644\", \"\\u0623\\u0645\\u0627\\u062a\", \"\\u0631\\u062c\\u0627\", \"\\u0648\\u062f\\u0649\", \"\\u0642\\u0628\\u0648\\u0644\", \"\\u062a\\u0633\\u0628\\u0628\", \"\\u0635\\u0648\\u0631\", \"\\u0643\\u062a\\u0627\\u0628\", \"\\u0639\\u062f\\u0627\\u062f\", \"\\u062a\\u0627\\u0644\", \"\\u0648\\u0642\\u0641\", \"\\u0627\\u062a\\u0642\\u0628\\u0644\", \"\\u0628\\u064a\\u0627\\u0646\", \"\\u0643\\u062a\\u064a\\u0631\", \"\\u062a\\u0631\\u0643\\u064a\\u0628\", \"\\u0637\\u0644\\u0628\", \"\\u062d\\u0627\\u0644\", \"\\u062a\\u063a\\u064a\\u0631\", \"\\u0645\\u0639\\u0627\\u064a\\u0646\", \"\\u0627\\u064a\\u062c\\u0627\\u0631\", \"\\u0627\\u0633\\u062a\\u0637\\u0627\\u0639\\u0629\", \"\\u0645\\u0648\\u062b\\u0642\", \"\\u0628\\u0627\\u0636\\u0627\\u0641\\u0629\", \"\\u0633\\u0631\", \"\\u0646\\u062a\\u0632\\u0643\\u0631\", \"\\u0643\\u0644\\u0645\", \"\\u062a\\u0627\\u0644\", \"\\u0648\\u0642\\u0641\", \"\\u0627\\u062a\\u0642\\u0628\\u0644\", \"\\u0628\\u064a\\u0627\\u0646\", \"\\u0643\\u062a\\u064a\\u0631\", \"\\u0627\\u062a\\u0627\\u062e\\u0631\", \"\\u0633\\u0631\\u0639\", \"\\u0627\\u0644\\u0627\\u0648\\u0644\", \"\\u062e\\u0644\\u0649\", \"\\u0631\\u062f\", \"\\u0639\\u0644\\u0649\", \"\\u0639\\u0627\\u0648\\u0632\", \"\\u062d\\u0630\\u0641\", \"\\u062a\\u0627\\u0646\\u0649\", \"\\u0627\\u0646\\u062a\\u0647\\u0627\\u0621\", \"\\u0627\\u0633\\u062a\\u0643\\u0645\\u0627\\u0644\", \"\\u0627\\u0644\\u0645\\u062f\\u0647\", \"\\u0634\\u0647\\u0631\", \"\\u0643\\u062b\\u0631\", \"\\u0648\\u0627\\u0636\\u0627\\u0641\\u0629\", \"\\u062a\\u0639\\u062f\\u064a\\u0644\", \"\\u062a\\u0642\\u062f\\u0645\", \"\\u0628\\u0637\\u0627\\u0642\\u0629\", \"\\u0637\\u0644\\u0628\", \"\\u062d\\u0627\\u0644\", \"\\u0639\\u0642\\u062f\", \"\\u0631\\u0642\\u0645\", \"\\u062d\\u0633\\u0627\\u0628\", \"\\u0627\\u0644\\u062e\\u0627\\u0635\", \"\\u0642\\u0648\\u0645\\u0649\", \"\\u062a\\u063a\\u064a\\u0631\", \"\\u0645\\u0639\\u0627\\u064a\\u0646\", \"\\u0627\\u0644\\u0627\\u0641\\u0627\\u062f\\u0647\", \"\\u0631\\u062c\\u0627\\u0621\", \"\\u0639\\u0644\\u0645\", \"\\u0632\\u0645\\u0646\", \"\\u0633\\u0644\\u0627\\u0645\", \"\\u0645\\u062f\", \"\\u0639\\u0645\\u0644\", \"\\u0639\\u062f\\u0649\", \"\\u062a\\u0631\\u0643\\u064a\\u0628\", \"\\u0627\\u0646\\u062a\\u0647\\u0627\\u0621\", \"\\u0627\\u0644\\u0645\\u062f\\u0647\", \"\\u0634\\u0647\\u0631\", \"\\u0643\\u062b\\u0631\", \"\\u0627\\u064a\\u062c\\u0627\\u0631\", \"\\u0628\\u0627\\u0636\\u0627\\u0641\\u0629\", \"\\u0633\\u0631\", \"\\u0646\\u062a\\u0632\\u0643\\u0631\", \"\\u0643\\u0644\\u0645\", \"\\u062a\\u0627\\u0644\", \"\\u0648\\u0642\\u0641\", \"\\u0627\\u062a\\u0642\\u0628\\u0644\", \"\\u0628\\u064a\\u0627\\u0646\", \"\\u0643\\u062a\\u064a\\u0631\", \"\\u0627\\u062a\\u0627\\u062e\\u0631\", \"\\u0633\\u0631\\u0639\", \"\\u0627\\u0644\\u0627\\u0648\\u0644\", \"\\u062e\\u0644\\u0649\", \"\\u0631\\u062f\", \"\\u0639\\u0644\\u0649\", \"\\u0639\\u0627\\u0648\\u0632\", \"\\u062d\\u0630\\u0641\", \"\\u062a\\u0627\\u0646\\u0649\", \"\\u0627\\u0633\\u062a\\u0643\\u0645\\u0627\\u0644\", \"\\u0648\\u0627\\u0636\\u0627\\u0641\\u0629\", \"\\u062a\\u0639\\u062f\\u064a\\u0644\", \"\\u062a\\u0642\\u062f\\u0645\", \"\\u0628\\u0637\\u0627\\u0642\\u0629\", \"\\u062a\\u0635\\u062d\\u064a\\u062d\", \"\\u062a\\u0641\\u0639\\u064a\\u0644\", \"\\u062a\\u063a\\u064a\\u0631\", \"\\u062d\\u0627\\u0644\", \"\\u0631\\u062c\\u0627\\u0621\", \"\\u0637\\u0644\\u0628\", \"\\u0645\\u0648\\u062b\\u0642\", \"\\u0627\\u0633\\u062a\\u0637\\u0627\\u0639\\u0629\", \"\\u0639\\u0642\\u062f\", \"\\u062d\\u0633\\u0627\\u0628\", \"\\u0631\\u0642\\u0645\", \"\\u0642\\u0648\\u0645\\u0649\", \"\\u0645\\u0639\\u0627\\u064a\\u0646\", \"\\u0627\\u0644\\u062e\\u0627\\u0635\", \"\\u0639\\u0644\\u0645\", \"\\u0627\\u0644\\u0627\\u0641\\u0627\\u062f\\u0647\", \"\\u0639\\u0645\\u0644\", \"\\u0633\\u0644\\u0627\\u0645\", \"\\u062a\\u0631\\u0643\\u064a\\u0628\", \"\\u0639\\u062f\\u0649\", \"\\u0632\\u0645\\u0646\", \"\\u062a\\u0627\\u062e\\u0631\\u062a\", \"\\u062a\\u0627\\u0644\", \"\\u0648\\u0642\\u0641\", \"\\u0628\\u064a\\u0627\\u0646\", \"\\u0627\\u062a\\u0642\\u0628\\u0644\", \"\\u0643\\u062a\\u064a\\u0631\", \"\\u0627\\u062a\\u0627\\u062e\\u0631\", \"\\u0633\\u0631\\u0639\", \"\\u0627\\u0644\\u0627\\u0648\\u0644\", \"\\u062e\\u0644\\u0649\", \"\\u0631\\u062f\", \"\\u0639\\u0644\\u0649\", \"\\u0639\\u0627\\u0648\\u0632\", \"\\u062d\\u0630\\u0641\", \"\\u0627\\u064a\\u062c\\u0627\\u0631\", \"\\u062a\\u0627\\u0646\\u0649\", \"\\u0627\\u0633\\u062a\\u0643\\u0645\\u0627\\u0644\", \"\\u0639\\u0645\\u0644\", \"\\u0628\\u0627\\u0636\\u0627\\u0641\\u0629\", \"\\u0633\\u0631\", \"\\u0646\\u062a\\u0632\\u0643\\u0631\", \"\\u0643\\u0644\\u0645\", \"\\u0633\\u0644\\u0627\\u0645\", \"\\u0627\\u0646\\u062a\\u0647\\u0627\\u0621\", \"\\u0627\\u0644\\u0645\\u062f\\u0647\", \"\\u0634\\u0647\\u0631\", \"\\u0643\\u062b\\u0631\", \"\\u0648\\u0627\\u0636\\u0627\\u0641\\u0629\", \"\\u062a\\u0639\\u062f\\u064a\\u0644\", \"\\u062a\\u0642\\u062f\\u0645\", \"\\u0628\\u0637\\u0627\\u0642\\u0629\", \"\\u0637\\u0644\\u0628\", \"\\u0627\\u0633\\u062a\\u0637\\u0627\\u0639\\u0629\", \"\\u0645\\u0648\\u062b\\u0642\", \"\\u062d\\u0627\\u0644\", \"\\u0639\\u0642\\u062f\", \"\\u0631\\u0642\\u0645\", \"\\u0642\\u0648\\u0645\\u0649\", \"\\u0627\\u0644\\u062e\\u0627\\u0635\", \"\\u062d\\u0633\\u0627\\u0628\", \"\\u062a\\u063a\\u064a\\u0631\", \"\\u0645\\u0639\\u0627\\u064a\\u0646\", \"\\u0627\\u064a\\u062c\\u0627\\u0631\", \"\\u0628\\u0627\\u0636\\u0627\\u0641\\u0629\", \"\\u0633\\u0631\", \"\\u0646\\u062a\\u0632\\u0643\\u0631\", \"\\u0643\\u0644\\u0645\", \"\\u062a\\u0627\\u0644\", \"\\u0648\\u0642\\u0641\", \"\\u0627\\u062a\\u0642\\u0628\\u0644\", \"\\u0628\\u064a\\u0627\\u0646\", \"\\u0643\\u062a\\u064a\\u0631\", \"\\u0627\\u062a\\u0627\\u062e\\u0631\", \"\\u0633\\u0631\\u0639\", \"\\u0627\\u0644\\u0627\\u0648\\u0644\", \"\\u062e\\u0644\\u0649\", \"\\u0631\\u062f\", \"\\u0639\\u0644\\u0649\", \"\\u0639\\u0627\\u0648\\u0632\", \"\\u062d\\u0630\\u0641\", \"\\u062a\\u0627\\u0646\\u0649\", \"\\u0627\\u0646\\u062a\\u0647\\u0627\\u0621\", \"\\u0627\\u0633\\u062a\\u0643\\u0645\\u0627\\u0644\", \"\\u0627\\u0644\\u0645\\u062f\\u0647\", \"\\u0634\\u0647\\u0631\", \"\\u0643\\u062b\\u0631\", \"\\u0648\\u0627\\u0636\\u0627\\u0641\\u0629\", \"\\u062a\\u0639\\u062f\\u064a\\u0644\", \"\\u062a\\u0642\\u062f\\u0645\", \"\\u0628\\u0637\\u0627\\u0642\\u0629\", \"\\u062a\\u0635\\u062d\\u064a\\u062d\", \"\\u062a\\u0641\\u0639\\u064a\\u0644\", \"\\u0645\\u0648\\u062b\\u0642\", \"\\u0627\\u0633\\u062a\\u0637\\u0627\\u0639\\u0629\", \"\\u0637\\u0644\\u0628\", \"\\u062d\\u0627\\u0644\", \"\\u0631\\u0642\\u0645\", \"\\u0639\\u0642\\u062f\", \"\\u062d\\u0633\\u0627\\u0628\", \"\\u0627\\u0644\\u062e\\u0627\\u0635\", \"\\u0642\\u0648\\u0645\\u0649\", \"\\u0645\\u0639\\u0627\\u064a\\u0646\", \"\\u062a\\u063a\\u064a\\u0631\", \"\\u0631\\u062c\\u0627\\u0621\", \"\\u0632\\u0645\\u0646\", \"\\u0633\\u0644\\u0627\\u0645\", \"\\u0627\\u0644\\u0627\\u0641\\u0627\\u062f\\u0647\", \"\\u062a\\u0631\\u0643\\u064a\\u0628\", \"\\u0639\\u0644\\u0645\", \"\\u0639\\u062f\\u0649\", \"\\u0639\\u0645\\u0644\", \"\\u0627\\u062a\\u062a\\u0647\", \"\\u0634\\u0643\\u0631\", \"\\u0627\\u064a\\u062c\\u0627\\u0631\", \"\\u0628\\u0627\\u0636\\u0627\\u0641\\u0629\", \"\\u0633\\u0631\", \"\\u0646\\u062a\\u0632\\u0643\\u0631\", \"\\u0643\\u0644\\u0645\", \"\\u062a\\u0627\\u0644\", \"\\u0648\\u0642\\u0641\", \"\\u0627\\u062a\\u0642\\u0628\\u0644\", \"\\u0628\\u064a\\u0627\\u0646\", \"\\u0643\\u062a\\u064a\\u0631\", \"\\u0627\\u062a\\u0627\\u062e\\u0631\", \"\\u0633\\u0631\\u0639\", \"\\u0627\\u0644\\u0627\\u0648\\u0644\", \"\\u062e\\u0644\\u0649\", \"\\u0631\\u062f\", \"\\u0639\\u0644\\u0649\", \"\\u0639\\u0627\\u0648\\u0632\", \"\\u062d\\u0630\\u0641\", \"\\u062a\\u0627\\u0646\\u0649\", \"\\u0627\\u0646\\u062a\\u0647\\u0627\\u0621\", \"\\u0627\\u0633\\u062a\\u0643\\u0645\\u0627\\u0644\", \"\\u0627\\u0644\\u0645\\u062f\\u0647\", \"\\u0634\\u0647\\u0631\", \"\\u0643\\u062b\\u0631\", \"\\u0648\\u0627\\u0636\\u0627\\u0641\\u0629\", \"\\u062a\\u0639\\u062f\\u064a\\u0644\", \"\\u062a\\u0642\\u062f\\u0645\", \"\\u0628\\u0637\\u0627\\u0642\\u0629\", \"\\u062a\\u0635\\u062d\\u064a\\u062d\", \"\\u062a\\u0641\\u0639\\u064a\\u0644\", \"\\u0645\\u0648\\u062b\\u0642\", \"\\u0627\\u0633\\u062a\\u0637\\u0627\\u0639\\u0629\", \"\\u0637\\u0644\\u0628\", \"\\u0639\\u0642\\u062f\", \"\\u062d\\u0627\\u0644\", \"\\u0631\\u0642\\u0645\", \"\\u062d\\u0633\\u0627\\u0628\", \"\\u062a\\u063a\\u064a\\u0631\", \"\\u0627\\u0644\\u062e\\u0627\\u0635\", \"\\u0631\\u062c\\u0627\\u0621\", \"\\u0642\\u0648\\u0645\\u0649\", \"\\u0639\\u0644\\u0645\", \"\\u0645\\u0639\\u0627\\u064a\\u0646\", \"\\u0639\\u0645\\u0644\", \"\\u062a\\u0627\\u062e\\u0631\\u062a\", \"\\u0627\\u0644\\u0627\\u0641\\u0627\\u062f\\u0647\", \"\\u0633\\u0644\\u0627\\u0645\", \"\\u0632\\u0645\\u0646\", \"\\u0639\\u062f\\u0649\", \"\\u062a\\u0631\\u0643\\u064a\\u0628\", \"\\u0627\\u062a\\u062a\\u0647\"], \"Freq\": [3.0, 2.0, 2.0, 1.0, 1.0, 3.0, 1.0, 1.0, 2.0, 1.0, 1.0, 7.0, 4.0, 1.0, 1.0, 1.0, 1.0, 1.0, 1.0, 1.0, 0.0, 1.0, 1.0, 1.0, 1.0, 1.0, 1.0, 1.0, 1.0, 1.0, 3.1139107944452307, 2.356292259066157, 1.6684010393589759, 1.6212486693707655, 0.878106093263817, 0.8781052405870376, 0.8781045190913013, 0.8781043879102584, 0.878103928776608, 0.8781041255481724, 0.878102157832528, 0.8781032072808717, 0.878102157832528, 0.8781015675178346, 0.8781015019273132, 0.878101895470442, 0.8781015675178346, 0.8781003868884479, 0.8113850535535312, 0.8052482075921088, 0.8027077555140671, 0.7891342562270132, 3.926831322106656, 0.878109503970934, 0.8781051749965162, 0.8780887117756242, 0.08781694373099382, 0.0878177882089579, 0.08781585328857418, 0.0878147874426001, 0.08782832368647095, 0.08782388812745573, 0.08782064959545755, 0.08781814075801087, 1.6818456493635625, 0.8851836288501478, 0.8851808523230124, 0.8851810374248213, 0.8851798034127611, 0.8851773353886407, 0.8851766566820076, 0.885172707843415, 2.257331122480964, 0.8084231426568615, 0.8089311237214469, 0.8073098786767433, 0.8074453732009543, 0.8031817998323267, 0.8014254921676333, 0.7995195605406393, 0.7969438688679665, 0.7960185449246183, 0.7932652789164814, 0.7942241679878673, 0.775523393922022, 0.7727195951200194, 1.5393367537998897, 2.2254333915390148, 0.8105226907761024, 2.155220820139613, 0.184088916507289, 0.17318534019478332, 0.17262215251565435, 0.17178590881790248, 0.32562403772909954, 1.9526545823885468, 0.8317006230977514, 0.8316928766045324, 0.7181533361733277, 0.7141258352657223, 0.7116981653588433, 0.7098236491131017, 0.7075342901403827, 0.7019507799640397, 0.7126419314367731, 0.6984517069921227, 0.7068173792156159, 0.7004361603887221, 0.6943108010268114, 0.6960738038004006, 0.6958959497206227, 0.6805070905635876, 0.6717417983730473, 0.8316964796246343, 0.8316822476952319, 0.8316783744486225, 0.6950572567164133, 1.0776053939168535, 0.16734304553188986, 0.16711688846387152, 0.15446715778264508, 0.15224324992196384, 0.15004168078591412, 0.1480215349714306, 0.14754879621519154, 0.2467580560547241, 0.26978317853450756, 0.18861169571201872, 1.135888486082818, 0.5978410005677324, 0.5978383911366006, 0.5978314887703815, 0.5978218927978329, 0.5978281217624698, 0.5978226082870142, 0.5978238288273823, 0.6183099675906579, 0.6296584256697353, 0.6346663869749298, 0.05978913268141138, 0.07540266385754643, 0.07380158320314377, 0.07334500114745594, 0.07290836335269558, 0.07276924279454046, 0.07158160440695585, 0.07152942104527303, 0.07136929351431827, 0.07073749552347099, 0.07035952258062364, 0.07015238320170057, 0.06997289537525304, 0.06916173582075492, 0.0597862654637365, 0.05978632333418499, 0.05978628124658609, 0.05978627072468636, 0.05978623915898719, 0.07064881695259431, 0.10139371851094674, 0.059790253263732024, 0.059788380365581095, 0.059788180449486326, 0.31423845767227065, 0.31425121527353705, 0.3142437632909448, 0.031427847288947534, 0.03142673491775961, 0.03142628574890595, 0.03142630082168627, 0.031425960176850946, 0.03142597524963127, 0.031425930031290294, 0.03142588179839326, 0.03142599032241159, 0.03142583658005228, 0.0314258606965008, 0.031425957162294876, 0.031425945104070624, 0.03142595113318275, 0.03142588481294932, 0.03142599936607979, 0.031425896871173586, 0.03142590290028571, 0.03142630082168627, 0.03142596620596307, 0.03142655404439572, 0.03142610487554206, 0.03142627369068169, 0.031426945936684145, 0.03142665653930192, 0.03142583356549622, 0.03142593606040243, 0.031429098329714446, 0.03142852254950606, 0.03142824219579203, 0.031427591051682024, 0.03142752171689253, 0.031427449367546975, 0.031427205188505725, 0.03142715695560869, 0.03142680123799303, 0.03142651786972294, 0.03142650581149868, 0.031426472651381966, 0.03142641537481673, 0.031426394272924284, 0.03142637317103183, 0.03142636412736363, 0.031426282734349886, 0.03142622545778465, 0.023651840140135386, 0.02183558613656557, 0.021496395731089694, 0.020675071087915935, 0.011749767783278518, 0.011749810975389626, 0.01174962901713432, 0.01174941948944639, 0.011749308292734814, 0.011749204447871937, 0.011749220070550423, 0.011749231098323471, 0.01174925315386957, 0.011749227422399122, 0.011749205366853024, 0.011749220070550423, 0.011749189744174538, 0.011749241207115433, 0.01174923845017217, 0.011749209961758461, 0.011749219151569335, 0.01174922098953151, 0.0117491998529665, 0.011749209042777374, 0.011749464519519673, 0.011749390082051593, 0.01174915022798778, 0.011749211799720636, 0.011749156660855391, 0.011749175959458227, 0.025450789729829306, 0.02982114581408688, 0.01805801512681636, 0.026800778461118606, 0.011751761972238194, 0.011751498224666108, 0.011750126185902607, 0.011749809137427451, 0.011749776054108305, 0.011749674047207602, 0.011749592257890823, 0.011749584906042124, 0.011749459005633149, 0.011749436950087051, 0.011749427760276177, 0.011749389163070506, 0.011749384568165069, 0.011749364350581146, 0.011749355160770272, 0.01174932759133765, 0.02061550283268635, 0.020417418702489323, 0.019761109483980823, 0.019691853372952615, 0.01950784432829615, 0.018853464966123196, 0.018713827913516917, 0.018718540438892473, 0.01863750852830062, 0.01850841216720324, 0.018452064038122197, 0.018281819464034198, 0.018015999214418005, 0.011076422384582271, 0.01749085222226512, 0.016633836106901667, 0.03149912613649336, 0.011076439845187212, 0.011076102579818095, 0.011076032737398333, 0.011076000573126073, 0.019456063525875894, 0.011075937163560763, 0.011076063063712177, 0.011075927973768688, 0.011075972084770644, 0.01107609706594285, 0.011076060306774554, 0.011075865483182585, 0.011075865483182585, 0.011077806367268617, 0.011077678629158788, 0.011077669439366715, 0.011076835925225601, 0.01107680100401572, 0.011076415951727819, 0.011076348866245679, 0.011076329567682324, 0.011076311188098174, 0.011076275347909087, 0.011076258806283353, 0.012983992654869918, 0.012983761072714341, 0.012983624145169972, 0.012983454134460521, 0.01298336039882612, 0.01298323725593387, 0.012983251040585987, 0.01298330066533361, 0.012983264825238105, 0.012983251040585987, 0.012983228985142599, 0.012983217038444097, 0.01298325379751641, 0.012983251040585987, 0.012983221633328136, 0.012983252878539603, 0.012983264825238105, 0.012983247364678756, 0.012983213362536866, 0.01298342932208671, 0.012983247364678756, 0.012983428403109901, 0.012983349371104427, 0.012983407266643321, 0.012983753720899879, 0.012983465162182215, 0.012983169251650089, 0.012983239093887485, 0.012983226228212175, 0.01298323266104983, 0.012986032783383335, 0.012985134024065263, 0.012984709456780038, 0.012984215047257417, 0.012984129582414287, 0.012984095580272397, 0.012983816211322812, 0.012983806102577926, 0.01298369306843056, 0.012983692149453753, 0.01298366366117271, 0.012983496407393682, 0.01298349273148645, 0.01298347986581114, 0.01298345872934456, 0.012983455972414137, 0.012983449539576482, 0.01298344586366925, 0.012983438511854788, 0.01298340359073609, 0.012983398076875242, 0.012983943030122295, 0.01298381713029962, 0.012983502840231337, 0.012983408185620129, 0.012983342019289964, 0.012983241850817909, 0.012983285961704685, 0.012983275852959799, 0.012983319044869768, 0.012983238174910677, 0.012983242769794717, 0.012983244607748332, 0.012983269420122144, 0.012983231742073022, 0.012983204172768787, 0.01298324552672514, 0.012983291475565532, 0.012983234499003446, 0.012983286880681493, 0.012983379697339086, 0.012983252878539603, 0.012983455972414137, 0.012983315368962536, 0.01298337326450143, 0.012983592899958506, 0.01298353132851238, 0.01298318579323263, 0.012983260230354066, 0.012983194983000709, 0.012983189469139862, 0.012985614648935766, 0.012985452909017585, 0.012984441115552147, 0.012984241697584845, 0.012984130501391095, 0.012983988978962687, 0.01298398346510184, 0.012983831833928546, 0.012983739017270953, 0.012983648038566976, 0.01298364620061336, 0.01298359933279616, 0.012983584629167235, 0.01298351846283707, 0.012983487217625603, 0.012983481703764756, 0.01298347618990391, 0.012983446782646058, 0.012983433916970748, 0.012983410023573744, 0.012983409104596937], \"Total\": [3.0, 2.0, 2.0, 1.0, 1.0, 3.0, 1.0, 1.0, 2.0, 1.0, 1.0, 7.0, 4.0, 1.0, 1.0, 1.0, 1.0, 1.0, 1.0, 1.0, 0.0, 1.0, 1.0, 1.0, 1.0, 1.0, 1.0, 1.0, 1.0, 1.0, 3.443703816679415, 2.6817039005454073, 1.9801060060233013, 1.9392624594716557, 1.1898053780502644, 1.1898045329552922, 1.189804144347154, 1.1898041371330483, 1.1898035857563052, 1.1898040316828629, 1.1898024485998335, 1.1898040766730158, 1.1898027489286631, 1.1898019746833406, 1.1898020962059503, 1.1898027179404638, 1.1898025389842406, 1.1898014671643664, 1.132012628882731, 1.1266965763780872, 1.1244966178439402, 1.1127390918826647, 7.356328088404502, 1.8885254401720042, 1.9777124836571311, 4.088193570442972, 0.6823415411467533, 0.9375635719125609, 0.9375666669014285, 0.9375692260434265, 1.968915589412231, 1.9689114025965506, 1.6860988575283518, 1.4756312448234408, 1.992846632813459, 1.196176340809396, 1.196174109109022, 1.196174806573975, 1.1961736686651916, 1.1961720977113168, 1.1961720911596165, 1.1961695098094582, 3.3017848611441485, 1.1864049148613007, 1.1879024334530903, 1.1871873062565925, 1.1874241364751545, 1.1866282110835848, 1.186501412712633, 1.1864680798562826, 1.1857650909408475, 1.1866516218418228, 1.185138885334205, 1.1866944906652066, 1.1842421173461084, 1.1832693600626916, 2.5142954745096073, 4.088193570442972, 1.9777124836571311, 7.356328088404502, 1.09298972226336, 1.0910491544421355, 1.1038973738460862, 1.1033195213447062, 2.5265229785172134, 2.5265229785172134, 1.1480442669962707, 1.1480401439106578, 1.1068178272121025, 1.102197366165732, 1.101376420444919, 1.1054923968116266, 1.1040551500519282, 1.096136988833229, 1.1168354016145825, 1.0976486507214036, 1.1112162293545695, 1.1049038579263852, 1.0961413315571644, 1.1033195213447062, 1.1038973738460862, 1.0910491544421355, 1.09298972226336, 1.6860988575283518, 1.968915589412231, 1.9689114025965506, 1.8885254401720042, 7.356328088404502, 1.1842421173461084, 1.1832693600626916, 1.1866944906652066, 1.1866516218418228, 1.185138885334205, 1.1857650909408475, 1.1864680798562826, 3.3017848611441485, 4.088193570442972, 2.5142954745096073, 1.4756312448234408, 0.9375704207371722, 0.9375692260434265, 0.9375666669014285, 0.9375635719125609, 1.6860988575283518, 1.9689114025965506, 1.968915589412231, 2.5142954745096073, 3.3017848611441485, 4.088193570442972, 0.6823415411467533, 1.1832693600626916, 1.185138885334205, 1.1842421173461084, 1.1864049148613007, 1.1857650909408475, 1.186501412712633, 1.1866282110835848, 1.1864680798562826, 1.1871873062565925, 1.1866516218418228, 1.1874241364751545, 1.1866944906652066, 1.1879024334530903, 1.0910491544421355, 1.09298972226336, 1.096136988833229, 1.0961413315571644, 1.0976486507214036, 1.9777124836571311, 7.356328088404502, 3.443703816679415, 2.6817039005454073, 1.992846632813459, 0.6823415411467533, 1.9689114025965506, 1.968915589412231, 0.9375635719125609, 0.9375666669014285, 0.9375692260434265, 0.9375704207371722, 1.0910491544421355, 1.09298972226336, 1.096136988833229, 1.0961413315571644, 1.0976486507214036, 1.101376420444919, 1.102197366165732, 1.1033195213447062, 1.1038973738460862, 1.1040551500519282, 1.1049038579263852, 1.1054923968116266, 1.1068178272121025, 1.1112162293545695, 1.1127390918826647, 1.1168354016145825, 1.1244966178439402, 1.1266965763780872, 1.132012628882731, 1.1480401439106578, 1.1480442669962707, 1.1832693600626916, 1.1842421173461084, 7.356328088404502, 3.443703816679415, 1.6860988575283518, 4.088193570442972, 1.4756312448234408, 2.5142954745096073, 3.3017848611441485, 2.6817039005454073, 1.992846632813459, 1.9801060060233013, 1.9392624594716557, 1.1961695098094582, 1.1961720911596165, 1.8885254401720042, 1.196174806573975, 2.5265229785172134, 1.1961720977113168, 1.9777124836571311, 1.1127390918826647, 1.1244966178439402, 1.1266965763780872, 1.132012628882731, 0.6823415411467533, 0.9375635719125609, 0.9375666669014285, 0.9375692260434265, 0.9375704207371722, 1.0910491544421355, 1.09298972226336, 1.096136988833229, 1.0961413315571644, 1.0976486507214036, 1.101376420444919, 1.102197366165732, 1.1033195213447062, 1.1038973738460862, 1.1040551500519282, 1.1049038579263852, 1.1054923968116266, 1.1068178272121025, 1.1112162293545695, 1.1168354016145825, 1.1480401439106578, 1.1480442669962707, 1.1832693600626916, 1.1842421173461084, 1.185138885334205, 1.1857650909408475, 2.6817039005454073, 3.443703816679415, 1.9392624594716557, 7.356328088404502, 1.968915589412231, 1.9689114025965506, 1.6860988575283518, 1.4756312448234408, 4.088193570442972, 3.3017848611441485, 1.992846632813459, 2.5142954745096073, 1.1961695098094582, 1.9801060060233013, 2.5265229785172134, 1.8885254401720042, 1.9777124836571311, 1.1961720977113168, 1.1961720911596165, 1.1961736686651916, 1.0910491544421355, 1.09298972226336, 1.0961413315571644, 1.096136988833229, 1.0976486507214036, 1.101376420444919, 1.102197366165732, 1.1033195213447062, 1.1038973738460862, 1.1040551500519282, 1.1049038579263852, 1.1054923968116266, 1.1068178272121025, 0.6823415411467533, 1.1112162293545695, 1.1168354016145825, 2.5265229785172134, 0.9375635719125609, 0.9375666669014285, 0.9375692260434265, 0.9375704207371722, 1.8885254401720042, 1.1127390918826647, 1.1244966178439402, 1.1266965763780872, 1.132012628882731, 1.1480401439106578, 1.1480442669962707, 1.1832693600626916, 1.1842421173461084, 7.356328088404502, 1.9689114025965506, 1.968915589412231, 3.443703816679415, 1.6860988575283518, 4.088193570442972, 3.3017848611441485, 2.5142954745096073, 1.4756312448234408, 2.6817039005454073, 1.992846632813459, 0.6823415411467533, 0.9375635719125609, 0.9375666669014285, 0.9375692260434265, 0.9375704207371722, 1.0910491544421355, 1.09298972226336, 1.096136988833229, 1.0961413315571644, 1.0976486507214036, 1.101376420444919, 1.102197366165732, 1.1033195213447062, 1.1038973738460862, 1.1040551500519282, 1.1049038579263852, 1.1054923968116266, 1.1068178272121025, 1.1112162293545695, 1.1127390918826647, 1.1168354016145825, 1.1244966178439402, 1.1266965763780872, 1.132012628882731, 1.1480401439106578, 1.1480442669962707, 1.1832693600626916, 1.1842421173461084, 1.185138885334205, 1.1857650909408475, 1.968915589412231, 1.9689114025965506, 7.356328088404502, 3.443703816679415, 4.088193570442972, 1.6860988575283518, 1.4756312448234408, 2.5142954745096073, 3.3017848611441485, 1.992846632813459, 2.6817039005454073, 1.9392624594716557, 1.1961720911596165, 1.8885254401720042, 1.9801060060233013, 1.9777124836571311, 1.1961695098094582, 1.1961720977113168, 2.5265229785172134, 1.196174109109022, 1.1898019746833406, 0.6823415411467533, 0.9375635719125609, 0.9375666669014285, 0.9375692260434265, 0.9375704207371722, 1.0910491544421355, 1.09298972226336, 1.096136988833229, 1.0961413315571644, 1.0976486507214036, 1.101376420444919, 1.102197366165732, 1.1033195213447062, 1.1038973738460862, 1.1040551500519282, 1.1049038579263852, 1.1054923968116266, 1.1068178272121025, 1.1112162293545695, 1.1127390918826647, 1.1168354016145825, 1.1244966178439402, 1.1266965763780872, 1.132012628882731, 1.1480401439106578, 1.1480442669962707, 1.1832693600626916, 1.1842421173461084, 1.185138885334205, 1.1857650909408475, 1.968915589412231, 1.9689114025965506, 7.356328088404502, 1.6860988575283518, 3.443703816679415, 4.088193570442972, 1.4756312448234408, 2.6817039005454073, 2.5142954745096073, 1.9392624594716557, 3.3017848611441485, 1.1961695098094582, 1.992846632813459, 2.5265229785172134, 1.1961736686651916, 1.9801060060233013, 1.8885254401720042, 1.1961720911596165, 1.1961720977113168, 1.9777124836571311, 1.196174109109022], \"Category\": [\"Default\", \"Default\", \"Default\", \"Default\", \"Default\", \"Default\", \"Default\", \"Default\", \"Default\", \"Default\", \"Default\", \"Default\", \"Default\", \"Default\", \"Default\", \"Default\", \"Default\", \"Default\", \"Default\", \"Default\", \"Default\", \"Default\", \"Default\", \"Default\", \"Default\", \"Default\", \"Default\", \"Default\", \"Default\", \"Default\", \"Topic1\", \"Topic1\", \"Topic1\", \"Topic1\", \"Topic1\", \"Topic1\", \"Topic1\", \"Topic1\", \"Topic1\", \"Topic1\", \"Topic1\", \"Topic1\", \"Topic1\", \"Topic1\", \"Topic1\", \"Topic1\", \"Topic1\", \"Topic1\", \"Topic1\", \"Topic1\", \"Topic1\", \"Topic1\", \"Topic1\", \"Topic1\", \"Topic1\", \"Topic1\", \"Topic1\", \"Topic1\", \"Topic1\", \"Topic1\", \"Topic1\", \"Topic1\", \"Topic1\", \"Topic1\", \"Topic2\", \"Topic2\", \"Topic2\", \"Topic2\", \"Topic2\", \"Topic2\", \"Topic2\", \"Topic2\", \"Topic2\", \"Topic2\", \"Topic2\", \"Topic2\", \"Topic2\", \"Topic2\", \"Topic2\", \"Topic2\", \"Topic2\", \"Topic2\", \"Topic2\", \"Topic2\", \"Topic2\", \"Topic2\", \"Topic2\", \"Topic2\", \"Topic2\", \"Topic2\", \"Topic2\", \"Topic2\", \"Topic2\", \"Topic2\", \"Topic2\", \"Topic3\", \"Topic3\", \"Topic3\", \"Topic3\", \"Topic3\", \"Topic3\", \"Topic3\", \"Topic3\", \"Topic3\", \"Topic3\", \"Topic3\", \"Topic3\", \"Topic3\", \"Topic3\", \"Topic3\", \"Topic3\", \"Topic3\", \"Topic3\", \"Topic3\", \"Topic3\", \"Topic3\", \"Topic3\", \"Topic3\", \"Topic3\", \"Topic3\", \"Topic3\", \"Topic3\", \"Topic3\", \"Topic3\", \"Topic3\", \"Topic3\", \"Topic3\", \"Topic3\", \"Topic4\", \"Topic4\", \"Topic4\", \"Topic4\", \"Topic4\", \"Topic4\", \"Topic4\", \"Topic4\", \"Topic4\", \"Topic4\", \"Topic4\", \"Topic4\", \"Topic4\", \"Topic4\", \"Topic4\", \"Topic4\", \"Topic4\", \"Topic4\", \"Topic4\", \"Topic4\", \"Topic4\", \"Topic4\", \"Topic4\", \"Topic4\", \"Topic4\", \"Topic4\", \"Topic4\", \"Topic4\", \"Topic4\", \"Topic4\", \"Topic4\", \"Topic4\", \"Topic4\", \"Topic4\", \"Topic4\", \"Topic5\", \"Topic5\", \"Topic5\", \"Topic5\", \"Topic5\", \"Topic5\", \"Topic5\", \"Topic5\", \"Topic5\", \"Topic5\", \"Topic5\", \"Topic5\", \"Topic5\", \"Topic5\", \"Topic5\", \"Topic5\", \"Topic5\", \"Topic5\", \"Topic5\", \"Topic5\", \"Topic5\", \"Topic5\", \"Topic5\", \"Topic5\", \"Topic5\", \"Topic5\", \"Topic5\", \"Topic5\", \"Topic5\", \"Topic5\", \"Topic5\", \"Topic5\", \"Topic5\", \"Topic5\", \"Topic5\", \"Topic5\", \"Topic5\", \"Topic5\", \"Topic5\", \"Topic5\", \"Topic5\", \"Topic5\", \"Topic5\", \"Topic5\", \"Topic5\", \"Topic5\", \"Topic5\", \"Topic5\", \"Topic6\", \"Topic6\", \"Topic6\", \"Topic6\", \"Topic6\", \"Topic6\", \"Topic6\", \"Topic6\", \"Topic6\", \"Topic6\", \"Topic6\", \"Topic6\", \"Topic6\", \"Topic6\", \"Topic6\", \"Topic6\", \"Topic6\", \"Topic6\", \"Topic6\", \"Topic6\", \"Topic6\", \"Topic6\", \"Topic6\", \"Topic6\", \"Topic6\", \"Topic6\", \"Topic6\", \"Topic6\", \"Topic6\", \"Topic6\", \"Topic6\", \"Topic6\", \"Topic6\", \"Topic6\", \"Topic6\", \"Topic6\", \"Topic6\", \"Topic6\", \"Topic6\", \"Topic6\", \"Topic6\", \"Topic6\", \"Topic6\", \"Topic6\", \"Topic6\", \"Topic6\", \"Topic6\", \"Topic6\", \"Topic6\", \"Topic6\", \"Topic7\", \"Topic7\", \"Topic7\", \"Topic7\", \"Topic7\", \"Topic7\", \"Topic7\", \"Topic7\", \"Topic7\", \"Topic7\", \"Topic7\", \"Topic7\", \"Topic7\", \"Topic7\", \"Topic7\", \"Topic7\", \"Topic7\", \"Topic7\", \"Topic7\", \"Topic7\", \"Topic7\", \"Topic7\", \"Topic7\", \"Topic7\", \"Topic7\", \"Topic7\", \"Topic7\", \"Topic7\", \"Topic7\", \"Topic7\", \"Topic7\", \"Topic7\", \"Topic7\", \"Topic7\", \"Topic7\", \"Topic7\", \"Topic7\", \"Topic7\", \"Topic7\", \"Topic7\", \"Topic7\", \"Topic8\", \"Topic8\", \"Topic8\", \"Topic8\", \"Topic8\", \"Topic8\", \"Topic8\", \"Topic8\", \"Topic8\", \"Topic8\", \"Topic8\", \"Topic8\", \"Topic8\", \"Topic8\", \"Topic8\", \"Topic8\", \"Topic8\", \"Topic8\", \"Topic8\", \"Topic8\", \"Topic8\", \"Topic8\", \"Topic8\", \"Topic8\", \"Topic8\", \"Topic8\", \"Topic8\", \"Topic8\", \"Topic8\", \"Topic8\", \"Topic8\", \"Topic8\", \"Topic8\", \"Topic8\", \"Topic8\", \"Topic8\", \"Topic8\", \"Topic8\", \"Topic8\", \"Topic8\", \"Topic8\", \"Topic8\", \"Topic8\", \"Topic8\", \"Topic8\", \"Topic8\", \"Topic8\", \"Topic8\", \"Topic8\", \"Topic8\", \"Topic8\", \"Topic9\", \"Topic9\", \"Topic9\", \"Topic9\", \"Topic9\", \"Topic9\", \"Topic9\", \"Topic9\", \"Topic9\", \"Topic9\", \"Topic9\", \"Topic9\", \"Topic9\", \"Topic9\", \"Topic9\", \"Topic9\", \"Topic9\", \"Topic9\", \"Topic9\", \"Topic9\", \"Topic9\", \"Topic9\", \"Topic9\", \"Topic9\", \"Topic9\", \"Topic9\", \"Topic9\", \"Topic9\", \"Topic9\", \"Topic9\", \"Topic9\", \"Topic9\", \"Topic9\", \"Topic9\", \"Topic9\", \"Topic9\", \"Topic9\", \"Topic9\", \"Topic9\", \"Topic9\", \"Topic9\", \"Topic9\", \"Topic9\", \"Topic9\", \"Topic9\", \"Topic9\", \"Topic9\", \"Topic9\", \"Topic9\", \"Topic9\", \"Topic9\"], \"logprob\": [30.0, 29.0, 28.0, 27.0, 26.0, 25.0, 24.0, 23.0, 22.0, 21.0, 20.0, 19.0, 18.0, 17.0, 16.0, 15.0, 14.0, 13.0, 12.0, 11.0, 10.0, 9.0, 8.0, 7.0, 6.0, 5.0, 4.0, 3.0, 2.0, 1.0, -2.4256, -2.7043, -3.0496, -3.0782, -3.6914, -3.6914, -3.6914, -3.6914, -3.6914, -3.6914, -3.6914, -3.6914, -3.6914, -3.6914, -3.6914, -3.6914, -3.6914, -3.6914, -3.7704, -3.778, -3.7812, -3.7983, -2.1936, -3.6914, -3.6914, -3.6914, -5.9939, -5.9939, -5.9939, -5.994, -5.9938, -5.9939, -5.9939, -5.9939, -2.9804, -3.6223, -3.6223, -3.6223, -3.6223, -3.6223, -3.6223, -3.6223, -2.6861, -3.713, -3.7123, -3.7143, -3.7142, -3.7195, -3.7217, -3.724, -3.7273, -3.7284, -3.7319, -3.7307, -3.7545, -3.7581, -3.0689, -2.7003, -3.7104, -2.7324, -5.1926, -5.2537, -5.2569, -5.2618, -4.6223, -2.5163, -3.3698, -3.3698, -3.5166, -3.5222, -3.5256, -3.5282, -3.5315, -3.5394, -3.5243, -3.5444, -3.5325, -3.5416, -3.5503, -3.5478, -3.5481, -3.5704, -3.5834, -3.3698, -3.3698, -3.3698, -3.5493, -3.1108, -4.9732, -4.9746, -5.0533, -5.0678, -5.0823, -5.0959, -5.0991, -4.5849, -4.4956, -4.8536, -2.2972, -2.939, -2.939, -2.9391, -2.9391, -2.9391, -2.9391, -2.9391, -2.9054, -2.8872, -2.8793, -5.2415, -5.0095, -5.031, -5.0372, -5.0432, -5.0451, -5.0615, -5.0623, -5.0645, -5.0734, -5.0787, -5.0817, -5.0843, -5.0959, -5.2416, -5.2416, -5.2416, -5.2416, -5.2416, -5.0746, -4.7134, -5.2415, -5.2416, -5.2416, -2.3322, -2.3322, -2.3322, -4.6347, -4.6347, -4.6347, -4.6347, -4.6347, -4.6347, -4.6347, -4.6347, -4.6347, -4.6347, -4.6347, -4.6347, -4.6347, -4.6347, -4.6347, -4.6347, -4.6347, -4.6347, -4.6347, -4.6347, -4.6347, -4.6347, -4.6347, -4.6347, -4.6347, -4.6347, -4.6347, -4.6346, -4.6346, -4.6347, -4.6347, -4.6347, -4.6347, -4.6347, -4.6347, -4.6347, -4.6347, -4.6347, -4.6347, -4.6347, -4.6347, -4.6347, -4.6347, -4.6347, -4.6347, -3.731, -3.8109, -3.8265, -3.8655, -4.4306, -4.4306, -4.4306, -4.4306, -4.4306, -4.4306, -4.4306, -4.4306, -4.4306, -4.4306, -4.4306, -4.4306, -4.4306, -4.4306, -4.4306, -4.4306, -4.4306, -4.4306, -4.4306, -4.4306, -4.4306, -4.4306, -4.4306, -4.4306, -4.4306, -4.4306, -3.6577, -3.4992, -4.0008, -3.606, -4.4304, -4.4304, -4.4306, -4.4306, -4.4306, -4.4306, -4.4306, -4.4306, -4.4306, -4.4306, -4.4306, -4.4306, -4.4306, -4.4306, -4.4306, -4.4306, -3.8684, -3.878, -3.9107, -3.9142, -3.9236, -3.9577, -3.9652, -3.9649, -3.9692, -3.9762, -3.9792, -3.9885, -4.0032, -4.4896, -4.0327, -4.083, -3.4445, -4.4896, -4.4896, -4.4896, -4.4896, -3.9263, -4.4896, -4.4896, -4.4896, -4.4896, -4.4896, -4.4896, -4.4896, -4.4896, -4.4895, -4.4895, -4.4895, -4.4896, -4.4896, -4.4896, -4.4896, -4.4896, -4.4896, -4.4896, -4.4896, -4.3307, -4.3307, -4.3307, -4.3307, -4.3307, -4.3308, -4.3308, -4.3307, -4.3307, -4.3308, -4.3308, -4.3308, -4.3308, -4.3308, -4.3308, -4.3308, -4.3307, -4.3308, -4.3308, -4.3307, -4.3308, -4.3307, -4.3307, -4.3307, -4.3307, -4.3307, -4.3308, -4.3308, -4.3308, -4.3308, -4.3305, -4.3306, -4.3306, -4.3307, -4.3307, -4.3307, -4.3307, -4.3307, -4.3307, -4.3307, -4.3307, -4.3307, -4.3307, -4.3307, -4.3307, -4.3307, -4.3307, -4.3307, -4.3307, -4.3307, -4.3307, -4.3307, -4.3307, -4.3307, -4.3307, -4.3307, -4.3308, -4.3307, -4.3307, -4.3307, -4.3308, -4.3308, -4.3308, -4.3307, -4.3308, -4.3308, -4.3308, -4.3307, -4.3308, -4.3307, -4.3307, -4.3308, -4.3307, -4.3307, -4.3307, -4.3307, -4.3307, -4.3308, -4.3307, -4.3308, -4.3308, -4.3306, -4.3306, -4.3307, -4.3307, -4.3307, -4.3307, -4.3307, -4.3307, -4.3307, -4.3307, -4.3307, -4.3307, -4.3307, -4.3307, -4.3307, -4.3307, -4.3307, -4.3307, -4.3307, -4.3307, -4.3307], \"loglift\": [30.0, 29.0, 28.0, 27.0, 26.0, 25.0, 24.0, 23.0, 22.0, 21.0, 20.0, 19.0, 18.0, 17.0, 16.0, 15.0, 14.0, 13.0, 12.0, 11.0, 10.0, 9.0, 8.0, 7.0, 6.0, 5.0, 4.0, 3.0, 2.0, 1.0, 1.0474, 1.0187, 0.9768, 0.969, 0.8443, 0.8443, 0.8443, 0.8443, 0.8443, 0.8443, 0.8443, 0.8443, 0.8443, 0.8443, 0.8443, 0.8443, 0.8443, 0.8443, 0.8151, 0.8122, 0.811, 0.8045, 0.5204, 0.3823, 0.3362, -0.39, -0.9022, -1.2199, -1.2199, -1.22, -1.9618, -1.9618, -1.8068, -1.6735, 1.0396, 0.9081, 0.9081, 0.9081, 0.9081, 0.9081, 0.9081, 0.9081, 0.829, 0.8256, 0.825, 0.8236, 0.8236, 0.8189, 0.8169, 0.8145, 0.8119, 0.81, 0.8078, 0.8077, 0.7859, 0.7831, 0.7186, 0.6011, 0.3172, -0.0184, -0.572, -0.6313, -0.6463, -0.6506, -0.8396, 1.2664, 1.2017, 1.2017, 1.0915, 1.09, 1.0874, 1.081, 1.0791, 1.0783, 1.0748, 1.072, 1.0716, 1.0682, 1.0674, 1.0634, 1.0626, 1.052, 1.0372, 0.8173, 0.6622, 0.6622, 0.5245, -0.3968, -0.4328, -0.4333, -0.5149, -0.5294, -0.5427, -0.5568, -0.5606, -1.0698, -1.1942, -1.066, 2.0233, 1.835, 1.835, 1.8349, 1.8349, 1.2481, 1.093, 1.093, 0.8822, 0.6279, 0.4222, -0.1498, -0.4683, -0.4913, -0.4968, -0.5046, -0.5059, -0.523, -0.5238, -0.5259, -0.5354, -0.5404, -0.544, -0.5459, -0.5586, -0.6192, -0.621, -0.6238, -0.6239, -0.6252, -1.0471, -1.9994, -1.7685, -1.5185, -1.2216, 2.7595, 1.6999, 1.6999, 0.1393, 0.1393, 0.1393, 0.1393, -0.0123, -0.0141, -0.017, -0.017, -0.0184, -0.0218, -0.0225, -0.0235, -0.024, -0.0242, -0.025, -0.0255, -0.0267, -0.0306, -0.032, -0.0357, -0.0425, -0.0445, -0.0492, -0.0632, -0.0632, -0.0935, -0.0943, -1.9207, -1.1617, -0.4475, -1.3332, -0.3142, -0.8471, -1.1196, -0.9116, -0.6147, -0.6083, -0.5875, -0.1043, -0.1043, -0.561, -0.1043, -0.852, -0.1043, -0.6071, 0.8717, 0.7813, 0.7637, 0.72, 0.6612, 0.3434, 0.3434, 0.3434, 0.3434, 0.1918, 0.19, 0.1871, 0.1871, 0.1857, 0.1823, 0.1816, 0.1806, 0.1801, 0.1799, 0.1791, 0.1786, 0.1774, 0.1734, 0.1684, 0.1409, 0.1409, 0.1106, 0.1098, 0.109, 0.1085, 0.0654, -0.0262, 0.0464, -0.892, -0.3984, -0.3984, -0.2434, -0.1101, -1.1292, -0.9155, -0.4106, -0.6431, 0.0998, -0.4042, -0.6479, -0.3569, -0.403, 0.0998, 0.0998, 0.0998, 0.754, 0.7426, 0.707, 0.7035, 0.6928, 0.6553, 0.6471, 0.6463, 0.6414, 0.6344, 0.6305, 0.6207, 0.6049, 0.6022, 0.5713, 0.5161, 0.3382, 0.2844, 0.2844, 0.2844, 0.2844, 0.1475, 0.1131, 0.1026, 0.1006, 0.0959, 0.0819, 0.0818, 0.0516, 0.0508, -1.7755, -0.4574, -0.4574, -1.0166, -0.3024, -1.1882, -0.9745, -0.7021, -0.1692, -0.7665, -0.4696, 0.7611, 0.4433, 0.4433, 0.4433, 0.4433, 0.2916, 0.2899, 0.287, 0.287, 0.2856, 0.2822, 0.2815, 0.2805, 0.2799, 0.2798, 0.279, 0.2785, 0.2773, 0.2733, 0.272, 0.2683, 0.2615, 0.2595, 0.2548, 0.2408, 0.2407, 0.2105, 0.2097, 0.2089, 0.2084, -0.2985, -0.2986, -1.6167, -0.8577, -1.0293, -0.1436, -0.0103, -0.5432, -0.8156, -0.3108, -0.6076, -0.2835, 0.1997, -0.257, -0.3044, -0.3031, 0.1997, 0.1997, -0.548, 0.1997, 0.205, 0.7611, 0.4433, 0.4433, 0.4433, 0.4433, 0.2916, 0.2899, 0.287, 0.287, 0.2856, 0.2822, 0.2815, 0.2805, 0.2799, 0.2798, 0.279, 0.2785, 0.2773, 0.2733, 0.272, 0.2683, 0.2615, 0.2595, 0.2548, 0.2407, 0.2407, 0.2105, 0.2097, 0.2089, 0.2084, -0.2985, -0.2985, -1.6167, -0.1436, -0.8577, -1.0293, -0.0102, -0.6076, -0.5432, -0.2835, -0.8157, 0.1997, -0.3108, -0.548, 0.1997, -0.3044, -0.257, 0.1997, 0.1997, -0.3031, 0.1997]}, \"token.table\": {\"Topic\": [2, 3, 2, 3, 3, 4, 3, 1, 1, 1, 3, 2, 4, 1, 1, 1, 4, 1, 2, 3, 2, 1, 3, 3, 1, 2, 2, 2, 3, 1, 2, 2, 1, 1, 1, 3, 4, 3, 1, 2, 1, 1, 3, 1, 2, 4, 2, 4, 3, 1, 3, 1, 1, 2, 1, 2, 3, 3, 2, 2, 3, 4, 2, 3, 1, 3, 2, 1, 2, 2, 4, 2, 3, 1, 4, 1, 2, 2, 2, 1, 3, 4, 4, 3, 2, 3], \"Freq\": [0.8428139986059983, 0.9079547931451389, 0.8359986998421629, 0.9122947315777008, 0.5078948695615381, 0.5078948695615381, 0.8953870897666063, 0.8404748581795074, 0.8404741890805821, 1.0100469338086864, 0.9063557570169861, 0.795451457585781, 0.3977257287928905, 0.8404744635922413, 0.8892868009842089, 0.898683264832622, 1.0665943408616798, 0.8404744686882664, 0.8444219179106754, 0.9122911172224596, 0.8359990076657502, 0.8404759103961973, 0.9165489895011285, 0.8999148622773737, 0.5056346704910452, 0.5056346704910452, 0.8427073132448785, 0.8437829628027127, 0.871046551729567, 0.7457944926705884, 0.8433373588410737, 0.8451161111338321, 0.8404763547512536, 0.8404754712033182, 0.8711550585359993, 0.9034910492170517, 0.6776760816823515, 0.9058813107924176, 0.8404755976178375, 0.8427239388543082, 1.0313199176479144, 0.8404745431780027, 0.9057518548353005, 0.24460681295275505, 0.4892136259055101, 0.24460681295275505, 0.8360001101769232, 1.066590819941272, 0.9072785244250301, 0.5295136505595188, 0.5295136505595188, 0.8404759962397479, 0.8875504026244849, 0.8421590645516779, 0.5437495380752588, 0.2718747690376294, 0.1359373845188147, 0.9045742900485979, 0.8418199776669533, 0.8360001055979649, 0.593085035041123, 0.593085035041123, 0.8360019142765922, 0.9050561212418406, 0.8404754493132852, 0.7916017455632944, 0.8359971401234598, 0.8404745113970742, 0.842327065602793, 0.6057329850700665, 0.3028664925350332, 0.8426768708089694, 0.9110383357577797, 0.8833823709078014, 1.066586549534852, 0.8404756614653179, 0.8359982123884976, 0.8428825500245902, 1.0035895221783535, 0.8404735921085693, 0.507893789544591, 0.507893789544591, 1.0665879086283936, 0.8710496800169573, 0.8428376767802557, 0.9149216864813723], \"Term\": [\"\\u0623\\u0645\\u0627\\u062a\", \"\\u0627\\u062a\\u0627\\u062e\\u0631\", \"\\u0627\\u062a\\u062a\\u0647\", \"\\u0627\\u062a\\u0642\\u0628\\u0644\", \"\\u0627\\u0633\\u062a\\u0637\\u0627\\u0639\\u0629\", \"\\u0627\\u0633\\u062a\\u0637\\u0627\\u0639\\u0629\", \"\\u0627\\u0633\\u062a\\u0643\\u0645\\u0627\\u0644\", \"\\u0627\\u063a\\u0633\\u0637\\u0633\", \"\\u0627\\u0644\", \"\\u0627\\u0644\\u0627\\u0641\\u0627\\u062f\\u0647\", \"\\u0627\\u0644\\u0627\\u0648\\u0644\", \"\\u0627\\u0644\\u062e\\u0627\\u0635\", \"\\u0627\\u0644\\u062e\\u0627\\u0635\", \"\\u0627\\u0644\\u0641\\u0646\\u064a\\u0647\", \"\\u0627\\u0644\\u0645\\u062f\\u0647\", \"\\u0627\\u0646\\u062a\\u0647\\u0627\\u0621\", \"\\u0628\\u0627\\u0636\\u0627\\u0641\\u0629\", \"\\u0628\\u0627\\u0644\\u0627\\u0641\\u0627\\u062f\\u0647\", \"\\u0628\\u0637\\u0627\\u0642\\u0629\", \"\\u0628\\u064a\\u0627\\u0646\", \"\\u062a\\u0627\\u062e\\u0631\\u062a\", \"\\u062a\\u0627\\u0631\\u064a\\u062e\", \"\\u062a\\u0627\\u0644\", \"\\u062a\\u0627\\u0646\\u0649\", \"\\u062a\\u0631\\u0643\\u064a\\u0628\", \"\\u062a\\u0631\\u0643\\u064a\\u0628\", \"\\u062a\\u0633\\u0628\\u0628\", \"\\u062a\\u0635\\u062d\\u064a\\u062d\", \"\\u062a\\u0639\\u062f\\u064a\\u0644\", \"\\u062a\\u063a\\u064a\\u0631\", \"\\u062a\\u0641\\u0639\\u064a\\u0644\", \"\\u062a\\u0642\\u062f\\u0645\", \"\\u062a\\u0643\\u0631\\u0645\", \"\\u062a\\u0648\\u0642\\u0641\", \"\\u062d\\u0627\\u0644\", \"\\u062d\\u0630\\u0641\", \"\\u062d\\u0633\\u0627\\u0628\", \"\\u062e\\u0644\\u0649\", \"\\u062f\\u0631\\u0627\\u0633\", \"\\u0631\\u062c\\u0627\", \"\\u0631\\u062c\\u0627\\u0621\", \"\\u0631\\u062c\\u0649\", \"\\u0631\\u062f\", \"\\u0631\\u0642\\u0645\", \"\\u0631\\u0642\\u0645\", \"\\u0631\\u0642\\u0645\", \"\\u0632\\u0645\\u0646\", \"\\u0633\\u0631\", \"\\u0633\\u0631\\u0639\", \"\\u0633\\u0644\\u0627\\u0645\", \"\\u0633\\u0644\\u0627\\u0645\", \"\\u0634\\u0643\\u0631\", \"\\u0634\\u0647\\u0631\", \"\\u0635\\u0648\\u0631\", \"\\u0637\\u0644\\u0628\", \"\\u0637\\u0644\\u0628\", \"\\u0637\\u0644\\u0628\", \"\\u0639\\u0627\\u0648\\u0632\", \"\\u0639\\u062f\\u0627\\u062f\", \"\\u0639\\u062f\\u0649\", \"\\u0639\\u0642\\u062f\", \"\\u0639\\u0642\\u062f\", \"\\u0639\\u0644\\u0645\", \"\\u0639\\u0644\\u0649\", \"\\u0639\\u0644\\u064a\\u0643\\u0645\\u0644\\u062f\\u064a\", \"\\u0639\\u0645\\u0644\", \"\\u063a\\u064a\\u0631\\u0649\", \"\\u0641\\u0646\", \"\\u0642\\u0628\\u0648\\u0644\", \"\\u0642\\u0648\\u0645\\u0649\", \"\\u0642\\u0648\\u0645\\u0649\", \"\\u0643\\u062a\\u0627\\u0628\", \"\\u0643\\u062a\\u064a\\u0631\", \"\\u0643\\u062b\\u0631\", \"\\u0643\\u0644\\u0645\", \"\\u0644\\u0644\\u062f\\u0631\\u0627\\u0633\\u0647\", \"\\u0645\\u062f\", \"\\u0645\\u0631\\u0641\\u0642\", \"\\u0645\\u0639\\u0627\\u064a\\u0646\", \"\\u0645\\u0642\\u062f\\u0645\", \"\\u0645\\u0648\\u062b\\u0642\", \"\\u0645\\u0648\\u062b\\u0642\", \"\\u0646\\u062a\\u0632\\u0643\\u0631\", \"\\u0648\\u0627\\u0636\\u0627\\u0641\\u0629\", \"\\u0648\\u062f\\u0649\", \"\\u0648\\u0642\\u0641\"]}, \"R\": 30, \"lambda.step\": 0.01, \"plot.opts\": {\"xlab\": \"PC1\", \"ylab\": \"PC2\"}, \"topic.order\": [3, 6, 7, 8, 5, 9, 4, 1, 2]};\n",
              "\n",
              "function LDAvis_load_lib(url, callback){\n",
              "  var s = document.createElement('script');\n",
              "  s.src = url;\n",
              "  s.async = true;\n",
              "  s.onreadystatechange = s.onload = callback;\n",
              "  s.onerror = function(){console.warn(\"failed to load library \" + url);};\n",
              "  document.getElementsByTagName(\"head\")[0].appendChild(s);\n",
              "}\n",
              "\n",
              "if(typeof(LDAvis) !== \"undefined\"){\n",
              "   // already loaded: just create the visualization\n",
              "   !function(LDAvis){\n",
              "       new LDAvis(\"#\" + \"ldavis_el27871384790162524003075111369\", ldavis_el27871384790162524003075111369_data);\n",
              "   }(LDAvis);\n",
              "}else if(typeof define === \"function\" && define.amd){\n",
              "   // require.js is available: use it to load d3/LDAvis\n",
              "   require.config({paths: {d3: \"https://d3js.org/d3.v5\"}});\n",
              "   require([\"d3\"], function(d3){\n",
              "      window.d3 = d3;\n",
              "      LDAvis_load_lib(\"https://cdn.jsdelivr.net/gh/bmabey/pyLDAvis@3.4.0/pyLDAvis/js/ldavis.v3.0.0.js\", function(){\n",
              "        new LDAvis(\"#\" + \"ldavis_el27871384790162524003075111369\", ldavis_el27871384790162524003075111369_data);\n",
              "      });\n",
              "    });\n",
              "}else{\n",
              "    // require.js not available: dynamically load d3 & LDAvis\n",
              "    LDAvis_load_lib(\"https://d3js.org/d3.v5.js\", function(){\n",
              "         LDAvis_load_lib(\"https://cdn.jsdelivr.net/gh/bmabey/pyLDAvis@3.4.0/pyLDAvis/js/ldavis.v3.0.0.js\", function(){\n",
              "                 new LDAvis(\"#\" + \"ldavis_el27871384790162524003075111369\", ldavis_el27871384790162524003075111369_data);\n",
              "            })\n",
              "         });\n",
              "}\n",
              "</script>"
            ]
          },
          "metadata": {},
          "execution_count": 54
        }
      ],
      "source": [
        "pyLDAvis.enable_notebook()\n",
        "vis = pyLDAvis.gensim_models.prepare(lda_model, bow_corpus, dictionary=lda_model.id2word)\n",
        "vis"
      ]
    },
    {
      "cell_type": "markdown",
      "id": "daa75906",
      "metadata": {
        "id": "daa75906"
      },
      "source": [
        "# 2- LDA Sequence"
      ]
    },
    {
      "cell_type": "code",
      "execution_count": null,
      "id": "79496e9d",
      "metadata": {
        "id": "79496e9d"
      },
      "outputs": [],
      "source": [
        "\n",
        "ldaseq = LdaSeqModel(corpus=bow_corpus, id2word=dictionary, time_slice=[438, 430, 456], num_topics=5)\n"
      ]
    },
    {
      "cell_type": "code",
      "execution_count": null,
      "id": "18452bac",
      "metadata": {
        "id": "18452bac"
      },
      "outputs": [],
      "source": [
        "ldaseq.print_topics(time=0)"
      ]
    },
    {
      "cell_type": "code",
      "execution_count": null,
      "id": "11ad0248",
      "metadata": {
        "id": "11ad0248"
      },
      "outputs": [],
      "source": [
        "ldaseq.print_topic_times(topic=0) # evolution of 1st topic"
      ]
    },
    {
      "cell_type": "markdown",
      "id": "db91af3a",
      "metadata": {
        "id": "db91af3a"
      },
      "source": [
        "### LDA seq cohererence with CV"
      ]
    },
    {
      "cell_type": "code",
      "execution_count": null,
      "id": "207ecb36",
      "metadata": {
        "id": "207ecb36"
      },
      "outputs": [],
      "source": [
        "\n",
        "\n",
        "# we just have to specify the time-slice we want to find coherence for.\n",
        "\n",
        "topics_dtm = ldaseq.dtm_coherence(time=0)\n",
        "\n",
        "# running u_mass coherence on our models\n",
        "dtm = CoherenceModel(topics=topics_dtm, corpus=bow_corpus,texts=processed_docs, dictionary=dictionary, coherence='c_v')\n",
        "ldaseq_cv=dtm.get_coherence()\n",
        "\n",
        "\n",
        "print (\"Coherence score by cv: \", ldaseq_cv)\n",
        "\n"
      ]
    },
    {
      "cell_type": "markdown",
      "id": "8a5248d9",
      "metadata": {
        "id": "8a5248d9"
      },
      "source": [
        "### LDA seq coherence with u_mass"
      ]
    },
    {
      "cell_type": "code",
      "execution_count": null,
      "id": "b8744c1f",
      "metadata": {
        "id": "b8744c1f"
      },
      "outputs": [],
      "source": [
        "\n",
        "\n",
        "# we just have to specify the time-slice we want to find coherence for.\n",
        "\n",
        "topics_dtm = ldaseq.dtm_coherence(time=0)\n",
        "\n",
        "# running u_mass coherence on our models\n",
        "dtm = CoherenceModel(topics=topics_dtm, corpus=bow_corpus,texts=processed_docs, dictionary=dictionary, coherence='u_mass')\n",
        "ldaseq_umass=dtm.get_coherence()\n",
        "\n",
        "print (\"Coherence score by U_MASS: \",ldaseq_umass )\n"
      ]
    },
    {
      "cell_type": "markdown",
      "id": "c54249bb",
      "metadata": {
        "id": "c54249bb"
      },
      "source": [
        "### LDA seq coherence with C_uci"
      ]
    },
    {
      "cell_type": "code",
      "execution_count": null,
      "id": "0f3bddc7",
      "metadata": {
        "id": "0f3bddc7"
      },
      "outputs": [],
      "source": [
        "\n",
        "# we just have to specify the time-slice we want to find coherence for.\n",
        "\n",
        "topics_dtm = ldaseq.dtm_coherence(time=0)\n",
        "\n",
        "# running u_mass coherence on our models\n",
        "dtm = CoherenceModel(topics=topics_dtm, corpus=bow_corpus,texts=processed_docs, dictionary=dictionary, coherence='c_uci')\n",
        "ldaseq_cuci=dtm.get_coherence()\n",
        "\n",
        "print (\"Coherence score by c_uci: \", ldaseq_cuci)\n",
        "\n"
      ]
    },
    {
      "cell_type": "markdown",
      "id": "177cbf3d",
      "metadata": {
        "id": "177cbf3d"
      },
      "source": [
        "### LDA seq coherence with c_nmpi"
      ]
    },
    {
      "cell_type": "code",
      "execution_count": null,
      "id": "922dc29a",
      "metadata": {
        "id": "922dc29a"
      },
      "outputs": [],
      "source": [
        "\n",
        "\n",
        "# we just have to specify the time-slice we want to find coherence for.\n",
        "\n",
        "topics_dtm = ldaseq.dtm_coherence(time=0)\n",
        "\n",
        "# running u_mass coherence on our models\n",
        "dtm = CoherenceModel(topics=topics_dtm, corpus=bow_corpus,texts=processed_docs, dictionary=dictionary, coherence='c_npmi')\n",
        "ldaseq_cnmpi=dtm.get_coherence()\n",
        "\n",
        "print (\"Coherence score by c_npmi: \",ldaseq_cnmpi)\n"
      ]
    },
    {
      "cell_type": "markdown",
      "id": "4454882d",
      "metadata": {
        "id": "4454882d"
      },
      "source": [
        "# 3-  Biterm topic model (BTM)"
      ]
    },
    {
      "cell_type": "code",
      "execution_count": null,
      "id": "d3ea4f6f",
      "metadata": {
        "id": "d3ea4f6f"
      },
      "outputs": [],
      "source": [
        "X, vocabulary, vocab_dict = btm.get_words_freqs(data['text'])\n",
        "docs_vec = btm.get_vectorized_docs(data['text'], vocabulary)\n",
        "biterms = btm.get_biterms(docs_vec)\n",
        "model = btm.BTM(\n",
        "    X, vocabulary, seed=12321, T=8, M=20, alpha=50/8, beta=0.01)\n",
        "model.fit(biterms, iterations=20)"
      ]
    },
    {
      "cell_type": "code",
      "execution_count": null,
      "id": "f584b596",
      "metadata": {
        "id": "f584b596"
      },
      "outputs": [],
      "source": [
        "p_zd = model.transform(docs_vec)"
      ]
    },
    {
      "cell_type": "code",
      "execution_count": null,
      "id": "41e5731d",
      "metadata": {
        "id": "41e5731d"
      },
      "outputs": [],
      "source": [
        "\n",
        "coherence = btm.coherence(model.matrix_topics_words_, X, M=2)\n",
        "\n",
        "#coherence = model.coherence_\n",
        "\n",
        "print(coherence)\n"
      ]
    },
    {
      "cell_type": "code",
      "execution_count": null,
      "id": "bda67de8",
      "metadata": {
        "id": "bda67de8"
      },
      "outputs": [],
      "source": [
        "coherence.shape"
      ]
    },
    {
      "cell_type": "code",
      "execution_count": null,
      "id": "3672d085",
      "metadata": {
        "id": "3672d085"
      },
      "outputs": [],
      "source": [
        "coherence[1]"
      ]
    },
    {
      "cell_type": "code",
      "execution_count": null,
      "id": "52570a7a",
      "metadata": {
        "id": "52570a7a"
      },
      "outputs": [],
      "source": [
        "\n",
        "\n",
        "coherence_mean = mean(coherence)\n",
        "\n",
        "print(coherence_mean)"
      ]
    },
    {
      "cell_type": "code",
      "execution_count": null,
      "id": "c735745f",
      "metadata": {
        "id": "c735745f"
      },
      "outputs": [],
      "source": [
        "\n",
        "sum = 0\n",
        "# loop from 1 to n\n",
        "for num in range(1, (len(coherence)) + 1, 1):\n",
        "    sum = sum + num\n",
        "print(\"Sum of first \",(len(coherence)), \"numbers is: \", sum)\n",
        "average = sum /  (len(coherence))\n",
        "print(\"Average of \", (len(coherence)), \"numbers is: \", average)"
      ]
    },
    {
      "cell_type": "code",
      "execution_count": null,
      "id": "c1140413",
      "metadata": {
        "id": "c1140413"
      },
      "outputs": [],
      "source": [
        "for i in range(len(coherence)) :\n",
        "    coh_mean = coherence[i]/ len(coherence)\n",
        "    print(coh_mean)"
      ]
    },
    {
      "cell_type": "code",
      "execution_count": null,
      "id": "7723fa2b",
      "metadata": {
        "id": "7723fa2b"
      },
      "outputs": [],
      "source": [
        "\n",
        "# Run the interactive report interface\n",
        "tmp.report(model=model, docs=data['text'])"
      ]
    },
    {
      "cell_type": "code",
      "execution_count": null,
      "id": "22417e67",
      "metadata": {
        "id": "22417e67"
      },
      "outputs": [],
      "source": [
        "btm.get_docs_top_topic(data['text'], model.matrix_docs_topics_)"
      ]
    },
    {
      "cell_type": "markdown",
      "id": "cf3a1373",
      "metadata": {
        "id": "cf3a1373"
      },
      "source": [
        "# 4- Latent Semantic Indexing (LSI)"
      ]
    },
    {
      "cell_type": "code",
      "execution_count": null,
      "id": "353b5f86",
      "metadata": {
        "id": "353b5f86"
      },
      "outputs": [],
      "source": [
        "data_words = list(processed_docs)\n",
        "print(data_words[:1][0][:30])"
      ]
    },
    {
      "cell_type": "code",
      "execution_count": null,
      "id": "550b24fa",
      "metadata": {
        "id": "550b24fa"
      },
      "outputs": [],
      "source": [
        "lsi_model = gensim.models.lsimodel.LsiModel(\n",
        "   corpus=corpus_tfidf, id2word=dictionary, num_topics=10,chunksize=3000\n",
        ")"
      ]
    },
    {
      "cell_type": "code",
      "execution_count": null,
      "id": "a4d3b1ef",
      "metadata": {
        "id": "a4d3b1ef"
      },
      "outputs": [],
      "source": [
        "#lsi_model.show_topics()\n",
        "\n",
        "\n",
        "for indx, topics in lsi_model.print_topics(num_topics=5, num_words=10):\n",
        "    print('Topic: {} \\nWords: {}'.format(indx, topics))"
      ]
    },
    {
      "cell_type": "markdown",
      "id": "85550cb5",
      "metadata": {
        "id": "85550cb5"
      },
      "source": [
        "**print_topic**:\n",
        "Return the result of show_topic, but formatted as a single string.\n",
        "\n",
        "**- show_topic :**\n",
        "Return a list of (word, probability)\n",
        "2-tuples for the most probable words in topic topicid.\n",
        "\n",
        "Only return 2-tuples for the topn most probable words (ignore the rest).\n",
        "\n",
        "Read_more (https://tedboy.github.io/nlps/_modules/gensim/models/lsimodel.html#LsiModel.show_topics)"
      ]
    },
    {
      "cell_type": "markdown",
      "id": "3123bb29",
      "metadata": {
        "id": "3123bb29"
      },
      "source": [
        "### LSI coherence with CV"
      ]
    },
    {
      "cell_type": "code",
      "execution_count": null,
      "id": "09c47821",
      "metadata": {
        "id": "09c47821"
      },
      "outputs": [],
      "source": [
        "# Compute Coherence Score\n",
        "coherence_model_lsi = CoherenceModel(model=lsi_model, texts=processed_docs, dictionary=dictionary, coherence='c_v')\n",
        "coherence_lsi_cv = coherence_model_lsi.get_coherence()\n",
        "print('\\nCoherence Score: ', coherence_lsi_cv)"
      ]
    },
    {
      "cell_type": "markdown",
      "id": "4e338357",
      "metadata": {
        "id": "4e338357"
      },
      "source": [
        "### LSI coherence with Umass"
      ]
    },
    {
      "cell_type": "code",
      "execution_count": null,
      "id": "0329a181",
      "metadata": {
        "id": "0329a181"
      },
      "outputs": [],
      "source": [
        "# Compute Coherence Score\n",
        "coherence_model_lsi = CoherenceModel(model=lsi_model, texts=processed_docs, dictionary=dictionary, coherence='u_mass')\n",
        "coherence_lsi_umass = coherence_model_lsi.get_coherence()\n",
        "print('\\nCoherence Score: ', coherence_lsi_umass)"
      ]
    },
    {
      "cell_type": "markdown",
      "id": "d58fac3d",
      "metadata": {
        "id": "d58fac3d"
      },
      "source": [
        "### LSI coherence with C_nmpi"
      ]
    },
    {
      "cell_type": "code",
      "execution_count": null,
      "id": "b4fd58c5",
      "metadata": {
        "id": "b4fd58c5"
      },
      "outputs": [],
      "source": [
        "# Compute Coherence Score\n",
        "coherence_model_lsi = CoherenceModel(model=lsi_model, texts=processed_docs, dictionary=dictionary, coherence='c_npmi')\n",
        "coherence_lsi_nmpi = coherence_model_lsi.get_coherence()\n",
        "print('\\nCoherence Score: ', coherence_lsi_nmpi)"
      ]
    },
    {
      "cell_type": "markdown",
      "id": "1cfd4473",
      "metadata": {
        "id": "1cfd4473"
      },
      "source": [
        "### LSI coherence with C_uci"
      ]
    },
    {
      "cell_type": "code",
      "execution_count": null,
      "id": "94e8b4c5",
      "metadata": {
        "id": "94e8b4c5"
      },
      "outputs": [],
      "source": [
        "# Compute Coherence Score\n",
        "coherence_model_lsi = CoherenceModel(model=lsi_model, texts=processed_docs, dictionary=dictionary, coherence='c_uci')\n",
        "coherence_lsi_uci = coherence_model_lsi.get_coherence()\n",
        "print('\\nCoherence Score: ', coherence_lsi_uci)"
      ]
    },
    {
      "cell_type": "markdown",
      "id": "9d250215",
      "metadata": {
        "id": "9d250215"
      },
      "source": [
        "### Optimal number of topics LSI:"
      ]
    },
    {
      "cell_type": "code",
      "execution_count": null,
      "id": "8b9dc42f",
      "metadata": {
        "id": "8b9dc42f"
      },
      "outputs": [],
      "source": [
        "\n",
        "results = []\n",
        "\n",
        "for t in range(2,10):\n",
        "    lsi_model = models.LsiModel(corpus_tfidf, id2word=dictionary, num_topics=t)\n",
        "    corpus_lsi = lsi_model[corpus_tfidf]\n",
        "\n",
        "    cm = CoherenceModel(model=lsi_model, corpus=corpus_lsi, coherence='u_mass')\n",
        "    score = cm.get_coherence()\n",
        "    tup = t, score\n",
        "    results.append(tup)\n",
        "\n",
        "results_lsi = pd.DataFrame(results, columns=['topic', 'score'])"
      ]
    },
    {
      "cell_type": "code",
      "execution_count": null,
      "id": "4d83cd36",
      "metadata": {
        "id": "4d83cd36"
      },
      "outputs": [],
      "source": [
        "results_lsi"
      ]
    },
    {
      "cell_type": "code",
      "execution_count": null,
      "id": "ea00d689",
      "metadata": {
        "id": "ea00d689"
      },
      "outputs": [],
      "source": [
        "plt.figure(figsize = (10,5))\n",
        "s = pd.Series(results_lsi.score.values, index=results_lsi.topic.values)\n",
        "plt.xlabel(\"number of topics\")\n",
        "plt.ylabel(\"Score\")\n",
        "_ = s.plot()"
      ]
    },
    {
      "cell_type": "markdown",
      "id": "7c09fb61",
      "metadata": {
        "id": "7c09fb61"
      },
      "source": [
        "# 5- Hierarchical Dirichlet Process (HDP)"
      ]
    },
    {
      "cell_type": "code",
      "execution_count": null,
      "id": "b2d40814",
      "metadata": {
        "id": "b2d40814"
      },
      "outputs": [],
      "source": [
        "\n",
        "hdp_model = HdpModel(bow_corpus,dictionary)"
      ]
    },
    {
      "cell_type": "code",
      "execution_count": null,
      "id": "7e345098",
      "metadata": {
        "id": "7e345098"
      },
      "outputs": [],
      "source": [
        "for idxh, topich in hdp_model.print_topics(num_topics=5, num_words=10):\n",
        "    print('Topic: {} \\nWords: {}'.format(idxh, topich))"
      ]
    },
    {
      "cell_type": "markdown",
      "id": "9e970856",
      "metadata": {
        "id": "9e970856"
      },
      "source": [
        "### HDP coherence with  u_mass"
      ]
    },
    {
      "cell_type": "code",
      "execution_count": null,
      "id": "34f994ec",
      "metadata": {
        "id": "34f994ec"
      },
      "outputs": [],
      "source": [
        "\n",
        "cm = CoherenceModel(model=hdp_model, corpus=bow_corpus, coherence='u_mass')\n",
        "hdp_coherence_umass = cm.get_coherence()\n",
        "print('\\nCoherence Score u_mass: ', hdp_coherence_umass)"
      ]
    },
    {
      "cell_type": "markdown",
      "id": "9cd4107e",
      "metadata": {
        "id": "9cd4107e"
      },
      "source": [
        "### HDP coherence with  cv"
      ]
    },
    {
      "cell_type": "code",
      "execution_count": null,
      "id": "5425c764",
      "metadata": {
        "scrolled": true,
        "id": "5425c764"
      },
      "outputs": [],
      "source": [
        "\n",
        "cm = CoherenceModel(model=hdp_model, corpus=bow_corpus, coherence='c_v', texts = processed_docs)\n",
        "hdp_coherence_cv = cm.get_coherence()\n",
        "print('\\nCoherence Score c_v: ', hdp_coherence_cv)"
      ]
    },
    {
      "cell_type": "markdown",
      "id": "f6277627",
      "metadata": {
        "id": "f6277627"
      },
      "source": [
        "### HDP coherence with  c_uci"
      ]
    },
    {
      "cell_type": "code",
      "execution_count": null,
      "id": "42dcaed9",
      "metadata": {
        "id": "42dcaed9"
      },
      "outputs": [],
      "source": [
        "from gensim.models import CoherenceModel\n",
        "cm = CoherenceModel(model=hdp_model, corpus=bow_corpus, coherence='c_uci', texts = processed_docs)\n",
        "hdp_coherence_uci = cm.get_coherence()\n",
        "print('\\nCoherence Score c_uci: ', hdp_coherence_uci)"
      ]
    },
    {
      "cell_type": "markdown",
      "id": "7aa74d66",
      "metadata": {
        "id": "7aa74d66"
      },
      "source": [
        "### HDP coherence with  c_nmpi"
      ]
    },
    {
      "cell_type": "code",
      "execution_count": null,
      "id": "88132183",
      "metadata": {
        "id": "88132183"
      },
      "outputs": [],
      "source": [
        "\n",
        "cm = CoherenceModel(model=hdp_model, corpus=bow_corpus, coherence='c_npmi', texts = processed_docs)\n",
        "hdp_coherence_nmpi = cm.get_coherence()\n",
        "print('\\nCoherence Score c_npmi: ', hdp_coherence_nmpi)"
      ]
    },
    {
      "cell_type": "markdown",
      "id": "3474f0d3",
      "metadata": {
        "id": "3474f0d3"
      },
      "source": [
        "# 6- Non-Negative Matrix Factorization(NMF) :"
      ]
    },
    {
      "cell_type": "code",
      "execution_count": null,
      "id": "2435a1bd",
      "metadata": {
        "id": "2435a1bd"
      },
      "outputs": [],
      "source": [
        "\n",
        "processed_docs = ' '.join(str(v) for v in processed_docs)\n",
        "reshaped_text = arabic_reshaper.reshape(processed_docs)\n",
        "bidi_text = get_display(reshaped_text)"
      ]
    },
    {
      "cell_type": "code",
      "execution_count": null,
      "id": "0b912416",
      "metadata": {
        "id": "0b912416"
      },
      "outputs": [],
      "source": [
        "# We only need the Headlines text column from the data\n",
        "#the count vectorizer module needs string inputs, not array, so I join them with a space. This is a very quick operation.\n",
        "train_headlines_sentences =[processed_docs]"
      ]
    },
    {
      "cell_type": "code",
      "execution_count": null,
      "id": "9e2c0804",
      "metadata": {
        "id": "9e2c0804"
      },
      "outputs": [],
      "source": [
        "train_headlines_sentences"
      ]
    },
    {
      "cell_type": "code",
      "execution_count": null,
      "id": "5ddd61d4",
      "metadata": {
        "id": "5ddd61d4"
      },
      "outputs": [],
      "source": [
        "vectorizer = CountVectorizer();\n",
        "x_counts = vectorizer.fit_transform(train_headlines_sentences);"
      ]
    },
    {
      "cell_type": "code",
      "execution_count": null,
      "id": "b5384c7a",
      "metadata": {
        "id": "b5384c7a"
      },
      "outputs": [],
      "source": [
        "transformer = TfidfTransformer(smooth_idf=False);\n",
        "x_tfidf = transformer.fit_transform(x_counts)"
      ]
    },
    {
      "cell_type": "code",
      "execution_count": null,
      "id": "72437864",
      "metadata": {
        "id": "72437864"
      },
      "outputs": [],
      "source": [
        "xtfidf_norm = normalize(x_tfidf, norm='l1', axis=1)"
      ]
    },
    {
      "cell_type": "code",
      "execution_count": null,
      "id": "863c74f4",
      "metadata": {
        "id": "863c74f4"
      },
      "outputs": [],
      "source": [
        "#obtain a NMF model.\n",
        "modelNMF = NMF(n_components=10, init=None);\n",
        "#fit the model\n",
        "modelNMF.fit(xtfidf_norm)"
      ]
    },
    {
      "cell_type": "code",
      "execution_count": null,
      "id": "eef6cb03",
      "metadata": {
        "id": "eef6cb03"
      },
      "outputs": [],
      "source": [
        "def get_nmf_topics(modelNMF, n_top_words):\n",
        "\n",
        "    #the word ids obtained need to be reverse-mapped to the words so we can print the topic names.\n",
        "    feat_names = vectorizer.get_feature_names()\n",
        "\n",
        "    word_dict = {};\n",
        "    for i in range(10):\n",
        "\n",
        "        #for each topic, obtain the largest values, and add the words they map to into the dictionary.\n",
        "        words_ids = modelNMF.components_[i].argsort()[:-20 - 1:-1]\n",
        "        words = [feat_names[key] for key in words_ids]\n",
        "        word_dict['Topic # ' + '{:02d}'.format(i+1)] = words;\n",
        "\n",
        "    return pd.DataFrame(word_dict);"
      ]
    },
    {
      "cell_type": "code",
      "execution_count": null,
      "id": "70771dcd",
      "metadata": {
        "id": "70771dcd"
      },
      "outputs": [],
      "source": [
        "get_nmf_topics(modelNMF, 20)"
      ]
    },
    {
      "cell_type": "code",
      "execution_count": null,
      "id": "9db36348",
      "metadata": {
        "id": "9db36348"
      },
      "outputs": [],
      "source": [
        "\n",
        "nmf = GensimNmf(\n",
        "    corpus=bow_corpus,\n",
        "    num_topics=5,\n",
        "    id2word=dictionary,\n",
        "    chunksize=1000,\n",
        "    passes=5,\n",
        "    eval_every=10,\n",
        "    minimum_probability=0,\n",
        "    random_state=0,\n",
        "    kappa=1,\n",
        ")"
      ]
    },
    {
      "cell_type": "markdown",
      "id": "ae31a0b4",
      "metadata": {
        "id": "ae31a0b4"
      },
      "source": [
        "### NMF coherence with Umass"
      ]
    },
    {
      "cell_type": "code",
      "execution_count": null,
      "id": "c1b6cd39",
      "metadata": {
        "id": "c1b6cd39"
      },
      "outputs": [],
      "source": [
        "cm = CoherenceModel(model=nmf,dictionary=id2word, corpus=bow_corpus, coherence='u_mass')\n",
        "nmf_coherence_uMass = cm.get_coherence()\n",
        "print('\\nCoherence Score u_mass: ', nmf_coherence_uMass)"
      ]
    },
    {
      "cell_type": "markdown",
      "id": "f6ef107d",
      "metadata": {
        "id": "f6ef107d"
      },
      "source": [
        "### NMF coherence with C_nmpi"
      ]
    },
    {
      "cell_type": "code",
      "execution_count": null,
      "id": "22ca1a35",
      "metadata": {
        "id": "22ca1a35"
      },
      "outputs": [],
      "source": [
        "documents = data['text'].values\n",
        "texts = [[word for word in str(document).split()] for document in documents]\n",
        "id2word = corpora.Dictionary(texts)\n",
        "corpus = [id2word.doc2bow(text) for text in texts]\n",
        "\n",
        "cm = CoherenceModel(model=nmf,texts=texts,dictionary=id2word, corpus=bow_corpus, coherence='c_npmi')\n",
        "nmf_coherence_cnmpi = cm.get_coherence()\n",
        "print('\\nCoherence Score c_npmi: ', nmf_coherence_cnmpi)"
      ]
    },
    {
      "cell_type": "markdown",
      "id": "dd3ffe2c",
      "metadata": {
        "id": "dd3ffe2c"
      },
      "source": [
        "### NMF coherence with c_uci"
      ]
    },
    {
      "cell_type": "code",
      "execution_count": null,
      "id": "9dfef19b",
      "metadata": {
        "id": "9dfef19b"
      },
      "outputs": [],
      "source": [
        "documents = data['text'].values\n",
        "texts = [[word for word in str(document).split()] for document in documents]\n",
        "id2word = corpora.Dictionary(texts)\n",
        "corpus = [id2word.doc2bow(text) for text in texts]\n",
        "cm = CoherenceModel(model=nmf,texts=texts,dictionary=id2word, corpus=bow_corpus, coherence='c_uci')\n",
        "nmf_coherence_cuci = cm.get_coherence()\n",
        "print('\\nCoherence Score c_uci: ', nmf_coherence_cuci)"
      ]
    },
    {
      "cell_type": "markdown",
      "id": "7f7b4dd2",
      "metadata": {
        "id": "7f7b4dd2"
      },
      "source": [
        "### NMF coherence with cv"
      ]
    },
    {
      "cell_type": "code",
      "execution_count": null,
      "id": "27108f60",
      "metadata": {
        "id": "27108f60"
      },
      "outputs": [],
      "source": [
        "documents = data['text'].values\n",
        "texts = [[word for word in str(document).split()] for document in documents]\n",
        "id2word = corpora.Dictionary(texts)\n",
        "corpus = [id2word.doc2bow(text) for text in texts]\n",
        "cm = CoherenceModel(model=nmf,texts=texts,dictionary=id2word, corpus=bow_corpus, coherence='c_v')\n",
        "nmf_coherence_cv = cm.get_coherence()\n",
        "print('\\nCoherence Score c_cv: ', nmf_coherence_cv)"
      ]
    },
    {
      "cell_type": "markdown",
      "id": "woLQ5TeTVufs",
      "metadata": {
        "id": "woLQ5TeTVufs"
      },
      "source": [
        "# 7- Pachinko allocation (PAM)"
      ]
    },
    {
      "cell_type": "code",
      "execution_count": null,
      "id": "UNi4gHUllcbY",
      "metadata": {
        "id": "UNi4gHUllcbY",
        "scrolled": false
      },
      "outputs": [],
      "source": [
        "\n",
        "k = 5\n",
        "mdl = tp.PAModel(k1=5, k2=25)\n",
        "for line in [processed_docs]:\n",
        "    mdl.add_doc(line.strip().split())\n",
        "\n",
        "for i in range(10,100,10):\n",
        "    mdl.train(100)\n",
        "    print('Iteration: {}\\tLog-likelihood: {}'.format( i,mdl.ll_per_word))\n",
        "\n",
        "# save into file\n",
        "#mdl.save('sample_PAM_model.bin')\n",
        "\n",
        "# load from file\n",
        "#mdl = tp.PAModel.load('sample_PAM_model.bin')\n",
        "for s in range(mdl.k):\n",
        "    if not mdl.get_sub_topics(s): continue\n",
        "    print('Top 10 words of topic #{}'.format(s))\n",
        "    print(mdl.get_topic_words(k,top_n=10))\n"
      ]
    },
    {
      "cell_type": "markdown",
      "id": "0d06225a",
      "metadata": {
        "id": "0d06225a"
      },
      "source": [
        "### PAM coherence with Umass"
      ]
    },
    {
      "cell_type": "code",
      "execution_count": null,
      "id": "70f664a1",
      "metadata": {
        "id": "70f664a1"
      },
      "outputs": [],
      "source": [
        "\n",
        "coh = tp.coherence.Coherence(mdl, coherence='u_mass')\n",
        "PAM_umass_coherence = coh.get_score()\n",
        "coherence_per_topic = [coh.get_score(topic_id=k) for k in range(mdl.k)]\n",
        "print('==== Coherence : {} ===='.format('u_mass'))\n",
        "print('Average:', PAM_umass_coherence, '\\nPer Topic:', coherence_per_topic)\n",
        "print()"
      ]
    },
    {
      "cell_type": "markdown",
      "id": "84bb1670",
      "metadata": {
        "id": "84bb1670"
      },
      "source": [
        "### PAM coherence C_uci"
      ]
    },
    {
      "cell_type": "code",
      "execution_count": null,
      "id": "18a52c86",
      "metadata": {
        "id": "18a52c86"
      },
      "outputs": [],
      "source": [
        "\n",
        "coh = tp.coherence.Coherence(mdl, coherence='c_uci')\n",
        "PAM_cuci_coherence = coh.get_score()\n",
        "coherence_per_topic = [coh.get_score(topic_id=k) for k in range(mdl.k)]\n",
        "print('==== Coherence : {} ===='.format('c_uci'))\n",
        "print('Average:', PAM_cuci_coherence, '\\nPer Topic:', coherence_per_topic)\n",
        "print()\n"
      ]
    },
    {
      "cell_type": "markdown",
      "id": "d46128be",
      "metadata": {
        "id": "d46128be"
      },
      "source": [
        "### PAM coherence with c_nmpi"
      ]
    },
    {
      "cell_type": "code",
      "execution_count": null,
      "id": "8506501f",
      "metadata": {
        "id": "8506501f"
      },
      "outputs": [],
      "source": [
        "\n",
        "coh = tp.coherence.Coherence(mdl, coherence='c_npmi')\n",
        "PAM_cnpmi_coherence = coh.get_score()\n",
        "coherence_per_topic = [coh.get_score(topic_id=k) for k in range(mdl.k)]\n",
        "print('==== Coherence : {} ===='.format('c_npmi'))\n",
        "print('Average:', PAM_cnpmi_coherence, '\\nPer Topic:', coherence_per_topic)\n",
        "print()\n"
      ]
    },
    {
      "cell_type": "markdown",
      "id": "b6fad1ea",
      "metadata": {
        "id": "b6fad1ea"
      },
      "source": [
        "### PAM coherence with cv"
      ]
    },
    {
      "cell_type": "code",
      "execution_count": null,
      "id": "f4b66480",
      "metadata": {
        "id": "f4b66480"
      },
      "outputs": [],
      "source": [
        "\n",
        "coh = tp.coherence.Coherence(mdl, coherence='c_v')\n",
        "PAM_cv_coherence = coh.get_score()\n",
        "coherence_per_topic = [coh.get_score(topic_id=k) for k in range(mdl.k)]\n",
        "print('==== Coherence : {} ===='.format('c_v'))\n",
        "print('Average:', PAM_cv_coherence, '\\nPer Topic:', coherence_per_topic)\n",
        "print()\n"
      ]
    },
    {
      "cell_type": "markdown",
      "id": "3qrzMcjaNXcF",
      "metadata": {
        "id": "3qrzMcjaNXcF"
      },
      "source": [
        "# 8- Hierarchical Pachinko allocation (HPAM)"
      ]
    },
    {
      "cell_type": "code",
      "execution_count": null,
      "id": "3fGmtYHCNZT1",
      "metadata": {
        "id": "3fGmtYHCNZT1"
      },
      "outputs": [],
      "source": [
        "\n",
        "k = 5\n",
        "mdlH = tp.HPAModel(k1=5, k2=25)\n",
        "\n",
        "for line in [processed_docs]:\n",
        "    mdlH.add_doc(line.strip().split())\n",
        "\n",
        "for i in range(10,100,10):\n",
        "    mdlH.train(100)\n",
        "    print('Iteration: {}\\tLog-likelihood: {}'.format( i,mdlH.ll_per_word))\n",
        "\n",
        "# save into file\n",
        "#mdl.save('sample_PAM_model.bin')\n",
        "\n",
        "# load from file\n",
        "#mdl = tp.PAModel.load('sample_PAM_model.bin')\n",
        "for s in range(mdlH.k):\n",
        "    if not mdlH.get_sub_topics(s): continue\n",
        "    print('Top 10 words of topic #{}'.format(s))\n",
        "    print(mdlH.get_topic_words(k,top_n=10))\n",
        "\n"
      ]
    },
    {
      "cell_type": "markdown",
      "id": "ccfb1a5d",
      "metadata": {
        "id": "ccfb1a5d"
      },
      "source": [
        "### HPAM coherence with Umass"
      ]
    },
    {
      "cell_type": "code",
      "execution_count": null,
      "id": "e3a9b5b9",
      "metadata": {
        "id": "e3a9b5b9"
      },
      "outputs": [],
      "source": [
        "\n",
        "coh = tp.coherence.Coherence(mdlH, coherence='u_mass')\n",
        "HPAM_umass_coherence = coh.get_score()\n",
        "coherence_per_topic = [coh.get_score(topic_id=k) for k in range(mdlH.k)]\n",
        "print('==== Coherence : {} ===='.format('u_mass'))\n",
        "print('Average:', HPAM_umass_coherence, '\\nPer Topic:', coherence_per_topic)\n",
        "print()\n"
      ]
    },
    {
      "cell_type": "markdown",
      "id": "fd7b6ccb",
      "metadata": {
        "id": "fd7b6ccb"
      },
      "source": [
        "### HPAM coherence with C_uci"
      ]
    },
    {
      "cell_type": "code",
      "execution_count": null,
      "id": "cc02308b",
      "metadata": {
        "id": "cc02308b"
      },
      "outputs": [],
      "source": [
        "\n",
        "coh = tp.coherence.Coherence(mdlH, coherence='c_uci')\n",
        "HPAM_cuci_coherence = coh.get_score()\n",
        "coherence_per_topic = [coh.get_score(topic_id=k) for k in range(mdlH.k)]\n",
        "print('==== Coherence : {} ===='.format('c_uci'))\n",
        "print('Average:', HPAM_cuci_coherence, '\\nPer Topic:', coherence_per_topic)\n",
        "print()\n"
      ]
    },
    {
      "cell_type": "markdown",
      "id": "89690ded",
      "metadata": {
        "id": "89690ded"
      },
      "source": [
        "### HPAM coherence with C_nmpi"
      ]
    },
    {
      "cell_type": "code",
      "execution_count": null,
      "id": "9ca3c6ef",
      "metadata": {
        "id": "9ca3c6ef"
      },
      "outputs": [],
      "source": [
        "\n",
        "coh = tp.coherence.Coherence(mdlH, coherence='c_npmi')\n",
        "HPAM_cnmpi_coherence = coh.get_score()\n",
        "coherence_per_topic = [coh.get_score(topic_id=k) for k in range(mdlH.k)]\n",
        "print('==== Coherence : {} ===='.format('c_npmi'))\n",
        "print('Average:', HPAM_cnmpi_coherence, '\\nPer Topic:', coherence_per_topic)\n",
        "print()\n"
      ]
    },
    {
      "cell_type": "markdown",
      "id": "b6d4ee1d",
      "metadata": {
        "id": "b6d4ee1d"
      },
      "source": [
        "### HPAM coherence with CV"
      ]
    },
    {
      "cell_type": "code",
      "execution_count": null,
      "id": "1a2fcf29",
      "metadata": {
        "id": "1a2fcf29"
      },
      "outputs": [],
      "source": [
        "\n",
        "coh = tp.coherence.Coherence(mdlH, coherence='c_v')\n",
        "HPAM_cv_coherence = coh.get_score()\n",
        "coherence_per_topic = [coh.get_score(topic_id=k) for k in range(mdlH.k)]\n",
        "print('==== Coherence : {} ===='.format('c_v'))\n",
        "print('Average:', HPAM_cv_coherence, '\\nPer Topic:', coherence_per_topic)\n",
        "print()"
      ]
    },
    {
      "cell_type": "markdown",
      "id": "a162a24c",
      "metadata": {
        "id": "a162a24c"
      },
      "source": [
        "# 9- Dirichlet Multinomial Regression(DMR)"
      ]
    },
    {
      "cell_type": "code",
      "execution_count": null,
      "id": "DByFX_ADbIff",
      "metadata": {
        "id": "DByFX_ADbIff"
      },
      "outputs": [],
      "source": [
        "\n",
        "corpus = tp.utils.Corpus()\n",
        "\n",
        "mdlD = tp.DMRModel(tw=tp.TermWeight.ONE,\n",
        "    k=20,\n",
        "    corpus=corpus)\n",
        "\n",
        "for line in [processed_docs]:\n",
        "    mdlD.add_doc(line.strip().split())\n",
        "\n",
        "for i in range(10,100,10):\n",
        "    mdlD.train(100)\n",
        "    print('Iteration: {}\\tLog-likelihood: {}'.format( i,mdlD.ll_per_word))\n",
        "\n"
      ]
    },
    {
      "cell_type": "code",
      "execution_count": null,
      "id": "b75d6dcb",
      "metadata": {
        "id": "b75d6dcb"
      },
      "outputs": [],
      "source": [
        "for i in range(0, 2000, 20):\n",
        "    print('Iteration: {:04} LL per word: {:.4}'.format(i, mdlD.ll_per_word))\n",
        "    mdlD.train(20)\n",
        "print('Iteration: {:04} LL per word: {:.4}'.format(2000, mdlD.ll_per_word))\n",
        "\n",
        "mdlD.summary()"
      ]
    },
    {
      "cell_type": "markdown",
      "id": "7bc05888",
      "metadata": {
        "id": "7bc05888"
      },
      "source": [
        "### DMR coherence with U_mass"
      ]
    },
    {
      "cell_type": "code",
      "execution_count": null,
      "id": "8e6c4f8c",
      "metadata": {
        "id": "8e6c4f8c"
      },
      "outputs": [],
      "source": [
        "coh = tp.coherence.Coherence(mdlD, coherence='u_mass')\n",
        "DMR_umass_coherence = coh.get_score()\n",
        "coherence_per_topic = [coh.get_score(topic_id=k) for k in range(mdlD.k)]\n",
        "print('==== Coherence : {} ===='.format('u_mass'))\n",
        "print('Average:', DMR_umass_coherence, '\\nPer Topic:', coherence_per_topic)\n",
        "print()\n"
      ]
    },
    {
      "cell_type": "markdown",
      "id": "86169718",
      "metadata": {
        "id": "86169718"
      },
      "source": [
        "### DMR coherence with C_V"
      ]
    },
    {
      "cell_type": "code",
      "execution_count": null,
      "id": "25bafb1c",
      "metadata": {
        "id": "25bafb1c"
      },
      "outputs": [],
      "source": [
        "coh = tp.coherence.Coherence(mdlD, coherence='c_v')\n",
        "DMR_cv_coherence = coh.get_score()\n",
        "coherence_per_topic = [coh.get_score(topic_id=k) for k in range(mdlD.k)]\n",
        "print('==== Coherence : {} ===='.format('c_v'))\n",
        "print('Average:', DMR_cv_coherence, '\\nPer Topic:', coherence_per_topic)\n",
        "print()\n"
      ]
    },
    {
      "cell_type": "markdown",
      "id": "0913b282",
      "metadata": {
        "id": "0913b282"
      },
      "source": [
        "### DMR coherence with UMASS"
      ]
    },
    {
      "cell_type": "code",
      "execution_count": null,
      "id": "043d3edb",
      "metadata": {
        "id": "043d3edb"
      },
      "outputs": [],
      "source": [
        "coh = tp.coherence.Coherence(mdlD, coherence='c_uci')\n",
        "DMR_cuci_coherence = coh.get_score()\n",
        "coherence_per_topic = [coh.get_score(topic_id=k) for k in range(mdlD.k)]\n",
        "print('==== Coherence : {} ===='.format('c_uci'))\n",
        "print('Average:', DMR_cuci_coherence, '\\nPer Topic:', coherence_per_topic)\n",
        "print()\n"
      ]
    },
    {
      "cell_type": "markdown",
      "id": "cf3d6aec",
      "metadata": {
        "id": "cf3d6aec"
      },
      "source": [
        "### DMR coherence with C_nmpi"
      ]
    },
    {
      "cell_type": "code",
      "execution_count": null,
      "id": "59c3264d",
      "metadata": {
        "id": "59c3264d"
      },
      "outputs": [],
      "source": [
        "\n",
        "coh = tp.coherence.Coherence(mdlD, coherence='c_npmi')\n",
        "DMR_cnmpi_coherence = coh.get_score()\n",
        "coherence_per_topic = [coh.get_score(topic_id=k) for k in range(mdlD.k)]\n",
        "print('==== Coherence : {} ===='.format('c_npmi'))\n",
        "print('Average:', DMR_cnmpi_coherence, '\\nPer Topic:', coherence_per_topic)\n",
        "print()"
      ]
    },
    {
      "cell_type": "markdown",
      "id": "dc09b2b5",
      "metadata": {
        "id": "dc09b2b5"
      },
      "source": [
        "# 10-  Adversarial-neural Topic Model(ATM)"
      ]
    },
    {
      "cell_type": "code",
      "execution_count": null,
      "id": "05f11c41",
      "metadata": {
        "id": "05f11c41"
      },
      "outputs": [],
      "source": [
        "model = AuthorTopicModel(\n",
        "        corpus=bow_corpus, id2word=dictionary, num_topics=4\n",
        "    )"
      ]
    },
    {
      "cell_type": "code",
      "execution_count": null,
      "id": "9faed80d",
      "metadata": {
        "id": "9faed80d"
      },
      "outputs": [],
      "source": [
        "for indx, topics in model.print_topics(num_topics=5, num_words=10):\n",
        "    print('Topic: {} \\nWords: {}'.format(indx, topics))"
      ]
    },
    {
      "cell_type": "markdown",
      "id": "a6b78a44",
      "metadata": {
        "id": "a6b78a44"
      },
      "source": [
        "### ATM coherence with UMass"
      ]
    },
    {
      "cell_type": "code",
      "execution_count": null,
      "id": "454361fc",
      "metadata": {
        "id": "454361fc"
      },
      "outputs": [],
      "source": [
        "\n",
        "coherence_model_ATM = CoherenceModel(model=model, dictionary=dictionary, coherence='u_mass',corpus=bow_corpus)\n",
        "coherence_ATM_uMass = coherence_model_ATM.get_coherence()\n",
        "print('\\nCoherence Score with UMASS: ', coherence_ATM_uMass)"
      ]
    },
    {
      "cell_type": "markdown",
      "id": "a4363fb6",
      "metadata": {
        "id": "a4363fb6"
      },
      "source": [
        "### ATM coherence with CV"
      ]
    },
    {
      "cell_type": "code",
      "execution_count": null,
      "id": "f2731650",
      "metadata": {
        "id": "f2731650"
      },
      "outputs": [],
      "source": [
        "# Compute Coherence Score\n",
        "documents = data['text'].values\n",
        "texts = [[word for word in str(document).split()] for document in documents]\n",
        "id2word = corpora.Dictionary(texts)\n",
        "corpus = [id2word.doc2bow(text) for text in texts]\n",
        "\n",
        "coherence_model_ATM = CoherenceModel(model=model, dictionary=id2word, corpus=bow_corpus, coherence='c_v', texts = texts)\n",
        "coherence_ATM_CV = coherence_model_ATM.get_coherence()\n",
        "print('\\nCoherence Score with CV: ', coherence_ATM_CV)"
      ]
    },
    {
      "cell_type": "markdown",
      "id": "3ffcf9cf",
      "metadata": {
        "id": "3ffcf9cf"
      },
      "source": [
        "### ATM coherence with c_uci"
      ]
    },
    {
      "cell_type": "code",
      "execution_count": null,
      "id": "6765d6e3",
      "metadata": {
        "id": "6765d6e3"
      },
      "outputs": [],
      "source": [
        "documents = data['text'].values\n",
        "texts = [[word for word in str(document).split()] for document in documents]\n",
        "id2word = corpora.Dictionary(texts)\n",
        "corpus = [id2word.doc2bow(text) for text in texts]\n",
        "cm = CoherenceModel(model=model,texts=texts,dictionary=id2word, corpus=bow_corpus, coherence='c_uci')\n",
        "ATM_coherence_cuci = cm.get_coherence()\n",
        "print('\\nCoherence Score c_uci: ', ATM_coherence_cuci)\n"
      ]
    },
    {
      "cell_type": "markdown",
      "id": "1936f658",
      "metadata": {
        "id": "1936f658"
      },
      "source": [
        "### ATM coherence with c_nmpi"
      ]
    },
    {
      "cell_type": "code",
      "execution_count": null,
      "id": "3626b824",
      "metadata": {
        "id": "3626b824"
      },
      "outputs": [],
      "source": [
        "documents = data['text'].values\n",
        "texts = [[word for word in str(document).split()] for document in documents]\n",
        "id2word = corpora.Dictionary(texts)\n",
        "corpus = [id2word.doc2bow(text) for text in texts]\n",
        "cm = CoherenceModel(model=model,texts=texts,dictionary=id2word, corpus=bow_corpus, coherence='c_npmi')\n",
        "ATM_coherence_cnmpi = cm.get_coherence()\n",
        "print('\\nCoherence Score c_npmi: ', ATM_coherence_cnmpi)"
      ]
    },
    {
      "cell_type": "code",
      "execution_count": null,
      "id": "691cf9a1",
      "metadata": {
        "id": "691cf9a1"
      },
      "outputs": [],
      "source": [
        "#process = pd.DataFrame(processed_docs)\n"
      ]
    },
    {
      "cell_type": "code",
      "execution_count": null,
      "id": "f6963e1e",
      "metadata": {
        "scrolled": true,
        "id": "f6963e1e"
      },
      "outputs": [],
      "source": [
        "type(data_text)"
      ]
    },
    {
      "cell_type": "markdown",
      "id": "85bacf9a",
      "metadata": {
        "id": "85bacf9a"
      },
      "source": [
        "# 11- Short for Gibbs Sampling Dirichlet Multinomial Mixture(GSDMM)"
      ]
    },
    {
      "cell_type": "code",
      "execution_count": null,
      "id": "hbgaKlM_XinJ",
      "metadata": {
        "id": "hbgaKlM_XinJ"
      },
      "outputs": [],
      "source": [
        "documents = data['text'].values\n",
        "mgp = MovieGroupProcess(K=20, alpha=0.1, beta=0.1, n_iters=1)\n",
        "\n",
        "# Transform documents\n",
        "tokens = [doc.split() for doc in documents]\n",
        "\n",
        "id2word = gensim.corpora.Dictionary(tokens)\n",
        "\n",
        "y = mgp.fit(tokens ,len(id2word))"
      ]
    },
    {
      "cell_type": "code",
      "execution_count": null,
      "id": "ce9f5883",
      "metadata": {
        "id": "ce9f5883"
      },
      "outputs": [],
      "source": [
        "doc_count = np.array(mgp.cluster_doc_count)\n",
        "print('Number of documents per topic :', doc_count)\n",
        "print('*'*20)\n",
        "# Topics sorted by the number of document they are allocated to\n",
        "top_index = doc_count.argsort()\n",
        "print('Most important clusters (by number of docs inside):', top_index)\n",
        "print('*'*20)\n",
        "# Show the top 5 words in term frequency for each cluster\n",
        "for i in range(20):\n",
        "    print(\"Cluster\",i,':',sorted(mgp.cluster_word_distribution[i].items(), key=lambda item: item[1])[:10])"
      ]
    },
    {
      "cell_type": "code",
      "execution_count": null,
      "id": "44897ab7",
      "metadata": {
        "id": "44897ab7"
      },
      "outputs": [],
      "source": [
        "def get_topics_lists(model, top_clusters, n_words):\n",
        "    '''\n",
        "    Gets lists of words in topics as a list of lists.\n",
        "\n",
        "    model: gsdmm instance\n",
        "    top_clusters:  numpy array containing indices of top_clusters\n",
        "    n_words: top n number of words to include\n",
        "\n",
        "    '''\n",
        "    # create empty list to contain topics\n",
        "    topics = []\n",
        "\n",
        "    # iterate over top n clusters\n",
        "    for cluster in top_clusters:\n",
        "        #create sorted dictionary of word distributions\n",
        "        sorted_dict = sorted(model.cluster_word_distribution[cluster].items(), key=lambda k: k[1], reverse=True)[:n_words]\n",
        "\n",
        "        #create empty list to contain words\n",
        "        topic = []\n",
        "\n",
        "        #iterate over top n words in topic\n",
        "        for k,v in sorted_dict:\n",
        "            #append words to topic list\n",
        "            topic.append(k)\n",
        "\n",
        "        #append topics to topics list\n",
        "        topics.append(topic)\n",
        "\n",
        "    return topics"
      ]
    },
    {
      "cell_type": "markdown",
      "id": "fa47c053",
      "metadata": {
        "id": "fa47c053"
      },
      "source": [
        "### GSDMM coherence with u_mass"
      ]
    },
    {
      "cell_type": "code",
      "execution_count": null,
      "id": "ad870bec",
      "metadata": {
        "id": "ad870bec"
      },
      "outputs": [],
      "source": [
        "documents = data['text'].values\n",
        "texts = [[word for word in str(document).split()] for document in documents]\n",
        "id2word = corpora.Dictionary(texts)\n",
        "corpus = [id2word.doc2bow(text) for text in texts]\n",
        "topics = get_topics_lists(mgp, top_index, 20)\n",
        "\n",
        "# evaluate model using Topic Coherence score\n",
        "cm_gsdmm = CoherenceModel(topics=topics,\n",
        "                          dictionary=id2word,\n",
        "                          corpus=bow_corpus,\n",
        "                          texts=documents,\n",
        "                          coherence='u_mass')\n",
        "\n",
        "# get coherence value\n",
        "coherence_gsdmm_u_mass = cm_gsdmm.get_coherence()\n",
        "\n",
        "print(coherence_gsdmm_u_mass)"
      ]
    },
    {
      "cell_type": "markdown",
      "id": "f3892a75",
      "metadata": {
        "id": "f3892a75"
      },
      "source": [
        "### GSDMM coherence with C_uci"
      ]
    },
    {
      "cell_type": "code",
      "execution_count": null,
      "id": "7400617f",
      "metadata": {
        "id": "7400617f"
      },
      "outputs": [],
      "source": [
        "documents = data['text'].values\n",
        "texts = [[word for word in str(document).split()] for document in documents]\n",
        "id2word = corpora.Dictionary(texts)\n",
        "corpus = [id2word.doc2bow(text) for text in texts]\n",
        "topics = get_topics_lists(mgp, top_index, 20)\n",
        "\n",
        "# evaluate model using Topic Coherence score\n",
        "cm_gsdmm = CoherenceModel(topics=topics,\n",
        "                          dictionary=id2word,\n",
        "                          corpus=bow_corpus,\n",
        "                          texts=documents,\n",
        "                          coherence='c_uci')\n",
        "\n",
        "# get coherence value\n",
        "coherence_gsdmm_cuci = cm_gsdmm.get_coherence()\n",
        "\n",
        "print(coherence_gsdmm_cuci)\n"
      ]
    },
    {
      "cell_type": "markdown",
      "id": "31187f2d",
      "metadata": {
        "id": "31187f2d"
      },
      "source": [
        "### GSDMM coherence with c_nmpi"
      ]
    },
    {
      "cell_type": "code",
      "execution_count": null,
      "id": "31335038",
      "metadata": {
        "id": "31335038"
      },
      "outputs": [],
      "source": [
        "documents = data['text'].values\n",
        "texts = [[word for word in str(document).split()] for document in documents]\n",
        "id2word = corpora.Dictionary(texts)\n",
        "corpus = [id2word.doc2bow(text) for text in texts]\n",
        "topics = get_topics_lists(mgp, top_index, 20)\n",
        "\n",
        "# evaluate model using Topic Coherence score\n",
        "cm_gsdmm = CoherenceModel(topics=topics,\n",
        "                          dictionary=id2word,\n",
        "                          corpus=bow_corpus,\n",
        "                          texts=documents,\n",
        "                          coherence='c_npmi')\n",
        "\n",
        "# get coherence value\n",
        "coherence_gsdmm_nmpi = cm_gsdmm.get_coherence()\n",
        "\n",
        "print(coherence_gsdmm_nmpi)\n"
      ]
    },
    {
      "cell_type": "markdown",
      "id": "c6a62d7c",
      "metadata": {
        "id": "c6a62d7c"
      },
      "source": [
        "### GSDMM coherence with CV"
      ]
    },
    {
      "cell_type": "code",
      "execution_count": null,
      "id": "f050c86e",
      "metadata": {
        "id": "f050c86e"
      },
      "outputs": [],
      "source": [
        "documents = data['text'].values\n",
        "texts = [[word for word in str(document).split()] for document in documents]\n",
        "id2word = corpora.Dictionary(texts)\n",
        "corpus = [id2word.doc2bow(text) for text in texts]\n",
        "topics = get_topics_lists(mgp, top_index, 20)\n",
        "\n",
        "# evaluate model using Topic Coherence score\n",
        "cm_gsdmm = CoherenceModel(topics=topics,\n",
        "                          dictionary=id2word,\n",
        "                          corpus=bow_corpus,\n",
        "                          texts=documents,\n",
        "                          coherence='c_v')\n",
        "\n",
        "# get coherence value\n",
        "coherence_gsdmm_cv = cm_gsdmm.get_coherence()\n",
        "\n",
        "print(coherence_gsdmm_cv)\n"
      ]
    },
    {
      "cell_type": "markdown",
      "id": "493ebd24",
      "metadata": {
        "id": "493ebd24"
      },
      "source": [
        "# Evaluation models using grid_search"
      ]
    },
    {
      "cell_type": "markdown",
      "id": "8fad0e7a",
      "metadata": {
        "id": "8fad0e7a"
      },
      "source": [
        "# comparison by score"
      ]
    },
    {
      "cell_type": "code",
      "execution_count": null,
      "id": "beba28a3",
      "metadata": {
        "id": "beba28a3"
      },
      "outputs": [],
      "source": [
        "models = pd.DataFrame({\n",
        "    'Model': ['LDA', 'LSI','HDP','NMF','ATM','LDA_SEQ','PAM','GSDMM','HPAM','DMR'], 'Score_by_CV': [coherence_lda_cv, coherence_lsi_cv,hdp_coherence_cv,nmf_coherence_cv,coherence_ATM_CV,ldaseq_cv,PAM_cv_coherence,coherence_gsdmm_cv,HPAM_cv_coherence,DMR_cv_coherence], 'Score_by_uMass': [coherence_lda_uMass, coherence_lsi_umass,hdp_coherence_umass,nmf_coherence_uMass,coherence_ATM_uMass,ldaseq_umass,PAM_umass_coherence,coherence_gsdmm_u_mass,HPAM_umass_coherence,DMR_umass_coherence]\n",
        "      , 'Score_by_cuci': [coherence_lda_uci, coherence_lsi_uci,hdp_coherence_uci,nmf_coherence_cuci,ATM_coherence_cuci,ldaseq_cuci,PAM_cuci_coherence,coherence_gsdmm_cuci,HPAM_cuci_coherence,DMR_cuci_coherence], 'Score_by_cnpmi': [coherence_lda_npmi, coherence_lsi_nmpi,hdp_coherence_nmpi,nmf_coherence_cnmpi,ATM_coherence_cnmpi,ldaseq_cnmpi,PAM_cnpmi_coherence,coherence_gsdmm_nmpi,HPAM_cnmpi_coherence,DMR_cnmpi_coherence]})\n",
        "\n",
        "#print(models)\n",
        "models.sort_values(by='Score_by_CV', ascending=False)\n",
        "\n",
        "\n",
        "\n"
      ]
    },
    {
      "cell_type": "code",
      "execution_count": null,
      "id": "1ac890c0",
      "metadata": {
        "id": "1ac890c0"
      },
      "outputs": [],
      "source": [
        "\n",
        "# A python dictionary\n",
        "\n",
        "data = {\"Models\":['LDA', 'LSI','HDP','NMF','ATM','LDA_SEQ','PAM','HPAM','DMR'],\n",
        "\n",
        "        \"Score_by_CV\":[coherence_lda_cv, coherence_lsi_cv,hdp_coherence_cv,nmf_coherence_cv,coherence_ATM_CV,ldaseq_cv,PAM_cv_coherence,HPAM_cv_coherence,DMR_cv_coherence]\n",
        "\n",
        "        };\n",
        "\n",
        "# Dictionary loaded into a DataFrame\n",
        "\n",
        "dataFrame = pd.DataFrame(data=data);\n",
        "\n",
        "\n",
        "\n",
        "# Draw a vertical bar chart\n",
        "\n",
        "dataFrame.plot.bar(x=\"Models\", y=\"Score_by_CV\", rot=70, title=\"Evaluate topic modeling algorimths(CV)\");\n",
        "\n",
        "plt.show(block=True);"
      ]
    },
    {
      "cell_type": "code",
      "execution_count": null,
      "id": "8e80b4a0",
      "metadata": {
        "id": "8e80b4a0"
      },
      "outputs": [],
      "source": [
        "# A python dictionary\n",
        "\n",
        "data = {\"Models\":['LDA', 'LSI','HDP','NMF','ATM','LDA_SEQ','PAM','HPAM','DMR'],\n",
        "\n",
        "        \"Score_by_Umass\":[coherence_lda_uMass, coherence_lsi_umass,hdp_coherence_umass,nmf_coherence_uMass,coherence_ATM_uMass,ldaseq_umass,PAM_umass_coherence,HPAM_umass_coherence,DMR_umass_coherence]\n",
        "\n",
        "        };\n",
        "\n",
        "# Dictionary loaded into a DataFrame\n",
        "\n",
        "dataFrame = pd.DataFrame(data=data);\n",
        "\n",
        "\n",
        "\n",
        "# Draw a vertical bar chart\n",
        "\n",
        "dataFrame.plot.barh(x=\"Models\", y=\"Score_by_Umass\", title=\"Evaluate topic modeling algorithms(Umass)\");\n",
        "\n",
        "plt.show(block=True);"
      ]
    },
    {
      "cell_type": "code",
      "execution_count": null,
      "id": "57e2f22f",
      "metadata": {
        "id": "57e2f22f"
      },
      "outputs": [],
      "source": [
        "# A python dictionary\n",
        "\n",
        "data = {\"Models\":['LDA', 'LSI','HDP','NMF','ATM','LDA_SEQ','PAM','HPAM','DMR'],\n",
        "\n",
        "        \"Score_by_Cuci\":[coherence_lda_uci, coherence_lsi_uci,hdp_coherence_uci,nmf_coherence_cuci,ATM_coherence_cuci,ldaseq_cuci,PAM_cuci_coherence,HPAM_cuci_coherence,DMR_cuci_coherence]\n",
        "\n",
        "        };\n",
        "\n",
        "# Dictionary loaded into a DataFrame\n",
        "\n",
        "dataFrame = pd.DataFrame(data=data);\n",
        "\n",
        "\n",
        "\n",
        "# Draw a vertical bar chart\n",
        "\n",
        "dataFrame.plot.barh(x=\"Models\", y=\"Score_by_Cuci\", title=\"Evaluate topic modeling algorithms (C_uci)\");\n",
        "\n",
        "plt.show(block=True);"
      ]
    },
    {
      "cell_type": "code",
      "execution_count": null,
      "id": "00a46a1f",
      "metadata": {
        "id": "00a46a1f"
      },
      "outputs": [],
      "source": []
    },
    {
      "cell_type": "code",
      "execution_count": null,
      "id": "a0f4df84",
      "metadata": {
        "id": "a0f4df84"
      },
      "outputs": [],
      "source": []
    }
  ],
  "metadata": {
    "colab": {
      "collapsed_sections": [
        "f56d3435",
        "7cd3cba9",
        "da66a7af",
        "27c9cf2e",
        "6dfcb698",
        "79f1dc3b"
      ],
      "provenance": [],
      "include_colab_link": true
    },
    "kernelspec": {
      "display_name": "Python 3",
      "language": "python",
      "name": "python3"
    },
    "language_info": {
      "codemirror_mode": {
        "name": "ipython",
        "version": 3
      },
      "file_extension": ".py",
      "mimetype": "text/x-python",
      "name": "python",
      "nbconvert_exporter": "python",
      "pygments_lexer": "ipython3",
      "version": "3.9.11"
    }
  },
  "nbformat": 4,
  "nbformat_minor": 5
}