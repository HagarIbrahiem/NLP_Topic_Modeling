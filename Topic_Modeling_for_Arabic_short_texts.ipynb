{
  "cells": [
    {
      "cell_type": "markdown",
      "metadata": {
        "id": "view-in-github",
        "colab_type": "text"
      },
      "source": [
        "<a href=\"https://colab.research.google.com/github/HagarIbrahiem/NLP_Topic_Modeling/blob/main/Topic_Modeling_for_Arabic_short_texts.ipynb\" target=\"_parent\"><img src=\"https://colab.research.google.com/assets/colab-badge.svg\" alt=\"Open In Colab\"/></a>"
      ]
    },
    {
      "cell_type": "markdown",
      "source": [
        "# Libs"
      ],
      "metadata": {
        "id": "DUr1Upo4vOzg"
      },
      "id": "DUr1Upo4vOzg"
    },
    {
      "cell_type": "code",
      "source": [
        "# !pip install --upgrade ipykernel"
      ],
      "metadata": {
        "colab": {
          "base_uri": "https://localhost:8080/"
        },
        "id": "nknU43WHYdeQ",
        "outputId": "8f4a614f-c6b1-4c4e-9681-231888e8b161"
      },
      "id": "nknU43WHYdeQ",
      "execution_count": null,
      "outputs": [
        {
          "output_type": "stream",
          "name": "stderr",
          "text": [
            "/usr/local/lib/python3.10/dist-packages/ipykernel/ipkernel.py:283: DeprecationWarning: `should_run_async` will not call `transform_cell` automatically in the future. Please pass the result to `transformed_cell` argument and any exception that happen during thetransform in `preprocessing_exc_tuple` in IPython 7.17 and above.\n",
            "  and should_run_async(code)\n"
          ]
        }
      ]
    },
    {
      "cell_type": "code",
      "source": [
        "'''\n",
        "!pip install --upgrade pip\n",
        "!pip install fastapi==0.68.0 kaleido==0.2.1 python-multipart==0.0.5 uvicorn==0.15.0 pandas==1.5.3\n",
        "!pip install tmplot\n",
        "!pip install python-bidi\n",
        "!pip install arabic_reshaper\n",
        "!pip install git+https://github.com/rwalk/gsdmm.git\n",
        "!pip install bitermplus\n",
        "!pip install qalsadi\n",
        "!pip install pyLDAvis\n",
        "!pip install tomotopy\n",
        "\n",
        "'''"
      ],
      "metadata": {
        "id": "FxC8sj5I4d-B",
        "colab": {
          "base_uri": "https://localhost:8080/",
          "height": 129
        },
        "outputId": "af66e33b-f525-4861-e1ae-bf1cc8ad8004"
      },
      "id": "FxC8sj5I4d-B",
      "execution_count": null,
      "outputs": [
        {
          "output_type": "stream",
          "name": "stderr",
          "text": [
            "/usr/local/lib/python3.10/dist-packages/ipykernel/ipkernel.py:283: DeprecationWarning: `should_run_async` will not call `transform_cell` automatically in the future. Please pass the result to `transformed_cell` argument and any exception that happen during thetransform in `preprocessing_exc_tuple` in IPython 7.17 and above.\n",
            "  and should_run_async(code)\n"
          ]
        },
        {
          "output_type": "execute_result",
          "data": {
            "text/plain": [
              "'\\n!pip install --upgrade pip\\n!pip install fastapi==0.68.0 kaleido==0.2.1 python-multipart==0.0.5 uvicorn==0.15.0 pandas==1.5.3\\n!pip install tmplot\\n!pip install python-bidi\\n!pip install arabic_reshaper\\n!pip install git+https://github.com/rwalk/gsdmm.git\\n!pip install bitermplus\\n!pip install qalsadi\\n!pip install pyLDAvis\\n!pip install tomotopy\\n\\n'"
            ],
            "application/vnd.google.colaboratory.intrinsic+json": {
              "type": "string"
            }
          },
          "metadata": {},
          "execution_count": 148
        }
      ]
    },
    {
      "cell_type": "code",
      "source": [
        "#Base and Cleaning\n",
        "import pandas as pd\n",
        "import numpy as np\n",
        "import warnings\n",
        "warnings.filterwarnings(\"ignore\")\n",
        "from pprint import pprint\n",
        "import pip\n",
        "import setuptools\n",
        "import tmplot as tmp\n",
        "import spacy\n",
        "\n",
        "\n",
        "\n",
        "# loading some necessary packages\n",
        "import gensim\n",
        "from gensim.utils import simple_preprocess\n",
        "from gensim.parsing.preprocessing import STOPWORDS\n",
        "from nltk.stem import ISRIStemmer\n",
        "from nltk.stem.porter import *\n",
        "import nltk\n",
        "from nltk.corpus import stopwords\n",
        "from gensim.models import CoherenceModel\n",
        "import gensim.corpora as corpora\n",
        "from gensim.models import CoherenceModel\n",
        "\n",
        "from sklearn.feature_extraction.text import CountVectorizer, TfidfTransformer;\n",
        "from sklearn.decomposition import NMF;\n",
        "from sklearn.preprocessing import normalize;\n",
        "from bidi.algorithm import get_display\n",
        "import arabic_reshaper\n",
        "\n",
        "\n",
        "from gensim.models.nmf import Nmf as GensimNmf\n",
        "from gsdmm import MovieGroupProcess\n",
        "from gensim.models import AuthorTopicModel\n",
        "import tomotopy as tp\n",
        "from gensim import models\n",
        "from statistics import mean\n",
        "import bitermplus as btm\n",
        "from gensim.models import LdaSeqModel\n",
        "import qalsadi.lemmatizer\n",
        "from gensim.models import HdpModel\n",
        "\n",
        "\n",
        "# Visualizations\n",
        "import matplotlib.pyplot as plt\n",
        "import pyLDAvis\n",
        "import pyLDAvis.gensim_models"
      ],
      "metadata": {
        "id": "zJo-tKyIvWWw",
        "colab": {
          "base_uri": "https://localhost:8080/"
        },
        "outputId": "f5d25f4b-9cc8-4cb2-c6c6-efc0e87b5923"
      },
      "execution_count": null,
      "outputs": [
        {
          "output_type": "stream",
          "name": "stderr",
          "text": [
            "/usr/local/lib/python3.10/dist-packages/ipykernel/ipkernel.py:283: DeprecationWarning: `should_run_async` will not call `transform_cell` automatically in the future. Please pass the result to `transformed_cell` argument and any exception that happen during thetransform in `preprocessing_exc_tuple` in IPython 7.17 and above.\n",
            "  and should_run_async(code)\n"
          ]
        }
      ],
      "id": "zJo-tKyIvWWw"
    },
    {
      "cell_type": "code",
      "source": [
        "# Global Variables\n",
        "TXT_INDX = 1500"
      ],
      "metadata": {
        "id": "t8t994zR1T7j"
      },
      "execution_count": null,
      "outputs": [],
      "id": "t8t994zR1T7j"
    },
    {
      "cell_type": "markdown",
      "source": [
        "# Load Data"
      ],
      "metadata": {
        "id": "5UPKuiChxKvt"
      },
      "id": "5UPKuiChxKvt"
    },
    {
      "cell_type": "code",
      "source": [
        "data = pd.read_csv('tickets-commentcitizens.csv',index_col=0)\n",
        "data.head()"
      ],
      "metadata": {
        "id": "MIjwlhB7rSxh",
        "colab": {
          "base_uri": "https://localhost:8080/"
        },
        "outputId": "c7d8001e-a70f-465f-f7ca-d1398b72e71c"
      },
      "execution_count": null,
      "outputs": [
        {
          "output_type": "execute_result",
          "data": {
            "text/plain": [
              "       ID                                     citizenComment\n",
              "0  7628.0  السلام عليكم\\nلدي طلب رقم 746855 لم تتغير حالت...\n",
              "1  7768.0                  عدم الاستطاعة باضافة العقد الموثق\n",
              "2  7771.0      عدم استطاعتي بتعديل الطلب واضافة العقد الموثق\n",
              "3  7796.0  هناك حساب فقد لا نتزكر كلمة السر  الرقم القومى...\n",
              "4  7830.0  السلام عليكم الاول عملت طلب اتاخر كتير عملت طل..."
            ],
            "text/html": [
              "\n",
              "  <div id=\"df-1cd2b5d1-e908-4de7-8e91-59e4bc630dce\" class=\"colab-df-container\">\n",
              "    <div>\n",
              "<style scoped>\n",
              "    .dataframe tbody tr th:only-of-type {\n",
              "        vertical-align: middle;\n",
              "    }\n",
              "\n",
              "    .dataframe tbody tr th {\n",
              "        vertical-align: top;\n",
              "    }\n",
              "\n",
              "    .dataframe thead th {\n",
              "        text-align: right;\n",
              "    }\n",
              "</style>\n",
              "<table border=\"1\" class=\"dataframe\">\n",
              "  <thead>\n",
              "    <tr style=\"text-align: right;\">\n",
              "      <th></th>\n",
              "      <th>ID</th>\n",
              "      <th>citizenComment</th>\n",
              "    </tr>\n",
              "  </thead>\n",
              "  <tbody>\n",
              "    <tr>\n",
              "      <th>0</th>\n",
              "      <td>7628.0</td>\n",
              "      <td>السلام عليكم\\nلدي طلب رقم 746855 لم تتغير حالت...</td>\n",
              "    </tr>\n",
              "    <tr>\n",
              "      <th>1</th>\n",
              "      <td>7768.0</td>\n",
              "      <td>عدم الاستطاعة باضافة العقد الموثق</td>\n",
              "    </tr>\n",
              "    <tr>\n",
              "      <th>2</th>\n",
              "      <td>7771.0</td>\n",
              "      <td>عدم استطاعتي بتعديل الطلب واضافة العقد الموثق</td>\n",
              "    </tr>\n",
              "    <tr>\n",
              "      <th>3</th>\n",
              "      <td>7796.0</td>\n",
              "      <td>هناك حساب فقد لا نتزكر كلمة السر  الرقم القومى...</td>\n",
              "    </tr>\n",
              "    <tr>\n",
              "      <th>4</th>\n",
              "      <td>7830.0</td>\n",
              "      <td>السلام عليكم الاول عملت طلب اتاخر كتير عملت طل...</td>\n",
              "    </tr>\n",
              "  </tbody>\n",
              "</table>\n",
              "</div>\n",
              "    <div class=\"colab-df-buttons\">\n",
              "\n",
              "  <div class=\"colab-df-container\">\n",
              "    <button class=\"colab-df-convert\" onclick=\"convertToInteractive('df-1cd2b5d1-e908-4de7-8e91-59e4bc630dce')\"\n",
              "            title=\"Convert this dataframe to an interactive table.\"\n",
              "            style=\"display:none;\">\n",
              "\n",
              "  <svg xmlns=\"http://www.w3.org/2000/svg\" height=\"24px\" viewBox=\"0 -960 960 960\">\n",
              "    <path d=\"M120-120v-720h720v720H120Zm60-500h600v-160H180v160Zm220 220h160v-160H400v160Zm0 220h160v-160H400v160ZM180-400h160v-160H180v160Zm440 0h160v-160H620v160ZM180-180h160v-160H180v160Zm440 0h160v-160H620v160Z\"/>\n",
              "  </svg>\n",
              "    </button>\n",
              "\n",
              "  <style>\n",
              "    .colab-df-container {\n",
              "      display:flex;\n",
              "      gap: 12px;\n",
              "    }\n",
              "\n",
              "    .colab-df-convert {\n",
              "      background-color: #E8F0FE;\n",
              "      border: none;\n",
              "      border-radius: 50%;\n",
              "      cursor: pointer;\n",
              "      display: none;\n",
              "      fill: #1967D2;\n",
              "      height: 32px;\n",
              "      padding: 0 0 0 0;\n",
              "      width: 32px;\n",
              "    }\n",
              "\n",
              "    .colab-df-convert:hover {\n",
              "      background-color: #E2EBFA;\n",
              "      box-shadow: 0px 1px 2px rgba(60, 64, 67, 0.3), 0px 1px 3px 1px rgba(60, 64, 67, 0.15);\n",
              "      fill: #174EA6;\n",
              "    }\n",
              "\n",
              "    .colab-df-buttons div {\n",
              "      margin-bottom: 4px;\n",
              "    }\n",
              "\n",
              "    [theme=dark] .colab-df-convert {\n",
              "      background-color: #3B4455;\n",
              "      fill: #D2E3FC;\n",
              "    }\n",
              "\n",
              "    [theme=dark] .colab-df-convert:hover {\n",
              "      background-color: #434B5C;\n",
              "      box-shadow: 0px 1px 3px 1px rgba(0, 0, 0, 0.15);\n",
              "      filter: drop-shadow(0px 1px 2px rgba(0, 0, 0, 0.3));\n",
              "      fill: #FFFFFF;\n",
              "    }\n",
              "  </style>\n",
              "\n",
              "    <script>\n",
              "      const buttonEl =\n",
              "        document.querySelector('#df-1cd2b5d1-e908-4de7-8e91-59e4bc630dce button.colab-df-convert');\n",
              "      buttonEl.style.display =\n",
              "        google.colab.kernel.accessAllowed ? 'block' : 'none';\n",
              "\n",
              "      async function convertToInteractive(key) {\n",
              "        const element = document.querySelector('#df-1cd2b5d1-e908-4de7-8e91-59e4bc630dce');\n",
              "        const dataTable =\n",
              "          await google.colab.kernel.invokeFunction('convertToInteractive',\n",
              "                                                    [key], {});\n",
              "        if (!dataTable) return;\n",
              "\n",
              "        const docLinkHtml = 'Like what you see? Visit the ' +\n",
              "          '<a target=\"_blank\" href=https://colab.research.google.com/notebooks/data_table.ipynb>data table notebook</a>'\n",
              "          + ' to learn more about interactive tables.';\n",
              "        element.innerHTML = '';\n",
              "        dataTable['output_type'] = 'display_data';\n",
              "        await google.colab.output.renderOutput(dataTable, element);\n",
              "        const docLink = document.createElement('div');\n",
              "        docLink.innerHTML = docLinkHtml;\n",
              "        element.appendChild(docLink);\n",
              "      }\n",
              "    </script>\n",
              "  </div>\n",
              "\n",
              "\n",
              "<div id=\"df-7356171c-f525-412e-81f4-dd13943f05cc\">\n",
              "  <button class=\"colab-df-quickchart\" onclick=\"quickchart('df-7356171c-f525-412e-81f4-dd13943f05cc')\"\n",
              "            title=\"Suggest charts\"\n",
              "            style=\"display:none;\">\n",
              "\n",
              "<svg xmlns=\"http://www.w3.org/2000/svg\" height=\"24px\"viewBox=\"0 0 24 24\"\n",
              "     width=\"24px\">\n",
              "    <g>\n",
              "        <path d=\"M19 3H5c-1.1 0-2 .9-2 2v14c0 1.1.9 2 2 2h14c1.1 0 2-.9 2-2V5c0-1.1-.9-2-2-2zM9 17H7v-7h2v7zm4 0h-2V7h2v10zm4 0h-2v-4h2v4z\"/>\n",
              "    </g>\n",
              "</svg>\n",
              "  </button>\n",
              "\n",
              "<style>\n",
              "  .colab-df-quickchart {\n",
              "      --bg-color: #E8F0FE;\n",
              "      --fill-color: #1967D2;\n",
              "      --hover-bg-color: #E2EBFA;\n",
              "      --hover-fill-color: #174EA6;\n",
              "      --disabled-fill-color: #AAA;\n",
              "      --disabled-bg-color: #DDD;\n",
              "  }\n",
              "\n",
              "  [theme=dark] .colab-df-quickchart {\n",
              "      --bg-color: #3B4455;\n",
              "      --fill-color: #D2E3FC;\n",
              "      --hover-bg-color: #434B5C;\n",
              "      --hover-fill-color: #FFFFFF;\n",
              "      --disabled-bg-color: #3B4455;\n",
              "      --disabled-fill-color: #666;\n",
              "  }\n",
              "\n",
              "  .colab-df-quickchart {\n",
              "    background-color: var(--bg-color);\n",
              "    border: none;\n",
              "    border-radius: 50%;\n",
              "    cursor: pointer;\n",
              "    display: none;\n",
              "    fill: var(--fill-color);\n",
              "    height: 32px;\n",
              "    padding: 0;\n",
              "    width: 32px;\n",
              "  }\n",
              "\n",
              "  .colab-df-quickchart:hover {\n",
              "    background-color: var(--hover-bg-color);\n",
              "    box-shadow: 0 1px 2px rgba(60, 64, 67, 0.3), 0 1px 3px 1px rgba(60, 64, 67, 0.15);\n",
              "    fill: var(--button-hover-fill-color);\n",
              "  }\n",
              "\n",
              "  .colab-df-quickchart-complete:disabled,\n",
              "  .colab-df-quickchart-complete:disabled:hover {\n",
              "    background-color: var(--disabled-bg-color);\n",
              "    fill: var(--disabled-fill-color);\n",
              "    box-shadow: none;\n",
              "  }\n",
              "\n",
              "  .colab-df-spinner {\n",
              "    border: 2px solid var(--fill-color);\n",
              "    border-color: transparent;\n",
              "    border-bottom-color: var(--fill-color);\n",
              "    animation:\n",
              "      spin 1s steps(1) infinite;\n",
              "  }\n",
              "\n",
              "  @keyframes spin {\n",
              "    0% {\n",
              "      border-color: transparent;\n",
              "      border-bottom-color: var(--fill-color);\n",
              "      border-left-color: var(--fill-color);\n",
              "    }\n",
              "    20% {\n",
              "      border-color: transparent;\n",
              "      border-left-color: var(--fill-color);\n",
              "      border-top-color: var(--fill-color);\n",
              "    }\n",
              "    30% {\n",
              "      border-color: transparent;\n",
              "      border-left-color: var(--fill-color);\n",
              "      border-top-color: var(--fill-color);\n",
              "      border-right-color: var(--fill-color);\n",
              "    }\n",
              "    40% {\n",
              "      border-color: transparent;\n",
              "      border-right-color: var(--fill-color);\n",
              "      border-top-color: var(--fill-color);\n",
              "    }\n",
              "    60% {\n",
              "      border-color: transparent;\n",
              "      border-right-color: var(--fill-color);\n",
              "    }\n",
              "    80% {\n",
              "      border-color: transparent;\n",
              "      border-right-color: var(--fill-color);\n",
              "      border-bottom-color: var(--fill-color);\n",
              "    }\n",
              "    90% {\n",
              "      border-color: transparent;\n",
              "      border-bottom-color: var(--fill-color);\n",
              "    }\n",
              "  }\n",
              "</style>\n",
              "\n",
              "  <script>\n",
              "    async function quickchart(key) {\n",
              "      const quickchartButtonEl =\n",
              "        document.querySelector('#' + key + ' button');\n",
              "      quickchartButtonEl.disabled = true;  // To prevent multiple clicks.\n",
              "      quickchartButtonEl.classList.add('colab-df-spinner');\n",
              "      try {\n",
              "        const charts = await google.colab.kernel.invokeFunction(\n",
              "            'suggestCharts', [key], {});\n",
              "      } catch (error) {\n",
              "        console.error('Error during call to suggestCharts:', error);\n",
              "      }\n",
              "      quickchartButtonEl.classList.remove('colab-df-spinner');\n",
              "      quickchartButtonEl.classList.add('colab-df-quickchart-complete');\n",
              "    }\n",
              "    (() => {\n",
              "      let quickchartButtonEl =\n",
              "        document.querySelector('#df-7356171c-f525-412e-81f4-dd13943f05cc button');\n",
              "      quickchartButtonEl.style.display =\n",
              "        google.colab.kernel.accessAllowed ? 'block' : 'none';\n",
              "    })();\n",
              "  </script>\n",
              "</div>\n",
              "    </div>\n",
              "  </div>\n"
            ]
          },
          "metadata": {},
          "execution_count": 151
        }
      ],
      "id": "MIjwlhB7rSxh"
    },
    {
      "cell_type": "code",
      "source": [
        "data.rename(columns = {'citizenComment':'text'}, inplace = True)\n",
        "data.drop(['ID'], axis=1)"
      ],
      "metadata": {
        "id": "Si6oXjsrrXT0",
        "colab": {
          "base_uri": "https://localhost:8080/"
        },
        "outputId": "1d5b53af-04b3-4550-906d-17f2cc3eb3ab"
      },
      "execution_count": null,
      "outputs": [
        {
          "output_type": "execute_result",
          "data": {
            "text/plain": [
              "                                                    text\n",
              "0      السلام عليكم\\nلدي طلب رقم 746855 لم تتغير حالت...\n",
              "1                      عدم الاستطاعة باضافة العقد الموثق\n",
              "2          عدم استطاعتي بتعديل الطلب واضافة العقد الموثق\n",
              "3      هناك حساب فقد لا نتزكر كلمة السر  الرقم القومى...\n",
              "4      السلام عليكم الاول عملت طلب اتاخر كتير عملت طل...\n",
              "...                                                  ...\n",
              "47736  السلام عليكم\\nنظرا ا للظروف التي تحدث والانقطا...\n",
              "47737  إلغاء الطلب رقم 3579676\\nلدواعي السفر وعدم الج...\n",
              "47738  بعد تركيب العداد تفاجأت بأنه إنتاج 2021 في حين...\n",
              "47739                               كم سعر الرسوم ؟؟؟؟؟؟\n",
              "47740  لا استطيع ارسال القراءة وصورة العداد علي موقعك...\n",
              "\n",
              "[47741 rows x 1 columns]"
            ],
            "text/html": [
              "\n",
              "  <div id=\"df-d69ad6a3-a76b-400a-a607-de3eab27a036\" class=\"colab-df-container\">\n",
              "    <div>\n",
              "<style scoped>\n",
              "    .dataframe tbody tr th:only-of-type {\n",
              "        vertical-align: middle;\n",
              "    }\n",
              "\n",
              "    .dataframe tbody tr th {\n",
              "        vertical-align: top;\n",
              "    }\n",
              "\n",
              "    .dataframe thead th {\n",
              "        text-align: right;\n",
              "    }\n",
              "</style>\n",
              "<table border=\"1\" class=\"dataframe\">\n",
              "  <thead>\n",
              "    <tr style=\"text-align: right;\">\n",
              "      <th></th>\n",
              "      <th>text</th>\n",
              "    </tr>\n",
              "  </thead>\n",
              "  <tbody>\n",
              "    <tr>\n",
              "      <th>0</th>\n",
              "      <td>السلام عليكم\\nلدي طلب رقم 746855 لم تتغير حالت...</td>\n",
              "    </tr>\n",
              "    <tr>\n",
              "      <th>1</th>\n",
              "      <td>عدم الاستطاعة باضافة العقد الموثق</td>\n",
              "    </tr>\n",
              "    <tr>\n",
              "      <th>2</th>\n",
              "      <td>عدم استطاعتي بتعديل الطلب واضافة العقد الموثق</td>\n",
              "    </tr>\n",
              "    <tr>\n",
              "      <th>3</th>\n",
              "      <td>هناك حساب فقد لا نتزكر كلمة السر  الرقم القومى...</td>\n",
              "    </tr>\n",
              "    <tr>\n",
              "      <th>4</th>\n",
              "      <td>السلام عليكم الاول عملت طلب اتاخر كتير عملت طل...</td>\n",
              "    </tr>\n",
              "    <tr>\n",
              "      <th>...</th>\n",
              "      <td>...</td>\n",
              "    </tr>\n",
              "    <tr>\n",
              "      <th>47736</th>\n",
              "      <td>السلام عليكم\\nنظرا ا للظروف التي تحدث والانقطا...</td>\n",
              "    </tr>\n",
              "    <tr>\n",
              "      <th>47737</th>\n",
              "      <td>إلغاء الطلب رقم 3579676\\nلدواعي السفر وعدم الج...</td>\n",
              "    </tr>\n",
              "    <tr>\n",
              "      <th>47738</th>\n",
              "      <td>بعد تركيب العداد تفاجأت بأنه إنتاج 2021 في حين...</td>\n",
              "    </tr>\n",
              "    <tr>\n",
              "      <th>47739</th>\n",
              "      <td>كم سعر الرسوم ؟؟؟؟؟؟</td>\n",
              "    </tr>\n",
              "    <tr>\n",
              "      <th>47740</th>\n",
              "      <td>لا استطيع ارسال القراءة وصورة العداد علي موقعك...</td>\n",
              "    </tr>\n",
              "  </tbody>\n",
              "</table>\n",
              "<p>47741 rows × 1 columns</p>\n",
              "</div>\n",
              "    <div class=\"colab-df-buttons\">\n",
              "\n",
              "  <div class=\"colab-df-container\">\n",
              "    <button class=\"colab-df-convert\" onclick=\"convertToInteractive('df-d69ad6a3-a76b-400a-a607-de3eab27a036')\"\n",
              "            title=\"Convert this dataframe to an interactive table.\"\n",
              "            style=\"display:none;\">\n",
              "\n",
              "  <svg xmlns=\"http://www.w3.org/2000/svg\" height=\"24px\" viewBox=\"0 -960 960 960\">\n",
              "    <path d=\"M120-120v-720h720v720H120Zm60-500h600v-160H180v160Zm220 220h160v-160H400v160Zm0 220h160v-160H400v160ZM180-400h160v-160H180v160Zm440 0h160v-160H620v160ZM180-180h160v-160H180v160Zm440 0h160v-160H620v160Z\"/>\n",
              "  </svg>\n",
              "    </button>\n",
              "\n",
              "  <style>\n",
              "    .colab-df-container {\n",
              "      display:flex;\n",
              "      gap: 12px;\n",
              "    }\n",
              "\n",
              "    .colab-df-convert {\n",
              "      background-color: #E8F0FE;\n",
              "      border: none;\n",
              "      border-radius: 50%;\n",
              "      cursor: pointer;\n",
              "      display: none;\n",
              "      fill: #1967D2;\n",
              "      height: 32px;\n",
              "      padding: 0 0 0 0;\n",
              "      width: 32px;\n",
              "    }\n",
              "\n",
              "    .colab-df-convert:hover {\n",
              "      background-color: #E2EBFA;\n",
              "      box-shadow: 0px 1px 2px rgba(60, 64, 67, 0.3), 0px 1px 3px 1px rgba(60, 64, 67, 0.15);\n",
              "      fill: #174EA6;\n",
              "    }\n",
              "\n",
              "    .colab-df-buttons div {\n",
              "      margin-bottom: 4px;\n",
              "    }\n",
              "\n",
              "    [theme=dark] .colab-df-convert {\n",
              "      background-color: #3B4455;\n",
              "      fill: #D2E3FC;\n",
              "    }\n",
              "\n",
              "    [theme=dark] .colab-df-convert:hover {\n",
              "      background-color: #434B5C;\n",
              "      box-shadow: 0px 1px 3px 1px rgba(0, 0, 0, 0.15);\n",
              "      filter: drop-shadow(0px 1px 2px rgba(0, 0, 0, 0.3));\n",
              "      fill: #FFFFFF;\n",
              "    }\n",
              "  </style>\n",
              "\n",
              "    <script>\n",
              "      const buttonEl =\n",
              "        document.querySelector('#df-d69ad6a3-a76b-400a-a607-de3eab27a036 button.colab-df-convert');\n",
              "      buttonEl.style.display =\n",
              "        google.colab.kernel.accessAllowed ? 'block' : 'none';\n",
              "\n",
              "      async function convertToInteractive(key) {\n",
              "        const element = document.querySelector('#df-d69ad6a3-a76b-400a-a607-de3eab27a036');\n",
              "        const dataTable =\n",
              "          await google.colab.kernel.invokeFunction('convertToInteractive',\n",
              "                                                    [key], {});\n",
              "        if (!dataTable) return;\n",
              "\n",
              "        const docLinkHtml = 'Like what you see? Visit the ' +\n",
              "          '<a target=\"_blank\" href=https://colab.research.google.com/notebooks/data_table.ipynb>data table notebook</a>'\n",
              "          + ' to learn more about interactive tables.';\n",
              "        element.innerHTML = '';\n",
              "        dataTable['output_type'] = 'display_data';\n",
              "        await google.colab.output.renderOutput(dataTable, element);\n",
              "        const docLink = document.createElement('div');\n",
              "        docLink.innerHTML = docLinkHtml;\n",
              "        element.appendChild(docLink);\n",
              "      }\n",
              "    </script>\n",
              "  </div>\n",
              "\n",
              "\n",
              "<div id=\"df-7cd9db0f-8859-4ba6-a851-d25833966ea2\">\n",
              "  <button class=\"colab-df-quickchart\" onclick=\"quickchart('df-7cd9db0f-8859-4ba6-a851-d25833966ea2')\"\n",
              "            title=\"Suggest charts\"\n",
              "            style=\"display:none;\">\n",
              "\n",
              "<svg xmlns=\"http://www.w3.org/2000/svg\" height=\"24px\"viewBox=\"0 0 24 24\"\n",
              "     width=\"24px\">\n",
              "    <g>\n",
              "        <path d=\"M19 3H5c-1.1 0-2 .9-2 2v14c0 1.1.9 2 2 2h14c1.1 0 2-.9 2-2V5c0-1.1-.9-2-2-2zM9 17H7v-7h2v7zm4 0h-2V7h2v10zm4 0h-2v-4h2v4z\"/>\n",
              "    </g>\n",
              "</svg>\n",
              "  </button>\n",
              "\n",
              "<style>\n",
              "  .colab-df-quickchart {\n",
              "      --bg-color: #E8F0FE;\n",
              "      --fill-color: #1967D2;\n",
              "      --hover-bg-color: #E2EBFA;\n",
              "      --hover-fill-color: #174EA6;\n",
              "      --disabled-fill-color: #AAA;\n",
              "      --disabled-bg-color: #DDD;\n",
              "  }\n",
              "\n",
              "  [theme=dark] .colab-df-quickchart {\n",
              "      --bg-color: #3B4455;\n",
              "      --fill-color: #D2E3FC;\n",
              "      --hover-bg-color: #434B5C;\n",
              "      --hover-fill-color: #FFFFFF;\n",
              "      --disabled-bg-color: #3B4455;\n",
              "      --disabled-fill-color: #666;\n",
              "  }\n",
              "\n",
              "  .colab-df-quickchart {\n",
              "    background-color: var(--bg-color);\n",
              "    border: none;\n",
              "    border-radius: 50%;\n",
              "    cursor: pointer;\n",
              "    display: none;\n",
              "    fill: var(--fill-color);\n",
              "    height: 32px;\n",
              "    padding: 0;\n",
              "    width: 32px;\n",
              "  }\n",
              "\n",
              "  .colab-df-quickchart:hover {\n",
              "    background-color: var(--hover-bg-color);\n",
              "    box-shadow: 0 1px 2px rgba(60, 64, 67, 0.3), 0 1px 3px 1px rgba(60, 64, 67, 0.15);\n",
              "    fill: var(--button-hover-fill-color);\n",
              "  }\n",
              "\n",
              "  .colab-df-quickchart-complete:disabled,\n",
              "  .colab-df-quickchart-complete:disabled:hover {\n",
              "    background-color: var(--disabled-bg-color);\n",
              "    fill: var(--disabled-fill-color);\n",
              "    box-shadow: none;\n",
              "  }\n",
              "\n",
              "  .colab-df-spinner {\n",
              "    border: 2px solid var(--fill-color);\n",
              "    border-color: transparent;\n",
              "    border-bottom-color: var(--fill-color);\n",
              "    animation:\n",
              "      spin 1s steps(1) infinite;\n",
              "  }\n",
              "\n",
              "  @keyframes spin {\n",
              "    0% {\n",
              "      border-color: transparent;\n",
              "      border-bottom-color: var(--fill-color);\n",
              "      border-left-color: var(--fill-color);\n",
              "    }\n",
              "    20% {\n",
              "      border-color: transparent;\n",
              "      border-left-color: var(--fill-color);\n",
              "      border-top-color: var(--fill-color);\n",
              "    }\n",
              "    30% {\n",
              "      border-color: transparent;\n",
              "      border-left-color: var(--fill-color);\n",
              "      border-top-color: var(--fill-color);\n",
              "      border-right-color: var(--fill-color);\n",
              "    }\n",
              "    40% {\n",
              "      border-color: transparent;\n",
              "      border-right-color: var(--fill-color);\n",
              "      border-top-color: var(--fill-color);\n",
              "    }\n",
              "    60% {\n",
              "      border-color: transparent;\n",
              "      border-right-color: var(--fill-color);\n",
              "    }\n",
              "    80% {\n",
              "      border-color: transparent;\n",
              "      border-right-color: var(--fill-color);\n",
              "      border-bottom-color: var(--fill-color);\n",
              "    }\n",
              "    90% {\n",
              "      border-color: transparent;\n",
              "      border-bottom-color: var(--fill-color);\n",
              "    }\n",
              "  }\n",
              "</style>\n",
              "\n",
              "  <script>\n",
              "    async function quickchart(key) {\n",
              "      const quickchartButtonEl =\n",
              "        document.querySelector('#' + key + ' button');\n",
              "      quickchartButtonEl.disabled = true;  // To prevent multiple clicks.\n",
              "      quickchartButtonEl.classList.add('colab-df-spinner');\n",
              "      try {\n",
              "        const charts = await google.colab.kernel.invokeFunction(\n",
              "            'suggestCharts', [key], {});\n",
              "      } catch (error) {\n",
              "        console.error('Error during call to suggestCharts:', error);\n",
              "      }\n",
              "      quickchartButtonEl.classList.remove('colab-df-spinner');\n",
              "      quickchartButtonEl.classList.add('colab-df-quickchart-complete');\n",
              "    }\n",
              "    (() => {\n",
              "      let quickchartButtonEl =\n",
              "        document.querySelector('#df-7cd9db0f-8859-4ba6-a851-d25833966ea2 button');\n",
              "      quickchartButtonEl.style.display =\n",
              "        google.colab.kernel.accessAllowed ? 'block' : 'none';\n",
              "    })();\n",
              "  </script>\n",
              "</div>\n",
              "    </div>\n",
              "  </div>\n"
            ]
          },
          "metadata": {},
          "execution_count": 152
        }
      ],
      "id": "Si6oXjsrrXT0"
    },
    {
      "cell_type": "code",
      "source": [
        "len(data)"
      ],
      "metadata": {
        "id": "lA344xQYsNnQ",
        "colab": {
          "base_uri": "https://localhost:8080/"
        },
        "outputId": "06a2dabf-458e-4c57-e26e-e27dbf831577"
      },
      "execution_count": null,
      "outputs": [
        {
          "output_type": "execute_result",
          "data": {
            "text/plain": [
              "47741"
            ]
          },
          "metadata": {},
          "execution_count": 153
        }
      ],
      "id": "lA344xQYsNnQ"
    },
    {
      "cell_type": "markdown",
      "source": [
        "# Data Pre-processing\n",
        "Our goal in the data pre-processing stage is to convert sentences into words, convert words to\n",
        "their root and removing words that are too common or too irrelevant to the purpose of our\n",
        "topic modeling project,We used the following techniques to reach our goal:\n",
        "\n",
        "- Remove Punctuations\n",
        "- Remove StopWords\n",
        "- Tokenization: Split the text into sentences and the sentences into words. Lowercase the words and remove punctuation.\n",
        "- Words that have fewer than 3 characters are removed.\n",
        "- Words are lemmatized and stemmed — words in the third person are changed to first person and verbs in past and future tenses are changed into the present and are reduced to their root form."
      ],
      "metadata": {
        "id": "qPXv-uOPtZPy"
      },
      "id": "qPXv-uOPtZPy"
    },
    {
      "cell_type": "markdown",
      "source": [
        "## Removing punctuation"
      ],
      "metadata": {
        "id": "_a2WBApqtsKJ"
      },
      "id": "_a2WBApqtsKJ"
    },
    {
      "cell_type": "code",
      "source": [
        "data['text'][TXT_INDX]"
      ],
      "metadata": {
        "id": "WzoNZhoWtULp",
        "colab": {
          "base_uri": "https://localhost:8080/",
          "height": 109
        },
        "outputId": "a398f932-bb71-48ca-ec18-781b4c6633f8"
      },
      "execution_count": null,
      "outputs": [
        {
          "output_type": "execute_result",
          "data": {
            "text/plain": [
              "'بعد السلام عليكم \\nتلقيت مكالمة من أحد موظفى الشركة الكرام للسؤال عن وجودى بمقر إقامتى لإجراء المقايسة اللازمة وتوجهت لمقر الشقة المطلوب تركيب العداد بها حيث أنى غير مقيم فى هذا المكان أغلب الوقت .\\nفوجئت بالموظف المذكور عند معاودة اتصالة به بأن الشقة المطلوب تركيب عداد بها لا ينطبق عليها الشروط وأنه لابد من الإنتهاء من واجهة العقار وكذا التشطيبات مع تأكيدى له بأن وقف إجراء تلك التشطيبات قرار دولة وليس لى كمالك للوحدة داخل العقار محل الدراسة .\\nلذا أرجو الإفادة وسرعة عمل المقايسة المطلوبة وتركيب العداد لأنه ليس من العدل أن أسدد ما يقرب من 500 جنيه شهرياً لمكان لا أقيم به .\\nوتجدون سيادتكم مرفقاً مع هذا صورة من آخر سداد للممارسة .\\nمع وافر الشكر والتقدير \\nرضا شحات على خطاب'"
            ],
            "application/vnd.google.colaboratory.intrinsic+json": {
              "type": "string"
            }
          },
          "metadata": {},
          "execution_count": 154
        }
      ],
      "id": "WzoNZhoWtULp"
    },
    {
      "cell_type": "code",
      "source": [
        "\n",
        "data['text'] = data['text'].map(lambda x: x.replace(\"#\", \" \").replace(\"_\", \" \").replace(\"|\", \" \").replace(\"؟\", \"\").replace(\"!\", \" \")\n",
        "                                          .replace('\\\"', \" \").replace(';', \"\").replace(':', \"\").replace('(', \"\").replace(')', \"\")\n",
        "                                          .replace('،', \" \").replace('-', \" \").replace('…', \"\").replace('\\n', \"\").replace('.', \"\"))"
      ],
      "metadata": {
        "id": "NP3Bk3kIyybq"
      },
      "execution_count": null,
      "outputs": [],
      "id": "NP3Bk3kIyybq"
    },
    {
      "cell_type": "code",
      "source": [
        "data['text'][TXT_INDX]"
      ],
      "metadata": {
        "id": "B8wXQzftzUol",
        "colab": {
          "base_uri": "https://localhost:8080/",
          "height": 109
        },
        "outputId": "5d91c68e-dea8-43b8-ade8-bb424e9248f9"
      },
      "execution_count": null,
      "outputs": [
        {
          "output_type": "execute_result",
          "data": {
            "text/plain": [
              "'بعد السلام عليكم تلقيت مكالمة من أحد موظفى الشركة الكرام للسؤال عن وجودى بمقر إقامتى لإجراء المقايسة اللازمة وتوجهت لمقر الشقة المطلوب تركيب العداد بها حيث أنى غير مقيم فى هذا المكان أغلب الوقت فوجئت بالموظف المذكور عند معاودة اتصالة به بأن الشقة المطلوب تركيب عداد بها لا ينطبق عليها الشروط وأنه لابد من الإنتهاء من واجهة العقار وكذا التشطيبات مع تأكيدى له بأن وقف إجراء تلك التشطيبات قرار دولة وليس لى كمالك للوحدة داخل العقار محل الدراسة لذا أرجو الإفادة وسرعة عمل المقايسة المطلوبة وتركيب العداد لأنه ليس من العدل أن أسدد ما يقرب من 500 جنيه شهرياً لمكان لا أقيم به وتجدون سيادتكم مرفقاً مع هذا صورة من آخر سداد للممارسة مع وافر الشكر والتقدير رضا شحات على خطاب'"
            ],
            "application/vnd.google.colaboratory.intrinsic+json": {
              "type": "string"
            }
          },
          "metadata": {},
          "execution_count": 156
        }
      ],
      "id": "B8wXQzftzUol"
    },
    {
      "cell_type": "markdown",
      "source": [
        "## Remove StopWords"
      ],
      "metadata": {
        "id": "XOwYIq7vzvMS"
      },
      "id": "XOwYIq7vzvMS"
    },
    {
      "cell_type": "code",
      "source": [
        "nltk.download('stopwords')"
      ],
      "metadata": {
        "id": "g0cu6A1VzbMv",
        "colab": {
          "base_uri": "https://localhost:8080/"
        },
        "outputId": "acc7a00a-91df-441e-fc28-715c28ac6928"
      },
      "execution_count": null,
      "outputs": [
        {
          "output_type": "stream",
          "name": "stderr",
          "text": [
            "[nltk_data] Downloading package stopwords to /root/nltk_data...\n",
            "[nltk_data]   Package stopwords is already up-to-date!\n"
          ]
        },
        {
          "output_type": "execute_result",
          "data": {
            "text/plain": [
              "True"
            ]
          },
          "metadata": {},
          "execution_count": 157
        }
      ],
      "id": "g0cu6A1VzbMv"
    },
    {
      "cell_type": "code",
      "source": [
        "# let's check if nltk contains stopwords for arabic datasets\n",
        "stopwords.fileids()"
      ],
      "metadata": {
        "id": "vAlhR9e1zzu1",
        "colab": {
          "base_uri": "https://localhost:8080/"
        },
        "outputId": "f890af05-7e46-433a-d945-ee2e1d2b892a"
      },
      "execution_count": null,
      "outputs": [
        {
          "output_type": "execute_result",
          "data": {
            "text/plain": [
              "['arabic',\n",
              " 'azerbaijani',\n",
              " 'basque',\n",
              " 'bengali',\n",
              " 'catalan',\n",
              " 'chinese',\n",
              " 'danish',\n",
              " 'dutch',\n",
              " 'english',\n",
              " 'finnish',\n",
              " 'french',\n",
              " 'german',\n",
              " 'greek',\n",
              " 'hebrew',\n",
              " 'hinglish',\n",
              " 'hungarian',\n",
              " 'indonesian',\n",
              " 'italian',\n",
              " 'kazakh',\n",
              " 'nepali',\n",
              " 'norwegian',\n",
              " 'portuguese',\n",
              " 'romanian',\n",
              " 'russian',\n",
              " 'slovene',\n",
              " 'spanish',\n",
              " 'swedish',\n",
              " 'tajik',\n",
              " 'turkish']"
            ]
          },
          "metadata": {},
          "execution_count": 158
        }
      ],
      "id": "vAlhR9e1zzu1"
    },
    {
      "cell_type": "code",
      "source": [
        "stopwords_list = stopwords.words('arabic')\n",
        "print(stopwords_list)"
      ],
      "metadata": {
        "id": "LQpy4FVXz2Jn",
        "colab": {
          "base_uri": "https://localhost:8080/"
        },
        "outputId": "8f761f3a-5061-4e2d-807f-9387800981e3"
      },
      "execution_count": null,
      "outputs": [
        {
          "output_type": "stream",
          "name": "stdout",
          "text": [
            "['إذ', 'إذا', 'إذما', 'إذن', 'أف', 'أقل', 'أكثر', 'ألا', 'إلا', 'التي', 'الذي', 'الذين', 'اللاتي', 'اللائي', 'اللتان', 'اللتيا', 'اللتين', 'اللذان', 'اللذين', 'اللواتي', 'إلى', 'إليك', 'إليكم', 'إليكما', 'إليكن', 'أم', 'أما', 'أما', 'إما', 'أن', 'إن', 'إنا', 'أنا', 'أنت', 'أنتم', 'أنتما', 'أنتن', 'إنما', 'إنه', 'أنى', 'أنى', 'آه', 'آها', 'أو', 'أولاء', 'أولئك', 'أوه', 'آي', 'أي', 'أيها', 'إي', 'أين', 'أين', 'أينما', 'إيه', 'بخ', 'بس', 'بعد', 'بعض', 'بك', 'بكم', 'بكم', 'بكما', 'بكن', 'بل', 'بلى', 'بما', 'بماذا', 'بمن', 'بنا', 'به', 'بها', 'بهم', 'بهما', 'بهن', 'بي', 'بين', 'بيد', 'تلك', 'تلكم', 'تلكما', 'ته', 'تي', 'تين', 'تينك', 'ثم', 'ثمة', 'حاشا', 'حبذا', 'حتى', 'حيث', 'حيثما', 'حين', 'خلا', 'دون', 'ذا', 'ذات', 'ذاك', 'ذان', 'ذانك', 'ذلك', 'ذلكم', 'ذلكما', 'ذلكن', 'ذه', 'ذو', 'ذوا', 'ذواتا', 'ذواتي', 'ذي', 'ذين', 'ذينك', 'ريث', 'سوف', 'سوى', 'شتان', 'عدا', 'عسى', 'عل', 'على', 'عليك', 'عليه', 'عما', 'عن', 'عند', 'غير', 'فإذا', 'فإن', 'فلا', 'فمن', 'في', 'فيم', 'فيما', 'فيه', 'فيها', 'قد', 'كأن', 'كأنما', 'كأي', 'كأين', 'كذا', 'كذلك', 'كل', 'كلا', 'كلاهما', 'كلتا', 'كلما', 'كليكما', 'كليهما', 'كم', 'كم', 'كما', 'كي', 'كيت', 'كيف', 'كيفما', 'لا', 'لاسيما', 'لدى', 'لست', 'لستم', 'لستما', 'لستن', 'لسن', 'لسنا', 'لعل', 'لك', 'لكم', 'لكما', 'لكن', 'لكنما', 'لكي', 'لكيلا', 'لم', 'لما', 'لن', 'لنا', 'له', 'لها', 'لهم', 'لهما', 'لهن', 'لو', 'لولا', 'لوما', 'لي', 'لئن', 'ليت', 'ليس', 'ليسا', 'ليست', 'ليستا', 'ليسوا', 'ما', 'ماذا', 'متى', 'مذ', 'مع', 'مما', 'ممن', 'من', 'منه', 'منها', 'منذ', 'مه', 'مهما', 'نحن', 'نحو', 'نعم', 'ها', 'هاتان', 'هاته', 'هاتي', 'هاتين', 'هاك', 'هاهنا', 'هذا', 'هذان', 'هذه', 'هذي', 'هذين', 'هكذا', 'هل', 'هلا', 'هم', 'هما', 'هن', 'هنا', 'هناك', 'هنالك', 'هو', 'هؤلاء', 'هي', 'هيا', 'هيت', 'هيهات', 'والذي', 'والذين', 'وإذ', 'وإذا', 'وإن', 'ولا', 'ولكن', 'ولو', 'وما', 'ومن', 'وهو', 'يا', 'أبٌ', 'أخٌ', 'حمٌ', 'فو', 'أنتِ', 'يناير', 'فبراير', 'مارس', 'أبريل', 'مايو', 'يونيو', 'يوليو', 'أغسطس', 'سبتمبر', 'أكتوبر', 'نوفمبر', 'ديسمبر', 'جانفي', 'فيفري', 'مارس', 'أفريل', 'ماي', 'جوان', 'جويلية', 'أوت', 'كانون', 'شباط', 'آذار', 'نيسان', 'أيار', 'حزيران', 'تموز', 'آب', 'أيلول', 'تشرين', 'دولار', 'دينار', 'ريال', 'درهم', 'ليرة', 'جنيه', 'قرش', 'مليم', 'فلس', 'هللة', 'سنتيم', 'يورو', 'ين', 'يوان', 'شيكل', 'واحد', 'اثنان', 'ثلاثة', 'أربعة', 'خمسة', 'ستة', 'سبعة', 'ثمانية', 'تسعة', 'عشرة', 'أحد', 'اثنا', 'اثني', 'إحدى', 'ثلاث', 'أربع', 'خمس', 'ست', 'سبع', 'ثماني', 'تسع', 'عشر', 'ثمان', 'سبت', 'أحد', 'اثنين', 'ثلاثاء', 'أربعاء', 'خميس', 'جمعة', 'أول', 'ثان', 'ثاني', 'ثالث', 'رابع', 'خامس', 'سادس', 'سابع', 'ثامن', 'تاسع', 'عاشر', 'حادي', 'أ', 'ب', 'ت', 'ث', 'ج', 'ح', 'خ', 'د', 'ذ', 'ر', 'ز', 'س', 'ش', 'ص', 'ض', 'ط', 'ظ', 'ع', 'غ', 'ف', 'ق', 'ك', 'ل', 'م', 'ن', 'ه', 'و', 'ي', 'ء', 'ى', 'آ', 'ؤ', 'ئ', 'أ', 'ة', 'ألف', 'باء', 'تاء', 'ثاء', 'جيم', 'حاء', 'خاء', 'دال', 'ذال', 'راء', 'زاي', 'سين', 'شين', 'صاد', 'ضاد', 'طاء', 'ظاء', 'عين', 'غين', 'فاء', 'قاف', 'كاف', 'لام', 'ميم', 'نون', 'هاء', 'واو', 'ياء', 'همزة', 'ي', 'نا', 'ك', 'كن', 'ه', 'إياه', 'إياها', 'إياهما', 'إياهم', 'إياهن', 'إياك', 'إياكما', 'إياكم', 'إياك', 'إياكن', 'إياي', 'إيانا', 'أولالك', 'تانِ', 'تانِك', 'تِه', 'تِي', 'تَيْنِ', 'ثمّ', 'ثمّة', 'ذانِ', 'ذِه', 'ذِي', 'ذَيْنِ', 'هَؤلاء', 'هَاتانِ', 'هَاتِه', 'هَاتِي', 'هَاتَيْنِ', 'هَذا', 'هَذانِ', 'هَذِه', 'هَذِي', 'هَذَيْنِ', 'الألى', 'الألاء', 'أل', 'أنّى', 'أيّ', 'ّأيّان', 'أنّى', 'أيّ', 'ّأيّان', 'ذيت', 'كأيّ', 'كأيّن', 'بضع', 'فلان', 'وا', 'آمينَ', 'آهِ', 'آهٍ', 'آهاً', 'أُفٍّ', 'أُفٍّ', 'أفٍّ', 'أمامك', 'أمامكَ', 'أوّهْ', 'إلَيْكَ', 'إلَيْكَ', 'إليكَ', 'إليكنّ', 'إيهٍ', 'بخٍ', 'بسّ', 'بَسْ', 'بطآن', 'بَلْهَ', 'حاي', 'حَذارِ', 'حيَّ', 'حيَّ', 'دونك', 'رويدك', 'سرعان', 'شتانَ', 'شَتَّانَ', 'صهْ', 'صهٍ', 'طاق', 'طَق', 'عَدَسْ', 'كِخ', 'مكانَك', 'مكانَك', 'مكانَك', 'مكانكم', 'مكانكما', 'مكانكنّ', 'نَخْ', 'هاكَ', 'هَجْ', 'هلم', 'هيّا', 'هَيْهات', 'وا', 'واهاً', 'وراءَك', 'وُشْكَانَ', 'وَيْ', 'يفعلان', 'تفعلان', 'يفعلون', 'تفعلون', 'تفعلين', 'اتخذ', 'ألفى', 'تخذ', 'ترك', 'تعلَّم', 'جعل', 'حجا', 'حبيب', 'خال', 'حسب', 'خال', 'درى', 'رأى', 'زعم', 'صبر', 'ظنَّ', 'عدَّ', 'علم', 'غادر', 'ذهب', 'وجد', 'ورد', 'وهب', 'أسكن', 'أطعم', 'أعطى', 'رزق', 'زود', 'سقى', 'كسا', 'أخبر', 'أرى', 'أعلم', 'أنبأ', 'حدَث', 'خبَّر', 'نبَّا', 'أفعل به', 'ما أفعله', 'بئس', 'ساء', 'طالما', 'قلما', 'لات', 'لكنَّ', 'ءَ', 'أجل', 'إذاً', 'أمّا', 'إمّا', 'إنَّ', 'أنًّ', 'أى', 'إى', 'أيا', 'ب', 'ثمَّ', 'جلل', 'جير', 'رُبَّ', 'س', 'علًّ', 'ف', 'كأنّ', 'كلَّا', 'كى', 'ل', 'لات', 'لعلَّ', 'لكنَّ', 'لكنَّ', 'م', 'نَّ', 'هلّا', 'وا', 'أل', 'إلّا', 'ت', 'ك', 'لمّا', 'ن', 'ه', 'و', 'ا', 'ي', 'تجاه', 'تلقاء', 'جميع', 'حسب', 'سبحان', 'شبه', 'لعمر', 'مثل', 'معاذ', 'أبو', 'أخو', 'حمو', 'فو', 'مئة', 'مئتان', 'ثلاثمئة', 'أربعمئة', 'خمسمئة', 'ستمئة', 'سبعمئة', 'ثمنمئة', 'تسعمئة', 'مائة', 'ثلاثمائة', 'أربعمائة', 'خمسمائة', 'ستمائة', 'سبعمائة', 'ثمانمئة', 'تسعمائة', 'عشرون', 'ثلاثون', 'اربعون', 'خمسون', 'ستون', 'سبعون', 'ثمانون', 'تسعون', 'عشرين', 'ثلاثين', 'اربعين', 'خمسين', 'ستين', 'سبعين', 'ثمانين', 'تسعين', 'بضع', 'نيف', 'أجمع', 'جميع', 'عامة', 'عين', 'نفس', 'لا سيما', 'أصلا', 'أهلا', 'أيضا', 'بؤسا', 'بعدا', 'بغتة', 'تعسا', 'حقا', 'حمدا', 'خلافا', 'خاصة', 'دواليك', 'سحقا', 'سرا', 'سمعا', 'صبرا', 'صدقا', 'صراحة', 'طرا', 'عجبا', 'عيانا', 'غالبا', 'فرادى', 'فضلا', 'قاطبة', 'كثيرا', 'لبيك', 'معاذ', 'أبدا', 'إزاء', 'أصلا', 'الآن', 'أمد', 'أمس', 'آنفا', 'آناء', 'أنّى', 'أول', 'أيّان', 'تارة', 'ثمّ', 'ثمّة', 'حقا', 'صباح', 'مساء', 'ضحوة', 'عوض', 'غدا', 'غداة', 'قطّ', 'كلّما', 'لدن', 'لمّا', 'مرّة', 'قبل', 'خلف', 'أمام', 'فوق', 'تحت', 'يمين', 'شمال', 'ارتدّ', 'استحال', 'أصبح', 'أضحى', 'آض', 'أمسى', 'انقلب', 'بات', 'تبدّل', 'تحوّل', 'حار', 'رجع', 'راح', 'صار', 'ظلّ', 'عاد', 'غدا', 'كان', 'ما انفك', 'ما برح', 'مادام', 'مازال', 'مافتئ', 'ابتدأ', 'أخذ', 'اخلولق', 'أقبل', 'انبرى', 'أنشأ', 'أوشك', 'جعل', 'حرى', 'شرع', 'طفق', 'علق', 'قام', 'كرب', 'كاد', 'هبّ']\n"
          ]
        }
      ],
      "id": "LQpy4FVXz2Jn"
    },
    {
      "cell_type": "code",
      "source": [
        "data['text'] = data['text'].apply(lambda x: ' '.join([word for word in x.split() if word not in (stopwords_list)]))\n",
        "data['text'][TXT_INDX]"
      ],
      "metadata": {
        "id": "P6ylJY7iz5za",
        "colab": {
          "base_uri": "https://localhost:8080/",
          "height": 91
        },
        "outputId": "e25c1736-c6e9-4253-c39a-393b7cf208ce"
      },
      "execution_count": null,
      "outputs": [
        {
          "output_type": "execute_result",
          "data": {
            "text/plain": [
              "'السلام عليكم تلقيت مكالمة موظفى الشركة الكرام للسؤال وجودى بمقر إقامتى لإجراء المقايسة اللازمة وتوجهت لمقر الشقة المطلوب تركيب العداد مقيم فى المكان أغلب الوقت فوجئت بالموظف المذكور معاودة اتصالة بأن الشقة المطلوب تركيب عداد ينطبق عليها الشروط وأنه لابد الإنتهاء واجهة العقار وكذا التشطيبات تأكيدى بأن وقف إجراء التشطيبات قرار دولة وليس لى كمالك للوحدة داخل العقار محل الدراسة لذا أرجو الإفادة وسرعة عمل المقايسة المطلوبة وتركيب العداد لأنه العدل أسدد يقرب 500 شهرياً لمكان أقيم وتجدون سيادتكم مرفقاً صورة آخر سداد للممارسة وافر الشكر والتقدير رضا شحات خطاب'"
            ],
            "application/vnd.google.colaboratory.intrinsic+json": {
              "type": "string"
            }
          },
          "metadata": {},
          "execution_count": 160
        }
      ],
      "id": "P6ylJY7iz5za"
    },
    {
      "cell_type": "markdown",
      "source": [
        "## Drop Missing Values"
      ],
      "metadata": {
        "id": "fL82ScyE1gEp"
      },
      "id": "fL82ScyE1gEp"
    },
    {
      "cell_type": "code",
      "source": [
        "data.isnull().sum()"
      ],
      "metadata": {
        "id": "5Ed3x_yf0pvK",
        "colab": {
          "base_uri": "https://localhost:8080/"
        },
        "outputId": "436b6590-0ebd-4733-991b-72b47564a639"
      },
      "execution_count": null,
      "outputs": [
        {
          "output_type": "execute_result",
          "data": {
            "text/plain": [
              "ID      0\n",
              "text    0\n",
              "dtype: int64"
            ]
          },
          "metadata": {},
          "execution_count": 161
        }
      ],
      "id": "5Ed3x_yf0pvK"
    },
    {
      "cell_type": "markdown",
      "source": [
        "## lemmatization"
      ],
      "metadata": {
        "id": "X-PkBoz00bhT"
      },
      "id": "X-PkBoz00bhT"
    },
    {
      "cell_type": "markdown",
      "source": [
        "- The library used for the lemmatization in our case is [Qalsadi](https://pypi.org/project/qalsadi/)"
      ],
      "metadata": {
        "id": "Sl4njT0z0fSu"
      },
      "id": "Sl4njT0z0fSu"
    },
    {
      "cell_type": "code",
      "source": [
        "def lemmatize_stemming(text):\n",
        "    return qalsadi.lemmatizer.Lemmatizer().lemmatize(text)\n",
        "def preprocess(text):\n",
        "    result = []\n",
        "    for token in gensim.utils.simple_preprocess(text):\n",
        "        if token not in stopwords_list and len(token) > 3:\n",
        "            emoji_pattern = re.compile(\"[\"\n",
        "          u\"\\U0001F600-\\U0001F64F\"  # emoticons\n",
        "          u\"\\U0001F300-\\U0001F5FF\"  # symbols & pictographs\n",
        "          u\"\\U0001F680-\\U0001F6FF\"  # transport & map symbols\n",
        "          u\"\\U0001F1E0-\\U0001F1FF\"  # flags (iOS)\n",
        "                            \"]+\", flags=re.UNICODE)\n",
        "            emoji_pattern.sub(r'', token)\n",
        "            result.append(lemmatize_stemming(token))\n",
        "    return result"
      ],
      "metadata": {
        "id": "ybrVLfvG0AQF"
      },
      "execution_count": null,
      "outputs": [],
      "id": "ybrVLfvG0AQF"
    },
    {
      "cell_type": "code",
      "source": [
        "# Copy data to documents\n",
        "data_text = data[[\"text\"]]\n",
        "data_text[\"index\"] = data_text.index\n",
        "documents = data_text\n",
        "documents"
      ],
      "metadata": {
        "id": "UXmOWCjT0xg0",
        "colab": {
          "base_uri": "https://localhost:8080/",
          "height": 423
        },
        "outputId": "7353decf-4825-439e-9c89-52dec5db56d2"
      },
      "execution_count": null,
      "outputs": [
        {
          "output_type": "execute_result",
          "data": {
            "text/plain": [
              "                                                    text  index\n",
              "0      السلام عليكملدي طلب رقم 746855 تتغير حالته 14 ...      0\n",
              "1                      عدم الاستطاعة باضافة العقد الموثق      1\n",
              "2          عدم استطاعتي بتعديل الطلب واضافة العقد الموثق      2\n",
              "3      حساب فقد نتزكر كلمة السر الرقم القومى الخاص با...      3\n",
              "4      السلام عليكم الاول عملت طلب اتاخر كتير عملت طل...      4\n",
              "...                                                  ...    ...\n",
              "47736  السلام عليكمنظرا للظروف تحدث والانقطاع المستمر...  47736\n",
              "47737  إلغاء الطلب رقم 3579676لدواعي السفر وعدم الجاه...  47737\n",
              "47738  تركيب العداد تفاجأت بأنه إنتاج 2021 جارى ركب ع...  47738\n",
              "47739                                         سعر الرسوم  47739\n",
              "47740  استطيع ارسال القراءة وصورة العداد علي موقعكم ر...  47740\n",
              "\n",
              "[47741 rows x 2 columns]"
            ],
            "text/html": [
              "\n",
              "  <div id=\"df-b795cfc4-7496-4a20-93bb-9d6bf6419637\" class=\"colab-df-container\">\n",
              "    <div>\n",
              "<style scoped>\n",
              "    .dataframe tbody tr th:only-of-type {\n",
              "        vertical-align: middle;\n",
              "    }\n",
              "\n",
              "    .dataframe tbody tr th {\n",
              "        vertical-align: top;\n",
              "    }\n",
              "\n",
              "    .dataframe thead th {\n",
              "        text-align: right;\n",
              "    }\n",
              "</style>\n",
              "<table border=\"1\" class=\"dataframe\">\n",
              "  <thead>\n",
              "    <tr style=\"text-align: right;\">\n",
              "      <th></th>\n",
              "      <th>text</th>\n",
              "      <th>index</th>\n",
              "    </tr>\n",
              "  </thead>\n",
              "  <tbody>\n",
              "    <tr>\n",
              "      <th>0</th>\n",
              "      <td>السلام عليكملدي طلب رقم 746855 تتغير حالته 14 ...</td>\n",
              "      <td>0</td>\n",
              "    </tr>\n",
              "    <tr>\n",
              "      <th>1</th>\n",
              "      <td>عدم الاستطاعة باضافة العقد الموثق</td>\n",
              "      <td>1</td>\n",
              "    </tr>\n",
              "    <tr>\n",
              "      <th>2</th>\n",
              "      <td>عدم استطاعتي بتعديل الطلب واضافة العقد الموثق</td>\n",
              "      <td>2</td>\n",
              "    </tr>\n",
              "    <tr>\n",
              "      <th>3</th>\n",
              "      <td>حساب فقد نتزكر كلمة السر الرقم القومى الخاص با...</td>\n",
              "      <td>3</td>\n",
              "    </tr>\n",
              "    <tr>\n",
              "      <th>4</th>\n",
              "      <td>السلام عليكم الاول عملت طلب اتاخر كتير عملت طل...</td>\n",
              "      <td>4</td>\n",
              "    </tr>\n",
              "    <tr>\n",
              "      <th>...</th>\n",
              "      <td>...</td>\n",
              "      <td>...</td>\n",
              "    </tr>\n",
              "    <tr>\n",
              "      <th>47736</th>\n",
              "      <td>السلام عليكمنظرا للظروف تحدث والانقطاع المستمر...</td>\n",
              "      <td>47736</td>\n",
              "    </tr>\n",
              "    <tr>\n",
              "      <th>47737</th>\n",
              "      <td>إلغاء الطلب رقم 3579676لدواعي السفر وعدم الجاه...</td>\n",
              "      <td>47737</td>\n",
              "    </tr>\n",
              "    <tr>\n",
              "      <th>47738</th>\n",
              "      <td>تركيب العداد تفاجأت بأنه إنتاج 2021 جارى ركب ع...</td>\n",
              "      <td>47738</td>\n",
              "    </tr>\n",
              "    <tr>\n",
              "      <th>47739</th>\n",
              "      <td>سعر الرسوم</td>\n",
              "      <td>47739</td>\n",
              "    </tr>\n",
              "    <tr>\n",
              "      <th>47740</th>\n",
              "      <td>استطيع ارسال القراءة وصورة العداد علي موقعكم ر...</td>\n",
              "      <td>47740</td>\n",
              "    </tr>\n",
              "  </tbody>\n",
              "</table>\n",
              "<p>47741 rows × 2 columns</p>\n",
              "</div>\n",
              "    <div class=\"colab-df-buttons\">\n",
              "\n",
              "  <div class=\"colab-df-container\">\n",
              "    <button class=\"colab-df-convert\" onclick=\"convertToInteractive('df-b795cfc4-7496-4a20-93bb-9d6bf6419637')\"\n",
              "            title=\"Convert this dataframe to an interactive table.\"\n",
              "            style=\"display:none;\">\n",
              "\n",
              "  <svg xmlns=\"http://www.w3.org/2000/svg\" height=\"24px\" viewBox=\"0 -960 960 960\">\n",
              "    <path d=\"M120-120v-720h720v720H120Zm60-500h600v-160H180v160Zm220 220h160v-160H400v160Zm0 220h160v-160H400v160ZM180-400h160v-160H180v160Zm440 0h160v-160H620v160ZM180-180h160v-160H180v160Zm440 0h160v-160H620v160Z\"/>\n",
              "  </svg>\n",
              "    </button>\n",
              "\n",
              "  <style>\n",
              "    .colab-df-container {\n",
              "      display:flex;\n",
              "      gap: 12px;\n",
              "    }\n",
              "\n",
              "    .colab-df-convert {\n",
              "      background-color: #E8F0FE;\n",
              "      border: none;\n",
              "      border-radius: 50%;\n",
              "      cursor: pointer;\n",
              "      display: none;\n",
              "      fill: #1967D2;\n",
              "      height: 32px;\n",
              "      padding: 0 0 0 0;\n",
              "      width: 32px;\n",
              "    }\n",
              "\n",
              "    .colab-df-convert:hover {\n",
              "      background-color: #E2EBFA;\n",
              "      box-shadow: 0px 1px 2px rgba(60, 64, 67, 0.3), 0px 1px 3px 1px rgba(60, 64, 67, 0.15);\n",
              "      fill: #174EA6;\n",
              "    }\n",
              "\n",
              "    .colab-df-buttons div {\n",
              "      margin-bottom: 4px;\n",
              "    }\n",
              "\n",
              "    [theme=dark] .colab-df-convert {\n",
              "      background-color: #3B4455;\n",
              "      fill: #D2E3FC;\n",
              "    }\n",
              "\n",
              "    [theme=dark] .colab-df-convert:hover {\n",
              "      background-color: #434B5C;\n",
              "      box-shadow: 0px 1px 3px 1px rgba(0, 0, 0, 0.15);\n",
              "      filter: drop-shadow(0px 1px 2px rgba(0, 0, 0, 0.3));\n",
              "      fill: #FFFFFF;\n",
              "    }\n",
              "  </style>\n",
              "\n",
              "    <script>\n",
              "      const buttonEl =\n",
              "        document.querySelector('#df-b795cfc4-7496-4a20-93bb-9d6bf6419637 button.colab-df-convert');\n",
              "      buttonEl.style.display =\n",
              "        google.colab.kernel.accessAllowed ? 'block' : 'none';\n",
              "\n",
              "      async function convertToInteractive(key) {\n",
              "        const element = document.querySelector('#df-b795cfc4-7496-4a20-93bb-9d6bf6419637');\n",
              "        const dataTable =\n",
              "          await google.colab.kernel.invokeFunction('convertToInteractive',\n",
              "                                                    [key], {});\n",
              "        if (!dataTable) return;\n",
              "\n",
              "        const docLinkHtml = 'Like what you see? Visit the ' +\n",
              "          '<a target=\"_blank\" href=https://colab.research.google.com/notebooks/data_table.ipynb>data table notebook</a>'\n",
              "          + ' to learn more about interactive tables.';\n",
              "        element.innerHTML = '';\n",
              "        dataTable['output_type'] = 'display_data';\n",
              "        await google.colab.output.renderOutput(dataTable, element);\n",
              "        const docLink = document.createElement('div');\n",
              "        docLink.innerHTML = docLinkHtml;\n",
              "        element.appendChild(docLink);\n",
              "      }\n",
              "    </script>\n",
              "  </div>\n",
              "\n",
              "\n",
              "<div id=\"df-c95a613f-4f27-47d7-8bf0-e9a6a89d982a\">\n",
              "  <button class=\"colab-df-quickchart\" onclick=\"quickchart('df-c95a613f-4f27-47d7-8bf0-e9a6a89d982a')\"\n",
              "            title=\"Suggest charts\"\n",
              "            style=\"display:none;\">\n",
              "\n",
              "<svg xmlns=\"http://www.w3.org/2000/svg\" height=\"24px\"viewBox=\"0 0 24 24\"\n",
              "     width=\"24px\">\n",
              "    <g>\n",
              "        <path d=\"M19 3H5c-1.1 0-2 .9-2 2v14c0 1.1.9 2 2 2h14c1.1 0 2-.9 2-2V5c0-1.1-.9-2-2-2zM9 17H7v-7h2v7zm4 0h-2V7h2v10zm4 0h-2v-4h2v4z\"/>\n",
              "    </g>\n",
              "</svg>\n",
              "  </button>\n",
              "\n",
              "<style>\n",
              "  .colab-df-quickchart {\n",
              "      --bg-color: #E8F0FE;\n",
              "      --fill-color: #1967D2;\n",
              "      --hover-bg-color: #E2EBFA;\n",
              "      --hover-fill-color: #174EA6;\n",
              "      --disabled-fill-color: #AAA;\n",
              "      --disabled-bg-color: #DDD;\n",
              "  }\n",
              "\n",
              "  [theme=dark] .colab-df-quickchart {\n",
              "      --bg-color: #3B4455;\n",
              "      --fill-color: #D2E3FC;\n",
              "      --hover-bg-color: #434B5C;\n",
              "      --hover-fill-color: #FFFFFF;\n",
              "      --disabled-bg-color: #3B4455;\n",
              "      --disabled-fill-color: #666;\n",
              "  }\n",
              "\n",
              "  .colab-df-quickchart {\n",
              "    background-color: var(--bg-color);\n",
              "    border: none;\n",
              "    border-radius: 50%;\n",
              "    cursor: pointer;\n",
              "    display: none;\n",
              "    fill: var(--fill-color);\n",
              "    height: 32px;\n",
              "    padding: 0;\n",
              "    width: 32px;\n",
              "  }\n",
              "\n",
              "  .colab-df-quickchart:hover {\n",
              "    background-color: var(--hover-bg-color);\n",
              "    box-shadow: 0 1px 2px rgba(60, 64, 67, 0.3), 0 1px 3px 1px rgba(60, 64, 67, 0.15);\n",
              "    fill: var(--button-hover-fill-color);\n",
              "  }\n",
              "\n",
              "  .colab-df-quickchart-complete:disabled,\n",
              "  .colab-df-quickchart-complete:disabled:hover {\n",
              "    background-color: var(--disabled-bg-color);\n",
              "    fill: var(--disabled-fill-color);\n",
              "    box-shadow: none;\n",
              "  }\n",
              "\n",
              "  .colab-df-spinner {\n",
              "    border: 2px solid var(--fill-color);\n",
              "    border-color: transparent;\n",
              "    border-bottom-color: var(--fill-color);\n",
              "    animation:\n",
              "      spin 1s steps(1) infinite;\n",
              "  }\n",
              "\n",
              "  @keyframes spin {\n",
              "    0% {\n",
              "      border-color: transparent;\n",
              "      border-bottom-color: var(--fill-color);\n",
              "      border-left-color: var(--fill-color);\n",
              "    }\n",
              "    20% {\n",
              "      border-color: transparent;\n",
              "      border-left-color: var(--fill-color);\n",
              "      border-top-color: var(--fill-color);\n",
              "    }\n",
              "    30% {\n",
              "      border-color: transparent;\n",
              "      border-left-color: var(--fill-color);\n",
              "      border-top-color: var(--fill-color);\n",
              "      border-right-color: var(--fill-color);\n",
              "    }\n",
              "    40% {\n",
              "      border-color: transparent;\n",
              "      border-right-color: var(--fill-color);\n",
              "      border-top-color: var(--fill-color);\n",
              "    }\n",
              "    60% {\n",
              "      border-color: transparent;\n",
              "      border-right-color: var(--fill-color);\n",
              "    }\n",
              "    80% {\n",
              "      border-color: transparent;\n",
              "      border-right-color: var(--fill-color);\n",
              "      border-bottom-color: var(--fill-color);\n",
              "    }\n",
              "    90% {\n",
              "      border-color: transparent;\n",
              "      border-bottom-color: var(--fill-color);\n",
              "    }\n",
              "  }\n",
              "</style>\n",
              "\n",
              "  <script>\n",
              "    async function quickchart(key) {\n",
              "      const quickchartButtonEl =\n",
              "        document.querySelector('#' + key + ' button');\n",
              "      quickchartButtonEl.disabled = true;  // To prevent multiple clicks.\n",
              "      quickchartButtonEl.classList.add('colab-df-spinner');\n",
              "      try {\n",
              "        const charts = await google.colab.kernel.invokeFunction(\n",
              "            'suggestCharts', [key], {});\n",
              "      } catch (error) {\n",
              "        console.error('Error during call to suggestCharts:', error);\n",
              "      }\n",
              "      quickchartButtonEl.classList.remove('colab-df-spinner');\n",
              "      quickchartButtonEl.classList.add('colab-df-quickchart-complete');\n",
              "    }\n",
              "    (() => {\n",
              "      let quickchartButtonEl =\n",
              "        document.querySelector('#df-c95a613f-4f27-47d7-8bf0-e9a6a89d982a button');\n",
              "      quickchartButtonEl.style.display =\n",
              "        google.colab.kernel.accessAllowed ? 'block' : 'none';\n",
              "    })();\n",
              "  </script>\n",
              "</div>\n",
              "    </div>\n",
              "  </div>\n"
            ]
          },
          "metadata": {},
          "execution_count": 163
        }
      ],
      "id": "UXmOWCjT0xg0"
    },
    {
      "cell_type": "code",
      "source": [
        "# Checking The first row of the column text\n",
        "data[\"text\"][TXT_INDX]"
      ],
      "metadata": {
        "id": "A5yK9DoH1DsN",
        "colab": {
          "base_uri": "https://localhost:8080/",
          "height": 91
        },
        "outputId": "0c1f51dd-baf4-4d19-838d-b3e2038a5ab6"
      },
      "execution_count": null,
      "outputs": [
        {
          "output_type": "execute_result",
          "data": {
            "text/plain": [
              "'السلام عليكم تلقيت مكالمة موظفى الشركة الكرام للسؤال وجودى بمقر إقامتى لإجراء المقايسة اللازمة وتوجهت لمقر الشقة المطلوب تركيب العداد مقيم فى المكان أغلب الوقت فوجئت بالموظف المذكور معاودة اتصالة بأن الشقة المطلوب تركيب عداد ينطبق عليها الشروط وأنه لابد الإنتهاء واجهة العقار وكذا التشطيبات تأكيدى بأن وقف إجراء التشطيبات قرار دولة وليس لى كمالك للوحدة داخل العقار محل الدراسة لذا أرجو الإفادة وسرعة عمل المقايسة المطلوبة وتركيب العداد لأنه العدل أسدد يقرب 500 شهرياً لمكان أقيم وتجدون سيادتكم مرفقاً صورة آخر سداد للممارسة وافر الشكر والتقدير رضا شحات خطاب'"
            ],
            "application/vnd.google.colaboratory.intrinsic+json": {
              "type": "string"
            }
          },
          "metadata": {},
          "execution_count": 164
        }
      ],
      "id": "A5yK9DoH1DsN"
    },
    {
      "cell_type": "code",
      "source": [
        "#perform preprocess on first row\n",
        "doc_sample = documents[documents['index'] == TXT_INDX].values[0][0]\n",
        "\n",
        "print('original document: ')\n",
        "words = []\n",
        "for word in doc_sample.split(' '):\n",
        "    words.append(word)\n",
        "print(words)\n",
        "print('\\n\\n tokenized and lemmatized document: ')\n",
        "print(preprocess(doc_sample))\n"
      ],
      "metadata": {
        "id": "KiZV0wtd0kSj",
        "colab": {
          "base_uri": "https://localhost:8080/"
        },
        "outputId": "ee6743dc-d384-4ee6-ee23-9a9dd7553808"
      },
      "execution_count": null,
      "outputs": [
        {
          "output_type": "stream",
          "name": "stdout",
          "text": [
            "original document: \n",
            "['السلام', 'عليكم', 'تلقيت', 'مكالمة', 'موظفى', 'الشركة', 'الكرام', 'للسؤال', 'وجودى', 'بمقر', 'إقامتى', 'لإجراء', 'المقايسة', 'اللازمة', 'وتوجهت', 'لمقر', 'الشقة', 'المطلوب', 'تركيب', 'العداد', 'مقيم', 'فى', 'المكان', 'أغلب', 'الوقت', 'فوجئت', 'بالموظف', 'المذكور', 'معاودة', 'اتصالة', 'بأن', 'الشقة', 'المطلوب', 'تركيب', 'عداد', 'ينطبق', 'عليها', 'الشروط', 'وأنه', 'لابد', 'الإنتهاء', 'واجهة', 'العقار', 'وكذا', 'التشطيبات', 'تأكيدى', 'بأن', 'وقف', 'إجراء', 'التشطيبات', 'قرار', 'دولة', 'وليس', 'لى', 'كمالك', 'للوحدة', 'داخل', 'العقار', 'محل', 'الدراسة', 'لذا', 'أرجو', 'الإفادة', 'وسرعة', 'عمل', 'المقايسة', 'المطلوبة', 'وتركيب', 'العداد', 'لأنه', 'العدل', 'أسدد', 'يقرب', '500', 'شهرياً', 'لمكان', 'أقيم', 'وتجدون', 'سيادتكم', 'مرفقاً', 'صورة', 'آخر', 'سداد', 'للممارسة', 'وافر', 'الشكر', 'والتقدير', 'رضا', 'شحات', 'خطاب']\n",
            "\n",
            "\n",
            " tokenized and lemmatized document: \n",
            "['سلام', 'على', 'تلقى', 'مكالم', 'موظفى', 'شرك', 'كرام', 'سؤال', 'جودى', 'مقر', 'إقامتى', 'إجراء', 'مقايسة', 'لازم', 'توجه', 'مقر', 'شق', 'مطلوب', 'تركيب', 'عداد', 'مقيم', 'مكان', 'أغلب', 'وقت', 'فاجأ', 'موظف', 'مذكور', 'معاود', 'اتصال', 'شق', 'مطلوب', 'تركيب', 'عداد', 'انطبق', 'على', 'شروط', 'أن', 'لابد', 'الإنتهاء', 'واجهة', 'عقار', 'كذا', 'تشطيب', 'تأكيدى', 'إجراء', 'تشطيب', 'قرار', 'دول', 'ليس', 'كمال', 'وحد', 'داخل', 'عقار', 'دراس', 'رجا', 'إفادة', 'سرع', 'مقايسة', 'مطلوب', 'تركيب', 'عداد', 'أن', 'عدل', 'سدد', 'قرب', 'شهر', 'مكان', 'قيم', 'وجد', 'سيادة', 'مرفق', 'صور', 'سداد', 'ممارس', 'وافر', 'شكر', 'تقدير', 'شح', 'خطاب']\n"
          ]
        }
      ],
      "id": "KiZV0wtd0kSj"
    },
    {
      "cell_type": "markdown",
      "source": [
        "P.S. In this next part we will be using only 100 samples instead of the whole dataset to speed up the process"
      ],
      "metadata": {
        "id": "KXjtwiwk1z9g"
      },
      "id": "KXjtwiwk1z9g"
    },
    {
      "cell_type": "code",
      "source": [
        "documents = documents[:10]\n",
        "documents"
      ],
      "metadata": {
        "id": "k-BxoyG81jJ0",
        "colab": {
          "base_uri": "https://localhost:8080/",
          "height": 363
        },
        "outputId": "5841a4e7-298d-4c7b-fa7b-dbb6c2c5cfb8"
      },
      "execution_count": null,
      "outputs": [
        {
          "output_type": "execute_result",
          "data": {
            "text/plain": [
              "                                                text  index\n",
              "0  السلام عليكملدي طلب رقم 746855 تتغير حالته 14 ...      0\n",
              "1                  عدم الاستطاعة باضافة العقد الموثق      1\n",
              "2      عدم استطاعتي بتعديل الطلب واضافة العقد الموثق      2\n",
              "3  حساب فقد نتزكر كلمة السر الرقم القومى الخاص با...      3\n",
              "4  السلام عليكم الاول عملت طلب اتاخر كتير عملت طل...      4\n",
              "5  تاخرت المعاينة عنى علما بان غيرى اتته المعاينة...      5\n",
              "6                    عدم استطاعتي رفع عقد ايجار موثق      6\n",
              "7  يرجي التكرم بالافاده الطلب المقدم بتاريخ 10 اغ...      7\n",
              "8  لقد تقدمت بطلب تركيب عداد كودى وتمت كتابة الرق...      8\n",
              "9  يتم تغير حالة الطلب اكثر شهرين الرجاء تغير حال...      9"
            ],
            "text/html": [
              "\n",
              "  <div id=\"df-7f40ef33-8349-4536-8acc-4a7f0a55453b\" class=\"colab-df-container\">\n",
              "    <div>\n",
              "<style scoped>\n",
              "    .dataframe tbody tr th:only-of-type {\n",
              "        vertical-align: middle;\n",
              "    }\n",
              "\n",
              "    .dataframe tbody tr th {\n",
              "        vertical-align: top;\n",
              "    }\n",
              "\n",
              "    .dataframe thead th {\n",
              "        text-align: right;\n",
              "    }\n",
              "</style>\n",
              "<table border=\"1\" class=\"dataframe\">\n",
              "  <thead>\n",
              "    <tr style=\"text-align: right;\">\n",
              "      <th></th>\n",
              "      <th>text</th>\n",
              "      <th>index</th>\n",
              "    </tr>\n",
              "  </thead>\n",
              "  <tbody>\n",
              "    <tr>\n",
              "      <th>0</th>\n",
              "      <td>السلام عليكملدي طلب رقم 746855 تتغير حالته 14 ...</td>\n",
              "      <td>0</td>\n",
              "    </tr>\n",
              "    <tr>\n",
              "      <th>1</th>\n",
              "      <td>عدم الاستطاعة باضافة العقد الموثق</td>\n",
              "      <td>1</td>\n",
              "    </tr>\n",
              "    <tr>\n",
              "      <th>2</th>\n",
              "      <td>عدم استطاعتي بتعديل الطلب واضافة العقد الموثق</td>\n",
              "      <td>2</td>\n",
              "    </tr>\n",
              "    <tr>\n",
              "      <th>3</th>\n",
              "      <td>حساب فقد نتزكر كلمة السر الرقم القومى الخاص با...</td>\n",
              "      <td>3</td>\n",
              "    </tr>\n",
              "    <tr>\n",
              "      <th>4</th>\n",
              "      <td>السلام عليكم الاول عملت طلب اتاخر كتير عملت طل...</td>\n",
              "      <td>4</td>\n",
              "    </tr>\n",
              "    <tr>\n",
              "      <th>5</th>\n",
              "      <td>تاخرت المعاينة عنى علما بان غيرى اتته المعاينة...</td>\n",
              "      <td>5</td>\n",
              "    </tr>\n",
              "    <tr>\n",
              "      <th>6</th>\n",
              "      <td>عدم استطاعتي رفع عقد ايجار موثق</td>\n",
              "      <td>6</td>\n",
              "    </tr>\n",
              "    <tr>\n",
              "      <th>7</th>\n",
              "      <td>يرجي التكرم بالافاده الطلب المقدم بتاريخ 10 اغ...</td>\n",
              "      <td>7</td>\n",
              "    </tr>\n",
              "    <tr>\n",
              "      <th>8</th>\n",
              "      <td>لقد تقدمت بطلب تركيب عداد كودى وتمت كتابة الرق...</td>\n",
              "      <td>8</td>\n",
              "    </tr>\n",
              "    <tr>\n",
              "      <th>9</th>\n",
              "      <td>يتم تغير حالة الطلب اكثر شهرين الرجاء تغير حال...</td>\n",
              "      <td>9</td>\n",
              "    </tr>\n",
              "  </tbody>\n",
              "</table>\n",
              "</div>\n",
              "    <div class=\"colab-df-buttons\">\n",
              "\n",
              "  <div class=\"colab-df-container\">\n",
              "    <button class=\"colab-df-convert\" onclick=\"convertToInteractive('df-7f40ef33-8349-4536-8acc-4a7f0a55453b')\"\n",
              "            title=\"Convert this dataframe to an interactive table.\"\n",
              "            style=\"display:none;\">\n",
              "\n",
              "  <svg xmlns=\"http://www.w3.org/2000/svg\" height=\"24px\" viewBox=\"0 -960 960 960\">\n",
              "    <path d=\"M120-120v-720h720v720H120Zm60-500h600v-160H180v160Zm220 220h160v-160H400v160Zm0 220h160v-160H400v160ZM180-400h160v-160H180v160Zm440 0h160v-160H620v160ZM180-180h160v-160H180v160Zm440 0h160v-160H620v160Z\"/>\n",
              "  </svg>\n",
              "    </button>\n",
              "\n",
              "  <style>\n",
              "    .colab-df-container {\n",
              "      display:flex;\n",
              "      gap: 12px;\n",
              "    }\n",
              "\n",
              "    .colab-df-convert {\n",
              "      background-color: #E8F0FE;\n",
              "      border: none;\n",
              "      border-radius: 50%;\n",
              "      cursor: pointer;\n",
              "      display: none;\n",
              "      fill: #1967D2;\n",
              "      height: 32px;\n",
              "      padding: 0 0 0 0;\n",
              "      width: 32px;\n",
              "    }\n",
              "\n",
              "    .colab-df-convert:hover {\n",
              "      background-color: #E2EBFA;\n",
              "      box-shadow: 0px 1px 2px rgba(60, 64, 67, 0.3), 0px 1px 3px 1px rgba(60, 64, 67, 0.15);\n",
              "      fill: #174EA6;\n",
              "    }\n",
              "\n",
              "    .colab-df-buttons div {\n",
              "      margin-bottom: 4px;\n",
              "    }\n",
              "\n",
              "    [theme=dark] .colab-df-convert {\n",
              "      background-color: #3B4455;\n",
              "      fill: #D2E3FC;\n",
              "    }\n",
              "\n",
              "    [theme=dark] .colab-df-convert:hover {\n",
              "      background-color: #434B5C;\n",
              "      box-shadow: 0px 1px 3px 1px rgba(0, 0, 0, 0.15);\n",
              "      filter: drop-shadow(0px 1px 2px rgba(0, 0, 0, 0.3));\n",
              "      fill: #FFFFFF;\n",
              "    }\n",
              "  </style>\n",
              "\n",
              "    <script>\n",
              "      const buttonEl =\n",
              "        document.querySelector('#df-7f40ef33-8349-4536-8acc-4a7f0a55453b button.colab-df-convert');\n",
              "      buttonEl.style.display =\n",
              "        google.colab.kernel.accessAllowed ? 'block' : 'none';\n",
              "\n",
              "      async function convertToInteractive(key) {\n",
              "        const element = document.querySelector('#df-7f40ef33-8349-4536-8acc-4a7f0a55453b');\n",
              "        const dataTable =\n",
              "          await google.colab.kernel.invokeFunction('convertToInteractive',\n",
              "                                                    [key], {});\n",
              "        if (!dataTable) return;\n",
              "\n",
              "        const docLinkHtml = 'Like what you see? Visit the ' +\n",
              "          '<a target=\"_blank\" href=https://colab.research.google.com/notebooks/data_table.ipynb>data table notebook</a>'\n",
              "          + ' to learn more about interactive tables.';\n",
              "        element.innerHTML = '';\n",
              "        dataTable['output_type'] = 'display_data';\n",
              "        await google.colab.output.renderOutput(dataTable, element);\n",
              "        const docLink = document.createElement('div');\n",
              "        docLink.innerHTML = docLinkHtml;\n",
              "        element.appendChild(docLink);\n",
              "      }\n",
              "    </script>\n",
              "  </div>\n",
              "\n",
              "\n",
              "<div id=\"df-86410ccf-f460-45b5-a560-3621cbd8fc86\">\n",
              "  <button class=\"colab-df-quickchart\" onclick=\"quickchart('df-86410ccf-f460-45b5-a560-3621cbd8fc86')\"\n",
              "            title=\"Suggest charts\"\n",
              "            style=\"display:none;\">\n",
              "\n",
              "<svg xmlns=\"http://www.w3.org/2000/svg\" height=\"24px\"viewBox=\"0 0 24 24\"\n",
              "     width=\"24px\">\n",
              "    <g>\n",
              "        <path d=\"M19 3H5c-1.1 0-2 .9-2 2v14c0 1.1.9 2 2 2h14c1.1 0 2-.9 2-2V5c0-1.1-.9-2-2-2zM9 17H7v-7h2v7zm4 0h-2V7h2v10zm4 0h-2v-4h2v4z\"/>\n",
              "    </g>\n",
              "</svg>\n",
              "  </button>\n",
              "\n",
              "<style>\n",
              "  .colab-df-quickchart {\n",
              "      --bg-color: #E8F0FE;\n",
              "      --fill-color: #1967D2;\n",
              "      --hover-bg-color: #E2EBFA;\n",
              "      --hover-fill-color: #174EA6;\n",
              "      --disabled-fill-color: #AAA;\n",
              "      --disabled-bg-color: #DDD;\n",
              "  }\n",
              "\n",
              "  [theme=dark] .colab-df-quickchart {\n",
              "      --bg-color: #3B4455;\n",
              "      --fill-color: #D2E3FC;\n",
              "      --hover-bg-color: #434B5C;\n",
              "      --hover-fill-color: #FFFFFF;\n",
              "      --disabled-bg-color: #3B4455;\n",
              "      --disabled-fill-color: #666;\n",
              "  }\n",
              "\n",
              "  .colab-df-quickchart {\n",
              "    background-color: var(--bg-color);\n",
              "    border: none;\n",
              "    border-radius: 50%;\n",
              "    cursor: pointer;\n",
              "    display: none;\n",
              "    fill: var(--fill-color);\n",
              "    height: 32px;\n",
              "    padding: 0;\n",
              "    width: 32px;\n",
              "  }\n",
              "\n",
              "  .colab-df-quickchart:hover {\n",
              "    background-color: var(--hover-bg-color);\n",
              "    box-shadow: 0 1px 2px rgba(60, 64, 67, 0.3), 0 1px 3px 1px rgba(60, 64, 67, 0.15);\n",
              "    fill: var(--button-hover-fill-color);\n",
              "  }\n",
              "\n",
              "  .colab-df-quickchart-complete:disabled,\n",
              "  .colab-df-quickchart-complete:disabled:hover {\n",
              "    background-color: var(--disabled-bg-color);\n",
              "    fill: var(--disabled-fill-color);\n",
              "    box-shadow: none;\n",
              "  }\n",
              "\n",
              "  .colab-df-spinner {\n",
              "    border: 2px solid var(--fill-color);\n",
              "    border-color: transparent;\n",
              "    border-bottom-color: var(--fill-color);\n",
              "    animation:\n",
              "      spin 1s steps(1) infinite;\n",
              "  }\n",
              "\n",
              "  @keyframes spin {\n",
              "    0% {\n",
              "      border-color: transparent;\n",
              "      border-bottom-color: var(--fill-color);\n",
              "      border-left-color: var(--fill-color);\n",
              "    }\n",
              "    20% {\n",
              "      border-color: transparent;\n",
              "      border-left-color: var(--fill-color);\n",
              "      border-top-color: var(--fill-color);\n",
              "    }\n",
              "    30% {\n",
              "      border-color: transparent;\n",
              "      border-left-color: var(--fill-color);\n",
              "      border-top-color: var(--fill-color);\n",
              "      border-right-color: var(--fill-color);\n",
              "    }\n",
              "    40% {\n",
              "      border-color: transparent;\n",
              "      border-right-color: var(--fill-color);\n",
              "      border-top-color: var(--fill-color);\n",
              "    }\n",
              "    60% {\n",
              "      border-color: transparent;\n",
              "      border-right-color: var(--fill-color);\n",
              "    }\n",
              "    80% {\n",
              "      border-color: transparent;\n",
              "      border-right-color: var(--fill-color);\n",
              "      border-bottom-color: var(--fill-color);\n",
              "    }\n",
              "    90% {\n",
              "      border-color: transparent;\n",
              "      border-bottom-color: var(--fill-color);\n",
              "    }\n",
              "  }\n",
              "</style>\n",
              "\n",
              "  <script>\n",
              "    async function quickchart(key) {\n",
              "      const quickchartButtonEl =\n",
              "        document.querySelector('#' + key + ' button');\n",
              "      quickchartButtonEl.disabled = true;  // To prevent multiple clicks.\n",
              "      quickchartButtonEl.classList.add('colab-df-spinner');\n",
              "      try {\n",
              "        const charts = await google.colab.kernel.invokeFunction(\n",
              "            'suggestCharts', [key], {});\n",
              "      } catch (error) {\n",
              "        console.error('Error during call to suggestCharts:', error);\n",
              "      }\n",
              "      quickchartButtonEl.classList.remove('colab-df-spinner');\n",
              "      quickchartButtonEl.classList.add('colab-df-quickchart-complete');\n",
              "    }\n",
              "    (() => {\n",
              "      let quickchartButtonEl =\n",
              "        document.querySelector('#df-86410ccf-f460-45b5-a560-3621cbd8fc86 button');\n",
              "      quickchartButtonEl.style.display =\n",
              "        google.colab.kernel.accessAllowed ? 'block' : 'none';\n",
              "    })();\n",
              "  </script>\n",
              "</div>\n",
              "    </div>\n",
              "  </div>\n"
            ]
          },
          "metadata": {},
          "execution_count": 166
        }
      ],
      "id": "k-BxoyG81jJ0"
    },
    {
      "cell_type": "code",
      "source": [
        "for txt in documents['text']:\n",
        "  print(preprocess(txt))"
      ],
      "metadata": {
        "id": "ZfgeCe3U14tD",
        "colab": {
          "base_uri": "https://localhost:8080/"
        },
        "outputId": "aff68ace-0cbb-48fb-d030-99be0493dec7"
      },
      "execution_count": null,
      "outputs": [
        {
          "output_type": "stream",
          "name": "stdout",
          "text": [
            "['سلام', 'عليكملدي', 'تغير', 'حال', 'دراس', 'فن', 'رجاء', 'الافاده', 'حال', 'طلب', 'توقف', 'شكر']\n",
            "['استطاعة', 'باضافة', 'عقد', 'موثق']\n",
            "['استطاعة', 'تعديل', 'طلب', 'واضافة', 'عقد', 'موثق']\n",
            "['حساب', 'نتزكر', 'كلم', 'سر', 'رقم', 'قومى', 'الخاص', 'حساب']\n",
            "['سلام', 'على', 'الاول', 'عمل', 'اتاخر', 'كتير', 'عمل', 'تانى', 'رد', 'استكمال', 'بيان', 'وقف', 'عمل', 'تال', 'اتقبل', 'سرع', 'عاوز', 'حذف', 'خلى']\n",
            "['تاخرت', 'معاين', 'علم', 'غيرى', 'اتته', 'معاين', 'عدى', 'مد', 'زمن']\n",
            "['استطاعة', 'ايجار', 'موثق']\n",
            "['رجى', 'تكرم', 'بالافاده', 'طلب', 'مقدم', 'تاريخ', 'اغسطس', 'رقم', 'طلب', 'للدراسه', 'الفنيه', 'الافاده', 'ال', 'تركيب']\n",
            "['تقدم', 'طلب', 'تركيب', 'عداد', 'ودى', 'أمات', 'كتاب', 'رقم', 'قومى', 'تسبب', 'قبول', 'طلب', 'رجا', 'تصحيح', 'رقم', 'قومى', 'الخاص', 'تفعيل', 'طلب', 'الخاص', 'مرفق', 'صور', 'بطاقة', 'رقم', 'قومى']\n",
            "['تغير', 'حال', 'طلب', 'كثر', 'شهر', 'رجاء', 'تغير', 'حال', 'طلب', 'انتهاء', 'المده']\n"
          ]
        }
      ],
      "id": "ZfgeCe3U14tD"
    },
    {
      "cell_type": "code",
      "source": [
        "processed_docs = documents['text'].map(preprocess)\n",
        "processed_docs"
      ],
      "metadata": {
        "id": "jHM7zL3-155w",
        "colab": {
          "base_uri": "https://localhost:8080/"
        },
        "outputId": "9578fa2e-3f3b-427f-ab51-19847a9eb019"
      },
      "execution_count": null,
      "outputs": [
        {
          "output_type": "execute_result",
          "data": {
            "text/plain": [
              "0    [سلام, عليكملدي, تغير, حال, دراس, فن, رجاء, ال...\n",
              "1                         [استطاعة, باضافة, عقد, موثق]\n",
              "2             [استطاعة, تعديل, طلب, واضافة, عقد, موثق]\n",
              "3       [حساب, نتزكر, كلم, سر, رقم, قومى, الخاص, حساب]\n",
              "4    [سلام, على, الاول, عمل, اتاخر, كتير, عمل, تانى...\n",
              "5    [تاخرت, معاين, علم, غيرى, اتته, معاين, عدى, مد...\n",
              "6                               [استطاعة, ايجار, موثق]\n",
              "7    [رجى, تكرم, بالافاده, طلب, مقدم, تاريخ, اغسطس,...\n",
              "8    [تقدم, طلب, تركيب, عداد, ودى, أمات, كتاب, رقم,...\n",
              "9    [تغير, حال, طلب, كثر, شهر, رجاء, تغير, حال, طل...\n",
              "Name: text, dtype: object"
            ]
          },
          "metadata": {},
          "execution_count": 168
        }
      ],
      "id": "jHM7zL3-155w"
    },
    {
      "cell_type": "code",
      "source": [
        "type(processed_docs)"
      ],
      "metadata": {
        "id": "vdESPRY71_yn",
        "colab": {
          "base_uri": "https://localhost:8080/"
        },
        "outputId": "20cb4340-7c0a-45d9-e72b-28c03f53d59e"
      },
      "execution_count": null,
      "outputs": [
        {
          "output_type": "execute_result",
          "data": {
            "text/plain": [
              "pandas.core.series.Series"
            ]
          },
          "metadata": {},
          "execution_count": 176
        }
      ],
      "id": "vdESPRY71_yn"
    },
    {
      "cell_type": "markdown",
      "source": [
        "## Tagging: POS & NER"
      ],
      "metadata": {
        "id": "ar8xBZXRaPzy"
      },
      "id": "ar8xBZXRaPzy"
    },
    {
      "cell_type": "code",
      "source": [
        "# create lists for just our tokens\n",
        "# tokens_clean_list = sum(processed_docs.tolist(), []) #unpack our lists into a single list\n",
        "\n",
        "# Explode the Series to convert lists into separate rows\n",
        "x = processed_docs.explode()\n",
        "\n",
        "# Convert the result back to a list\n",
        "processed_docs = x.tolist()\n",
        "\n",
        "print(processed_docs)"
      ],
      "metadata": {
        "colab": {
          "base_uri": "https://localhost:8080/"
        },
        "id": "K-bPwfPyazXG",
        "outputId": "ad367c17-1218-4043-8049-fddd1cbf1ee7"
      },
      "id": "K-bPwfPyazXG",
      "execution_count": null,
      "outputs": [
        {
          "output_type": "stream",
          "name": "stdout",
          "text": [
            "['سلام', 'عليكملدي', 'تغير', 'حال', 'دراس', 'فن', 'رجاء', 'الافاده', 'حال', 'طلب', 'توقف', 'شكر', 'استطاعة', 'باضافة', 'عقد', 'موثق', 'استطاعة', 'تعديل', 'طلب', 'واضافة', 'عقد', 'موثق', 'حساب', 'نتزكر', 'كلم', 'سر', 'رقم', 'قومى', 'الخاص', 'حساب', 'سلام', 'على', 'الاول', 'عمل', 'اتاخر', 'كتير', 'عمل', 'تانى', 'رد', 'استكمال', 'بيان', 'وقف', 'عمل', 'تال', 'اتقبل', 'سرع', 'عاوز', 'حذف', 'خلى', 'تاخرت', 'معاين', 'علم', 'غيرى', 'اتته', 'معاين', 'عدى', 'مد', 'زمن', 'استطاعة', 'ايجار', 'موثق', 'رجى', 'تكرم', 'بالافاده', 'طلب', 'مقدم', 'تاريخ', 'اغسطس', 'رقم', 'طلب', 'للدراسه', 'الفنيه', 'الافاده', 'ال', 'تركيب', 'تقدم', 'طلب', 'تركيب', 'عداد', 'ودى', 'أمات', 'كتاب', 'رقم', 'قومى', 'تسبب', 'قبول', 'طلب', 'رجا', 'تصحيح', 'رقم', 'قومى', 'الخاص', 'تفعيل', 'طلب', 'الخاص', 'مرفق', 'صور', 'بطاقة', 'رقم', 'قومى', 'تغير', 'حال', 'طلب', 'كثر', 'شهر', 'رجاء', 'تغير', 'حال', 'طلب', 'انتهاء', 'المده']\n"
          ]
        }
      ]
    },
    {
      "cell_type": "code",
      "source": [
        "# nlp = spacy.load('en_core_web_sm')\n",
        "nlp = spacy.blank(\"ar\") # empty English pipeline"
      ],
      "metadata": {
        "id": "Io1ZUEdUaPDR"
      },
      "id": "Io1ZUEdUaPDR",
      "execution_count": null,
      "outputs": []
    },
    {
      "cell_type": "code",
      "source": [
        "# create a spacy doc from our raw text - better for pos tagging\n",
        "spacy_doc = nlp(' '.join(processed_docs))"
      ],
      "metadata": {
        "id": "1pB_X1swacr9"
      },
      "id": "1pB_X1swacr9",
      "execution_count": null,
      "outputs": []
    },
    {
      "cell_type": "code",
      "source": [
        "# extract the tokens and pos tags into a dataframe\n",
        "pos_df = pd.DataFrame(columns=['token', 'pos_tag'])\n",
        "\n",
        "for token in spacy_doc:\n",
        "    pos_df = pos_df._append({'token': token.text,\n",
        "                            'pos_tag': token.pos_}, ignore_index=True)"
      ],
      "metadata": {
        "id": "v1v-AQB4adCM"
      },
      "id": "v1v-AQB4adCM",
      "execution_count": null,
      "outputs": []
    },
    {
      "cell_type": "code",
      "source": [
        "# token frequency count\n",
        "pos_df_counts = pos_df.groupby(['token','pos_tag']).size().reset_index(name='counts').sort_values(by='counts', ascending=False)\n",
        "pos_df_counts.head(10)"
      ],
      "metadata": {
        "colab": {
          "base_uri": "https://localhost:8080/",
          "height": 363
        },
        "id": "o1tz7THWadNR",
        "outputId": "6c32ecef-c89b-40ae-e82c-f7d482d87b53"
      },
      "id": "o1tz7THWadNR",
      "execution_count": null,
      "outputs": [
        {
          "output_type": "execute_result",
          "data": {
            "text/plain": [
              "      token pos_tag  counts\n",
              "49      طلب               9\n",
              "41      رقم               5\n",
              "61     قومى               4\n",
              "32      حال               4\n",
              "4   استطاعة               3\n",
              "71     موثق               3\n",
              "27     تغير               3\n",
              "10    الخاص               3\n",
              "57      عمل               3\n",
              "45     سلام               2"
            ],
            "text/html": [
              "\n",
              "  <div id=\"df-380b0c62-bc4d-43fe-8125-54ad23fd2c1b\" class=\"colab-df-container\">\n",
              "    <div>\n",
              "<style scoped>\n",
              "    .dataframe tbody tr th:only-of-type {\n",
              "        vertical-align: middle;\n",
              "    }\n",
              "\n",
              "    .dataframe tbody tr th {\n",
              "        vertical-align: top;\n",
              "    }\n",
              "\n",
              "    .dataframe thead th {\n",
              "        text-align: right;\n",
              "    }\n",
              "</style>\n",
              "<table border=\"1\" class=\"dataframe\">\n",
              "  <thead>\n",
              "    <tr style=\"text-align: right;\">\n",
              "      <th></th>\n",
              "      <th>token</th>\n",
              "      <th>pos_tag</th>\n",
              "      <th>counts</th>\n",
              "    </tr>\n",
              "  </thead>\n",
              "  <tbody>\n",
              "    <tr>\n",
              "      <th>49</th>\n",
              "      <td>طلب</td>\n",
              "      <td></td>\n",
              "      <td>9</td>\n",
              "    </tr>\n",
              "    <tr>\n",
              "      <th>41</th>\n",
              "      <td>رقم</td>\n",
              "      <td></td>\n",
              "      <td>5</td>\n",
              "    </tr>\n",
              "    <tr>\n",
              "      <th>61</th>\n",
              "      <td>قومى</td>\n",
              "      <td></td>\n",
              "      <td>4</td>\n",
              "    </tr>\n",
              "    <tr>\n",
              "      <th>32</th>\n",
              "      <td>حال</td>\n",
              "      <td></td>\n",
              "      <td>4</td>\n",
              "    </tr>\n",
              "    <tr>\n",
              "      <th>4</th>\n",
              "      <td>استطاعة</td>\n",
              "      <td></td>\n",
              "      <td>3</td>\n",
              "    </tr>\n",
              "    <tr>\n",
              "      <th>71</th>\n",
              "      <td>موثق</td>\n",
              "      <td></td>\n",
              "      <td>3</td>\n",
              "    </tr>\n",
              "    <tr>\n",
              "      <th>27</th>\n",
              "      <td>تغير</td>\n",
              "      <td></td>\n",
              "      <td>3</td>\n",
              "    </tr>\n",
              "    <tr>\n",
              "      <th>10</th>\n",
              "      <td>الخاص</td>\n",
              "      <td></td>\n",
              "      <td>3</td>\n",
              "    </tr>\n",
              "    <tr>\n",
              "      <th>57</th>\n",
              "      <td>عمل</td>\n",
              "      <td></td>\n",
              "      <td>3</td>\n",
              "    </tr>\n",
              "    <tr>\n",
              "      <th>45</th>\n",
              "      <td>سلام</td>\n",
              "      <td></td>\n",
              "      <td>2</td>\n",
              "    </tr>\n",
              "  </tbody>\n",
              "</table>\n",
              "</div>\n",
              "    <div class=\"colab-df-buttons\">\n",
              "\n",
              "  <div class=\"colab-df-container\">\n",
              "    <button class=\"colab-df-convert\" onclick=\"convertToInteractive('df-380b0c62-bc4d-43fe-8125-54ad23fd2c1b')\"\n",
              "            title=\"Convert this dataframe to an interactive table.\"\n",
              "            style=\"display:none;\">\n",
              "\n",
              "  <svg xmlns=\"http://www.w3.org/2000/svg\" height=\"24px\" viewBox=\"0 -960 960 960\">\n",
              "    <path d=\"M120-120v-720h720v720H120Zm60-500h600v-160H180v160Zm220 220h160v-160H400v160Zm0 220h160v-160H400v160ZM180-400h160v-160H180v160Zm440 0h160v-160H620v160ZM180-180h160v-160H180v160Zm440 0h160v-160H620v160Z\"/>\n",
              "  </svg>\n",
              "    </button>\n",
              "\n",
              "  <style>\n",
              "    .colab-df-container {\n",
              "      display:flex;\n",
              "      gap: 12px;\n",
              "    }\n",
              "\n",
              "    .colab-df-convert {\n",
              "      background-color: #E8F0FE;\n",
              "      border: none;\n",
              "      border-radius: 50%;\n",
              "      cursor: pointer;\n",
              "      display: none;\n",
              "      fill: #1967D2;\n",
              "      height: 32px;\n",
              "      padding: 0 0 0 0;\n",
              "      width: 32px;\n",
              "    }\n",
              "\n",
              "    .colab-df-convert:hover {\n",
              "      background-color: #E2EBFA;\n",
              "      box-shadow: 0px 1px 2px rgba(60, 64, 67, 0.3), 0px 1px 3px 1px rgba(60, 64, 67, 0.15);\n",
              "      fill: #174EA6;\n",
              "    }\n",
              "\n",
              "    .colab-df-buttons div {\n",
              "      margin-bottom: 4px;\n",
              "    }\n",
              "\n",
              "    [theme=dark] .colab-df-convert {\n",
              "      background-color: #3B4455;\n",
              "      fill: #D2E3FC;\n",
              "    }\n",
              "\n",
              "    [theme=dark] .colab-df-convert:hover {\n",
              "      background-color: #434B5C;\n",
              "      box-shadow: 0px 1px 3px 1px rgba(0, 0, 0, 0.15);\n",
              "      filter: drop-shadow(0px 1px 2px rgba(0, 0, 0, 0.3));\n",
              "      fill: #FFFFFF;\n",
              "    }\n",
              "  </style>\n",
              "\n",
              "    <script>\n",
              "      const buttonEl =\n",
              "        document.querySelector('#df-380b0c62-bc4d-43fe-8125-54ad23fd2c1b button.colab-df-convert');\n",
              "      buttonEl.style.display =\n",
              "        google.colab.kernel.accessAllowed ? 'block' : 'none';\n",
              "\n",
              "      async function convertToInteractive(key) {\n",
              "        const element = document.querySelector('#df-380b0c62-bc4d-43fe-8125-54ad23fd2c1b');\n",
              "        const dataTable =\n",
              "          await google.colab.kernel.invokeFunction('convertToInteractive',\n",
              "                                                    [key], {});\n",
              "        if (!dataTable) return;\n",
              "\n",
              "        const docLinkHtml = 'Like what you see? Visit the ' +\n",
              "          '<a target=\"_blank\" href=https://colab.research.google.com/notebooks/data_table.ipynb>data table notebook</a>'\n",
              "          + ' to learn more about interactive tables.';\n",
              "        element.innerHTML = '';\n",
              "        dataTable['output_type'] = 'display_data';\n",
              "        await google.colab.output.renderOutput(dataTable, element);\n",
              "        const docLink = document.createElement('div');\n",
              "        docLink.innerHTML = docLinkHtml;\n",
              "        element.appendChild(docLink);\n",
              "      }\n",
              "    </script>\n",
              "  </div>\n",
              "\n",
              "\n",
              "<div id=\"df-047c7745-1089-4a67-bf78-b8d0be47ea6f\">\n",
              "  <button class=\"colab-df-quickchart\" onclick=\"quickchart('df-047c7745-1089-4a67-bf78-b8d0be47ea6f')\"\n",
              "            title=\"Suggest charts\"\n",
              "            style=\"display:none;\">\n",
              "\n",
              "<svg xmlns=\"http://www.w3.org/2000/svg\" height=\"24px\"viewBox=\"0 0 24 24\"\n",
              "     width=\"24px\">\n",
              "    <g>\n",
              "        <path d=\"M19 3H5c-1.1 0-2 .9-2 2v14c0 1.1.9 2 2 2h14c1.1 0 2-.9 2-2V5c0-1.1-.9-2-2-2zM9 17H7v-7h2v7zm4 0h-2V7h2v10zm4 0h-2v-4h2v4z\"/>\n",
              "    </g>\n",
              "</svg>\n",
              "  </button>\n",
              "\n",
              "<style>\n",
              "  .colab-df-quickchart {\n",
              "      --bg-color: #E8F0FE;\n",
              "      --fill-color: #1967D2;\n",
              "      --hover-bg-color: #E2EBFA;\n",
              "      --hover-fill-color: #174EA6;\n",
              "      --disabled-fill-color: #AAA;\n",
              "      --disabled-bg-color: #DDD;\n",
              "  }\n",
              "\n",
              "  [theme=dark] .colab-df-quickchart {\n",
              "      --bg-color: #3B4455;\n",
              "      --fill-color: #D2E3FC;\n",
              "      --hover-bg-color: #434B5C;\n",
              "      --hover-fill-color: #FFFFFF;\n",
              "      --disabled-bg-color: #3B4455;\n",
              "      --disabled-fill-color: #666;\n",
              "  }\n",
              "\n",
              "  .colab-df-quickchart {\n",
              "    background-color: var(--bg-color);\n",
              "    border: none;\n",
              "    border-radius: 50%;\n",
              "    cursor: pointer;\n",
              "    display: none;\n",
              "    fill: var(--fill-color);\n",
              "    height: 32px;\n",
              "    padding: 0;\n",
              "    width: 32px;\n",
              "  }\n",
              "\n",
              "  .colab-df-quickchart:hover {\n",
              "    background-color: var(--hover-bg-color);\n",
              "    box-shadow: 0 1px 2px rgba(60, 64, 67, 0.3), 0 1px 3px 1px rgba(60, 64, 67, 0.15);\n",
              "    fill: var(--button-hover-fill-color);\n",
              "  }\n",
              "\n",
              "  .colab-df-quickchart-complete:disabled,\n",
              "  .colab-df-quickchart-complete:disabled:hover {\n",
              "    background-color: var(--disabled-bg-color);\n",
              "    fill: var(--disabled-fill-color);\n",
              "    box-shadow: none;\n",
              "  }\n",
              "\n",
              "  .colab-df-spinner {\n",
              "    border: 2px solid var(--fill-color);\n",
              "    border-color: transparent;\n",
              "    border-bottom-color: var(--fill-color);\n",
              "    animation:\n",
              "      spin 1s steps(1) infinite;\n",
              "  }\n",
              "\n",
              "  @keyframes spin {\n",
              "    0% {\n",
              "      border-color: transparent;\n",
              "      border-bottom-color: var(--fill-color);\n",
              "      border-left-color: var(--fill-color);\n",
              "    }\n",
              "    20% {\n",
              "      border-color: transparent;\n",
              "      border-left-color: var(--fill-color);\n",
              "      border-top-color: var(--fill-color);\n",
              "    }\n",
              "    30% {\n",
              "      border-color: transparent;\n",
              "      border-left-color: var(--fill-color);\n",
              "      border-top-color: var(--fill-color);\n",
              "      border-right-color: var(--fill-color);\n",
              "    }\n",
              "    40% {\n",
              "      border-color: transparent;\n",
              "      border-right-color: var(--fill-color);\n",
              "      border-top-color: var(--fill-color);\n",
              "    }\n",
              "    60% {\n",
              "      border-color: transparent;\n",
              "      border-right-color: var(--fill-color);\n",
              "    }\n",
              "    80% {\n",
              "      border-color: transparent;\n",
              "      border-right-color: var(--fill-color);\n",
              "      border-bottom-color: var(--fill-color);\n",
              "    }\n",
              "    90% {\n",
              "      border-color: transparent;\n",
              "      border-bottom-color: var(--fill-color);\n",
              "    }\n",
              "  }\n",
              "</style>\n",
              "\n",
              "  <script>\n",
              "    async function quickchart(key) {\n",
              "      const quickchartButtonEl =\n",
              "        document.querySelector('#' + key + ' button');\n",
              "      quickchartButtonEl.disabled = true;  // To prevent multiple clicks.\n",
              "      quickchartButtonEl.classList.add('colab-df-spinner');\n",
              "      try {\n",
              "        const charts = await google.colab.kernel.invokeFunction(\n",
              "            'suggestCharts', [key], {});\n",
              "      } catch (error) {\n",
              "        console.error('Error during call to suggestCharts:', error);\n",
              "      }\n",
              "      quickchartButtonEl.classList.remove('colab-df-spinner');\n",
              "      quickchartButtonEl.classList.add('colab-df-quickchart-complete');\n",
              "    }\n",
              "    (() => {\n",
              "      let quickchartButtonEl =\n",
              "        document.querySelector('#df-047c7745-1089-4a67-bf78-b8d0be47ea6f button');\n",
              "      quickchartButtonEl.style.display =\n",
              "        google.colab.kernel.accessAllowed ? 'block' : 'none';\n",
              "    })();\n",
              "  </script>\n",
              "</div>\n",
              "    </div>\n",
              "  </div>\n"
            ]
          },
          "metadata": {},
          "execution_count": 192
        }
      ]
    },
    {
      "cell_type": "code",
      "source": [
        "# most common nouns\n",
        "nouns = pos_df_counts[pos_df_counts.pos_tag == \"NOUN\"][0:10]\n",
        "nouns"
      ],
      "metadata": {
        "colab": {
          "base_uri": "https://localhost:8080/",
          "height": 53
        },
        "id": "VrPcJB6YbbTx",
        "outputId": "21c44cfc-67ac-4f48-ded6-c001ca8928f2"
      },
      "id": "VrPcJB6YbbTx",
      "execution_count": null,
      "outputs": [
        {
          "output_type": "execute_result",
          "data": {
            "text/plain": [
              "Empty DataFrame\n",
              "Columns: [token, pos_tag, counts]\n",
              "Index: []"
            ],
            "text/html": [
              "\n",
              "  <div id=\"df-e1ac2037-d591-4896-842e-4986ad21e6e2\" class=\"colab-df-container\">\n",
              "    <div>\n",
              "<style scoped>\n",
              "    .dataframe tbody tr th:only-of-type {\n",
              "        vertical-align: middle;\n",
              "    }\n",
              "\n",
              "    .dataframe tbody tr th {\n",
              "        vertical-align: top;\n",
              "    }\n",
              "\n",
              "    .dataframe thead th {\n",
              "        text-align: right;\n",
              "    }\n",
              "</style>\n",
              "<table border=\"1\" class=\"dataframe\">\n",
              "  <thead>\n",
              "    <tr style=\"text-align: right;\">\n",
              "      <th></th>\n",
              "      <th>token</th>\n",
              "      <th>pos_tag</th>\n",
              "      <th>counts</th>\n",
              "    </tr>\n",
              "  </thead>\n",
              "  <tbody>\n",
              "  </tbody>\n",
              "</table>\n",
              "</div>\n",
              "    <div class=\"colab-df-buttons\">\n",
              "\n",
              "  <div class=\"colab-df-container\">\n",
              "    <button class=\"colab-df-convert\" onclick=\"convertToInteractive('df-e1ac2037-d591-4896-842e-4986ad21e6e2')\"\n",
              "            title=\"Convert this dataframe to an interactive table.\"\n",
              "            style=\"display:none;\">\n",
              "\n",
              "  <svg xmlns=\"http://www.w3.org/2000/svg\" height=\"24px\" viewBox=\"0 -960 960 960\">\n",
              "    <path d=\"M120-120v-720h720v720H120Zm60-500h600v-160H180v160Zm220 220h160v-160H400v160Zm0 220h160v-160H400v160ZM180-400h160v-160H180v160Zm440 0h160v-160H620v160ZM180-180h160v-160H180v160Zm440 0h160v-160H620v160Z\"/>\n",
              "  </svg>\n",
              "    </button>\n",
              "\n",
              "  <style>\n",
              "    .colab-df-container {\n",
              "      display:flex;\n",
              "      gap: 12px;\n",
              "    }\n",
              "\n",
              "    .colab-df-convert {\n",
              "      background-color: #E8F0FE;\n",
              "      border: none;\n",
              "      border-radius: 50%;\n",
              "      cursor: pointer;\n",
              "      display: none;\n",
              "      fill: #1967D2;\n",
              "      height: 32px;\n",
              "      padding: 0 0 0 0;\n",
              "      width: 32px;\n",
              "    }\n",
              "\n",
              "    .colab-df-convert:hover {\n",
              "      background-color: #E2EBFA;\n",
              "      box-shadow: 0px 1px 2px rgba(60, 64, 67, 0.3), 0px 1px 3px 1px rgba(60, 64, 67, 0.15);\n",
              "      fill: #174EA6;\n",
              "    }\n",
              "\n",
              "    .colab-df-buttons div {\n",
              "      margin-bottom: 4px;\n",
              "    }\n",
              "\n",
              "    [theme=dark] .colab-df-convert {\n",
              "      background-color: #3B4455;\n",
              "      fill: #D2E3FC;\n",
              "    }\n",
              "\n",
              "    [theme=dark] .colab-df-convert:hover {\n",
              "      background-color: #434B5C;\n",
              "      box-shadow: 0px 1px 3px 1px rgba(0, 0, 0, 0.15);\n",
              "      filter: drop-shadow(0px 1px 2px rgba(0, 0, 0, 0.3));\n",
              "      fill: #FFFFFF;\n",
              "    }\n",
              "  </style>\n",
              "\n",
              "    <script>\n",
              "      const buttonEl =\n",
              "        document.querySelector('#df-e1ac2037-d591-4896-842e-4986ad21e6e2 button.colab-df-convert');\n",
              "      buttonEl.style.display =\n",
              "        google.colab.kernel.accessAllowed ? 'block' : 'none';\n",
              "\n",
              "      async function convertToInteractive(key) {\n",
              "        const element = document.querySelector('#df-e1ac2037-d591-4896-842e-4986ad21e6e2');\n",
              "        const dataTable =\n",
              "          await google.colab.kernel.invokeFunction('convertToInteractive',\n",
              "                                                    [key], {});\n",
              "        if (!dataTable) return;\n",
              "\n",
              "        const docLinkHtml = 'Like what you see? Visit the ' +\n",
              "          '<a target=\"_blank\" href=https://colab.research.google.com/notebooks/data_table.ipynb>data table notebook</a>'\n",
              "          + ' to learn more about interactive tables.';\n",
              "        element.innerHTML = '';\n",
              "        dataTable['output_type'] = 'display_data';\n",
              "        await google.colab.output.renderOutput(dataTable, element);\n",
              "        const docLink = document.createElement('div');\n",
              "        docLink.innerHTML = docLinkHtml;\n",
              "        element.appendChild(docLink);\n",
              "      }\n",
              "    </script>\n",
              "  </div>\n",
              "\n",
              "    </div>\n",
              "  </div>\n"
            ]
          },
          "metadata": {},
          "execution_count": 193
        }
      ]
    },
    {
      "cell_type": "code",
      "source": [
        "# most common nouns\n",
        "nouns = pos_df_counts[pos_df_counts.pos_tag == \"VERB\"][0:10]\n",
        "nouns"
      ],
      "metadata": {
        "colab": {
          "base_uri": "https://localhost:8080/",
          "height": 53
        },
        "id": "acvwP8hMbcpX",
        "outputId": "350b9a1e-9b8d-4768-d6cc-608d377e0480"
      },
      "id": "acvwP8hMbcpX",
      "execution_count": null,
      "outputs": [
        {
          "output_type": "execute_result",
          "data": {
            "text/plain": [
              "Empty DataFrame\n",
              "Columns: [token, pos_tag, counts]\n",
              "Index: []"
            ],
            "text/html": [
              "\n",
              "  <div id=\"df-ec1d956a-c6fe-4577-8ae4-25df3a04272b\" class=\"colab-df-container\">\n",
              "    <div>\n",
              "<style scoped>\n",
              "    .dataframe tbody tr th:only-of-type {\n",
              "        vertical-align: middle;\n",
              "    }\n",
              "\n",
              "    .dataframe tbody tr th {\n",
              "        vertical-align: top;\n",
              "    }\n",
              "\n",
              "    .dataframe thead th {\n",
              "        text-align: right;\n",
              "    }\n",
              "</style>\n",
              "<table border=\"1\" class=\"dataframe\">\n",
              "  <thead>\n",
              "    <tr style=\"text-align: right;\">\n",
              "      <th></th>\n",
              "      <th>token</th>\n",
              "      <th>pos_tag</th>\n",
              "      <th>counts</th>\n",
              "    </tr>\n",
              "  </thead>\n",
              "  <tbody>\n",
              "  </tbody>\n",
              "</table>\n",
              "</div>\n",
              "    <div class=\"colab-df-buttons\">\n",
              "\n",
              "  <div class=\"colab-df-container\">\n",
              "    <button class=\"colab-df-convert\" onclick=\"convertToInteractive('df-ec1d956a-c6fe-4577-8ae4-25df3a04272b')\"\n",
              "            title=\"Convert this dataframe to an interactive table.\"\n",
              "            style=\"display:none;\">\n",
              "\n",
              "  <svg xmlns=\"http://www.w3.org/2000/svg\" height=\"24px\" viewBox=\"0 -960 960 960\">\n",
              "    <path d=\"M120-120v-720h720v720H120Zm60-500h600v-160H180v160Zm220 220h160v-160H400v160Zm0 220h160v-160H400v160ZM180-400h160v-160H180v160Zm440 0h160v-160H620v160ZM180-180h160v-160H180v160Zm440 0h160v-160H620v160Z\"/>\n",
              "  </svg>\n",
              "    </button>\n",
              "\n",
              "  <style>\n",
              "    .colab-df-container {\n",
              "      display:flex;\n",
              "      gap: 12px;\n",
              "    }\n",
              "\n",
              "    .colab-df-convert {\n",
              "      background-color: #E8F0FE;\n",
              "      border: none;\n",
              "      border-radius: 50%;\n",
              "      cursor: pointer;\n",
              "      display: none;\n",
              "      fill: #1967D2;\n",
              "      height: 32px;\n",
              "      padding: 0 0 0 0;\n",
              "      width: 32px;\n",
              "    }\n",
              "\n",
              "    .colab-df-convert:hover {\n",
              "      background-color: #E2EBFA;\n",
              "      box-shadow: 0px 1px 2px rgba(60, 64, 67, 0.3), 0px 1px 3px 1px rgba(60, 64, 67, 0.15);\n",
              "      fill: #174EA6;\n",
              "    }\n",
              "\n",
              "    .colab-df-buttons div {\n",
              "      margin-bottom: 4px;\n",
              "    }\n",
              "\n",
              "    [theme=dark] .colab-df-convert {\n",
              "      background-color: #3B4455;\n",
              "      fill: #D2E3FC;\n",
              "    }\n",
              "\n",
              "    [theme=dark] .colab-df-convert:hover {\n",
              "      background-color: #434B5C;\n",
              "      box-shadow: 0px 1px 3px 1px rgba(0, 0, 0, 0.15);\n",
              "      filter: drop-shadow(0px 1px 2px rgba(0, 0, 0, 0.3));\n",
              "      fill: #FFFFFF;\n",
              "    }\n",
              "  </style>\n",
              "\n",
              "    <script>\n",
              "      const buttonEl =\n",
              "        document.querySelector('#df-ec1d956a-c6fe-4577-8ae4-25df3a04272b button.colab-df-convert');\n",
              "      buttonEl.style.display =\n",
              "        google.colab.kernel.accessAllowed ? 'block' : 'none';\n",
              "\n",
              "      async function convertToInteractive(key) {\n",
              "        const element = document.querySelector('#df-ec1d956a-c6fe-4577-8ae4-25df3a04272b');\n",
              "        const dataTable =\n",
              "          await google.colab.kernel.invokeFunction('convertToInteractive',\n",
              "                                                    [key], {});\n",
              "        if (!dataTable) return;\n",
              "\n",
              "        const docLinkHtml = 'Like what you see? Visit the ' +\n",
              "          '<a target=\"_blank\" href=https://colab.research.google.com/notebooks/data_table.ipynb>data table notebook</a>'\n",
              "          + ' to learn more about interactive tables.';\n",
              "        element.innerHTML = '';\n",
              "        dataTable['output_type'] = 'display_data';\n",
              "        await google.colab.output.renderOutput(dataTable, element);\n",
              "        const docLink = document.createElement('div');\n",
              "        docLink.innerHTML = docLinkHtml;\n",
              "        element.appendChild(docLink);\n",
              "      }\n",
              "    </script>\n",
              "  </div>\n",
              "\n",
              "    </div>\n",
              "  </div>\n"
            ]
          },
          "metadata": {},
          "execution_count": 194
        }
      ]
    },
    {
      "cell_type": "markdown",
      "source": [
        "NER"
      ],
      "metadata": {
        "id": "3cl5rxkTbYbM"
      },
      "id": "3cl5rxkTbYbM"
    },
    {
      "cell_type": "code",
      "source": [
        "# extract the tokens and entity tags into a dataframe\n",
        "ner_df = pd.DataFrame(columns=['token', 'ner_tag'])\n",
        "\n",
        "for token in spacy_doc.ents:\n",
        "    if pd.isna(token.label_) is False:\n",
        "        ner_df = ner_df.append({'token': token.text,\n",
        "                                'ner_tag': token.label_}, ignore_index=True)\n",
        "\n",
        "ner_df.head()"
      ],
      "metadata": {
        "colab": {
          "base_uri": "https://localhost:8080/",
          "height": 53
        },
        "id": "50NnX1fwbi3f",
        "outputId": "66a6d60a-0b9f-4104-e8ac-128ae63e7d57"
      },
      "id": "50NnX1fwbi3f",
      "execution_count": null,
      "outputs": [
        {
          "output_type": "execute_result",
          "data": {
            "text/plain": [
              "Empty DataFrame\n",
              "Columns: [token, ner_tag]\n",
              "Index: []"
            ],
            "text/html": [
              "\n",
              "  <div id=\"df-981b0206-4770-4583-bc22-0adecd706c5b\" class=\"colab-df-container\">\n",
              "    <div>\n",
              "<style scoped>\n",
              "    .dataframe tbody tr th:only-of-type {\n",
              "        vertical-align: middle;\n",
              "    }\n",
              "\n",
              "    .dataframe tbody tr th {\n",
              "        vertical-align: top;\n",
              "    }\n",
              "\n",
              "    .dataframe thead th {\n",
              "        text-align: right;\n",
              "    }\n",
              "</style>\n",
              "<table border=\"1\" class=\"dataframe\">\n",
              "  <thead>\n",
              "    <tr style=\"text-align: right;\">\n",
              "      <th></th>\n",
              "      <th>token</th>\n",
              "      <th>ner_tag</th>\n",
              "    </tr>\n",
              "  </thead>\n",
              "  <tbody>\n",
              "  </tbody>\n",
              "</table>\n",
              "</div>\n",
              "    <div class=\"colab-df-buttons\">\n",
              "\n",
              "  <div class=\"colab-df-container\">\n",
              "    <button class=\"colab-df-convert\" onclick=\"convertToInteractive('df-981b0206-4770-4583-bc22-0adecd706c5b')\"\n",
              "            title=\"Convert this dataframe to an interactive table.\"\n",
              "            style=\"display:none;\">\n",
              "\n",
              "  <svg xmlns=\"http://www.w3.org/2000/svg\" height=\"24px\" viewBox=\"0 -960 960 960\">\n",
              "    <path d=\"M120-120v-720h720v720H120Zm60-500h600v-160H180v160Zm220 220h160v-160H400v160Zm0 220h160v-160H400v160ZM180-400h160v-160H180v160Zm440 0h160v-160H620v160ZM180-180h160v-160H180v160Zm440 0h160v-160H620v160Z\"/>\n",
              "  </svg>\n",
              "    </button>\n",
              "\n",
              "  <style>\n",
              "    .colab-df-container {\n",
              "      display:flex;\n",
              "      gap: 12px;\n",
              "    }\n",
              "\n",
              "    .colab-df-convert {\n",
              "      background-color: #E8F0FE;\n",
              "      border: none;\n",
              "      border-radius: 50%;\n",
              "      cursor: pointer;\n",
              "      display: none;\n",
              "      fill: #1967D2;\n",
              "      height: 32px;\n",
              "      padding: 0 0 0 0;\n",
              "      width: 32px;\n",
              "    }\n",
              "\n",
              "    .colab-df-convert:hover {\n",
              "      background-color: #E2EBFA;\n",
              "      box-shadow: 0px 1px 2px rgba(60, 64, 67, 0.3), 0px 1px 3px 1px rgba(60, 64, 67, 0.15);\n",
              "      fill: #174EA6;\n",
              "    }\n",
              "\n",
              "    .colab-df-buttons div {\n",
              "      margin-bottom: 4px;\n",
              "    }\n",
              "\n",
              "    [theme=dark] .colab-df-convert {\n",
              "      background-color: #3B4455;\n",
              "      fill: #D2E3FC;\n",
              "    }\n",
              "\n",
              "    [theme=dark] .colab-df-convert:hover {\n",
              "      background-color: #434B5C;\n",
              "      box-shadow: 0px 1px 3px 1px rgba(0, 0, 0, 0.15);\n",
              "      filter: drop-shadow(0px 1px 2px rgba(0, 0, 0, 0.3));\n",
              "      fill: #FFFFFF;\n",
              "    }\n",
              "  </style>\n",
              "\n",
              "    <script>\n",
              "      const buttonEl =\n",
              "        document.querySelector('#df-981b0206-4770-4583-bc22-0adecd706c5b button.colab-df-convert');\n",
              "      buttonEl.style.display =\n",
              "        google.colab.kernel.accessAllowed ? 'block' : 'none';\n",
              "\n",
              "      async function convertToInteractive(key) {\n",
              "        const element = document.querySelector('#df-981b0206-4770-4583-bc22-0adecd706c5b');\n",
              "        const dataTable =\n",
              "          await google.colab.kernel.invokeFunction('convertToInteractive',\n",
              "                                                    [key], {});\n",
              "        if (!dataTable) return;\n",
              "\n",
              "        const docLinkHtml = 'Like what you see? Visit the ' +\n",
              "          '<a target=\"_blank\" href=https://colab.research.google.com/notebooks/data_table.ipynb>data table notebook</a>'\n",
              "          + ' to learn more about interactive tables.';\n",
              "        element.innerHTML = '';\n",
              "        dataTable['output_type'] = 'display_data';\n",
              "        await google.colab.output.renderOutput(dataTable, element);\n",
              "        const docLink = document.createElement('div');\n",
              "        docLink.innerHTML = docLinkHtml;\n",
              "        element.appendChild(docLink);\n",
              "      }\n",
              "    </script>\n",
              "  </div>\n",
              "\n",
              "    </div>\n",
              "  </div>\n"
            ]
          },
          "metadata": {},
          "execution_count": 195
        }
      ]
    },
    {
      "cell_type": "code",
      "source": [
        "# token frequency count\n",
        "ner_df_counts = ner_df.groupby(['token','ner_tag']).size().reset_index(name='counts').sort_values(by='counts', ascending=False)\n",
        "ner_df_counts.head(10)"
      ],
      "metadata": {
        "colab": {
          "base_uri": "https://localhost:8080/",
          "height": 53
        },
        "id": "Oe5mhWc2bjZD",
        "outputId": "23450987-b629-4916-da12-744276ec6583"
      },
      "id": "Oe5mhWc2bjZD",
      "execution_count": null,
      "outputs": [
        {
          "output_type": "execute_result",
          "data": {
            "text/plain": [
              "Empty DataFrame\n",
              "Columns: [token, ner_tag, counts]\n",
              "Index: []"
            ],
            "text/html": [
              "\n",
              "  <div id=\"df-c5c8c97a-8d88-43fd-abcf-4a677a821fc6\" class=\"colab-df-container\">\n",
              "    <div>\n",
              "<style scoped>\n",
              "    .dataframe tbody tr th:only-of-type {\n",
              "        vertical-align: middle;\n",
              "    }\n",
              "\n",
              "    .dataframe tbody tr th {\n",
              "        vertical-align: top;\n",
              "    }\n",
              "\n",
              "    .dataframe thead th {\n",
              "        text-align: right;\n",
              "    }\n",
              "</style>\n",
              "<table border=\"1\" class=\"dataframe\">\n",
              "  <thead>\n",
              "    <tr style=\"text-align: right;\">\n",
              "      <th></th>\n",
              "      <th>token</th>\n",
              "      <th>ner_tag</th>\n",
              "      <th>counts</th>\n",
              "    </tr>\n",
              "  </thead>\n",
              "  <tbody>\n",
              "  </tbody>\n",
              "</table>\n",
              "</div>\n",
              "    <div class=\"colab-df-buttons\">\n",
              "\n",
              "  <div class=\"colab-df-container\">\n",
              "    <button class=\"colab-df-convert\" onclick=\"convertToInteractive('df-c5c8c97a-8d88-43fd-abcf-4a677a821fc6')\"\n",
              "            title=\"Convert this dataframe to an interactive table.\"\n",
              "            style=\"display:none;\">\n",
              "\n",
              "  <svg xmlns=\"http://www.w3.org/2000/svg\" height=\"24px\" viewBox=\"0 -960 960 960\">\n",
              "    <path d=\"M120-120v-720h720v720H120Zm60-500h600v-160H180v160Zm220 220h160v-160H400v160Zm0 220h160v-160H400v160ZM180-400h160v-160H180v160Zm440 0h160v-160H620v160ZM180-180h160v-160H180v160Zm440 0h160v-160H620v160Z\"/>\n",
              "  </svg>\n",
              "    </button>\n",
              "\n",
              "  <style>\n",
              "    .colab-df-container {\n",
              "      display:flex;\n",
              "      gap: 12px;\n",
              "    }\n",
              "\n",
              "    .colab-df-convert {\n",
              "      background-color: #E8F0FE;\n",
              "      border: none;\n",
              "      border-radius: 50%;\n",
              "      cursor: pointer;\n",
              "      display: none;\n",
              "      fill: #1967D2;\n",
              "      height: 32px;\n",
              "      padding: 0 0 0 0;\n",
              "      width: 32px;\n",
              "    }\n",
              "\n",
              "    .colab-df-convert:hover {\n",
              "      background-color: #E2EBFA;\n",
              "      box-shadow: 0px 1px 2px rgba(60, 64, 67, 0.3), 0px 1px 3px 1px rgba(60, 64, 67, 0.15);\n",
              "      fill: #174EA6;\n",
              "    }\n",
              "\n",
              "    .colab-df-buttons div {\n",
              "      margin-bottom: 4px;\n",
              "    }\n",
              "\n",
              "    [theme=dark] .colab-df-convert {\n",
              "      background-color: #3B4455;\n",
              "      fill: #D2E3FC;\n",
              "    }\n",
              "\n",
              "    [theme=dark] .colab-df-convert:hover {\n",
              "      background-color: #434B5C;\n",
              "      box-shadow: 0px 1px 3px 1px rgba(0, 0, 0, 0.15);\n",
              "      filter: drop-shadow(0px 1px 2px rgba(0, 0, 0, 0.3));\n",
              "      fill: #FFFFFF;\n",
              "    }\n",
              "  </style>\n",
              "\n",
              "    <script>\n",
              "      const buttonEl =\n",
              "        document.querySelector('#df-c5c8c97a-8d88-43fd-abcf-4a677a821fc6 button.colab-df-convert');\n",
              "      buttonEl.style.display =\n",
              "        google.colab.kernel.accessAllowed ? 'block' : 'none';\n",
              "\n",
              "      async function convertToInteractive(key) {\n",
              "        const element = document.querySelector('#df-c5c8c97a-8d88-43fd-abcf-4a677a821fc6');\n",
              "        const dataTable =\n",
              "          await google.colab.kernel.invokeFunction('convertToInteractive',\n",
              "                                                    [key], {});\n",
              "        if (!dataTable) return;\n",
              "\n",
              "        const docLinkHtml = 'Like what you see? Visit the ' +\n",
              "          '<a target=\"_blank\" href=https://colab.research.google.com/notebooks/data_table.ipynb>data table notebook</a>'\n",
              "          + ' to learn more about interactive tables.';\n",
              "        element.innerHTML = '';\n",
              "        dataTable['output_type'] = 'display_data';\n",
              "        await google.colab.output.renderOutput(dataTable, element);\n",
              "        const docLink = document.createElement('div');\n",
              "        docLink.innerHTML = docLinkHtml;\n",
              "        element.appendChild(docLink);\n",
              "      }\n",
              "    </script>\n",
              "  </div>\n",
              "\n",
              "    </div>\n",
              "  </div>\n"
            ]
          },
          "metadata": {},
          "execution_count": 196
        }
      ]
    },
    {
      "cell_type": "code",
      "source": [
        "# most common people\n",
        "people = ner_df_counts[ner_df_counts.ner_tag == \"PERSON\"][0:10]\n",
        "people"
      ],
      "metadata": {
        "colab": {
          "base_uri": "https://localhost:8080/",
          "height": 53
        },
        "id": "QioHUtvcbp4i",
        "outputId": "1b78307b-e0cb-4ee0-b68a-6ca35b198a32"
      },
      "id": "QioHUtvcbp4i",
      "execution_count": null,
      "outputs": [
        {
          "output_type": "execute_result",
          "data": {
            "text/plain": [
              "Empty DataFrame\n",
              "Columns: [token, ner_tag, counts]\n",
              "Index: []"
            ],
            "text/html": [
              "\n",
              "  <div id=\"df-04440155-7b54-48a3-ab1d-8da47df2aefd\" class=\"colab-df-container\">\n",
              "    <div>\n",
              "<style scoped>\n",
              "    .dataframe tbody tr th:only-of-type {\n",
              "        vertical-align: middle;\n",
              "    }\n",
              "\n",
              "    .dataframe tbody tr th {\n",
              "        vertical-align: top;\n",
              "    }\n",
              "\n",
              "    .dataframe thead th {\n",
              "        text-align: right;\n",
              "    }\n",
              "</style>\n",
              "<table border=\"1\" class=\"dataframe\">\n",
              "  <thead>\n",
              "    <tr style=\"text-align: right;\">\n",
              "      <th></th>\n",
              "      <th>token</th>\n",
              "      <th>ner_tag</th>\n",
              "      <th>counts</th>\n",
              "    </tr>\n",
              "  </thead>\n",
              "  <tbody>\n",
              "  </tbody>\n",
              "</table>\n",
              "</div>\n",
              "    <div class=\"colab-df-buttons\">\n",
              "\n",
              "  <div class=\"colab-df-container\">\n",
              "    <button class=\"colab-df-convert\" onclick=\"convertToInteractive('df-04440155-7b54-48a3-ab1d-8da47df2aefd')\"\n",
              "            title=\"Convert this dataframe to an interactive table.\"\n",
              "            style=\"display:none;\">\n",
              "\n",
              "  <svg xmlns=\"http://www.w3.org/2000/svg\" height=\"24px\" viewBox=\"0 -960 960 960\">\n",
              "    <path d=\"M120-120v-720h720v720H120Zm60-500h600v-160H180v160Zm220 220h160v-160H400v160Zm0 220h160v-160H400v160ZM180-400h160v-160H180v160Zm440 0h160v-160H620v160ZM180-180h160v-160H180v160Zm440 0h160v-160H620v160Z\"/>\n",
              "  </svg>\n",
              "    </button>\n",
              "\n",
              "  <style>\n",
              "    .colab-df-container {\n",
              "      display:flex;\n",
              "      gap: 12px;\n",
              "    }\n",
              "\n",
              "    .colab-df-convert {\n",
              "      background-color: #E8F0FE;\n",
              "      border: none;\n",
              "      border-radius: 50%;\n",
              "      cursor: pointer;\n",
              "      display: none;\n",
              "      fill: #1967D2;\n",
              "      height: 32px;\n",
              "      padding: 0 0 0 0;\n",
              "      width: 32px;\n",
              "    }\n",
              "\n",
              "    .colab-df-convert:hover {\n",
              "      background-color: #E2EBFA;\n",
              "      box-shadow: 0px 1px 2px rgba(60, 64, 67, 0.3), 0px 1px 3px 1px rgba(60, 64, 67, 0.15);\n",
              "      fill: #174EA6;\n",
              "    }\n",
              "\n",
              "    .colab-df-buttons div {\n",
              "      margin-bottom: 4px;\n",
              "    }\n",
              "\n",
              "    [theme=dark] .colab-df-convert {\n",
              "      background-color: #3B4455;\n",
              "      fill: #D2E3FC;\n",
              "    }\n",
              "\n",
              "    [theme=dark] .colab-df-convert:hover {\n",
              "      background-color: #434B5C;\n",
              "      box-shadow: 0px 1px 3px 1px rgba(0, 0, 0, 0.15);\n",
              "      filter: drop-shadow(0px 1px 2px rgba(0, 0, 0, 0.3));\n",
              "      fill: #FFFFFF;\n",
              "    }\n",
              "  </style>\n",
              "\n",
              "    <script>\n",
              "      const buttonEl =\n",
              "        document.querySelector('#df-04440155-7b54-48a3-ab1d-8da47df2aefd button.colab-df-convert');\n",
              "      buttonEl.style.display =\n",
              "        google.colab.kernel.accessAllowed ? 'block' : 'none';\n",
              "\n",
              "      async function convertToInteractive(key) {\n",
              "        const element = document.querySelector('#df-04440155-7b54-48a3-ab1d-8da47df2aefd');\n",
              "        const dataTable =\n",
              "          await google.colab.kernel.invokeFunction('convertToInteractive',\n",
              "                                                    [key], {});\n",
              "        if (!dataTable) return;\n",
              "\n",
              "        const docLinkHtml = 'Like what you see? Visit the ' +\n",
              "          '<a target=\"_blank\" href=https://colab.research.google.com/notebooks/data_table.ipynb>data table notebook</a>'\n",
              "          + ' to learn more about interactive tables.';\n",
              "        element.innerHTML = '';\n",
              "        dataTable['output_type'] = 'display_data';\n",
              "        await google.colab.output.renderOutput(dataTable, element);\n",
              "        const docLink = document.createElement('div');\n",
              "        docLink.innerHTML = docLinkHtml;\n",
              "        element.appendChild(docLink);\n",
              "      }\n",
              "    </script>\n",
              "  </div>\n",
              "\n",
              "    </div>\n",
              "  </div>\n"
            ]
          },
          "metadata": {},
          "execution_count": 197
        }
      ]
    },
    {
      "cell_type": "markdown",
      "source": [
        "##  Text Vectorization"
      ],
      "metadata": {
        "id": "iHoheiKo2YlD"
      },
      "id": "iHoheiKo2YlD"
    },
    {
      "cell_type": "markdown",
      "id": "27c9cf2e",
      "metadata": {
        "id": "27c9cf2e"
      },
      "source": [
        "### 1- Bag of words:\n",
        "\n",
        "Create a dictionary from ‘processed_docs’ containing the number of times a word appears in the training set."
      ]
    },
    {
      "cell_type": "code",
      "execution_count": null,
      "id": "b8051acb",
      "metadata": {
        "id": "b8051acb",
        "colab": {
          "base_uri": "https://localhost:8080/"
        },
        "outputId": "d0a40441-7fff-4587-c508-2e70c9f53adb"
      },
      "outputs": [
        {
          "output_type": "stream",
          "name": "stderr",
          "text": [
            "/usr/local/lib/python3.10/dist-packages/ipykernel/ipkernel.py:283: DeprecationWarning: `should_run_async` will not call `transform_cell` automatically in the future. Please pass the result to `transformed_cell` argument and any exception that happen during thetransform in `preprocessing_exc_tuple` in IPython 7.17 and above.\n",
            "  and should_run_async(code)\n"
          ]
        }
      ],
      "source": [
        "dictionary = gensim.corpora.Dictionary(processed_docs)"
      ]
    },
    {
      "cell_type": "code",
      "execution_count": null,
      "id": "6572cd67",
      "metadata": {
        "id": "6572cd67",
        "colab": {
          "base_uri": "https://localhost:8080/"
        },
        "outputId": "b3bebe32-4774-4b0b-83d5-eb7d97cd608a"
      },
      "outputs": [
        {
          "output_type": "stream",
          "name": "stdout",
          "text": [
            "Dictionary<694 unique tokens: ['الافاده', 'تغير', 'توقف', 'حال', 'دراس']...>\n"
          ]
        },
        {
          "output_type": "stream",
          "name": "stderr",
          "text": [
            "/usr/local/lib/python3.10/dist-packages/ipykernel/ipkernel.py:283: DeprecationWarning: `should_run_async` will not call `transform_cell` automatically in the future. Please pass the result to `transformed_cell` argument and any exception that happen during thetransform in `preprocessing_exc_tuple` in IPython 7.17 and above.\n",
            "  and should_run_async(code)\n"
          ]
        }
      ],
      "source": [
        "print(dictionary)"
      ]
    },
    {
      "cell_type": "code",
      "execution_count": null,
      "id": "d04db6c0",
      "metadata": {
        "id": "d04db6c0",
        "colab": {
          "base_uri": "https://localhost:8080/"
        },
        "outputId": "b8cdacb9-e4b1-489f-a344-b4539ab11653"
      },
      "outputs": [
        {
          "output_type": "stream",
          "name": "stdout",
          "text": [
            "الافاده 0\n",
            "تغير 1\n",
            "توقف 2\n",
            "حال 3\n",
            "دراس 4\n",
            "رجاء 5\n",
            "سلام 6\n",
            "شكر 7\n",
            "طلب 8\n",
            "عليكملدي 9\n",
            "فن 10\n"
          ]
        },
        {
          "output_type": "stream",
          "name": "stderr",
          "text": [
            "/usr/local/lib/python3.10/dist-packages/ipykernel/ipkernel.py:283: DeprecationWarning: `should_run_async` will not call `transform_cell` automatically in the future. Please pass the result to `transformed_cell` argument and any exception that happen during thetransform in `preprocessing_exc_tuple` in IPython 7.17 and above.\n",
            "  and should_run_async(code)\n"
          ]
        }
      ],
      "source": [
        "count = 0\n",
        "for k, v in dictionary.iteritems():\n",
        "    print(v, k)\n",
        "    count += 1\n",
        "    if count > 10:\n",
        "        break"
      ]
    },
    {
      "cell_type": "code",
      "execution_count": null,
      "id": "719a3c9a",
      "metadata": {
        "id": "719a3c9a",
        "colab": {
          "base_uri": "https://localhost:8080/"
        },
        "outputId": "e78fd114-5610-4d57-a445-69d9955cf05c"
      },
      "outputs": [
        {
          "output_type": "stream",
          "name": "stderr",
          "text": [
            "/usr/local/lib/python3.10/dist-packages/ipykernel/ipkernel.py:283: DeprecationWarning: `should_run_async` will not call `transform_cell` automatically in the future. Please pass the result to `transformed_cell` argument and any exception that happen during thetransform in `preprocessing_exc_tuple` in IPython 7.17 and above.\n",
            "  and should_run_async(code)\n"
          ]
        },
        {
          "output_type": "execute_result",
          "data": {
            "text/plain": [
              "[(11, 1), (12, 1), (13, 1), (14, 1)]"
            ]
          },
          "metadata": {},
          "execution_count": 26
        }
      ],
      "source": [
        "bow_corpus = [dictionary.doc2bow(doc) for doc in processed_docs]\n",
        "\n",
        "bow_corpus[1]"
      ]
    },
    {
      "cell_type": "code",
      "execution_count": null,
      "id": "ca98a1ac",
      "metadata": {
        "id": "ca98a1ac",
        "colab": {
          "base_uri": "https://localhost:8080/"
        },
        "outputId": "084924f6-6698-4199-f9e6-3241ea9b47c3"
      },
      "outputs": [
        {
          "output_type": "stream",
          "name": "stderr",
          "text": [
            "/usr/local/lib/python3.10/dist-packages/ipykernel/ipkernel.py:283: DeprecationWarning: `should_run_async` will not call `transform_cell` automatically in the future. Please pass the result to `transformed_cell` argument and any exception that happen during thetransform in `preprocessing_exc_tuple` in IPython 7.17 and above.\n",
            "  and should_run_async(code)\n"
          ]
        },
        {
          "output_type": "execute_result",
          "data": {
            "text/plain": [
              "list"
            ]
          },
          "metadata": {},
          "execution_count": 27
        }
      ],
      "source": [
        "type(bow_corpus)"
      ]
    },
    {
      "cell_type": "code",
      "execution_count": null,
      "id": "524f3342",
      "metadata": {
        "id": "524f3342",
        "colab": {
          "base_uri": "https://localhost:8080/"
        },
        "outputId": "307b0768-883d-4132-d217-7bb4c9eafd5c"
      },
      "outputs": [
        {
          "output_type": "stream",
          "name": "stdout",
          "text": [
            "Word 11 (\"استطاعة\") appears 1 time.\n",
            "Word 12 (\"باضافة\") appears 1 time.\n",
            "Word 13 (\"عقد\") appears 1 time.\n",
            "Word 14 (\"موثق\") appears 1 time.\n"
          ]
        },
        {
          "output_type": "stream",
          "name": "stderr",
          "text": [
            "/usr/local/lib/python3.10/dist-packages/ipykernel/ipkernel.py:283: DeprecationWarning: `should_run_async` will not call `transform_cell` automatically in the future. Please pass the result to `transformed_cell` argument and any exception that happen during thetransform in `preprocessing_exc_tuple` in IPython 7.17 and above.\n",
            "  and should_run_async(code)\n"
          ]
        }
      ],
      "source": [
        "# SAmple of Topic 01\n",
        "bow_doc_01 = bow_corpus[1]\n",
        "for i in range(len(bow_doc_01)):\n",
        "    print(\"Word {} (\\\"{}\\\") appears {} time.\".format(bow_doc_01[i][0],\n",
        "                                                     dictionary[bow_doc_01[i][0]],\n",
        "                                                     bow_doc_01[i][1]))"
      ]
    },
    {
      "cell_type": "markdown",
      "id": "63694388",
      "metadata": {
        "id": "63694388"
      },
      "source": [
        "- Read More about  [BAG OF WORDS](https://www.tutorialspoint.com/gensim/gensim_creating_a_bag_of_words_corpus.htm)"
      ]
    },
    {
      "cell_type": "markdown",
      "id": "6dfcb698",
      "metadata": {
        "id": "6dfcb698"
      },
      "source": [
        "### 2- TF-IDF:\n",
        "\n"
      ]
    },
    {
      "cell_type": "code",
      "execution_count": null,
      "id": "394e8064",
      "metadata": {
        "id": "394e8064",
        "colab": {
          "base_uri": "https://localhost:8080/"
        },
        "outputId": "1b384c39-da48-4bce-8f14-fe8a50e60e70"
      },
      "outputs": [
        {
          "output_type": "stream",
          "name": "stderr",
          "text": [
            "/usr/local/lib/python3.10/dist-packages/ipykernel/ipkernel.py:283: DeprecationWarning: `should_run_async` will not call `transform_cell` automatically in the future. Please pass the result to `transformed_cell` argument and any exception that happen during thetransform in `preprocessing_exc_tuple` in IPython 7.17 and above.\n",
            "  and should_run_async(code)\n"
          ]
        }
      ],
      "source": [
        "tfidf = gensim.models.TfidfModel(bow_corpus)"
      ]
    },
    {
      "cell_type": "code",
      "execution_count": null,
      "id": "1eff644e",
      "metadata": {
        "id": "1eff644e",
        "colab": {
          "base_uri": "https://localhost:8080/"
        },
        "outputId": "5914ce55-d3a9-44a3-e5e0-7da10ff94acc"
      },
      "outputs": [
        {
          "output_type": "stream",
          "name": "stderr",
          "text": [
            "/usr/local/lib/python3.10/dist-packages/ipykernel/ipkernel.py:283: DeprecationWarning: `should_run_async` will not call `transform_cell` automatically in the future. Please pass the result to `transformed_cell` argument and any exception that happen during thetransform in `preprocessing_exc_tuple` in IPython 7.17 and above.\n",
            "  and should_run_async(code)\n"
          ]
        }
      ],
      "source": [
        "corpus_tfidf = tfidf[bow_corpus]"
      ]
    },
    {
      "cell_type": "code",
      "execution_count": null,
      "id": "ae3e6956",
      "metadata": {
        "id": "ae3e6956",
        "colab": {
          "base_uri": "https://localhost:8080/"
        },
        "outputId": "36ce8f87-cf7d-4ca2-9a01-3c883d391506"
      },
      "outputs": [
        {
          "output_type": "stream",
          "name": "stderr",
          "text": [
            "/usr/local/lib/python3.10/dist-packages/ipykernel/ipkernel.py:283: DeprecationWarning: `should_run_async` will not call `transform_cell` automatically in the future. Please pass the result to `transformed_cell` argument and any exception that happen during thetransform in `preprocessing_exc_tuple` in IPython 7.17 and above.\n",
            "  and should_run_async(code)\n"
          ]
        },
        {
          "output_type": "execute_result",
          "data": {
            "text/plain": [
              "gensim.interfaces.TransformedCorpus"
            ]
          },
          "metadata": {},
          "execution_count": 31
        }
      ],
      "source": [
        "type(corpus_tfidf)"
      ]
    },
    {
      "cell_type": "code",
      "execution_count": null,
      "id": "8d0d5092",
      "metadata": {
        "id": "8d0d5092",
        "colab": {
          "base_uri": "https://localhost:8080/"
        },
        "outputId": "496fbaa2-6fda-4f74-a8ef-6d74ccdaef4f"
      },
      "outputs": [
        {
          "output_type": "stream",
          "name": "stdout",
          "text": [
            "[(0, 0.3331245899059296),\n",
            " (1, 0.31003124674326116),\n",
            " (2, 0.36289708739353044),\n",
            " (3, 0.42228887586756975),\n",
            " (4, 0.2613901140107815),\n",
            " (5, 0.22843302763817536),\n",
            " (6, 0.17187068787877036),\n",
            " (7, 0.18965563811563327),\n",
            " (8, 0.08734328344935621),\n",
            " (9, 0.476593541696226),\n",
            " (10, 0.24920063309083484)]\n"
          ]
        },
        {
          "output_type": "stream",
          "name": "stderr",
          "text": [
            "/usr/local/lib/python3.10/dist-packages/ipykernel/ipkernel.py:283: DeprecationWarning: `should_run_async` will not call `transform_cell` automatically in the future. Please pass the result to `transformed_cell` argument and any exception that happen during thetransform in `preprocessing_exc_tuple` in IPython 7.17 and above.\n",
            "  and should_run_async(code)\n"
          ]
        }
      ],
      "source": [
        "for doc in corpus_tfidf:\n",
        "    pprint(doc)\n",
        "    break"
      ]
    },
    {
      "cell_type": "code",
      "execution_count": null,
      "id": "ed1d59a3",
      "metadata": {
        "id": "ed1d59a3",
        "colab": {
          "base_uri": "https://localhost:8080/"
        },
        "outputId": "f7061a7f-fbfd-45ab-c114-5ae100ef92fc"
      },
      "outputs": [
        {
          "output_type": "stream",
          "name": "stderr",
          "text": [
            "/usr/local/lib/python3.10/dist-packages/ipykernel/ipkernel.py:283: DeprecationWarning: `should_run_async` will not call `transform_cell` automatically in the future. Please pass the result to `transformed_cell` argument and any exception that happen during thetransform in `preprocessing_exc_tuple` in IPython 7.17 and above.\n",
            "  and should_run_async(code)\n"
          ]
        }
      ],
      "source": [
        "documents = data['text'].values\n",
        "texts = [[word for word in str(document).split()] for document in documents]\n",
        "id2word = corpora.Dictionary(texts)\n",
        "corpus = [id2word.doc2bow(text) for text in texts]"
      ]
    },
    {
      "cell_type": "markdown",
      "id": "147b9d06",
      "metadata": {
        "id": "147b9d06"
      },
      "source": [
        "# Modeling Part:\n"
      ]
    },
    {
      "cell_type": "markdown",
      "id": "f2d42d3b",
      "metadata": {
        "id": "f2d42d3b"
      },
      "source": [
        "- In this section we are going to use the topic modeling algorithms and calculte the most important measure \"coherence\""
      ]
    },
    {
      "cell_type": "markdown",
      "id": "e4ea99ae",
      "metadata": {
        "id": "e4ea99ae"
      },
      "source": [
        "# 1- Latent Dirichlet Allocation( LDA)"
      ]
    },
    {
      "cell_type": "code",
      "execution_count": null,
      "id": "742728b9",
      "metadata": {
        "id": "742728b9",
        "colab": {
          "base_uri": "https://localhost:8080/"
        },
        "outputId": "a99553fa-2efc-4e2e-f0a6-83a301300841"
      },
      "outputs": [
        {
          "output_type": "stream",
          "name": "stderr",
          "text": [
            "/usr/local/lib/python3.10/dist-packages/ipykernel/ipkernel.py:283: DeprecationWarning: `should_run_async` will not call `transform_cell` automatically in the future. Please pass the result to `transformed_cell` argument and any exception that happen during thetransform in `preprocessing_exc_tuple` in IPython 7.17 and above.\n",
            "  and should_run_async(code)\n",
            "WARNING:gensim.models.ldamulticore:too few updates, training might not converge; consider increasing the number of passes or iterations to improve accuracy\n"
          ]
        }
      ],
      "source": [
        "lda_model = gensim.models.LdaMulticore(bow_corpus, num_topics=10, id2word=dictionary, passes=2, workers=2)"
      ]
    },
    {
      "cell_type": "code",
      "execution_count": null,
      "id": "34d5dc6c",
      "metadata": {
        "scrolled": false,
        "id": "34d5dc6c",
        "colab": {
          "base_uri": "https://localhost:8080/"
        },
        "outputId": "c1f0c647-4872-4c7d-c807-73c9a3355d82"
      },
      "outputs": [
        {
          "output_type": "stream",
          "name": "stdout",
          "text": [
            "Topic: 0 \n",
            "Words: 0.037*\"عداد\" + 0.027*\"طلب\" + 0.024*\"ممارس\" + 0.016*\"تعديل\" + 0.014*\"ارجو\" + 0.012*\"ملك\" + 0.012*\"ايصال\" + 0.012*\"تحويل\" + 0.012*\"عمل\" + 0.011*\"كهرباء\"\n",
            "Topic: 1 \n",
            "Words: 0.036*\"طلب\" + 0.026*\"حال\" + 0.023*\"عداد\" + 0.017*\"طلبة\" + 0.016*\"سلام\" + 0.014*\"شكر\" + 0.014*\"ارجو\" + 0.014*\"على\" + 0.012*\"عند\" + 0.011*\"سرع\"\n",
            "Topic: 2 \n",
            "Words: 0.032*\"منطق\" + 0.019*\"محمد\" + 0.017*\"رقم\" + 0.017*\"صور\" + 0.017*\"عداد\" + 0.015*\"تسجيل\" + 0.015*\"استكمال\" + 0.015*\"حضر\" + 0.014*\"طلب\" + 0.013*\"منزل\"\n",
            "Topic: 3 \n",
            "Words: 0.025*\"سداد\" + 0.022*\"ظهر\" + 0.018*\"طلب\" + 0.017*\"علم\" + 0.014*\"ايصال\" + 0.013*\"أوجد\" + 0.011*\"ممارس\" + 0.010*\"وحد\" + 0.010*\"عقد\" + 0.010*\"سكنة\"\n",
            "Topic: 4 \n",
            "Words: 0.063*\"طلب\" + 0.019*\"رقم\" + 0.015*\"عداد\" + 0.015*\"تقدم\" + 0.015*\"ممارس\" + 0.014*\"مستند\" + 0.013*\"قومى\" + 0.012*\"ال\" + 0.012*\"عمل\" + 0.011*\"قبول\"\n",
            "Topic: 5 \n",
            "Words: 0.044*\"طلب\" + 0.026*\"رقم\" + 0.023*\"تقديم\" + 0.023*\"قومى\" + 0.013*\"قدم\" + 0.012*\"شهر\" + 0.012*\"رجاء\" + 0.012*\"حال\" + 0.012*\"اسم\" + 0.011*\"تصحيح\"\n",
            "Topic: 6 \n",
            "Words: 0.042*\"عداد\" + 0.024*\"تركيب\" + 0.019*\"كود\" + 0.015*\"كلم\" + 0.014*\"طلب\" + 0.013*\"موقع\" + 0.012*\"الخاص\" + 0.012*\"الممارسه\" + 0.012*\"سبب\" + 0.012*\"اسم\"\n",
            "Topic: 7 \n",
            "Words: 0.037*\"عداد\" + 0.020*\"سر\" + 0.020*\"كلم\" + 0.015*\"تركيب\" + 0.015*\"نسى\" + 0.015*\"بطاقة\" + 0.014*\"رقم\" + 0.013*\"كهرباء\" + 0.012*\"ودى\" + 0.012*\"شرك\"\n",
            "Topic: 8 \n",
            "Words: 0.033*\"شق\" + 0.030*\"اسم\" + 0.025*\"ممارس\" + 0.020*\"عداد\" + 0.020*\"طلب\" + 0.020*\"سعيد\" + 0.020*\"ايصال\" + 0.017*\"محمد\" + 0.014*\"تاريخ\" + 0.014*\"تركيب\"\n",
            "Topic: 9 \n",
            "Words: 0.028*\"عداد\" + 0.017*\"كلم\" + 0.016*\"سيد\" + 0.012*\"قدم\" + 0.012*\"نسى\" + 0.011*\"محمول\" + 0.011*\"دخل\" + 0.011*\"جماع\" + 0.011*\"منصة\" + 0.011*\"مرور\"\n"
          ]
        },
        {
          "output_type": "stream",
          "name": "stderr",
          "text": [
            "/usr/local/lib/python3.10/dist-packages/ipykernel/ipkernel.py:283: DeprecationWarning: `should_run_async` will not call `transform_cell` automatically in the future. Please pass the result to `transformed_cell` argument and any exception that happen during thetransform in `preprocessing_exc_tuple` in IPython 7.17 and above.\n",
            "  and should_run_async(code)\n"
          ]
        }
      ],
      "source": [
        "for idx, topic in lda_model.print_topics(-1):\n",
        "    print('Topic: {} \\nWords: {}'.format(idx, topic))"
      ]
    },
    {
      "cell_type": "markdown",
      "id": "13bb5635",
      "metadata": {
        "id": "13bb5635"
      },
      "source": [
        "### LDA Coherence with u_mass"
      ]
    },
    {
      "cell_type": "code",
      "execution_count": null,
      "id": "81efd890",
      "metadata": {
        "id": "81efd890",
        "colab": {
          "base_uri": "https://localhost:8080/"
        },
        "outputId": "8598c920-1668-454d-b084-93fee2ae6a64"
      },
      "outputs": [
        {
          "output_type": "stream",
          "name": "stdout",
          "text": [
            "\n",
            "Coherence Score with u_mass:  -6.98018273141368\n"
          ]
        },
        {
          "output_type": "stream",
          "name": "stderr",
          "text": [
            "/usr/local/lib/python3.10/dist-packages/ipykernel/ipkernel.py:283: DeprecationWarning: `should_run_async` will not call `transform_cell` automatically in the future. Please pass the result to `transformed_cell` argument and any exception that happen during thetransform in `preprocessing_exc_tuple` in IPython 7.17 and above.\n",
            "  and should_run_async(code)\n"
          ]
        }
      ],
      "source": [
        "# Compute Coherence Score\n",
        "coherence_model_lda = CoherenceModel(model=lda_model, dictionary=dictionary, coherence='u_mass',corpus=bow_corpus)\n",
        "coherence_lda_uMass = coherence_model_lda.get_coherence()\n",
        "print('\\nCoherence Score with u_mass: ', coherence_lda_uMass)"
      ]
    },
    {
      "cell_type": "markdown",
      "id": "011c2e24",
      "metadata": {
        "id": "011c2e24"
      },
      "source": [
        "### LDA cohernece with c_v"
      ]
    },
    {
      "cell_type": "code",
      "execution_count": null,
      "id": "c9a590d2",
      "metadata": {
        "id": "c9a590d2",
        "colab": {
          "base_uri": "https://localhost:8080/"
        },
        "outputId": "f28340fe-f364-4cd5-9981-217913279cf2"
      },
      "outputs": [
        {
          "output_type": "stream",
          "name": "stderr",
          "text": [
            "/usr/local/lib/python3.10/dist-packages/ipykernel/ipkernel.py:283: DeprecationWarning: `should_run_async` will not call `transform_cell` automatically in the future. Please pass the result to `transformed_cell` argument and any exception that happen during thetransform in `preprocessing_exc_tuple` in IPython 7.17 and above.\n",
            "  and should_run_async(code)\n"
          ]
        },
        {
          "output_type": "stream",
          "name": "stdout",
          "text": [
            "\n",
            "Coherence Score with c_v:  0.3773902117303259\n"
          ]
        }
      ],
      "source": [
        "\n",
        "# Compute Coherence Score with tfidf and u_mass parameter\n",
        "coherence_model_lda = CoherenceModel(model=lda_model, dictionary=dictionary, coherence='c_v', texts =processed_docs  )\n",
        "coherence_lda_cv = coherence_model_lda.get_coherence()\n",
        "print('\\nCoherence Score with c_v: ', coherence_lda_cv)"
      ]
    },
    {
      "cell_type": "markdown",
      "id": "8852055f",
      "metadata": {
        "id": "8852055f"
      },
      "source": [
        "### LDA Cohernece with c_npmi"
      ]
    },
    {
      "cell_type": "code",
      "execution_count": null,
      "id": "18066675",
      "metadata": {
        "id": "18066675",
        "colab": {
          "base_uri": "https://localhost:8080/"
        },
        "outputId": "c6744950-d8bb-4184-c6f8-71f6c1099eb8"
      },
      "outputs": [
        {
          "output_type": "stream",
          "name": "stderr",
          "text": [
            "/usr/local/lib/python3.10/dist-packages/ipykernel/ipkernel.py:283: DeprecationWarning: `should_run_async` will not call `transform_cell` automatically in the future. Please pass the result to `transformed_cell` argument and any exception that happen during thetransform in `preprocessing_exc_tuple` in IPython 7.17 and above.\n",
            "  and should_run_async(code)\n"
          ]
        },
        {
          "output_type": "stream",
          "name": "stdout",
          "text": [
            "\n",
            "Coherence Score with c_npmi:  -0.22991803843978667\n"
          ]
        }
      ],
      "source": [
        "#corpus_tfidf\n",
        "# Compute Coherence Score with tfidf and u_mass parameter\n",
        "coherence_model_lda = CoherenceModel(model=lda_model, dictionary=dictionary, coherence='c_npmi', texts =processed_docs  )\n",
        "coherence_lda_npmi = coherence_model_lda.get_coherence()\n",
        "print('\\nCoherence Score with c_npmi: ', coherence_lda_npmi)"
      ]
    },
    {
      "cell_type": "markdown",
      "id": "894001e7",
      "metadata": {
        "id": "894001e7"
      },
      "source": [
        "### LDA Cohernece with C_uci"
      ]
    },
    {
      "cell_type": "code",
      "execution_count": null,
      "id": "929f67f3",
      "metadata": {
        "id": "929f67f3",
        "colab": {
          "base_uri": "https://localhost:8080/"
        },
        "outputId": "d09bd250-470d-42c1-9750-06da757fc7f8"
      },
      "outputs": [
        {
          "output_type": "stream",
          "name": "stderr",
          "text": [
            "/usr/local/lib/python3.10/dist-packages/ipykernel/ipkernel.py:283: DeprecationWarning: `should_run_async` will not call `transform_cell` automatically in the future. Please pass the result to `transformed_cell` argument and any exception that happen during thetransform in `preprocessing_exc_tuple` in IPython 7.17 and above.\n",
            "  and should_run_async(code)\n"
          ]
        },
        {
          "output_type": "stream",
          "name": "stdout",
          "text": [
            "\n",
            "Coherence Score:  -7.902149729069326\n"
          ]
        }
      ],
      "source": [
        "\n",
        "coherence_model_lda = CoherenceModel(model=lda_model, texts=processed_docs, dictionary=dictionary, coherence='c_uci')\n",
        "coherence_lda_uci = coherence_model_lda.get_coherence()\n",
        "print('\\nCoherence Score: ', coherence_lda_uci)"
      ]
    },
    {
      "cell_type": "markdown",
      "id": "86432d54",
      "metadata": {
        "id": "86432d54"
      },
      "source": [
        "### Optimal number of topics LDA"
      ]
    },
    {
      "cell_type": "markdown",
      "id": "bc780556",
      "metadata": {
        "id": "bc780556"
      },
      "source": [
        "The last step is to find the optimal number of topics.We need to build many LDA models with different values of the number of topics (k) and pick the one that gives the highest coherence value. Choosing a ‘k’ that marks the end of a rapid growth of topic coherence usually offers meaningful and interpretable topics. Picking an even higher value can sometimes provide more granular sub-topics. If you see the same keywords being repeated in multiple topics, it’s probably a sign that the ‘k’ is too large.\n",
        "\n",
        "read more about how to implement this step: https://datascience.oneoffcoder.com/topic-modeling-gensim.html"
      ]
    },
    {
      "cell_type": "code",
      "execution_count": null,
      "id": "303155ca",
      "metadata": {
        "id": "303155ca",
        "colab": {
          "base_uri": "https://localhost:8080/"
        },
        "outputId": "520f0f77-3300-4c8b-aefb-ca95fc295cd6"
      },
      "outputs": [
        {
          "output_type": "stream",
          "name": "stderr",
          "text": [
            "/usr/local/lib/python3.10/dist-packages/ipykernel/ipkernel.py:283: DeprecationWarning: `should_run_async` will not call `transform_cell` automatically in the future. Please pass the result to `transformed_cell` argument and any exception that happen during thetransform in `preprocessing_exc_tuple` in IPython 7.17 and above.\n",
            "  and should_run_async(code)\n",
            "WARNING:gensim.models.ldamulticore:too few updates, training might not converge; consider increasing the number of passes or iterations to improve accuracy\n",
            "WARNING:gensim.models.ldamulticore:too few updates, training might not converge; consider increasing the number of passes or iterations to improve accuracy\n",
            "WARNING:gensim.models.ldamulticore:too few updates, training might not converge; consider increasing the number of passes or iterations to improve accuracy\n",
            "WARNING:gensim.models.ldamulticore:too few updates, training might not converge; consider increasing the number of passes or iterations to improve accuracy\n",
            "WARNING:gensim.models.ldamulticore:too few updates, training might not converge; consider increasing the number of passes or iterations to improve accuracy\n",
            "WARNING:gensim.models.ldamulticore:too few updates, training might not converge; consider increasing the number of passes or iterations to improve accuracy\n",
            "WARNING:gensim.models.ldamulticore:too few updates, training might not converge; consider increasing the number of passes or iterations to improve accuracy\n",
            "WARNING:gensim.models.ldamulticore:too few updates, training might not converge; consider increasing the number of passes or iterations to improve accuracy\n"
          ]
        }
      ],
      "source": [
        "results = []\n",
        "\n",
        "for t in range(2,10):\n",
        "    lda_model = gensim.models.LdaMulticore(bow_corpus, id2word=dictionary, passes=2, workers=2,num_topics=t)\n",
        "    corpus_lda = lda_model[corpus_tfidf]\n",
        "\n",
        "    cm = CoherenceModel(model=lda_model, corpus=corpus_lda, coherence='u_mass')\n",
        "    score = cm.get_coherence()\n",
        "    tup = t, score\n",
        "    results.append(tup)\n",
        "\n",
        "results = pd.DataFrame(results, columns=['topic', 'score'])"
      ]
    },
    {
      "cell_type": "code",
      "execution_count": null,
      "id": "6a6491b1",
      "metadata": {
        "id": "6a6491b1",
        "colab": {
          "base_uri": "https://localhost:8080/",
          "height": 356
        },
        "outputId": "a7602a47-721d-4830-9207-17e08e8f28d6"
      },
      "outputs": [
        {
          "output_type": "stream",
          "name": "stderr",
          "text": [
            "/usr/local/lib/python3.10/dist-packages/ipykernel/ipkernel.py:283: DeprecationWarning: `should_run_async` will not call `transform_cell` automatically in the future. Please pass the result to `transformed_cell` argument and any exception that happen during thetransform in `preprocessing_exc_tuple` in IPython 7.17 and above.\n",
            "  and should_run_async(code)\n"
          ]
        },
        {
          "output_type": "execute_result",
          "data": {
            "text/plain": [
              "   topic     score\n",
              "0      2  0.000000\n",
              "1      3  0.000000\n",
              "2      4 -0.472636\n",
              "3      5 -0.378109\n",
              "4      6 -1.575453\n",
              "5      7 -1.121861\n",
              "6      8 -1.654226\n",
              "7      9 -3.328649"
            ],
            "text/html": [
              "\n",
              "  <div id=\"df-51c00449-970b-4025-bd36-37151d657f7f\" class=\"colab-df-container\">\n",
              "    <div>\n",
              "<style scoped>\n",
              "    .dataframe tbody tr th:only-of-type {\n",
              "        vertical-align: middle;\n",
              "    }\n",
              "\n",
              "    .dataframe tbody tr th {\n",
              "        vertical-align: top;\n",
              "    }\n",
              "\n",
              "    .dataframe thead th {\n",
              "        text-align: right;\n",
              "    }\n",
              "</style>\n",
              "<table border=\"1\" class=\"dataframe\">\n",
              "  <thead>\n",
              "    <tr style=\"text-align: right;\">\n",
              "      <th></th>\n",
              "      <th>topic</th>\n",
              "      <th>score</th>\n",
              "    </tr>\n",
              "  </thead>\n",
              "  <tbody>\n",
              "    <tr>\n",
              "      <th>0</th>\n",
              "      <td>2</td>\n",
              "      <td>0.000000</td>\n",
              "    </tr>\n",
              "    <tr>\n",
              "      <th>1</th>\n",
              "      <td>3</td>\n",
              "      <td>0.000000</td>\n",
              "    </tr>\n",
              "    <tr>\n",
              "      <th>2</th>\n",
              "      <td>4</td>\n",
              "      <td>-0.472636</td>\n",
              "    </tr>\n",
              "    <tr>\n",
              "      <th>3</th>\n",
              "      <td>5</td>\n",
              "      <td>-0.378109</td>\n",
              "    </tr>\n",
              "    <tr>\n",
              "      <th>4</th>\n",
              "      <td>6</td>\n",
              "      <td>-1.575453</td>\n",
              "    </tr>\n",
              "    <tr>\n",
              "      <th>5</th>\n",
              "      <td>7</td>\n",
              "      <td>-1.121861</td>\n",
              "    </tr>\n",
              "    <tr>\n",
              "      <th>6</th>\n",
              "      <td>8</td>\n",
              "      <td>-1.654226</td>\n",
              "    </tr>\n",
              "    <tr>\n",
              "      <th>7</th>\n",
              "      <td>9</td>\n",
              "      <td>-3.328649</td>\n",
              "    </tr>\n",
              "  </tbody>\n",
              "</table>\n",
              "</div>\n",
              "    <div class=\"colab-df-buttons\">\n",
              "\n",
              "  <div class=\"colab-df-container\">\n",
              "    <button class=\"colab-df-convert\" onclick=\"convertToInteractive('df-51c00449-970b-4025-bd36-37151d657f7f')\"\n",
              "            title=\"Convert this dataframe to an interactive table.\"\n",
              "            style=\"display:none;\">\n",
              "\n",
              "  <svg xmlns=\"http://www.w3.org/2000/svg\" height=\"24px\" viewBox=\"0 -960 960 960\">\n",
              "    <path d=\"M120-120v-720h720v720H120Zm60-500h600v-160H180v160Zm220 220h160v-160H400v160Zm0 220h160v-160H400v160ZM180-400h160v-160H180v160Zm440 0h160v-160H620v160ZM180-180h160v-160H180v160Zm440 0h160v-160H620v160Z\"/>\n",
              "  </svg>\n",
              "    </button>\n",
              "\n",
              "  <style>\n",
              "    .colab-df-container {\n",
              "      display:flex;\n",
              "      gap: 12px;\n",
              "    }\n",
              "\n",
              "    .colab-df-convert {\n",
              "      background-color: #E8F0FE;\n",
              "      border: none;\n",
              "      border-radius: 50%;\n",
              "      cursor: pointer;\n",
              "      display: none;\n",
              "      fill: #1967D2;\n",
              "      height: 32px;\n",
              "      padding: 0 0 0 0;\n",
              "      width: 32px;\n",
              "    }\n",
              "\n",
              "    .colab-df-convert:hover {\n",
              "      background-color: #E2EBFA;\n",
              "      box-shadow: 0px 1px 2px rgba(60, 64, 67, 0.3), 0px 1px 3px 1px rgba(60, 64, 67, 0.15);\n",
              "      fill: #174EA6;\n",
              "    }\n",
              "\n",
              "    .colab-df-buttons div {\n",
              "      margin-bottom: 4px;\n",
              "    }\n",
              "\n",
              "    [theme=dark] .colab-df-convert {\n",
              "      background-color: #3B4455;\n",
              "      fill: #D2E3FC;\n",
              "    }\n",
              "\n",
              "    [theme=dark] .colab-df-convert:hover {\n",
              "      background-color: #434B5C;\n",
              "      box-shadow: 0px 1px 3px 1px rgba(0, 0, 0, 0.15);\n",
              "      filter: drop-shadow(0px 1px 2px rgba(0, 0, 0, 0.3));\n",
              "      fill: #FFFFFF;\n",
              "    }\n",
              "  </style>\n",
              "\n",
              "    <script>\n",
              "      const buttonEl =\n",
              "        document.querySelector('#df-51c00449-970b-4025-bd36-37151d657f7f button.colab-df-convert');\n",
              "      buttonEl.style.display =\n",
              "        google.colab.kernel.accessAllowed ? 'block' : 'none';\n",
              "\n",
              "      async function convertToInteractive(key) {\n",
              "        const element = document.querySelector('#df-51c00449-970b-4025-bd36-37151d657f7f');\n",
              "        const dataTable =\n",
              "          await google.colab.kernel.invokeFunction('convertToInteractive',\n",
              "                                                    [key], {});\n",
              "        if (!dataTable) return;\n",
              "\n",
              "        const docLinkHtml = 'Like what you see? Visit the ' +\n",
              "          '<a target=\"_blank\" href=https://colab.research.google.com/notebooks/data_table.ipynb>data table notebook</a>'\n",
              "          + ' to learn more about interactive tables.';\n",
              "        element.innerHTML = '';\n",
              "        dataTable['output_type'] = 'display_data';\n",
              "        await google.colab.output.renderOutput(dataTable, element);\n",
              "        const docLink = document.createElement('div');\n",
              "        docLink.innerHTML = docLinkHtml;\n",
              "        element.appendChild(docLink);\n",
              "      }\n",
              "    </script>\n",
              "  </div>\n",
              "\n",
              "\n",
              "<div id=\"df-6160849f-8480-4d80-9ba7-3107617e4691\">\n",
              "  <button class=\"colab-df-quickchart\" onclick=\"quickchart('df-6160849f-8480-4d80-9ba7-3107617e4691')\"\n",
              "            title=\"Suggest charts\"\n",
              "            style=\"display:none;\">\n",
              "\n",
              "<svg xmlns=\"http://www.w3.org/2000/svg\" height=\"24px\"viewBox=\"0 0 24 24\"\n",
              "     width=\"24px\">\n",
              "    <g>\n",
              "        <path d=\"M19 3H5c-1.1 0-2 .9-2 2v14c0 1.1.9 2 2 2h14c1.1 0 2-.9 2-2V5c0-1.1-.9-2-2-2zM9 17H7v-7h2v7zm4 0h-2V7h2v10zm4 0h-2v-4h2v4z\"/>\n",
              "    </g>\n",
              "</svg>\n",
              "  </button>\n",
              "\n",
              "<style>\n",
              "  .colab-df-quickchart {\n",
              "      --bg-color: #E8F0FE;\n",
              "      --fill-color: #1967D2;\n",
              "      --hover-bg-color: #E2EBFA;\n",
              "      --hover-fill-color: #174EA6;\n",
              "      --disabled-fill-color: #AAA;\n",
              "      --disabled-bg-color: #DDD;\n",
              "  }\n",
              "\n",
              "  [theme=dark] .colab-df-quickchart {\n",
              "      --bg-color: #3B4455;\n",
              "      --fill-color: #D2E3FC;\n",
              "      --hover-bg-color: #434B5C;\n",
              "      --hover-fill-color: #FFFFFF;\n",
              "      --disabled-bg-color: #3B4455;\n",
              "      --disabled-fill-color: #666;\n",
              "  }\n",
              "\n",
              "  .colab-df-quickchart {\n",
              "    background-color: var(--bg-color);\n",
              "    border: none;\n",
              "    border-radius: 50%;\n",
              "    cursor: pointer;\n",
              "    display: none;\n",
              "    fill: var(--fill-color);\n",
              "    height: 32px;\n",
              "    padding: 0;\n",
              "    width: 32px;\n",
              "  }\n",
              "\n",
              "  .colab-df-quickchart:hover {\n",
              "    background-color: var(--hover-bg-color);\n",
              "    box-shadow: 0 1px 2px rgba(60, 64, 67, 0.3), 0 1px 3px 1px rgba(60, 64, 67, 0.15);\n",
              "    fill: var(--button-hover-fill-color);\n",
              "  }\n",
              "\n",
              "  .colab-df-quickchart-complete:disabled,\n",
              "  .colab-df-quickchart-complete:disabled:hover {\n",
              "    background-color: var(--disabled-bg-color);\n",
              "    fill: var(--disabled-fill-color);\n",
              "    box-shadow: none;\n",
              "  }\n",
              "\n",
              "  .colab-df-spinner {\n",
              "    border: 2px solid var(--fill-color);\n",
              "    border-color: transparent;\n",
              "    border-bottom-color: var(--fill-color);\n",
              "    animation:\n",
              "      spin 1s steps(1) infinite;\n",
              "  }\n",
              "\n",
              "  @keyframes spin {\n",
              "    0% {\n",
              "      border-color: transparent;\n",
              "      border-bottom-color: var(--fill-color);\n",
              "      border-left-color: var(--fill-color);\n",
              "    }\n",
              "    20% {\n",
              "      border-color: transparent;\n",
              "      border-left-color: var(--fill-color);\n",
              "      border-top-color: var(--fill-color);\n",
              "    }\n",
              "    30% {\n",
              "      border-color: transparent;\n",
              "      border-left-color: var(--fill-color);\n",
              "      border-top-color: var(--fill-color);\n",
              "      border-right-color: var(--fill-color);\n",
              "    }\n",
              "    40% {\n",
              "      border-color: transparent;\n",
              "      border-right-color: var(--fill-color);\n",
              "      border-top-color: var(--fill-color);\n",
              "    }\n",
              "    60% {\n",
              "      border-color: transparent;\n",
              "      border-right-color: var(--fill-color);\n",
              "    }\n",
              "    80% {\n",
              "      border-color: transparent;\n",
              "      border-right-color: var(--fill-color);\n",
              "      border-bottom-color: var(--fill-color);\n",
              "    }\n",
              "    90% {\n",
              "      border-color: transparent;\n",
              "      border-bottom-color: var(--fill-color);\n",
              "    }\n",
              "  }\n",
              "</style>\n",
              "\n",
              "  <script>\n",
              "    async function quickchart(key) {\n",
              "      const quickchartButtonEl =\n",
              "        document.querySelector('#' + key + ' button');\n",
              "      quickchartButtonEl.disabled = true;  // To prevent multiple clicks.\n",
              "      quickchartButtonEl.classList.add('colab-df-spinner');\n",
              "      try {\n",
              "        const charts = await google.colab.kernel.invokeFunction(\n",
              "            'suggestCharts', [key], {});\n",
              "      } catch (error) {\n",
              "        console.error('Error during call to suggestCharts:', error);\n",
              "      }\n",
              "      quickchartButtonEl.classList.remove('colab-df-spinner');\n",
              "      quickchartButtonEl.classList.add('colab-df-quickchart-complete');\n",
              "    }\n",
              "    (() => {\n",
              "      let quickchartButtonEl =\n",
              "        document.querySelector('#df-6160849f-8480-4d80-9ba7-3107617e4691 button');\n",
              "      quickchartButtonEl.style.display =\n",
              "        google.colab.kernel.accessAllowed ? 'block' : 'none';\n",
              "    })();\n",
              "  </script>\n",
              "</div>\n",
              "    </div>\n",
              "  </div>\n"
            ]
          },
          "metadata": {},
          "execution_count": 41
        }
      ],
      "source": [
        "results"
      ]
    },
    {
      "cell_type": "code",
      "execution_count": null,
      "id": "7ddbe3c7",
      "metadata": {
        "id": "7ddbe3c7",
        "colab": {
          "base_uri": "https://localhost:8080/",
          "height": 521
        },
        "outputId": "109bbb88-9f22-468d-eaeb-40ff35cba33c"
      },
      "outputs": [
        {
          "output_type": "stream",
          "name": "stderr",
          "text": [
            "/usr/local/lib/python3.10/dist-packages/ipykernel/ipkernel.py:283: DeprecationWarning: `should_run_async` will not call `transform_cell` automatically in the future. Please pass the result to `transformed_cell` argument and any exception that happen during thetransform in `preprocessing_exc_tuple` in IPython 7.17 and above.\n",
            "  and should_run_async(code)\n"
          ]
        },
        {
          "output_type": "display_data",
          "data": {
            "text/plain": [
              "<Figure size 1000x500 with 1 Axes>"
            ],
            "image/png": "[encoded data removed]"
          },
          "metadata": {}
        }
      ],
      "source": [
        "plt.figure(figsize = (10,5))\n",
        "s = pd.Series(results.score.values, index=results.topic.values)\n",
        "plt.xlabel(\"number of topics\")\n",
        "plt.ylabel(\"Score\")\n",
        "_ = s.plot()"
      ]
    },
    {
      "cell_type": "code",
      "execution_count": null,
      "id": "a13de7d0",
      "metadata": {
        "id": "a13de7d0",
        "colab": {
          "base_uri": "https://localhost:8080/",
          "height": 918
        },
        "outputId": "4201d819-2358-46fb-8c7e-a651c184c445"
      },
      "outputs": [
        {
          "output_type": "stream",
          "name": "stderr",
          "text": [
            "/usr/local/lib/python3.10/dist-packages/ipykernel/ipkernel.py:283: DeprecationWarning: `should_run_async` will not call `transform_cell` automatically in the future. Please pass the result to `transformed_cell` argument and any exception that happen during thetransform in `preprocessing_exc_tuple` in IPython 7.17 and above.\n",
            "  and should_run_async(code)\n"
          ]
        },
        {
          "output_type": "execute_result",
          "data": {
            "text/plain": [
              "PreparedData(topic_coordinates=              x         y  topics  cluster       Freq\n",
              "topic                                                \n",
              "1      0.039438  0.114996       1        1  34.828046\n",
              "5      0.114868 -0.003037       2        1  11.270471\n",
              "6      0.044678 -0.124888       3        1  11.102638\n",
              "7     -0.041389 -0.008697       4        1  10.618920\n",
              "8      0.087843  0.039071       5        1   9.273712\n",
              "2     -0.079871  0.043071       6        1   7.229902\n",
              "0     -0.106924  0.006872       7        1   7.097779\n",
              "3      0.020077 -0.035714       8        1   5.154645\n",
              "4     -0.078720 -0.031674       9        1   3.423888, topic_info=      Term       Freq      Total Category  logprob  loglift\n",
              "21    قومى  14.000000  14.000000  Default  30.0000  30.0000\n",
              "8      طلب  59.000000  59.000000  Default  29.0000  29.0000\n",
              "18    حساب  11.000000  11.000000  Default  28.0000  28.0000\n",
              "67    عداد  49.000000  49.000000  Default  27.0000  27.0000\n",
              "22     كلم  13.000000  13.000000  Default  26.0000  26.0000\n",
              "..     ...        ...        ...      ...      ...      ...\n",
              "58    مقدم   0.541397   9.550445   Topic9  -4.8998   0.5042\n",
              "180   مفيش   0.541385   4.222170   Topic9  -4.8998   1.3204\n",
              "3      حال   0.541379  14.654113   Topic9  -4.8998   0.0760\n",
              "296  عندما   0.541379   5.534095   Topic9  -4.8998   1.0498\n",
              "255    ظهر   0.541376   5.445503   Topic9  -4.8998   1.0660\n",
              "\n",
              "[540 rows x 6 columns], token_table=      Topic      Freq         Term\n",
              "term                              \n",
              "183       4  0.694722  gmailcomرقم\n",
              "184       4  0.695582         mtao\n",
              "233       2  0.679904         أحيا\n",
              "498       7  0.705645        أقساط\n",
              "499       7  0.705647      أقساطمع\n",
              "...     ...       ...          ...\n",
              "693       6  0.757637        يقولى\n",
              "583       4  0.692460           يم\n",
              "232       1  0.386053          يوم\n",
              "232       4  0.193026          يوم\n",
              "232       8  0.193026          يوم\n",
              "\n",
              "[756 rows x 3 columns], R=30, lambda_step=0.01, plot_opts={'xlab': 'PC1', 'ylab': 'PC2'}, topic_order=[2, 6, 7, 8, 9, 3, 1, 4, 5])"
            ],
            "text/html": [
              "\n",
              "<link rel=\"stylesheet\" type=\"text/css\" href=\"https://cdn.jsdelivr.net/gh/bmabey/pyLDAvis@3.4.0/pyLDAvis/js/ldavis.v1.0.0.css\">\n",
              "\n",
              "\n",
              "<div id=\"ldavis_el28691400428655065921573011611\" style=\"background-color:white;\"></div>\n",
              "<script type=\"text/javascript\">\n",
              "\n",
              "var ldavis_el28691400428655065921573011611_data = {\"mdsDat\": {\"x\": [0.03943792359730632, 0.11486761199100215, 0.044678380948505576, -0.04138905242768382, 0.0878434875760693, -0.07987140929096329, -0.10692399539686634, 0.02007699277995578, -0.07871993977732578], \"y\": [0.11499579808956054, -0.003037192512081489, -0.12488760546371148, -0.008696894498179505, 0.03907060583342101, 0.04307130388934955, 0.006871683427331421, -0.03571407375002778, -0.03167362501566192], \"topics\": [1, 2, 3, 4, 5, 6, 7, 8, 9], \"cluster\": [1, 1, 1, 1, 1, 1, 1, 1, 1], \"Freq\": [34.82804567840385, 11.270470564551935, 11.102638385698832, 10.61891984111977, 9.273712155682825, 7.229901558278808, 7.097778980971686, 5.154644826207031, 3.423888009085259]}, \"tinfo\": {\"Term\": [\"\\u0642\\u0648\\u0645\\u0649\", \"\\u0637\\u0644\\u0628\", \"\\u062d\\u0633\\u0627\\u0628\", \"\\u0639\\u062f\\u0627\\u062f\", \"\\u0643\\u0644\\u0645\", \"\\u0631\\u0642\\u0645\", \"\\u0645\\u062d\\u0645\\u062f\", \"\\u0645\\u0648\\u0642\\u0639\", \"\\u0628\\u064a\\u0627\\u0646\", \"\\u0639\\u0645\\u0644\", \"\\u0633\\u0645\\u062d\", \"\\u0643\\u0648\\u062f\", \"\\u0642\\u062f\\u0645\", \"\\u0627\\u0633\\u0645\", \"\\u0635\\u0648\\u0631\", \"\\u062a\\u0633\\u062c\\u064a\\u0644\", \"\\u0643\\u0647\\u0631\\u0628\\u0627\\u0621\", \"\\u0633\\u062c\\u0644\", \"\\u0634\\u0643\\u0631\", \"\\u0645\\u0645\\u0627\\u0631\\u0633\", \"\\u0645\\u0631\\u0648\\u0631\", \"\\u0633\\u062f\\u0627\\u062f\", \"\\u0631\\u062f\", \"\\u062a\\u0642\\u062f\\u064a\\u0645\", \"\\u0633\\u0644\\u0627\\u0645\", \"\\u0631\\u062c\\u0627\\u0621\", \"\\u0627\\u0633\\u062a\\u0643\\u0645\\u0627\\u0644\", \"\\u062d\\u0627\\u0644\", \"\\u0645\\u0646\\u0632\\u0644\", \"\\u0641\\u0646\", \"\\u0645\\u0646\\u0637\\u0642\", \"\\u0634\\u0642\", \"\\u0627\\u0644\\u0627\\u0648\\u0631\\u0627\\u0642\", \"\\u0627\\u062e\\u062a\\u0627\\u0631\", \"\\u062a\\u063a\\u064a\\u064a\\u0631\", \"\\u0633\\u0627\\u0644\\u062a\", \"\\u064a\\u062a\\u0633\\u0646\\u064a\", \"\\u0631\\u062d\\u0645\", \"\\u0633\\u0627\\u0628\\u0642\", \"\\u0633\\u0639\\u064a\\u062f\", \"\\u062e\\u0637\\u0627\", \"\\u0645\\u0627\\u0644\", \"\\u0639\\u0637\\u064a\\u0629\", \"\\u0628\\u0631\\u0643\\u0629\", \"\\u0639\\u0645\\u0648\\u062f\", \"\\u0639\\u062f\\u0627\\u062f\\u0643\\u0648\\u062f\\u0649\", \"\\u0639\\u0628\\u062f\\u0627\\u0644\\u062d\\u0641\\u064a\\u0638\", \"\\u062f\\u064a\\u0646\", \"\\u0627\\u0644\\u062d\\u0627\\u0644\\u0649\\u0648\\u0647\\u0648\", \"\\u0627\\u062d\\u0645\\u062f\\u0627\\u0631\\u062c\\u0648\", \"\\u0635\\u0644\\u0627\\u062d\", \"\\u0625\\u064a\\u062c\\u0627\\u0631\", \"\\u0630\\u0647\\u0628\", \"\\u0627\\u0644\\u0644\\u0647\", \"\\u062d\\u0645\\u062f\", \"\\u0639\\u0642\\u062f\", \"\\u0645\\u0648\\u0642\\u0641\", \"\\u0643\\u064a\\u0641\\u064a\\u0629\", \"\\u0627\\u0644\\u0645\\u0634\\u0643\\u0644\\u0647\", \"\\u0643\\u0627\\u0628\\u0644\", \"\\u0644\\u0643\\u0645\", \"\\u0639\\u0644\\u0649\", \"\\u062a\\u062d\\u0648\\u064a\\u0644\", \"\\u0645\\u0646\\u0635\\u0629\", \"\\u062a\\u0627\\u0631\\u064a\\u062e\", \"\\u0645\\u0631\\u0641\\u0642\", \"\\u0634\\u0631\\u0643\", \"\\u0645\\u0645\\u0627\\u0631\\u0633\", \"\\u0637\\u0644\\u0628\", \"\\u0635\\u0648\\u0631\", \"\\u0633\\u0644\\u0627\\u0645\", \"\\u0639\\u0646\\u062f\\u0645\\u0627\", \"\\u0627\\u0633\\u0645\", \"\\u0627\\u0631\\u062c\\u0648\", \"\\u0631\\u0642\\u0645\", \"\\u062a\\u0642\\u062f\\u064a\\u0645\", \"\\u0642\\u0648\\u0645\\u0649\", \"\\u0634\\u0643\\u0631\", \"\\u0639\\u062f\\u0627\\u062f\", \"\\u0627\\u064a\\u0635\\u0627\\u0644\", \"\\u0645\\u062d\\u0645\\u062f\", \"\\u062d\\u0636\\u0631\", \"\\u0648\\u062f\\u064a\", \"\\u062a\\u0631\\u0643\\u064a\\u0628\", \"\\u0639\\u0646\\u062f\", \"\\u062d\\u0627\\u0644\", \"\\u0642\\u0627\\u0644\\u0648\\u0644\\u0649\", \"\\u0645\\u062a\\u0648\\u0633\\u0637\", \"\\u0645\\u0641\\u062a\\u0631\\u0636\", \"\\u0636\\u063a\\u0637\", \"\\u0627\\u0645\\u062a\\u0627\\u0631\", \"\\u0645\\u0633\\u062a\\u0646\\u062f\", \"\\u0627\\u0644\\u0643\\u0648\\u062f\\u0649\", \"\\u0625\\u064a\\u0642\\u0627\\u0641\", \"\\u062a\\u062d\\u0645\\u064a\\u0644\", \"\\u0627\\u0631\\u0633\\u0627\\u0644\\u0649\", \"\\u0627\\u0642\\u0627\\u0641\", \"\\u062e\\u062f\", \"\\u0627\\u062d\\u0646\\u0627\", \"\\u0627\\u0644\\u0628\\u0637\\u0627\\u0642\\u0647\", \"\\u062f\\u0644\\u0648\\u0642\\u062a\\u0649\", \"\\u0627\\u0644\\u0627\\u0645\\u0627\\u0645\", \"\\u0644\\u0627\\u0632\\u0645\", \"\\u062e\\u0644\\u0641\", \"\\u0648\\u0644\\u0627\\u064a\\u0633\", \"\\u0641\\u064a\\u0648\\u0645\", \"\\u0634\\u063a\\u0627\\u0644\", \"\\u062f\\u0639\", \"\\u0641\\u0642\\u0644\\u062a\\u0644\\u0647\\u0645\", \"\\u0645\\u0631\\u0643\\u0628\", \"\\u062a\\u0627\\u0628\\u0639\", \"\\u062a\\u0648\\u062c\\u0647\", \"\\u0647\\u062a\\u062a\\u062d\\u0628\\u0633\", \"\\u063a\\u0631\\u0627\\u0645\", \"\\u0627\\u0644\\u062c\\u0627\\u0649\", \"\\u0623\\u062d\\u064a\\u0627\", \"\\u062f\\u0641\\u0639\", \"\\u0642\\u0628\\u0648\\u0644\", \"\\u0631\\u063a\\u0645\", \"\\u0627\\u0644\\u062e\\u0627\\u0635\", \"\\u0643\\u0647\\u0631\\u0628\\u0627\\u0621\", \"\\u0639\\u062f\\u0627\\u062f\", \"\\u0633\\u0628\\u0628\", \"\\u062a\\u062d\\u062f\\u064a\\u062b\", \"\\u0645\\u0645\\u0627\\u0631\\u0633\", \"\\u0647\\u0646\\u062f\\u0633\\u0629\", \"\\u062a\\u0639\\u062f\\u064a\\u0644\", \"\\u0645\\u0646\\u0632\\u0644\", \"\\u0648\\u062f\\u0649\", \"\\u062a\\u0631\\u0643\\u064a\\u0628\", \"\\u0639\\u0645\\u0644\", \"\\u0628\\u062e\\u0635\\u0648\\u0635\", \"\\u0645\\u0637\\u0644\\u0648\\u0628\", \"\\u0634\\u0631\\u0643\", \"\\u0627\\u0633\\u062a\\u0637\\u0627\\u0639\", \"\\u062a\\u0639\\u0644\\u064a\\u0642\", \"\\u0637\\u0644\\u0628\", \"\\u062a\\u0642\\u062f\\u064a\\u0645\", \"\\u062a\\u062d\\u0648\\u064a\\u0644\", \"\\u0639\\u0644\\u0645\", \"\\u0645\\u0642\\u062f\\u0645\", \"\\u0627\\u0644\", \"\\u0645\\u0631\\u0641\\u0642\", \"\\u0634\\u0643\\u0648\", \"\\u062d\\u0627\\u062c\", \"\\u0627\\u0644\\u0645\\u0646\\u0635\\u0647\", \"\\u0627\\u063a\\u0644\\u0627\\u0642\", \"\\u0627\\u062a\\u063a\\u064a\\u0631\\u062a\", \"\\u0627\\u0644\\u0645\\u0648\\u0628\\u0627\\u064a\\u0644\", \"\\u0645\\u064a\\u0644\", \"\\u0627\\u0646\\u0647\\u0627\", \"\\u0648\\u0631\\u062f\", \"\\u0645\\u0628\\u0644\\u063a\", \"\\u0633\\u0631\\u0639\", \"\\u0631\\u062f\", \"\\u0648\\u0634\\u0643\\u0631\\u0627\\u0631\\u0642\\u0645\", \"\\u0645\\u062a\\u0627\\u062e\\u0631\", \"\\u0634\\u0648\\u064a\", \"\\u0645\\u0634\\u0627\\u0643\\u0644\", \"\\u062d\\u064a\\u0644\\u0643\\u0648\", \"\\u0645\\u064a\\u0639\\u0631\\u0641\\u0648\\u0634\", \"\\u062f\\u0627\\u0641\\u0639\", \"\\u0627\\u0633\\u062a\\u062c\\u0627\\u0628\", \"\\u0627\\u0644\\u0627\\u064a\\u0635\\u0627\\u0644\", \"\\u0639\\u062f\\u0627\\u062f\\u062a\\u0641\\u0627\\u0646\\u0627\", \"\\u0639\\u062f\\u0627\\u062f\\u0627\\u062a\\u0648\\u0644\\u0645\\u0627\", \"\\u062a\\u0627\\u0646\", \"\\u0639\\u062f\\u0627\\u062f\\u0643\\u0648\\u062f\\u064a\", \"\\u0642\\u0631\\u0628\", \"\\u062a\\u0627\\u062e\\u064a\\u0631\", \"\\u0641\\u062a\\u062d\", \"\\u062a\\u0627\\u062c\", \"\\u0627\\u0644\\u062c\\u064a\\u0645\\u064a\\u0644\", \"\\u0631\\u0633\\u0627\\u0644\\u0647\", \"\\u0642\\u062f\\u0645\", \"\\u0639\\u0627\\u0631\\u0641\", \"\\u0627\\u063a\\u0633\\u0637\\u0633\", \"\\u0644\\u0627\\u0633\", \"\\u0639\\u062f\\u0627\\u062f\", \"\\u0633\\u064a\\u062f\", \"\\u0648\\u0645\\u062d\\u062f\\u0634\", \"\\u0645\\u0641\\u064a\\u0634\", \"\\u062a\\u0631\\u0643\\u064a\\u0628\", \"\\u0627\\u0631\\u062c\\u0648\", \"\\u0627\\u0644\", \"\\u0633\\u0645\\u062d\", \"\\u0643\\u0648\\u062f\", \"\\u0637\\u0644\\u0628\", \"\\u0639\\u0646\\u062f\", \"\\u0648\\u062f\\u064a\", \"\\u0633\\u0631\", \"\\u0645\\u0645\\u0627\\u0631\\u0633\", \"\\u0628\\u0637\\u0627\\u0642\\u0629\", \"\\u0639\\u0645\\u0644\", \"\\u0643\\u0644\\u0645\", \"\\u062d\\u0627\\u0644\", \"\\u062a\\u062d\\u0648\\u064a\\u0644\", \"\\u0639\\u0644\\u0645\", \"\\u0634\\u0643\\u0631\", \"\\u062a\\u0642\\u062f\\u064a\\u0645\", \"\\u0627\\u0644\\u0645\\u0645\\u0627\\u0631\\u0633\\u0647\", \"\\u0647\\u0627\\u062a\\u0641\", \"\\u0628\\u0627\\u0633\\u0645\\u0649\", \"\\u0645\\u0641\\u0639\\u0644\", \"\\u0645\\u062f\\u0648\\u0646\", \"\\u0630\\u0644\\u0643\", \"\\u0627\\u064a\\u0645\\u064a\\u0644\", \"\\u0625\\u0631\\u0633\\u0627\\u0644\", \"\\u0645\\u0646\", \"\\u0642\\u062f\\u0631\", \"\\u0627\\u0633\\u062a\\u0641\\u064a\\u062f\", \"\\u0644\\u0627\\u0641\", \"\\u062e\\u0627\\u0644\\u062f\", \"\\u064a\\u0645\", \"\\u064a\\u0627\\u0631\\u064a\\u062a\", \"\\u0627\\u0630\\u0646\\u0643\\u0645\", \"\\u0627\\u0644\\u062a\\u0627\\u062e\\u064a\\u0631\", \"\\u0645\\u064a\\u0639\\u0627\\u062f\", \"\\u0627\\u0644\\u0646\\u0642\\u062f\\u064a\\u0645\", \"gmailcom\\u0631\\u0642\\u0645\", \"\\u0627\\u0644\\u0646\\u0644\\u064a\\u0641\\u0648\\u0646\", \"\\u0627\\u062d\\u062a\\u0631\\u0627\\u0645\", \"\\u0648\\u0627\\u0644\\u0627\\u064a\\u0645\\u064a\\u0644\", \"mtao\", \"\\u0627\\u0644\\u062a\\u0649\", \"\\u0627\\u062a\\u0630\\u0643\\u0631\\u0647\\u0627\", \"\\u0641\\u0627\\u0626\\u0642\", \"\\u0627\\u0641\\u064a\\u062f\\u0648\\u0646\\u064a\", \"\\u062d\\u0628\\u0627\", \"\\u0641\\u0636\\u0644\", \"\\u062e\\u064a\\u0631\", \"\\u0627\\u0633\\u062a\\u0639\\u0627\\u062f\\u0629\", \"\\u0633\\u0631\", \"\\u0643\\u0648\\u062f\", \"\\u062f\\u062e\\u0648\\u0644\", \"\\u0646\\u0633\\u0649\", \"\\u0627\\u0631\\u064a\\u062f\", \"\\u062e\\u0644\\u0627\\u0644\", \"\\u0643\\u0644\\u0645\", \"\\u0633\\u0628\\u0628\", \"\\u0627\\u064a\\u0635\\u0627\\u0644\", \"\\u062a\\u0633\\u062c\\u064a\\u0644\", \"\\u0628\\u0627\\u0636\\u0627\\u0641\\u0629\", \"\\u0648\\u0627\\u0646\\u0627\", \"\\u0627\\u0633\\u0645\", \"\\u0627\\u0644\\u0645\\u0645\\u0627\\u0631\\u0633\\u0647\", \"\\u0645\\u0648\\u0642\\u0639\", \"\\u0639\\u062f\\u0627\\u062f\", \"\\u0633\\u064a\\u0627\\u062f\\u0629\", \"\\u062d\\u0633\\u0627\\u0628\", \"\\u0627\\u0633\\u062a\\u0643\\u0645\\u0627\\u0644\", \"\\u0645\\u0634\\u0643\\u0644\", \"\\u0637\\u0644\\u0628\", \"\\u0633\\u062f\\u0627\\u062f\", \"\\u0645\\u062d\\u0645\\u062f\", \"\\u0645\\u0645\\u0627\\u0631\\u0633\", \"\\u062a\\u0631\\u0643\\u064a\\u0628\", \"\\u0631\\u0642\\u0645\", \"\\u062a\\u0642\\u062f\\u064a\\u0645\", \"\\u062d\\u0627\\u0644\", \"\\u0648\\u0627\\u0636\\u062d\", \"\\u062d\\u064a\\u062b\", \"\\u062e\\u0627\\u0646\", \"\\u062d\\u0645\\u0631\\u0627\\u0621\", \"\\u064a\\u062a\\u0645\", \"\\u0643\\u0647\\u0631\\u0628\", \"\\u0637\\u0627\\u0644\\u0628\", \"\\u0644\\u0645\\u0627\\u0630\\u0627\", \"\\u0646\\u062c\\u0645\", \"\\u0627\\u0647\\u062a\\u0645\\u0627\\u0645\", \"\\u0645\\u062a\\u0627\\u062d\", \"\\u0647\\u0645\", \"\\u0639\\u0644\\u064a\\u0643\\u0645\\u0644\\u062f\\u064a\", \"\\u0631\\u062c\\u0649\", \"\\u0648\\u0636\\u0639\", \"\\u0627\\u062a\\u062a\\u0647\", \"\\u0627\\u0646\\u062a\\u0647\\u0627\\u0621\", \"\\u0627\\u0639\\u062a\\u0628\\u0627\\u0631\", \"\\u0639\\u062f\\u0649\", \"\\u0628\\u0627\\u0644\\u0627\\u0641\\u0627\\u062f\\u0647\", \"\\u062a\\u0627\\u062e\\u0631\\u062a\", \"\\u0632\\u0645\\u0646\", \"\\u0627\\u0644\\u0645\\u062f\\u0647\", \"\\u063a\\u064a\\u0631\\u0649\", \"\\u064a\\u0627\\u0646\", \"\\u062a\\u063a\\u064a\\u0631\", \"\\u0639\\u0644\\u064a\\u0643\\u0645\\u0643\\u064a\\u0641\\u064a\\u0629\", \"\\u0641\\u0627\\u0642\\u062f\", \"\\u0628\\u0627\\u064a\\u0635\\u0627\\u0644\", \"\\u0628\\u0627\\u0646\", \"\\u0627\\u0631\\u0633\\u0627\\u0644\", \"\\u062f\\u0631\\u0627\\u0633\", \"\\u0641\\u0646\", \"\\u062a\\u0639\\u0644\\u064a\\u0642\", \"\\u0637\\u0644\\u0628\", \"\\u062d\\u0627\\u0644\", \"\\u0634\\u0643\\u0631\", \"\\u0631\\u062c\\u0627\\u0621\", \"\\u0627\\u0644\\u0627\\u0641\\u0627\\u062f\\u0647\", \"\\u0645\\u0644\\u0643\", \"\\u062a\\u0631\\u0643\\u064a\\u0628\", \"\\u0639\\u0644\\u0645\", \"\\u0639\\u062f\\u0627\\u062f\", \"\\u0645\\u0631\\u0627\\u062c\\u0639\", \"\\u0635\\u062d\\u064a\\u062d\", \"\\u0627\\u0644\", \"\\u0645\\u0639\\u0627\\u064a\\u0646\", \"\\u0633\\u0644\\u0627\\u0645\", \"\\u0627\\u0633\\u062a\\u0643\\u0645\\u0627\\u0644\", \"\\u062a\\u0642\\u062f\\u0645\", \"\\u0628\\u064a\\u0627\\u0646\", \"\\u0645\\u0642\\u062f\\u0645\", \"\\u062c\\u062f\\u064a\\u062f\", \"\\u0627\\u0631\\u062c\\u0648\", \"\\u0639\\u0644\\u0649\", \"\\u0634\\u0647\\u0631\", \"\\u0627\\u0633\\u062a\\u0641\\u0633\\u0627\\u0631\", \"\\u0645\\u0637\\u0644\\u0648\\u0628\", \"\\u0631\\u0645\\u0635\\u0627\\u0646\", \"\\u0627\\u062a\\u0635\\u0627\\u0644\", \"\\u0639\\u0628\\u062f\\u0627\\u0644\\u0631\\u062d\\u0645\\u0646\", \"\\u0627\\u0644\\u0627\\u062c\\u0631\\u0627\\u0621\\u0627\\u062a\", \"\\u064a\\u0639\\u0637\\u064a\\u0646\\u0649\", \"\\u0627\\u0643\\u062a\\u0634\\u0641\", \"\\u0634\\u062e\\u0635\", \"\\u0627\\u062e\\u0631\\u0649\", \"\\u0645\\u0648\\u062d\\u062f\", \"\\u0628\\u0627\\u0644\\u0645\\u0646\\u0635\\u0647\", \"\\u0642\\u0631\\u064a\\u0628\", \"\\u0642\\u0644\\u0649\", \"\\u0627\\u0646\\u062a\\u0638\\u0627\\u0631\", \"\\u0627\\u0634\\u062a\\u0643\\u0649\", \"\\u0627\\u0633\\u062a\\u0639\\u0644\\u0645\", \"\\u0642\\u064a\\u0645\", \"\\u0641\\u0627\\u062a\\u0648\\u0631\\u0629\", \"\\u0627\\u0645\\u062a\\u0649\", \"\\u0648\\u0627\\u064a\\u0647\", \"\\u0633\\u0627\\u0639\\u0629\", \"\\u0647\\u0633\\u062a\\u0644\\u0645\", \"\\u0645\\u0641\\u0631\\u0648\\u0636\", \"\\u0627\\u0628\\u062f\\u0627\\u062f\\u0644\\u0648\\u0642\\u062a\\u0649\", \"\\u0645\\u0648\\u062c\\u0648\\u062f\", \"\\u0645\\u0648\\u0628\\u064a\\u0644\", \"\\u064a\\u0642\\u0648\\u0644\\u0649\", \"\\u0627\\u062a\\u0630\\u0643\\u0631\", \"\\u0645\\u0639\\u0644\\u0648\\u0645\", \"\\u0631\\u0642\\u0645\\u0649\", \"\\u0634\\u0628\\u0643\\u0629\", \"\\u0633\\u062c\\u0644\", \"\\u0642\\u0648\\u0645\\u0649\", \"\\u0639\\u0631\\u0641\", \"\\u0645\\u0631\\u0648\\u0631\", \"\\u062e\\u0627\\u0635\\u0629\", \"\\u0645\\u062d\\u0645\\u062f\", \"\\u0633\\u064a\\u0627\\u062f\\u0629\", \"\\u0631\\u062c\\u0627\\u0621\", \"\\u0631\\u0642\\u0645\", \"\\u062a\\u0633\\u062c\\u064a\\u0644\", \"\\u0628\\u0637\\u0627\\u0642\\u0629\", \"\\u0645\\u0648\\u0638\\u0641\", \"\\u062c\\u062f\\u064a\\u062f\", \"\\u0643\\u0647\\u0631\\u0628\\u0627\\u0621\", \"\\u0645\\u0646\\u0632\\u0644\", \"\\u0643\\u0644\\u0645\", \"\\u0628\\u064a\\u0627\\u0646\", \"\\u0645\\u0645\\u0643\\u0646\", \"\\u0635\\u0648\\u0631\", \"\\u0635\\u062d\\u064a\\u062d\", \"\\u0627\\u0644\\u0627\\u0644\\u0643\\u062a\\u0631\\u0648\\u0646\\u064a\", \"\\u0627\\u0633\\u0645\", \"\\u0628\\u0631\\u064a\\u062f\", \"\\u0639\\u0645\\u0644\", \"\\u0639\\u062f\\u0627\\u062f\", \"\\u0642\\u062f\\u0645\", \"\\u062a\\u0639\\u062f\\u064a\\u0644\", \"\\u062d\\u0633\\u0627\\u0628\", \"\\u0645\\u0631\\u0641\\u0642\", \"\\u0645\\u0631\\u0643\\u0632\", \"\\u0645\\u0645\\u0627\\u0631\\u0633\", \"\\u062f\\u062e\\u0644\", \"\\u0628\\u0627\\u0647\", \"\\u0646\\u0627\\u0633\", \"\\u0642\\u0648\\u0645\", \"\\u0637\\u0644\\u0639\", \"\\u062d\\u0642\", \"\\u0627\\u0644\\u062a\\u0631\\u0643\\u064a\\u0628\\u0627\\u0644\\u062a\\u0631\\u0643\\u064a\\u0628\\u0628\", \"\\u0631\\u062f\\u0649\", \"\\u0623\\u0648\\u0644\\u0648\\u064a\", \"\\u0643\\u062f\\u0647\\u0644\\u0645\\u0627\\u0630\\u0627\", \"\\u0627\\u0644\\u0643\\u0631\\u062a\", \"\\u0627\\u0643\\u0645\\u0644\\u0647\\u0627\", \"\\u0648\\u0631\\u064a\", \"\\u0642\\u0641\\u0644\", \"\\u0639\\u062f\\u062f\", \"\\u0648\\u0628\\u064a\\u0642\\u0648\\u0644\\u064a\", \"\\u0645\\u062a\\u062d\\u0648\\u0644\", \"\\u0623\\u0642\\u0633\\u0627\\u0637\", \"\\u0645\\u0639\\u0627\", \"\\u0631\\u0635\\u064a\\u062f\", \"\\u0623\\u0642\\u0633\\u0627\\u0637\\u0645\\u0639\", \"\\u0644\\u0627\\u0631\\u0641\\u0627\\u0642\", \"\\u0627\\u062b\\u0628\\u0627\\u062a\", \"\\u0639\\u0644\\u0634\\u0627\\u0646\", \"\\u0627\\u0628\\u0631\\u0627\\u0647\\u064a\\u0645\", \"\\u0648\\u062c\\u0648\\u062f\", \"\\u0646\\u0633\\u064a\\u0627\\u0646\", \"\\u062a\\u062d\\u064a\\u0629\", \"\\u062d\\u0641\\u0638\\u062a\\u0634\", \"\\u0628\\u0631\\u0636\", \"\\u0645\\u062d\\u0645\\u0648\\u0644\", \"\\u0645\\u0631\\u0648\\u0631\", \"\\u0633\\u0645\\u062d\", \"\\u0633\\u062c\\u0644\", \"\\u0645\\u0646\\u0632\\u0644\", \"\\u0628\\u064a\\u0627\\u0646\", \"\\u0643\\u0644\\u0645\", \"\\u0638\\u0647\\u0631\", \"\\u0645\\u062d\\u0645\\u062f\", \"\\u0644\\u0627\\u0646\", \"\\u062d\\u0636\\u0631\", \"\\u0635\\u0641\\u062d\", \"\\u0631\\u0642\\u0645\", \"\\u062a\\u0642\\u062f\\u064a\\u0645\", \"\\u0645\\u0642\\u062f\\u0645\", \"\\u0639\\u062f\\u0627\\u062f\", \"\\u0633\\u0644\\u0627\\u0645\", \"\\u0648\\u062f\\u064a\", \"\\u0637\\u0644\\u0628\", \"\\u0627\\u0633\\u0645\", \"\\u063a\\u064a\\u0631\", \"\\u0627\\u0633\\u062a\\u0643\\u0645\\u0627\\u0644\", \"\\u0635\\u0648\\u0631\", \"\\u0639\\u0644\\u064a\", \"\\u0639\\u0645\\u062f\", \"\\u062a\\u0635\\u0627\\u0644\\u062d\", \"\\u0627\\u062a\\u0635\\u0644\", \"\\u0642\\u0627\\u0628\\u0644\", \"\\u0628\\u0627\\u0646\\u0646\\u0649\", \"\\u0627\\u0644\\u0627\\u0644\\u0643\\u062a\\u0631\\u0648\\u0646\\u064a\\u0629\", \"\\u0645\\u0648\\u0627\\u0641\\u0642\", \"\\u0645\\u062f\\u0641\\u0648\\u0639\", \"\\u0635\\u0644\\u0649\", \"\\u0648\\u0628\\u0631\\u0643\\u0627\\u062a\\u0647\\u062a\\u0642\\u062f\\u0645\\u062a\", \"\\u062a\\u0641\\u0627\\u062c\\u0626\\u062a\", \"\\u0647\\u062f\\u0645\", \"\\u062a\\u0642\\u062f\\u064a\\u0645\\u0649\", \"\\u062e\\u0633\\u0627\\u0628\\u0649\", \"\\u063a\\u0644\\u0642\", \"\\u0627\\u0633\\u062a\\u0631\\u062c\\u0639\", \"\\u0644\\u0628\\u064a\\u0627\\u0646\\u0627\\u062a\\u0649\", \"\\u062d\\u0633\\u0627\\u0628\\u0649\", \"\\u0645\\u0639\\u0631\\u0641\\u062a\\u0649\", \"\\u0628\\u0627\\u0644\\u0627\\u0645\\u0633\", \"\\u0646\\u0645\\u0648\\u0630\\u062c\", \"\\u0627\\u0644\\u0645\\u0637\\u0644\\u0648\\u0628\\u0647\", \"\\u062e\\u0628\\u0631\", \"\\u0627\\u0633\\u062a\\u0644\\u0645\", \"\\u0628\\u0627\\u0644\\u062f\\u0631\\u0627\\u0633\\u0647\", \"\\u062a\\u062d\\u0645\\u0644\", \"\\u062c\\u062f\\u064a\", \"\\u0633\\u0624\\u0627\\u0644\", \"\\u0648\\u0631\\u0633\\u0627\\u0644\\u0647\", \"\\u0645\\u062a\\u0642\\u062f\\u0645\", \"\\u0633\\u062f\\u0627\\u062f\", \"\\u064a\\u0648\\u0645\", \"\\u0638\\u0647\\u0631\", \"\\u0631\\u062c\\u0627\", \"\\u062a\\u0642\\u062f\\u064a\\u0645\", \"\\u0627\\u0644\\u0645\\u0645\\u0627\\u0631\\u0633\\u0647\", \"\\u0637\\u0644\\u0628\", \"\\u0633\\u0644\\u0627\\u0645\", \"\\u0627\\u0644\", \"\\u0643\\u0647\\u0631\\u0628\\u0627\\u0621\", \"\\u0639\\u062f\\u0627\\u062f\", \"\\u0639\\u0644\\u0645\", \"\\u0639\\u0644\\u0649\", \"\\u0642\\u062f\\u0645\", \"\\u0648\\u062f\\u064a\", \"\\u0627\\u0633\\u0645\", \"\\u0639\\u062f\\u0645\", \"\\u0631\\u062d\\u0645\\u0629\", \"\\u0627\\u0644\\u0644\\u0647\", \"\\u0645\\u0627\\u0644\\u0643\", \"\\u0645\\u0646\\u0635\\u0629\", \"\\u0639\\u0646\\u062f\", \"\\u0645\\u0634\\u0643\\u0644\", \"\\u0645\\u0637\\u0644\\u0648\\u0628\", \"\\u0639\\u0645\\u0644\", \"\\u0631\\u0642\\u0645\", \"\\u0634\\u0631\\u0643\", \"\\u0627\\u0633\\u062a\\u0643\\u0645\\u0627\\u0644\", \"\\u062a\\u0623\\u0643\\u064a\\u062f\", \"\\u0627\\u0644\\u0625\\u0644\\u0643\\u062a\\u0631\\u0648\\u0646\\u064a\\u0645\\u0631\\u0641\\u0642\", \"\\u0625\\u0644\\u0643\\u062a\\u0631\\u0648\\u0646\", \"\\u0646\\u062a\\u0632\\u0643\\u0631\", \"\\u0627\\u0644\\u0642\\u0648\\u0645\\u064a\\u0648\\u0634\\u0643\\u0631\\u0627\", \"\\u0628\\u064a\\u0638\\u0647\\u0631\", \"\\u0627\\u064a\\u062c\\u0627\\u0631\", \"\\u0643\\u062a\\u064a\\u0631\", \"\\u0648\\u0642\\u0641\", \"\\u0627\\u062a\\u0642\\u0628\\u0644\", \"\\u062a\\u0627\\u0644\", \"\\u062e\\u0644\\u0649\", \"\\u062d\\u0627\\u0648\\u0644\", \"\\u0631\\u0633\\u0627\\u0644\\u0629\", \"\\u0627\\u062a\\u0627\\u062e\\u0631\", \"\\u062a\\u0627\\u0646\\u0649\", \"\\u0627\\u0644\\u0627\\u0648\\u0644\", \"\\u0648\\u0627\\u062d\\u062f\", \"\\u0628\\u0631\\u064a\\u062f\", \"\\u0627\\u062f\\u062e\\u0627\\u0644\", \"\\u062d\\u0630\\u0641\", \"\\u0639\\u062f\\u0645\", \"\\u0625\\u0631\\u0633\\u0627\\u0644\", \"\\u0627\\u0633\\u062a\\u0631\\u062c\\u0627\\u0639\", \"\\u0639\\u0627\\u0648\\u0632\", \"\\u062d\\u0633\\u0627\\u0628\", \"\\u0627\\u0644\\u0627\\u064a\\u062c\\u0627\\u0631\", \"\\u0642\\u0628\\u0644\", \"\\u0627\\u0633\\u062a\\u0637\\u0627\\u0639\\u0629\", \"\\u0645\\u0648\\u062b\\u0642\", \"\\u0639\\u0645\\u0644\", \"\\u0645\\u0648\\u0642\\u0639\", \"\\u0627\\u0633\\u062a\\u0643\\u0645\\u0627\\u0644\", \"\\u0628\\u064a\\u0627\\u0646\", \"\\u0643\\u0644\\u0645\", \"\\u0635\\u0648\\u0631\", \"\\u0631\\u0642\\u0645\", \"\\u0642\\u0648\\u0645\\u0649\", \"\\u0628\\u0637\\u0627\\u0642\\u0629\", \"\\u0627\\u0644\\u062e\\u0627\\u0635\", \"\\u0645\\u0637\\u0644\\u0648\\u0628\", \"\\u0637\\u0644\\u0628\", \"\\u0633\\u0631\", \"\\u0646\\u0633\\u0649\", \"\\u0645\\u0642\\u062f\\u0645\", \"\\u0645\\u0641\\u064a\\u0634\", \"\\u062d\\u0627\\u0644\", \"\\u0639\\u0646\\u062f\\u0645\\u0627\", \"\\u0638\\u0647\\u0631\"], \"Freq\": [14.0, 59.0, 11.0, 49.0, 13.0, 23.0, 15.0, 10.0, 12.0, 8.0, 10.0, 9.0, 13.0, 19.0, 13.0, 12.0, 9.0, 6.0, 14.0, 27.0, 6.0, 8.0, 7.0, 20.0, 15.0, 8.0, 11.0, 14.0, 8.0, 8.0, 15.142964057388413, 8.98673940870691, 4.434804694258165, 3.6785973520104385, 3.6703831560608853, 3.6701596990809104, 3.6653879112758694, 3.660775194541319, 3.6249415092810677, 5.013942866301564, 2.7558315810494354, 3.4143420855515147, 3.2836689885499477, 5.253289737841658, 2.5727140949148635, 1.9077589740450196, 1.9077548423289028, 1.9077476118256989, 1.907745029503126, 1.907743480109582, 1.907732634354776, 1.9077333229741287, 1.9077260924709247, 7.572687801180912, 5.043352765929472, 8.741004904050493, 1.8294932528862455, 1.7633429284653224, 1.7493749735136739, 1.7554993818823992, 4.145900986686083, 10.635010428072254, 8.888295074653827, 6.993851588723704, 6.075764986264794, 7.295782252901871, 6.388058683082842, 15.208104693683332, 28.872308271585016, 8.092844692730269, 8.769212818598136, 3.6821785169545347, 10.51949108854781, 8.601185564805395, 10.95281376833184, 9.737856476698939, 7.46078440187788, 7.349473903837586, 14.61925526721745, 6.837080506871391, 6.810525967389757, 5.555610849192846, 5.813073230046341, 7.149311539328337, 5.302974657073262, 5.439598458211818, 1.6292265743831467, 1.5724869590723574, 1.5640069134718593, 1.5606707833772566, 1.5495452987000051, 3.1200874260710303, 3.747868848644258, 1.3763109887077771, 1.3629557720335586, 0.8574770770556162, 0.8574754614692701, 0.8574745144014121, 0.8574766313766241, 0.8574694448028781, 0.8574720074570822, 0.8574677177967842, 0.8574720074570822, 0.8574667150190521, 0.8574656008215722, 0.8574657679511941, 0.8574675506671622, 0.8574670492782962, 0.8574649323030842, 0.8574636509759822, 0.8574606983526601, 0.8574596955749282, 0.8574640409451002, 0.8574624810686282, 0.8574616454205182, 0.8574561301429922, 2.526191200098923, 2.0147981777675423, 1.9918695535057058, 3.5470737497868603, 3.9750635197531743, 10.09075532696122, 2.232883838798503, 1.6292475212957707, 6.070590875933794, 1.3376474447939477, 2.486204435257851, 2.376556038411993, 2.1682022238503054, 3.8312888139715247, 2.2467206116235756, 1.6292245688276827, 2.13545573707374, 2.3667484265140804, 1.6017103534171766, 1.3829488201948508, 5.065517451450018, 2.8206357113474265, 2.324542403132353, 1.85163253614279, 1.6292618944432626, 1.5970249301742994, 1.6037026499311566, 3.6551223900436156, 2.1587099049410403, 1.515504127309476, 1.5093516088273322, 1.509248324139501, 1.507989480266241, 1.5077604099755886, 1.5063419742467425, 1.4762646170178841, 1.4249863488828112, 3.576659614023449, 4.3015348224626315, 0.7977150058033929, 0.7977072128035672, 0.7977058407965556, 0.7977058407965556, 0.7977017796558014, 0.7977011759727162, 0.7977037004656176, 0.797695578184109, 0.7976990905220587, 0.7976981575572908, 0.7976971148319619, 0.7976950842615849, 0.7976658879523785, 0.7976608389665759, 0.7976293376855902, 0.7975860371443049, 0.79758664082739, 0.7975786831867229, 2.225434228012419, 6.5788377206673445, 2.919114167909713, 3.616034020044419, 1.5079940902098, 10.238060326224911, 2.242525923038688, 1.442636944685315, 1.5938748142190258, 4.544930622484924, 3.4906057976096427, 2.209868643825265, 2.38560144845914, 2.2466922144103156, 5.015500050666896, 2.2700896536617807, 2.213696433626997, 1.5713578741873087, 2.4683558624115114, 1.5880136002655796, 1.5804344140125202, 1.5845703017087713, 1.574187611208541, 1.5388759923502455, 1.5351554386165382, 1.5312066926766659, 1.5235596743969542, 1.5156503283766294, 2.8761871331405113, 1.5729010042350067, 1.421707783582864, 1.4150668421093113, 1.3881298775597348, 1.3628349870937706, 1.5729173808848624, 0.8278406999929693, 0.8278351886204217, 0.8278329315821403, 0.8278326691358285, 0.8278284175055775, 0.8278226436867181, 0.827814717808102, 0.8278110960489993, 0.8278070018865353, 0.8277954542488166, 0.8277631208632039, 0.7942650510081216, 0.7942290958634063, 0.7935855250176331, 0.7880422914877765, 0.7816831123745624, 0.7815818080982113, 0.7810827926809724, 0.7798552263022024, 0.7740414106248895, 0.7737643198089009, 0.773304566359906, 0.7730871033459561, 1.4598093192145427, 3.122488587658069, 4.706488341440181, 2.408109517006664, 3.146319552596865, 1.4994894169223802, 1.4145983229535026, 4.465183444785019, 2.228596659655907, 3.8621389286073775, 3.6903104992658524, 1.3703697157267576, 1.5729148614002693, 4.550076218410292, 2.0887747128010323, 2.318034583487296, 5.118820471336233, 1.5391648955751303, 2.095010017255081, 2.086183632853985, 1.6124065226562412, 3.505599735242292, 1.4511863831943466, 1.7241692845323218, 1.8947105721823003, 1.8338738374528147, 1.721780288245353, 1.583919760146278, 1.5072029239829592, 1.387117821517093, 1.2692020838168212, 0.8144769790842715, 0.8144748704484958, 0.8144736786108834, 0.814473036852169, 0.8144712032558422, 0.8144702864576788, 0.8144690029402502, 0.8144663442255763, 0.8144658858264946, 0.8144659775063109, 0.8144675360631887, 0.8144664359053926, 0.8144616685549431, 0.8144641439099841, 0.8144620352742084, 0.81445598440633, 0.8144602016778816, 0.81445598440633, 0.8144573596035751, 0.8144511253760641, 0.8144478249026759, 0.8144492917797373, 0.8143432182322337, 2.8820756772390403, 0.7693101841265789, 0.7655540162112825, 0.7546977049196508, 0.7506155694173628, 1.5475340300764848, 3.2887413054487853, 3.3439611589872595, 1.5925970434820824, 11.823205140260296, 4.181558595914488, 4.109582972422724, 2.7663845502822224, 1.54750835972791, 1.5575770038774694, 2.8457319644461325, 2.2670055074845776, 4.026451015440361, 1.3270058412989798, 1.3759562622769623, 1.5820386457536426, 1.5474977248692148, 1.8795033445648042, 1.686246692354431, 1.37127655773178, 1.6099712854763915, 1.4906996949722895, 1.5145264541203185, 1.5814487778153208, 1.1225108938422008, 0.8610175044099803, 0.8420111783252132, 0.8452931323904987, 1.3526073227297506, 1.2686987089669999, 1.530694324966773, 0.7118937155816304, 0.7118904992189037, 0.711889212673813, 0.7118881405529042, 0.711884495341814, 0.7118829943725414, 0.7118822796252688, 0.7118747747789067, 0.7118780626163606, 0.7118749892030884, 0.711873488233816, 0.7118636247214543, 0.7118505448463658, 0.7118507592705475, 0.6796050790169811, 0.6767162849653431, 0.6709929461800568, 0.6698863744526287, 0.6678271160855618, 0.6485781143379125, 0.6448011753253508, 0.6399460400520828, 0.6289550138677881, 0.6289287111681567, 0.6248985371969153, 0.62414447882433, 0.9300770391649235, 2.7248493248354415, 4.270855108825151, 1.54551861224871, 1.894742557193518, 1.061047257920088, 3.0852228983843326, 1.5076137060402086, 2.0918938704829517, 3.6981452732311384, 2.3280606642930417, 1.6786979003992768, 0.9655702451262422, 1.8977133327573223, 1.6796618085710953, 1.4954840159759466, 1.8300479225620596, 1.687560623629972, 0.9476951305859707, 1.7627793400525402, 1.234880727663184, 0.9164012792753159, 1.5793507455485232, 0.9767370991395947, 1.2236178830911222, 1.9087124355857972, 1.2821929945240962, 1.1038536864998483, 1.1376721681267552, 1.0209335682150935, 0.9924388101733663, 0.9824164094928893, 2.718209234149778, 1.3865469814641072, 1.7400480719456612, 2.6098310788980137, 1.2298802232100514, 0.7978466152142442, 0.7978442294830371, 0.7978421945946547, 0.797842685774609, 0.7978430366174336, 0.7978421945946547, 0.7978392475149283, 0.7978407210547914, 0.7978360899295072, 0.7978399492005774, 0.7978389668406686, 0.7978351075695984, 0.7978364407723317, 0.7978320201527421, 0.7978336340297352, 0.7978310377928334, 0.7978127939659558, 0.7977859194055938, 1.5159277108915725, 0.7672110899414996, 0.7618215828076101, 0.7614668105434066, 0.7575268456235039, 0.6822704984050704, 0.6773157556993861, 1.3831825391136263, 2.465194580761277, 3.436522307102711, 2.3140653853130786, 2.1745193358865693, 2.715747159544087, 2.4395036237523042, 1.51594595471845, 2.43151703769383, 1.3827253207446488, 1.9783030483788306, 1.1560667521919377, 2.2692929290986115, 2.1337828351888066, 1.3594650028242856, 1.8161568268906663, 1.3758444509320842, 1.2736548824314462, 1.4639608717165062, 1.220408729980874, 0.876365449858339, 0.8683053973124001, 0.8220558928064999, 0.7978664027495499, 1.7600987225077676, 1.1834490655252443, 0.6376391417409232, 0.6376390398233992, 0.6376356765451046, 0.637633689153385, 0.637629663411184, 0.6376245675349802, 0.6376241598648839, 0.6376150892052409, 0.637611114421802, 0.6376084136074139, 0.6376034706074961, 0.6376011265044423, 0.6375958777519524, 0.6375957248756663, 0.6375913424221309, 0.6375808958759129, 0.6375811506697232, 0.6375780931440008, 0.6272020738527285, 0.6266599235833987, 0.6258120207418368, 0.625537047261876, 0.6248462502836793, 0.6238742118977911, 0.623588384201516, 0.6202488526900717, 0.6043334630889063, 0.588960427592119, 1.8461974238380694, 1.2008913325133754, 1.1670850859418525, 1.2115432425423251, 1.879622498869543, 1.147231348416526, 2.3325350071274067, 1.4695912792796264, 1.1881391061482385, 1.18838860024718, 1.9618864514389085, 1.2997659050744002, 1.3186243160595867, 1.1697094621868456, 1.1564752678503465, 1.1095917799294037, 0.6805235898521169, 0.7348895566382505, 0.7556886301581569, 0.6630463141944654, 0.7541311775139681, 0.7350437068934176, 0.6951276576297404, 0.6867339851405355, 0.6837517255097446, 0.668385161775736, 0.6618907733064757, 0.6571983376216659, 1.028623732726956, 0.5413749421516719, 0.5413732497257125, 0.5413753483339021, 0.5413686124785839, 0.5413675631744891, 0.5413383519024307, 0.5178258503828785, 0.517485131188742, 0.5166337393856308, 0.5145995110795294, 0.5133674249811219, 0.5413762960924393, 0.541382016492182, 0.5179129426227467, 0.5176523428735259, 0.5182312879457006, 0.54137460366648, 1.0286529101504953, 0.5413769730628231, 0.5246458531197944, 0.5414165419817527, 0.5413700002678705, 0.5413962667187597, 0.5211306505537032, 2.0660391444334723, 0.5413797486413965, 0.5413828288566425, 0.5413705418441775, 0.5413597780150761, 1.5282457479454978, 1.5159041716676802, 1.0057176951256779, 1.00221525345132, 1.0289215996958019, 1.0286666526492854, 1.1911023113758743, 0.795216259092022, 0.6040537683136397, 0.5976513886064533, 0.567986140208719, 0.6085814816341722, 0.5415681833477106, 0.541520118450465, 0.5413966052039516, 0.5413846905251978, 0.5413794101562046, 0.5413785977917441, 0.5413763299409585], \"Total\": [14.0, 59.0, 11.0, 49.0, 13.0, 23.0, 15.0, 10.0, 12.0, 8.0, 10.0, 9.0, 13.0, 19.0, 13.0, 12.0, 9.0, 6.0, 14.0, 27.0, 6.0, 8.0, 7.0, 20.0, 15.0, 8.0, 11.0, 14.0, 8.0, 8.0, 17.366391143250237, 10.43753536583068, 5.159666609737053, 4.300505468163572, 4.297504605293315, 4.297426031521181, 4.295687610115142, 4.293978527062052, 4.287796102786209, 6.021145117231595, 3.4019872980868646, 4.255159679873772, 4.230372306370676, 6.77138707587632, 3.3610505510714157, 2.506436329856762, 2.5064340006261583, 2.506426413219274, 2.506425304931505, 2.50642411214145, 2.5064146664383293, 2.506420643237868, 2.5064177692226783, 9.977874900812715, 6.732769966151825, 11.775856304687448, 2.4948005195131757, 2.4650745404405474, 2.463981035657478, 2.475109920471519, 5.871026469889965, 15.999603184693337, 13.42814825034572, 10.53962213702953, 9.120062683305235, 11.515847035667894, 9.897758349058055, 27.124972920549762, 59.530375211287165, 13.975352002846606, 15.605333519311, 5.534095104214408, 19.799622160354115, 16.169616216360755, 23.453448425469677, 20.399657177828146, 14.343959057144431, 14.506944740231528, 49.876595121247085, 13.061922320491686, 15.40706143319398, 11.055941536341486, 13.052168320497195, 22.399165593559577, 12.475706962123065, 14.654112709272232, 2.2425748373240246, 2.2386094520617523, 2.238018662306337, 2.2377843493221263, 2.237004015839514, 4.6736818390370685, 5.860701887465763, 2.2766158682152136, 2.2800844797550424, 1.4708120431633867, 1.4708107873983214, 1.4708105064036752, 1.470815206361197, 1.470805705515671, 1.4708115592720312, 1.4708045379141461, 1.4708119125192198, 1.4708040365847084, 1.4708026896496549, 1.4708043562818272, 1.470808787879441, 1.4708081143095941, 1.4708057561814614, 1.47080482705683, 1.4708001172581762, 1.4707986683583072, 1.4708061836520807, 1.470804733546012, 1.4708037937670078, 1.4707952411115306, 5.080782544339504, 3.9696346057398624, 3.9443170959903724, 8.206942374558782, 9.486350536012788, 49.876595121247085, 5.976966392501193, 3.772773918653784, 27.124972920549762, 3.0282598852158356, 8.482443069796616, 8.028175639553737, 7.11104715994962, 22.399165593559577, 8.547813628978938, 4.755996010349574, 8.04074942422035, 9.897758349058055, 4.760192988916809, 3.740201582765926, 59.530375211287165, 20.399657177828146, 13.42814825034572, 13.752773711199708, 9.550444517276352, 8.816336561644986, 11.515847035667894, 4.289487319786215, 2.8448782200923097, 2.1349386027022583, 2.135233892691955, 2.1352440033152664, 2.1352975647061334, 2.135292759913755, 2.135349905802438, 2.1223254673695586, 2.1058438751969946, 5.5871634338490175, 7.158648484612372, 1.4170252503760377, 1.417020823648902, 1.417019787949875, 1.4170201064277264, 1.417016151364522, 1.4170168476308986, 1.4170220456021132, 1.4170115123023277, 1.4170187824762057, 1.4170171337476267, 1.4170164351962706, 1.417015751056581, 1.4170097593142144, 1.4170073242064438, 1.4169976477508244, 1.4169803557598804, 1.416982189083652, 1.416978617480281, 4.193162125469421, 13.337004156603436, 5.66415320575409, 7.370344398147278, 2.9070209945974446, 49.876595121247085, 6.369267178307733, 3.525759630938533, 4.222170084260846, 22.399165593559577, 16.169616216360755, 8.816336561644986, 10.46557185145394, 9.983144551123193, 59.530375211287165, 12.475706962123065, 13.052168320497195, 6.37949964670341, 27.124972920549762, 7.235344356064625, 8.547813628978938, 13.357499334058083, 14.654112709272232, 13.42814825034572, 13.752773711199708, 14.506944740231528, 20.399657177828146, 6.328098781163664, 3.674135939343698, 2.1892150635822376, 2.188092685519381, 2.1905887525046497, 2.190928932321993, 2.1829527716539467, 2.676454021720507, 1.4441373043305163, 1.444132536402296, 1.4441301269211035, 1.4441303548590119, 1.444126483664024, 1.4441270998052078, 1.444127399280701, 1.4441254273302422, 1.4441239885963593, 1.4441226227225097, 1.444108997829072, 1.4394236983539437, 1.439423433541418, 1.4393334912071776, 1.4426774268576434, 1.4376453399661866, 1.437638367138435, 1.4375693942005092, 1.4373987962077335, 1.4421564961674558, 1.4421504076509488, 1.4421268530089648, 1.4421193742227263, 2.822493026240912, 6.37949964670341, 9.983144551123193, 5.007995803312131, 7.020121349268642, 3.0943497957239403, 2.8909891399312566, 13.357499334058083, 5.976966392501193, 13.061922320491686, 12.267130662402435, 3.0877209336900595, 3.7938014355466785, 19.799622160354115, 6.328098781163664, 10.180997799208924, 49.876595121247085, 5.066224212316577, 11.20716562852407, 11.8213299755113, 7.698280570759042, 59.530375211287165, 8.200097778691529, 15.40706143319398, 27.124972920549762, 22.399165593559577, 23.453448425469677, 20.399657177828146, 14.654112709272232, 2.175165604572105, 2.1513392604114343, 1.4321117047424796, 1.432109926626423, 1.4321089085899374, 1.4321088120776715, 1.4321069049260675, 1.4321060192030781, 1.4321052089413133, 1.432102836129792, 1.4321022212553145, 1.4321028087869119, 1.4321075055035077, 1.4321058123277601, 1.4320984086011095, 1.4321065438171046, 1.4321040492004178, 1.4320939586061376, 1.4321042554392254, 1.4320989194475053, 1.4321032174413597, 1.4320987653628994, 1.4320939693608477, 1.4320966608420802, 1.4320659735038745, 5.261962110900922, 1.4222912597271677, 1.4214764989744388, 1.419113132520521, 1.4182290811555471, 3.0390023140406845, 7.73414680373508, 8.627571039083456, 3.740201582765926, 59.530375211287165, 14.654112709272232, 14.506944740231528, 8.978406367074365, 3.83984974438623, 4.648601830536183, 22.399165593559577, 13.752773711199708, 49.876595121247085, 4.699958803110044, 5.762710018741592, 8.816336561644986, 8.89107004814273, 15.605333519311, 11.8213299755113, 7.251689970505112, 12.018377869576586, 9.550444517276352, 10.718071574055498, 16.169616216360755, 15.999603184693337, 7.130833138060745, 3.6249423516871393, 8.04074942422035, 1.9805059248843717, 1.9603946184177488, 2.803719629264828, 1.339786859264629, 1.3397844897895679, 1.3397827805619922, 1.3397821831859191, 1.339779174265203, 1.3397776203836387, 1.339777140323395, 1.339770563713957, 1.339779798850618, 1.3397770548033945, 1.339776957105204, 1.3397798511299661, 1.3397728141533096, 1.3397748819300843, 1.3463732605138072, 1.3469656457768657, 1.3481216652074501, 1.3483606570685611, 1.3487760851858381, 1.3246037819452239, 1.3236998277768335, 1.3225338890453848, 1.3198931886116987, 1.3198842079814106, 1.3189221545396383, 1.3187384507874582, 2.044521163105567, 6.858534518622281, 14.343959057144431, 4.333749450755365, 6.397504386661973, 2.8873598667685636, 15.40706143319398, 5.066224212316577, 8.978406367074365, 23.453448425469677, 12.267130662402435, 7.235344356064625, 2.6153758152859203, 10.718071574055498, 9.486350536012788, 8.028175639553737, 13.357499334058083, 12.018377869576586, 2.7523197794221703, 13.975352002846606, 5.762710018741592, 2.945696215769082, 19.799622160354115, 3.910918446949802, 8.547813628978938, 49.876595121247085, 13.337004156603436, 8.482443069796616, 11.20716562852407, 11.515847035667894, 7.272953956272276, 27.124972920549762, 3.572683615643679, 2.1346454973891715, 2.842591987932175, 4.314141902075216, 2.1370541407664057, 1.4171470211148265, 1.4171464807581096, 1.4171429571024083, 1.4171456441066785, 1.417146396498518, 1.4171462033744446, 1.4171427876288962, 1.4171455280700418, 1.4171374859999741, 1.4171448256350765, 1.417143564619389, 1.4171391708258658, 1.4171427305926851, 1.4171361170042143, 1.4171399527909805, 1.417138615984883, 1.4171394744480643, 1.4171260960347996, 2.7867872585776334, 1.4250624304479402, 1.426450892820338, 1.4265401633611576, 1.4275557010504887, 1.4189579342266052, 1.4177866379739439, 3.0392707774055134, 6.397504386661973, 10.46557185145394, 6.858534518622281, 8.028175639553737, 12.018377869576586, 13.357499334058083, 5.44550345971427, 15.40706143319398, 4.608600133664285, 11.055941536341486, 3.7016266659586887, 23.453448425469677, 20.399657177828146, 9.550444517276352, 49.876595121247085, 15.605333519311, 13.052168320497195, 59.530375211287165, 19.799622160354115, 3.7855753045552882, 11.8213299755113, 13.975352002846606, 4.449368175145695, 2.42710386222075, 1.8538846100454867, 1.2729609117669807, 1.272961635674937, 1.2729585110992545, 1.2729574811777127, 1.2729575723904896, 1.2729501161446322, 1.2729546367382254, 1.2729478950791604, 1.2729556903976638, 1.2729561221919299, 1.2729517631934624, 1.272953046487316, 1.2729504615070186, 1.2729510766852938, 1.2729470119199875, 1.272944623396713, 1.2729454162864848, 1.2729444486418449, 1.2755768069615332, 1.2757097885993185, 1.2759239239565616, 1.2759916611797208, 1.2761619776089141, 1.2764015040056984, 1.276475359126711, 1.277308868958006, 1.2920849913341108, 1.3009059962691603, 8.200097778691529, 5.18063951447627, 5.44550345971427, 6.063778588954063, 20.399657177828146, 6.328098781163664, 59.530375211287165, 15.605333519311, 8.816336561644986, 9.486350536012788, 49.876595121247085, 13.752773711199708, 15.999603184693337, 13.337004156603436, 13.052168320497195, 19.799622160354115, 2.616265696852222, 6.355552182686195, 9.977874900812715, 2.006472271647291, 10.53962213702953, 12.475706962123065, 7.698280570759042, 8.04074942422035, 8.547813628978938, 23.453448425469677, 9.897758349058055, 11.8213299755113, 1.6735790156338037, 1.1863242479966258, 1.1863236730578954, 1.1863314566154728, 1.1863200979468473, 1.186321992650663, 1.1863314282621116, 1.1905065184792996, 1.1905701155858954, 1.190719114305692, 1.1910740266544715, 1.1913013460501842, 1.8270137899256291, 1.9313841560222853, 1.908554920655337, 1.9086031686687899, 1.938236027158064, 2.0480504404562123, 3.910918446949802, 2.08415840358772, 2.0414134340973247, 2.616265696852222, 2.676454021720507, 2.832061179884986, 2.7599278838411716, 11.20716562852407, 2.9500577295183184, 2.99367856092323, 2.9936243745682467, 2.9936365864502514, 8.547813628978938, 10.180997799208924, 11.8213299755113, 12.018377869576586, 13.357499334058083, 13.975352002846606, 23.453448425469677, 14.343959057144431, 7.235344356064625, 8.206942374558782, 8.04074942422035, 59.530375211287165, 6.37949964670341, 7.020121349268642, 9.550444517276352, 4.222170084260846, 14.654112709272232, 5.534095104214408, 5.44550345971427], \"Category\": [\"Default\", \"Default\", \"Default\", \"Default\", \"Default\", \"Default\", \"Default\", \"Default\", \"Default\", \"Default\", \"Default\", \"Default\", \"Default\", \"Default\", \"Default\", \"Default\", \"Default\", \"Default\", \"Default\", \"Default\", \"Default\", \"Default\", \"Default\", \"Default\", \"Default\", \"Default\", \"Default\", \"Default\", \"Default\", \"Default\", \"Topic1\", \"Topic1\", \"Topic1\", \"Topic1\", \"Topic1\", \"Topic1\", \"Topic1\", \"Topic1\", \"Topic1\", \"Topic1\", \"Topic1\", \"Topic1\", \"Topic1\", \"Topic1\", \"Topic1\", \"Topic1\", \"Topic1\", \"Topic1\", \"Topic1\", \"Topic1\", \"Topic1\", \"Topic1\", \"Topic1\", \"Topic1\", \"Topic1\", \"Topic1\", \"Topic1\", \"Topic1\", \"Topic1\", \"Topic1\", \"Topic1\", \"Topic1\", \"Topic1\", \"Topic1\", \"Topic1\", \"Topic1\", \"Topic1\", \"Topic1\", \"Topic1\", \"Topic1\", \"Topic1\", \"Topic1\", \"Topic1\", \"Topic1\", \"Topic1\", \"Topic1\", \"Topic1\", \"Topic1\", \"Topic1\", \"Topic1\", \"Topic1\", \"Topic1\", \"Topic1\", \"Topic1\", \"Topic1\", \"Topic1\", \"Topic2\", \"Topic2\", \"Topic2\", \"Topic2\", \"Topic2\", \"Topic2\", \"Topic2\", \"Topic2\", \"Topic2\", \"Topic2\", \"Topic2\", \"Topic2\", \"Topic2\", \"Topic2\", \"Topic2\", \"Topic2\", \"Topic2\", \"Topic2\", \"Topic2\", \"Topic2\", \"Topic2\", \"Topic2\", \"Topic2\", \"Topic2\", \"Topic2\", \"Topic2\", \"Topic2\", \"Topic2\", \"Topic2\", \"Topic2\", \"Topic2\", \"Topic2\", \"Topic2\", \"Topic2\", \"Topic2\", \"Topic2\", \"Topic2\", \"Topic2\", \"Topic2\", \"Topic2\", \"Topic2\", \"Topic2\", \"Topic2\", \"Topic2\", \"Topic2\", \"Topic2\", \"Topic2\", \"Topic2\", \"Topic2\", \"Topic2\", \"Topic2\", \"Topic2\", \"Topic2\", \"Topic2\", \"Topic2\", \"Topic2\", \"Topic2\", \"Topic3\", \"Topic3\", \"Topic3\", \"Topic3\", \"Topic3\", \"Topic3\", \"Topic3\", \"Topic3\", \"Topic3\", \"Topic3\", \"Topic3\", \"Topic3\", \"Topic3\", \"Topic3\", \"Topic3\", \"Topic3\", \"Topic3\", \"Topic3\", \"Topic3\", \"Topic3\", \"Topic3\", \"Topic3\", \"Topic3\", \"Topic3\", \"Topic3\", \"Topic3\", \"Topic3\", \"Topic3\", \"Topic3\", \"Topic3\", \"Topic3\", \"Topic3\", \"Topic3\", \"Topic3\", \"Topic3\", \"Topic3\", \"Topic3\", \"Topic3\", \"Topic3\", \"Topic3\", \"Topic3\", \"Topic3\", \"Topic3\", \"Topic3\", \"Topic3\", \"Topic3\", \"Topic3\", \"Topic3\", \"Topic3\", \"Topic3\", \"Topic3\", \"Topic3\", \"Topic3\", \"Topic3\", \"Topic3\", \"Topic3\", \"Topic3\", \"Topic3\", \"Topic4\", \"Topic4\", \"Topic4\", \"Topic4\", \"Topic4\", \"Topic4\", \"Topic4\", \"Topic4\", \"Topic4\", \"Topic4\", \"Topic4\", \"Topic4\", \"Topic4\", \"Topic4\", \"Topic4\", \"Topic4\", \"Topic4\", \"Topic4\", \"Topic4\", \"Topic4\", \"Topic4\", \"Topic4\", \"Topic4\", \"Topic4\", \"Topic4\", \"Topic4\", \"Topic4\", \"Topic4\", \"Topic4\", \"Topic4\", \"Topic4\", \"Topic4\", \"Topic4\", \"Topic4\", \"Topic4\", \"Topic4\", \"Topic4\", \"Topic4\", \"Topic4\", \"Topic4\", \"Topic4\", \"Topic4\", \"Topic4\", \"Topic4\", \"Topic4\", \"Topic4\", \"Topic4\", \"Topic4\", \"Topic4\", \"Topic4\", \"Topic4\", \"Topic4\", \"Topic4\", \"Topic4\", \"Topic4\", \"Topic4\", \"Topic4\", \"Topic4\", \"Topic4\", \"Topic5\", \"Topic5\", \"Topic5\", \"Topic5\", \"Topic5\", \"Topic5\", \"Topic5\", \"Topic5\", \"Topic5\", \"Topic5\", \"Topic5\", \"Topic5\", \"Topic5\", \"Topic5\", \"Topic5\", \"Topic5\", \"Topic5\", \"Topic5\", \"Topic5\", \"Topic5\", \"Topic5\", \"Topic5\", \"Topic5\", \"Topic5\", \"Topic5\", \"Topic5\", \"Topic5\", \"Topic5\", \"Topic5\", \"Topic5\", \"Topic5\", \"Topic5\", \"Topic5\", \"Topic5\", \"Topic5\", \"Topic5\", \"Topic5\", \"Topic5\", \"Topic5\", \"Topic5\", \"Topic5\", \"Topic5\", \"Topic5\", \"Topic5\", \"Topic5\", \"Topic5\", \"Topic5\", \"Topic5\", \"Topic5\", \"Topic5\", \"Topic5\", \"Topic5\", \"Topic5\", \"Topic5\", \"Topic5\", \"Topic5\", \"Topic5\", \"Topic5\", \"Topic6\", \"Topic6\", \"Topic6\", \"Topic6\", \"Topic6\", \"Topic6\", \"Topic6\", \"Topic6\", \"Topic6\", \"Topic6\", \"Topic6\", \"Topic6\", \"Topic6\", \"Topic6\", \"Topic6\", \"Topic6\", \"Topic6\", \"Topic6\", \"Topic6\", \"Topic6\", \"Topic6\", \"Topic6\", \"Topic6\", \"Topic6\", \"Topic6\", \"Topic6\", \"Topic6\", \"Topic6\", \"Topic6\", \"Topic6\", \"Topic6\", \"Topic6\", \"Topic6\", \"Topic6\", \"Topic6\", \"Topic6\", \"Topic6\", \"Topic6\", \"Topic6\", \"Topic6\", \"Topic6\", \"Topic6\", \"Topic6\", \"Topic6\", \"Topic6\", \"Topic6\", \"Topic6\", \"Topic6\", \"Topic6\", \"Topic6\", \"Topic6\", \"Topic6\", \"Topic6\", \"Topic6\", \"Topic6\", \"Topic6\", \"Topic6\", \"Topic6\", \"Topic6\", \"Topic6\", \"Topic6\", \"Topic7\", \"Topic7\", \"Topic7\", \"Topic7\", \"Topic7\", \"Topic7\", \"Topic7\", \"Topic7\", \"Topic7\", \"Topic7\", \"Topic7\", \"Topic7\", \"Topic7\", \"Topic7\", \"Topic7\", \"Topic7\", \"Topic7\", \"Topic7\", \"Topic7\", \"Topic7\", \"Topic7\", \"Topic7\", \"Topic7\", \"Topic7\", \"Topic7\", \"Topic7\", \"Topic7\", \"Topic7\", \"Topic7\", \"Topic7\", \"Topic7\", \"Topic7\", \"Topic7\", \"Topic7\", \"Topic7\", \"Topic7\", \"Topic7\", \"Topic7\", \"Topic7\", \"Topic7\", \"Topic7\", \"Topic7\", \"Topic7\", \"Topic7\", \"Topic7\", \"Topic7\", \"Topic7\", \"Topic7\", \"Topic7\", \"Topic7\", \"Topic7\", \"Topic7\", \"Topic7\", \"Topic7\", \"Topic8\", \"Topic8\", \"Topic8\", \"Topic8\", \"Topic8\", \"Topic8\", \"Topic8\", \"Topic8\", \"Topic8\", \"Topic8\", \"Topic8\", \"Topic8\", \"Topic8\", \"Topic8\", \"Topic8\", \"Topic8\", \"Topic8\", \"Topic8\", \"Topic8\", \"Topic8\", \"Topic8\", \"Topic8\", \"Topic8\", \"Topic8\", \"Topic8\", \"Topic8\", \"Topic8\", \"Topic8\", \"Topic8\", \"Topic8\", \"Topic8\", \"Topic8\", \"Topic8\", \"Topic8\", \"Topic8\", \"Topic8\", \"Topic8\", \"Topic8\", \"Topic8\", \"Topic8\", \"Topic8\", \"Topic8\", \"Topic8\", \"Topic8\", \"Topic8\", \"Topic8\", \"Topic8\", \"Topic8\", \"Topic8\", \"Topic8\", \"Topic8\", \"Topic8\", \"Topic8\", \"Topic8\", \"Topic8\", \"Topic8\", \"Topic8\", \"Topic8\", \"Topic9\", \"Topic9\", \"Topic9\", \"Topic9\", \"Topic9\", \"Topic9\", \"Topic9\", \"Topic9\", \"Topic9\", \"Topic9\", \"Topic9\", \"Topic9\", \"Topic9\", \"Topic9\", \"Topic9\", \"Topic9\", \"Topic9\", \"Topic9\", \"Topic9\", \"Topic9\", \"Topic9\", \"Topic9\", \"Topic9\", \"Topic9\", \"Topic9\", \"Topic9\", \"Topic9\", \"Topic9\", \"Topic9\", \"Topic9\", \"Topic9\", \"Topic9\", \"Topic9\", \"Topic9\", \"Topic9\", \"Topic9\", \"Topic9\", \"Topic9\", \"Topic9\", \"Topic9\", \"Topic9\", \"Topic9\", \"Topic9\", \"Topic9\", \"Topic9\", \"Topic9\", \"Topic9\", \"Topic9\", \"Topic9\"], \"logprob\": [30.0, 29.0, 28.0, 27.0, 26.0, 25.0, 24.0, 23.0, 22.0, 21.0, 20.0, 19.0, 18.0, 17.0, 16.0, 15.0, 14.0, 13.0, 12.0, 11.0, 10.0, 9.0, 8.0, 7.0, 6.0, 5.0, 4.0, 3.0, 2.0, 1.0, -3.8883, -4.4101, -5.1164, -5.3033, -5.3055, -5.3056, -5.3069, -5.3082, -5.318, -4.9936, -5.5921, -5.3779, -5.4169, -4.947, -5.6609, -5.9599, -5.9599, -5.9599, -5.9599, -5.9599, -5.9599, -5.9599, -5.9599, -4.5813, -4.9878, -4.4378, -6.0018, -6.0386, -6.0466, -6.0431, -5.1837, -4.2417, -4.4211, -4.6608, -4.8015, -4.6185, -4.7514, -3.884, -3.243, -4.5149, -4.4346, -5.3023, -4.2526, -4.4539, -4.2122, -4.3298, -4.5962, -4.6112, -3.9235, -4.6835, -4.6874, -4.891, -4.8457, -4.6388, -4.9376, -4.9121, -4.9895, -5.0249, -5.0304, -5.0325, -5.0396, -4.3397, -4.1564, -5.1582, -5.1679, -5.6314, -5.6314, -5.6314, -5.6314, -5.6314, -5.6314, -5.6314, -5.6314, -5.6314, -5.6314, -5.6314, -5.6314, -5.6314, -5.6314, -5.6314, -5.6314, -5.6314, -5.6314, -5.6314, -5.6314, -5.6314, -4.5509, -4.7771, -4.7885, -4.2115, -4.0976, -3.166, -4.6743, -4.9895, -3.6741, -5.1867, -4.5668, -4.6119, -4.7037, -4.1344, -4.6681, -4.9895, -4.7189, -4.6161, -5.0065, -5.1534, -3.8551, -4.4406, -4.6341, -4.8615, -4.9895, -5.0095, -5.0053, -4.1665, -4.6931, -5.0468, -5.0509, -5.051, -5.0518, -5.052, -5.0529, -5.0731, -5.1084, -4.1882, -4.0036, -5.6886, -5.6886, -5.6886, -5.6886, -5.6886, -5.6886, -5.6886, -5.6886, -5.6886, -5.6886, -5.6886, -5.6886, -5.6887, -5.6887, -5.6887, -5.6888, -5.6888, -5.6888, -4.6626, -3.5787, -4.3913, -4.1772, -5.0518, -3.1365, -4.655, -5.0961, -4.9964, -3.9486, -4.2125, -4.6697, -4.5931, -4.6531, -3.8501, -4.6428, -4.6679, -5.0107, -4.559, -5.0001, -5.0049, -5.0023, -5.0089, -5.0315, -5.034, -5.0365, -5.0415, -5.0468, -4.3616, -4.9651, -5.0662, -5.0709, -5.0901, -5.1085, -4.9651, -5.607, -5.607, -5.607, -5.607, -5.607, -5.607, -5.607, -5.607, -5.607, -5.607, -5.6071, -5.6484, -5.6484, -5.6492, -5.6563, -5.6644, -5.6645, -5.6651, -5.6667, -5.6742, -5.6745, -5.6751, -5.6754, -5.0397, -4.2794, -3.8691, -4.5392, -4.2718, -5.0129, -5.0712, -3.9217, -4.6167, -4.0668, -4.1123, -5.103, -4.9651, -3.9029, -4.6815, -4.5773, -3.7851, -4.9868, -4.6785, -4.6827, -4.9403, -4.1637, -5.0457, -4.8733, -4.779, -4.8116, -4.8747, -4.9581, -5.0078, -4.9554, -5.0442, -5.4878, -5.4878, -5.4878, -5.4878, -5.4878, -5.4878, -5.4878, -5.4878, -5.4878, -5.4878, -5.4878, -5.4878, -5.4878, -5.4878, -5.4878, -5.4878, -5.4878, -5.4878, -5.4878, -5.4878, -5.4878, -5.4878, -5.488, -4.2241, -5.5449, -5.5498, -5.564, -5.5695, -4.8459, -4.0921, -4.0754, -4.8172, -2.8125, -3.8519, -3.8693, -4.2651, -4.846, -4.8395, -4.2368, -4.4641, -3.8897, -4.9997, -4.9635, -4.8239, -4.846, -4.6516, -4.7601, -4.9669, -4.8064, -4.8834, -4.8675, -4.8243, -5.167, -5.4322, -5.4546, -5.4507, -4.7316, -4.7956, -4.6079, -5.3735, -5.3735, -5.3735, -5.3735, -5.3735, -5.3735, -5.3735, -5.3735, -5.3735, -5.3735, -5.3735, -5.3735, -5.3735, -5.3735, -5.4199, -5.4241, -5.4326, -5.4343, -5.4374, -5.4666, -5.4725, -5.48, -5.4973, -5.4974, -5.5038, -5.505, -5.1061, -4.0312, -3.5818, -4.5983, -4.3946, -4.9744, -3.907, -4.6231, -4.2956, -3.7258, -4.1886, -4.5156, -5.0687, -4.393, -4.515, -4.6312, -4.4293, -4.5104, -5.0874, -4.4667, -4.8227, -5.1209, -4.5766, -5.0572, -4.8318, -4.3872, -4.7851, -4.9348, -4.9047, -5.0129, -5.0412, -5.0514, -4.0152, -4.6884, -4.4613, -4.0559, -4.8083, -5.241, -5.241, -5.241, -5.241, -5.241, -5.241, -5.241, -5.241, -5.241, -5.241, -5.241, -5.2411, -5.241, -5.2411, -5.2411, -5.2411, -5.2411, -5.2411, -4.5992, -5.2802, -5.2872, -5.2877, -5.2929, -5.3975, -5.4048, -4.6908, -4.1129, -3.7807, -4.1762, -4.2384, -4.0161, -4.1234, -4.5992, -4.1267, -4.6911, -4.333, -4.8702, -4.1957, -4.2573, -4.7081, -4.4185, -4.6961, -4.7733, -4.6341, -4.816, -5.1472, -5.1564, -5.2111, -5.241, -4.1299, -4.5269, -5.1453, -5.1453, -5.1453, -5.1453, -5.1453, -5.1453, -5.1453, -5.1453, -5.1453, -5.1453, -5.1454, -5.1454, -5.1454, -5.1454, -5.1454, -5.1454, -5.1454, -5.1454, -5.1618, -5.1627, -5.164, -5.1645, -5.1656, -5.1671, -5.1676, -5.1729, -5.1989, -5.2247, -4.0822, -4.5122, -4.5408, -4.5034, -4.0642, -4.558, -3.8484, -4.3103, -4.5229, -4.5227, -4.0214, -4.4331, -4.4187, -4.5386, -4.5499, -4.5913, -5.0802, -5.0033, -4.9754, -5.1062, -4.9775, -5.0031, -5.059, -5.0711, -5.0755, -5.0982, -5.108, -5.1151, -4.258, -4.8998, -4.8998, -4.8998, -4.8998, -4.8998, -4.8999, -4.9443, -4.945, -4.9466, -4.9506, -4.953, -4.8998, -4.8998, -4.9441, -4.9446, -4.9435, -4.8998, -4.2579, -4.8998, -4.9312, -4.8998, -4.8998, -4.8998, -4.9379, -3.5606, -4.8998, -4.8998, -4.8998, -4.8999, -3.8621, -3.8702, -4.2805, -4.284, -4.2577, -4.2579, -4.1113, -4.5153, -4.7903, -4.8009, -4.8519, -4.7828, -4.8995, -4.8996, -4.8998, -4.8998, -4.8998, -4.8998, -4.8998], \"loglift\": [30.0, 29.0, 28.0, 27.0, 26.0, 25.0, 24.0, 23.0, 22.0, 21.0, 20.0, 19.0, 18.0, 17.0, 16.0, 15.0, 14.0, 13.0, 12.0, 11.0, 10.0, 9.0, 8.0, 7.0, 6.0, 5.0, 4.0, 3.0, 2.0, 1.0, 0.9177, 0.9051, 0.9034, 0.8985, 0.897, 0.897, 0.8961, 0.8952, 0.8868, 0.8717, 0.8441, 0.8346, 0.8014, 0.8009, 0.7875, 0.7818, 0.7818, 0.7818, 0.7818, 0.7818, 0.7818, 0.7818, 0.7818, 0.7789, 0.7658, 0.7567, 0.7446, 0.7197, 0.7122, 0.7112, 0.7068, 0.6463, 0.6421, 0.6446, 0.6486, 0.5983, 0.6169, 0.4761, 0.3311, 0.5084, 0.4784, 0.6473, 0.4223, 0.4235, 0.2933, 0.3153, 0.4011, 0.3747, -0.1725, 0.4074, 0.2384, 0.3666, 0.2459, -0.0873, 0.1992, 0.0637, 1.8635, 1.8298, 1.8246, 1.8226, 1.8158, 1.7789, 1.7359, 1.6797, 1.6684, 1.6434, 1.6434, 1.6434, 1.6434, 1.6434, 1.6434, 1.6434, 1.6434, 1.6434, 1.6434, 1.6434, 1.6434, 1.6434, 1.6434, 1.6434, 1.6434, 1.6434, 1.6434, 1.6434, 1.6434, 1.6434, 1.4842, 1.5048, 1.4998, 1.3441, 1.3132, 0.5851, 1.1984, 1.3433, 0.686, 1.3659, 0.9557, 0.9657, 0.9952, 0.4172, 0.8468, 1.1117, 0.8571, 0.7522, 1.0938, 1.1881, -0.281, 0.2044, 0.4292, 0.1778, 0.4145, 0.4745, 0.2116, 2.0379, 1.922, 1.8553, 1.8511, 1.851, 1.8502, 1.85, 1.849, 1.835, 1.8074, 1.7519, 1.6886, 1.6234, 1.6234, 1.6234, 1.6234, 1.6234, 1.6234, 1.6234, 1.6234, 1.6234, 1.6234, 1.6234, 1.6234, 1.6234, 1.6234, 1.6233, 1.6233, 1.6233, 1.6233, 1.5645, 1.4913, 1.5351, 1.4859, 1.5416, 0.6145, 1.1541, 1.3044, 1.2238, 0.603, 0.6649, 0.8143, 0.7193, 0.7065, -0.276, 0.494, 0.4237, 0.7968, -0.1989, 0.6815, 0.51, 0.0662, -0.033, 0.0317, 0.0054, -0.0506, -0.3965, 0.7688, 1.9977, 1.9119, 1.8114, 1.8055, 1.7862, 1.7714, 1.711, 1.6861, 1.6861, 1.6861, 1.6861, 1.6861, 1.6861, 1.6861, 1.6861, 1.6861, 1.686, 1.686, 1.648, 1.6479, 1.6472, 1.6378, 1.6332, 1.6331, 1.6325, 1.6311, 1.6203, 1.6199, 1.6193, 1.6191, 1.5832, 1.5281, 1.4906, 1.5103, 1.44, 1.5181, 1.5278, 1.1468, 1.256, 1.0241, 1.0413, 1.4302, 1.3621, 0.772, 1.1341, 0.7627, -0.0341, 1.0512, 0.5655, 0.508, 0.6793, -0.5896, 0.5108, 0.0525, -0.4189, -0.2601, -0.3691, -0.3131, -0.0319, 1.9281, 1.8503, 1.8136, 1.8136, 1.8136, 1.8136, 1.8136, 1.8136, 1.8136, 1.8136, 1.8136, 1.8136, 1.8136, 1.8136, 1.8136, 1.8136, 1.8136, 1.8136, 1.8136, 1.8136, 1.8136, 1.8136, 1.8136, 1.8136, 1.8135, 1.776, 1.7635, 1.7591, 1.7465, 1.7417, 1.7031, 1.5228, 1.4302, 1.5242, 0.7616, 1.1239, 1.1167, 1.2007, 1.4692, 1.2846, 0.3148, 0.5752, -0.1387, 1.1134, 0.9457, 0.6601, 0.6296, 0.2614, 0.4306, 0.7125, 0.3678, 0.5206, 0.4212, 0.0532, -0.279, 0.2639, 0.9182, 0.1254, 2.2456, 2.1918, 2.0217, 1.9946, 1.9946, 1.9946, 1.9946, 1.9946, 1.9946, 1.9946, 1.9946, 1.9946, 1.9946, 1.9946, 1.9946, 1.9946, 1.9946, 1.9433, 1.9386, 1.9292, 1.9274, 1.924, 1.9129, 1.9077, 1.901, 1.8857, 1.8857, 1.88, 1.8789, 1.8393, 1.7039, 1.4154, 1.5959, 1.4101, 1.6259, 1.0187, 1.4149, 1.1702, 0.7798, 0.9651, 1.166, 1.6305, 0.8957, 0.8957, 0.9464, 0.6392, 0.6638, 1.5608, 0.5565, 1.0865, 1.4593, 0.0983, 1.2396, 0.6831, -0.6362, 0.285, 0.5878, 0.3394, 0.2039, 0.6352, -0.6913, 2.372, 2.2139, 2.1546, 2.1428, 2.0929, 2.0709, 2.0709, 2.0709, 2.0709, 2.0709, 2.0709, 2.0709, 2.0709, 2.0709, 2.0709, 2.0709, 2.0709, 2.0709, 2.0709, 2.0709, 2.0709, 2.0709, 2.0708, 2.0365, 2.0262, 2.0182, 2.0176, 2.0117, 1.9131, 1.9067, 1.8582, 1.6918, 1.5318, 1.5589, 1.3392, 1.158, 0.9451, 1.3666, 0.7991, 1.4415, 0.9247, 1.4816, 0.3098, 0.3878, 0.6959, -0.6674, 0.2168, 0.3183, -1.06, -0.1411, 1.1822, 0.0343, -0.1879, 0.9268, 2.6439, 2.5164, 2.2739, 2.2739, 2.2739, 2.2739, 2.2739, 2.2739, 2.2739, 2.2739, 2.2739, 2.2739, 2.2739, 2.2739, 2.2739, 2.2739, 2.2739, 2.2739, 2.2739, 2.2739, 2.2554, 2.2544, 2.2529, 2.2524, 2.2512, 2.2494, 2.2489, 2.2429, 2.2054, 2.1728, 1.4743, 1.5034, 1.425, 1.3548, 0.5808, 1.2576, -0.2743, 0.6026, 0.9611, 0.888, -0.2704, 0.6062, 0.4693, 0.5315, 0.5417, 0.0836, 1.6186, 0.8079, 0.3848, 1.858, 0.3279, 0.1337, 0.5606, 0.5049, 0.4394, -0.5926, 0.2603, 0.0756, 2.8877, 2.5899, 2.5899, 2.5899, 2.5899, 2.5899, 2.5898, 2.5419, 2.5412, 2.5394, 2.5352, 2.5326, 2.1581, 2.1025, 2.0701, 2.0696, 2.0553, 2.0439, 2.0389, 2.0264, 2.0157, 1.7991, 1.7762, 1.7198, 1.7074, 1.6835, 1.6789, 1.6643, 1.6643, 1.6642, 1.6528, 1.4699, 0.9102, 0.8902, 0.8108, 0.7654, 0.3943, 0.4819, 0.8913, 0.7547, 0.7242, -1.2087, 0.908, 0.8122, 0.5042, 1.3204, 0.076, 1.0498, 1.066]}, \"token.table\": {\"Topic\": [4, 4, 2, 7, 7, 7, 4, 9, 9, 1, 2, 6, 7, 7, 9, 5, 6, 4, 6, 8, 3, 9, 7, 4, 1, 2, 1, 6, 1, 9, 4, 1, 2, 3, 4, 5, 1, 5, 2, 1, 4, 3, 1, 4, 9, 8, 1, 2, 4, 1, 9, 4, 6, 6, 1, 3, 5, 8, 4, 1, 4, 5, 6, 7, 8, 9, 8, 1, 4, 6, 7, 8, 6, 5, 1, 3, 5, 8, 3, 4, 2, 6, 7, 1, 2, 3, 5, 8, 9, 6, 1, 2, 5, 1, 6, 7, 8, 2, 1, 5, 9, 1, 9, 3, 2, 4, 7, 4, 2, 3, 1, 1, 2, 4, 6, 9, 9, 7, 2, 4, 8, 1, 4, 8, 5, 1, 8, 2, 3, 4, 8, 3, 3, 4, 4, 2, 6, 6, 5, 3, 5, 9, 1, 2, 4, 4, 4, 1, 4, 5, 8, 8, 6, 5, 8, 7, 5, 1, 2, 4, 7, 1, 4, 1, 6, 9, 1, 3, 6, 9, 1, 4, 5, 6, 7, 8, 9, 9, 9, 2, 3, 5, 3, 1, 3, 5, 9, 3, 7, 9, 2, 4, 5, 8, 2, 1, 2, 3, 7, 1, 2, 3, 4, 5, 6, 7, 8, 1, 3, 4, 6, 8, 1, 2, 5, 6, 7, 2, 5, 1, 4, 5, 1, 8, 1, 2, 3, 5, 1, 2, 3, 4, 7, 8, 8, 2, 8, 1, 2, 4, 5, 6, 3, 1, 2, 3, 4, 5, 9, 6, 9, 4, 1, 9, 1, 3, 4, 6, 9, 8, 1, 3, 5, 6, 7, 7, 7, 1, 7, 5, 5, 3, 1, 5, 6, 4, 5, 8, 2, 8, 1, 3, 4, 2, 9, 4, 3, 7, 1, 4, 6, 8, 1, 2, 5, 7, 2, 2, 3, 5, 6, 2, 1, 4, 1, 1, 3, 8, 1, 4, 5, 6, 5, 1, 1, 4, 8, 1, 2, 3, 9, 7, 4, 9, 3, 4, 8, 7, 1, 2, 1, 2, 3, 4, 5, 6, 7, 8, 9, 6, 6, 5, 8, 1, 6, 1, 2, 3, 4, 4, 6, 7, 1, 4, 5, 8, 1, 3, 4, 9, 3, 9, 1, 1, 4, 5, 7, 8, 9, 1, 3, 4, 6, 7, 1, 4, 6, 1, 3, 5, 6, 6, 1, 2, 8, 2, 1, 4, 1, 3, 4, 5, 3, 1, 2, 5, 6, 7, 3, 1, 3, 5, 6, 1, 5, 6, 7, 1, 8, 1, 2, 4, 6, 7, 9, 2, 5, 1, 2, 3, 4, 5, 6, 7, 8, 9, 7, 1, 4, 7, 8, 9, 3, 4, 6, 7, 1, 7, 9, 1, 1, 6, 1, 2, 3, 4, 5, 6, 7, 8, 3, 3, 1, 3, 7, 1, 8, 9, 5, 1, 4, 6, 1, 1, 4, 5, 6, 6, 7, 1, 2, 3, 4, 5, 7, 8, 1, 4, 5, 7, 8, 9, 1, 2, 3, 6, 7, 5, 5, 8, 2, 3, 4, 6, 8, 9, 1, 1, 2, 3, 4, 5, 7, 8, 1, 4, 9, 2, 8, 1, 2, 4, 7, 5, 4, 6, 5, 3, 4, 2, 1, 2, 5, 7, 2, 8, 2, 1, 9, 1, 2, 4, 2, 3, 4, 5, 6, 7, 8, 3, 6, 7, 6, 4, 7, 1, 2, 4, 6, 9, 6, 1, 9, 7, 1, 3, 4, 6, 7, 9, 5, 1, 2, 6, 8, 1, 3, 4, 1, 7, 2, 2, 3, 4, 1, 3, 7, 8, 1, 4, 5, 5, 1, 5, 8, 3, 5, 3, 7, 8, 2, 1, 3, 4, 6, 7, 1, 7, 8, 4, 1, 3, 5, 1, 2, 4, 6, 2, 1, 2, 6, 1, 4, 6, 7, 1, 2, 3, 1, 3, 4, 5, 8, 1, 2, 3, 4, 5, 8, 9, 7, 1, 2, 3, 4, 5, 8, 6, 2, 6, 4, 1, 3, 7, 9, 1, 2, 3, 4, 5, 6, 7, 9, 1, 5, 7, 1, 2, 3, 4, 6, 3, 6, 4, 1, 2, 5, 6, 7, 1, 4, 5, 6, 7, 8, 1, 2, 6, 8, 6, 1, 9, 6, 6, 6, 8, 1, 2, 3, 4, 7, 9, 1, 4, 3, 3, 7, 9, 5, 1, 3, 4, 6, 7, 9, 7, 8, 4, 2, 8, 6, 5, 2, 5, 1, 9, 5, 4, 1, 4, 7, 6, 8, 7, 7, 1, 2, 4, 5, 1, 2, 3, 5, 6, 7, 8, 3, 8, 7, 3, 5, 9, 2, 3, 5, 6, 4, 5, 1, 5, 6, 6, 4, 1, 4, 8], \"Freq\": [0.6947224789640134, 0.6955818463707607, 0.6799042939819859, 0.7056452243040999, 0.7056472731180358, 0.7056437735659603, 0.7472573725418749, 0.3736286862709374, 0.842940272297169, 0.7979506574029573, 0.43924845379557365, 0.7549427335406421, 0.7017236428622077, 0.5239566276964311, 0.5239566276964311, 0.6982720694332019, 0.7576422188802218, 0.6956185934635459, 0.5101013798982516, 0.7855700758414591, 0.9366611014454175, 0.8398286279154086, 0.7056535073329449, 0.6947660192088589, 0.7979495530352327, 0.6798950647743194, 0.9301232214705459, 0.746391658571978, 0.47980997906808626, 0.47980997906808626, 0.6924606277785041, 0.5565994813713397, 0.06184438681903774, 0.18553316045711324, 0.06184438681903774, 0.12368877363807548, 0.3290553598395886, 0.6581107196791772, 0.6798965269887405, 0.32316966924098006, 0.32316966924098006, 0.7057105685579245, 0.35309971659602757, 0.35309971659602757, 0.35309971659602757, 0.7855761453173472, 0.42015103266960274, 0.42015103266960274, 0.21007551633480137, 0.6680864897381952, 0.3340432448690976, 0.3542967124109542, 0.3542967124109542, 0.7463912814904651, 0.2758664560650392, 0.2758664560650392, 0.2758664560650392, 0.2758664560650392, 0.6924583743239313, 0.42296425278355687, 0.16918570111342277, 0.16918570111342277, 0.08459285055671138, 0.08459285055671138, 0.08459285055671138, 0.08459285055671138, 0.7837041811663941, 0.5555661573191993, 0.25253007150872697, 0.10101202860349079, 0.050506014301745394, 0.050506014301745394, 0.7463928937549837, 0.6982782058331589, 0.27135774014885256, 0.5427154802977051, 0.13567887007442628, 0.13567887007442628, 0.9366655366633108, 0.6934060226178707, 0.6798971074783003, 0.7463896495076127, 0.705645195903765, 0.2268515937448323, 0.2268515937448323, 0.2268515937448323, 0.2268515937448323, 0.11342579687241615, 0.8429398637756279, 0.7463873772794515, 0.26042685692636186, 0.26042685692636186, 0.5208537138527237, 0.33947831913105586, 0.33947831913105586, 0.33947831913105586, 0.785572192933594, 0.6798999963776098, 0.7752438873572585, 0.5159330370441254, 0.5159330370441254, 0.6779528346133611, 0.33897641730668054, 0.7057069478306592, 0.6798994566378811, 0.6924613176545643, 0.7056433569697361, 0.6955852200789983, 0.6799003403702204, 0.7057269514611545, 0.7979491732966906, 0.24369611832537366, 0.4873922366507473, 0.12184805916268683, 0.12184805916268683, 0.12184805916268683, 0.8429428125939115, 0.705643495088118, 0.6825121080727155, 0.17062802701817886, 0.17062802701817886, 0.8017739327788511, 0.10022174159735639, 0.10022174159735639, 0.6982782005892436, 0.8116945589503406, 0.7838773433713028, 0.15802534609235533, 0.31605069218471066, 0.31605069218471066, 0.15802534609235533, 0.9367950897831617, 0.9366376064196217, 0.6924685058422178, 0.6947226067729749, 0.8940529323320996, 0.7427360816853841, 0.7463928393270961, 0.6982732857702113, 0.9366146478220508, 0.6982738772464588, 0.8429347618859989, 0.5359088676418113, 0.0765584096631159, 0.3062336386524636, 0.4580951145554721, 0.9135694492835149, 0.32386346482579453, 0.32386346482579453, 0.6982757869727279, 0.7855802357023041, 0.7835995880974717, 0.7463927916837126, 0.7051047064873457, 0.7855715573451463, 0.4684618599308754, 0.7046654541374555, 0.4205217993555458, 0.4205217993555458, 0.2102608996777729, 0.705324745780527, 0.7384011494207668, 0.14768022988415336, 0.2556944138735285, 0.2556944138735285, 0.2556944138735285, 0.4146312673404987, 0.2764208448936658, 0.2764208448936658, 0.1382104224468329, 0.2496177131852563, 0.08320590439508543, 0.16641180879017087, 0.16641180879017087, 0.2496177131852563, 0.08320590439508543, 0.08320590439508543, 0.8429414663093671, 0.5975218323475981, 0.6799020398938855, 0.7057251726266862, 0.6982736913241709, 0.7057174735521139, 0.6578902150511884, 0.10964836917519807, 0.10964836917519807, 0.8395783785234856, 0.7057084575484512, 0.5239433824777094, 0.5239433824777094, 0.5301139276094359, 0.26505696380471794, 0.26505696380471794, 0.7834525397077059, 0.43858024072311286, 0.6702338872203237, 0.1489408638267386, 0.1489408638267386, 0.7004980606109693, 0.3125116411484858, 0.1785780806562776, 0.22322260082034698, 0.0892890403281388, 0.1339335604922082, 0.0446445201640694, 0.0446445201640694, 0.0446445201640694, 0.40759327813508295, 0.08151865562701659, 0.32607462250806635, 0.16303731125403317, 0.5394078976552182, 0.3536716928501509, 0.23578112856676725, 0.11789056428338363, 0.11789056428338363, 0.11789056428338363, 0.26736526838761654, 0.5347305367752331, 0.19004317760638265, 0.19004317760638265, 0.5701295328191479, 0.9307727082067875, 0.7855732980679052, 0.5515955613476651, 0.13789889033691627, 0.13789889033691627, 0.13789889033691627, 0.4902043163190379, 0.14706129489571135, 0.09804086326380758, 0.09804086326380758, 0.09804086326380758, 0.09804086326380758, 0.7855757216528719, 0.6799027096728278, 0.7834072102137097, 0.3732014637486212, 0.0933003659371553, 0.0933003659371553, 0.1866007318743106, 0.1866007318743106, 0.7030177903133951, 0.3412011425868387, 0.06824022851736775, 0.1364804570347355, 0.1364804570347355, 0.272960914069471, 0.06824022851736775, 0.5473412436808734, 0.5473412436808734, 0.6934089500614941, 0.4898566764072372, 0.4898566764072372, 0.3569145074307946, 0.08922862685769865, 0.1784572537153973, 0.08922862685769865, 0.1784572537153973, 0.785580127854745, 0.5426946208314933, 0.1808982069438311, 0.09044910347191555, 0.09044910347191555, 0.1808982069438311, 0.7047425268072124, 0.7056430879086423, 0.7426363926195142, 0.14852727852390282, 0.6982704200337951, 0.46482673300386584, 0.7057082581853746, 0.34633715440506085, 0.34633715440506085, 0.34633715440506085, 0.6924601212650082, 0.6982695530582362, 0.7837457870521477, 0.6798972373709319, 0.7855749296955425, 0.8818375076494479, 0.3459023716788429, 0.3459023716788429, 0.6799002281242426, 0.8394181735087828, 0.6934238717505478, 0.7057053227249442, 0.8397049172963219, 0.19968067851387405, 0.3993613570277481, 0.19968067851387405, 0.19968067851387405, 0.25859348817042527, 0.12929674408521263, 0.3878902322556379, 0.12929674408521263, 0.6798983431427462, 0.59046022415234, 0.19682007471744667, 0.19682007471744667, 0.19682007471744667, 0.6798967506720872, 0.7979488204607547, 0.45642740175062585, 0.7979515723830289, 0.49474101931506503, 0.16491367310502167, 0.16491367310502167, 0.33413502099900577, 0.11137834033300192, 0.33413502099900577, 0.22275668066600385, 0.698272426095799, 0.9315370290723851, 0.6293709633754256, 0.1573427408438564, 0.1573427408438564, 0.13969117245378312, 0.13969117245378312, 0.5587646898151325, 0.13969117245378312, 0.7056451115169576, 0.5177633858504437, 0.5177633858504437, 0.4769670096588745, 0.23848350482943725, 0.23848350482943725, 0.7056466074720101, 0.25352931208714385, 0.5070586241742877, 0.4690141850549517, 0.04263765318681379, 0.08527530637362758, 0.08527530637362758, 0.04263765318681379, 0.17055061274725516, 0.08527530637362758, 0.04263765318681379, 0.04263765318681379, 0.7583004798281797, 0.5049214887142451, 0.6982758621027064, 0.7828959966556662, 0.9328801799602366, 0.7417728130985264, 0.9307897263758372, 0.33461790959862764, 0.16730895479931382, 0.33461790959862764, 0.1458037423716104, 0.4374112271148312, 0.2916074847432208, 0.4877990614202494, 0.12194976535506236, 0.12194976535506236, 0.2438995307101247, 0.15675210524022012, 0.31350421048044025, 0.47025631572066035, 0.15675210524022012, 0.715926793149916, 0.178981698287479, 0.8304068250557134, 0.5767258988001023, 0.0640806554222336, 0.1281613108444672, 0.0640806554222336, 0.0640806554222336, 0.0640806554222336, 0.2866541879011821, 0.19110279193412139, 0.09555139596706069, 0.09555139596706069, 0.2866541879011821, 0.19738565805454966, 0.3947713161090993, 0.3947713161090993, 0.4710118002613101, 0.3140078668408734, 0.48911208064045164, 0.48911208064045164, 0.7463899823044832, 0.6061978670726998, 0.20206595569089994, 0.10103297784544997, 0.679898031777308, 0.862272527426663, 0.09580805860296256, 0.48252751529322235, 0.1378650043694921, 0.06893250218474604, 0.2757300087389842, 0.9325123731102106, 0.4207082036441902, 0.14023606788139675, 0.14023606788139675, 0.14023606788139675, 0.14023606788139675, 0.705706447082709, 0.17352946734223682, 0.17352946734223682, 0.17352946734223682, 0.17352946734223682, 0.27015150101340885, 0.27015150101340885, 0.27015150101340885, 0.27015150101340885, 0.7979525601970899, 0.7855739483084528, 0.5724363864588526, 0.07155454830735658, 0.07155454830735658, 0.14310909661471316, 0.07155454830735658, 0.07155454830735658, 0.8937411688511646, 0.698271893362336, 0.4871462660376698, 0.08399073552373618, 0.08399073552373618, 0.06719258841898894, 0.2015777652569668, 0.016798147104747235, 0.016798147104747235, 0.03359629420949447, 0.016798147104747235, 0.4679338632204109, 0.18363774945658942, 0.18363774945658942, 0.36727549891317884, 0.18363774945658942, 0.18363774945658942, 0.529646690515427, 0.17654889683847566, 0.17654889683847566, 0.17654889683847566, 0.36232830787166614, 0.36232830787166614, 0.36232830787166614, 0.7979464049324096, 0.3566690440663688, 0.7133380881327376, 0.30074226124569803, 0.20049484083046537, 0.20049484083046537, 0.10024742041523269, 0.08019793633218615, 0.040098968166093076, 0.040098968166093076, 0.040098968166093076, 0.7057081168303388, 0.7057077689352074, 0.7979456634010313, 0.7057114415951283, 0.7056441811103266, 0.38222417593257324, 0.38222417593257324, 0.38222417593257324, 0.6982731852111568, 0.23074707279759835, 0.23074707279759835, 0.4614941455951967, 0.7091574411741934, 0.7642756303350524, 0.0849195144816725, 0.0849195144816725, 0.0849195144816725, 0.3588361461471575, 0.717672292294315, 0.36356302408496693, 0.14542520963398678, 0.14542520963398678, 0.07271260481699339, 0.14542520963398678, 0.07271260481699339, 0.07271260481699339, 0.6875170510805914, 0.06250155009823558, 0.06250155009823558, 0.06250155009823558, 0.06250155009823558, 0.06250155009823558, 0.22475101197199868, 0.22475101197199868, 0.22475101197199868, 0.22475101197199868, 0.22475101197199868, 0.703090870566009, 0.6982716005307261, 0.8240273649311576, 0.23397796054181239, 0.23397796054181239, 0.11698898027090619, 0.11698898027090619, 0.11698898027090619, 0.23397796054181239, 0.8925780658204256, 0.4007788909422349, 0.08015577818844698, 0.16031155637689395, 0.08015577818844698, 0.08015577818844698, 0.08015577818844698, 0.08015577818844698, 0.7227920598895851, 0.18069801497239626, 0.18069801497239626, 0.679899905944052, 0.7855765249624259, 0.2641606412628147, 0.2641606412628147, 0.2641606412628147, 0.2641606412628147, 0.698276888245794, 0.6957011531095505, 0.7463940498417141, 0.7034938676238939, 0.7057260857111407, 0.6934202756945568, 0.6798994332169479, 0.34772243385882373, 0.11590747795294123, 0.34772243385882373, 0.11590747795294123, 0.6799000803397034, 0.7855696291033861, 0.8918319989653145, 0.668074397200217, 0.3340371986001085, 0.251912354490778, 0.503824708981556, 0.6924572189830001, 0.1499587146045656, 0.5248555011159797, 0.0749793573022828, 0.0749793573022828, 0.0749793573022828, 0.0749793573022828, 0.0749793573022828, 0.7057126543506207, 0.7463964555452806, 0.7056478357809937, 0.7463913106152883, 0.23179580614141915, 0.6953874184242574, 0.48801031654600574, 0.06971575950657224, 0.06971575950657224, 0.278863038026289, 0.06971575950657224, 0.7463952018103649, 0.8080449209378918, 0.8399786011061542, 0.7056433989253317, 0.1497286243466642, 0.1497286243466642, 0.2994572486933284, 0.1497286243466642, 0.1497286243466642, 0.0748643121733321, 0.6982709634676588, 0.21082923221184496, 0.4216584644236899, 0.21082923221184496, 0.10541461610592248, 0.3005065172238214, 0.20033767814921424, 0.5008441953730356, 0.8113344919957547, 0.7056468456567916, 0.6798965873802253, 0.34399476366302506, 0.6879895273260501, 0.6924582650280406, 0.4339712585152849, 0.21698562925764245, 0.21698562925764245, 0.7855786538134835, 0.681311866079011, 0.17032796651975274, 0.17032796651975274, 0.6982723252266396, 0.7050264210270468, 0.49838715148503465, 0.49838715148503465, 0.4748690117905599, 0.6982741770510252, 0.7057059312826104, 0.7056469968416936, 0.768695050117286, 0.8934117553010447, 0.4543371252430228, 0.06490530360614612, 0.12981060721229223, 0.19471591081843834, 0.12981060721229223, 0.3290262938841054, 0.3290262938841054, 0.7855767380961379, 0.45649828104733564, 0.42553564483939, 0.212767822419695, 0.212767822419695, 0.6078580219343818, 0.1736737205526805, 0.08683686027634024, 0.08683686027634024, 0.679899862717381, 0.5499828575912207, 0.13749571439780517, 0.13749571439780517, 0.1563109518275407, 0.1563109518275407, 0.3126219036550814, 0.3126219036550814, 0.21396407253216723, 0.6418922175965016, 0.7057062884738989, 0.389697410015832, 0.12989913667194403, 0.25979827334388805, 0.12989913667194403, 0.12989913667194403, 0.2487330340099393, 0.2487330340099393, 0.12436651700496965, 0.12436651700496965, 0.12436651700496965, 0.12436651700496965, 0.12436651700496965, 0.7056485174578514, 0.5623620073766552, 0.11247240147533104, 0.11247240147533104, 0.11247240147533104, 0.22494480295066208, 0.7855796385341187, 0.7581948612797726, 0.8936475971737194, 0.7414129083273427, 0.4570190315144868, 0.2368450299356107, 0.4736900598712214, 0.2368450299356107, 0.2368450299356107, 0.20941433630466982, 0.20941433630466982, 0.10470716815233491, 0.10470716815233491, 0.10470716815233491, 0.10470716815233491, 0.10470716815233491, 0.10470716815233491, 0.4302368912007493, 0.4302368912007493, 0.21511844560037466, 0.5529959437723923, 0.2211983775089569, 0.07373279250298564, 0.07373279250298564, 0.03686639625149282, 0.36332987448498544, 0.36332987448498544, 0.6924549327832697, 0.12456130071110241, 0.24912260142220483, 0.12456130071110241, 0.12456130071110241, 0.24912260142220483, 0.6641604327926, 0.09488006182751428, 0.09488006182751428, 0.09488006182751428, 0.09488006182751428, 0.09488006182751428, 0.8637373116999051, 0.057582487446660335, 0.057582487446660335, 0.7855721366440345, 0.756124291621599, 0.6680837644263058, 0.3340418822131529, 0.7554582836801524, 0.7463925242411908, 0.3823542277004183, 0.3823542277004183, 0.39288879920107683, 0.09822219980026921, 0.09822219980026921, 0.19644439960053842, 0.09822219980026921, 0.19644439960053842, 0.8016673013962139, 0.6924619725953504, 0.7057079114280776, 0.9366397140225309, 0.7035832115515414, 0.8429347417398301, 0.6982727202977301, 0.14244768006812022, 0.14244768006812022, 0.42734304020436065, 0.14244768006812022, 0.14244768006812022, 0.14244768006812022, 0.7009967371993505, 0.7839590642777785, 0.8165185092568683, 0.6798992356130521, 0.7855730315967836, 0.7416413366540049, 0.6982738905784759, 0.3302226486181275, 0.3302226486181275, 0.48826922435428183, 0.48826922435428183, 0.45973511069595935, 0.6931556433777037, 0.2635878595622657, 0.5271757191245314, 0.2635878595622657, 0.7424094319964988, 0.7855781087864664, 0.7056448090131052, 0.7010406071693281, 0.4218787940117183, 0.28125252934114553, 0.14062626467057276, 0.14062626467057276, 0.45969373460941104, 0.07661562243490184, 0.1532312448698037, 0.07661562243490184, 0.07661562243490184, 0.07661562243490184, 0.07661562243490184, 0.4711812657270775, 0.7739428959448514, 0.7056438313444513, 0.705703726687036, 0.6982760360559381, 0.8399337316709706, 0.6799008507648296, 0.2836268222101706, 0.2836268222101706, 0.2836268222101706, 0.6924596822261564, 0.6982918514244654, 0.9311664075807373, 0.6982709164099856, 0.7463886973024029, 0.7576370638383463, 0.6924598258248085, 0.3860527246513479, 0.19302636232567394, 0.19302636232567394], \"Term\": [\"gmailcom\\u0631\\u0642\\u0645\", \"mtao\", \"\\u0623\\u062d\\u064a\\u0627\", \"\\u0623\\u0642\\u0633\\u0627\\u0637\", \"\\u0623\\u0642\\u0633\\u0627\\u0637\\u0645\\u0639\", \"\\u0623\\u0648\\u0644\\u0648\\u064a\", \"\\u0625\\u0631\\u0633\\u0627\\u0644\", \"\\u0625\\u0631\\u0633\\u0627\\u0644\", \"\\u0625\\u0644\\u0643\\u062a\\u0631\\u0648\\u0646\", \"\\u0625\\u064a\\u062c\\u0627\\u0631\", \"\\u0625\\u064a\\u0642\\u0627\\u0641\", \"\\u0627\\u0628\\u062f\\u0627\\u062f\\u0644\\u0648\\u0642\\u062a\\u0649\", \"\\u0627\\u0628\\u0631\\u0627\\u0647\\u064a\\u0645\", \"\\u0627\\u062a\\u0627\\u062e\\u0631\", \"\\u0627\\u062a\\u0627\\u062e\\u0631\", \"\\u0627\\u062a\\u062a\\u0647\", \"\\u0627\\u062a\\u0630\\u0643\\u0631\", \"\\u0627\\u062a\\u0630\\u0643\\u0631\\u0647\\u0627\", \"\\u0627\\u062a\\u0635\\u0627\\u0644\", \"\\u0627\\u062a\\u0635\\u0644\", \"\\u0627\\u062a\\u063a\\u064a\\u0631\\u062a\", \"\\u0627\\u062a\\u0642\\u0628\\u0644\", \"\\u0627\\u062b\\u0628\\u0627\\u062a\", \"\\u0627\\u062d\\u062a\\u0631\\u0627\\u0645\", \"\\u0627\\u062d\\u0645\\u062f\\u0627\\u0631\\u062c\\u0648\", \"\\u0627\\u062d\\u0646\\u0627\", \"\\u0627\\u062e\\u062a\\u0627\\u0631\", \"\\u0627\\u062e\\u0631\\u0649\", \"\\u0627\\u062f\\u062e\\u0627\\u0644\", \"\\u0627\\u062f\\u062e\\u0627\\u0644\", \"\\u0627\\u0630\\u0646\\u0643\\u0645\", \"\\u0627\\u0631\\u062c\\u0648\", \"\\u0627\\u0631\\u062c\\u0648\", \"\\u0627\\u0631\\u062c\\u0648\", \"\\u0627\\u0631\\u062c\\u0648\", \"\\u0627\\u0631\\u062c\\u0648\", \"\\u0627\\u0631\\u0633\\u0627\\u0644\", \"\\u0627\\u0631\\u0633\\u0627\\u0644\", \"\\u0627\\u0631\\u0633\\u0627\\u0644\\u0649\", \"\\u0627\\u0631\\u064a\\u062f\", \"\\u0627\\u0631\\u064a\\u062f\", \"\\u0627\\u0633\\u062a\\u062c\\u0627\\u0628\", \"\\u0627\\u0633\\u062a\\u0631\\u062c\\u0627\\u0639\", \"\\u0627\\u0633\\u062a\\u0631\\u062c\\u0627\\u0639\", \"\\u0627\\u0633\\u062a\\u0631\\u062c\\u0627\\u0639\", \"\\u0627\\u0633\\u062a\\u0631\\u062c\\u0639\", \"\\u0627\\u0633\\u062a\\u0637\\u0627\\u0639\", \"\\u0627\\u0633\\u062a\\u0637\\u0627\\u0639\", \"\\u0627\\u0633\\u062a\\u0637\\u0627\\u0639\", \"\\u0627\\u0633\\u062a\\u0637\\u0627\\u0639\\u0629\", \"\\u0627\\u0633\\u062a\\u0637\\u0627\\u0639\\u0629\", \"\\u0627\\u0633\\u062a\\u0639\\u0627\\u062f\\u0629\", \"\\u0627\\u0633\\u062a\\u0639\\u0627\\u062f\\u0629\", \"\\u0627\\u0633\\u062a\\u0639\\u0644\\u0645\", \"\\u0627\\u0633\\u062a\\u0641\\u0633\\u0627\\u0631\", \"\\u0627\\u0633\\u062a\\u0641\\u0633\\u0627\\u0631\", \"\\u0627\\u0633\\u062a\\u0641\\u0633\\u0627\\u0631\", \"\\u0627\\u0633\\u062a\\u0641\\u0633\\u0627\\u0631\", \"\\u0627\\u0633\\u062a\\u0641\\u064a\\u062f\", \"\\u0627\\u0633\\u062a\\u0643\\u0645\\u0627\\u0644\", \"\\u0627\\u0633\\u062a\\u0643\\u0645\\u0627\\u0644\", \"\\u0627\\u0633\\u062a\\u0643\\u0645\\u0627\\u0644\", \"\\u0627\\u0633\\u062a\\u0643\\u0645\\u0627\\u0644\", \"\\u0627\\u0633\\u062a\\u0643\\u0645\\u0627\\u0644\", \"\\u0627\\u0633\\u062a\\u0643\\u0645\\u0627\\u0644\", \"\\u0627\\u0633\\u062a\\u0643\\u0645\\u0627\\u0644\", \"\\u0627\\u0633\\u062a\\u0644\\u0645\", \"\\u0627\\u0633\\u0645\", \"\\u0627\\u0633\\u0645\", \"\\u0627\\u0633\\u0645\", \"\\u0627\\u0633\\u0645\", \"\\u0627\\u0633\\u0645\", \"\\u0627\\u0634\\u062a\\u0643\\u0649\", \"\\u0627\\u0639\\u062a\\u0628\\u0627\\u0631\", \"\\u0627\\u063a\\u0633\\u0637\\u0633\", \"\\u0627\\u063a\\u0633\\u0637\\u0633\", \"\\u0627\\u063a\\u0633\\u0637\\u0633\", \"\\u0627\\u063a\\u0633\\u0637\\u0633\", \"\\u0627\\u063a\\u0644\\u0627\\u0642\", \"\\u0627\\u0641\\u064a\\u062f\\u0648\\u0646\\u064a\", \"\\u0627\\u0642\\u0627\\u0641\", \"\\u0627\\u0643\\u062a\\u0634\\u0641\", \"\\u0627\\u0643\\u0645\\u0644\\u0647\\u0627\", \"\\u0627\\u0644\", \"\\u0627\\u0644\", \"\\u0627\\u0644\", \"\\u0627\\u0644\", \"\\u0627\\u0644\", \"\\u0627\\u0644\\u0625\\u0644\\u0643\\u062a\\u0631\\u0648\\u0646\\u064a\\u0645\\u0631\\u0641\\u0642\", \"\\u0627\\u0644\\u0627\\u062c\\u0631\\u0627\\u0621\\u0627\\u062a\", \"\\u0627\\u0644\\u0627\\u0641\\u0627\\u062f\\u0647\", \"\\u0627\\u0644\\u0627\\u0641\\u0627\\u062f\\u0647\", \"\\u0627\\u0644\\u0627\\u0641\\u0627\\u062f\\u0647\", \"\\u0627\\u0644\\u0627\\u0644\\u0643\\u062a\\u0631\\u0648\\u0646\\u064a\", \"\\u0627\\u0644\\u0627\\u0644\\u0643\\u062a\\u0631\\u0648\\u0646\\u064a\", \"\\u0627\\u0644\\u0627\\u0644\\u0643\\u062a\\u0631\\u0648\\u0646\\u064a\", \"\\u0627\\u0644\\u0627\\u0644\\u0643\\u062a\\u0631\\u0648\\u0646\\u064a\\u0629\", \"\\u0627\\u0644\\u0627\\u0645\\u0627\\u0645\", \"\\u0627\\u0644\\u0627\\u0648\\u0631\\u0627\\u0642\", \"\\u0627\\u0644\\u0627\\u0648\\u0644\", \"\\u0627\\u0644\\u0627\\u0648\\u0644\", \"\\u0627\\u0644\\u0627\\u064a\\u062c\\u0627\\u0631\", \"\\u0627\\u0644\\u0627\\u064a\\u062c\\u0627\\u0631\", \"\\u0627\\u0644\\u0627\\u064a\\u0635\\u0627\\u0644\", \"\\u0627\\u0644\\u0628\\u0637\\u0627\\u0642\\u0647\", \"\\u0627\\u0644\\u062a\\u0627\\u062e\\u064a\\u0631\", \"\\u0627\\u0644\\u062a\\u0631\\u0643\\u064a\\u0628\\u0627\\u0644\\u062a\\u0631\\u0643\\u064a\\u0628\\u0628\", \"\\u0627\\u0644\\u062a\\u0649\", \"\\u0627\\u0644\\u062c\\u0627\\u0649\", \"\\u0627\\u0644\\u062c\\u064a\\u0645\\u064a\\u0644\", \"\\u0627\\u0644\\u062d\\u0627\\u0644\\u0649\\u0648\\u0647\\u0648\", \"\\u0627\\u0644\\u062e\\u0627\\u0635\", \"\\u0627\\u0644\\u062e\\u0627\\u0635\", \"\\u0627\\u0644\\u062e\\u0627\\u0635\", \"\\u0627\\u0644\\u062e\\u0627\\u0635\", \"\\u0627\\u0644\\u062e\\u0627\\u0635\", \"\\u0627\\u0644\\u0642\\u0648\\u0645\\u064a\\u0648\\u0634\\u0643\\u0631\\u0627\", \"\\u0627\\u0644\\u0643\\u0631\\u062a\", \"\\u0627\\u0644\\u0643\\u0648\\u062f\\u0649\", \"\\u0627\\u0644\\u0643\\u0648\\u062f\\u0649\", \"\\u0627\\u0644\\u0643\\u0648\\u062f\\u0649\", \"\\u0627\\u0644\\u0644\\u0647\", \"\\u0627\\u0644\\u0644\\u0647\", \"\\u0627\\u0644\\u0644\\u0647\", \"\\u0627\\u0644\\u0645\\u062f\\u0647\", \"\\u0627\\u0644\\u0645\\u0634\\u0643\\u0644\\u0647\", \"\\u0627\\u0644\\u0645\\u0637\\u0644\\u0648\\u0628\\u0647\", \"\\u0627\\u0644\\u0645\\u0645\\u0627\\u0631\\u0633\\u0647\", \"\\u0627\\u0644\\u0645\\u0645\\u0627\\u0631\\u0633\\u0647\", \"\\u0627\\u0644\\u0645\\u0645\\u0627\\u0631\\u0633\\u0647\", \"\\u0627\\u0644\\u0645\\u0645\\u0627\\u0631\\u0633\\u0647\", \"\\u0627\\u0644\\u0645\\u0646\\u0635\\u0647\", \"\\u0627\\u0644\\u0645\\u0648\\u0628\\u0627\\u064a\\u0644\", \"\\u0627\\u0644\\u0646\\u0642\\u062f\\u064a\\u0645\", \"\\u0627\\u0644\\u0646\\u0644\\u064a\\u0641\\u0648\\u0646\", \"\\u0627\\u0645\\u062a\\u0627\\u0631\", \"\\u0627\\u0645\\u062a\\u0649\", \"\\u0627\\u0646\\u062a\\u0638\\u0627\\u0631\", \"\\u0627\\u0646\\u062a\\u0647\\u0627\\u0621\", \"\\u0627\\u0646\\u0647\\u0627\", \"\\u0627\\u0647\\u062a\\u0645\\u0627\\u0645\", \"\\u0627\\u064a\\u062c\\u0627\\u0631\", \"\\u0627\\u064a\\u0635\\u0627\\u0644\", \"\\u0627\\u064a\\u0635\\u0627\\u0644\", \"\\u0627\\u064a\\u0635\\u0627\\u0644\", \"\\u0627\\u064a\\u0645\\u064a\\u0644\", \"\\u0628\\u0627\\u0633\\u0645\\u0649\", \"\\u0628\\u0627\\u0636\\u0627\\u0641\\u0629\", \"\\u0628\\u0627\\u0636\\u0627\\u0641\\u0629\", \"\\u0628\\u0627\\u0644\\u0627\\u0641\\u0627\\u062f\\u0647\", \"\\u0628\\u0627\\u0644\\u0627\\u0645\\u0633\", \"\\u0628\\u0627\\u0644\\u062f\\u0631\\u0627\\u0633\\u0647\", \"\\u0628\\u0627\\u0644\\u0645\\u0646\\u0635\\u0647\", \"\\u0628\\u0627\\u0646\", \"\\u0628\\u0627\\u0646\\u0646\\u0649\", \"\\u0628\\u0627\\u0647\", \"\\u0628\\u0627\\u064a\\u0635\\u0627\\u0644\", \"\\u0628\\u062e\\u0635\\u0648\\u0635\", \"\\u0628\\u062e\\u0635\\u0648\\u0635\", \"\\u0628\\u062e\\u0635\\u0648\\u0635\", \"\\u0628\\u0631\\u0636\", \"\\u0628\\u0631\\u0643\\u0629\", \"\\u0628\\u0631\\u0643\\u0629\", \"\\u0628\\u0631\\u064a\\u062f\", \"\\u0628\\u0631\\u064a\\u062f\", \"\\u0628\\u0631\\u064a\\u062f\", \"\\u0628\\u0637\\u0627\\u0642\\u0629\", \"\\u0628\\u0637\\u0627\\u0642\\u0629\", \"\\u0628\\u0637\\u0627\\u0642\\u0629\", \"\\u0628\\u0637\\u0627\\u0642\\u0629\", \"\\u0628\\u064a\\u0627\\u0646\", \"\\u0628\\u064a\\u0627\\u0646\", \"\\u0628\\u064a\\u0627\\u0646\", \"\\u0628\\u064a\\u0627\\u0646\", \"\\u0628\\u064a\\u0627\\u0646\", \"\\u0628\\u064a\\u0627\\u0646\", \"\\u0628\\u064a\\u0627\\u0646\", \"\\u0628\\u064a\\u0638\\u0647\\u0631\", \"\\u062a\\u0623\\u0643\\u064a\\u062f\", \"\\u062a\\u0627\\u0628\\u0639\", \"\\u062a\\u0627\\u062c\", \"\\u062a\\u0627\\u062e\\u0631\\u062a\", \"\\u062a\\u0627\\u062e\\u064a\\u0631\", \"\\u062a\\u0627\\u0631\\u064a\\u062e\", \"\\u062a\\u0627\\u0631\\u064a\\u062e\", \"\\u062a\\u0627\\u0631\\u064a\\u062e\", \"\\u062a\\u0627\\u0644\", \"\\u062a\\u0627\\u0646\", \"\\u062a\\u0627\\u0646\\u0649\", \"\\u062a\\u0627\\u0646\\u0649\", \"\\u062a\\u062d\\u062f\\u064a\\u062b\", \"\\u062a\\u062d\\u062f\\u064a\\u062b\", \"\\u062a\\u062d\\u062f\\u064a\\u062b\", \"\\u062a\\u062d\\u0645\\u0644\", \"\\u062a\\u062d\\u0645\\u064a\\u0644\", \"\\u062a\\u062d\\u0648\\u064a\\u0644\", \"\\u062a\\u062d\\u0648\\u064a\\u0644\", \"\\u062a\\u062d\\u0648\\u064a\\u0644\", \"\\u062a\\u062d\\u064a\\u0629\", \"\\u062a\\u0631\\u0643\\u064a\\u0628\", \"\\u062a\\u0631\\u0643\\u064a\\u0628\", \"\\u062a\\u0631\\u0643\\u064a\\u0628\", \"\\u062a\\u0631\\u0643\\u064a\\u0628\", \"\\u062a\\u0631\\u0643\\u064a\\u0628\", \"\\u062a\\u0631\\u0643\\u064a\\u0628\", \"\\u062a\\u0631\\u0643\\u064a\\u0628\", \"\\u062a\\u0631\\u0643\\u064a\\u0628\", \"\\u062a\\u0633\\u062c\\u064a\\u0644\", \"\\u062a\\u0633\\u062c\\u064a\\u0644\", \"\\u062a\\u0633\\u062c\\u064a\\u0644\", \"\\u062a\\u0633\\u062c\\u064a\\u0644\", \"\\u062a\\u0635\\u0627\\u0644\\u062d\", \"\\u062a\\u0639\\u062f\\u064a\\u0644\", \"\\u062a\\u0639\\u062f\\u064a\\u0644\", \"\\u062a\\u0639\\u062f\\u064a\\u0644\", \"\\u062a\\u0639\\u062f\\u064a\\u0644\", \"\\u062a\\u0639\\u062f\\u064a\\u0644\", \"\\u062a\\u0639\\u0644\\u064a\\u0642\", \"\\u062a\\u0639\\u0644\\u064a\\u0642\", \"\\u062a\\u063a\\u064a\\u0631\", \"\\u062a\\u063a\\u064a\\u0631\", \"\\u062a\\u063a\\u064a\\u0631\", \"\\u062a\\u063a\\u064a\\u064a\\u0631\", \"\\u062a\\u0641\\u0627\\u062c\\u0626\\u062a\", \"\\u062a\\u0642\\u062f\\u0645\", \"\\u062a\\u0642\\u062f\\u0645\", \"\\u062a\\u0642\\u062f\\u0645\", \"\\u062a\\u0642\\u062f\\u0645\", \"\\u062a\\u0642\\u062f\\u064a\\u0645\", \"\\u062a\\u0642\\u062f\\u064a\\u0645\", \"\\u062a\\u0642\\u062f\\u064a\\u0645\", \"\\u062a\\u0642\\u062f\\u064a\\u0645\", \"\\u062a\\u0642\\u062f\\u064a\\u0645\", \"\\u062a\\u0642\\u062f\\u064a\\u0645\", \"\\u062a\\u0642\\u062f\\u064a\\u0645\\u0649\", \"\\u062a\\u0648\\u062c\\u0647\", \"\\u062c\\u062f\\u064a\", \"\\u062c\\u062f\\u064a\\u062f\", \"\\u062c\\u062f\\u064a\\u062f\", \"\\u062c\\u062f\\u064a\\u062f\", \"\\u062c\\u062f\\u064a\\u062f\", \"\\u062c\\u062f\\u064a\\u062f\", \"\\u062d\\u0627\\u062c\", \"\\u062d\\u0627\\u0644\", \"\\u062d\\u0627\\u0644\", \"\\u062d\\u0627\\u0644\", \"\\u062d\\u0627\\u0644\", \"\\u062d\\u0627\\u0644\", \"\\u062d\\u0627\\u0644\", \"\\u062d\\u0627\\u0648\\u0644\", \"\\u062d\\u0627\\u0648\\u0644\", \"\\u062d\\u0628\\u0627\", \"\\u062d\\u0630\\u0641\", \"\\u062d\\u0630\\u0641\", \"\\u062d\\u0633\\u0627\\u0628\", \"\\u062d\\u0633\\u0627\\u0628\", \"\\u062d\\u0633\\u0627\\u0628\", \"\\u062d\\u0633\\u0627\\u0628\", \"\\u062d\\u0633\\u0627\\u0628\", \"\\u062d\\u0633\\u0627\\u0628\\u0649\", \"\\u062d\\u0636\\u0631\", \"\\u062d\\u0636\\u0631\", \"\\u062d\\u0636\\u0631\", \"\\u062d\\u0636\\u0631\", \"\\u062d\\u0636\\u0631\", \"\\u062d\\u0641\\u0638\\u062a\\u0634\", \"\\u062d\\u0642\", \"\\u062d\\u0645\\u062f\", \"\\u062d\\u0645\\u062f\", \"\\u062d\\u0645\\u0631\\u0627\\u0621\", \"\\u062d\\u064a\\u062b\", \"\\u062d\\u064a\\u0644\\u0643\\u0648\", \"\\u062e\\u0627\\u0635\\u0629\", \"\\u062e\\u0627\\u0635\\u0629\", \"\\u062e\\u0627\\u0635\\u0629\", \"\\u062e\\u0627\\u0644\\u062f\", \"\\u062e\\u0627\\u0646\", \"\\u062e\\u0628\\u0631\", \"\\u062e\\u062f\", \"\\u062e\\u0633\\u0627\\u0628\\u0649\", \"\\u062e\\u0637\\u0627\", \"\\u062e\\u0644\\u0627\\u0644\", \"\\u062e\\u0644\\u0627\\u0644\", \"\\u062e\\u0644\\u0641\", \"\\u062e\\u0644\\u0649\", \"\\u062e\\u064a\\u0631\", \"\\u062f\\u0627\\u0641\\u0639\", \"\\u062f\\u062e\\u0644\", \"\\u062f\\u062e\\u0648\\u0644\", \"\\u062f\\u062e\\u0648\\u0644\", \"\\u062f\\u062e\\u0648\\u0644\", \"\\u062f\\u062e\\u0648\\u0644\", \"\\u062f\\u0631\\u0627\\u0633\", \"\\u062f\\u0631\\u0627\\u0633\", \"\\u062f\\u0631\\u0627\\u0633\", \"\\u062f\\u0631\\u0627\\u0633\", \"\\u062f\\u0639\", \"\\u062f\\u0641\\u0639\", \"\\u062f\\u0641\\u0639\", \"\\u062f\\u0641\\u0639\", \"\\u062f\\u0641\\u0639\", \"\\u062f\\u0644\\u0648\\u0642\\u062a\\u0649\", \"\\u062f\\u064a\\u0646\", \"\\u0630\\u0644\\u0643\", \"\\u0630\\u0647\\u0628\", \"\\u0631\\u062c\\u0627\", \"\\u0631\\u062c\\u0627\", \"\\u0631\\u062c\\u0627\", \"\\u0631\\u062c\\u0627\\u0621\", \"\\u0631\\u062c\\u0627\\u0621\", \"\\u0631\\u062c\\u0627\\u0621\", \"\\u0631\\u062c\\u0627\\u0621\", \"\\u0631\\u062c\\u0649\", \"\\u0631\\u062d\\u0645\", \"\\u0631\\u062d\\u0645\\u0629\", \"\\u0631\\u062d\\u0645\\u0629\", \"\\u0631\\u062d\\u0645\\u0629\", \"\\u0631\\u062f\", \"\\u0631\\u062f\", \"\\u0631\\u062f\", \"\\u0631\\u062f\", \"\\u0631\\u062f\\u0649\", \"\\u0631\\u0633\\u0627\\u0644\\u0629\", \"\\u0631\\u0633\\u0627\\u0644\\u0629\", \"\\u0631\\u0633\\u0627\\u0644\\u0647\", \"\\u0631\\u0633\\u0627\\u0644\\u0647\", \"\\u0631\\u0633\\u0627\\u0644\\u0647\", \"\\u0631\\u0635\\u064a\\u062f\", \"\\u0631\\u063a\\u0645\", \"\\u0631\\u063a\\u0645\", \"\\u0631\\u0642\\u0645\", \"\\u0631\\u0642\\u0645\", \"\\u0631\\u0642\\u0645\", \"\\u0631\\u0642\\u0645\", \"\\u0631\\u0642\\u0645\", \"\\u0631\\u0642\\u0645\", \"\\u0631\\u0642\\u0645\", \"\\u0631\\u0642\\u0645\", \"\\u0631\\u0642\\u0645\", \"\\u0631\\u0642\\u0645\\u0649\", \"\\u0631\\u0645\\u0635\\u0627\\u0646\", \"\\u0632\\u0645\\u0646\", \"\\u0633\\u0624\\u0627\\u0644\", \"\\u0633\\u0627\\u0628\\u0642\", \"\\u0633\\u0627\\u0639\\u0629\", \"\\u0633\\u0627\\u0644\\u062a\", \"\\u0633\\u0628\\u0628\", \"\\u0633\\u0628\\u0628\", \"\\u0633\\u0628\\u0628\", \"\\u0633\\u062c\\u0644\", \"\\u0633\\u062c\\u0644\", \"\\u0633\\u062c\\u0644\", \"\\u0633\\u062f\\u0627\\u062f\", \"\\u0633\\u062f\\u0627\\u062f\", \"\\u0633\\u062f\\u0627\\u062f\", \"\\u0633\\u062f\\u0627\\u062f\", \"\\u0633\\u0631\", \"\\u0633\\u0631\", \"\\u0633\\u0631\", \"\\u0633\\u0631\", \"\\u0633\\u0631\\u0639\", \"\\u0633\\u0631\\u0639\", \"\\u0633\\u0639\\u064a\\u062f\", \"\\u0633\\u0644\\u0627\\u0645\", \"\\u0633\\u0644\\u0627\\u0645\", \"\\u0633\\u0644\\u0627\\u0645\", \"\\u0633\\u0644\\u0627\\u0645\", \"\\u0633\\u0644\\u0627\\u0645\", \"\\u0633\\u0644\\u0627\\u0645\", \"\\u0633\\u0645\\u062d\", \"\\u0633\\u0645\\u062d\", \"\\u0633\\u0645\\u062d\", \"\\u0633\\u0645\\u062d\", \"\\u0633\\u0645\\u062d\", \"\\u0633\\u064a\\u0627\\u062f\\u0629\", \"\\u0633\\u064a\\u0627\\u062f\\u0629\", \"\\u0633\\u064a\\u0627\\u062f\\u0629\", \"\\u0633\\u064a\\u062f\", \"\\u0633\\u064a\\u062f\", \"\\u0634\\u0628\\u0643\\u0629\", \"\\u0634\\u0628\\u0643\\u0629\", \"\\u0634\\u062e\\u0635\", \"\\u0634\\u0631\\u0643\", \"\\u0634\\u0631\\u0643\", \"\\u0634\\u0631\\u0643\", \"\\u0634\\u063a\\u0627\\u0644\", \"\\u0634\\u0642\", \"\\u0634\\u0642\", \"\\u0634\\u0643\\u0631\", \"\\u0634\\u0643\\u0631\", \"\\u0634\\u0643\\u0631\", \"\\u0634\\u0643\\u0631\", \"\\u0634\\u0643\\u0648\", \"\\u0634\\u0647\\u0631\", \"\\u0634\\u0647\\u0631\", \"\\u0634\\u0647\\u0631\", \"\\u0634\\u0647\\u0631\", \"\\u0634\\u0647\\u0631\", \"\\u0634\\u0648\\u064a\", \"\\u0635\\u062d\\u064a\\u062d\", \"\\u0635\\u062d\\u064a\\u062d\", \"\\u0635\\u062d\\u064a\\u062d\", \"\\u0635\\u062d\\u064a\\u062d\", \"\\u0635\\u0641\\u062d\", \"\\u0635\\u0641\\u062d\", \"\\u0635\\u0641\\u062d\", \"\\u0635\\u0641\\u062d\", \"\\u0635\\u0644\\u0627\\u062d\", \"\\u0635\\u0644\\u0649\", \"\\u0635\\u0648\\u0631\", \"\\u0635\\u0648\\u0631\", \"\\u0635\\u0648\\u0631\", \"\\u0635\\u0648\\u0631\", \"\\u0635\\u0648\\u0631\", \"\\u0635\\u0648\\u0631\", \"\\u0636\\u063a\\u0637\", \"\\u0637\\u0627\\u0644\\u0628\", \"\\u0637\\u0644\\u0628\", \"\\u0637\\u0644\\u0628\", \"\\u0637\\u0644\\u0628\", \"\\u0637\\u0644\\u0628\", \"\\u0637\\u0644\\u0628\", \"\\u0637\\u0644\\u0628\", \"\\u0637\\u0644\\u0628\", \"\\u0637\\u0644\\u0628\", \"\\u0637\\u0644\\u0628\", \"\\u0637\\u0644\\u0639\", \"\\u0638\\u0647\\u0631\", \"\\u0638\\u0647\\u0631\", \"\\u0638\\u0647\\u0631\", \"\\u0638\\u0647\\u0631\", \"\\u0638\\u0647\\u0631\", \"\\u0639\\u0627\\u0631\\u0641\", \"\\u0639\\u0627\\u0631\\u0641\", \"\\u0639\\u0627\\u0631\\u0641\", \"\\u0639\\u0627\\u0631\\u0641\", \"\\u0639\\u0627\\u0648\\u0632\", \"\\u0639\\u0627\\u0648\\u0632\", \"\\u0639\\u0627\\u0648\\u0632\", \"\\u0639\\u0628\\u062f\\u0627\\u0644\\u062d\\u0641\\u064a\\u0638\", \"\\u0639\\u0628\\u062f\\u0627\\u0644\\u0631\\u062d\\u0645\\u0646\", \"\\u0639\\u0628\\u062f\\u0627\\u0644\\u0631\\u062d\\u0645\\u0646\", \"\\u0639\\u062f\\u0627\\u062f\", \"\\u0639\\u062f\\u0627\\u062f\", \"\\u0639\\u062f\\u0627\\u062f\", \"\\u0639\\u062f\\u0627\\u062f\", \"\\u0639\\u062f\\u0627\\u062f\", \"\\u0639\\u062f\\u0627\\u062f\", \"\\u0639\\u062f\\u0627\\u062f\", \"\\u0639\\u062f\\u0627\\u062f\", \"\\u0639\\u062f\\u0627\\u062f\\u0627\\u062a\\u0648\\u0644\\u0645\\u0627\", \"\\u0639\\u062f\\u0627\\u062f\\u062a\\u0641\\u0627\\u0646\\u0627\", \"\\u0639\\u062f\\u0627\\u062f\\u0643\\u0648\\u062f\\u0649\", \"\\u0639\\u062f\\u0627\\u062f\\u0643\\u0648\\u062f\\u064a\", \"\\u0639\\u062f\\u062f\", \"\\u0639\\u062f\\u0645\", \"\\u0639\\u062f\\u0645\", \"\\u0639\\u062f\\u0645\", \"\\u0639\\u062f\\u0649\", \"\\u0639\\u0631\\u0641\", \"\\u0639\\u0631\\u0641\", \"\\u0639\\u0631\\u0641\", \"\\u0639\\u0637\\u064a\\u0629\", \"\\u0639\\u0642\\u062f\", \"\\u0639\\u0642\\u062f\", \"\\u0639\\u0642\\u062f\", \"\\u0639\\u0642\\u062f\", \"\\u0639\\u0644\\u0634\\u0627\\u0646\", \"\\u0639\\u0644\\u0634\\u0627\\u0646\", \"\\u0639\\u0644\\u0645\", \"\\u0639\\u0644\\u0645\", \"\\u0639\\u0644\\u0645\", \"\\u0639\\u0644\\u0645\", \"\\u0639\\u0644\\u0645\", \"\\u0639\\u0644\\u0645\", \"\\u0639\\u0644\\u0645\", \"\\u0639\\u0644\\u0649\", \"\\u0639\\u0644\\u0649\", \"\\u0639\\u0644\\u0649\", \"\\u0639\\u0644\\u0649\", \"\\u0639\\u0644\\u0649\", \"\\u0639\\u0644\\u0649\", \"\\u0639\\u0644\\u064a\", \"\\u0639\\u0644\\u064a\", \"\\u0639\\u0644\\u064a\", \"\\u0639\\u0644\\u064a\", \"\\u0639\\u0644\\u064a\", \"\\u0639\\u0644\\u064a\\u0643\\u0645\\u0643\\u064a\\u0641\\u064a\\u0629\", \"\\u0639\\u0644\\u064a\\u0643\\u0645\\u0644\\u062f\\u064a\", \"\\u0639\\u0645\\u062f\", \"\\u0639\\u0645\\u0644\", \"\\u0639\\u0645\\u0644\", \"\\u0639\\u0645\\u0644\", \"\\u0639\\u0645\\u0644\", \"\\u0639\\u0645\\u0644\", \"\\u0639\\u0645\\u0644\", \"\\u0639\\u0645\\u0648\\u062f\", \"\\u0639\\u0646\\u062f\", \"\\u0639\\u0646\\u062f\", \"\\u0639\\u0646\\u062f\", \"\\u0639\\u0646\\u062f\", \"\\u0639\\u0646\\u062f\", \"\\u0639\\u0646\\u062f\", \"\\u0639\\u0646\\u062f\", \"\\u0639\\u0646\\u062f\\u0645\\u0627\", \"\\u0639\\u0646\\u062f\\u0645\\u0627\", \"\\u0639\\u0646\\u062f\\u0645\\u0627\", \"\\u063a\\u0631\\u0627\\u0645\", \"\\u063a\\u0644\\u0642\", \"\\u063a\\u064a\\u0631\", \"\\u063a\\u064a\\u0631\", \"\\u063a\\u064a\\u0631\", \"\\u063a\\u064a\\u0631\", \"\\u063a\\u064a\\u0631\\u0649\", \"\\u0641\\u0627\\u0626\\u0642\", \"\\u0641\\u0627\\u062a\\u0648\\u0631\\u0629\", \"\\u0641\\u0627\\u0642\\u062f\", \"\\u0641\\u062a\\u062d\", \"\\u0641\\u0636\\u0644\", \"\\u0641\\u0642\\u0644\\u062a\\u0644\\u0647\\u0645\", \"\\u0641\\u0646\", \"\\u0641\\u0646\", \"\\u0641\\u0646\", \"\\u0641\\u0646\", \"\\u0641\\u064a\\u0648\\u0645\", \"\\u0642\\u0627\\u0628\\u0644\", \"\\u0642\\u0627\\u0644\\u0648\\u0644\\u0649\", \"\\u0642\\u0628\\u0644\", \"\\u0642\\u0628\\u0644\", \"\\u0642\\u0628\\u0648\\u0644\", \"\\u0642\\u0628\\u0648\\u0644\", \"\\u0642\\u062f\\u0631\", \"\\u0642\\u062f\\u0645\", \"\\u0642\\u062f\\u0645\", \"\\u0642\\u062f\\u0645\", \"\\u0642\\u062f\\u0645\", \"\\u0642\\u062f\\u0645\", \"\\u0642\\u062f\\u0645\", \"\\u0642\\u062f\\u0645\", \"\\u0642\\u0631\\u0628\", \"\\u0642\\u0631\\u064a\\u0628\", \"\\u0642\\u0641\\u0644\", \"\\u0642\\u0644\\u0649\", \"\\u0642\\u0648\\u0645\", \"\\u0642\\u0648\\u0645\", \"\\u0642\\u0648\\u0645\\u0649\", \"\\u0642\\u0648\\u0645\\u0649\", \"\\u0642\\u0648\\u0645\\u0649\", \"\\u0642\\u0648\\u0645\\u0649\", \"\\u0642\\u0648\\u0645\\u0649\", \"\\u0642\\u064a\\u0645\", \"\\u0643\\u0627\\u0628\\u0644\", \"\\u0643\\u062a\\u064a\\u0631\", \"\\u0643\\u062f\\u0647\\u0644\\u0645\\u0627\\u0630\\u0627\", \"\\u0643\\u0644\\u0645\", \"\\u0643\\u0644\\u0645\", \"\\u0643\\u0644\\u0645\", \"\\u0643\\u0644\\u0645\", \"\\u0643\\u0644\\u0645\", \"\\u0643\\u0644\\u0645\", \"\\u0643\\u0647\\u0631\\u0628\", \"\\u0643\\u0647\\u0631\\u0628\\u0627\\u0621\", \"\\u0643\\u0647\\u0631\\u0628\\u0627\\u0621\", \"\\u0643\\u0647\\u0631\\u0628\\u0627\\u0621\", \"\\u0643\\u0647\\u0631\\u0628\\u0627\\u0621\", \"\\u0643\\u0648\\u062f\", \"\\u0643\\u0648\\u062f\", \"\\u0643\\u0648\\u062f\", \"\\u0643\\u064a\\u0641\\u064a\\u0629\", \"\\u0644\\u0627\\u0631\\u0641\\u0627\\u0642\", \"\\u0644\\u0627\\u0632\\u0645\", \"\\u0644\\u0627\\u0633\", \"\\u0644\\u0627\\u0633\", \"\\u0644\\u0627\\u0641\", \"\\u0644\\u0627\\u0646\", \"\\u0644\\u0627\\u0646\", \"\\u0644\\u0627\\u0646\", \"\\u0644\\u0628\\u064a\\u0627\\u0646\\u0627\\u062a\\u0649\", \"\\u0644\\u0643\\u0645\", \"\\u0644\\u0643\\u0645\", \"\\u0644\\u0643\\u0645\", \"\\u0644\\u0645\\u0627\\u0630\\u0627\", \"\\u0645\\u0627\\u0644\", \"\\u0645\\u0627\\u0644\\u0643\", \"\\u0645\\u0627\\u0644\\u0643\", \"\\u0645\\u0628\\u0644\\u063a\", \"\\u0645\\u062a\\u0627\\u062d\", \"\\u0645\\u062a\\u0627\\u062e\\u0631\", \"\\u0645\\u062a\\u062d\\u0648\\u0644\", \"\\u0645\\u062a\\u0642\\u062f\\u0645\", \"\\u0645\\u062a\\u0648\\u0633\\u0637\", \"\\u0645\\u062d\\u0645\\u062f\", \"\\u0645\\u062d\\u0645\\u062f\", \"\\u0645\\u062d\\u0645\\u062f\", \"\\u0645\\u062d\\u0645\\u062f\", \"\\u0645\\u062d\\u0645\\u062f\", \"\\u0645\\u062d\\u0645\\u0648\\u0644\", \"\\u0645\\u062d\\u0645\\u0648\\u0644\", \"\\u0645\\u062f\\u0641\\u0648\\u0639\", \"\\u0645\\u062f\\u0648\\u0646\", \"\\u0645\\u0631\\u0627\\u062c\\u0639\", \"\\u0645\\u0631\\u0627\\u062c\\u0639\", \"\\u0645\\u0631\\u0627\\u062c\\u0639\", \"\\u0645\\u0631\\u0641\\u0642\", \"\\u0645\\u0631\\u0641\\u0642\", \"\\u0645\\u0631\\u0641\\u0642\", \"\\u0645\\u0631\\u0641\\u0642\", \"\\u0645\\u0631\\u0643\\u0628\", \"\\u0645\\u0631\\u0643\\u0632\", \"\\u0645\\u0631\\u0643\\u0632\", \"\\u0645\\u0631\\u0643\\u0632\", \"\\u0645\\u0631\\u0648\\u0631\", \"\\u0645\\u0631\\u0648\\u0631\", \"\\u0645\\u0631\\u0648\\u0631\", \"\\u0645\\u0631\\u0648\\u0631\", \"\\u0645\\u0633\\u062a\\u0646\\u062f\", \"\\u0645\\u0633\\u062a\\u0646\\u062f\", \"\\u0645\\u0634\\u0627\\u0643\\u0644\", \"\\u0645\\u0634\\u0643\\u0644\", \"\\u0645\\u0634\\u0643\\u0644\", \"\\u0645\\u0634\\u0643\\u0644\", \"\\u0645\\u0634\\u0643\\u0644\", \"\\u0645\\u0634\\u0643\\u0644\", \"\\u0645\\u0637\\u0644\\u0648\\u0628\", \"\\u0645\\u0637\\u0644\\u0648\\u0628\", \"\\u0645\\u0637\\u0644\\u0648\\u0628\", \"\\u0645\\u0637\\u0644\\u0648\\u0628\", \"\\u0645\\u0637\\u0644\\u0648\\u0628\", \"\\u0645\\u0637\\u0644\\u0648\\u0628\", \"\\u0645\\u0637\\u0644\\u0648\\u0628\", \"\\u0645\\u0639\\u0627\", \"\\u0645\\u0639\\u0627\\u064a\\u0646\", \"\\u0645\\u0639\\u0627\\u064a\\u0646\", \"\\u0645\\u0639\\u0627\\u064a\\u0646\", \"\\u0645\\u0639\\u0627\\u064a\\u0646\", \"\\u0645\\u0639\\u0627\\u064a\\u0646\", \"\\u0645\\u0639\\u0631\\u0641\\u062a\\u0649\", \"\\u0645\\u0639\\u0644\\u0648\\u0645\", \"\\u0645\\u0641\\u062a\\u0631\\u0636\", \"\\u0645\\u0641\\u0631\\u0648\\u0636\", \"\\u0645\\u0641\\u0639\\u0644\", \"\\u0645\\u0641\\u064a\\u0634\", \"\\u0645\\u0641\\u064a\\u0634\", \"\\u0645\\u0641\\u064a\\u0634\", \"\\u0645\\u0641\\u064a\\u0634\", \"\\u0645\\u0642\\u062f\\u0645\", \"\\u0645\\u0642\\u062f\\u0645\", \"\\u0645\\u0642\\u062f\\u0645\", \"\\u0645\\u0642\\u062f\\u0645\", \"\\u0645\\u0642\\u062f\\u0645\", \"\\u0645\\u0642\\u062f\\u0645\", \"\\u0645\\u0642\\u062f\\u0645\", \"\\u0645\\u0642\\u062f\\u0645\", \"\\u0645\\u0644\\u0643\", \"\\u0645\\u0644\\u0643\", \"\\u0645\\u0644\\u0643\", \"\\u0645\\u0645\\u0627\\u0631\\u0633\", \"\\u0645\\u0645\\u0627\\u0631\\u0633\", \"\\u0645\\u0645\\u0627\\u0631\\u0633\", \"\\u0645\\u0645\\u0627\\u0631\\u0633\", \"\\u0645\\u0645\\u0627\\u0631\\u0633\", \"\\u0645\\u0645\\u0643\\u0646\", \"\\u0645\\u0645\\u0643\\u0646\", \"\\u0645\\u0646\", \"\\u0645\\u0646\\u0632\\u0644\", \"\\u0645\\u0646\\u0632\\u0644\", \"\\u0645\\u0646\\u0632\\u0644\", \"\\u0645\\u0646\\u0632\\u0644\", \"\\u0645\\u0646\\u0632\\u0644\", \"\\u0645\\u0646\\u0635\\u0629\", \"\\u0645\\u0646\\u0635\\u0629\", \"\\u0645\\u0646\\u0635\\u0629\", \"\\u0645\\u0646\\u0635\\u0629\", \"\\u0645\\u0646\\u0635\\u0629\", \"\\u0645\\u0646\\u0635\\u0629\", \"\\u0645\\u0646\\u0637\\u0642\", \"\\u0645\\u0646\\u0637\\u0642\", \"\\u0645\\u0646\\u0637\\u0642\", \"\\u0645\\u0648\\u0627\\u0641\\u0642\", \"\\u0645\\u0648\\u0628\\u064a\\u0644\", \"\\u0645\\u0648\\u062b\\u0642\", \"\\u0645\\u0648\\u062b\\u0642\", \"\\u0645\\u0648\\u062c\\u0648\\u062f\", \"\\u0645\\u0648\\u062d\\u062f\", \"\\u0645\\u0648\\u0638\\u0641\", \"\\u0645\\u0648\\u0638\\u0641\", \"\\u0645\\u0648\\u0642\\u0639\", \"\\u0645\\u0648\\u0642\\u0639\", \"\\u0645\\u0648\\u0642\\u0639\", \"\\u0645\\u0648\\u0642\\u0639\", \"\\u0645\\u0648\\u0642\\u0639\", \"\\u0645\\u0648\\u0642\\u0639\", \"\\u0645\\u0648\\u0642\\u0641\", \"\\u0645\\u064a\\u0639\\u0627\\u062f\", \"\\u0645\\u064a\\u0639\\u0631\\u0641\\u0648\\u0634\", \"\\u0645\\u064a\\u0644\", \"\\u0646\\u0627\\u0633\", \"\\u0646\\u062a\\u0632\\u0643\\u0631\", \"\\u0646\\u062c\\u0645\", \"\\u0646\\u0633\\u0649\", \"\\u0646\\u0633\\u0649\", \"\\u0646\\u0633\\u0649\", \"\\u0646\\u0633\\u0649\", \"\\u0646\\u0633\\u0649\", \"\\u0646\\u0633\\u0649\", \"\\u0646\\u0633\\u064a\\u0627\\u0646\", \"\\u0646\\u0645\\u0648\\u0630\\u062c\", \"\\u0647\\u0627\\u062a\\u0641\", \"\\u0647\\u062a\\u062a\\u062d\\u0628\\u0633\", \"\\u0647\\u062f\\u0645\", \"\\u0647\\u0633\\u062a\\u0644\\u0645\", \"\\u0647\\u0645\", \"\\u0647\\u0646\\u062f\\u0633\\u0629\", \"\\u0647\\u0646\\u062f\\u0633\\u0629\", \"\\u0648\\u0627\\u062d\\u062f\", \"\\u0648\\u0627\\u062d\\u062f\", \"\\u0648\\u0627\\u0636\\u062d\", \"\\u0648\\u0627\\u0644\\u0627\\u064a\\u0645\\u064a\\u0644\", \"\\u0648\\u0627\\u0646\\u0627\", \"\\u0648\\u0627\\u0646\\u0627\", \"\\u0648\\u0627\\u0646\\u0627\", \"\\u0648\\u0627\\u064a\\u0647\", \"\\u0648\\u0628\\u0631\\u0643\\u0627\\u062a\\u0647\\u062a\\u0642\\u062f\\u0645\\u062a\", \"\\u0648\\u0628\\u064a\\u0642\\u0648\\u0644\\u064a\", \"\\u0648\\u062c\\u0648\\u062f\", \"\\u0648\\u062f\\u0649\", \"\\u0648\\u062f\\u0649\", \"\\u0648\\u062f\\u0649\", \"\\u0648\\u062f\\u0649\", \"\\u0648\\u062f\\u064a\", \"\\u0648\\u062f\\u064a\", \"\\u0648\\u062f\\u064a\", \"\\u0648\\u062f\\u064a\", \"\\u0648\\u062f\\u064a\", \"\\u0648\\u062f\\u064a\", \"\\u0648\\u062f\\u064a\", \"\\u0648\\u0631\\u062f\", \"\\u0648\\u0631\\u0633\\u0627\\u0644\\u0647\", \"\\u0648\\u0631\\u064a\", \"\\u0648\\u0634\\u0643\\u0631\\u0627\\u0631\\u0642\\u0645\", \"\\u0648\\u0636\\u0639\", \"\\u0648\\u0642\\u0641\", \"\\u0648\\u0644\\u0627\\u064a\\u0633\", \"\\u0648\\u0645\\u062d\\u062f\\u0634\", \"\\u0648\\u0645\\u062d\\u062f\\u0634\", \"\\u0648\\u0645\\u062d\\u062f\\u0634\", \"\\u064a\\u0627\\u0631\\u064a\\u062a\", \"\\u064a\\u0627\\u0646\", \"\\u064a\\u062a\\u0633\\u0646\\u064a\", \"\\u064a\\u062a\\u0645\", \"\\u064a\\u0639\\u0637\\u064a\\u0646\\u0649\", \"\\u064a\\u0642\\u0648\\u0644\\u0649\", \"\\u064a\\u0645\", \"\\u064a\\u0648\\u0645\", \"\\u064a\\u0648\\u0645\", \"\\u064a\\u0648\\u0645\"]}, \"R\": 30, \"lambda.step\": 0.01, \"plot.opts\": {\"xlab\": \"PC1\", \"ylab\": \"PC2\"}, \"topic.order\": [2, 6, 7, 8, 9, 3, 1, 4, 5]};\n",
              "\n",
              "function LDAvis_load_lib(url, callback){\n",
              "  var s = document.createElement('script');\n",
              "  s.src = url;\n",
              "  s.async = true;\n",
              "  s.onreadystatechange = s.onload = callback;\n",
              "  s.onerror = function(){console.warn(\"failed to load library \" + url);};\n",
              "  document.getElementsByTagName(\"head\")[0].appendChild(s);\n",
              "}\n",
              "\n",
              "if(typeof(LDAvis) !== \"undefined\"){\n",
              "   // already loaded: just create the visualization\n",
              "   !function(LDAvis){\n",
              "       new LDAvis(\"#\" + \"ldavis_el28691400428655065921573011611\", ldavis_el28691400428655065921573011611_data);\n",
              "   }(LDAvis);\n",
              "}else if(typeof define === \"function\" && define.amd){\n",
              "   // require.js is available: use it to load d3/LDAvis\n",
              "   require.config({paths: {d3: \"https://d3js.org/d3.v5\"}});\n",
              "   require([\"d3\"], function(d3){\n",
              "      window.d3 = d3;\n",
              "      LDAvis_load_lib(\"https://cdn.jsdelivr.net/gh/bmabey/pyLDAvis@3.4.0/pyLDAvis/js/ldavis.v3.0.0.js\", function(){\n",
              "        new LDAvis(\"#\" + \"ldavis_el28691400428655065921573011611\", ldavis_el28691400428655065921573011611_data);\n",
              "      });\n",
              "    });\n",
              "}else{\n",
              "    // require.js not available: dynamically load d3 & LDAvis\n",
              "    LDAvis_load_lib(\"https://d3js.org/d3.v5.js\", function(){\n",
              "         LDAvis_load_lib(\"https://cdn.jsdelivr.net/gh/bmabey/pyLDAvis@3.4.0/pyLDAvis/js/ldavis.v3.0.0.js\", function(){\n",
              "                 new LDAvis(\"#\" + \"ldavis_el28691400428655065921573011611\", ldavis_el28691400428655065921573011611_data);\n",
              "            })\n",
              "         });\n",
              "}\n",
              "</script>"
            ]
          },
          "metadata": {},
          "execution_count": 43
        }
      ],
      "source": [
        "pyLDAvis.enable_notebook()\n",
        "vis = pyLDAvis.gensim_models.prepare(lda_model, bow_corpus, dictionary=lda_model.id2word)\n",
        "vis"
      ]
    },
    {
      "cell_type": "markdown",
      "id": "daa75906",
      "metadata": {
        "id": "daa75906"
      },
      "source": [
        "# 2- LDA Sequence"
      ]
    },
    {
      "cell_type": "code",
      "execution_count": null,
      "id": "79496e9d",
      "metadata": {
        "id": "79496e9d",
        "colab": {
          "base_uri": "https://localhost:8080/"
        },
        "outputId": "0f46c5f5-6715-4dc8-b9f6-990319ee6c76"
      },
      "outputs": [
        {
          "output_type": "stream",
          "name": "stderr",
          "text": [
            "/usr/local/lib/python3.10/dist-packages/ipykernel/ipkernel.py:283: DeprecationWarning: `should_run_async` will not call `transform_cell` automatically in the future. Please pass the result to `transformed_cell` argument and any exception that happen during thetransform in `preprocessing_exc_tuple` in IPython 7.17 and above.\n",
            "  and should_run_async(code)\n"
          ]
        }
      ],
      "source": [
        "\n",
        "ldaseq = LdaSeqModel(corpus=bow_corpus, id2word=dictionary, time_slice=[438, 430, 456], num_topics=5)\n"
      ]
    },
    {
      "cell_type": "code",
      "execution_count": null,
      "id": "18452bac",
      "metadata": {
        "id": "18452bac",
        "colab": {
          "base_uri": "https://localhost:8080/"
        },
        "outputId": "e3cfeee5-9061-4640-d846-2a2f19f10426"
      },
      "outputs": [
        {
          "output_type": "stream",
          "name": "stderr",
          "text": [
            "/usr/local/lib/python3.10/dist-packages/ipykernel/ipkernel.py:283: DeprecationWarning: `should_run_async` will not call `transform_cell` automatically in the future. Please pass the result to `transformed_cell` argument and any exception that happen during thetransform in `preprocessing_exc_tuple` in IPython 7.17 and above.\n",
            "  and should_run_async(code)\n"
          ]
        },
        {
          "output_type": "execute_result",
          "data": {
            "text/plain": [
              "[[('منطق', 0.043321969214022794),\n",
              "  ('عداد', 0.030724936642909494),\n",
              "  ('كلم', 0.02410500956801214),\n",
              "  ('تسجيل', 0.0209341255540323),\n",
              "  ('نسى', 0.02064683592721252),\n",
              "  ('ارجو', 0.017969857536017503),\n",
              "  ('سلام', 0.017212808180199653),\n",
              "  ('معاين', 0.0171197334506193),\n",
              "  ('سر', 0.016772881419682386),\n",
              "  ('على', 0.01492836503429033),\n",
              "  ('عندما', 0.014927544858084287),\n",
              "  ('كود', 0.014891420419377709),\n",
              "  ('عمل', 0.014872313356853257),\n",
              "  ('حضر', 0.014777556201957658),\n",
              "  ('استكمال', 0.014285289750606093),\n",
              "  ('خدم', 0.01403814128778541),\n",
              "  ('الله', 0.013564221399835945),\n",
              "  ('قدم', 0.013329605858671373),\n",
              "  ('بركة', 0.013098253468138824),\n",
              "  ('مركز', 0.013085220782116665)],\n",
              " [('طلب', 0.05420979137276309),\n",
              "  ('رقم', 0.03693200019209953),\n",
              "  ('قومى', 0.03005685150857413),\n",
              "  ('حال', 0.020390792723451377),\n",
              "  ('شكر', 0.02028835610342982),\n",
              "  ('رجاء', 0.018340715777861564),\n",
              "  ('صور', 0.017954241071219432),\n",
              "  ('محمد', 0.015700487432784804),\n",
              "  ('حساب', 0.01528635781997345),\n",
              "  ('تحويل', 0.014971799764684244),\n",
              "  ('فن', 0.0140851171658592),\n",
              "  ('اسم', 0.013838148502337402),\n",
              "  ('عداد', 0.013407389828771925),\n",
              "  ('دراس', 0.012464450180354305),\n",
              "  ('سداد', 0.012359395127119307),\n",
              "  ('علم', 0.012301215521243216),\n",
              "  ('تقديم', 0.011885671009261608),\n",
              "  ('ظهر', 0.011702911557293283),\n",
              "  ('ممارس', 0.011226300380547866),\n",
              "  ('لكم', 0.010536815750241539)],\n",
              " [('عداد', 0.05903671033627345),\n",
              "  ('تركيب', 0.05113551461416886),\n",
              "  ('طلب', 0.04930981171606719),\n",
              "  ('اسم', 0.04388929371325711),\n",
              "  ('ايصال', 0.03572292392708323),\n",
              "  ('شق', 0.034579834868476475),\n",
              "  ('ودي', 0.02473094762780265),\n",
              "  ('ممارس', 0.02415839233053935),\n",
              "  ('سعيد', 0.021346222020041637),\n",
              "  ('الممارسه', 0.019250532341909442),\n",
              "  ('تاريخ', 0.01773072613587156),\n",
              "  ('علم', 0.017348733683656737),\n",
              "  ('مراجع', 0.016970038914232596),\n",
              "  ('حمد', 0.014723023084963855),\n",
              "  ('عقد', 0.014722961385447394),\n",
              "  ('مال', 0.014722320568079376),\n",
              "  ('محمد', 0.014707984385631118),\n",
              "  ('عطية', 0.014707984232493216),\n",
              "  ('سيد', 0.014707984223962259),\n",
              "  ('رجا', 0.014563970488934083)],\n",
              " [('ممارس', 0.04246771335570173),\n",
              "  ('عداد', 0.04204902040303779),\n",
              "  ('طلب', 0.041046505692661654),\n",
              "  ('تقديم', 0.03445427978526684),\n",
              "  ('طلبة', 0.020872291349289095),\n",
              "  ('تحويل', 0.018976091317920857),\n",
              "  ('مستند', 0.017986249633369377),\n",
              "  ('دفع', 0.017982722773313874),\n",
              "  ('ودى', 0.01492216072230676),\n",
              "  ('عمل', 0.014922158256678383),\n",
              "  ('جديد', 0.014922158256550633),\n",
              "  ('رغم', 0.014922158255619532),\n",
              "  ('سابق', 0.01487733762138461),\n",
              "  ('ومحدش', 0.014145060149279099),\n",
              "  ('ارجو', 0.012413677406776302),\n",
              "  ('حال', 0.011880404060769128),\n",
              "  ('عمود', 0.011880383681343237),\n",
              "  ('مطلوب', 0.011880323917607771),\n",
              "  ('مرفق', 0.01188032086100402),\n",
              "  ('قبول', 0.011880285468022328)],\n",
              " [('عداد', 0.029266007232895422),\n",
              "  ('طلب', 0.024730550041398593),\n",
              "  ('بيان', 0.021593955874237653),\n",
              "  ('رد', 0.017872858645242552),\n",
              "  ('تقديم', 0.015872910850325106),\n",
              "  ('على', 0.01575259170070911),\n",
              "  ('قدم', 0.015716807775573896),\n",
              "  ('سلام', 0.015538399665435649),\n",
              "  ('سمح', 0.01405778625878006),\n",
              "  ('محمد', 0.013510497054183215),\n",
              "  ('ارجو', 0.013349237756894408),\n",
              "  ('جديد', 0.012993579930161689),\n",
              "  ('حضر', 0.01200006902483309),\n",
              "  ('ممارس', 0.011971993663263127),\n",
              "  ('استكمال', 0.011753245811912465),\n",
              "  ('شكو', 0.011733648071900615),\n",
              "  ('منصة', 0.011716377003440175),\n",
              "  ('شكر', 0.011713697527966855),\n",
              "  ('عند', 0.011601596740783739),\n",
              "  ('رقم', 0.01158933195634447)]]"
            ]
          },
          "metadata": {},
          "execution_count": 45
        }
      ],
      "source": [
        "ldaseq.print_topics(time=0)"
      ]
    },
    {
      "cell_type": "code",
      "execution_count": null,
      "id": "11ad0248",
      "metadata": {
        "id": "11ad0248",
        "colab": {
          "base_uri": "https://localhost:8080/"
        },
        "outputId": "d932db1d-801f-4172-9026-93df07011d89"
      },
      "outputs": [
        {
          "output_type": "stream",
          "name": "stderr",
          "text": [
            "/usr/local/lib/python3.10/dist-packages/ipykernel/ipkernel.py:283: DeprecationWarning: `should_run_async` will not call `transform_cell` automatically in the future. Please pass the result to `transformed_cell` argument and any exception that happen during thetransform in `preprocessing_exc_tuple` in IPython 7.17 and above.\n",
            "  and should_run_async(code)\n"
          ]
        },
        {
          "output_type": "execute_result",
          "data": {
            "text/plain": [
              "[[('منطق', 0.043321969214022794),\n",
              "  ('عداد', 0.030724936642909494),\n",
              "  ('كلم', 0.02410500956801214),\n",
              "  ('تسجيل', 0.0209341255540323),\n",
              "  ('نسى', 0.02064683592721252),\n",
              "  ('ارجو', 0.017969857536017503),\n",
              "  ('سلام', 0.017212808180199653),\n",
              "  ('معاين', 0.0171197334506193),\n",
              "  ('سر', 0.016772881419682386),\n",
              "  ('على', 0.01492836503429033),\n",
              "  ('عندما', 0.014927544858084287),\n",
              "  ('كود', 0.014891420419377709),\n",
              "  ('عمل', 0.014872313356853257),\n",
              "  ('حضر', 0.014777556201957658),\n",
              "  ('استكمال', 0.014285289750606093),\n",
              "  ('خدم', 0.01403814128778541),\n",
              "  ('الله', 0.013564221399835945),\n",
              "  ('قدم', 0.013329605858671373),\n",
              "  ('بركة', 0.013098253468138824),\n",
              "  ('مركز', 0.013085220782116665)],\n",
              " [('منطق', 0.04340718835728605),\n",
              "  ('عداد', 0.030767108026560592),\n",
              "  ('كلم', 0.02413350437402968),\n",
              "  ('تسجيل', 0.020963432141044222),\n",
              "  ('نسى', 0.020659434273296903),\n",
              "  ('ارجو', 0.017980526141503042),\n",
              "  ('سلام', 0.017239437900015833),\n",
              "  ('معاين', 0.017141047304277617),\n",
              "  ('سر', 0.0167892588171609),\n",
              "  ('على', 0.014951686021955481),\n",
              "  ('عندما', 0.014944161032481036),\n",
              "  ('كود', 0.014906640296536228),\n",
              "  ('عمل', 0.014887471424736997),\n",
              "  ('حضر', 0.014793100497502302),\n",
              "  ('استكمال', 0.01430102861542644),\n",
              "  ('خدم', 0.014052445060073577),\n",
              "  ('الله', 0.013587231960861852),\n",
              "  ('قدم', 0.013339533153421092),\n",
              "  ('بركة', 0.013105913068821359),\n",
              "  ('مركز', 0.013096754359699234)],\n",
              " [('منطق', 0.04348593958442585),\n",
              "  ('عداد', 0.03080154968329888),\n",
              "  ('كلم', 0.024155440339132514),\n",
              "  ('تسجيل', 0.020978099716016947),\n",
              "  ('نسى', 0.020655702408602823),\n",
              "  ('ارجو', 0.017985866522695168),\n",
              "  ('سلام', 0.017248352951121152),\n",
              "  ('معاين', 0.01715621436295386),\n",
              "  ('سر', 0.016797865752668735),\n",
              "  ('على', 0.014968467686145605),\n",
              "  ('عندما', 0.014952124759077576),\n",
              "  ('كود', 0.01491302324889181),\n",
              "  ('عمل', 0.014889739230179404),\n",
              "  ('حضر', 0.014795924975312427),\n",
              "  ('استكمال', 0.014307279865084593),\n",
              "  ('خدم', 0.014055150256055797),\n",
              "  ('الله', 0.013601913465923774),\n",
              "  ('قدم', 0.013338469029108721),\n",
              "  ('بركة', 0.013105575307303694),\n",
              "  ('مركز', 0.013097787940416496)]]"
            ]
          },
          "metadata": {},
          "execution_count": 46
        }
      ],
      "source": [
        "ldaseq.print_topic_times(topic=0) # evolution of 1st topic"
      ]
    },
    {
      "cell_type": "markdown",
      "id": "db91af3a",
      "metadata": {
        "id": "db91af3a"
      },
      "source": [
        "### LDA seq cohererence with CV"
      ]
    },
    {
      "cell_type": "code",
      "execution_count": null,
      "id": "207ecb36",
      "metadata": {
        "id": "207ecb36",
        "colab": {
          "base_uri": "https://localhost:8080/"
        },
        "outputId": "2e57538e-6557-401b-f7e9-e7ac4c38a763"
      },
      "outputs": [
        {
          "output_type": "stream",
          "name": "stderr",
          "text": [
            "/usr/local/lib/python3.10/dist-packages/ipykernel/ipkernel.py:283: DeprecationWarning: `should_run_async` will not call `transform_cell` automatically in the future. Please pass the result to `transformed_cell` argument and any exception that happen during thetransform in `preprocessing_exc_tuple` in IPython 7.17 and above.\n",
            "  and should_run_async(code)\n"
          ]
        },
        {
          "output_type": "stream",
          "name": "stdout",
          "text": [
            "Coherence score by cv:  0.46167152636335607\n"
          ]
        }
      ],
      "source": [
        "\n",
        "\n",
        "# we just have to specify the time-slice we want to find coherence for.\n",
        "\n",
        "topics_dtm = ldaseq.dtm_coherence(time=0)\n",
        "\n",
        "# running u_mass coherence on our models\n",
        "dtm = CoherenceModel(topics=topics_dtm, corpus=bow_corpus,texts=processed_docs, dictionary=dictionary, coherence='c_v')\n",
        "ldaseq_cv=dtm.get_coherence()\n",
        "\n",
        "\n",
        "print (\"Coherence score by cv: \", ldaseq_cv)\n",
        "\n"
      ]
    },
    {
      "cell_type": "markdown",
      "id": "8a5248d9",
      "metadata": {
        "id": "8a5248d9"
      },
      "source": [
        "### LDA seq coherence with u_mass"
      ]
    },
    {
      "cell_type": "code",
      "execution_count": null,
      "id": "b8744c1f",
      "metadata": {
        "id": "b8744c1f",
        "colab": {
          "base_uri": "https://localhost:8080/"
        },
        "outputId": "1b9ea3fd-15d1-4959-b466-e14c97c24118"
      },
      "outputs": [
        {
          "output_type": "stream",
          "name": "stdout",
          "text": [
            "Coherence score by U_MASS:  -5.094354776937004\n"
          ]
        },
        {
          "output_type": "stream",
          "name": "stderr",
          "text": [
            "/usr/local/lib/python3.10/dist-packages/ipykernel/ipkernel.py:283: DeprecationWarning: `should_run_async` will not call `transform_cell` automatically in the future. Please pass the result to `transformed_cell` argument and any exception that happen during thetransform in `preprocessing_exc_tuple` in IPython 7.17 and above.\n",
            "  and should_run_async(code)\n"
          ]
        }
      ],
      "source": [
        "\n",
        "\n",
        "# we just have to specify the time-slice we want to find coherence for.\n",
        "\n",
        "topics_dtm = ldaseq.dtm_coherence(time=0)\n",
        "\n",
        "# running u_mass coherence on our models\n",
        "dtm = CoherenceModel(topics=topics_dtm, corpus=bow_corpus,texts=processed_docs, dictionary=dictionary, coherence='u_mass')\n",
        "ldaseq_umass=dtm.get_coherence()\n",
        "\n",
        "print (\"Coherence score by U_MASS: \",ldaseq_umass )\n"
      ]
    },
    {
      "cell_type": "markdown",
      "id": "c54249bb",
      "metadata": {
        "id": "c54249bb"
      },
      "source": [
        "### LDA seq coherence with C_uci"
      ]
    },
    {
      "cell_type": "code",
      "execution_count": null,
      "id": "0f3bddc7",
      "metadata": {
        "id": "0f3bddc7",
        "colab": {
          "base_uri": "https://localhost:8080/"
        },
        "outputId": "919e7be9-5cbe-4130-cb52-0448b00d6c43"
      },
      "outputs": [
        {
          "output_type": "stream",
          "name": "stdout",
          "text": [
            "Coherence score by c_uci:  -6.34059923942587\n"
          ]
        },
        {
          "output_type": "stream",
          "name": "stderr",
          "text": [
            "/usr/local/lib/python3.10/dist-packages/ipykernel/ipkernel.py:283: DeprecationWarning: `should_run_async` will not call `transform_cell` automatically in the future. Please pass the result to `transformed_cell` argument and any exception that happen during thetransform in `preprocessing_exc_tuple` in IPython 7.17 and above.\n",
            "  and should_run_async(code)\n"
          ]
        }
      ],
      "source": [
        "\n",
        "# we just have to specify the time-slice we want to find coherence for.\n",
        "\n",
        "topics_dtm = ldaseq.dtm_coherence(time=0)\n",
        "\n",
        "# running u_mass coherence on our models\n",
        "dtm = CoherenceModel(topics=topics_dtm, corpus=bow_corpus,texts=processed_docs, dictionary=dictionary, coherence='c_uci')\n",
        "ldaseq_cuci=dtm.get_coherence()\n",
        "\n",
        "print (\"Coherence score by c_uci: \", ldaseq_cuci)\n",
        "\n"
      ]
    },
    {
      "cell_type": "markdown",
      "id": "177cbf3d",
      "metadata": {
        "id": "177cbf3d"
      },
      "source": [
        "### LDA seq coherence with c_nmpi"
      ]
    },
    {
      "cell_type": "code",
      "execution_count": null,
      "id": "922dc29a",
      "metadata": {
        "id": "922dc29a",
        "colab": {
          "base_uri": "https://localhost:8080/"
        },
        "outputId": "07208652-82b8-4907-bb1b-264e64de958b"
      },
      "outputs": [
        {
          "output_type": "stream",
          "name": "stderr",
          "text": [
            "/usr/local/lib/python3.10/dist-packages/ipykernel/ipkernel.py:283: DeprecationWarning: `should_run_async` will not call `transform_cell` automatically in the future. Please pass the result to `transformed_cell` argument and any exception that happen during thetransform in `preprocessing_exc_tuple` in IPython 7.17 and above.\n",
            "  and should_run_async(code)\n"
          ]
        },
        {
          "output_type": "stream",
          "name": "stdout",
          "text": [
            "Coherence score by c_npmi:  -0.16398932416915407\n"
          ]
        }
      ],
      "source": [
        "\n",
        "\n",
        "# we just have to specify the time-slice we want to find coherence for.\n",
        "\n",
        "topics_dtm = ldaseq.dtm_coherence(time=0)\n",
        "\n",
        "# running u_mass coherence on our models\n",
        "dtm = CoherenceModel(topics=topics_dtm, corpus=bow_corpus,texts=processed_docs, dictionary=dictionary, coherence='c_npmi')\n",
        "ldaseq_cnmpi=dtm.get_coherence()\n",
        "\n",
        "print (\"Coherence score by c_npmi: \",ldaseq_cnmpi)\n"
      ]
    },
    {
      "cell_type": "markdown",
      "id": "4454882d",
      "metadata": {
        "id": "4454882d"
      },
      "source": [
        "# 3-  Biterm topic model (BTM)"
      ]
    },
    {
      "cell_type": "code",
      "execution_count": null,
      "id": "d3ea4f6f",
      "metadata": {
        "id": "d3ea4f6f",
        "colab": {
          "base_uri": "https://localhost:8080/"
        },
        "outputId": "05e2b180-30d7-4718-9d85-adfeabdf365b"
      },
      "outputs": [
        {
          "output_type": "stream",
          "name": "stderr",
          "text": [
            "/usr/local/lib/python3.10/dist-packages/ipykernel/ipkernel.py:283: DeprecationWarning: `should_run_async` will not call `transform_cell` automatically in the future. Please pass the result to `transformed_cell` argument and any exception that happen during thetransform in `preprocessing_exc_tuple` in IPython 7.17 and above.\n",
            "  and should_run_async(code)\n",
            "100%|██████████| 20/20 [00:26<00:00,  1.31s/it]\n"
          ]
        }
      ],
      "source": [
        "X, vocabulary, vocab_dict = btm.get_words_freqs(data['text'])\n",
        "docs_vec = btm.get_vectorized_docs(data['text'], vocabulary)\n",
        "biterms = btm.get_biterms(docs_vec)\n",
        "model = btm.BTM(\n",
        "    X, vocabulary, seed=12321, T=8, M=20, alpha=50/8, beta=0.01)\n",
        "model.fit(biterms, iterations=20)"
      ]
    },
    {
      "cell_type": "code",
      "execution_count": null,
      "id": "f584b596",
      "metadata": {
        "id": "f584b596",
        "colab": {
          "base_uri": "https://localhost:8080/"
        },
        "outputId": "d0d7df38-4424-413b-ba57-12abd325e3e4"
      },
      "outputs": [
        {
          "output_type": "stream",
          "name": "stderr",
          "text": [
            "/usr/local/lib/python3.10/dist-packages/ipykernel/ipkernel.py:283: DeprecationWarning: `should_run_async` will not call `transform_cell` automatically in the future. Please pass the result to `transformed_cell` argument and any exception that happen during thetransform in `preprocessing_exc_tuple` in IPython 7.17 and above.\n",
            "  and should_run_async(code)\n",
            "100%|██████████| 47741/47741 [00:01<00:00, 43198.14it/s]\n"
          ]
        }
      ],
      "source": [
        "p_zd = model.transform(docs_vec)"
      ]
    },
    {
      "cell_type": "code",
      "execution_count": null,
      "id": "41e5731d",
      "metadata": {
        "id": "41e5731d",
        "colab": {
          "base_uri": "https://localhost:8080/"
        },
        "outputId": "c86697b8-a4bf-4d4a-c50b-420c3f0a156a"
      },
      "outputs": [
        {
          "output_type": "stream",
          "name": "stderr",
          "text": [
            "/usr/local/lib/python3.10/dist-packages/ipykernel/ipkernel.py:283: DeprecationWarning: `should_run_async` will not call `transform_cell` automatically in the future. Please pass the result to `transformed_cell` argument and any exception that happen during thetransform in `preprocessing_exc_tuple` in IPython 7.17 and above.\n",
            "  and should_run_async(code)\n"
          ]
        },
        {
          "output_type": "stream",
          "name": "stdout",
          "text": [
            "[-1.06590261 -1.18137941 -1.19074089 -1.18972784 -1.06590261 -1.08981458\n",
            " -1.39441695 -1.28041293]\n"
          ]
        }
      ],
      "source": [
        "\n",
        "coherence = btm.coherence(model.matrix_topics_words_, X, M=2)\n",
        "\n",
        "#coherence = model.coherence_\n",
        "\n",
        "print(coherence)\n"
      ]
    },
    {
      "cell_type": "code",
      "execution_count": null,
      "id": "bda67de8",
      "metadata": {
        "id": "bda67de8",
        "colab": {
          "base_uri": "https://localhost:8080/"
        },
        "outputId": "8fa1d04f-3f31-45e2-bce3-d9149d2ddac3"
      },
      "outputs": [
        {
          "output_type": "stream",
          "name": "stderr",
          "text": [
            "/usr/local/lib/python3.10/dist-packages/ipykernel/ipkernel.py:283: DeprecationWarning: `should_run_async` will not call `transform_cell` automatically in the future. Please pass the result to `transformed_cell` argument and any exception that happen during thetransform in `preprocessing_exc_tuple` in IPython 7.17 and above.\n",
            "  and should_run_async(code)\n"
          ]
        },
        {
          "output_type": "execute_result",
          "data": {
            "text/plain": [
              "(8,)"
            ]
          },
          "metadata": {},
          "execution_count": 54
        }
      ],
      "source": [
        "coherence.shape"
      ]
    },
    {
      "cell_type": "code",
      "execution_count": null,
      "id": "3672d085",
      "metadata": {
        "id": "3672d085",
        "colab": {
          "base_uri": "https://localhost:8080/"
        },
        "outputId": "b7cb060b-5597-42e9-db15-c67a9ce18b1f"
      },
      "outputs": [
        {
          "output_type": "stream",
          "name": "stderr",
          "text": [
            "/usr/local/lib/python3.10/dist-packages/ipykernel/ipkernel.py:283: DeprecationWarning: `should_run_async` will not call `transform_cell` automatically in the future. Please pass the result to `transformed_cell` argument and any exception that happen during thetransform in `preprocessing_exc_tuple` in IPython 7.17 and above.\n",
            "  and should_run_async(code)\n"
          ]
        },
        {
          "output_type": "execute_result",
          "data": {
            "text/plain": [
              "-1.1813794120868097"
            ]
          },
          "metadata": {},
          "execution_count": 55
        }
      ],
      "source": [
        "coherence[1]"
      ]
    },
    {
      "cell_type": "code",
      "execution_count": null,
      "id": "52570a7a",
      "metadata": {
        "id": "52570a7a",
        "colab": {
          "base_uri": "https://localhost:8080/"
        },
        "outputId": "b3ba919d-b1d2-477b-fa18-de8eebd06ec8"
      },
      "outputs": [
        {
          "output_type": "stream",
          "name": "stdout",
          "text": [
            "-1.1822872259471506\n"
          ]
        },
        {
          "output_type": "stream",
          "name": "stderr",
          "text": [
            "/usr/local/lib/python3.10/dist-packages/ipykernel/ipkernel.py:283: DeprecationWarning: `should_run_async` will not call `transform_cell` automatically in the future. Please pass the result to `transformed_cell` argument and any exception that happen during thetransform in `preprocessing_exc_tuple` in IPython 7.17 and above.\n",
            "  and should_run_async(code)\n"
          ]
        }
      ],
      "source": [
        "\n",
        "\n",
        "coherence_mean = mean(coherence)\n",
        "\n",
        "print(coherence_mean)"
      ]
    },
    {
      "cell_type": "code",
      "execution_count": null,
      "id": "c735745f",
      "metadata": {
        "id": "c735745f",
        "colab": {
          "base_uri": "https://localhost:8080/"
        },
        "outputId": "22fe4e53-74e4-4fbc-e1f3-1e478be195fc"
      },
      "outputs": [
        {
          "output_type": "stream",
          "name": "stdout",
          "text": [
            "Sum of first  8 numbers is:  36\n",
            "Average of  8 numbers is:  4.5\n"
          ]
        },
        {
          "output_type": "stream",
          "name": "stderr",
          "text": [
            "/usr/local/lib/python3.10/dist-packages/ipykernel/ipkernel.py:283: DeprecationWarning: `should_run_async` will not call `transform_cell` automatically in the future. Please pass the result to `transformed_cell` argument and any exception that happen during thetransform in `preprocessing_exc_tuple` in IPython 7.17 and above.\n",
            "  and should_run_async(code)\n"
          ]
        }
      ],
      "source": [
        "\n",
        "sum = 0\n",
        "# loop from 1 to n\n",
        "for num in range(1, (len(coherence)) + 1, 1):\n",
        "    sum = sum + num\n",
        "print(\"Sum of first \",(len(coherence)), \"numbers is: \", sum)\n",
        "average = sum /  (len(coherence))\n",
        "print(\"Average of \", (len(coherence)), \"numbers is: \", average)"
      ]
    },
    {
      "cell_type": "code",
      "execution_count": null,
      "id": "c1140413",
      "metadata": {
        "id": "c1140413",
        "colab": {
          "base_uri": "https://localhost:8080/"
        },
        "outputId": "10a9bcda-e97d-4567-f3e6-a0cd19bac39f"
      },
      "outputs": [
        {
          "output_type": "stream",
          "name": "stdout",
          "text": [
            "-0.1332378257072891\n",
            "-0.14767242651085122\n",
            "-0.14884261107942617\n",
            "-0.1487159801463197\n",
            "-0.1332378257072891\n",
            "-0.13622682224557256\n",
            "-0.17430211842873272\n",
            "-0.1600516161216701\n"
          ]
        },
        {
          "output_type": "stream",
          "name": "stderr",
          "text": [
            "/usr/local/lib/python3.10/dist-packages/ipykernel/ipkernel.py:283: DeprecationWarning: `should_run_async` will not call `transform_cell` automatically in the future. Please pass the result to `transformed_cell` argument and any exception that happen during thetransform in `preprocessing_exc_tuple` in IPython 7.17 and above.\n",
            "  and should_run_async(code)\n"
          ]
        }
      ],
      "source": [
        "for i in range(len(coherence)) :\n",
        "    coh_mean = coherence[i]/ len(coherence)\n",
        "    print(coh_mean)"
      ]
    },
    {
      "cell_type": "code",
      "execution_count": null,
      "id": "7723fa2b",
      "metadata": {
        "id": "7723fa2b",
        "colab": {
          "base_uri": "https://localhost:8080/",
          "height": 1000,
          "referenced_widgets": [
            "dfcc72d5adf2458abefbc8fe451b8e4d",
            "e7271da4998f48b0b9a6f1be0ecb285f",
            "7151c9d302ef4c18a0cca3d3e292db25",
            "c95fd76c263343bd9fbc6b10447b8e20",
            "ec1b6a2b28de42b38c287bda7d33daa5",
            "04ecf03f70284927ac1af423a7f0b038",
            "b9fe7e18f1f843fdb3f05211ca63f3b4",
            "0bcbf33e32f44df5b8f85b10828d9b57",
            "f4dcdffb50ab4459879187ed1e0ccdbf",
            "873c5c519ad14e068e94b7225db97baf",
            "bf6f21196e864498810333c6490e27c4",
            "421aca80892b4b958a5c86d1bea9c36e",
            "ea18c5b5c45d4d5f9970c77872c5fca0",
            "303493725153465e8995fafc9a97f6dd",
            "032e2b0caf2e42c0894fff90128d1dee",
            "af1eace52d0c402ab9226f1f99d64b2b",
            "bce3962b4f814391854d2e7c8c49d828",
            "209893f81b0b4c93a5019d66ad439a2d",
            "0f15a5fea04844819d9f6d4d3378171d",
            "11a6c0f08fef4ecc8043ba6445aca26e",
            "7353f2a908bd43aeb2fedcd888c439e8",
            "ef898ec953874729b7fb043334ab9f08",
            "fb7e6524387249498999e688c1738edd",
            "a5ed7b606ec54bee87c4e47ff31e4b98",
            "e5e137de91bf408faf24539cbe689642",
            "7cb1a08fc4ef49518100e2f8914ff2bd",
            "63265b86bcad431bb3c7ee3513f32ce0",
            "35d242b9e4e24c5098df8b0fbc1dafa7",
            "6b4f7bc8395340feaa3665a74589eebe",
            "a43878609ebf4c939b45c9caaf8a41b4",
            "6dfec186ce6f4aefb4da06fb4b41da7f",
            "4f7d5fc4619d43a487e877c7cfdd1576",
            "6de0eee9a7944673ae42c0a44a39236c",
            "f492d8c461a2452e85f24a9105e69579",
            "2c2d426470be474ca9a71d019a3d74cf",
            "0e644bb8ee8e4544b6c303fd1066c908",
            "24d81aeea9e6450ca03e79e65d6467e5",
            "9d74f256312b41ba978eda909f76bdca",
            "5f5da3adf9d4460b85a792b8c618f805",
            "cd73ab5191a84e77a3cfc38cc4f38dcf",
            "07198eb7652d4173ac3e0584e38bf509",
            "b3e96f5c10854387b878c185b66a0c29",
            "e8e2094c31db4888a2de0a1a85e27a5e",
            "8d5ba61b34624af6ac33e4830f680073",
            "f35baa37d44b4b97b484e2d4dac642af",
            "e04431e90216428e92eda3f14b6c9d20",
            "056d6209cfee4793af50d572a3ee3255",
            "1d4aaad5b708414b999b3d6c82f63466",
            "cb60fa8b865d4607b20a3c17f3e834f0",
            "f7191da84fa6496fa4c80bf40c299dfa",
            "dbdbe142c81047c397916273f207dc2c",
            "baf7904e42ae4fa383dca530c4daec22",
            "4d26d7d67cc9474ab196a8550a920eac",
            "006085934ad74f1088d30a786c890bcd",
            "ea5b8a0bf7b740a4b452050dce2231d4",
            "922e4e764a7e4dd29d5be48e6293725a",
            "6dc14df0db1047fa84c5d6f456699bc9",
            "f975da5949b44856b85c3dd751b552b6",
            "a99c2d6567914aa4b3b60c42c2748488",
            "db7e8a977ba14a399b3136bde73deca0",
            "29b49a5ece754981ac3dbb9229c3b0c4",
            "f6a638de6c7e4ac3bbd369e51fe6b421"
          ]
        },
        "outputId": "4f1165bf-54f5-4154-e90e-ee32006b041b"
      },
      "outputs": [
        {
          "output_type": "stream",
          "name": "stderr",
          "text": [
            "/usr/local/lib/python3.10/dist-packages/ipykernel/ipkernel.py:283: DeprecationWarning: `should_run_async` will not call `transform_cell` automatically in the future. Please pass the result to `transformed_cell` argument and any exception that happen during thetransform in `preprocessing_exc_tuple` in IPython 7.17 and above.\n",
            "  and should_run_async(code)\n",
            "/usr/local/lib/python3.10/dist-packages/altair/utils/schemapi.py:462: DeprecationWarning: jsonschema.RefResolver is deprecated as of v4.18.0, in favor of the https://github.com/python-jsonschema/referencing library, which provides more compliant referencing behavior as well as more flexible APIs for customization. A future release will remove RefResolver. Please file a feature request (on referencing) if you are missing an API for the kind of customization you need.\n",
            "  resolver = jsonschema.RefResolver.from_schema(cls._rootschema or cls._schema)\n",
            "/usr/local/lib/python3.10/dist-packages/altair/utils/schemapi.py:97: DeprecationWarning: jsonschema.RefResolver is deprecated as of v4.18.0, in favor of the https://github.com/python-jsonschema/referencing library, which provides more compliant referencing behavior as well as more flexible APIs for customization. A future release will remove RefResolver. Please file a feature request (on referencing) if you are missing an API for the kind of customization you need.\n",
            "  resolver = jsonschema.RefResolver.from_schema(root or schema)\n",
            "/usr/local/lib/python3.10/dist-packages/altair/utils/schemapi.py:97: DeprecationWarning: jsonschema.RefResolver is deprecated as of v4.18.0, in favor of the https://github.com/python-jsonschema/referencing library, which provides more compliant referencing behavior as well as more flexible APIs for customization. A future release will remove RefResolver. Please file a feature request (on referencing) if you are missing an API for the kind of customization you need.\n",
            "  resolver = jsonschema.RefResolver.from_schema(root or schema)\n",
            "/usr/local/lib/python3.10/dist-packages/altair/utils/schemapi.py:97: DeprecationWarning: jsonschema.RefResolver is deprecated as of v4.18.0, in favor of the https://github.com/python-jsonschema/referencing library, which provides more compliant referencing behavior as well as more flexible APIs for customization. A future release will remove RefResolver. Please file a feature request (on referencing) if you are missing an API for the kind of customization you need.\n",
            "  resolver = jsonschema.RefResolver.from_schema(root or schema)\n",
            "/usr/local/lib/python3.10/dist-packages/altair/utils/schemapi.py:574: DeprecationWarning: jsonschema.RefResolver is deprecated as of v4.18.0, in favor of the https://github.com/python-jsonschema/referencing library, which provides more compliant referencing behavior as well as more flexible APIs for customization. A future release will remove RefResolver. Please file a feature request (on referencing) if you are missing an API for the kind of customization you need.\n",
            "  resolver = jsonschema.RefResolver.from_schema(rootschema)\n",
            "/usr/local/lib/python3.10/dist-packages/altair/utils/schemapi.py:574: DeprecationWarning: jsonschema.RefResolver is deprecated as of v4.18.0, in favor of the https://github.com/python-jsonschema/referencing library, which provides more compliant referencing behavior as well as more flexible APIs for customization. A future release will remove RefResolver. Please file a feature request (on referencing) if you are missing an API for the kind of customization you need.\n",
            "  resolver = jsonschema.RefResolver.from_schema(rootschema)\n",
            "/usr/local/lib/python3.10/dist-packages/altair/utils/schemapi.py:97: DeprecationWarning: jsonschema.RefResolver is deprecated as of v4.18.0, in favor of the https://github.com/python-jsonschema/referencing library, which provides more compliant referencing behavior as well as more flexible APIs for customization. A future release will remove RefResolver. Please file a feature request (on referencing) if you are missing an API for the kind of customization you need.\n",
            "  resolver = jsonschema.RefResolver.from_schema(root or schema)\n",
            "/usr/local/lib/python3.10/dist-packages/altair/utils/schemapi.py:97: DeprecationWarning: jsonschema.RefResolver is deprecated as of v4.18.0, in favor of the https://github.com/python-jsonschema/referencing library, which provides more compliant referencing behavior as well as more flexible APIs for customization. A future release will remove RefResolver. Please file a feature request (on referencing) if you are missing an API for the kind of customization you need.\n",
            "  resolver = jsonschema.RefResolver.from_schema(root or schema)\n",
            "/usr/local/lib/python3.10/dist-packages/altair/utils/schemapi.py:97: DeprecationWarning: jsonschema.RefResolver is deprecated as of v4.18.0, in favor of the https://github.com/python-jsonschema/referencing library, which provides more compliant referencing behavior as well as more flexible APIs for customization. A future release will remove RefResolver. Please file a feature request (on referencing) if you are missing an API for the kind of customization you need.\n",
            "  resolver = jsonschema.RefResolver.from_schema(root or schema)\n",
            "/usr/local/lib/python3.10/dist-packages/altair/utils/schemapi.py:574: DeprecationWarning: jsonschema.RefResolver is deprecated as of v4.18.0, in favor of the https://github.com/python-jsonschema/referencing library, which provides more compliant referencing behavior as well as more flexible APIs for customization. A future release will remove RefResolver. Please file a feature request (on referencing) if you are missing an API for the kind of customization you need.\n",
            "  resolver = jsonschema.RefResolver.from_schema(rootschema)\n",
            "/usr/local/lib/python3.10/dist-packages/altair/utils/schemapi.py:97: DeprecationWarning: jsonschema.RefResolver is deprecated as of v4.18.0, in favor of the https://github.com/python-jsonschema/referencing library, which provides more compliant referencing behavior as well as more flexible APIs for customization. A future release will remove RefResolver. Please file a feature request (on referencing) if you are missing an API for the kind of customization you need.\n",
            "  resolver = jsonschema.RefResolver.from_schema(root or schema)\n",
            "/usr/local/lib/python3.10/dist-packages/altair/utils/schemapi.py:97: DeprecationWarning: jsonschema.RefResolver is deprecated as of v4.18.0, in favor of the https://github.com/python-jsonschema/referencing library, which provides more compliant referencing behavior as well as more flexible APIs for customization. A future release will remove RefResolver. Please file a feature request (on referencing) if you are missing an API for the kind of customization you need.\n",
            "  resolver = jsonschema.RefResolver.from_schema(root or schema)\n",
            "/usr/local/lib/python3.10/dist-packages/altair/utils/schemapi.py:97: DeprecationWarning: jsonschema.RefResolver is deprecated as of v4.18.0, in favor of the https://github.com/python-jsonschema/referencing library, which provides more compliant referencing behavior as well as more flexible APIs for customization. A future release will remove RefResolver. Please file a feature request (on referencing) if you are missing an API for the kind of customization you need.\n",
            "  resolver = jsonschema.RefResolver.from_schema(root or schema)\n",
            "/usr/local/lib/python3.10/dist-packages/altair/utils/schemapi.py:97: DeprecationWarning: jsonschema.RefResolver is deprecated as of v4.18.0, in favor of the https://github.com/python-jsonschema/referencing library, which provides more compliant referencing behavior as well as more flexible APIs for customization. A future release will remove RefResolver. Please file a feature request (on referencing) if you are missing an API for the kind of customization you need.\n",
            "  resolver = jsonschema.RefResolver.from_schema(root or schema)\n",
            "/usr/local/lib/python3.10/dist-packages/altair/utils/schemapi.py:574: DeprecationWarning: jsonschema.RefResolver is deprecated as of v4.18.0, in favor of the https://github.com/python-jsonschema/referencing library, which provides more compliant referencing behavior as well as more flexible APIs for customization. A future release will remove RefResolver. Please file a feature request (on referencing) if you are missing an API for the kind of customization you need.\n",
            "  resolver = jsonschema.RefResolver.from_schema(rootschema)\n",
            "/usr/local/lib/python3.10/dist-packages/altair/utils/schemapi.py:574: DeprecationWarning: jsonschema.RefResolver is deprecated as of v4.18.0, in favor of the https://github.com/python-jsonschema/referencing library, which provides more compliant referencing behavior as well as more flexible APIs for customization. A future release will remove RefResolver. Please file a feature request (on referencing) if you are missing an API for the kind of customization you need.\n",
            "  resolver = jsonschema.RefResolver.from_schema(rootschema)\n",
            "/usr/local/lib/python3.10/dist-packages/altair/utils/schemapi.py:97: DeprecationWarning: jsonschema.RefResolver is deprecated as of v4.18.0, in favor of the https://github.com/python-jsonschema/referencing library, which provides more compliant referencing behavior as well as more flexible APIs for customization. A future release will remove RefResolver. Please file a feature request (on referencing) if you are missing an API for the kind of customization you need.\n",
            "  resolver = jsonschema.RefResolver.from_schema(root or schema)\n",
            "/usr/local/lib/python3.10/dist-packages/altair/utils/schemapi.py:97: DeprecationWarning: jsonschema.RefResolver is deprecated as of v4.18.0, in favor of the https://github.com/python-jsonschema/referencing library, which provides more compliant referencing behavior as well as more flexible APIs for customization. A future release will remove RefResolver. Please file a feature request (on referencing) if you are missing an API for the kind of customization you need.\n",
            "  resolver = jsonschema.RefResolver.from_schema(root or schema)\n",
            "/usr/local/lib/python3.10/dist-packages/altair/utils/schemapi.py:97: DeprecationWarning: jsonschema.RefResolver is deprecated as of v4.18.0, in favor of the https://github.com/python-jsonschema/referencing library, which provides more compliant referencing behavior as well as more flexible APIs for customization. A future release will remove RefResolver. Please file a feature request (on referencing) if you are missing an API for the kind of customization you need.\n",
            "  resolver = jsonschema.RefResolver.from_schema(root or schema)\n",
            "/usr/local/lib/python3.10/dist-packages/altair/utils/schemapi.py:574: DeprecationWarning: jsonschema.RefResolver is deprecated as of v4.18.0, in favor of the https://github.com/python-jsonschema/referencing library, which provides more compliant referencing behavior as well as more flexible APIs for customization. A future release will remove RefResolver. Please file a feature request (on referencing) if you are missing an API for the kind of customization you need.\n",
            "  resolver = jsonschema.RefResolver.from_schema(rootschema)\n",
            "/usr/local/lib/python3.10/dist-packages/altair/utils/schemapi.py:97: DeprecationWarning: jsonschema.RefResolver is deprecated as of v4.18.0, in favor of the https://github.com/python-jsonschema/referencing library, which provides more compliant referencing behavior as well as more flexible APIs for customization. A future release will remove RefResolver. Please file a feature request (on referencing) if you are missing an API for the kind of customization you need.\n",
            "  resolver = jsonschema.RefResolver.from_schema(root or schema)\n",
            "/usr/local/lib/python3.10/dist-packages/altair/utils/schemapi.py:462: DeprecationWarning: jsonschema.RefResolver is deprecated as of v4.18.0, in favor of the https://github.com/python-jsonschema/referencing library, which provides more compliant referencing behavior as well as more flexible APIs for customization. A future release will remove RefResolver. Please file a feature request (on referencing) if you are missing an API for the kind of customization you need.\n",
            "  resolver = jsonschema.RefResolver.from_schema(cls._rootschema or cls._schema)\n",
            "/usr/local/lib/python3.10/dist-packages/altair/utils/schemapi.py:97: DeprecationWarning: jsonschema.RefResolver is deprecated as of v4.18.0, in favor of the https://github.com/python-jsonschema/referencing library, which provides more compliant referencing behavior as well as more flexible APIs for customization. A future release will remove RefResolver. Please file a feature request (on referencing) if you are missing an API for the kind of customization you need.\n",
            "  resolver = jsonschema.RefResolver.from_schema(root or schema)\n",
            "/usr/local/lib/python3.10/dist-packages/altair/utils/schemapi.py:97: DeprecationWarning: jsonschema.RefResolver is deprecated as of v4.18.0, in favor of the https://github.com/python-jsonschema/referencing library, which provides more compliant referencing behavior as well as more flexible APIs for customization. A future release will remove RefResolver. Please file a feature request (on referencing) if you are missing an API for the kind of customization you need.\n",
            "  resolver = jsonschema.RefResolver.from_schema(root or schema)\n",
            "/usr/local/lib/python3.10/dist-packages/altair/utils/schemapi.py:97: DeprecationWarning: jsonschema.RefResolver is deprecated as of v4.18.0, in favor of the https://github.com/python-jsonschema/referencing library, which provides more compliant referencing behavior as well as more flexible APIs for customization. A future release will remove RefResolver. Please file a feature request (on referencing) if you are missing an API for the kind of customization you need.\n",
            "  resolver = jsonschema.RefResolver.from_schema(root or schema)\n",
            "/usr/local/lib/python3.10/dist-packages/altair/utils/schemapi.py:97: DeprecationWarning: jsonschema.RefResolver is deprecated as of v4.18.0, in favor of the https://github.com/python-jsonschema/referencing library, which provides more compliant referencing behavior as well as more flexible APIs for customization. A future release will remove RefResolver. Please file a feature request (on referencing) if you are missing an API for the kind of customization you need.\n",
            "  resolver = jsonschema.RefResolver.from_schema(root or schema)\n",
            "/usr/local/lib/python3.10/dist-packages/altair/utils/schemapi.py:574: DeprecationWarning: jsonschema.RefResolver is deprecated as of v4.18.0, in favor of the https://github.com/python-jsonschema/referencing library, which provides more compliant referencing behavior as well as more flexible APIs for customization. A future release will remove RefResolver. Please file a feature request (on referencing) if you are missing an API for the kind of customization you need.\n",
            "  resolver = jsonschema.RefResolver.from_schema(rootschema)\n",
            "/usr/local/lib/python3.10/dist-packages/altair/utils/schemapi.py:574: DeprecationWarning: jsonschema.RefResolver is deprecated as of v4.18.0, in favor of the https://github.com/python-jsonschema/referencing library, which provides more compliant referencing behavior as well as more flexible APIs for customization. A future release will remove RefResolver. Please file a feature request (on referencing) if you are missing an API for the kind of customization you need.\n",
            "  resolver = jsonschema.RefResolver.from_schema(rootschema)\n",
            "/usr/local/lib/python3.10/dist-packages/altair/utils/schemapi.py:97: DeprecationWarning: jsonschema.RefResolver is deprecated as of v4.18.0, in favor of the https://github.com/python-jsonschema/referencing library, which provides more compliant referencing behavior as well as more flexible APIs for customization. A future release will remove RefResolver. Please file a feature request (on referencing) if you are missing an API for the kind of customization you need.\n",
            "  resolver = jsonschema.RefResolver.from_schema(root or schema)\n",
            "/usr/local/lib/python3.10/dist-packages/altair/utils/schemapi.py:462: DeprecationWarning: jsonschema.RefResolver is deprecated as of v4.18.0, in favor of the https://github.com/python-jsonschema/referencing library, which provides more compliant referencing behavior as well as more flexible APIs for customization. A future release will remove RefResolver. Please file a feature request (on referencing) if you are missing an API for the kind of customization you need.\n",
            "  resolver = jsonschema.RefResolver.from_schema(cls._rootschema or cls._schema)\n",
            "/usr/local/lib/python3.10/dist-packages/altair/utils/schemapi.py:97: DeprecationWarning: jsonschema.RefResolver is deprecated as of v4.18.0, in favor of the https://github.com/python-jsonschema/referencing library, which provides more compliant referencing behavior as well as more flexible APIs for customization. A future release will remove RefResolver. Please file a feature request (on referencing) if you are missing an API for the kind of customization you need.\n",
            "  resolver = jsonschema.RefResolver.from_schema(root or schema)\n",
            "/usr/local/lib/python3.10/dist-packages/altair/utils/schemapi.py:97: DeprecationWarning: jsonschema.RefResolver is deprecated as of v4.18.0, in favor of the https://github.com/python-jsonschema/referencing library, which provides more compliant referencing behavior as well as more flexible APIs for customization. A future release will remove RefResolver. Please file a feature request (on referencing) if you are missing an API for the kind of customization you need.\n",
            "  resolver = jsonschema.RefResolver.from_schema(root or schema)\n",
            "/usr/local/lib/python3.10/dist-packages/altair/utils/schemapi.py:574: DeprecationWarning: jsonschema.RefResolver is deprecated as of v4.18.0, in favor of the https://github.com/python-jsonschema/referencing library, which provides more compliant referencing behavior as well as more flexible APIs for customization. A future release will remove RefResolver. Please file a feature request (on referencing) if you are missing an API for the kind of customization you need.\n",
            "  resolver = jsonschema.RefResolver.from_schema(rootschema)\n",
            "/usr/local/lib/python3.10/dist-packages/altair/utils/schemapi.py:97: DeprecationWarning: jsonschema.RefResolver is deprecated as of v4.18.0, in favor of the https://github.com/python-jsonschema/referencing library, which provides more compliant referencing behavior as well as more flexible APIs for customization. A future release will remove RefResolver. Please file a feature request (on referencing) if you are missing an API for the kind of customization you need.\n",
            "  resolver = jsonschema.RefResolver.from_schema(root or schema)\n",
            "/usr/local/lib/python3.10/dist-packages/altair/utils/schemapi.py:97: DeprecationWarning: jsonschema.RefResolver is deprecated as of v4.18.0, in favor of the https://github.com/python-jsonschema/referencing library, which provides more compliant referencing behavior as well as more flexible APIs for customization. A future release will remove RefResolver. Please file a feature request (on referencing) if you are missing an API for the kind of customization you need.\n",
            "  resolver = jsonschema.RefResolver.from_schema(root or schema)\n",
            "/usr/local/lib/python3.10/dist-packages/altair/utils/schemapi.py:97: DeprecationWarning: jsonschema.RefResolver is deprecated as of v4.18.0, in favor of the https://github.com/python-jsonschema/referencing library, which provides more compliant referencing behavior as well as more flexible APIs for customization. A future release will remove RefResolver. Please file a feature request (on referencing) if you are missing an API for the kind of customization you need.\n",
            "  resolver = jsonschema.RefResolver.from_schema(root or schema)\n",
            "/usr/local/lib/python3.10/dist-packages/altair/utils/schemapi.py:462: DeprecationWarning: jsonschema.RefResolver is deprecated as of v4.18.0, in favor of the https://github.com/python-jsonschema/referencing library, which provides more compliant referencing behavior as well as more flexible APIs for customization. A future release will remove RefResolver. Please file a feature request (on referencing) if you are missing an API for the kind of customization you need.\n",
            "  resolver = jsonschema.RefResolver.from_schema(cls._rootschema or cls._schema)\n",
            "/usr/local/lib/python3.10/dist-packages/altair/utils/schemapi.py:462: DeprecationWarning: jsonschema.RefResolver is deprecated as of v4.18.0, in favor of the https://github.com/python-jsonschema/referencing library, which provides more compliant referencing behavior as well as more flexible APIs for customization. A future release will remove RefResolver. Please file a feature request (on referencing) if you are missing an API for the kind of customization you need.\n",
            "  resolver = jsonschema.RefResolver.from_schema(cls._rootschema or cls._schema)\n",
            "/usr/local/lib/python3.10/dist-packages/altair/utils/schemapi.py:462: DeprecationWarning: jsonschema.RefResolver is deprecated as of v4.18.0, in favor of the https://github.com/python-jsonschema/referencing library, which provides more compliant referencing behavior as well as more flexible APIs for customization. A future release will remove RefResolver. Please file a feature request (on referencing) if you are missing an API for the kind of customization you need.\n",
            "  resolver = jsonschema.RefResolver.from_schema(cls._rootschema or cls._schema)\n",
            "/usr/local/lib/python3.10/dist-packages/altair/utils/schemapi.py:462: DeprecationWarning: jsonschema.RefResolver is deprecated as of v4.18.0, in favor of the https://github.com/python-jsonschema/referencing library, which provides more compliant referencing behavior as well as more flexible APIs for customization. A future release will remove RefResolver. Please file a feature request (on referencing) if you are missing an API for the kind of customization you need.\n",
            "  resolver = jsonschema.RefResolver.from_schema(cls._rootschema or cls._schema)\n",
            "/usr/local/lib/python3.10/dist-packages/altair/utils/schemapi.py:462: DeprecationWarning: jsonschema.RefResolver is deprecated as of v4.18.0, in favor of the https://github.com/python-jsonschema/referencing library, which provides more compliant referencing behavior as well as more flexible APIs for customization. A future release will remove RefResolver. Please file a feature request (on referencing) if you are missing an API for the kind of customization you need.\n",
            "  resolver = jsonschema.RefResolver.from_schema(cls._rootschema or cls._schema)\n",
            "/usr/local/lib/python3.10/dist-packages/altair/utils/schemapi.py:462: DeprecationWarning: jsonschema.RefResolver is deprecated as of v4.18.0, in favor of the https://github.com/python-jsonschema/referencing library, which provides more compliant referencing behavior as well as more flexible APIs for customization. A future release will remove RefResolver. Please file a feature request (on referencing) if you are missing an API for the kind of customization you need.\n",
            "  resolver = jsonschema.RefResolver.from_schema(cls._rootschema or cls._schema)\n",
            "/usr/local/lib/python3.10/dist-packages/altair/utils/schemapi.py:462: DeprecationWarning: jsonschema.RefResolver is deprecated as of v4.18.0, in favor of the https://github.com/python-jsonschema/referencing library, which provides more compliant referencing behavior as well as more flexible APIs for customization. A future release will remove RefResolver. Please file a feature request (on referencing) if you are missing an API for the kind of customization you need.\n",
            "  resolver = jsonschema.RefResolver.from_schema(cls._rootschema or cls._schema)\n",
            "/usr/local/lib/python3.10/dist-packages/altair/utils/schemapi.py:462: DeprecationWarning: jsonschema.RefResolver is deprecated as of v4.18.0, in favor of the https://github.com/python-jsonschema/referencing library, which provides more compliant referencing behavior as well as more flexible APIs for customization. A future release will remove RefResolver. Please file a feature request (on referencing) if you are missing an API for the kind of customization you need.\n",
            "  resolver = jsonschema.RefResolver.from_schema(cls._rootschema or cls._schema)\n",
            "/usr/local/lib/python3.10/dist-packages/altair/utils/schemapi.py:462: DeprecationWarning: jsonschema.RefResolver is deprecated as of v4.18.0, in favor of the https://github.com/python-jsonschema/referencing library, which provides more compliant referencing behavior as well as more flexible APIs for customization. A future release will remove RefResolver. Please file a feature request (on referencing) if you are missing an API for the kind of customization you need.\n",
            "  resolver = jsonschema.RefResolver.from_schema(cls._rootschema or cls._schema)\n",
            "/usr/local/lib/python3.10/dist-packages/altair/utils/schemapi.py:462: DeprecationWarning: jsonschema.RefResolver is deprecated as of v4.18.0, in favor of the https://github.com/python-jsonschema/referencing library, which provides more compliant referencing behavior as well as more flexible APIs for customization. A future release will remove RefResolver. Please file a feature request (on referencing) if you are missing an API for the kind of customization you need.\n",
            "  resolver = jsonschema.RefResolver.from_schema(cls._rootschema or cls._schema)\n",
            "/usr/local/lib/python3.10/dist-packages/altair/utils/schemapi.py:462: DeprecationWarning: jsonschema.RefResolver is deprecated as of v4.18.0, in favor of the https://github.com/python-jsonschema/referencing library, which provides more compliant referencing behavior as well as more flexible APIs for customization. A future release will remove RefResolver. Please file a feature request (on referencing) if you are missing an API for the kind of customization you need.\n",
            "  resolver = jsonschema.RefResolver.from_schema(cls._rootschema or cls._schema)\n",
            "/usr/local/lib/python3.10/dist-packages/altair/utils/schemapi.py:462: DeprecationWarning: jsonschema.RefResolver is deprecated as of v4.18.0, in favor of the https://github.com/python-jsonschema/referencing library, which provides more compliant referencing behavior as well as more flexible APIs for customization. A future release will remove RefResolver. Please file a feature request (on referencing) if you are missing an API for the kind of customization you need.\n",
            "  resolver = jsonschema.RefResolver.from_schema(cls._rootschema or cls._schema)\n",
            "/usr/local/lib/python3.10/dist-packages/altair/utils/schemapi.py:462: DeprecationWarning: jsonschema.RefResolver is deprecated as of v4.18.0, in favor of the https://github.com/python-jsonschema/referencing library, which provides more compliant referencing behavior as well as more flexible APIs for customization. A future release will remove RefResolver. Please file a feature request (on referencing) if you are missing an API for the kind of customization you need.\n",
            "  resolver = jsonschema.RefResolver.from_schema(cls._rootschema or cls._schema)\n",
            "/usr/local/lib/python3.10/dist-packages/altair/utils/schemapi.py:462: DeprecationWarning: jsonschema.RefResolver is deprecated as of v4.18.0, in favor of the https://github.com/python-jsonschema/referencing library, which provides more compliant referencing behavior as well as more flexible APIs for customization. A future release will remove RefResolver. Please file a feature request (on referencing) if you are missing an API for the kind of customization you need.\n",
            "  resolver = jsonschema.RefResolver.from_schema(cls._rootschema or cls._schema)\n",
            "/usr/local/lib/python3.10/dist-packages/altair/utils/schemapi.py:462: DeprecationWarning: jsonschema.RefResolver is deprecated as of v4.18.0, in favor of the https://github.com/python-jsonschema/referencing library, which provides more compliant referencing behavior as well as more flexible APIs for customization. A future release will remove RefResolver. Please file a feature request (on referencing) if you are missing an API for the kind of customization you need.\n",
            "  resolver = jsonschema.RefResolver.from_schema(cls._rootschema or cls._schema)\n"
          ]
        },
        {
          "output_type": "display_data",
          "data": {
            "text/plain": [
              "VBox(children=(VBox(children=(HBox(children=(HTML(value='<b>Select a topic</b>:'), Dropdown(options=((0, 0), (…"
            ],
            "application/vnd.jupyter.widget-view+json": {
              "version_major": 2,
              "version_minor": 0,
              "model_id": "dfcc72d5adf2458abefbc8fe451b8e4d"
            }
          },
          "metadata": {}
        }
      ],
      "source": [
        "\n",
        "# Run the interactive report interface\n",
        "tmp.report(model=model, docs=data['text'])"
      ]
    },
    {
      "cell_type": "code",
      "execution_count": null,
      "id": "22417e67",
      "metadata": {
        "id": "22417e67",
        "colab": {
          "base_uri": "https://localhost:8080/",
          "height": 480
        },
        "outputId": "0d0f078f-c48c-4df1-cd22-8b38632b3785"
      },
      "outputs": [
        {
          "output_type": "stream",
          "name": "stderr",
          "text": [
            "/usr/local/lib/python3.10/dist-packages/ipykernel/ipkernel.py:283: DeprecationWarning: `should_run_async` will not call `transform_cell` automatically in the future. Please pass the result to `transformed_cell` argument and any exception that happen during thetransform in `preprocessing_exc_tuple` in IPython 7.17 and above.\n",
            "  and should_run_async(code)\n"
          ]
        },
        {
          "output_type": "execute_result",
          "data": {
            "text/plain": [
              "                                               documents  label\n",
              "0      السلام عليكملدي طلب رقم 746855 تتغير حالته 14 ...      6\n",
              "1                      عدم الاستطاعة باضافة العقد الموثق      4\n",
              "2          عدم استطاعتي بتعديل الطلب واضافة العقد الموثق      7\n",
              "3      حساب فقد نتزكر كلمة السر الرقم القومى الخاص با...      1\n",
              "4      السلام عليكم الاول عملت طلب اتاخر كتير عملت طل...      5\n",
              "...                                                  ...    ...\n",
              "47736  السلام عليكمنظرا للظروف تحدث والانقطاع المستمر...      2\n",
              "47737  إلغاء الطلب رقم 3579676لدواعي السفر وعدم الجاه...      0\n",
              "47738  تركيب العداد تفاجأت بأنه إنتاج 2021 جارى ركب ع...      2\n",
              "47739                                         سعر الرسوم      3\n",
              "47740  استطيع ارسال القراءة وصورة العداد علي موقعكم ر...      7\n",
              "\n",
              "[47741 rows x 2 columns]"
            ],
            "text/html": [
              "\n",
              "  <div id=\"df-eb5837dd-fe35-4686-9011-a8878517a05a\" class=\"colab-df-container\">\n",
              "    <div>\n",
              "<style scoped>\n",
              "    .dataframe tbody tr th:only-of-type {\n",
              "        vertical-align: middle;\n",
              "    }\n",
              "\n",
              "    .dataframe tbody tr th {\n",
              "        vertical-align: top;\n",
              "    }\n",
              "\n",
              "    .dataframe thead th {\n",
              "        text-align: right;\n",
              "    }\n",
              "</style>\n",
              "<table border=\"1\" class=\"dataframe\">\n",
              "  <thead>\n",
              "    <tr style=\"text-align: right;\">\n",
              "      <th></th>\n",
              "      <th>documents</th>\n",
              "      <th>label</th>\n",
              "    </tr>\n",
              "  </thead>\n",
              "  <tbody>\n",
              "    <tr>\n",
              "      <th>0</th>\n",
              "      <td>السلام عليكملدي طلب رقم 746855 تتغير حالته 14 ...</td>\n",
              "      <td>6</td>\n",
              "    </tr>\n",
              "    <tr>\n",
              "      <th>1</th>\n",
              "      <td>عدم الاستطاعة باضافة العقد الموثق</td>\n",
              "      <td>4</td>\n",
              "    </tr>\n",
              "    <tr>\n",
              "      <th>2</th>\n",
              "      <td>عدم استطاعتي بتعديل الطلب واضافة العقد الموثق</td>\n",
              "      <td>7</td>\n",
              "    </tr>\n",
              "    <tr>\n",
              "      <th>3</th>\n",
              "      <td>حساب فقد نتزكر كلمة السر الرقم القومى الخاص با...</td>\n",
              "      <td>1</td>\n",
              "    </tr>\n",
              "    <tr>\n",
              "      <th>4</th>\n",
              "      <td>السلام عليكم الاول عملت طلب اتاخر كتير عملت طل...</td>\n",
              "      <td>5</td>\n",
              "    </tr>\n",
              "    <tr>\n",
              "      <th>...</th>\n",
              "      <td>...</td>\n",
              "      <td>...</td>\n",
              "    </tr>\n",
              "    <tr>\n",
              "      <th>47736</th>\n",
              "      <td>السلام عليكمنظرا للظروف تحدث والانقطاع المستمر...</td>\n",
              "      <td>2</td>\n",
              "    </tr>\n",
              "    <tr>\n",
              "      <th>47737</th>\n",
              "      <td>إلغاء الطلب رقم 3579676لدواعي السفر وعدم الجاه...</td>\n",
              "      <td>0</td>\n",
              "    </tr>\n",
              "    <tr>\n",
              "      <th>47738</th>\n",
              "      <td>تركيب العداد تفاجأت بأنه إنتاج 2021 جارى ركب ع...</td>\n",
              "      <td>2</td>\n",
              "    </tr>\n",
              "    <tr>\n",
              "      <th>47739</th>\n",
              "      <td>سعر الرسوم</td>\n",
              "      <td>3</td>\n",
              "    </tr>\n",
              "    <tr>\n",
              "      <th>47740</th>\n",
              "      <td>استطيع ارسال القراءة وصورة العداد علي موقعكم ر...</td>\n",
              "      <td>7</td>\n",
              "    </tr>\n",
              "  </tbody>\n",
              "</table>\n",
              "<p>47741 rows × 2 columns</p>\n",
              "</div>\n",
              "    <div class=\"colab-df-buttons\">\n",
              "\n",
              "  <div class=\"colab-df-container\">\n",
              "    <button class=\"colab-df-convert\" onclick=\"convertToInteractive('df-eb5837dd-fe35-4686-9011-a8878517a05a')\"\n",
              "            title=\"Convert this dataframe to an interactive table.\"\n",
              "            style=\"display:none;\">\n",
              "\n",
              "  <svg xmlns=\"http://www.w3.org/2000/svg\" height=\"24px\" viewBox=\"0 -960 960 960\">\n",
              "    <path d=\"M120-120v-720h720v720H120Zm60-500h600v-160H180v160Zm220 220h160v-160H400v160Zm0 220h160v-160H400v160ZM180-400h160v-160H180v160Zm440 0h160v-160H620v160ZM180-180h160v-160H180v160Zm440 0h160v-160H620v160Z\"/>\n",
              "  </svg>\n",
              "    </button>\n",
              "\n",
              "  <style>\n",
              "    .colab-df-container {\n",
              "      display:flex;\n",
              "      gap: 12px;\n",
              "    }\n",
              "\n",
              "    .colab-df-convert {\n",
              "      background-color: #E8F0FE;\n",
              "      border: none;\n",
              "      border-radius: 50%;\n",
              "      cursor: pointer;\n",
              "      display: none;\n",
              "      fill: #1967D2;\n",
              "      height: 32px;\n",
              "      padding: 0 0 0 0;\n",
              "      width: 32px;\n",
              "    }\n",
              "\n",
              "    .colab-df-convert:hover {\n",
              "      background-color: #E2EBFA;\n",
              "      box-shadow: 0px 1px 2px rgba(60, 64, 67, 0.3), 0px 1px 3px 1px rgba(60, 64, 67, 0.15);\n",
              "      fill: #174EA6;\n",
              "    }\n",
              "\n",
              "    .colab-df-buttons div {\n",
              "      margin-bottom: 4px;\n",
              "    }\n",
              "\n",
              "    [theme=dark] .colab-df-convert {\n",
              "      background-color: #3B4455;\n",
              "      fill: #D2E3FC;\n",
              "    }\n",
              "\n",
              "    [theme=dark] .colab-df-convert:hover {\n",
              "      background-color: #434B5C;\n",
              "      box-shadow: 0px 1px 3px 1px rgba(0, 0, 0, 0.15);\n",
              "      filter: drop-shadow(0px 1px 2px rgba(0, 0, 0, 0.3));\n",
              "      fill: #FFFFFF;\n",
              "    }\n",
              "  </style>\n",
              "\n",
              "    <script>\n",
              "      const buttonEl =\n",
              "        document.querySelector('#df-eb5837dd-fe35-4686-9011-a8878517a05a button.colab-df-convert');\n",
              "      buttonEl.style.display =\n",
              "        google.colab.kernel.accessAllowed ? 'block' : 'none';\n",
              "\n",
              "      async function convertToInteractive(key) {\n",
              "        const element = document.querySelector('#df-eb5837dd-fe35-4686-9011-a8878517a05a');\n",
              "        const dataTable =\n",
              "          await google.colab.kernel.invokeFunction('convertToInteractive',\n",
              "                                                    [key], {});\n",
              "        if (!dataTable) return;\n",
              "\n",
              "        const docLinkHtml = 'Like what you see? Visit the ' +\n",
              "          '<a target=\"_blank\" href=https://colab.research.google.com/notebooks/data_table.ipynb>data table notebook</a>'\n",
              "          + ' to learn more about interactive tables.';\n",
              "        element.innerHTML = '';\n",
              "        dataTable['output_type'] = 'display_data';\n",
              "        await google.colab.output.renderOutput(dataTable, element);\n",
              "        const docLink = document.createElement('div');\n",
              "        docLink.innerHTML = docLinkHtml;\n",
              "        element.appendChild(docLink);\n",
              "      }\n",
              "    </script>\n",
              "  </div>\n",
              "\n",
              "\n",
              "<div id=\"df-d88f8471-37c4-4063-a5a2-b70a4205f1be\">\n",
              "  <button class=\"colab-df-quickchart\" onclick=\"quickchart('df-d88f8471-37c4-4063-a5a2-b70a4205f1be')\"\n",
              "            title=\"Suggest charts\"\n",
              "            style=\"display:none;\">\n",
              "\n",
              "<svg xmlns=\"http://www.w3.org/2000/svg\" height=\"24px\"viewBox=\"0 0 24 24\"\n",
              "     width=\"24px\">\n",
              "    <g>\n",
              "        <path d=\"M19 3H5c-1.1 0-2 .9-2 2v14c0 1.1.9 2 2 2h14c1.1 0 2-.9 2-2V5c0-1.1-.9-2-2-2zM9 17H7v-7h2v7zm4 0h-2V7h2v10zm4 0h-2v-4h2v4z\"/>\n",
              "    </g>\n",
              "</svg>\n",
              "  </button>\n",
              "\n",
              "<style>\n",
              "  .colab-df-quickchart {\n",
              "      --bg-color: #E8F0FE;\n",
              "      --fill-color: #1967D2;\n",
              "      --hover-bg-color: #E2EBFA;\n",
              "      --hover-fill-color: #174EA6;\n",
              "      --disabled-fill-color: #AAA;\n",
              "      --disabled-bg-color: #DDD;\n",
              "  }\n",
              "\n",
              "  [theme=dark] .colab-df-quickchart {\n",
              "      --bg-color: #3B4455;\n",
              "      --fill-color: #D2E3FC;\n",
              "      --hover-bg-color: #434B5C;\n",
              "      --hover-fill-color: #FFFFFF;\n",
              "      --disabled-bg-color: #3B4455;\n",
              "      --disabled-fill-color: #666;\n",
              "  }\n",
              "\n",
              "  .colab-df-quickchart {\n",
              "    background-color: var(--bg-color);\n",
              "    border: none;\n",
              "    border-radius: 50%;\n",
              "    cursor: pointer;\n",
              "    display: none;\n",
              "    fill: var(--fill-color);\n",
              "    height: 32px;\n",
              "    padding: 0;\n",
              "    width: 32px;\n",
              "  }\n",
              "\n",
              "  .colab-df-quickchart:hover {\n",
              "    background-color: var(--hover-bg-color);\n",
              "    box-shadow: 0 1px 2px rgba(60, 64, 67, 0.3), 0 1px 3px 1px rgba(60, 64, 67, 0.15);\n",
              "    fill: var(--button-hover-fill-color);\n",
              "  }\n",
              "\n",
              "  .colab-df-quickchart-complete:disabled,\n",
              "  .colab-df-quickchart-complete:disabled:hover {\n",
              "    background-color: var(--disabled-bg-color);\n",
              "    fill: var(--disabled-fill-color);\n",
              "    box-shadow: none;\n",
              "  }\n",
              "\n",
              "  .colab-df-spinner {\n",
              "    border: 2px solid var(--fill-color);\n",
              "    border-color: transparent;\n",
              "    border-bottom-color: var(--fill-color);\n",
              "    animation:\n",
              "      spin 1s steps(1) infinite;\n",
              "  }\n",
              "\n",
              "  @keyframes spin {\n",
              "    0% {\n",
              "      border-color: transparent;\n",
              "      border-bottom-color: var(--fill-color);\n",
              "      border-left-color: var(--fill-color);\n",
              "    }\n",
              "    20% {\n",
              "      border-color: transparent;\n",
              "      border-left-color: var(--fill-color);\n",
              "      border-top-color: var(--fill-color);\n",
              "    }\n",
              "    30% {\n",
              "      border-color: transparent;\n",
              "      border-left-color: var(--fill-color);\n",
              "      border-top-color: var(--fill-color);\n",
              "      border-right-color: var(--fill-color);\n",
              "    }\n",
              "    40% {\n",
              "      border-color: transparent;\n",
              "      border-right-color: var(--fill-color);\n",
              "      border-top-color: var(--fill-color);\n",
              "    }\n",
              "    60% {\n",
              "      border-color: transparent;\n",
              "      border-right-color: var(--fill-color);\n",
              "    }\n",
              "    80% {\n",
              "      border-color: transparent;\n",
              "      border-right-color: var(--fill-color);\n",
              "      border-bottom-color: var(--fill-color);\n",
              "    }\n",
              "    90% {\n",
              "      border-color: transparent;\n",
              "      border-bottom-color: var(--fill-color);\n",
              "    }\n",
              "  }\n",
              "</style>\n",
              "\n",
              "  <script>\n",
              "    async function quickchart(key) {\n",
              "      const quickchartButtonEl =\n",
              "        document.querySelector('#' + key + ' button');\n",
              "      quickchartButtonEl.disabled = true;  // To prevent multiple clicks.\n",
              "      quickchartButtonEl.classList.add('colab-df-spinner');\n",
              "      try {\n",
              "        const charts = await google.colab.kernel.invokeFunction(\n",
              "            'suggestCharts', [key], {});\n",
              "      } catch (error) {\n",
              "        console.error('Error during call to suggestCharts:', error);\n",
              "      }\n",
              "      quickchartButtonEl.classList.remove('colab-df-spinner');\n",
              "      quickchartButtonEl.classList.add('colab-df-quickchart-complete');\n",
              "    }\n",
              "    (() => {\n",
              "      let quickchartButtonEl =\n",
              "        document.querySelector('#df-d88f8471-37c4-4063-a5a2-b70a4205f1be button');\n",
              "      quickchartButtonEl.style.display =\n",
              "        google.colab.kernel.accessAllowed ? 'block' : 'none';\n",
              "    })();\n",
              "  </script>\n",
              "</div>\n",
              "    </div>\n",
              "  </div>\n"
            ]
          },
          "metadata": {},
          "execution_count": 60
        }
      ],
      "source": [
        "btm.get_docs_top_topic(data['text'], model.matrix_docs_topics_)"
      ]
    },
    {
      "cell_type": "markdown",
      "id": "cf3a1373",
      "metadata": {
        "id": "cf3a1373"
      },
      "source": [
        "# 4- Latent Semantic Indexing (LSI)"
      ]
    },
    {
      "cell_type": "code",
      "execution_count": null,
      "id": "353b5f86",
      "metadata": {
        "id": "353b5f86",
        "colab": {
          "base_uri": "https://localhost:8080/"
        },
        "outputId": "70b42afe-abfa-45d5-8f6a-1543d81a592e"
      },
      "outputs": [
        {
          "output_type": "stream",
          "name": "stdout",
          "text": [
            "['سلام', 'عليكملدي', 'تغير', 'حال', 'دراس', 'فن', 'رجاء', 'الافاده', 'حال', 'طلب', 'توقف', 'شكر']\n"
          ]
        },
        {
          "output_type": "stream",
          "name": "stderr",
          "text": [
            "/usr/local/lib/python3.10/dist-packages/ipykernel/ipkernel.py:283: DeprecationWarning: `should_run_async` will not call `transform_cell` automatically in the future. Please pass the result to `transformed_cell` argument and any exception that happen during thetransform in `preprocessing_exc_tuple` in IPython 7.17 and above.\n",
            "  and should_run_async(code)\n"
          ]
        }
      ],
      "source": [
        "data_words = list(processed_docs)\n",
        "print(data_words[:1][0][:30])"
      ]
    },
    {
      "cell_type": "code",
      "execution_count": null,
      "id": "550b24fa",
      "metadata": {
        "id": "550b24fa",
        "colab": {
          "base_uri": "https://localhost:8080/"
        },
        "outputId": "b2be805d-8da7-41aa-925b-f826c9f61ec1"
      },
      "outputs": [
        {
          "output_type": "stream",
          "name": "stderr",
          "text": [
            "/usr/local/lib/python3.10/dist-packages/ipykernel/ipkernel.py:283: DeprecationWarning: `should_run_async` will not call `transform_cell` automatically in the future. Please pass the result to `transformed_cell` argument and any exception that happen during thetransform in `preprocessing_exc_tuple` in IPython 7.17 and above.\n",
            "  and should_run_async(code)\n",
            "/usr/local/lib/python3.10/dist-packages/gensim/models/lsimodel.py:963: DeprecationWarning: Please use `csc_matvecs` from the `scipy.sparse` namespace, the `scipy.sparse.sparsetools` namespace is deprecated.\n",
            "  sparsetools.csc_matvecs(\n",
            "/usr/local/lib/python3.10/dist-packages/scipy/linalg/_special_matrices.py:154: DeprecationWarning: 'tri'/'tril/'triu' are deprecated as of SciPy 1.11.0 and will be removed in v1.13.0. Please use numpy.(tri/tril/triu) instead.\n",
            "  out = (1 - tri(m.shape[0], m.shape[1], k - 1, m.dtype.char)) * m\n",
            "/usr/local/lib/python3.10/dist-packages/scipy/linalg/_special_matrices.py:154: DeprecationWarning: 'tri'/'tril/'triu' are deprecated as of SciPy 1.11.0 and will be removed in v1.13.0. Please use numpy.(tri/tril/triu) instead.\n",
            "  out = (1 - tri(m.shape[0], m.shape[1], k - 1, m.dtype.char)) * m\n",
            "/usr/local/lib/python3.10/dist-packages/scipy/linalg/_special_matrices.py:154: DeprecationWarning: 'tri'/'tril/'triu' are deprecated as of SciPy 1.11.0 and will be removed in v1.13.0. Please use numpy.(tri/tril/triu) instead.\n",
            "  out = (1 - tri(m.shape[0], m.shape[1], k - 1, m.dtype.char)) * m\n"
          ]
        }
      ],
      "source": [
        "lsi_model = gensim.models.lsimodel.LsiModel(\n",
        "   corpus=corpus_tfidf, id2word=dictionary, num_topics=10,chunksize=3000\n",
        ")"
      ]
    },
    {
      "cell_type": "code",
      "execution_count": null,
      "id": "a4d3b1ef",
      "metadata": {
        "id": "a4d3b1ef",
        "colab": {
          "base_uri": "https://localhost:8080/"
        },
        "outputId": "6545879b-5f12-4d5f-bd7a-5902c4482e13"
      },
      "outputs": [
        {
          "output_type": "stream",
          "name": "stdout",
          "text": [
            "Topic: 0 \n",
            "Words: 0.384*\"منطق\" + 0.207*\"طلب\" + 0.151*\"رقم\" + 0.148*\"قومى\" + 0.134*\"تسجيل\" + 0.126*\"حضر\" + 0.125*\"ارجو\" + 0.125*\"تركيب\" + 0.124*\"تقديم\" + 0.123*\"عداد\"\n",
            "Topic: 1 \n",
            "Words: -0.527*\"منطق\" + 0.211*\"طلب\" + -0.159*\"يتسني\" + -0.159*\"اختار\" + -0.159*\"تغيير\" + -0.159*\"رحم\" + -0.159*\"سالت\" + -0.150*\"الاوراق\" + 0.137*\"قومى\" + 0.137*\"رقم\"\n",
            "Topic: 2 \n",
            "Words: 0.465*\"سر\" + 0.424*\"كلم\" + 0.391*\"نسى\" + 0.158*\"حساب\" + 0.155*\"قومى\" + -0.150*\"طلب\" + 0.140*\"رقم\" + -0.120*\"حال\" + 0.113*\"الخاص\" + -0.110*\"فن\"\n",
            "Topic: 3 \n",
            "Words: -0.349*\"قومى\" + 0.243*\"سر\" + 0.239*\"نسى\" + -0.236*\"رقم\" + 0.207*\"كلم\" + 0.169*\"حال\" + -0.150*\"صور\" + -0.143*\"تعديل\" + 0.139*\"دراس\" + 0.136*\"فن\"\n",
            "Topic: 4 \n",
            "Words: 0.283*\"شق\" + -0.204*\"دراس\" + -0.198*\"فن\" + -0.193*\"حال\" + 0.185*\"تركيب\" + -0.174*\"طلب\" + 0.169*\"ايصال\" + -0.165*\"رقم\" + 0.164*\"ودي\" + -0.164*\"قومى\"\n"
          ]
        },
        {
          "output_type": "stream",
          "name": "stderr",
          "text": [
            "/usr/local/lib/python3.10/dist-packages/ipykernel/ipkernel.py:283: DeprecationWarning: `should_run_async` will not call `transform_cell` automatically in the future. Please pass the result to `transformed_cell` argument and any exception that happen during thetransform in `preprocessing_exc_tuple` in IPython 7.17 and above.\n",
            "  and should_run_async(code)\n"
          ]
        }
      ],
      "source": [
        "#lsi_model.show_topics()\n",
        "\n",
        "\n",
        "for indx, topics in lsi_model.print_topics(num_topics=5, num_words=10):\n",
        "    print('Topic: {} \\nWords: {}'.format(indx, topics))"
      ]
    },
    {
      "cell_type": "markdown",
      "id": "85550cb5",
      "metadata": {
        "id": "85550cb5"
      },
      "source": [
        "**print_topic**:\n",
        "Return the result of show_topic, but formatted as a single string.\n",
        "\n",
        "**- show_topic :**\n",
        "Return a list of (word, probability)\n",
        "2-tuples for the most probable words in topic topicid.\n",
        "\n",
        "Only return 2-tuples for the topn most probable words (ignore the rest).\n",
        "\n",
        "Read_more (https://tedboy.github.io/nlps/_modules/gensim/models/lsimodel.html#LsiModel.show_topics)"
      ]
    },
    {
      "cell_type": "markdown",
      "id": "3123bb29",
      "metadata": {
        "id": "3123bb29"
      },
      "source": [
        "### LSI coherence with CV"
      ]
    },
    {
      "cell_type": "code",
      "execution_count": null,
      "id": "09c47821",
      "metadata": {
        "id": "09c47821",
        "colab": {
          "base_uri": "https://localhost:8080/"
        },
        "outputId": "bdf45a4d-8934-4aef-f6a3-7facc082566e"
      },
      "outputs": [
        {
          "output_type": "stream",
          "name": "stderr",
          "text": [
            "/usr/local/lib/python3.10/dist-packages/ipykernel/ipkernel.py:283: DeprecationWarning: `should_run_async` will not call `transform_cell` automatically in the future. Please pass the result to `transformed_cell` argument and any exception that happen during thetransform in `preprocessing_exc_tuple` in IPython 7.17 and above.\n",
            "  and should_run_async(code)\n"
          ]
        },
        {
          "output_type": "stream",
          "name": "stdout",
          "text": [
            "\n",
            "Coherence Score:  0.4244832062110966\n"
          ]
        }
      ],
      "source": [
        "# Compute Coherence Score\n",
        "coherence_model_lsi = CoherenceModel(model=lsi_model, texts=processed_docs, dictionary=dictionary, coherence='c_v')\n",
        "coherence_lsi_cv = coherence_model_lsi.get_coherence()\n",
        "print('\\nCoherence Score: ', coherence_lsi_cv)"
      ]
    },
    {
      "cell_type": "markdown",
      "id": "4e338357",
      "metadata": {
        "id": "4e338357"
      },
      "source": [
        "### LSI coherence with Umass"
      ]
    },
    {
      "cell_type": "code",
      "execution_count": null,
      "id": "0329a181",
      "metadata": {
        "id": "0329a181",
        "colab": {
          "base_uri": "https://localhost:8080/"
        },
        "outputId": "18db1464-2d99-40d8-a2eb-8eefc50af23b"
      },
      "outputs": [
        {
          "output_type": "stream",
          "name": "stdout",
          "text": [
            "\n",
            "Coherence Score:  -8.614508234002525\n"
          ]
        },
        {
          "output_type": "stream",
          "name": "stderr",
          "text": [
            "/usr/local/lib/python3.10/dist-packages/ipykernel/ipkernel.py:283: DeprecationWarning: `should_run_async` will not call `transform_cell` automatically in the future. Please pass the result to `transformed_cell` argument and any exception that happen during thetransform in `preprocessing_exc_tuple` in IPython 7.17 and above.\n",
            "  and should_run_async(code)\n"
          ]
        }
      ],
      "source": [
        "# Compute Coherence Score\n",
        "coherence_model_lsi = CoherenceModel(model=lsi_model, texts=processed_docs, dictionary=dictionary, coherence='u_mass')\n",
        "coherence_lsi_umass = coherence_model_lsi.get_coherence()\n",
        "print('\\nCoherence Score: ', coherence_lsi_umass)"
      ]
    },
    {
      "cell_type": "markdown",
      "id": "d58fac3d",
      "metadata": {
        "id": "d58fac3d"
      },
      "source": [
        "### LSI coherence with C_nmpi"
      ]
    },
    {
      "cell_type": "code",
      "execution_count": null,
      "id": "b4fd58c5",
      "metadata": {
        "id": "b4fd58c5",
        "colab": {
          "base_uri": "https://localhost:8080/"
        },
        "outputId": "972657ea-d58a-495a-95d9-56fa2747dc87"
      },
      "outputs": [
        {
          "output_type": "stream",
          "name": "stderr",
          "text": [
            "/usr/local/lib/python3.10/dist-packages/ipykernel/ipkernel.py:283: DeprecationWarning: `should_run_async` will not call `transform_cell` automatically in the future. Please pass the result to `transformed_cell` argument and any exception that happen during thetransform in `preprocessing_exc_tuple` in IPython 7.17 and above.\n",
            "  and should_run_async(code)\n"
          ]
        },
        {
          "output_type": "stream",
          "name": "stdout",
          "text": [
            "\n",
            "Coherence Score:  -0.2025631421124245\n"
          ]
        }
      ],
      "source": [
        "# Compute Coherence Score\n",
        "coherence_model_lsi = CoherenceModel(model=lsi_model, texts=processed_docs, dictionary=dictionary, coherence='c_npmi')\n",
        "coherence_lsi_nmpi = coherence_model_lsi.get_coherence()\n",
        "print('\\nCoherence Score: ', coherence_lsi_nmpi)"
      ]
    },
    {
      "cell_type": "markdown",
      "id": "1cfd4473",
      "metadata": {
        "id": "1cfd4473"
      },
      "source": [
        "### LSI coherence with C_uci"
      ]
    },
    {
      "cell_type": "code",
      "execution_count": null,
      "id": "94e8b4c5",
      "metadata": {
        "id": "94e8b4c5",
        "colab": {
          "base_uri": "https://localhost:8080/"
        },
        "outputId": "154441ce-d559-4074-ae53-9573dc818a38"
      },
      "outputs": [
        {
          "output_type": "stream",
          "name": "stderr",
          "text": [
            "/usr/local/lib/python3.10/dist-packages/ipykernel/ipkernel.py:283: DeprecationWarning: `should_run_async` will not call `transform_cell` automatically in the future. Please pass the result to `transformed_cell` argument and any exception that happen during thetransform in `preprocessing_exc_tuple` in IPython 7.17 and above.\n",
            "  and should_run_async(code)\n"
          ]
        },
        {
          "output_type": "stream",
          "name": "stdout",
          "text": [
            "\n",
            "Coherence Score:  -8.208682392925239\n"
          ]
        }
      ],
      "source": [
        "# Compute Coherence Score\n",
        "coherence_model_lsi = CoherenceModel(model=lsi_model, texts=processed_docs, dictionary=dictionary, coherence='c_uci')\n",
        "coherence_lsi_uci = coherence_model_lsi.get_coherence()\n",
        "print('\\nCoherence Score: ', coherence_lsi_uci)"
      ]
    },
    {
      "cell_type": "markdown",
      "id": "9d250215",
      "metadata": {
        "id": "9d250215"
      },
      "source": [
        "### Optimal number of topics LSI:"
      ]
    },
    {
      "cell_type": "code",
      "execution_count": null,
      "id": "8b9dc42f",
      "metadata": {
        "id": "8b9dc42f",
        "colab": {
          "base_uri": "https://localhost:8080/"
        },
        "outputId": "979f2765-8f5c-4334-f237-0dcab5c34aae"
      },
      "outputs": [
        {
          "output_type": "stream",
          "name": "stderr",
          "text": [
            "/usr/local/lib/python3.10/dist-packages/ipykernel/ipkernel.py:283: DeprecationWarning: `should_run_async` will not call `transform_cell` automatically in the future. Please pass the result to `transformed_cell` argument and any exception that happen during thetransform in `preprocessing_exc_tuple` in IPython 7.17 and above.\n",
            "  and should_run_async(code)\n",
            "/usr/local/lib/python3.10/dist-packages/gensim/models/lsimodel.py:963: DeprecationWarning: Please use `csc_matvecs` from the `scipy.sparse` namespace, the `scipy.sparse.sparsetools` namespace is deprecated.\n",
            "  sparsetools.csc_matvecs(\n",
            "/usr/local/lib/python3.10/dist-packages/scipy/linalg/_special_matrices.py:154: DeprecationWarning: 'tri'/'tril/'triu' are deprecated as of SciPy 1.11.0 and will be removed in v1.13.0. Please use numpy.(tri/tril/triu) instead.\n",
            "  out = (1 - tri(m.shape[0], m.shape[1], k - 1, m.dtype.char)) * m\n",
            "/usr/local/lib/python3.10/dist-packages/scipy/linalg/_special_matrices.py:154: DeprecationWarning: 'tri'/'tril/'triu' are deprecated as of SciPy 1.11.0 and will be removed in v1.13.0. Please use numpy.(tri/tril/triu) instead.\n",
            "  out = (1 - tri(m.shape[0], m.shape[1], k - 1, m.dtype.char)) * m\n",
            "/usr/local/lib/python3.10/dist-packages/scipy/linalg/_special_matrices.py:154: DeprecationWarning: 'tri'/'tril/'triu' are deprecated as of SciPy 1.11.0 and will be removed in v1.13.0. Please use numpy.(tri/tril/triu) instead.\n",
            "  out = (1 - tri(m.shape[0], m.shape[1], k - 1, m.dtype.char)) * m\n",
            "/usr/local/lib/python3.10/dist-packages/gensim/models/lsimodel.py:963: DeprecationWarning: Please use `csc_matvecs` from the `scipy.sparse` namespace, the `scipy.sparse.sparsetools` namespace is deprecated.\n",
            "  sparsetools.csc_matvecs(\n",
            "/usr/local/lib/python3.10/dist-packages/scipy/linalg/_special_matrices.py:154: DeprecationWarning: 'tri'/'tril/'triu' are deprecated as of SciPy 1.11.0 and will be removed in v1.13.0. Please use numpy.(tri/tril/triu) instead.\n",
            "  out = (1 - tri(m.shape[0], m.shape[1], k - 1, m.dtype.char)) * m\n",
            "/usr/local/lib/python3.10/dist-packages/scipy/linalg/_special_matrices.py:154: DeprecationWarning: 'tri'/'tril/'triu' are deprecated as of SciPy 1.11.0 and will be removed in v1.13.0. Please use numpy.(tri/tril/triu) instead.\n",
            "  out = (1 - tri(m.shape[0], m.shape[1], k - 1, m.dtype.char)) * m\n",
            "/usr/local/lib/python3.10/dist-packages/scipy/linalg/_special_matrices.py:154: DeprecationWarning: 'tri'/'tril/'triu' are deprecated as of SciPy 1.11.0 and will be removed in v1.13.0. Please use numpy.(tri/tril/triu) instead.\n",
            "  out = (1 - tri(m.shape[0], m.shape[1], k - 1, m.dtype.char)) * m\n",
            "/usr/local/lib/python3.10/dist-packages/gensim/models/lsimodel.py:963: DeprecationWarning: Please use `csc_matvecs` from the `scipy.sparse` namespace, the `scipy.sparse.sparsetools` namespace is deprecated.\n",
            "  sparsetools.csc_matvecs(\n",
            "/usr/local/lib/python3.10/dist-packages/scipy/linalg/_special_matrices.py:154: DeprecationWarning: 'tri'/'tril/'triu' are deprecated as of SciPy 1.11.0 and will be removed in v1.13.0. Please use numpy.(tri/tril/triu) instead.\n",
            "  out = (1 - tri(m.shape[0], m.shape[1], k - 1, m.dtype.char)) * m\n",
            "/usr/local/lib/python3.10/dist-packages/scipy/linalg/_special_matrices.py:154: DeprecationWarning: 'tri'/'tril/'triu' are deprecated as of SciPy 1.11.0 and will be removed in v1.13.0. Please use numpy.(tri/tril/triu) instead.\n",
            "  out = (1 - tri(m.shape[0], m.shape[1], k - 1, m.dtype.char)) * m\n",
            "/usr/local/lib/python3.10/dist-packages/scipy/linalg/_special_matrices.py:154: DeprecationWarning: 'tri'/'tril/'triu' are deprecated as of SciPy 1.11.0 and will be removed in v1.13.0. Please use numpy.(tri/tril/triu) instead.\n",
            "  out = (1 - tri(m.shape[0], m.shape[1], k - 1, m.dtype.char)) * m\n",
            "/usr/local/lib/python3.10/dist-packages/gensim/models/lsimodel.py:963: DeprecationWarning: Please use `csc_matvecs` from the `scipy.sparse` namespace, the `scipy.sparse.sparsetools` namespace is deprecated.\n",
            "  sparsetools.csc_matvecs(\n",
            "/usr/local/lib/python3.10/dist-packages/scipy/linalg/_special_matrices.py:154: DeprecationWarning: 'tri'/'tril/'triu' are deprecated as of SciPy 1.11.0 and will be removed in v1.13.0. Please use numpy.(tri/tril/triu) instead.\n",
            "  out = (1 - tri(m.shape[0], m.shape[1], k - 1, m.dtype.char)) * m\n",
            "/usr/local/lib/python3.10/dist-packages/scipy/linalg/_special_matrices.py:154: DeprecationWarning: 'tri'/'tril/'triu' are deprecated as of SciPy 1.11.0 and will be removed in v1.13.0. Please use numpy.(tri/tril/triu) instead.\n",
            "  out = (1 - tri(m.shape[0], m.shape[1], k - 1, m.dtype.char)) * m\n",
            "/usr/local/lib/python3.10/dist-packages/scipy/linalg/_special_matrices.py:154: DeprecationWarning: 'tri'/'tril/'triu' are deprecated as of SciPy 1.11.0 and will be removed in v1.13.0. Please use numpy.(tri/tril/triu) instead.\n",
            "  out = (1 - tri(m.shape[0], m.shape[1], k - 1, m.dtype.char)) * m\n",
            "/usr/local/lib/python3.10/dist-packages/gensim/models/lsimodel.py:963: DeprecationWarning: Please use `csc_matvecs` from the `scipy.sparse` namespace, the `scipy.sparse.sparsetools` namespace is deprecated.\n",
            "  sparsetools.csc_matvecs(\n",
            "/usr/local/lib/python3.10/dist-packages/scipy/linalg/_special_matrices.py:154: DeprecationWarning: 'tri'/'tril/'triu' are deprecated as of SciPy 1.11.0 and will be removed in v1.13.0. Please use numpy.(tri/tril/triu) instead.\n",
            "  out = (1 - tri(m.shape[0], m.shape[1], k - 1, m.dtype.char)) * m\n",
            "/usr/local/lib/python3.10/dist-packages/scipy/linalg/_special_matrices.py:154: DeprecationWarning: 'tri'/'tril/'triu' are deprecated as of SciPy 1.11.0 and will be removed in v1.13.0. Please use numpy.(tri/tril/triu) instead.\n",
            "  out = (1 - tri(m.shape[0], m.shape[1], k - 1, m.dtype.char)) * m\n",
            "/usr/local/lib/python3.10/dist-packages/scipy/linalg/_special_matrices.py:154: DeprecationWarning: 'tri'/'tril/'triu' are deprecated as of SciPy 1.11.0 and will be removed in v1.13.0. Please use numpy.(tri/tril/triu) instead.\n",
            "  out = (1 - tri(m.shape[0], m.shape[1], k - 1, m.dtype.char)) * m\n",
            "/usr/local/lib/python3.10/dist-packages/gensim/models/lsimodel.py:963: DeprecationWarning: Please use `csc_matvecs` from the `scipy.sparse` namespace, the `scipy.sparse.sparsetools` namespace is deprecated.\n",
            "  sparsetools.csc_matvecs(\n",
            "/usr/local/lib/python3.10/dist-packages/scipy/linalg/_special_matrices.py:154: DeprecationWarning: 'tri'/'tril/'triu' are deprecated as of SciPy 1.11.0 and will be removed in v1.13.0. Please use numpy.(tri/tril/triu) instead.\n",
            "  out = (1 - tri(m.shape[0], m.shape[1], k - 1, m.dtype.char)) * m\n",
            "/usr/local/lib/python3.10/dist-packages/scipy/linalg/_special_matrices.py:154: DeprecationWarning: 'tri'/'tril/'triu' are deprecated as of SciPy 1.11.0 and will be removed in v1.13.0. Please use numpy.(tri/tril/triu) instead.\n",
            "  out = (1 - tri(m.shape[0], m.shape[1], k - 1, m.dtype.char)) * m\n",
            "/usr/local/lib/python3.10/dist-packages/scipy/linalg/_special_matrices.py:154: DeprecationWarning: 'tri'/'tril/'triu' are deprecated as of SciPy 1.11.0 and will be removed in v1.13.0. Please use numpy.(tri/tril/triu) instead.\n",
            "  out = (1 - tri(m.shape[0], m.shape[1], k - 1, m.dtype.char)) * m\n",
            "/usr/local/lib/python3.10/dist-packages/gensim/models/lsimodel.py:963: DeprecationWarning: Please use `csc_matvecs` from the `scipy.sparse` namespace, the `scipy.sparse.sparsetools` namespace is deprecated.\n",
            "  sparsetools.csc_matvecs(\n",
            "/usr/local/lib/python3.10/dist-packages/scipy/linalg/_special_matrices.py:154: DeprecationWarning: 'tri'/'tril/'triu' are deprecated as of SciPy 1.11.0 and will be removed in v1.13.0. Please use numpy.(tri/tril/triu) instead.\n",
            "  out = (1 - tri(m.shape[0], m.shape[1], k - 1, m.dtype.char)) * m\n",
            "/usr/local/lib/python3.10/dist-packages/scipy/linalg/_special_matrices.py:154: DeprecationWarning: 'tri'/'tril/'triu' are deprecated as of SciPy 1.11.0 and will be removed in v1.13.0. Please use numpy.(tri/tril/triu) instead.\n",
            "  out = (1 - tri(m.shape[0], m.shape[1], k - 1, m.dtype.char)) * m\n",
            "/usr/local/lib/python3.10/dist-packages/scipy/linalg/_special_matrices.py:154: DeprecationWarning: 'tri'/'tril/'triu' are deprecated as of SciPy 1.11.0 and will be removed in v1.13.0. Please use numpy.(tri/tril/triu) instead.\n",
            "  out = (1 - tri(m.shape[0], m.shape[1], k - 1, m.dtype.char)) * m\n",
            "/usr/local/lib/python3.10/dist-packages/gensim/models/lsimodel.py:963: DeprecationWarning: Please use `csc_matvecs` from the `scipy.sparse` namespace, the `scipy.sparse.sparsetools` namespace is deprecated.\n",
            "  sparsetools.csc_matvecs(\n",
            "/usr/local/lib/python3.10/dist-packages/scipy/linalg/_special_matrices.py:154: DeprecationWarning: 'tri'/'tril/'triu' are deprecated as of SciPy 1.11.0 and will be removed in v1.13.0. Please use numpy.(tri/tril/triu) instead.\n",
            "  out = (1 - tri(m.shape[0], m.shape[1], k - 1, m.dtype.char)) * m\n",
            "/usr/local/lib/python3.10/dist-packages/scipy/linalg/_special_matrices.py:154: DeprecationWarning: 'tri'/'tril/'triu' are deprecated as of SciPy 1.11.0 and will be removed in v1.13.0. Please use numpy.(tri/tril/triu) instead.\n",
            "  out = (1 - tri(m.shape[0], m.shape[1], k - 1, m.dtype.char)) * m\n",
            "/usr/local/lib/python3.10/dist-packages/scipy/linalg/_special_matrices.py:154: DeprecationWarning: 'tri'/'tril/'triu' are deprecated as of SciPy 1.11.0 and will be removed in v1.13.0. Please use numpy.(tri/tril/triu) instead.\n",
            "  out = (1 - tri(m.shape[0], m.shape[1], k - 1, m.dtype.char)) * m\n"
          ]
        }
      ],
      "source": [
        "\n",
        "results = []\n",
        "\n",
        "for t in range(2,10):\n",
        "    lsi_model = models.LsiModel(corpus_tfidf, id2word=dictionary, num_topics=t)\n",
        "    corpus_lsi = lsi_model[corpus_tfidf]\n",
        "\n",
        "    cm = CoherenceModel(model=lsi_model, corpus=corpus_lsi, coherence='u_mass')\n",
        "    score = cm.get_coherence()\n",
        "    tup = t, score\n",
        "    results.append(tup)\n",
        "\n",
        "results_lsi = pd.DataFrame(results, columns=['topic', 'score'])"
      ]
    },
    {
      "cell_type": "code",
      "execution_count": null,
      "id": "4d83cd36",
      "metadata": {
        "id": "4d83cd36",
        "colab": {
          "base_uri": "https://localhost:8080/",
          "height": 356
        },
        "outputId": "68ba4182-a115-4647-8193-06e91e27e3c8"
      },
      "outputs": [
        {
          "output_type": "stream",
          "name": "stderr",
          "text": [
            "/usr/local/lib/python3.10/dist-packages/ipykernel/ipkernel.py:283: DeprecationWarning: `should_run_async` will not call `transform_cell` automatically in the future. Please pass the result to `transformed_cell` argument and any exception that happen during thetransform in `preprocessing_exc_tuple` in IPython 7.17 and above.\n",
            "  and should_run_async(code)\n"
          ]
        },
        {
          "output_type": "execute_result",
          "data": {
            "text/plain": [
              "   topic     score\n",
              "0      2  0.000000\n",
              "1      3  0.000000\n",
              "2      4 -1.381551\n",
              "3      5 -1.570605\n",
              "4      6 -2.084445\n",
              "5      7 -1.807443\n",
              "6      8 -2.454071\n",
              "7      9 -3.118589"
            ],
            "text/html": [
              "\n",
              "  <div id=\"df-fd70b1f5-3d15-426b-8b6a-b744dad9a3d5\" class=\"colab-df-container\">\n",
              "    <div>\n",
              "<style scoped>\n",
              "    .dataframe tbody tr th:only-of-type {\n",
              "        vertical-align: middle;\n",
              "    }\n",
              "\n",
              "    .dataframe tbody tr th {\n",
              "        vertical-align: top;\n",
              "    }\n",
              "\n",
              "    .dataframe thead th {\n",
              "        text-align: right;\n",
              "    }\n",
              "</style>\n",
              "<table border=\"1\" class=\"dataframe\">\n",
              "  <thead>\n",
              "    <tr style=\"text-align: right;\">\n",
              "      <th></th>\n",
              "      <th>topic</th>\n",
              "      <th>score</th>\n",
              "    </tr>\n",
              "  </thead>\n",
              "  <tbody>\n",
              "    <tr>\n",
              "      <th>0</th>\n",
              "      <td>2</td>\n",
              "      <td>0.000000</td>\n",
              "    </tr>\n",
              "    <tr>\n",
              "      <th>1</th>\n",
              "      <td>3</td>\n",
              "      <td>0.000000</td>\n",
              "    </tr>\n",
              "    <tr>\n",
              "      <th>2</th>\n",
              "      <td>4</td>\n",
              "      <td>-1.381551</td>\n",
              "    </tr>\n",
              "    <tr>\n",
              "      <th>3</th>\n",
              "      <td>5</td>\n",
              "      <td>-1.570605</td>\n",
              "    </tr>\n",
              "    <tr>\n",
              "      <th>4</th>\n",
              "      <td>6</td>\n",
              "      <td>-2.084445</td>\n",
              "    </tr>\n",
              "    <tr>\n",
              "      <th>5</th>\n",
              "      <td>7</td>\n",
              "      <td>-1.807443</td>\n",
              "    </tr>\n",
              "    <tr>\n",
              "      <th>6</th>\n",
              "      <td>8</td>\n",
              "      <td>-2.454071</td>\n",
              "    </tr>\n",
              "    <tr>\n",
              "      <th>7</th>\n",
              "      <td>9</td>\n",
              "      <td>-3.118589</td>\n",
              "    </tr>\n",
              "  </tbody>\n",
              "</table>\n",
              "</div>\n",
              "    <div class=\"colab-df-buttons\">\n",
              "\n",
              "  <div class=\"colab-df-container\">\n",
              "    <button class=\"colab-df-convert\" onclick=\"convertToInteractive('df-fd70b1f5-3d15-426b-8b6a-b744dad9a3d5')\"\n",
              "            title=\"Convert this dataframe to an interactive table.\"\n",
              "            style=\"display:none;\">\n",
              "\n",
              "  <svg xmlns=\"http://www.w3.org/2000/svg\" height=\"24px\" viewBox=\"0 -960 960 960\">\n",
              "    <path d=\"M120-120v-720h720v720H120Zm60-500h600v-160H180v160Zm220 220h160v-160H400v160Zm0 220h160v-160H400v160ZM180-400h160v-160H180v160Zm440 0h160v-160H620v160ZM180-180h160v-160H180v160Zm440 0h160v-160H620v160Z\"/>\n",
              "  </svg>\n",
              "    </button>\n",
              "\n",
              "  <style>\n",
              "    .colab-df-container {\n",
              "      display:flex;\n",
              "      gap: 12px;\n",
              "    }\n",
              "\n",
              "    .colab-df-convert {\n",
              "      background-color: #E8F0FE;\n",
              "      border: none;\n",
              "      border-radius: 50%;\n",
              "      cursor: pointer;\n",
              "      display: none;\n",
              "      fill: #1967D2;\n",
              "      height: 32px;\n",
              "      padding: 0 0 0 0;\n",
              "      width: 32px;\n",
              "    }\n",
              "\n",
              "    .colab-df-convert:hover {\n",
              "      background-color: #E2EBFA;\n",
              "      box-shadow: 0px 1px 2px rgba(60, 64, 67, 0.3), 0px 1px 3px 1px rgba(60, 64, 67, 0.15);\n",
              "      fill: #174EA6;\n",
              "    }\n",
              "\n",
              "    .colab-df-buttons div {\n",
              "      margin-bottom: 4px;\n",
              "    }\n",
              "\n",
              "    [theme=dark] .colab-df-convert {\n",
              "      background-color: #3B4455;\n",
              "      fill: #D2E3FC;\n",
              "    }\n",
              "\n",
              "    [theme=dark] .colab-df-convert:hover {\n",
              "      background-color: #434B5C;\n",
              "      box-shadow: 0px 1px 3px 1px rgba(0, 0, 0, 0.15);\n",
              "      filter: drop-shadow(0px 1px 2px rgba(0, 0, 0, 0.3));\n",
              "      fill: #FFFFFF;\n",
              "    }\n",
              "  </style>\n",
              "\n",
              "    <script>\n",
              "      const buttonEl =\n",
              "        document.querySelector('#df-fd70b1f5-3d15-426b-8b6a-b744dad9a3d5 button.colab-df-convert');\n",
              "      buttonEl.style.display =\n",
              "        google.colab.kernel.accessAllowed ? 'block' : 'none';\n",
              "\n",
              "      async function convertToInteractive(key) {\n",
              "        const element = document.querySelector('#df-fd70b1f5-3d15-426b-8b6a-b744dad9a3d5');\n",
              "        const dataTable =\n",
              "          await google.colab.kernel.invokeFunction('convertToInteractive',\n",
              "                                                    [key], {});\n",
              "        if (!dataTable) return;\n",
              "\n",
              "        const docLinkHtml = 'Like what you see? Visit the ' +\n",
              "          '<a target=\"_blank\" href=https://colab.research.google.com/notebooks/data_table.ipynb>data table notebook</a>'\n",
              "          + ' to learn more about interactive tables.';\n",
              "        element.innerHTML = '';\n",
              "        dataTable['output_type'] = 'display_data';\n",
              "        await google.colab.output.renderOutput(dataTable, element);\n",
              "        const docLink = document.createElement('div');\n",
              "        docLink.innerHTML = docLinkHtml;\n",
              "        element.appendChild(docLink);\n",
              "      }\n",
              "    </script>\n",
              "  </div>\n",
              "\n",
              "\n",
              "<div id=\"df-4b26b405-6c0b-414a-a695-024429d54e0e\">\n",
              "  <button class=\"colab-df-quickchart\" onclick=\"quickchart('df-4b26b405-6c0b-414a-a695-024429d54e0e')\"\n",
              "            title=\"Suggest charts\"\n",
              "            style=\"display:none;\">\n",
              "\n",
              "<svg xmlns=\"http://www.w3.org/2000/svg\" height=\"24px\"viewBox=\"0 0 24 24\"\n",
              "     width=\"24px\">\n",
              "    <g>\n",
              "        <path d=\"M19 3H5c-1.1 0-2 .9-2 2v14c0 1.1.9 2 2 2h14c1.1 0 2-.9 2-2V5c0-1.1-.9-2-2-2zM9 17H7v-7h2v7zm4 0h-2V7h2v10zm4 0h-2v-4h2v4z\"/>\n",
              "    </g>\n",
              "</svg>\n",
              "  </button>\n",
              "\n",
              "<style>\n",
              "  .colab-df-quickchart {\n",
              "      --bg-color: #E8F0FE;\n",
              "      --fill-color: #1967D2;\n",
              "      --hover-bg-color: #E2EBFA;\n",
              "      --hover-fill-color: #174EA6;\n",
              "      --disabled-fill-color: #AAA;\n",
              "      --disabled-bg-color: #DDD;\n",
              "  }\n",
              "\n",
              "  [theme=dark] .colab-df-quickchart {\n",
              "      --bg-color: #3B4455;\n",
              "      --fill-color: #D2E3FC;\n",
              "      --hover-bg-color: #434B5C;\n",
              "      --hover-fill-color: #FFFFFF;\n",
              "      --disabled-bg-color: #3B4455;\n",
              "      --disabled-fill-color: #666;\n",
              "  }\n",
              "\n",
              "  .colab-df-quickchart {\n",
              "    background-color: var(--bg-color);\n",
              "    border: none;\n",
              "    border-radius: 50%;\n",
              "    cursor: pointer;\n",
              "    display: none;\n",
              "    fill: var(--fill-color);\n",
              "    height: 32px;\n",
              "    padding: 0;\n",
              "    width: 32px;\n",
              "  }\n",
              "\n",
              "  .colab-df-quickchart:hover {\n",
              "    background-color: var(--hover-bg-color);\n",
              "    box-shadow: 0 1px 2px rgba(60, 64, 67, 0.3), 0 1px 3px 1px rgba(60, 64, 67, 0.15);\n",
              "    fill: var(--button-hover-fill-color);\n",
              "  }\n",
              "\n",
              "  .colab-df-quickchart-complete:disabled,\n",
              "  .colab-df-quickchart-complete:disabled:hover {\n",
              "    background-color: var(--disabled-bg-color);\n",
              "    fill: var(--disabled-fill-color);\n",
              "    box-shadow: none;\n",
              "  }\n",
              "\n",
              "  .colab-df-spinner {\n",
              "    border: 2px solid var(--fill-color);\n",
              "    border-color: transparent;\n",
              "    border-bottom-color: var(--fill-color);\n",
              "    animation:\n",
              "      spin 1s steps(1) infinite;\n",
              "  }\n",
              "\n",
              "  @keyframes spin {\n",
              "    0% {\n",
              "      border-color: transparent;\n",
              "      border-bottom-color: var(--fill-color);\n",
              "      border-left-color: var(--fill-color);\n",
              "    }\n",
              "    20% {\n",
              "      border-color: transparent;\n",
              "      border-left-color: var(--fill-color);\n",
              "      border-top-color: var(--fill-color);\n",
              "    }\n",
              "    30% {\n",
              "      border-color: transparent;\n",
              "      border-left-color: var(--fill-color);\n",
              "      border-top-color: var(--fill-color);\n",
              "      border-right-color: var(--fill-color);\n",
              "    }\n",
              "    40% {\n",
              "      border-color: transparent;\n",
              "      border-right-color: var(--fill-color);\n",
              "      border-top-color: var(--fill-color);\n",
              "    }\n",
              "    60% {\n",
              "      border-color: transparent;\n",
              "      border-right-color: var(--fill-color);\n",
              "    }\n",
              "    80% {\n",
              "      border-color: transparent;\n",
              "      border-right-color: var(--fill-color);\n",
              "      border-bottom-color: var(--fill-color);\n",
              "    }\n",
              "    90% {\n",
              "      border-color: transparent;\n",
              "      border-bottom-color: var(--fill-color);\n",
              "    }\n",
              "  }\n",
              "</style>\n",
              "\n",
              "  <script>\n",
              "    async function quickchart(key) {\n",
              "      const quickchartButtonEl =\n",
              "        document.querySelector('#' + key + ' button');\n",
              "      quickchartButtonEl.disabled = true;  // To prevent multiple clicks.\n",
              "      quickchartButtonEl.classList.add('colab-df-spinner');\n",
              "      try {\n",
              "        const charts = await google.colab.kernel.invokeFunction(\n",
              "            'suggestCharts', [key], {});\n",
              "      } catch (error) {\n",
              "        console.error('Error during call to suggestCharts:', error);\n",
              "      }\n",
              "      quickchartButtonEl.classList.remove('colab-df-spinner');\n",
              "      quickchartButtonEl.classList.add('colab-df-quickchart-complete');\n",
              "    }\n",
              "    (() => {\n",
              "      let quickchartButtonEl =\n",
              "        document.querySelector('#df-4b26b405-6c0b-414a-a695-024429d54e0e button');\n",
              "      quickchartButtonEl.style.display =\n",
              "        google.colab.kernel.accessAllowed ? 'block' : 'none';\n",
              "    })();\n",
              "  </script>\n",
              "</div>\n",
              "    </div>\n",
              "  </div>\n"
            ]
          },
          "metadata": {},
          "execution_count": 69
        }
      ],
      "source": [
        "results_lsi"
      ]
    },
    {
      "cell_type": "code",
      "execution_count": null,
      "id": "ea00d689",
      "metadata": {
        "id": "ea00d689",
        "colab": {
          "base_uri": "https://localhost:8080/",
          "height": 521
        },
        "outputId": "4d697d2e-13d3-464c-b887-6c89d0c5421f"
      },
      "outputs": [
        {
          "output_type": "stream",
          "name": "stderr",
          "text": [
            "/usr/local/lib/python3.10/dist-packages/ipykernel/ipkernel.py:283: DeprecationWarning: `should_run_async` will not call `transform_cell` automatically in the future. Please pass the result to `transformed_cell` argument and any exception that happen during thetransform in `preprocessing_exc_tuple` in IPython 7.17 and above.\n",
            "  and should_run_async(code)\n"
          ]
        },
        {
          "output_type": "display_data",
          "data": {
            "text/plain": [
              "<Figure size 1000x500 with 1 Axes>"
            ],
            "image/png": "[encoded data removed]"
          },
          "metadata": {}
        }
      ],
      "source": [
        "plt.figure(figsize = (10,5))\n",
        "s = pd.Series(results_lsi.score.values, index=results_lsi.topic.values)\n",
        "plt.xlabel(\"number of topics\")\n",
        "plt.ylabel(\"Score\")\n",
        "_ = s.plot()"
      ]
    },
    {
      "cell_type": "markdown",
      "id": "7c09fb61",
      "metadata": {
        "id": "7c09fb61"
      },
      "source": [
        "# 5- Hierarchical Dirichlet Process (HDP)"
      ]
    },
    {
      "cell_type": "code",
      "execution_count": null,
      "id": "b2d40814",
      "metadata": {
        "id": "b2d40814",
        "colab": {
          "base_uri": "https://localhost:8080/"
        },
        "outputId": "f2c78741-0df3-49be-90b1-cda417202307"
      },
      "outputs": [
        {
          "output_type": "stream",
          "name": "stderr",
          "text": [
            "/usr/local/lib/python3.10/dist-packages/ipykernel/ipkernel.py:283: DeprecationWarning: `should_run_async` will not call `transform_cell` automatically in the future. Please pass the result to `transformed_cell` argument and any exception that happen during thetransform in `preprocessing_exc_tuple` in IPython 7.17 and above.\n",
            "  and should_run_async(code)\n",
            "WARNING:gensim.models.hdpmodel:likelihood is decreasing!\n",
            "WARNING:gensim.models.hdpmodel:likelihood is decreasing!\n",
            "WARNING:gensim.models.hdpmodel:likelihood is decreasing!\n",
            "WARNING:gensim.models.hdpmodel:likelihood is decreasing!\n"
          ]
        }
      ],
      "source": [
        "\n",
        "hdp_model = HdpModel(bow_corpus,dictionary)"
      ]
    },
    {
      "cell_type": "code",
      "execution_count": null,
      "id": "7e345098",
      "metadata": {
        "id": "7e345098",
        "colab": {
          "base_uri": "https://localhost:8080/"
        },
        "outputId": "47e93740-cc26-44d6-a942-c22764e85746"
      },
      "outputs": [
        {
          "output_type": "stream",
          "name": "stdout",
          "text": [
            "Topic: 0 \n",
            "Words: 0.010*والقرءاه + 0.007*اقاف + 0.007*عليكمكيفية + 0.007*بركة + 0.007*وبركاتههل + 0.006*بالامس + 0.006*خطا + 0.006*اتذكر + 0.006*ماتروح + 0.006*تمك\n",
            "Topic: 1 \n",
            "Words: 0.013*أقول + 0.009*اتغيرت + 0.008*ارسال + 0.008*تقدير + 0.008*نجم + 0.008*مخزن + 0.007*احتمال + 0.007*متى + 0.007*ورد + 0.007*خدم\n",
            "Topic: 2 \n",
            "Words: 0.014*عايز + 0.009*حوالى + 0.008*فرق + 0.007*دافع + 0.007*عرف + 0.007*غير + 0.006*تاج + 0.006*موقع + 0.006*خلى + 0.006*أخذ\n",
            "Topic: 3 \n",
            "Words: 0.010*تكرم + 0.008*حسابى + 0.008*فقلتلهم + 0.007*محمود + 0.007*اتته + 0.007*ساعة + 0.006*قديم + 0.006*رسالة + 0.006*إيجار + 0.006*لماكينة\n",
            "Topic: 4 \n",
            "Words: 0.010*عشواء + 0.008*ارفاق + 0.007*سر + 0.007*شرط + 0.007*تيار + 0.007*فعل + 0.007*تفعيل + 0.007*عليكمكيفية + 0.007*لا + 0.007*علي\n"
          ]
        },
        {
          "output_type": "stream",
          "name": "stderr",
          "text": [
            "/usr/local/lib/python3.10/dist-packages/ipykernel/ipkernel.py:283: DeprecationWarning: `should_run_async` will not call `transform_cell` automatically in the future. Please pass the result to `transformed_cell` argument and any exception that happen during thetransform in `preprocessing_exc_tuple` in IPython 7.17 and above.\n",
            "  and should_run_async(code)\n"
          ]
        }
      ],
      "source": [
        "for idxh, topich in hdp_model.print_topics(num_topics=5, num_words=10):\n",
        "    print('Topic: {} \\nWords: {}'.format(idxh, topich))"
      ]
    },
    {
      "cell_type": "markdown",
      "id": "9e970856",
      "metadata": {
        "id": "9e970856"
      },
      "source": [
        "### HDP coherence with  u_mass"
      ]
    },
    {
      "cell_type": "code",
      "execution_count": null,
      "id": "34f994ec",
      "metadata": {
        "id": "34f994ec",
        "colab": {
          "base_uri": "https://localhost:8080/"
        },
        "outputId": "cb91b874-12a2-4dea-9cf3-3451525acdc4"
      },
      "outputs": [
        {
          "output_type": "stream",
          "name": "stderr",
          "text": [
            "/usr/local/lib/python3.10/dist-packages/ipykernel/ipkernel.py:283: DeprecationWarning: `should_run_async` will not call `transform_cell` automatically in the future. Please pass the result to `transformed_cell` argument and any exception that happen during thetransform in `preprocessing_exc_tuple` in IPython 7.17 and above.\n",
            "  and should_run_async(code)\n"
          ]
        },
        {
          "output_type": "stream",
          "name": "stdout",
          "text": [
            "\n",
            "Coherence Score u_mass:  -21.897519117009832\n"
          ]
        }
      ],
      "source": [
        "\n",
        "cm = CoherenceModel(model=hdp_model, corpus=bow_corpus, coherence='u_mass')\n",
        "hdp_coherence_umass = cm.get_coherence()\n",
        "print('\\nCoherence Score u_mass: ', hdp_coherence_umass)"
      ]
    },
    {
      "cell_type": "markdown",
      "id": "9cd4107e",
      "metadata": {
        "id": "9cd4107e"
      },
      "source": [
        "### HDP coherence with  cv"
      ]
    },
    {
      "cell_type": "code",
      "execution_count": null,
      "id": "5425c764",
      "metadata": {
        "scrolled": true,
        "id": "5425c764",
        "colab": {
          "base_uri": "https://localhost:8080/"
        },
        "outputId": "bbff6aff-abb5-40dd-fe09-544e33113cec"
      },
      "outputs": [
        {
          "output_type": "stream",
          "name": "stderr",
          "text": [
            "/usr/local/lib/python3.10/dist-packages/ipykernel/ipkernel.py:283: DeprecationWarning: `should_run_async` will not call `transform_cell` automatically in the future. Please pass the result to `transformed_cell` argument and any exception that happen during thetransform in `preprocessing_exc_tuple` in IPython 7.17 and above.\n",
            "  and should_run_async(code)\n"
          ]
        },
        {
          "output_type": "stream",
          "name": "stdout",
          "text": [
            "\n",
            "Coherence Score c_v:  0.7568760242121935\n"
          ]
        }
      ],
      "source": [
        "\n",
        "cm = CoherenceModel(model=hdp_model, corpus=bow_corpus, coherence='c_v', texts = processed_docs)\n",
        "hdp_coherence_cv = cm.get_coherence()\n",
        "print('\\nCoherence Score c_v: ', hdp_coherence_cv)"
      ]
    },
    {
      "cell_type": "markdown",
      "id": "f6277627",
      "metadata": {
        "id": "f6277627"
      },
      "source": [
        "### HDP coherence with  c_uci"
      ]
    },
    {
      "cell_type": "code",
      "execution_count": null,
      "id": "42dcaed9",
      "metadata": {
        "id": "42dcaed9",
        "colab": {
          "base_uri": "https://localhost:8080/"
        },
        "outputId": "f44fdf0d-62c1-4959-d804-debebeb10ecf"
      },
      "outputs": [
        {
          "output_type": "stream",
          "name": "stderr",
          "text": [
            "/usr/local/lib/python3.10/dist-packages/ipykernel/ipkernel.py:283: DeprecationWarning: `should_run_async` will not call `transform_cell` automatically in the future. Please pass the result to `transformed_cell` argument and any exception that happen during thetransform in `preprocessing_exc_tuple` in IPython 7.17 and above.\n",
            "  and should_run_async(code)\n"
          ]
        },
        {
          "output_type": "stream",
          "name": "stdout",
          "text": [
            "\n",
            "Coherence Score c_uci:  -16.82615914499982\n"
          ]
        }
      ],
      "source": [
        "from gensim.models import CoherenceModel\n",
        "cm = CoherenceModel(model=hdp_model, corpus=bow_corpus, coherence='c_uci', texts = processed_docs)\n",
        "hdp_coherence_uci = cm.get_coherence()\n",
        "print('\\nCoherence Score c_uci: ', hdp_coherence_uci)"
      ]
    },
    {
      "cell_type": "markdown",
      "id": "7aa74d66",
      "metadata": {
        "id": "7aa74d66"
      },
      "source": [
        "### HDP coherence with  c_nmpi"
      ]
    },
    {
      "cell_type": "code",
      "execution_count": null,
      "id": "88132183",
      "metadata": {
        "id": "88132183",
        "colab": {
          "base_uri": "https://localhost:8080/"
        },
        "outputId": "a09dae3e-176d-4d3e-ae0f-12e86b3752d2"
      },
      "outputs": [
        {
          "output_type": "stream",
          "name": "stderr",
          "text": [
            "/usr/local/lib/python3.10/dist-packages/ipykernel/ipkernel.py:283: DeprecationWarning: `should_run_async` will not call `transform_cell` automatically in the future. Please pass the result to `transformed_cell` argument and any exception that happen during thetransform in `preprocessing_exc_tuple` in IPython 7.17 and above.\n",
            "  and should_run_async(code)\n"
          ]
        },
        {
          "output_type": "stream",
          "name": "stdout",
          "text": [
            "\n",
            "Coherence Score c_npmi:  -0.5965619167668942\n"
          ]
        }
      ],
      "source": [
        "\n",
        "cm = CoherenceModel(model=hdp_model, corpus=bow_corpus, coherence='c_npmi', texts = processed_docs)\n",
        "hdp_coherence_nmpi = cm.get_coherence()\n",
        "print('\\nCoherence Score c_npmi: ', hdp_coherence_nmpi)"
      ]
    },
    {
      "cell_type": "markdown",
      "id": "3474f0d3",
      "metadata": {
        "id": "3474f0d3"
      },
      "source": [
        "# 6- Non-Negative Matrix Factorization(NMF) :"
      ]
    },
    {
      "cell_type": "code",
      "execution_count": null,
      "id": "2435a1bd",
      "metadata": {
        "id": "2435a1bd",
        "colab": {
          "base_uri": "https://localhost:8080/"
        },
        "outputId": "fcc0079a-925a-4a31-f684-37a26bca34f8"
      },
      "outputs": [
        {
          "output_type": "stream",
          "name": "stderr",
          "text": [
            "/usr/local/lib/python3.10/dist-packages/ipykernel/ipkernel.py:283: DeprecationWarning: `should_run_async` will not call `transform_cell` automatically in the future. Please pass the result to `transformed_cell` argument and any exception that happen during thetransform in `preprocessing_exc_tuple` in IPython 7.17 and above.\n",
            "  and should_run_async(code)\n"
          ]
        }
      ],
      "source": [
        "\n",
        "processed_docs = ' '.join(str(v) for v in processed_docs)\n",
        "reshaped_text = arabic_reshaper.reshape(processed_docs)\n",
        "bidi_text = get_display(reshaped_text)"
      ]
    },
    {
      "cell_type": "code",
      "execution_count": null,
      "id": "0b912416",
      "metadata": {
        "id": "0b912416",
        "colab": {
          "base_uri": "https://localhost:8080/"
        },
        "outputId": "8c7aa2db-206c-4b1a-9415-7299eaa0182c"
      },
      "outputs": [
        {
          "output_type": "stream",
          "name": "stderr",
          "text": [
            "/usr/local/lib/python3.10/dist-packages/ipykernel/ipkernel.py:283: DeprecationWarning: `should_run_async` will not call `transform_cell` automatically in the future. Please pass the result to `transformed_cell` argument and any exception that happen during thetransform in `preprocessing_exc_tuple` in IPython 7.17 and above.\n",
            "  and should_run_async(code)\n"
          ]
        }
      ],
      "source": [
        "# We only need the Headlines text column from the data\n",
        "#the count vectorizer module needs string inputs, not array, so I join them with a space. This is a very quick operation.\n",
        "train_headlines_sentences =[processed_docs]"
      ]
    },
    {
      "cell_type": "code",
      "execution_count": null,
      "id": "9e2c0804",
      "metadata": {
        "id": "9e2c0804",
        "colab": {
          "base_uri": "https://localhost:8080/"
        },
        "outputId": "cbf8df8a-af86-4b9e-8cb7-638cfc095c17"
      },
      "outputs": [
        {
          "output_type": "stream",
          "name": "stderr",
          "text": [
            "/usr/local/lib/python3.10/dist-packages/ipykernel/ipkernel.py:283: DeprecationWarning: `should_run_async` will not call `transform_cell` automatically in the future. Please pass the result to `transformed_cell` argument and any exception that happen during thetransform in `preprocessing_exc_tuple` in IPython 7.17 and above.\n",
            "  and should_run_async(code)\n"
          ]
        },
        {
          "output_type": "execute_result",
          "data": {
            "text/plain": [
              "[\"['سلام', 'عليكملدي', 'تغير', 'حال', 'دراس', 'فن', 'رجاء', 'الافاده', 'حال', 'طلب', 'توقف', 'شكر'] ['استطاعة', 'باضافة', 'عقد', 'موثق'] ['استطاعة', 'تعديل', 'طلب', 'واضافة', 'عقد', 'موثق'] ['حساب', 'نتزكر', 'كلم', 'سر', 'رقم', 'قومى', 'الخاص', 'حساب'] ['سلام', 'على', 'الاول', 'عمل', 'اتاخر', 'كتير', 'عمل', 'تانى', 'رد', 'استكمال', 'بيان', 'وقف', 'عمل', 'تال', 'اتقبل', 'سرع', 'عاوز', 'حذف', 'خلى'] ['تاخرت', 'معاين', 'علم', 'غيرى', 'اتته', 'معاين', 'عدى', 'مد', 'زمن'] ['استطاعة', 'ايجار', 'موثق'] ['رجى', 'تكرم', 'بالافاده', 'طلب', 'مقدم', 'تاريخ', 'اغسطس', 'رقم', 'طلب', 'للدراسه', 'الفنيه', 'الافاده', 'ال', 'تركيب'] ['تقدم', 'طلب', 'تركيب', 'عداد', 'ودى', 'أمات', 'كتاب', 'رقم', 'قومى', 'تسبب', 'قبول', 'طلب', 'رجا', 'تصحيح', 'رقم', 'قومى', 'الخاص', 'تفعيل', 'طلب', 'الخاص', 'مرفق', 'صور', 'بطاقة', 'رقم', 'قومى'] ['تغير', 'حال', 'طلب', 'كثر', 'شهر', 'رجاء', 'تغير', 'حال', 'طلب', 'انتهاء', 'المده'] ['تقدم', 'طلب', 'عداد', 'ودي', 'طلب', 'حتى', 'ال', 'عرف', 'موقف', 'طلب', 'متى', 'أتم', 'تركيب'] ['عمل', 'حساب', 'المنصه', 'نسى', 'كلم', 'سر', 'عارف', 'قدم', 'عداد', 'كود', 'رقم', 'بطاقة', 'بطاقة', 'عمل', 'حاج', 'عش', 'يبعتولي', 'كلم', 'سر', 'الجيميل', 'بتاعي', 'ويتقالي', 'الارسال', 'تاج', 'رساله', 'وعايز', 'قدم', 'عداد', 'عارف', 'فتح', 'الايميل'] ['تعديل', 'لارفاق', 'اثبات', 'ملك'] ['سجل', 'بيان', 'شخص', 'قريب', 'بالمنصه', 'موحد', 'خدمة', 'كهرباء', 'قدم', 'تركيب', 'عداد', 'ودي', 'اكتشف', 'بيان', 'منطق', 'مركز', 'خدم', 'حاول', 'دخول', 'اخرى', 'يعطينى', 'كلم', 'مرور', 'نسى', 'بريد', 'الالكتروني', 'تسجيل', 'رجاء', 'مساعد', 'استعادة', 'كلم', 'مرور'] ['حضر', 'مقدم', 'اشتكى', 'قلى', 'انتظار', 'اتصال', 'موظف', 'كلام', 'شهر', 'ممكن', 'عرف', 'تأخير'] ['عارف', 'استعلم', 'قيم', 'فاتورة', 'كهرباء'] ['قدم', 'تحويل', 'ممارس', 'عداد', 'ودى', 'واخدت', 'طلب', 'دلوقتى', 'دفع', 'الممارسه', 'كهرباء', 'مركز', 'ابوتشت', 'محافظ', 'قالولى', 'ايصال', 'ممارس', 'دفع', 'شهر', 'الجاى', 'لازم', 'كوى', 'مركب', 'عداد', 'ودى', 'فقلتلهم', 'مقدم', 'موقع', 'لاس', 'محدش', 'علي', 'قالولى', 'احنا', 'ملناش', 'دع', 'كلام', 'شرط', 'كهرباء', 'قات', 'كهربا', 'شغال', 'عند', 'هتتحبس', 'دفع', 'غرام', 'عمل'] ['سلام', 'على', 'سمح', 'مفيش', 'غمد', 'لا', 'أوجد', 'كابل', 'عمود', 'حوالى', 'طلب', 'رفض', 'تركيب', 'عداد', 'كهربا', 'بيقولوا', 'احتمال', 'أجاب', 'عمود', 'حساب', 'وانا', 'استطاع', 'شراء', 'عمود', 'ملحوظ', 'مدن', 'كل', 'كابل', 'الارض'] ['سلام', 'على', 'رحمة', 'الله', 'بركة', 'رجاء', 'استعادة', 'كلم', 'مرور', 'التى', 'فقد', 'اتذكرها', 'طلب', 'رقم', 'قومى', 'الايميل', 'mtao', 'gmailcomرقم', 'النليفون', 'سيادة', 'فائق', 'احترام', 'تقدير'] ['الدراسه', 'الفنيه', 'وجاتني', 'معاين', 'ومحدش', 'علي', 'ماتروح', 'الشركه', 'أقول', 'محدش', 'عارف', 'حاج', 'ارجو', 'رد', 'لان'] ['فقد', 'كلم', 'مرور', 'خاصة', 'بحسابى', 'منصة', 'رجاء', 'حضر', 'استرجاع', 'لكم', 'جزيل', 'شكر'] ['سمح', 'طلب', 'اتاخر', 'مقدم', 'تانى', 'معا', 'منزل', 'متحول', 'دراس', 'فن', 'شهر', 'ايام', 'مفيش', 'أولوي', 'التركيبالتركيبب'] ['اثناء', 'تقديمى', 'بالامس', 'هدم', 'عداد', 'الكودى', 'تفاجئت', 'توقف', 'خسابى', 'عدم', 'معرفتى', 'لبياناتى', 'استرجع', 'حسابى', 'يوم', 'فاجأ', 'غلق', 'تقديم', 'رجا', 'مشكل'] ['عداد', 'ارسالى', 'صور', 'البطاقه', 'أحيا', 'خد', 'ولايس', 'الامام', 'خلف', 'ارجو', 'الافاده', 'استطاع', 'عمل', 'تعديل', 'بين', 'اقاف', 'خدم', 'تعديل', 'تقديم', 'طلبة'] ['تركيب', 'عداد', 'ودي'] ['طلب', 'سبب', 'ايصال', 'الممارسه', 'اسم', 'اسم', 'ذلك', 'سفر', 'خلال', 'فترة', 'عند', 'محاول', 'ارفاق', 'ايصال', 'الممارسه', 'جديد', 'مدون', 'اسم', 'خلال', 'ايقونة', 'اعادة', 'استكمال', 'بيان', 'ظهر', 'رساله', 'أفاد', 'خدم', 'مفعل', 'حال', 'فا', 'اريد', 'تقديم', 'ايصال', 'الممارسه', 'جديد', 'مدون', 'اسم', 'ذلك', 'استكمال', 'اجراءات', 'تركيب', 'لكم', 'جزيل', 'شكر'] ['واضح', 'حضر', 'طلب', 'مقدم', 'الاول', 'ملف', 'هندسة', 'ابوتشت', 'ومحدش', 'عاين', 'طلب', 'دراس', 'فن', 'رجاء', 'الاخذ', 'باولو', 'طلبة', 'شكر'] ['سمح', 'حضر', 'صور', 'منزل', 'تقديم', 'تركيب', 'عداد', 'ودي', 'طلب', 'اسم', 'والد', 'محمد', 'حمد', 'محمد', 'ابراهيم', 'الايميل', 'تقديم', 'نسيان', 'وجود', 'منزل', 'تقديم', 'تحية', 'حضر'] ['تسجيل', 'حساب', 'موقع', 'ادخال', 'قومى', 'خطا', 'عند', 'استكمال', 'بيان', 'وارفاق', 'ملف', 'ارفاق', 'صور', 'عقد', 'وايصال', 'ممارس', 'صور', 'بيت', 'اسم', 'محمد', 'رمض', 'محمد', 'عبدالرحمن', 'فارجو', 'سيادة', 'تعديل', 'رقم', 'قومى', 'خط', 'موقع', 'رقم', 'قومى', 'صحيح', 'بناء', 'صور', 'المرفقه', 'مرفق', 'صور', 'البطافة', 'وايصال', 'ممارس', 'عقد', 'منزل', 'شكر'] ['تسجيل', 'قومى', 'تسجيل', 'رقم', 'قومى', 'صحيح', 'اسم', 'محمد', 'رمصان', 'محمد', 'عبدالرحمن', 'رجاء', 'تعديل', 'استكمال', 'الاجراءات', 'شبكة', 'مرفق', 'سيادة', 'صور', 'بطاقة', 'خاصة', 'اسم', 'محمد', 'رمصان', 'محمد', 'عبدالرحمن', 'صور', 'منزل', 'وايصال', 'ممارس', 'عقد', 'منزل'] ['نسى', 'كلم', 'حساب', 'موقع', 'عندما', 'حاول', 'استرجاع', 'عدم', 'تأكيد', 'بريد', 'إلكترون', 'إرسال', 'رسالة', 'تأكيد', 'حساب', 'بريد', 'الإلكترونيمرفق', 'صور', 'بطاقة', 'رقم', 'القوميوشكرا', 'مقدم'] ['سمح', 'قدم', 'لاس', 'مفيش', 'الموبايل', 'رساله', 'ميل', 'حال', 'طلب', 'عند', 'اتغيرت', 'اغسطس', 'ال', 'قدم', 'شكو', 'حضر', 'اغسطس', 'رد', 'اغلاق', 'شكو', 'انها', 'ارجو', 'رد', 'سرع', 'وشكرارقم', 'طلب', 'مقدم'] ['سمح', 'قدم', 'تحويل', 'طلبة', 'ممارس', 'عداد', 'كود', 'لاس', 'مفيش', 'الموبايل', 'رساله', 'ميل', 'حال', 'طلب', 'عند', 'اتغيرت', 'اغسطس', 'ال', 'قدم', 'شكو', 'حضر', 'اغسطس', 'رد', 'اغلاق', 'شكو', 'انها', 'كان', 'طلب', 'استفسار', 'ارجو', 'رد', 'سرع', 'شكر', 'حويل', 'طلبة', 'ممارس', 'عداد', 'كود'] ['سمح', 'أقربائى', 'تسجيل', 'منصة', 'اسم', 'محمد', 'عفيف', 'يوسفتحت', 'هاتف', 'معاين', 'مهندس', 'دخول', 'حساب', 'سداد', 'رسم', 'مقايسة', 'فوج', 'دخول', 'حساب', 'ومتاكد', 'صحة', 'وللاسف', 'شديد', 'اثناء', 'استعادة', 'كلم', 'السايت', 'ايميل', 'باضافة', 'هاتف', 'وبالتالى', 'استطاع', 'استرجاع', 'بين', 'يوم', 'نرجوا', 'سيادة', 'مشكل', 'تمك', 'سداد', 'علم', 'باضافة', 'حساب', 'ايميل'] ['رجا', 'تركيب', 'عداد', 'قرب'] ['تقديم', 'عداد', 'قانون', 'أول', 'رسوم', 'مقايسة', 'تمني', 'عداد', 'تركيب', 'تاريخ', 'نوفمبروالعدادات', 'بإسم', 'محمد', 'سيد', 'الطيبالطيب', 'سيد', 'الطيبأيمن', 'سيد', 'الطيبالرجاء', 'تركيب', 'عداد', 'سويدي', 'كارت', 'حديثnfcولكم', 'جزيل', 'شكر'] ['خير', 'عند', 'مشكل', 'تسجيل', 'نسى', 'سر', 'والايميل', 'الخاص', 'تسجيل', 'حبا', 'سجل', 'أخرى', 'تسجيل', 'عارف', 'عمل', 'فضل', 'افيدوني'] ['نسى', 'كلم', 'سر'] ['سلام', 'على', 'رحمة', 'الله', 'استفسار', 'بخصوص', 'تقديم', 'عداد', 'كود', 'والمشكله', 'تقديم', 'طلب', 'ربع', 'شهر', 'اسم', 'والد', 'محمد', 'محمود', 'محمد', 'حمد', 'حال', 'طلب', 'تحويل', 'الدراسه', 'فن', 'قارب', 'شهورمع', 'علم', 'ال', 'جاتله', 'مقايسه', 'المشكله', 'ارجو', 'رد', 'لكم', 'جزيل', 'شكر', 'تقدير'] ['قدم', 'المنصه', 'عداداتولما', 'المقايسه', 'قال', 'تقديم', 'عدادتفانا', 'عارف', 'قدم', 'تان'] ['ونى', 'تقدم', 'شبكة', 'كهرباء', 'مركز', 'فرشوط', 'قال', 'موظف', 'السيستم', 'صلح', 'عداد', 'لابد', 'تقدم', 'طلب', 'جديد', 'منصة', 'حيث', 'انني', 'تتبع', 'خطوة', 'بطريق', 'صحيح', 'ليس', 'عند', 'مشكل', 'واجه', 'تعوق', 'حيث', 'مهندس', 'أخذ', 'مقاس', 'دفع', 'مقايسة', 'واضح', 'سيادة', 'صفح', 'خاصة'] ['طلب', 'تحويل', 'ممارس', 'عداد', 'ودي', 'ماضي', 'تحويل', 'دراس', 'فن', 'تواصل', 'ماذا', 'فعل', 'حال', 'موقف', 'قانون', 'سارق', 'تيار', 'رجاء', 'أفادتي', 'شكر'] ['مقدم', 'تحويل', 'ممارس', 'عداد', 'ودى', 'ظهر', 'موقع', 'سداد', 'علي', 'حينما', 'ذهب', 'لماكينة', 'ورى', 'قبل', 'رقم', 'بفبرجاء', 'توضيح', 'كيفية', 'سداد'] ['سلام', 'على', 'رحمة', 'الله', 'بركة', 'اولا', 'عاوز', 'غير', 'مركز', 'خدم', 'منطق', 'انني', 'اتبع', 'ثاني', 'ايصال', 'ممارس', 'نوع', 'وحد', 'سكنة', 'واحد', 'نظر', 'عدم', 'معرفة', 'منصة', 'اختيار', 'اكثرمن', 'ارجو', 'تعديل', 'وحد', 'سكنة', 'ثالث', 'كيفية', 'ارفاق', 'الاوراق', 'مطلوب', 'حساب', 'منصة', 'بتاعي', 'أوجد', 'مرفق', 'غلط', 'صور', 'بطاقة', 'وايصال', 'ممارس', 'قديم', 'ازاي', 'حذف', 'مرفق', 'واضيف', 'جديد', 'بطاقة', 'وجه', 'حدث', 'ايصال', 'ممارس'] ['تقديم', 'عدادكودى', 'رقم', 'قومى', 'خطا', 'تصحيح', 'رقم', 'الحالىوهو', 'اسم', 'صاحب', 'طلب', 'صلاح', 'دين', 'عبدالحفيظ', 'احمدارجو', 'الافادة', 'طلب', 'رفض', 'لكم', 'جزيل', 'شكر'] ['تقديم', 'عدادكودى', 'رقم', 'قومى', 'خطا', 'تصحيح', 'رقم', 'الحالىوهو', 'اسم', 'صاحب', 'طلب', 'صلاح', 'دين', 'عبدالحفيظ', 'احمدارجو', 'الافادة', 'طلب', 'رفض', 'لكم', 'جزيل', 'شكر'] ['سلام', 'على', 'رحم', 'الله', 'بركة', 'عند', 'تسجيل', 'منصة', 'اختار', 'مركز', 'خدم', 'منطق', 'عندما', 'سالت', 'شرك', 'قال', 'منطق', 'ارجو', 'حضر', 'تغيير', 'منطق', 'منطق', 'يتسني', 'استكمال', 'الاوراق', 'معاين'] ['سلام', 'على', 'رحم', 'الله', 'بركة', 'عند', 'تسجيل', 'منصة', 'اختار', 'مركز', 'خدم', 'منطق', 'عندما', 'سالت', 'شرك', 'قال', 'منطق', 'ارجو', 'حضر', 'تغيير', 'منطق', 'منطق', 'يتسني', 'استكمال', 'الاوراق', 'معاين'] ['سلام', 'على', 'رحم', 'الله', 'بركة', 'عند', 'تسجيل', 'منصة', 'اختار', 'مركز', 'خدم', 'منطق', 'عندما', 'سالت', 'شرك', 'قال', 'منطق', 'ارجو', 'حضر', 'تغيير', 'منطق', 'منطق', 'يتسني', 'استكمال', 'الاوراق', 'معاين'] ['سلام', 'على', 'رحم', 'الله', 'بركة', 'عند', 'تسجيل', 'منصة', 'اختار', 'مركز', 'خدم', 'منطق', 'عندما', 'سالت', 'شرك', 'قال', 'منطق', 'ارجو', 'حضر', 'تغيير', 'منطق', 'منطق', 'يتسني', 'استكمال', 'الاوراق', 'معاين'] ['سداد', 'رسوم', 'الالكترونية', 'طلب', 'ظهر', 'مقايسة', 'قابل', 'سداد', 'رقم', 'علم', 'باننى', 'اتصل', 'شرك', 'ورى', 'مدفوع', 'سداد', 'طلب'] ['سلام', 'على', 'رحمة', 'الله', 'بركة', 'مطلوب', 'إيصال', 'حديث', 'بأسم', 'حمد', 'دائم', 'رفع', 'عند', 'الارسال', 'أقول', 'صفح', 'علم', 'موقع', 'تقبل', 'طلبة', 'أخرى', 'طلب', 'مشكل'] ['نسى', 'كلم', 'سر'] ['محتاج', 'عرف', 'امتى', 'هستلم', 'عداد', 'وايه', 'مفروض', 'عمل', 'علشان', 'دفع', 'مقايسة', 'ومحدش', 'علي', 'ساعة'] ['اسم', 'خالد', 'محمد', 'محمود', 'رقم', 'قوم', 'لاف', 'نسى', 'كلم', 'تسجيل', 'موقع', 'عندما', 'طلب', 'تغير', 'كلم', 'سر', 'رسالة', 'هاتف', 'إرسال', 'كود', 'هاتف', 'طلب', 'كود', 'إرسال', 'كود', 'وانا', 'حال', 'اريد', 'قدم', 'عداد', 'كود', 'سبب', 'قدر', 'دخول', 'موقع', 'ارجو', 'من', 'مساعد', 'استفيد', 'خدمة', 'موقع'] ['سمح', 'مقدم', 'عداد', 'ودي', 'رقم', 'قوم', 'صاحب', 'عداد', 'اسم', 'محمد', 'حنف', 'محمد', 'سلام', 'طلع', 'بيان', 'طلع', 'صفح', 'حفظتش', 'كلم', 'مرور', 'دخل', 'جديد', 'رقم', 'قوم', 'بتاعي', 'سجل', 'قال', 'بيان', 'مرسل', 'مطبق', 'حساب', 'كد', 'عاوز', 'دخل', 'صفح', 'سجل', 'باه', 'منصة', 'رقم', 'قوم', 'ارسلته', 'حضر', 'ناس', 'كلم', 'مرور', 'بريد', 'الالكتروني', 'برض', 'ناس', 'فاكر', 'محمول', 'سجل', 'سمح', 'ممكن', 'عرف', 'كلم', 'مرور', 'لان', 'ناس'] ['سلام', 'على', 'جماع', 'ردى', 'علي', 'علشان', 'حق', 'قدم', 'غير', 'رقم', 'قوم', 'قفل', 'محتاج', 'كلم', 'مرور', 'دخل', 'باه', 'لان', 'نسى', 'محمول', 'دخل'] ['عايز', 'عمل', 'ممارس', 'شق', 'ركب', 'عداد', 'جديد', 'عداد', 'والد'] ['قدم', 'عداد', 'ودى', 'بدون', 'ملك', 'اعتبار', 'خان', 'ملك', 'وضع', 'على', 'نجم', 'حمراء', 'هم', 'تعليق', 'طلب', 'لماذا', 'رفع', 'جديد', 'عقد', 'متاح', 'تعديل', 'طلب', 'قديم', 'صحيح', 'ارجو', 'الافادة', 'شكر'] ['سمح', 'سجل', 'موقع', 'وبيقولي', 'اعادة', 'استكمال', 'بيان', 'وانا', 'عارف', 'بيان', 'ناقص', 'علشان', 'اكملها'] ['الايصال', 'الممارسه', 'قدم', 'تركيب', 'عداد', 'ودي', 'سبب', 'علم', 'دافع', 'الممارسه'] ['سلام', 'على', 'رحمة', 'الله', 'وبركاتههل', 'أبد', 'إثبات', 'تاريخ', 'عقد', 'إيجار', 'قبل', 'إيجار', 'توثيق'] ['سمح', 'تقدم', 'طلب', 'حصول', 'عداد', 'ودي', 'تاريخ', 'اغسطس', 'ال', 'طلب', 'مكتوب', 'حالتة', 'مراجع', 'طلب', 'ارجو', 'سرع', 'تركيب', 'عداد', 'علم', 'برج', 'أوجد', 'عداد', 'راكب', 'كثير', 'شقق', 'محول', 'ارجو', 'سرع', 'مشكل', 'تواصل'] ['عند', 'عدد', 'رصيد', 'الكرت', 'وري', 'ظهر', 'أقساطمع', 'علم', 'ظهر', 'كدهلماذا', 'أوجد', 'أقساط'] ['سمح', 'تقدم', 'تاريخ', 'اغسطس', 'تركيب', 'عداد', 'ودي', 'طلب', 'مد', 'كثر', 'شهر', 'طلب', 'مراجع', 'يوم', 'تاريخ', 'اكتوبر', 'طلب', 'ايصال', 'ممارس', 'اسم', 'سعيد', 'عطية', 'بينما', 'عداد', 'عقد', 'ملك', 'اسم', 'محمد', 'حمد', 'سيد', 'علم', 'مال', 'شق', 'اسم', 'محمد', 'حمد', 'سيد', 'كنة', 'تأجير', 'شق', 'للاستاذ', 'سعيد', 'عطية', 'ذل', 'ايصال', 'ممارس', 'صدر', 'بأسمه', 'لان', 'مستأجر', 'شق', 'رجا', 'مشكل', 'مال', 'شق', 'رغب', 'تركيب', 'عداد', 'كود', 'سداد', 'كامل', 'مصروف', 'مك', 'استخراج', 'ايصال', 'ممارس', 'اسم', 'شق', 'استاجرها', 'لاستاذ', 'سعيد', 'مرفق', 'عقد', 'الايجار', 'تمليك', 'تثبت', 'كلام', 'ارجو', 'تعاون', 'ضيق', 'وقت'] ['سمح', 'تقدم', 'تاريخ', 'اغسطس', 'تركيب', 'عداد', 'ودي', 'طلب', 'مد', 'كثر', 'شهر', 'طلب', 'مراجع', 'يوم', 'تاريخ', 'اكتوبر', 'طلب', 'ايصال', 'ممارس', 'اسم', 'سعيد', 'عطية', 'بينما', 'عداد', 'عقد', 'ملك', 'اسم', 'محمد', 'حمد', 'سيد', 'علم', 'مال', 'شق', 'اسم', 'محمد', 'حمد', 'سيد', 'كنة', 'تأجير', 'شق', 'للاستاذ', 'سعيد', 'عطية', 'ذل', 'ايصال', 'ممارس', 'صدر', 'بأسمه', 'لان', 'مستأجر', 'شق', 'رجا', 'مشكل', 'مال', 'شق', 'رغب', 'تركيب', 'عداد', 'كود', 'سداد', 'كامل', 'مصروف', 'مك', 'استخراج', 'ايصال', 'ممارس', 'اسم', 'شق', 'استاجرها', 'لاستاذ', 'سعيد', 'مرفق', 'عقد', 'الايجار', 'تمليك', 'تثبت', 'كلام', 'ارجو', 'تعاون', 'ضيق', 'وقت'] ['تقديم', 'عداد', 'ودى'] ['مطلوب', 'تحديث', 'بيان', 'غير', 'مفعل', 'طريق', 'استكمال', 'بخصوص', 'الشقه', 'طلبى', 'حصول', 'عداد', 'ودى', 'مرفق', 'صور', 'عقد', 'موضح', 'دور', 'والشقه'] ['تحديث', 'حال', 'توقف', 'تحويل', 'دراس', 'فن', 'تحديث', 'مطلوب', 'ال', 'متى', 'أتم', 'تركيب', 'عداد', 'توجه', 'شرك', 'كهرباء', 'تابع'] ['تقديم', 'تحويل', 'ممارس', 'عداد', 'ودي', 'مبتاريخ', 'تحويل', 'طلب', 'للدراسه', 'الفنيه', 'استمر', 'ممارس', 'شرط', 'كهرباء', 'سابق', 'سيتتم', 'حساب', 'على', 'تقديم', 'إعداد', 'تركيب', 'ارجو', 'الافاده', 'شكر'] ['تاخير', 'عداد'] ['تحويل', 'ممارس', 'عدادكودي'] ['استكمال', 'يان'] ['طلب'] ['مقدم', 'عداد', 'ياريت', 'جماع', 'اذنكم', 'عرف', 'التاخير'] ['ميعاد', 'تركيب', 'عداد', 'كود'] ['نسى', 'كلم', 'سر', 'منصة', 'استطاع', 'دخول', 'متابع', 'طلب', 'محمول', 'بريد', 'الالكتروني', 'mabr', 'gmailcom'] ['النقديم', 'عداد', 'كود'] ['سلام', 'على', 'رحمة', 'الله', 'وبركاتهتقدمت', 'منصة', 'أخذ', 'صلى', 'موافق', 'رجا', 'إفادة'] ['تواصل', 'شرك', 'مسؤول', 'معاين', 'علم', 'طلب', 'مقدم', 'منذ', 'أشهر', 'متوقف', 'حال', 'تحويل', 'دراس', 'فن', 'رقم', 'طلب'] ['رد', 'شكوى', 'مرسل', 'بخصوص', 'تواصل', 'شرك', 'فيوم', 'كهرباء', 'بخصوص', 'تركيب', 'عداد', 'الكودى', 'علم', 'طلب', 'مقدم'] ['موقع', 'بيظهر', 'حال', 'طلب', 'استكمال', 'بيان', 'ادخال', 'مطلوب', 'مفيش', 'الايجار', 'ظهر', 'موقع', 'قبل', 'صور', 'واحد'] ['تقدم', 'طلب', 'تحويل', 'ممارس', 'عداد', 'ودي', 'رغم', 'تحميل', 'مستند', 'مطلوب', 'مرفق', 'مطلوب', 'إيقاف', 'طلب', 'تعليق', 'تعليق', 'سبب', 'رفض', 'ألزم', 'ممارس', 'الهندسه', 'رغم', 'تحميل', 'ايصال', 'ممارس', 'مرفق', 'طلب', 'علم', 'زملاء', 'عقار', 'مجاور', 'قبول', 'طلب', 'تقديم', 'مستند', 'قدمتهاوتقدمت', 'باستفساررقم', 'ممارس', 'هندسة', 'الافادة', 'أن', 'مستند', 'قدمتهفما', 'إيقاف', 'طلب', 'ممارس', 'هندسة', 'مختلف', 'قدم', 'مستند', 'المشكلةولماذا', 'قبول', 'زميل', 'قبول', 'طلب', 'رغم', 'تقديم', 'مستند'] ['تقديم', 'عداد', 'الكودى', 'رفض', 'سبب', 'ايصال', 'ممارس', 'باسمى', 'وانا', 'ايصال', 'ممارس', 'باسمى', 'يم', 'فعل'] ['سلام', 'عليكمكيفية', 'فاقد', 'كار', 'كهربا', 'علم', 'بان', 'مالك', 'عداد', 'احتفظ', 'بايصال', 'سداد', 'كارت'] ['تقديم', 'تركيب', 'عداد', 'ودي', 'الممارسه', 'اسم', 'مستأجر', 'تقديم', 'اسم', 'مالك', 'دخول', 'طلب', 'ظهر', 'رساله', 'استكمال', 'بيان', 'ورساله', 'الممارسه', 'مختلف', 'متقدم'] ['سلام', 'على', 'رحمة', 'الله', 'وبركاتهبرجاء', 'تكرم', 'تعديل', 'رقم', 'قومى', 'انشاء', 'حساب', 'الخاص', 'تسجيل', 'تقديم', 'عداد', 'الكودى', 'سجل', 'رجا', 'تعديل', 'رقم', 'قومى', 'علم', 'رقم', 'صحيح', 'مرفق', 'صور', 'بطاقة', 'شكر', 'سيادة'] ['ممكن', 'كوى', 'استجاب', 'سرع', 'موقع', 'مشاكل', 'رقم', 'رد', 'ميعرفوش', 'حاج', 'ورد', 'متاخر', 'شكو', 'ايام', 'ومحدش', 'حيلكو', 'شوي'] ['تقديم', 'تحويل', 'ممارس', 'عداد', 'ودي', 'شهر', 'استيفاء', 'بيان', 'فاجأ', 'مكالم', 'شرك', 'الأيجار', 'مثبت', 'تاريخ', 'أوجد', 'مكان', 'رفع', 'مرفق', 'صور', 'رجاء', 'اضافتها', 'طلب', 'تاريخ'] ['تسجيل', 'قراءة', 'صحيح', 'عام', 'اضافه', 'القراءه', 'تقسيط', 'مبلغ', 'مخزن', 'مغلق', 'عند', 'المحاسبه', 'الشهريه', 'دفع', 'خلال', 'الفتره', 'ورد', 'تقسيم', 'مبلغ', 'مطلوب', 'والقرءاه', 'صحيح'] ['ذهب', 'شرك', 'كهرباء', 'اريد', 'معرفة', 'توقيت', 'المعاينه'] ['ارسال', 'شكوى', 'سابق', 'بخصوص', 'تقديم', 'طلبة', 'تحويل', 'ممارس', 'عداد', 'ودى', 'طلبة', 'جديد', 'مكتمل', 'بيان', 'مرفق', 'ايام', 'على', 'رغم', 'تغير', 'حال', 'طلب', 'المراجعه', 'مكتوب', 'حال', 'طلبة', 'جديد', 'موفق', 'حضر', 'صور', 'بارقام', 'طلبة', 'حال', 'طلب', 'الظاهره', 'المتابعه', 'ارجو', 'المشكله', 'سريع', 'إفادة', 'مشكل', 'تحديد'] ['ادراج', 'صور', 'عقد', 'اكتمال', 'ملف'] ['ارسال', 'تركيب', 'عداد', 'ودي', 'يتم', 'تعليق', 'طلب', 'استكمال', 'بيان', 'علم', 'ارسال', 'بيان', 'كامل', 'مطلوب', 'طالب', 'مراجع', 'طلب', 'اهتمام', 'أتم', 'تركيب', 'عداد', 'كهرب', 'منزل', 'شكر'] ['سلام', 'على', 'تقديم', 'تركيب', 'عداد', 'اضافة', 'ورق', 'ناقص', 'تحديث', 'حال', 'طلب', 'طلب', 'مراجع', 'تحويل', 'دراس', 'فن', 'تواصل', 'حدث', 'تغير', 'حال', 'يوم', 'رجاء', 'سرع', 'دراس', 'فن', 'شكر', 'حسن', 'تعاون', 'لكم', 'جزيل', 'شكر'] ['تقديم', 'جديد', 'بدل', 'طلب', 'سابق', 'برد', 'سابق'] ['عداد', 'الكودى', 'جديد', 'سماح', 'المواطنينحيث', 'مفترض', 'قام', 'الفنى', 'الخاص', 'شرك', 'كهرباء', 'معاين', 'تركيب', 'عداد', 'الكودى', 'ال', 'ولاكنه', 'حجة', 'منزل', 'الخاص', 'جوار', 'ضغط', 'متوسط', 'امتار', 'جبى', 'تكون', 'مسافة', 'امتار', 'مفترض', 'سبب', 'الرئيسى', 'تركيب', 'عداد', 'الكودى', 'الخاص', 'مخالف', 'اننا', 'الاساس', 'مخافون', 'غير', 'قادر', 'تركيب', 'عداد', 'القانونى', 'سبب', 'ضغط', 'متوسط', 'فرق', 'ملاحظ', 'منزل', 'الخاص', 'مرخص', 'كامل', 'منطق', 'كردون', 'ليست', 'مبانى', 'عشواء', 'زراع', 'حل', 'استطاع', 'توصيل', 'عداد', 'منزل', 'بدون', 'الحاجه', 'ممارس', 'محاضر'] ['ارجو', 'استفسار', 'تأخير', 'دراس', 'فن', 'طلب', 'استكمل', 'طلب', 'ال'] ['سلام', 'على', 'استفسار', 'قدم', 'عداد', 'ودي', 'اغسطس', 'طلب', 'ال', 'بالدراسه', 'الفنيه', 'يوم', 'موظف', 'عمل', 'المقايسه', 'عند', 'سؤال', 'عمد', 'كهرباء', 'المطلوبه', 'خبر', 'مطلوب', 'عمد', 'توصيل', 'كهرباء', 'علم', 'ال', 'قدم', 'تصالح', 'استلم', 'نموذج', 'جدي', 'تصالح', 'تحمل', 'الشركه', 'عمد'] ['سمح', 'سجل', 'رقم', 'قومى', 'الخاص', 'فقد', 'موبيل', 'اتذكر', 'معلوم', 'اتصال', 'ابدادلوقتى', 'قدم', 'جديد', 'عمل', 'حساب', 'جديد', 'يقولى', 'رقم', 'قومى', 'موجود', 'سجل', 'رقم', 'قومى', 'مخالف', 'استكمل', 'طلب', 'رجاء', 'تصحيح', 'رقمى', 'قومى', 'بطاقة']\"]"
            ]
          },
          "metadata": {},
          "execution_count": 79
        }
      ],
      "source": [
        "train_headlines_sentences"
      ]
    },
    {
      "cell_type": "code",
      "execution_count": null,
      "id": "5ddd61d4",
      "metadata": {
        "id": "5ddd61d4",
        "colab": {
          "base_uri": "https://localhost:8080/"
        },
        "outputId": "e2a99521-5f2d-4a5f-e3ab-0aca14eb9efc"
      },
      "outputs": [
        {
          "output_type": "stream",
          "name": "stderr",
          "text": [
            "/usr/local/lib/python3.10/dist-packages/ipykernel/ipkernel.py:283: DeprecationWarning: `should_run_async` will not call `transform_cell` automatically in the future. Please pass the result to `transformed_cell` argument and any exception that happen during thetransform in `preprocessing_exc_tuple` in IPython 7.17 and above.\n",
            "  and should_run_async(code)\n"
          ]
        }
      ],
      "source": [
        "vectorizer = CountVectorizer();\n",
        "x_counts = vectorizer.fit_transform(train_headlines_sentences);"
      ]
    },
    {
      "cell_type": "code",
      "execution_count": null,
      "id": "b5384c7a",
      "metadata": {
        "id": "b5384c7a",
        "colab": {
          "base_uri": "https://localhost:8080/"
        },
        "outputId": "c4e35576-1d09-424e-efd4-424dff09de50"
      },
      "outputs": [
        {
          "output_type": "stream",
          "name": "stderr",
          "text": [
            "/usr/local/lib/python3.10/dist-packages/ipykernel/ipkernel.py:283: DeprecationWarning: `should_run_async` will not call `transform_cell` automatically in the future. Please pass the result to `transformed_cell` argument and any exception that happen during thetransform in `preprocessing_exc_tuple` in IPython 7.17 and above.\n",
            "  and should_run_async(code)\n"
          ]
        }
      ],
      "source": [
        "transformer = TfidfTransformer(smooth_idf=False);\n",
        "x_tfidf = transformer.fit_transform(x_counts)"
      ]
    },
    {
      "cell_type": "code",
      "execution_count": null,
      "id": "72437864",
      "metadata": {
        "id": "72437864",
        "colab": {
          "base_uri": "https://localhost:8080/"
        },
        "outputId": "eaf01acb-8bd6-4828-9cae-2206ba814feb"
      },
      "outputs": [
        {
          "output_type": "stream",
          "name": "stderr",
          "text": [
            "/usr/local/lib/python3.10/dist-packages/ipykernel/ipkernel.py:283: DeprecationWarning: `should_run_async` will not call `transform_cell` automatically in the future. Please pass the result to `transformed_cell` argument and any exception that happen during thetransform in `preprocessing_exc_tuple` in IPython 7.17 and above.\n",
            "  and should_run_async(code)\n"
          ]
        }
      ],
      "source": [
        "xtfidf_norm = normalize(x_tfidf, norm='l1', axis=1)"
      ]
    },
    {
      "cell_type": "code",
      "execution_count": null,
      "id": "863c74f4",
      "metadata": {
        "id": "863c74f4",
        "colab": {
          "base_uri": "https://localhost:8080/",
          "height": 131
        },
        "outputId": "55ab441e-f7cf-4a44-c932-0727e458759b"
      },
      "outputs": [
        {
          "output_type": "stream",
          "name": "stderr",
          "text": [
            "/usr/local/lib/python3.10/dist-packages/ipykernel/ipkernel.py:283: DeprecationWarning: `should_run_async` will not call `transform_cell` automatically in the future. Please pass the result to `transformed_cell` argument and any exception that happen during thetransform in `preprocessing_exc_tuple` in IPython 7.17 and above.\n",
            "  and should_run_async(code)\n"
          ]
        },
        {
          "output_type": "execute_result",
          "data": {
            "text/plain": [
              "NMF(n_components=10)"
            ],
            "text/html": [
              "<style>#sk-container-id-1 {color: black;background-color: white;}#sk-container-id-1 pre{padding: 0;}#sk-container-id-1 div.sk-toggleable {background-color: white;}#sk-container-id-1 label.sk-toggleable__label {cursor: pointer;display: block;width: 100%;margin-bottom: 0;padding: 0.3em;box-sizing: border-box;text-align: center;}#sk-container-id-1 label.sk-toggleable__label-arrow:before {content: \"▸\";float: left;margin-right: 0.25em;color: #696969;}#sk-container-id-1 label.sk-toggleable__label-arrow:hover:before {color: black;}#sk-container-id-1 div.sk-estimator:hover label.sk-toggleable__label-arrow:before {color: black;}#sk-container-id-1 div.sk-toggleable__content {max-height: 0;max-width: 0;overflow: hidden;text-align: left;background-color: #f0f8ff;}#sk-container-id-1 div.sk-toggleable__content pre {margin: 0.2em;color: black;border-radius: 0.25em;background-color: #f0f8ff;}#sk-container-id-1 input.sk-toggleable__control:checked~div.sk-toggleable__content {max-height: 200px;max-width: 100%;overflow: auto;}#sk-container-id-1 input.sk-toggleable__control:checked~label.sk-toggleable__label-arrow:before {content: \"▾\";}#sk-container-id-1 div.sk-estimator input.sk-toggleable__control:checked~label.sk-toggleable__label {background-color: #d4ebff;}#sk-container-id-1 div.sk-label input.sk-toggleable__control:checked~label.sk-toggleable__label {background-color: #d4ebff;}#sk-container-id-1 input.sk-hidden--visually {border: 0;clip: rect(1px 1px 1px 1px);clip: rect(1px, 1px, 1px, 1px);height: 1px;margin: -1px;overflow: hidden;padding: 0;position: absolute;width: 1px;}#sk-container-id-1 div.sk-estimator {font-family: monospace;background-color: #f0f8ff;border: 1px dotted black;border-radius: 0.25em;box-sizing: border-box;margin-bottom: 0.5em;}#sk-container-id-1 div.sk-estimator:hover {background-color: #d4ebff;}#sk-container-id-1 div.sk-parallel-item::after {content: \"\";width: 100%;border-bottom: 1px solid gray;flex-grow: 1;}#sk-container-id-1 div.sk-label:hover label.sk-toggleable__label {background-color: #d4ebff;}#sk-container-id-1 div.sk-serial::before {content: \"\";position: absolute;border-left: 1px solid gray;box-sizing: border-box;top: 0;bottom: 0;left: 50%;z-index: 0;}#sk-container-id-1 div.sk-serial {display: flex;flex-direction: column;align-items: center;background-color: white;padding-right: 0.2em;padding-left: 0.2em;position: relative;}#sk-container-id-1 div.sk-item {position: relative;z-index: 1;}#sk-container-id-1 div.sk-parallel {display: flex;align-items: stretch;justify-content: center;background-color: white;position: relative;}#sk-container-id-1 div.sk-item::before, #sk-container-id-1 div.sk-parallel-item::before {content: \"\";position: absolute;border-left: 1px solid gray;box-sizing: border-box;top: 0;bottom: 0;left: 50%;z-index: -1;}#sk-container-id-1 div.sk-parallel-item {display: flex;flex-direction: column;z-index: 1;position: relative;background-color: white;}#sk-container-id-1 div.sk-parallel-item:first-child::after {align-self: flex-end;width: 50%;}#sk-container-id-1 div.sk-parallel-item:last-child::after {align-self: flex-start;width: 50%;}#sk-container-id-1 div.sk-parallel-item:only-child::after {width: 0;}#sk-container-id-1 div.sk-dashed-wrapped {border: 1px dashed gray;margin: 0 0.4em 0.5em 0.4em;box-sizing: border-box;padding-bottom: 0.4em;background-color: white;}#sk-container-id-1 div.sk-label label {font-family: monospace;font-weight: bold;display: inline-block;line-height: 1.2em;}#sk-container-id-1 div.sk-label-container {text-align: center;}#sk-container-id-1 div.sk-container {/* jupyter's `normalize.less` sets `[hidden] { display: none; }` but bootstrap.min.css set `[hidden] { display: none !important; }` so we also need the `!important` here to be able to override the default hidden behavior on the sphinx rendered scikit-learn.org. See: https://github.com/scikit-learn/scikit-learn/issues/21755 */display: inline-block !important;position: relative;}#sk-container-id-1 div.sk-text-repr-fallback {display: none;}</style><div id=\"sk-container-id-1\" class=\"sk-top-container\"><div class=\"sk-text-repr-fallback\"><pre>NMF(n_components=10)</pre><b>In a Jupyter environment, please rerun this cell to show the HTML representation or trust the notebook. <br />On GitHub, the HTML representation is unable to render, please try loading this page with nbviewer.org.</b></div><div class=\"sk-container\" hidden><div class=\"sk-item\"><div class=\"sk-estimator sk-toggleable\"><input class=\"sk-toggleable__control sk-hidden--visually\" id=\"sk-estimator-id-1\" type=\"checkbox\" checked><label for=\"sk-estimator-id-1\" class=\"sk-toggleable__label sk-toggleable__label-arrow\">NMF</label><div class=\"sk-toggleable__content\"><pre>NMF(n_components=10)</pre></div></div></div></div></div>"
            ]
          },
          "metadata": {},
          "execution_count": 83
        }
      ],
      "source": [
        "#obtain a NMF model.\n",
        "modelNMF = NMF(n_components=10, init=None);\n",
        "#fit the model\n",
        "modelNMF.fit(xtfidf_norm)"
      ]
    },
    {
      "cell_type": "code",
      "execution_count": null,
      "id": "eef6cb03",
      "metadata": {
        "id": "eef6cb03",
        "colab": {
          "base_uri": "https://localhost:8080/"
        },
        "outputId": "cc53dfd1-551a-4a29-bb49-7d321ffd4504"
      },
      "outputs": [
        {
          "output_type": "stream",
          "name": "stderr",
          "text": [
            "/usr/local/lib/python3.10/dist-packages/ipykernel/ipkernel.py:283: DeprecationWarning: `should_run_async` will not call `transform_cell` automatically in the future. Please pass the result to `transformed_cell` argument and any exception that happen during thetransform in `preprocessing_exc_tuple` in IPython 7.17 and above.\n",
            "  and should_run_async(code)\n"
          ]
        }
      ],
      "source": [
        "def get_nmf_topics(modelNMF, n_top_words):\n",
        "\n",
        "    #the word ids obtained need to be reverse-mapped to the words so we can print the topic names.\n",
        "    feat_names = vectorizer.get_feature_names_out()\n",
        "\n",
        "    word_dict = {};\n",
        "    for i in range(10):\n",
        "\n",
        "        #for each topic, obtain the largest values, and add the words they map to into the dictionary.\n",
        "        words_ids = modelNMF.components_[i].argsort()[:-20 - 1:-1]\n",
        "        words = [feat_names[key] for key in words_ids]\n",
        "        word_dict['Topic # ' + '{:02d}'.format(i+1)] = words;\n",
        "\n",
        "    return pd.DataFrame(word_dict);"
      ]
    },
    {
      "cell_type": "code",
      "execution_count": null,
      "id": "70771dcd",
      "metadata": {
        "id": "70771dcd",
        "colab": {
          "base_uri": "https://localhost:8080/",
          "height": 732
        },
        "outputId": "a7eaf3ec-9e7b-4411-d56e-2aac942102ea"
      },
      "outputs": [
        {
          "output_type": "stream",
          "name": "stderr",
          "text": [
            "/usr/local/lib/python3.10/dist-packages/ipykernel/ipkernel.py:283: DeprecationWarning: `should_run_async` will not call `transform_cell` automatically in the future. Please pass the result to `transformed_cell` argument and any exception that happen during thetransform in `preprocessing_exc_tuple` in IPython 7.17 and above.\n",
            "  and should_run_async(code)\n"
          ]
        },
        {
          "output_type": "execute_result",
          "data": {
            "text/plain": [
              "   Topic # 01 Topic # 02 Topic # 03 Topic # 04 Topic # 05 Topic # 06  \\\n",
              "0         طلب        كود     استطاع   قدمتهفما      عندما    للدراسه   \n",
              "1        عداد    استفسار       مركز        شهر       الله      مراجع   \n",
              "2       ممارس        قال        ناس        حدث        ودي       مفيش   \n",
              "3         رقم       دراس        لاس      تحديد      تعليق        حال   \n",
              "4       تركيب        كلم      رساله    استطاعة      رساله    المشكله   \n",
              "5       تقديم       عداد        مال        على        على   كدهلماذا   \n",
              "6         اسم       حساب      تسجيل       سارق        كثر     كهرباء   \n",
              "7        محمد    استكمال       قبول        ملف      الخاص      أقساط   \n",
              "8        سلام       سابق      مساعد     استفيد       مفعل        لان   \n",
              "9        ارجو        نسى      زملاء       دائم       عمود    الشهريه   \n",
              "10        قدم      عندما       رسوم    الافادة     استكمل       مغلق   \n",
              "11        على       منزل    الايميل       مرور      تمليك      إثبات   \n",
              "12       منطق      تركيب       عداد   النليفون        لكم     الفتره   \n",
              "13        علم      معاين        حدث        ورى      اثناء       سابق   \n",
              "14        شكر       منطق   المعاينه       جوار      ممارس       بإسم   \n",
              "15        حال       حاول     كهرباء        دور        حمد        ملك   \n",
              "16        كلم        ودي       سابق       صحيح        باه       mabr   \n",
              "17      ايصال        رفض     مقايسة        رمض       جديد   عدادكودى   \n",
              "18        صور        حاج       قومى      اعادة       قومى      تقسيم   \n",
              "19       قومى       تقدم       سلام       عاوز        مال        ظهر   \n",
              "\n",
              "     Topic # 07 Topic # 08 Topic # 09    Topic # 10  \n",
              "0        الكودى       قابل       قومى           صفح  \n",
              "1       استخراج       محول      نرجوا         اعادة  \n",
              "2         تأجير         شق       مخزن           أتم  \n",
              "3          خدمة       مدون       وجود           ورى  \n",
              "4        مخافون       مقدم        صدر    الطيبالطيب  \n",
              "5        ارسلته      أولوي     اختيار         تقسيط  \n",
              "6   gmailcomرقم      تعاون    الدراسه  المواطنينحيث  \n",
              "7           جبى       انها        أخذ       السيستم  \n",
              "8          كتاب      تحديث         كد          كتير  \n",
              "9       بيقولوا      إرسال     قالولى           صلح  \n",
              "10          صحة        وقف        سجل         ممارس  \n",
              "11          هدم      الخاص       بناء           قرب  \n",
              "12          رغم        عقد       تحية      المطلوبه  \n",
              "13        تواصل       شديد        ونى         نموذج  \n",
              "14         مفيش       دراس    فقلتلهم           كار  \n",
              "15         مقدم      محاول        رجا         مخالف  \n",
              "16        خسابى      ممارس        برض          مفيش  \n",
              "17         ناقص   عدادكودى      تقدير         اكتشف  \n",
              "18        بطريق    المشكله     بايصال     عدادتفانا  \n",
              "19         جوار      بطريق      رساله          مقاس  "
            ],
            "text/html": [
              "\n",
              "  <div id=\"df-7ae641a7-7d2d-45f9-bcd7-b8807d428678\" class=\"colab-df-container\">\n",
              "    <div>\n",
              "<style scoped>\n",
              "    .dataframe tbody tr th:only-of-type {\n",
              "        vertical-align: middle;\n",
              "    }\n",
              "\n",
              "    .dataframe tbody tr th {\n",
              "        vertical-align: top;\n",
              "    }\n",
              "\n",
              "    .dataframe thead th {\n",
              "        text-align: right;\n",
              "    }\n",
              "</style>\n",
              "<table border=\"1\" class=\"dataframe\">\n",
              "  <thead>\n",
              "    <tr style=\"text-align: right;\">\n",
              "      <th></th>\n",
              "      <th>Topic # 01</th>\n",
              "      <th>Topic # 02</th>\n",
              "      <th>Topic # 03</th>\n",
              "      <th>Topic # 04</th>\n",
              "      <th>Topic # 05</th>\n",
              "      <th>Topic # 06</th>\n",
              "      <th>Topic # 07</th>\n",
              "      <th>Topic # 08</th>\n",
              "      <th>Topic # 09</th>\n",
              "      <th>Topic # 10</th>\n",
              "    </tr>\n",
              "  </thead>\n",
              "  <tbody>\n",
              "    <tr>\n",
              "      <th>0</th>\n",
              "      <td>طلب</td>\n",
              "      <td>كود</td>\n",
              "      <td>استطاع</td>\n",
              "      <td>قدمتهفما</td>\n",
              "      <td>عندما</td>\n",
              "      <td>للدراسه</td>\n",
              "      <td>الكودى</td>\n",
              "      <td>قابل</td>\n",
              "      <td>قومى</td>\n",
              "      <td>صفح</td>\n",
              "    </tr>\n",
              "    <tr>\n",
              "      <th>1</th>\n",
              "      <td>عداد</td>\n",
              "      <td>استفسار</td>\n",
              "      <td>مركز</td>\n",
              "      <td>شهر</td>\n",
              "      <td>الله</td>\n",
              "      <td>مراجع</td>\n",
              "      <td>استخراج</td>\n",
              "      <td>محول</td>\n",
              "      <td>نرجوا</td>\n",
              "      <td>اعادة</td>\n",
              "    </tr>\n",
              "    <tr>\n",
              "      <th>2</th>\n",
              "      <td>ممارس</td>\n",
              "      <td>قال</td>\n",
              "      <td>ناس</td>\n",
              "      <td>حدث</td>\n",
              "      <td>ودي</td>\n",
              "      <td>مفيش</td>\n",
              "      <td>تأجير</td>\n",
              "      <td>شق</td>\n",
              "      <td>مخزن</td>\n",
              "      <td>أتم</td>\n",
              "    </tr>\n",
              "    <tr>\n",
              "      <th>3</th>\n",
              "      <td>رقم</td>\n",
              "      <td>دراس</td>\n",
              "      <td>لاس</td>\n",
              "      <td>تحديد</td>\n",
              "      <td>تعليق</td>\n",
              "      <td>حال</td>\n",
              "      <td>خدمة</td>\n",
              "      <td>مدون</td>\n",
              "      <td>وجود</td>\n",
              "      <td>ورى</td>\n",
              "    </tr>\n",
              "    <tr>\n",
              "      <th>4</th>\n",
              "      <td>تركيب</td>\n",
              "      <td>كلم</td>\n",
              "      <td>رساله</td>\n",
              "      <td>استطاعة</td>\n",
              "      <td>رساله</td>\n",
              "      <td>المشكله</td>\n",
              "      <td>مخافون</td>\n",
              "      <td>مقدم</td>\n",
              "      <td>صدر</td>\n",
              "      <td>الطيبالطيب</td>\n",
              "    </tr>\n",
              "    <tr>\n",
              "      <th>5</th>\n",
              "      <td>تقديم</td>\n",
              "      <td>عداد</td>\n",
              "      <td>مال</td>\n",
              "      <td>على</td>\n",
              "      <td>على</td>\n",
              "      <td>كدهلماذا</td>\n",
              "      <td>ارسلته</td>\n",
              "      <td>أولوي</td>\n",
              "      <td>اختيار</td>\n",
              "      <td>تقسيط</td>\n",
              "    </tr>\n",
              "    <tr>\n",
              "      <th>6</th>\n",
              "      <td>اسم</td>\n",
              "      <td>حساب</td>\n",
              "      <td>تسجيل</td>\n",
              "      <td>سارق</td>\n",
              "      <td>كثر</td>\n",
              "      <td>كهرباء</td>\n",
              "      <td>gmailcomرقم</td>\n",
              "      <td>تعاون</td>\n",
              "      <td>الدراسه</td>\n",
              "      <td>المواطنينحيث</td>\n",
              "    </tr>\n",
              "    <tr>\n",
              "      <th>7</th>\n",
              "      <td>محمد</td>\n",
              "      <td>استكمال</td>\n",
              "      <td>قبول</td>\n",
              "      <td>ملف</td>\n",
              "      <td>الخاص</td>\n",
              "      <td>أقساط</td>\n",
              "      <td>جبى</td>\n",
              "      <td>انها</td>\n",
              "      <td>أخذ</td>\n",
              "      <td>السيستم</td>\n",
              "    </tr>\n",
              "    <tr>\n",
              "      <th>8</th>\n",
              "      <td>سلام</td>\n",
              "      <td>سابق</td>\n",
              "      <td>مساعد</td>\n",
              "      <td>استفيد</td>\n",
              "      <td>مفعل</td>\n",
              "      <td>لان</td>\n",
              "      <td>كتاب</td>\n",
              "      <td>تحديث</td>\n",
              "      <td>كد</td>\n",
              "      <td>كتير</td>\n",
              "    </tr>\n",
              "    <tr>\n",
              "      <th>9</th>\n",
              "      <td>ارجو</td>\n",
              "      <td>نسى</td>\n",
              "      <td>زملاء</td>\n",
              "      <td>دائم</td>\n",
              "      <td>عمود</td>\n",
              "      <td>الشهريه</td>\n",
              "      <td>بيقولوا</td>\n",
              "      <td>إرسال</td>\n",
              "      <td>قالولى</td>\n",
              "      <td>صلح</td>\n",
              "    </tr>\n",
              "    <tr>\n",
              "      <th>10</th>\n",
              "      <td>قدم</td>\n",
              "      <td>عندما</td>\n",
              "      <td>رسوم</td>\n",
              "      <td>الافادة</td>\n",
              "      <td>استكمل</td>\n",
              "      <td>مغلق</td>\n",
              "      <td>صحة</td>\n",
              "      <td>وقف</td>\n",
              "      <td>سجل</td>\n",
              "      <td>ممارس</td>\n",
              "    </tr>\n",
              "    <tr>\n",
              "      <th>11</th>\n",
              "      <td>على</td>\n",
              "      <td>منزل</td>\n",
              "      <td>الايميل</td>\n",
              "      <td>مرور</td>\n",
              "      <td>تمليك</td>\n",
              "      <td>إثبات</td>\n",
              "      <td>هدم</td>\n",
              "      <td>الخاص</td>\n",
              "      <td>بناء</td>\n",
              "      <td>قرب</td>\n",
              "    </tr>\n",
              "    <tr>\n",
              "      <th>12</th>\n",
              "      <td>منطق</td>\n",
              "      <td>تركيب</td>\n",
              "      <td>عداد</td>\n",
              "      <td>النليفون</td>\n",
              "      <td>لكم</td>\n",
              "      <td>الفتره</td>\n",
              "      <td>رغم</td>\n",
              "      <td>عقد</td>\n",
              "      <td>تحية</td>\n",
              "      <td>المطلوبه</td>\n",
              "    </tr>\n",
              "    <tr>\n",
              "      <th>13</th>\n",
              "      <td>علم</td>\n",
              "      <td>معاين</td>\n",
              "      <td>حدث</td>\n",
              "      <td>ورى</td>\n",
              "      <td>اثناء</td>\n",
              "      <td>سابق</td>\n",
              "      <td>تواصل</td>\n",
              "      <td>شديد</td>\n",
              "      <td>ونى</td>\n",
              "      <td>نموذج</td>\n",
              "    </tr>\n",
              "    <tr>\n",
              "      <th>14</th>\n",
              "      <td>شكر</td>\n",
              "      <td>منطق</td>\n",
              "      <td>المعاينه</td>\n",
              "      <td>جوار</td>\n",
              "      <td>ممارس</td>\n",
              "      <td>بإسم</td>\n",
              "      <td>مفيش</td>\n",
              "      <td>دراس</td>\n",
              "      <td>فقلتلهم</td>\n",
              "      <td>كار</td>\n",
              "    </tr>\n",
              "    <tr>\n",
              "      <th>15</th>\n",
              "      <td>حال</td>\n",
              "      <td>حاول</td>\n",
              "      <td>كهرباء</td>\n",
              "      <td>دور</td>\n",
              "      <td>حمد</td>\n",
              "      <td>ملك</td>\n",
              "      <td>مقدم</td>\n",
              "      <td>محاول</td>\n",
              "      <td>رجا</td>\n",
              "      <td>مخالف</td>\n",
              "    </tr>\n",
              "    <tr>\n",
              "      <th>16</th>\n",
              "      <td>كلم</td>\n",
              "      <td>ودي</td>\n",
              "      <td>سابق</td>\n",
              "      <td>صحيح</td>\n",
              "      <td>باه</td>\n",
              "      <td>mabr</td>\n",
              "      <td>خسابى</td>\n",
              "      <td>ممارس</td>\n",
              "      <td>برض</td>\n",
              "      <td>مفيش</td>\n",
              "    </tr>\n",
              "    <tr>\n",
              "      <th>17</th>\n",
              "      <td>ايصال</td>\n",
              "      <td>رفض</td>\n",
              "      <td>مقايسة</td>\n",
              "      <td>رمض</td>\n",
              "      <td>جديد</td>\n",
              "      <td>عدادكودى</td>\n",
              "      <td>ناقص</td>\n",
              "      <td>عدادكودى</td>\n",
              "      <td>تقدير</td>\n",
              "      <td>اكتشف</td>\n",
              "    </tr>\n",
              "    <tr>\n",
              "      <th>18</th>\n",
              "      <td>صور</td>\n",
              "      <td>حاج</td>\n",
              "      <td>قومى</td>\n",
              "      <td>اعادة</td>\n",
              "      <td>قومى</td>\n",
              "      <td>تقسيم</td>\n",
              "      <td>بطريق</td>\n",
              "      <td>المشكله</td>\n",
              "      <td>بايصال</td>\n",
              "      <td>عدادتفانا</td>\n",
              "    </tr>\n",
              "    <tr>\n",
              "      <th>19</th>\n",
              "      <td>قومى</td>\n",
              "      <td>تقدم</td>\n",
              "      <td>سلام</td>\n",
              "      <td>عاوز</td>\n",
              "      <td>مال</td>\n",
              "      <td>ظهر</td>\n",
              "      <td>جوار</td>\n",
              "      <td>بطريق</td>\n",
              "      <td>رساله</td>\n",
              "      <td>مقاس</td>\n",
              "    </tr>\n",
              "  </tbody>\n",
              "</table>\n",
              "</div>\n",
              "    <div class=\"colab-df-buttons\">\n",
              "\n",
              "  <div class=\"colab-df-container\">\n",
              "    <button class=\"colab-df-convert\" onclick=\"convertToInteractive('df-7ae641a7-7d2d-45f9-bcd7-b8807d428678')\"\n",
              "            title=\"Convert this dataframe to an interactive table.\"\n",
              "            style=\"display:none;\">\n",
              "\n",
              "  <svg xmlns=\"http://www.w3.org/2000/svg\" height=\"24px\" viewBox=\"0 -960 960 960\">\n",
              "    <path d=\"M120-120v-720h720v720H120Zm60-500h600v-160H180v160Zm220 220h160v-160H400v160Zm0 220h160v-160H400v160ZM180-400h160v-160H180v160Zm440 0h160v-160H620v160ZM180-180h160v-160H180v160Zm440 0h160v-160H620v160Z\"/>\n",
              "  </svg>\n",
              "    </button>\n",
              "\n",
              "  <style>\n",
              "    .colab-df-container {\n",
              "      display:flex;\n",
              "      gap: 12px;\n",
              "    }\n",
              "\n",
              "    .colab-df-convert {\n",
              "      background-color: #E8F0FE;\n",
              "      border: none;\n",
              "      border-radius: 50%;\n",
              "      cursor: pointer;\n",
              "      display: none;\n",
              "      fill: #1967D2;\n",
              "      height: 32px;\n",
              "      padding: 0 0 0 0;\n",
              "      width: 32px;\n",
              "    }\n",
              "\n",
              "    .colab-df-convert:hover {\n",
              "      background-color: #E2EBFA;\n",
              "      box-shadow: 0px 1px 2px rgba(60, 64, 67, 0.3), 0px 1px 3px 1px rgba(60, 64, 67, 0.15);\n",
              "      fill: #174EA6;\n",
              "    }\n",
              "\n",
              "    .colab-df-buttons div {\n",
              "      margin-bottom: 4px;\n",
              "    }\n",
              "\n",
              "    [theme=dark] .colab-df-convert {\n",
              "      background-color: #3B4455;\n",
              "      fill: #D2E3FC;\n",
              "    }\n",
              "\n",
              "    [theme=dark] .colab-df-convert:hover {\n",
              "      background-color: #434B5C;\n",
              "      box-shadow: 0px 1px 3px 1px rgba(0, 0, 0, 0.15);\n",
              "      filter: drop-shadow(0px 1px 2px rgba(0, 0, 0, 0.3));\n",
              "      fill: #FFFFFF;\n",
              "    }\n",
              "  </style>\n",
              "\n",
              "    <script>\n",
              "      const buttonEl =\n",
              "        document.querySelector('#df-7ae641a7-7d2d-45f9-bcd7-b8807d428678 button.colab-df-convert');\n",
              "      buttonEl.style.display =\n",
              "        google.colab.kernel.accessAllowed ? 'block' : 'none';\n",
              "\n",
              "      async function convertToInteractive(key) {\n",
              "        const element = document.querySelector('#df-7ae641a7-7d2d-45f9-bcd7-b8807d428678');\n",
              "        const dataTable =\n",
              "          await google.colab.kernel.invokeFunction('convertToInteractive',\n",
              "                                                    [key], {});\n",
              "        if (!dataTable) return;\n",
              "\n",
              "        const docLinkHtml = 'Like what you see? Visit the ' +\n",
              "          '<a target=\"_blank\" href=https://colab.research.google.com/notebooks/data_table.ipynb>data table notebook</a>'\n",
              "          + ' to learn more about interactive tables.';\n",
              "        element.innerHTML = '';\n",
              "        dataTable['output_type'] = 'display_data';\n",
              "        await google.colab.output.renderOutput(dataTable, element);\n",
              "        const docLink = document.createElement('div');\n",
              "        docLink.innerHTML = docLinkHtml;\n",
              "        element.appendChild(docLink);\n",
              "      }\n",
              "    </script>\n",
              "  </div>\n",
              "\n",
              "\n",
              "<div id=\"df-4f633a2f-0985-486d-a17b-754f0706baa5\">\n",
              "  <button class=\"colab-df-quickchart\" onclick=\"quickchart('df-4f633a2f-0985-486d-a17b-754f0706baa5')\"\n",
              "            title=\"Suggest charts\"\n",
              "            style=\"display:none;\">\n",
              "\n",
              "<svg xmlns=\"http://www.w3.org/2000/svg\" height=\"24px\"viewBox=\"0 0 24 24\"\n",
              "     width=\"24px\">\n",
              "    <g>\n",
              "        <path d=\"M19 3H5c-1.1 0-2 .9-2 2v14c0 1.1.9 2 2 2h14c1.1 0 2-.9 2-2V5c0-1.1-.9-2-2-2zM9 17H7v-7h2v7zm4 0h-2V7h2v10zm4 0h-2v-4h2v4z\"/>\n",
              "    </g>\n",
              "</svg>\n",
              "  </button>\n",
              "\n",
              "<style>\n",
              "  .colab-df-quickchart {\n",
              "      --bg-color: #E8F0FE;\n",
              "      --fill-color: #1967D2;\n",
              "      --hover-bg-color: #E2EBFA;\n",
              "      --hover-fill-color: #174EA6;\n",
              "      --disabled-fill-color: #AAA;\n",
              "      --disabled-bg-color: #DDD;\n",
              "  }\n",
              "\n",
              "  [theme=dark] .colab-df-quickchart {\n",
              "      --bg-color: #3B4455;\n",
              "      --fill-color: #D2E3FC;\n",
              "      --hover-bg-color: #434B5C;\n",
              "      --hover-fill-color: #FFFFFF;\n",
              "      --disabled-bg-color: #3B4455;\n",
              "      --disabled-fill-color: #666;\n",
              "  }\n",
              "\n",
              "  .colab-df-quickchart {\n",
              "    background-color: var(--bg-color);\n",
              "    border: none;\n",
              "    border-radius: 50%;\n",
              "    cursor: pointer;\n",
              "    display: none;\n",
              "    fill: var(--fill-color);\n",
              "    height: 32px;\n",
              "    padding: 0;\n",
              "    width: 32px;\n",
              "  }\n",
              "\n",
              "  .colab-df-quickchart:hover {\n",
              "    background-color: var(--hover-bg-color);\n",
              "    box-shadow: 0 1px 2px rgba(60, 64, 67, 0.3), 0 1px 3px 1px rgba(60, 64, 67, 0.15);\n",
              "    fill: var(--button-hover-fill-color);\n",
              "  }\n",
              "\n",
              "  .colab-df-quickchart-complete:disabled,\n",
              "  .colab-df-quickchart-complete:disabled:hover {\n",
              "    background-color: var(--disabled-bg-color);\n",
              "    fill: var(--disabled-fill-color);\n",
              "    box-shadow: none;\n",
              "  }\n",
              "\n",
              "  .colab-df-spinner {\n",
              "    border: 2px solid var(--fill-color);\n",
              "    border-color: transparent;\n",
              "    border-bottom-color: var(--fill-color);\n",
              "    animation:\n",
              "      spin 1s steps(1) infinite;\n",
              "  }\n",
              "\n",
              "  @keyframes spin {\n",
              "    0% {\n",
              "      border-color: transparent;\n",
              "      border-bottom-color: var(--fill-color);\n",
              "      border-left-color: var(--fill-color);\n",
              "    }\n",
              "    20% {\n",
              "      border-color: transparent;\n",
              "      border-left-color: var(--fill-color);\n",
              "      border-top-color: var(--fill-color);\n",
              "    }\n",
              "    30% {\n",
              "      border-color: transparent;\n",
              "      border-left-color: var(--fill-color);\n",
              "      border-top-color: var(--fill-color);\n",
              "      border-right-color: var(--fill-color);\n",
              "    }\n",
              "    40% {\n",
              "      border-color: transparent;\n",
              "      border-right-color: var(--fill-color);\n",
              "      border-top-color: var(--fill-color);\n",
              "    }\n",
              "    60% {\n",
              "      border-color: transparent;\n",
              "      border-right-color: var(--fill-color);\n",
              "    }\n",
              "    80% {\n",
              "      border-color: transparent;\n",
              "      border-right-color: var(--fill-color);\n",
              "      border-bottom-color: var(--fill-color);\n",
              "    }\n",
              "    90% {\n",
              "      border-color: transparent;\n",
              "      border-bottom-color: var(--fill-color);\n",
              "    }\n",
              "  }\n",
              "</style>\n",
              "\n",
              "  <script>\n",
              "    async function quickchart(key) {\n",
              "      const quickchartButtonEl =\n",
              "        document.querySelector('#' + key + ' button');\n",
              "      quickchartButtonEl.disabled = true;  // To prevent multiple clicks.\n",
              "      quickchartButtonEl.classList.add('colab-df-spinner');\n",
              "      try {\n",
              "        const charts = await google.colab.kernel.invokeFunction(\n",
              "            'suggestCharts', [key], {});\n",
              "      } catch (error) {\n",
              "        console.error('Error during call to suggestCharts:', error);\n",
              "      }\n",
              "      quickchartButtonEl.classList.remove('colab-df-spinner');\n",
              "      quickchartButtonEl.classList.add('colab-df-quickchart-complete');\n",
              "    }\n",
              "    (() => {\n",
              "      let quickchartButtonEl =\n",
              "        document.querySelector('#df-4f633a2f-0985-486d-a17b-754f0706baa5 button');\n",
              "      quickchartButtonEl.style.display =\n",
              "        google.colab.kernel.accessAllowed ? 'block' : 'none';\n",
              "    })();\n",
              "  </script>\n",
              "</div>\n",
              "    </div>\n",
              "  </div>\n"
            ]
          },
          "metadata": {},
          "execution_count": 87
        }
      ],
      "source": [
        "get_nmf_topics(modelNMF, 20)"
      ]
    },
    {
      "cell_type": "code",
      "execution_count": null,
      "id": "9db36348",
      "metadata": {
        "id": "9db36348",
        "colab": {
          "base_uri": "https://localhost:8080/"
        },
        "outputId": "3f8fa618-30f1-4fa3-ff79-a13fc0facacd"
      },
      "outputs": [
        {
          "output_type": "stream",
          "name": "stderr",
          "text": [
            "/usr/local/lib/python3.10/dist-packages/ipykernel/ipkernel.py:283: DeprecationWarning: `should_run_async` will not call `transform_cell` automatically in the future. Please pass the result to `transformed_cell` argument and any exception that happen during thetransform in `preprocessing_exc_tuple` in IPython 7.17 and above.\n",
            "  and should_run_async(code)\n",
            "/usr/local/lib/python3.10/dist-packages/gensim/models/nmf.py:578: DeprecationWarning: Please use `csc_matrix` from the `scipy.sparse` namespace, the `scipy.sparse.csc` namespace is deprecated.\n",
            "  if isinstance(corpus, scipy.sparse.csc.csc_matrix):\n",
            "/usr/local/lib/python3.10/dist-packages/gensim/models/nmf.py:607: DeprecationWarning: Please use `csc_matrix` from the `scipy.sparse` namespace, the `scipy.sparse.csc` namespace is deprecated.\n",
            "  if isinstance(corpus, scipy.sparse.csc.csc_matrix):\n",
            "/usr/local/lib/python3.10/dist-packages/gensim/models/nmf.py:620: DeprecationWarning: Please use `csc_matrix` from the `scipy.sparse` namespace, the `scipy.sparse.csc` namespace is deprecated.\n",
            "  if isinstance(corpus, scipy.sparse.csc.csc_matrix):\n",
            "/usr/local/lib/python3.10/dist-packages/gensim/models/nmf.py:607: DeprecationWarning: Please use `csc_matrix` from the `scipy.sparse` namespace, the `scipy.sparse.csc` namespace is deprecated.\n",
            "  if isinstance(corpus, scipy.sparse.csc.csc_matrix):\n",
            "/usr/local/lib/python3.10/dist-packages/gensim/models/nmf.py:620: DeprecationWarning: Please use `csc_matrix` from the `scipy.sparse` namespace, the `scipy.sparse.csc` namespace is deprecated.\n",
            "  if isinstance(corpus, scipy.sparse.csc.csc_matrix):\n",
            "/usr/local/lib/python3.10/dist-packages/gensim/models/nmf.py:607: DeprecationWarning: Please use `csc_matrix` from the `scipy.sparse` namespace, the `scipy.sparse.csc` namespace is deprecated.\n",
            "  if isinstance(corpus, scipy.sparse.csc.csc_matrix):\n",
            "/usr/local/lib/python3.10/dist-packages/gensim/models/nmf.py:620: DeprecationWarning: Please use `csc_matrix` from the `scipy.sparse` namespace, the `scipy.sparse.csc` namespace is deprecated.\n",
            "  if isinstance(corpus, scipy.sparse.csc.csc_matrix):\n",
            "/usr/local/lib/python3.10/dist-packages/gensim/models/nmf.py:607: DeprecationWarning: Please use `csc_matrix` from the `scipy.sparse` namespace, the `scipy.sparse.csc` namespace is deprecated.\n",
            "  if isinstance(corpus, scipy.sparse.csc.csc_matrix):\n",
            "/usr/local/lib/python3.10/dist-packages/gensim/models/nmf.py:620: DeprecationWarning: Please use `csc_matrix` from the `scipy.sparse` namespace, the `scipy.sparse.csc` namespace is deprecated.\n",
            "  if isinstance(corpus, scipy.sparse.csc.csc_matrix):\n",
            "/usr/local/lib/python3.10/dist-packages/gensim/models/nmf.py:607: DeprecationWarning: Please use `csc_matrix` from the `scipy.sparse` namespace, the `scipy.sparse.csc` namespace is deprecated.\n",
            "  if isinstance(corpus, scipy.sparse.csc.csc_matrix):\n",
            "/usr/local/lib/python3.10/dist-packages/gensim/models/nmf.py:620: DeprecationWarning: Please use `csc_matrix` from the `scipy.sparse` namespace, the `scipy.sparse.csc` namespace is deprecated.\n",
            "  if isinstance(corpus, scipy.sparse.csc.csc_matrix):\n"
          ]
        }
      ],
      "source": [
        "\n",
        "nmf = GensimNmf(\n",
        "    corpus=bow_corpus,\n",
        "    num_topics=5,\n",
        "    id2word=dictionary,\n",
        "    chunksize=1000,\n",
        "    passes=5,\n",
        "    eval_every=10,\n",
        "    minimum_probability=0,\n",
        "    random_state=0,\n",
        "    kappa=1,\n",
        ")"
      ]
    },
    {
      "cell_type": "markdown",
      "id": "ae31a0b4",
      "metadata": {
        "id": "ae31a0b4"
      },
      "source": [
        "### NMF coherence with Umass"
      ]
    },
    {
      "cell_type": "code",
      "execution_count": null,
      "id": "c1b6cd39",
      "metadata": {
        "id": "c1b6cd39",
        "colab": {
          "base_uri": "https://localhost:8080/"
        },
        "outputId": "4c93f616-d0f4-47d0-d385-c47ddf22e9c4"
      },
      "outputs": [
        {
          "output_type": "stream",
          "name": "stdout",
          "text": [
            "\n",
            "Coherence Score u_mass:  -4.323521325705409\n"
          ]
        },
        {
          "output_type": "stream",
          "name": "stderr",
          "text": [
            "/usr/local/lib/python3.10/dist-packages/ipykernel/ipkernel.py:283: DeprecationWarning: `should_run_async` will not call `transform_cell` automatically in the future. Please pass the result to `transformed_cell` argument and any exception that happen during thetransform in `preprocessing_exc_tuple` in IPython 7.17 and above.\n",
            "  and should_run_async(code)\n"
          ]
        }
      ],
      "source": [
        "cm = CoherenceModel(model=nmf,dictionary=id2word, corpus=bow_corpus, coherence='u_mass')\n",
        "nmf_coherence_uMass = cm.get_coherence()\n",
        "print('\\nCoherence Score u_mass: ', nmf_coherence_uMass)"
      ]
    },
    {
      "cell_type": "markdown",
      "id": "f6ef107d",
      "metadata": {
        "id": "f6ef107d"
      },
      "source": [
        "### NMF coherence with C_nmpi"
      ]
    },
    {
      "cell_type": "code",
      "execution_count": null,
      "id": "22ca1a35",
      "metadata": {
        "id": "22ca1a35",
        "colab": {
          "base_uri": "https://localhost:8080/"
        },
        "outputId": "ab76ae08-40d7-4235-88a1-db2bd671338b"
      },
      "outputs": [
        {
          "output_type": "stream",
          "name": "stderr",
          "text": [
            "/usr/local/lib/python3.10/dist-packages/ipykernel/ipkernel.py:283: DeprecationWarning: `should_run_async` will not call `transform_cell` automatically in the future. Please pass the result to `transformed_cell` argument and any exception that happen during thetransform in `preprocessing_exc_tuple` in IPython 7.17 and above.\n",
            "  and should_run_async(code)\n"
          ]
        },
        {
          "output_type": "stream",
          "name": "stdout",
          "text": [
            "\n",
            "Coherence Score c_npmi:  -0.24881150682721237\n"
          ]
        }
      ],
      "source": [
        "documents = data['text'].values\n",
        "texts = [[word for word in str(document).split()] for document in documents]\n",
        "id2word = corpora.Dictionary(texts)\n",
        "corpus = [id2word.doc2bow(text) for text in texts]\n",
        "\n",
        "cm = CoherenceModel(model=nmf,texts=texts,dictionary=id2word, corpus=bow_corpus, coherence='c_npmi')\n",
        "nmf_coherence_cnmpi = cm.get_coherence()\n",
        "print('\\nCoherence Score c_npmi: ', nmf_coherence_cnmpi)"
      ]
    },
    {
      "cell_type": "markdown",
      "id": "dd3ffe2c",
      "metadata": {
        "id": "dd3ffe2c"
      },
      "source": [
        "### NMF coherence with c_uci"
      ]
    },
    {
      "cell_type": "code",
      "execution_count": null,
      "id": "9dfef19b",
      "metadata": {
        "id": "9dfef19b",
        "colab": {
          "base_uri": "https://localhost:8080/"
        },
        "outputId": "8ca1630c-d92f-4623-cf43-804e21198ba5"
      },
      "outputs": [
        {
          "output_type": "stream",
          "name": "stderr",
          "text": [
            "/usr/local/lib/python3.10/dist-packages/ipykernel/ipkernel.py:283: DeprecationWarning: `should_run_async` will not call `transform_cell` automatically in the future. Please pass the result to `transformed_cell` argument and any exception that happen during thetransform in `preprocessing_exc_tuple` in IPython 7.17 and above.\n",
            "  and should_run_async(code)\n"
          ]
        },
        {
          "output_type": "stream",
          "name": "stdout",
          "text": [
            "\n",
            "Coherence Score c_uci:  -7.035551143769361\n"
          ]
        }
      ],
      "source": [
        "documents = data['text'].values\n",
        "texts = [[word for word in str(document).split()] for document in documents]\n",
        "id2word = corpora.Dictionary(texts)\n",
        "corpus = [id2word.doc2bow(text) for text in texts]\n",
        "cm = CoherenceModel(model=nmf,texts=texts,dictionary=id2word, corpus=bow_corpus, coherence='c_uci')\n",
        "nmf_coherence_cuci = cm.get_coherence()\n",
        "print('\\nCoherence Score c_uci: ', nmf_coherence_cuci)"
      ]
    },
    {
      "cell_type": "markdown",
      "id": "7f7b4dd2",
      "metadata": {
        "id": "7f7b4dd2"
      },
      "source": [
        "### NMF coherence with cv"
      ]
    },
    {
      "cell_type": "code",
      "execution_count": null,
      "id": "27108f60",
      "metadata": {
        "id": "27108f60",
        "colab": {
          "base_uri": "https://localhost:8080/"
        },
        "outputId": "3f5afab4-027d-4d59-b117-9aa36a2538de"
      },
      "outputs": [
        {
          "output_type": "stream",
          "name": "stderr",
          "text": [
            "/usr/local/lib/python3.10/dist-packages/ipykernel/ipkernel.py:283: DeprecationWarning: `should_run_async` will not call `transform_cell` automatically in the future. Please pass the result to `transformed_cell` argument and any exception that happen during thetransform in `preprocessing_exc_tuple` in IPython 7.17 and above.\n",
            "  and should_run_async(code)\n"
          ]
        },
        {
          "output_type": "stream",
          "name": "stdout",
          "text": [
            "\n",
            "Coherence Score c_cv:  0.4408594769871198\n"
          ]
        }
      ],
      "source": [
        "documents = data['text'].values\n",
        "texts = [[word for word in str(document).split()] for document in documents]\n",
        "id2word = corpora.Dictionary(texts)\n",
        "corpus = [id2word.doc2bow(text) for text in texts]\n",
        "cm = CoherenceModel(model=nmf,texts=texts,dictionary=id2word, corpus=bow_corpus, coherence='c_v')\n",
        "nmf_coherence_cv = cm.get_coherence()\n",
        "print('\\nCoherence Score c_cv: ', nmf_coherence_cv)"
      ]
    },
    {
      "cell_type": "markdown",
      "id": "woLQ5TeTVufs",
      "metadata": {
        "id": "woLQ5TeTVufs"
      },
      "source": [
        "# 7- Pachinko allocation (PAM)"
      ]
    },
    {
      "cell_type": "code",
      "execution_count": null,
      "id": "UNi4gHUllcbY",
      "metadata": {
        "id": "UNi4gHUllcbY",
        "scrolled": false,
        "colab": {
          "base_uri": "https://localhost:8080/"
        },
        "outputId": "060a4628-0aa1-4813-dabe-b74edc1caf37"
      },
      "outputs": [
        {
          "output_type": "stream",
          "name": "stdout",
          "text": [
            "Iteration: 10\tLog-likelihood: -8.33607533250225\n"
          ]
        },
        {
          "output_type": "stream",
          "name": "stderr",
          "text": [
            "/usr/local/lib/python3.10/dist-packages/ipykernel/ipkernel.py:283: DeprecationWarning: `should_run_async` will not call `transform_cell` automatically in the future. Please pass the result to `transformed_cell` argument and any exception that happen during thetransform in `preprocessing_exc_tuple` in IPython 7.17 and above.\n",
            "  and should_run_async(code)\n"
          ]
        },
        {
          "output_type": "stream",
          "name": "stdout",
          "text": [
            "Iteration: 20\tLog-likelihood: -8.242699589968531\n",
            "Iteration: 30\tLog-likelihood: -8.077643691060263\n",
            "Iteration: 40\tLog-likelihood: -8.052044453575999\n",
            "Iteration: 50\tLog-likelihood: -8.117949128698854\n",
            "Iteration: 60\tLog-likelihood: -8.108279428083549\n",
            "Iteration: 70\tLog-likelihood: -8.052737285180813\n",
            "Iteration: 80\tLog-likelihood: -8.046791249898439\n",
            "Iteration: 90\tLog-likelihood: -8.066799302274617\n",
            "Top 10 words of topic #0\n",
            "[(\"'رجاء',\", 0.11833038181066513), (\"'صفح',\", 0.05926363170146942), (\"'مستند',\", 0.05926363170146942), (\"'ميل',\", 0.039574719965457916), (\"'باه',\", 0.039574719965457916), (\"'ظهر',\", 0.039574719965457916), (\"'كامل',\", 0.039574719965457916), (\"'شرط',\", 0.039574719965457916), (\"'ألزم',\", 0.019885804504156113), (\"'احتمال',\", 0.019885804504156113)]\n",
            "Top 10 words of topic #1\n",
            "[(\"'رجاء',\", 0.11833038181066513), (\"'صفح',\", 0.05926363170146942), (\"'مستند',\", 0.05926363170146942), (\"'ميل',\", 0.039574719965457916), (\"'باه',\", 0.039574719965457916), (\"'ظهر',\", 0.039574719965457916), (\"'كامل',\", 0.039574719965457916), (\"'شرط',\", 0.039574719965457916), (\"'ألزم',\", 0.019885804504156113), (\"'احتمال',\", 0.019885804504156113)]\n",
            "Top 10 words of topic #2\n",
            "[(\"'رجاء',\", 0.11833038181066513), (\"'صفح',\", 0.05926363170146942), (\"'مستند',\", 0.05926363170146942), (\"'ميل',\", 0.039574719965457916), (\"'باه',\", 0.039574719965457916), (\"'ظهر',\", 0.039574719965457916), (\"'كامل',\", 0.039574719965457916), (\"'شرط',\", 0.039574719965457916), (\"'ألزم',\", 0.019885804504156113), (\"'احتمال',\", 0.019885804504156113)]\n",
            "Top 10 words of topic #3\n",
            "[(\"'رجاء',\", 0.11833038181066513), (\"'صفح',\", 0.05926363170146942), (\"'مستند',\", 0.05926363170146942), (\"'ميل',\", 0.039574719965457916), (\"'باه',\", 0.039574719965457916), (\"'ظهر',\", 0.039574719965457916), (\"'كامل',\", 0.039574719965457916), (\"'شرط',\", 0.039574719965457916), (\"'ألزم',\", 0.019885804504156113), (\"'احتمال',\", 0.019885804504156113)]\n",
            "Top 10 words of topic #4\n",
            "[(\"'رجاء',\", 0.11833038181066513), (\"'صفح',\", 0.05926363170146942), (\"'مستند',\", 0.05926363170146942), (\"'ميل',\", 0.039574719965457916), (\"'باه',\", 0.039574719965457916), (\"'ظهر',\", 0.039574719965457916), (\"'كامل',\", 0.039574719965457916), (\"'شرط',\", 0.039574719965457916), (\"'ألزم',\", 0.019885804504156113), (\"'احتمال',\", 0.019885804504156113)]\n"
          ]
        }
      ],
      "source": [
        "\n",
        "k = 5\n",
        "mdl = tp.PAModel(k1=5, k2=25)\n",
        "for line in [processed_docs]:\n",
        "    mdl.add_doc(line.strip().split())\n",
        "\n",
        "for i in range(10,100,10):\n",
        "    mdl.train(100)\n",
        "    print('Iteration: {}\\tLog-likelihood: {}'.format( i,mdl.ll_per_word))\n",
        "\n",
        "# save into file\n",
        "#mdl.save('sample_PAM_model.bin')\n",
        "\n",
        "# load from file\n",
        "#mdl = tp.PAModel.load('sample_PAM_model.bin')\n",
        "for s in range(mdl.k):\n",
        "    if not mdl.get_sub_topics(s): continue\n",
        "    print('Top 10 words of topic #{}'.format(s))\n",
        "    print(mdl.get_topic_words(k,top_n=10))\n"
      ]
    },
    {
      "cell_type": "markdown",
      "id": "0d06225a",
      "metadata": {
        "id": "0d06225a"
      },
      "source": [
        "### PAM coherence with Umass"
      ]
    },
    {
      "cell_type": "code",
      "execution_count": null,
      "id": "70f664a1",
      "metadata": {
        "id": "70f664a1",
        "colab": {
          "base_uri": "https://localhost:8080/"
        },
        "outputId": "c5234744-0944-4bfb-c868-3cb82f9f4d38"
      },
      "outputs": [
        {
          "output_type": "stream",
          "name": "stdout",
          "text": [
            "==== Coherence : u_mass ====\n",
            "Average: -1.1102230246251565e-16 \n",
            "Per Topic: [-1.1102230246251565e-16, -1.1102230246251565e-16, -1.1102230246251565e-16, -1.1102230246251565e-16, -1.1102230246251565e-16]\n",
            "\n"
          ]
        },
        {
          "output_type": "stream",
          "name": "stderr",
          "text": [
            "/usr/local/lib/python3.10/dist-packages/ipykernel/ipkernel.py:283: DeprecationWarning: `should_run_async` will not call `transform_cell` automatically in the future. Please pass the result to `transformed_cell` argument and any exception that happen during thetransform in `preprocessing_exc_tuple` in IPython 7.17 and above.\n",
            "  and should_run_async(code)\n"
          ]
        }
      ],
      "source": [
        "\n",
        "coh = tp.coherence.Coherence(mdl, coherence='u_mass')\n",
        "PAM_umass_coherence = coh.get_score()\n",
        "coherence_per_topic = [coh.get_score(topic_id=k) for k in range(mdl.k)]\n",
        "print('==== Coherence : {} ===='.format('u_mass'))\n",
        "print('Average:', PAM_umass_coherence, '\\nPer Topic:', coherence_per_topic)\n",
        "print()"
      ]
    },
    {
      "cell_type": "markdown",
      "id": "84bb1670",
      "metadata": {
        "id": "84bb1670"
      },
      "source": [
        "### PAM coherence C_uci"
      ]
    },
    {
      "cell_type": "code",
      "execution_count": null,
      "id": "18a52c86",
      "metadata": {
        "id": "18a52c86",
        "colab": {
          "base_uri": "https://localhost:8080/"
        },
        "outputId": "dd03c088-488f-4ca4-8c33-996bfe8c1e79"
      },
      "outputs": [
        {
          "output_type": "stream",
          "name": "stdout",
          "text": [
            "==== Coherence : c_uci ====\n",
            "Average: -16.102059225023602 \n",
            "Per Topic: [-16.343987733776213, -18.16420186405492, -14.158720727869738, -16.29023030203939, -15.553155497377743]\n",
            "\n"
          ]
        },
        {
          "output_type": "stream",
          "name": "stderr",
          "text": [
            "/usr/local/lib/python3.10/dist-packages/ipykernel/ipkernel.py:283: DeprecationWarning: `should_run_async` will not call `transform_cell` automatically in the future. Please pass the result to `transformed_cell` argument and any exception that happen during thetransform in `preprocessing_exc_tuple` in IPython 7.17 and above.\n",
            "  and should_run_async(code)\n"
          ]
        }
      ],
      "source": [
        "\n",
        "coh = tp.coherence.Coherence(mdl, coherence='c_uci')\n",
        "PAM_cuci_coherence = coh.get_score()\n",
        "coherence_per_topic = [coh.get_score(topic_id=k) for k in range(mdl.k)]\n",
        "print('==== Coherence : {} ===='.format('c_uci'))\n",
        "print('Average:', PAM_cuci_coherence, '\\nPer Topic:', coherence_per_topic)\n",
        "print()\n"
      ]
    },
    {
      "cell_type": "markdown",
      "id": "d46128be",
      "metadata": {
        "id": "d46128be"
      },
      "source": [
        "### PAM coherence with c_nmpi"
      ]
    },
    {
      "cell_type": "code",
      "execution_count": null,
      "id": "8506501f",
      "metadata": {
        "id": "8506501f",
        "colab": {
          "base_uri": "https://localhost:8080/"
        },
        "outputId": "e3140b90-3268-43ea-9be9-a95d7a425b01"
      },
      "outputs": [
        {
          "output_type": "stream",
          "name": "stdout",
          "text": [
            "==== Coherence : c_npmi ====\n",
            "Average: -0.5637248283107004 \n",
            "Per Topic: [-0.5703220576802837, -0.6437858201806881, -0.49720931410550673, -0.5678178795324123, -0.5394890700546118]\n",
            "\n"
          ]
        },
        {
          "output_type": "stream",
          "name": "stderr",
          "text": [
            "/usr/local/lib/python3.10/dist-packages/ipykernel/ipkernel.py:283: DeprecationWarning: `should_run_async` will not call `transform_cell` automatically in the future. Please pass the result to `transformed_cell` argument and any exception that happen during thetransform in `preprocessing_exc_tuple` in IPython 7.17 and above.\n",
            "  and should_run_async(code)\n"
          ]
        }
      ],
      "source": [
        "\n",
        "coh = tp.coherence.Coherence(mdl, coherence='c_npmi')\n",
        "PAM_cnpmi_coherence = coh.get_score()\n",
        "coherence_per_topic = [coh.get_score(topic_id=k) for k in range(mdl.k)]\n",
        "print('==== Coherence : {} ===='.format('c_npmi'))\n",
        "print('Average:', PAM_cnpmi_coherence, '\\nPer Topic:', coherence_per_topic)\n",
        "print()\n"
      ]
    },
    {
      "cell_type": "markdown",
      "id": "b6fad1ea",
      "metadata": {
        "id": "b6fad1ea"
      },
      "source": [
        "### PAM coherence with cv"
      ]
    },
    {
      "cell_type": "code",
      "execution_count": null,
      "id": "f4b66480",
      "metadata": {
        "id": "f4b66480",
        "colab": {
          "base_uri": "https://localhost:8080/"
        },
        "outputId": "6e3572c6-0297-458a-b12b-f421df48654e"
      },
      "outputs": [
        {
          "output_type": "stream",
          "name": "stdout",
          "text": [
            "==== Coherence : c_v ====\n",
            "Average: 0.4359591899067164 \n",
            "Per Topic: [0.36282448917627336, 0.4571799121797085, 0.4193894758820534, 0.4129203543066978, 0.5274817179888487]\n",
            "\n"
          ]
        },
        {
          "output_type": "stream",
          "name": "stderr",
          "text": [
            "/usr/local/lib/python3.10/dist-packages/ipykernel/ipkernel.py:283: DeprecationWarning: `should_run_async` will not call `transform_cell` automatically in the future. Please pass the result to `transformed_cell` argument and any exception that happen during thetransform in `preprocessing_exc_tuple` in IPython 7.17 and above.\n",
            "  and should_run_async(code)\n"
          ]
        }
      ],
      "source": [
        "\n",
        "coh = tp.coherence.Coherence(mdl, coherence='c_v')\n",
        "PAM_cv_coherence = coh.get_score()\n",
        "coherence_per_topic = [coh.get_score(topic_id=k) for k in range(mdl.k)]\n",
        "print('==== Coherence : {} ===='.format('c_v'))\n",
        "print('Average:', PAM_cv_coherence, '\\nPer Topic:', coherence_per_topic)\n",
        "print()\n"
      ]
    },
    {
      "cell_type": "markdown",
      "id": "3qrzMcjaNXcF",
      "metadata": {
        "id": "3qrzMcjaNXcF"
      },
      "source": [
        "# 8- Hierarchical Pachinko allocation (HPAM)"
      ]
    },
    {
      "cell_type": "code",
      "execution_count": null,
      "id": "3fGmtYHCNZT1",
      "metadata": {
        "id": "3fGmtYHCNZT1",
        "colab": {
          "base_uri": "https://localhost:8080/"
        },
        "outputId": "9f729089-6785-45c6-91ec-c472e7a5fc0a"
      },
      "outputs": [
        {
          "output_type": "stream",
          "name": "stderr",
          "text": [
            "/usr/local/lib/python3.10/dist-packages/ipykernel/ipkernel.py:283: DeprecationWarning: `should_run_async` will not call `transform_cell` automatically in the future. Please pass the result to `transformed_cell` argument and any exception that happen during thetransform in `preprocessing_exc_tuple` in IPython 7.17 and above.\n",
            "  and should_run_async(code)\n"
          ]
        },
        {
          "output_type": "stream",
          "name": "stdout",
          "text": [
            "Iteration: 10\tLog-likelihood: -8.163597108588743\n",
            "Iteration: 20\tLog-likelihood: -7.864442347974424\n",
            "Iteration: 30\tLog-likelihood: -7.7614954479902485\n",
            "Iteration: 40\tLog-likelihood: -7.4495152905357465\n",
            "Iteration: 50\tLog-likelihood: -6.907312110484259\n",
            "Iteration: 60\tLog-likelihood: -7.031815354083457\n",
            "Iteration: 70\tLog-likelihood: -6.277075506475444\n",
            "Iteration: 80\tLog-likelihood: -5.437177466372931\n",
            "Iteration: 90\tLog-likelihood: -4.7222454602930135\n",
            "Top 10 words of topic #0\n",
            "[(\"'لكم',\", 0.0803583413362503), (\"'نسى',\", 0.06698756664991379), (\"'عطية',\", 0.05361679568886757), (\"'اختار',\", 0.05361679568886757), (\"'صحيح',\", 0.05361679568886757), (\"['تسجيل',\", 0.04024602100253105), (\"'ومحدش',\", 0.04024602100253105), (\"['استطاعة',\", 0.04024602100253105), (\"'لاس',\", 0.04024602100253105), (\"'مبلغ',\", 0.026875250041484833)]\n",
            "Top 10 words of topic #1\n",
            "[(\"'لكم',\", 0.0803583413362503), (\"'نسى',\", 0.06698756664991379), (\"'عطية',\", 0.05361679568886757), (\"'اختار',\", 0.05361679568886757), (\"'صحيح',\", 0.05361679568886757), (\"['تسجيل',\", 0.04024602100253105), (\"'ومحدش',\", 0.04024602100253105), (\"['استطاعة',\", 0.04024602100253105), (\"'لاس',\", 0.04024602100253105), (\"'مبلغ',\", 0.026875250041484833)]\n",
            "Top 10 words of topic #2\n",
            "[(\"'لكم',\", 0.0803583413362503), (\"'نسى',\", 0.06698756664991379), (\"'عطية',\", 0.05361679568886757), (\"'اختار',\", 0.05361679568886757), (\"'صحيح',\", 0.05361679568886757), (\"['تسجيل',\", 0.04024602100253105), (\"'ومحدش',\", 0.04024602100253105), (\"['استطاعة',\", 0.04024602100253105), (\"'لاس',\", 0.04024602100253105), (\"'مبلغ',\", 0.026875250041484833)]\n",
            "Top 10 words of topic #3\n",
            "[(\"'لكم',\", 0.0803583413362503), (\"'نسى',\", 0.06698756664991379), (\"'عطية',\", 0.05361679568886757), (\"'اختار',\", 0.05361679568886757), (\"'صحيح',\", 0.05361679568886757), (\"['تسجيل',\", 0.04024602100253105), (\"'ومحدش',\", 0.04024602100253105), (\"['استطاعة',\", 0.04024602100253105), (\"'لاس',\", 0.04024602100253105), (\"'مبلغ',\", 0.026875250041484833)]\n",
            "Top 10 words of topic #4\n",
            "[(\"'لكم',\", 0.0803583413362503), (\"'نسى',\", 0.06698756664991379), (\"'عطية',\", 0.05361679568886757), (\"'اختار',\", 0.05361679568886757), (\"'صحيح',\", 0.05361679568886757), (\"['تسجيل',\", 0.04024602100253105), (\"'ومحدش',\", 0.04024602100253105), (\"['استطاعة',\", 0.04024602100253105), (\"'لاس',\", 0.04024602100253105), (\"'مبلغ',\", 0.026875250041484833)]\n"
          ]
        }
      ],
      "source": [
        "\n",
        "k = 5\n",
        "mdlH = tp.HPAModel(k1=5, k2=25)\n",
        "\n",
        "for line in [processed_docs]:\n",
        "    mdlH.add_doc(line.strip().split())\n",
        "\n",
        "for i in range(10,100,10):\n",
        "    mdlH.train(100)\n",
        "    print('Iteration: {}\\tLog-likelihood: {}'.format( i,mdlH.ll_per_word))\n",
        "\n",
        "# save into file\n",
        "#mdl.save('sample_PAM_model.bin')\n",
        "\n",
        "# load from file\n",
        "#mdl = tp.PAModel.load('sample_PAM_model.bin')\n",
        "for s in range(mdlH.k):\n",
        "    if not mdlH.get_sub_topics(s): continue\n",
        "    print('Top 10 words of topic #{}'.format(s))\n",
        "    print(mdlH.get_topic_words(k,top_n=10))\n",
        "\n"
      ]
    },
    {
      "cell_type": "markdown",
      "id": "ccfb1a5d",
      "metadata": {
        "id": "ccfb1a5d"
      },
      "source": [
        "### HPAM coherence with Umass"
      ]
    },
    {
      "cell_type": "code",
      "execution_count": null,
      "id": "e3a9b5b9",
      "metadata": {
        "id": "e3a9b5b9",
        "colab": {
          "base_uri": "https://localhost:8080/"
        },
        "outputId": "59f8e709-09d4-41db-8cee-0616480413a4"
      },
      "outputs": [
        {
          "output_type": "stream",
          "name": "stdout",
          "text": [
            "==== Coherence : u_mass ====\n",
            "Average: -1.1102230246251565e-16 \n",
            "Per Topic: [-1.1102230246251565e-16, -1.1102230246251565e-16, -1.1102230246251565e-16, -1.1102230246251565e-16, -1.1102230246251565e-16]\n",
            "\n"
          ]
        },
        {
          "output_type": "stream",
          "name": "stderr",
          "text": [
            "/usr/local/lib/python3.10/dist-packages/ipykernel/ipkernel.py:283: DeprecationWarning: `should_run_async` will not call `transform_cell` automatically in the future. Please pass the result to `transformed_cell` argument and any exception that happen during thetransform in `preprocessing_exc_tuple` in IPython 7.17 and above.\n",
            "  and should_run_async(code)\n"
          ]
        }
      ],
      "source": [
        "\n",
        "coh = tp.coherence.Coherence(mdlH, coherence='u_mass')\n",
        "HPAM_umass_coherence = coh.get_score()\n",
        "coherence_per_topic = [coh.get_score(topic_id=k) for k in range(mdlH.k)]\n",
        "print('==== Coherence : {} ===='.format('u_mass'))\n",
        "print('Average:', HPAM_umass_coherence, '\\nPer Topic:', coherence_per_topic)\n",
        "print()\n"
      ]
    },
    {
      "cell_type": "markdown",
      "id": "fd7b6ccb",
      "metadata": {
        "id": "fd7b6ccb"
      },
      "source": [
        "### HPAM coherence with C_uci"
      ]
    },
    {
      "cell_type": "code",
      "execution_count": null,
      "id": "cc02308b",
      "metadata": {
        "id": "cc02308b",
        "colab": {
          "base_uri": "https://localhost:8080/"
        },
        "outputId": "a0036b1a-ffd3-461a-a671-72d3332c027b"
      },
      "outputs": [
        {
          "output_type": "stream",
          "name": "stdout",
          "text": [
            "==== Coherence : c_uci ====\n",
            "Average: -13.006103217914367 \n",
            "Per Topic: [-11.831270061998712, -14.17619077217918, -7.998226019522782, -15.864370110303096, -15.160459125568071]\n",
            "\n"
          ]
        },
        {
          "output_type": "stream",
          "name": "stderr",
          "text": [
            "/usr/local/lib/python3.10/dist-packages/ipykernel/ipkernel.py:283: DeprecationWarning: `should_run_async` will not call `transform_cell` automatically in the future. Please pass the result to `transformed_cell` argument and any exception that happen during thetransform in `preprocessing_exc_tuple` in IPython 7.17 and above.\n",
            "  and should_run_async(code)\n"
          ]
        }
      ],
      "source": [
        "\n",
        "coh = tp.coherence.Coherence(mdlH, coherence='c_uci')\n",
        "HPAM_cuci_coherence = coh.get_score()\n",
        "coherence_per_topic = [coh.get_score(topic_id=k) for k in range(mdlH.k)]\n",
        "print('==== Coherence : {} ===='.format('c_uci'))\n",
        "print('Average:', HPAM_cuci_coherence, '\\nPer Topic:', coherence_per_topic)\n",
        "print()\n"
      ]
    },
    {
      "cell_type": "markdown",
      "id": "89690ded",
      "metadata": {
        "id": "89690ded"
      },
      "source": [
        "### HPAM coherence with C_nmpi"
      ]
    },
    {
      "cell_type": "code",
      "execution_count": null,
      "id": "9ca3c6ef",
      "metadata": {
        "id": "9ca3c6ef",
        "colab": {
          "base_uri": "https://localhost:8080/"
        },
        "outputId": "6f2932b9-f133-474b-e864-15f59db86575"
      },
      "outputs": [
        {
          "output_type": "stream",
          "name": "stdout",
          "text": [
            "==== Coherence : c_npmi ====\n",
            "Average: -0.45083500952361594 \n",
            "Per Topic: [-0.4200469399197788, -0.47794759316996976, -0.2907946459911006, -0.5515267702661427, -0.5138590982710877]\n",
            "\n"
          ]
        },
        {
          "output_type": "stream",
          "name": "stderr",
          "text": [
            "/usr/local/lib/python3.10/dist-packages/ipykernel/ipkernel.py:283: DeprecationWarning: `should_run_async` will not call `transform_cell` automatically in the future. Please pass the result to `transformed_cell` argument and any exception that happen during thetransform in `preprocessing_exc_tuple` in IPython 7.17 and above.\n",
            "  and should_run_async(code)\n"
          ]
        }
      ],
      "source": [
        "\n",
        "coh = tp.coherence.Coherence(mdlH, coherence='c_npmi')\n",
        "HPAM_cnmpi_coherence = coh.get_score()\n",
        "coherence_per_topic = [coh.get_score(topic_id=k) for k in range(mdlH.k)]\n",
        "print('==== Coherence : {} ===='.format('c_npmi'))\n",
        "print('Average:', HPAM_cnmpi_coherence, '\\nPer Topic:', coherence_per_topic)\n",
        "print()\n"
      ]
    },
    {
      "cell_type": "markdown",
      "id": "b6d4ee1d",
      "metadata": {
        "id": "b6d4ee1d"
      },
      "source": [
        "### HPAM coherence with CV"
      ]
    },
    {
      "cell_type": "code",
      "execution_count": null,
      "id": "1a2fcf29",
      "metadata": {
        "id": "1a2fcf29",
        "colab": {
          "base_uri": "https://localhost:8080/"
        },
        "outputId": "a5f1dc17-94e4-4459-fe3e-c6e5d2fdcee3"
      },
      "outputs": [
        {
          "output_type": "stream",
          "name": "stdout",
          "text": [
            "==== Coherence : c_v ====\n",
            "Average: 0.46099157951772207 \n",
            "Per Topic: [0.39290006905794145, 0.5506708804517985, 0.3279596112668514, 0.5272412195801734, 0.5061861172318458]\n",
            "\n"
          ]
        },
        {
          "output_type": "stream",
          "name": "stderr",
          "text": [
            "/usr/local/lib/python3.10/dist-packages/ipykernel/ipkernel.py:283: DeprecationWarning: `should_run_async` will not call `transform_cell` automatically in the future. Please pass the result to `transformed_cell` argument and any exception that happen during thetransform in `preprocessing_exc_tuple` in IPython 7.17 and above.\n",
            "  and should_run_async(code)\n"
          ]
        }
      ],
      "source": [
        "\n",
        "coh = tp.coherence.Coherence(mdlH, coherence='c_v')\n",
        "HPAM_cv_coherence = coh.get_score()\n",
        "coherence_per_topic = [coh.get_score(topic_id=k) for k in range(mdlH.k)]\n",
        "print('==== Coherence : {} ===='.format('c_v'))\n",
        "print('Average:', HPAM_cv_coherence, '\\nPer Topic:', coherence_per_topic)\n",
        "print()"
      ]
    },
    {
      "cell_type": "markdown",
      "id": "a162a24c",
      "metadata": {
        "id": "a162a24c"
      },
      "source": [
        "# 9- Dirichlet Multinomial Regression(DMR)"
      ]
    },
    {
      "cell_type": "code",
      "execution_count": null,
      "id": "DByFX_ADbIff",
      "metadata": {
        "id": "DByFX_ADbIff",
        "colab": {
          "base_uri": "https://localhost:8080/"
        },
        "outputId": "7a7be86c-a644-491f-b04b-05cb672940f0"
      },
      "outputs": [
        {
          "output_type": "stream",
          "name": "stderr",
          "text": [
            "/usr/local/lib/python3.10/dist-packages/ipykernel/ipkernel.py:283: DeprecationWarning: `should_run_async` will not call `transform_cell` automatically in the future. Please pass the result to `transformed_cell` argument and any exception that happen during thetransform in `preprocessing_exc_tuple` in IPython 7.17 and above.\n",
            "  and should_run_async(code)\n"
          ]
        },
        {
          "output_type": "stream",
          "name": "stdout",
          "text": [
            "Iteration: 10\tLog-likelihood: -8.053978401818368\n",
            "Iteration: 20\tLog-likelihood: -7.979474772611879\n",
            "Iteration: 30\tLog-likelihood: -8.026852293504167\n",
            "Iteration: 40\tLog-likelihood: -7.99790364798655\n",
            "Iteration: 50\tLog-likelihood: -8.052444711138042\n",
            "Iteration: 60\tLog-likelihood: -8.010336487572877\n",
            "Iteration: 70\tLog-likelihood: -8.008722323490884\n",
            "Iteration: 80\tLog-likelihood: -8.055606604296253\n",
            "Iteration: 90\tLog-likelihood: -7.981812052720008\n"
          ]
        }
      ],
      "source": [
        "\n",
        "corpus = tp.utils.Corpus()\n",
        "\n",
        "mdlD = tp.DMRModel(tw=tp.TermWeight.ONE,\n",
        "    k=20,\n",
        "    corpus=corpus)\n",
        "\n",
        "for line in [processed_docs]:\n",
        "    mdlD.add_doc(line.strip().split())\n",
        "\n",
        "for i in range(10,100,10):\n",
        "    mdlD.train(100)\n",
        "    print('Iteration: {}\\tLog-likelihood: {}'.format( i,mdlD.ll_per_word))\n",
        "\n"
      ]
    },
    {
      "cell_type": "code",
      "execution_count": null,
      "id": "b75d6dcb",
      "metadata": {
        "id": "b75d6dcb",
        "colab": {
          "base_uri": "https://localhost:8080/"
        },
        "outputId": "c5cac343-0fae-45ca-d478-a795d539599e"
      },
      "outputs": [
        {
          "output_type": "stream",
          "name": "stdout",
          "text": [
            "Iteration: 0000 LL per word: -7.982\n",
            "Iteration: 0020 LL per word: -7.996\n",
            "Iteration: 0040 LL per word: -7.994\n",
            "Iteration: 0060 LL per word: -7.97\n",
            "Iteration: 0080 LL per word: -8.015\n",
            "Iteration: 0100 LL per word: -8.015\n",
            "Iteration: 0120 LL per word: -8.031\n",
            "Iteration: 0140 LL per word: -8.002\n",
            "Iteration: 0160 LL per word: -8.036\n",
            "Iteration: 0180 LL per word: -7.987\n",
            "Iteration: 0200 LL per word: -8.057\n",
            "Iteration: 0220 LL per word: -8.028\n"
          ]
        },
        {
          "output_type": "stream",
          "name": "stderr",
          "text": [
            "/usr/local/lib/python3.10/dist-packages/ipykernel/ipkernel.py:283: DeprecationWarning: `should_run_async` will not call `transform_cell` automatically in the future. Please pass the result to `transformed_cell` argument and any exception that happen during thetransform in `preprocessing_exc_tuple` in IPython 7.17 and above.\n",
            "  and should_run_async(code)\n"
          ]
        },
        {
          "output_type": "stream",
          "name": "stdout",
          "text": [
            "Iteration: 0240 LL per word: -8.02\n",
            "Iteration: 0260 LL per word: -8.052\n",
            "Iteration: 0280 LL per word: -8.098\n",
            "Iteration: 0300 LL per word: -8.001\n",
            "Iteration: 0320 LL per word: -8.002\n",
            "Iteration: 0340 LL per word: -8.051\n",
            "Iteration: 0360 LL per word: -8.083\n",
            "Iteration: 0380 LL per word: -8.032\n",
            "Iteration: 0400 LL per word: -7.986\n",
            "Iteration: 0420 LL per word: -7.985\n",
            "Iteration: 0440 LL per word: -8.041\n",
            "Iteration: 0460 LL per word: -7.963\n",
            "Iteration: 0480 LL per word: -8.057\n",
            "Iteration: 0500 LL per word: -8.016\n",
            "Iteration: 0520 LL per word: -8.034\n",
            "Iteration: 0540 LL per word: -7.974\n",
            "Iteration: 0560 LL per word: -8.099\n",
            "Iteration: 0580 LL per word: -8.012\n",
            "Iteration: 0600 LL per word: -8.026\n",
            "Iteration: 0620 LL per word: -8.008\n",
            "Iteration: 0640 LL per word: -8.011\n",
            "Iteration: 0660 LL per word: -8.01\n",
            "Iteration: 0680 LL per word: -7.949\n",
            "Iteration: 0700 LL per word: -7.987\n",
            "Iteration: 0720 LL per word: -8.039\n",
            "Iteration: 0740 LL per word: -8.037\n",
            "Iteration: 0760 LL per word: -8.009\n",
            "Iteration: 0780 LL per word: -7.985\n",
            "Iteration: 0800 LL per word: -8.07\n",
            "Iteration: 0820 LL per word: -8.042\n",
            "Iteration: 0840 LL per word: -8.079\n",
            "Iteration: 0860 LL per word: -7.977\n",
            "Iteration: 0880 LL per word: -7.994\n",
            "Iteration: 0900 LL per word: -7.989\n",
            "Iteration: 0920 LL per word: -8.009\n",
            "Iteration: 0940 LL per word: -7.976\n",
            "Iteration: 0960 LL per word: -8.04\n",
            "Iteration: 0980 LL per word: -8.035\n",
            "Iteration: 1000 LL per word: -8.013\n",
            "Iteration: 1020 LL per word: -8.023\n",
            "Iteration: 1040 LL per word: -7.999\n",
            "Iteration: 1060 LL per word: -8.033\n",
            "Iteration: 1080 LL per word: -7.993\n",
            "Iteration: 1100 LL per word: -8.019\n",
            "Iteration: 1120 LL per word: -7.962\n",
            "Iteration: 1140 LL per word: -8.035\n",
            "Iteration: 1160 LL per word: -8.005\n",
            "Iteration: 1180 LL per word: -7.994\n",
            "Iteration: 1200 LL per word: -8.013\n",
            "Iteration: 1220 LL per word: -8.003\n",
            "Iteration: 1240 LL per word: -8.012\n",
            "Iteration: 1260 LL per word: -8.0\n",
            "Iteration: 1280 LL per word: -8.008\n",
            "Iteration: 1300 LL per word: -7.927\n",
            "Iteration: 1320 LL per word: -7.963\n",
            "Iteration: 1340 LL per word: -7.993\n",
            "Iteration: 1360 LL per word: -7.999\n",
            "Iteration: 1380 LL per word: -7.948\n",
            "Iteration: 1400 LL per word: -7.999\n",
            "Iteration: 1420 LL per word: -7.992\n",
            "Iteration: 1440 LL per word: -8.014\n",
            "Iteration: 1460 LL per word: -7.984\n",
            "Iteration: 1480 LL per word: -8.035\n",
            "Iteration: 1500 LL per word: -7.971\n",
            "Iteration: 1520 LL per word: -7.976\n",
            "Iteration: 1540 LL per word: -7.986\n",
            "Iteration: 1560 LL per word: -8.033\n",
            "Iteration: 1580 LL per word: -7.973\n",
            "Iteration: 1600 LL per word: -8.032\n",
            "Iteration: 1620 LL per word: -7.977\n",
            "Iteration: 1640 LL per word: -8.049\n",
            "Iteration: 1660 LL per word: -8.027\n",
            "Iteration: 1680 LL per word: -7.929\n",
            "Iteration: 1700 LL per word: -8.026\n",
            "Iteration: 1720 LL per word: -7.951\n",
            "Iteration: 1740 LL per word: -8.022\n",
            "Iteration: 1760 LL per word: -8.0\n",
            "Iteration: 1780 LL per word: -7.969\n",
            "Iteration: 1800 LL per word: -7.995\n",
            "Iteration: 1820 LL per word: -8.031\n",
            "Iteration: 1840 LL per word: -8.001\n",
            "Iteration: 1860 LL per word: -8.043\n",
            "Iteration: 1880 LL per word: -8.032\n",
            "Iteration: 1900 LL per word: -8.035\n",
            "Iteration: 1920 LL per word: -8.005\n",
            "Iteration: 1940 LL per word: -7.984\n",
            "Iteration: 1960 LL per word: -8.028\n",
            "Iteration: 1980 LL per word: -8.024\n",
            "Iteration: 2000 LL per word: -8.074\n",
            "<Basic Info>\n",
            "| DMRModel (current version: 0.12.5)\n",
            "| 1 docs, 2123 words\n",
            "| Total Vocabs: 779, Used Vocabs: 779\n",
            "| Entropy of words: 6.00929\n",
            "| Entropy of term-weighted words: 6.00929\n",
            "| Removed Vocabs: <NA>\n",
            "|\n",
            "<Training Info>\n",
            "| Iterations: 2900, Burn-in steps: 0\n",
            "| Optimization Interval: 10\n",
            "| Log-likelihood per word: -8.07447\n",
            "|\n",
            "<Initial Parameters>\n",
            "| tw: TermWeight.ONE\n",
            "| min_cf: 0 (minimum collection frequency of words)\n",
            "| min_df: 0 (minimum document frequency of words)\n",
            "| rm_top: 0 (the number of top words to be removed)\n",
            "| k: 20 (the number of topics between 1 ~ 32767)\n",
            "| alpha: [0.1] (an initial value of exponential of mean of normal distribution for `lambdas`, given as a single `float` in case of symmetric prior and as a list with length `k` of `float` in case of asymmetric prior.)\n",
            "| eta: 0.01 (hyperparameter of Dirichlet distribution for topic - word)\n",
            "| sigma: 1.0 (standard deviation of normal distribution for `lambdas`)\n",
            "| alpha_epsilon: 1e-10 (small smoothing value for preventing `exp(lambdas)` to be near zero)\n",
            "| seed: 394909074 (random seed)\n",
            "| trained in version 0.12.5\n",
            "|\n",
            "<Parameters>\n",
            "| lambda (feature vector per metadata of documents)\n",
            "|  [[[-1.6132954]]\n",
            "|  \n",
            "|   [[-1.5713159]]\n",
            "|  \n",
            "|   [[-1.5604517]]\n",
            "|  \n",
            "|   [[-1.4764508]]\n",
            "|  \n",
            "|   [[-1.6036353]]\n",
            "|  \n",
            "|   [[-1.609269 ]]\n",
            "|  \n",
            "|   [[-1.6622008]]\n",
            "|  \n",
            "|   [[-1.672901 ]]\n",
            "|  \n",
            "|   [[-1.6232089]]\n",
            "|  \n",
            "|   [[-1.5925933]]\n",
            "|  \n",
            "|   [[-1.618907 ]]\n",
            "|  \n",
            "|   [[-1.5728034]]\n",
            "|  \n",
            "|   [[-1.5208116]]\n",
            "|  \n",
            "|   [[-1.7005785]]\n",
            "|  \n",
            "|   [[-1.6602467]]\n",
            "|  \n",
            "|   [[-1.6159476]]\n",
            "|  \n",
            "|   [[-1.5483537]]\n",
            "|  \n",
            "|   [[-1.6533164]]\n",
            "|  \n",
            "|   [[-1.6192437]]\n",
            "|  \n",
            "|   [[-1.5675986]]]\n",
            "| alpha (Dirichlet prior on the per-document topic distributions for each metadata)\n",
            "|  : [0.19922999 0.2077716  0.21004117 0.22844705 0.20116389 0.20003378\n",
            "|     0.18972097 0.18770175 0.19726469 0.20339745 0.19811513 0.20746277\n",
            "|     0.21853445 0.18257788 0.19009207 0.19870229 0.2125977  0.19141406\n",
            "|     0.19804841 0.20854539]\n",
            "| eta (Dirichlet prior on the per-topic word distribution)\n",
            "|  0.01\n",
            "|\n",
            "<Topics>\n",
            "| #0 (95) : 'على', 'سبب', 'فن', 'مفيش', 'رحم',\n",
            "| #1 (125) : 'ممارس', 'رجاء', 'كود', 'ظهر', 'ال',\n",
            "| #2 (134) : 'كلم', 'بيان', 'استكمال', 'شق', 'سيد',\n",
            "| #3 (215) : 'طلب', 'محمد', 'ارجو', 'ايصال', 'حساب',\n",
            "| #4 (101) : 'موقع', 'ودى', 'رجا', 'سعيد', 'ودي',\n",
            "| #5 (97) : 'علم', 'الكودى', 'مطلوب', 'الاوراق', 'كامل',\n",
            "| #6 (67) : 'تعديل', 'بطاقة', 'تركيب', 'معاين', 'كلام',\n",
            "| #7 (62) : 'صور', 'مرفق', 'قبول', 'ال', 'مختلف',\n",
            "| #8 (88) : 'ودي', 'شهر', 'خدم', 'تركيب', 'عرف',\n",
            "| #9 (109) : 'رد', 'عمل', 'مرفق', 'اغسطس', 'سداد',\n",
            "| #10 (91) : 'قدم', 'عداد', 'مقدم', 'بريد', 'مال',\n",
            "| #11 (124) : 'طلب', 'جديد', 'حضر', 'الخاص', 'جزيل',\n",
            "| #12 (170) : 'رقم', 'اسم', 'قومى', 'حال', 'شكر']\n",
            "| #13 (50) : 'عقد', 'معاين'] 'عدم', 'أتم', 'توصيل',\n",
            "| #14 (68) : 'الله', 'الفنيه', 'اختار', 'رغم', 'مقدم']\n",
            "| #15 (93) : 'تقديم', 'مرور', 'دفع', 'تصحيح', 'شكر',\n",
            "| #16 (144) : 'عداد', 'تسجيل', 'تاريخ', 'طلب', 'بخصوص',\n",
            "| #17 (71) : ['سلام', 'تغير', 'لكم', 'صفح', 'حال',\n",
            "| #18 (91) : 'شرك', 'صور', 'منصة', 'حمد', 'سالت',\n",
            "| #19 (128) : 'منطق', 'تحويل', 'ممارس', ['سمح', 'تركيب',\n",
            "|\n",
            "\n"
          ]
        }
      ],
      "source": [
        "for i in range(0, 2000, 20):\n",
        "    print('Iteration: {:04} LL per word: {:.4}'.format(i, mdlD.ll_per_word))\n",
        "    mdlD.train(20)\n",
        "print('Iteration: {:04} LL per word: {:.4}'.format(2000, mdlD.ll_per_word))\n",
        "\n",
        "mdlD.summary()"
      ]
    },
    {
      "cell_type": "markdown",
      "id": "7bc05888",
      "metadata": {
        "id": "7bc05888"
      },
      "source": [
        "### DMR coherence with U_mass"
      ]
    },
    {
      "cell_type": "code",
      "execution_count": null,
      "id": "8e6c4f8c",
      "metadata": {
        "id": "8e6c4f8c",
        "colab": {
          "base_uri": "https://localhost:8080/"
        },
        "outputId": "5d43f985-5d63-489f-bce8-69e1b2ac71ae"
      },
      "outputs": [
        {
          "output_type": "stream",
          "name": "stdout",
          "text": [
            "==== Coherence : u_mass ====\n",
            "Average: -1.1102230246251565e-16 \n",
            "Per Topic: [-1.1102230246251565e-16, -1.1102230246251565e-16, -1.1102230246251565e-16, -1.1102230246251565e-16, -1.1102230246251565e-16, -1.1102230246251565e-16, -1.1102230246251565e-16, -1.1102230246251565e-16, -1.1102230246251565e-16, -1.1102230246251565e-16, -1.1102230246251565e-16, -1.1102230246251565e-16, -1.1102230246251565e-16, -1.1102230246251565e-16, -1.1102230246251565e-16, -1.1102230246251565e-16, -1.1102230246251565e-16, -1.1102230246251565e-16, -1.1102230246251565e-16, -1.1102230246251565e-16]\n",
            "\n"
          ]
        },
        {
          "output_type": "stream",
          "name": "stderr",
          "text": [
            "/usr/local/lib/python3.10/dist-packages/ipykernel/ipkernel.py:283: DeprecationWarning: `should_run_async` will not call `transform_cell` automatically in the future. Please pass the result to `transformed_cell` argument and any exception that happen during thetransform in `preprocessing_exc_tuple` in IPython 7.17 and above.\n",
            "  and should_run_async(code)\n"
          ]
        }
      ],
      "source": [
        "coh = tp.coherence.Coherence(mdlD, coherence='u_mass')\n",
        "DMR_umass_coherence = coh.get_score()\n",
        "coherence_per_topic = [coh.get_score(topic_id=k) for k in range(mdlD.k)]\n",
        "print('==== Coherence : {} ===='.format('u_mass'))\n",
        "print('Average:', DMR_umass_coherence, '\\nPer Topic:', coherence_per_topic)\n",
        "print()\n"
      ]
    },
    {
      "cell_type": "markdown",
      "id": "86169718",
      "metadata": {
        "id": "86169718"
      },
      "source": [
        "### DMR coherence with C_V"
      ]
    },
    {
      "cell_type": "code",
      "execution_count": null,
      "id": "25bafb1c",
      "metadata": {
        "id": "25bafb1c",
        "colab": {
          "base_uri": "https://localhost:8080/"
        },
        "outputId": "283401a1-4df7-445f-e22a-18c898d7cb8b"
      },
      "outputs": [
        {
          "output_type": "stream",
          "name": "stderr",
          "text": [
            "/usr/local/lib/python3.10/dist-packages/ipykernel/ipkernel.py:283: DeprecationWarning: `should_run_async` will not call `transform_cell` automatically in the future. Please pass the result to `transformed_cell` argument and any exception that happen during thetransform in `preprocessing_exc_tuple` in IPython 7.17 and above.\n",
            "  and should_run_async(code)\n"
          ]
        },
        {
          "output_type": "stream",
          "name": "stdout",
          "text": [
            "==== Coherence : c_v ====\n",
            "Average: 0.5070078439079226 \n",
            "Per Topic: [0.48571197837591173, 0.44470791444182395, 0.5130619272589684, 0.4473341125994921, 0.5584436878561974, 0.509470722079277, 0.49937897026538847, 0.5976965248584747, 0.4862109452486038, 0.47570347487926484, 0.5121773660182953, 0.5382047910243273, 0.37396142780780794, 0.6131138324737548, 0.6019476473331451, 0.5560018867254257, 0.4444525443017483, 0.5401190772652626, 0.508979418873787, 0.4334786284714937]\n",
            "\n"
          ]
        }
      ],
      "source": [
        "coh = tp.coherence.Coherence(mdlD, coherence='c_v')\n",
        "DMR_cv_coherence = coh.get_score()\n",
        "coherence_per_topic = [coh.get_score(topic_id=k) for k in range(mdlD.k)]\n",
        "print('==== Coherence : {} ===='.format('c_v'))\n",
        "print('Average:', DMR_cv_coherence, '\\nPer Topic:', coherence_per_topic)\n",
        "print()\n"
      ]
    },
    {
      "cell_type": "markdown",
      "id": "0913b282",
      "metadata": {
        "id": "0913b282"
      },
      "source": [
        "### DMR coherence with UMASS"
      ]
    },
    {
      "cell_type": "code",
      "execution_count": null,
      "id": "043d3edb",
      "metadata": {
        "id": "043d3edb",
        "colab": {
          "base_uri": "https://localhost:8080/"
        },
        "outputId": "2f4511d6-ed10-46e4-9002-37c87d19e324"
      },
      "outputs": [
        {
          "output_type": "stream",
          "name": "stdout",
          "text": [
            "==== Coherence : c_uci ====\n",
            "Average: -14.103072557593777 \n",
            "Per Topic: [-14.538306401413845, -13.518561774963468, -16.424226360036208, -8.829083717933768, -13.341909851213895, -15.342415414469029, -16.47410717201926, -16.360387028290326, -15.558598909080011, -15.136461943556043, -13.766529783681293, -12.661055332989006, -10.42799856582023, -18.261815775494924, -17.61616252208305, -16.549454353939208, -8.932118730200344, -16.145950120790737, -14.952178913570009, -7.224128480330846]\n",
            "\n"
          ]
        },
        {
          "output_type": "stream",
          "name": "stderr",
          "text": [
            "/usr/local/lib/python3.10/dist-packages/ipykernel/ipkernel.py:283: DeprecationWarning: `should_run_async` will not call `transform_cell` automatically in the future. Please pass the result to `transformed_cell` argument and any exception that happen during thetransform in `preprocessing_exc_tuple` in IPython 7.17 and above.\n",
            "  and should_run_async(code)\n"
          ]
        }
      ],
      "source": [
        "coh = tp.coherence.Coherence(mdlD, coherence='c_uci')\n",
        "DMR_cuci_coherence = coh.get_score()\n",
        "coherence_per_topic = [coh.get_score(topic_id=k) for k in range(mdlD.k)]\n",
        "print('==== Coherence : {} ===='.format('c_uci'))\n",
        "print('Average:', DMR_cuci_coherence, '\\nPer Topic:', coherence_per_topic)\n",
        "print()\n"
      ]
    },
    {
      "cell_type": "markdown",
      "id": "cf3d6aec",
      "metadata": {
        "id": "cf3d6aec"
      },
      "source": [
        "### DMR coherence with C_nmpi"
      ]
    },
    {
      "cell_type": "code",
      "execution_count": null,
      "id": "59c3264d",
      "metadata": {
        "id": "59c3264d",
        "colab": {
          "base_uri": "https://localhost:8080/"
        },
        "outputId": "e69ace6c-82f9-4b51-b03e-043dc09b0900"
      },
      "outputs": [
        {
          "output_type": "stream",
          "name": "stdout",
          "text": [
            "==== Coherence : c_npmi ====\n",
            "Average: -0.48628800043825926 \n",
            "Per Topic: [-0.49006701798012337, -0.4670953797391848, -0.5648655887277398, -0.3401948112381881, -0.44766029540663155, -0.5148152757507592, -0.581121633564939, -0.5564962203746106, -0.5455998576140182, -0.5091406757050636, -0.49357476835739905, -0.4062120855990432, -0.33591506639295715, -0.6554799336119415, -0.6153159758541895, -0.5678516130883983, -0.3102495744542447, -0.5551067679405155, -0.5034903335739354, -0.26550713379130264]\n",
            "\n"
          ]
        },
        {
          "output_type": "stream",
          "name": "stderr",
          "text": [
            "/usr/local/lib/python3.10/dist-packages/ipykernel/ipkernel.py:283: DeprecationWarning: `should_run_async` will not call `transform_cell` automatically in the future. Please pass the result to `transformed_cell` argument and any exception that happen during thetransform in `preprocessing_exc_tuple` in IPython 7.17 and above.\n",
            "  and should_run_async(code)\n"
          ]
        }
      ],
      "source": [
        "\n",
        "coh = tp.coherence.Coherence(mdlD, coherence='c_npmi')\n",
        "DMR_cnmpi_coherence = coh.get_score()\n",
        "coherence_per_topic = [coh.get_score(topic_id=k) for k in range(mdlD.k)]\n",
        "print('==== Coherence : {} ===='.format('c_npmi'))\n",
        "print('Average:', DMR_cnmpi_coherence, '\\nPer Topic:', coherence_per_topic)\n",
        "print()"
      ]
    },
    {
      "cell_type": "markdown",
      "id": "dc09b2b5",
      "metadata": {
        "id": "dc09b2b5"
      },
      "source": [
        "# 10-  Adversarial-neural Topic Model(ATM)"
      ]
    },
    {
      "cell_type": "code",
      "execution_count": null,
      "id": "05f11c41",
      "metadata": {
        "id": "05f11c41",
        "colab": {
          "base_uri": "https://localhost:8080/"
        },
        "outputId": "614d4676-3135-4a46-f9e5-15b7ea34175d"
      },
      "outputs": [
        {
          "output_type": "stream",
          "name": "stderr",
          "text": [
            "/usr/local/lib/python3.10/dist-packages/ipykernel/ipkernel.py:283: DeprecationWarning: `should_run_async` will not call `transform_cell` automatically in the future. Please pass the result to `transformed_cell` argument and any exception that happen during thetransform in `preprocessing_exc_tuple` in IPython 7.17 and above.\n",
            "  and should_run_async(code)\n"
          ]
        }
      ],
      "source": [
        "model = AuthorTopicModel(\n",
        "        corpus=bow_corpus, id2word=dictionary, num_topics=4\n",
        "    )"
      ]
    },
    {
      "cell_type": "code",
      "execution_count": null,
      "id": "9faed80d",
      "metadata": {
        "id": "9faed80d",
        "colab": {
          "base_uri": "https://localhost:8080/"
        },
        "outputId": "8a07ee06-4a19-447b-e4ed-0271a9d3b764"
      },
      "outputs": [
        {
          "output_type": "stream",
          "name": "stdout",
          "text": [
            "Topic: 0 \n",
            "Words: 0.002*\"أن\" + 0.002*\"قدم\" + 0.002*\"باستفساررقم\" + 0.002*\"قادر\" + 0.002*\"أمات\" + 0.002*\"بالمنصه\" + 0.002*\"خلى\" + 0.002*\"استرجاع\" + 0.002*\"نسيان\" + 0.002*\"سجل\"\n",
            "Topic: 1 \n",
            "Words: 0.002*\"بأسمه\" + 0.002*\"احنا\" + 0.002*\"بركة\" + 0.002*\"حديث\" + 0.002*\"سويدي\" + 0.002*\"مطلوب\" + 0.002*\"دخل\" + 0.002*\"سكنة\" + 0.002*\"نجم\" + 0.002*\"تفعيل\"\n",
            "Topic: 2 \n",
            "Words: 0.002*\"منذ\" + 0.002*\"الهندسه\" + 0.002*\"الالكترونية\" + 0.002*\"ملف\" + 0.002*\"مخالف\" + 0.002*\"رقمى\" + 0.002*\"عمل\" + 0.002*\"اثناء\" + 0.002*\"ودى\" + 0.002*\"عدى\"\n",
            "Topic: 3 \n",
            "Words: 0.002*\"تغير\" + 0.002*\"mabr\" + 0.002*\"رحم\" + 0.002*\"انها\" + 0.002*\"علشان\" + 0.002*\"ورساله\" + 0.002*\"غمد\" + 0.002*\"استطاعة\" + 0.002*\"نجم\" + 0.002*\"توضيح\"\n"
          ]
        },
        {
          "output_type": "stream",
          "name": "stderr",
          "text": [
            "/usr/local/lib/python3.10/dist-packages/ipykernel/ipkernel.py:283: DeprecationWarning: `should_run_async` will not call `transform_cell` automatically in the future. Please pass the result to `transformed_cell` argument and any exception that happen during thetransform in `preprocessing_exc_tuple` in IPython 7.17 and above.\n",
            "  and should_run_async(code)\n"
          ]
        }
      ],
      "source": [
        "for indx, topics in model.print_topics(num_topics=5, num_words=10):\n",
        "    print('Topic: {} \\nWords: {}'.format(indx, topics))"
      ]
    },
    {
      "cell_type": "markdown",
      "id": "a6b78a44",
      "metadata": {
        "id": "a6b78a44"
      },
      "source": [
        "### ATM coherence with UMass"
      ]
    },
    {
      "cell_type": "code",
      "execution_count": null,
      "id": "454361fc",
      "metadata": {
        "id": "454361fc",
        "colab": {
          "base_uri": "https://localhost:8080/"
        },
        "outputId": "5096d9c2-7e01-48dd-fa80-1fd079ab9970"
      },
      "outputs": [
        {
          "output_type": "stream",
          "name": "stderr",
          "text": [
            "/usr/local/lib/python3.10/dist-packages/ipykernel/ipkernel.py:283: DeprecationWarning: `should_run_async` will not call `transform_cell` automatically in the future. Please pass the result to `transformed_cell` argument and any exception that happen during thetransform in `preprocessing_exc_tuple` in IPython 7.17 and above.\n",
            "  and should_run_async(code)\n"
          ]
        },
        {
          "output_type": "stream",
          "name": "stdout",
          "text": [
            "\n",
            "Coherence Score with UMASS:  -21.72864505446387\n"
          ]
        }
      ],
      "source": [
        "\n",
        "coherence_model_ATM = CoherenceModel(model=model, dictionary=dictionary, coherence='u_mass',corpus=bow_corpus)\n",
        "coherence_ATM_uMass = coherence_model_ATM.get_coherence()\n",
        "print('\\nCoherence Score with UMASS: ', coherence_ATM_uMass)"
      ]
    },
    {
      "cell_type": "markdown",
      "id": "a4363fb6",
      "metadata": {
        "id": "a4363fb6"
      },
      "source": [
        "### ATM coherence with CV"
      ]
    },
    {
      "cell_type": "code",
      "execution_count": null,
      "id": "f2731650",
      "metadata": {
        "id": "f2731650",
        "colab": {
          "base_uri": "https://localhost:8080/"
        },
        "outputId": "a343978e-9b94-4027-9687-24102867d51b"
      },
      "outputs": [
        {
          "output_type": "stream",
          "name": "stderr",
          "text": [
            "/usr/local/lib/python3.10/dist-packages/ipykernel/ipkernel.py:283: DeprecationWarning: `should_run_async` will not call `transform_cell` automatically in the future. Please pass the result to `transformed_cell` argument and any exception that happen during thetransform in `preprocessing_exc_tuple` in IPython 7.17 and above.\n",
            "  and should_run_async(code)\n"
          ]
        },
        {
          "output_type": "stream",
          "name": "stdout",
          "text": [
            "\n",
            "Coherence Score with CV:  0.5668946372515018\n"
          ]
        }
      ],
      "source": [
        "# Compute Coherence Score\n",
        "documents = data['text'].values\n",
        "texts = [[word for word in str(document).split()] for document in documents]\n",
        "id2word = corpora.Dictionary(texts)\n",
        "corpus = [id2word.doc2bow(text) for text in texts]\n",
        "\n",
        "coherence_model_ATM = CoherenceModel(model=model, dictionary=id2word, corpus=bow_corpus, coherence='c_v', texts = texts)\n",
        "coherence_ATM_CV = coherence_model_ATM.get_coherence()\n",
        "print('\\nCoherence Score with CV: ', coherence_ATM_CV)"
      ]
    },
    {
      "cell_type": "markdown",
      "id": "3ffcf9cf",
      "metadata": {
        "id": "3ffcf9cf"
      },
      "source": [
        "### ATM coherence with c_uci"
      ]
    },
    {
      "cell_type": "code",
      "execution_count": null,
      "id": "6765d6e3",
      "metadata": {
        "id": "6765d6e3",
        "colab": {
          "base_uri": "https://localhost:8080/"
        },
        "outputId": "d9385715-3a13-4e30-aa56-123026380773"
      },
      "outputs": [
        {
          "output_type": "stream",
          "name": "stderr",
          "text": [
            "/usr/local/lib/python3.10/dist-packages/ipykernel/ipkernel.py:283: DeprecationWarning: `should_run_async` will not call `transform_cell` automatically in the future. Please pass the result to `transformed_cell` argument and any exception that happen during thetransform in `preprocessing_exc_tuple` in IPython 7.17 and above.\n",
            "  and should_run_async(code)\n"
          ]
        },
        {
          "output_type": "stream",
          "name": "stdout",
          "text": [
            "\n",
            "Coherence Score c_uci:  -9.060211536944895\n"
          ]
        }
      ],
      "source": [
        "documents = data['text'].values\n",
        "texts = [[word for word in str(document).split()] for document in documents]\n",
        "id2word = corpora.Dictionary(texts)\n",
        "corpus = [id2word.doc2bow(text) for text in texts]\n",
        "cm = CoherenceModel(model=model,texts=texts,dictionary=id2word, corpus=bow_corpus, coherence='c_uci')\n",
        "ATM_coherence_cuci = cm.get_coherence()\n",
        "print('\\nCoherence Score c_uci: ', ATM_coherence_cuci)\n"
      ]
    },
    {
      "cell_type": "markdown",
      "id": "1936f658",
      "metadata": {
        "id": "1936f658"
      },
      "source": [
        "### ATM coherence with c_nmpi"
      ]
    },
    {
      "cell_type": "code",
      "execution_count": null,
      "id": "3626b824",
      "metadata": {
        "id": "3626b824",
        "colab": {
          "base_uri": "https://localhost:8080/"
        },
        "outputId": "9e42c75c-0726-450a-85b1-6e2edcef7416"
      },
      "outputs": [
        {
          "output_type": "stream",
          "name": "stderr",
          "text": [
            "/usr/local/lib/python3.10/dist-packages/ipykernel/ipkernel.py:283: DeprecationWarning: `should_run_async` will not call `transform_cell` automatically in the future. Please pass the result to `transformed_cell` argument and any exception that happen during thetransform in `preprocessing_exc_tuple` in IPython 7.17 and above.\n",
            "  and should_run_async(code)\n"
          ]
        },
        {
          "output_type": "stream",
          "name": "stdout",
          "text": [
            "\n",
            "Coherence Score c_npmi:  -0.3237974459504387\n"
          ]
        }
      ],
      "source": [
        "documents = data['text'].values\n",
        "texts = [[word for word in str(document).split()] for document in documents]\n",
        "id2word = corpora.Dictionary(texts)\n",
        "corpus = [id2word.doc2bow(text) for text in texts]\n",
        "cm = CoherenceModel(model=model,texts=texts,dictionary=id2word, corpus=bow_corpus, coherence='c_npmi')\n",
        "ATM_coherence_cnmpi = cm.get_coherence()\n",
        "print('\\nCoherence Score c_npmi: ', ATM_coherence_cnmpi)"
      ]
    },
    {
      "cell_type": "code",
      "execution_count": null,
      "id": "691cf9a1",
      "metadata": {
        "id": "691cf9a1",
        "colab": {
          "base_uri": "https://localhost:8080/"
        },
        "outputId": "280da7c3-5461-44a0-9301-13a35508beb7"
      },
      "outputs": [
        {
          "output_type": "stream",
          "name": "stderr",
          "text": [
            "/usr/local/lib/python3.10/dist-packages/ipykernel/ipkernel.py:283: DeprecationWarning: `should_run_async` will not call `transform_cell` automatically in the future. Please pass the result to `transformed_cell` argument and any exception that happen during thetransform in `preprocessing_exc_tuple` in IPython 7.17 and above.\n",
            "  and should_run_async(code)\n"
          ]
        }
      ],
      "source": [
        "#process = pd.DataFrame(processed_docs)\n"
      ]
    },
    {
      "cell_type": "code",
      "execution_count": null,
      "id": "f6963e1e",
      "metadata": {
        "scrolled": true,
        "id": "f6963e1e",
        "colab": {
          "base_uri": "https://localhost:8080/"
        },
        "outputId": "05a10f52-5d57-4f1e-84d3-70fefa210597"
      },
      "outputs": [
        {
          "output_type": "stream",
          "name": "stderr",
          "text": [
            "/usr/local/lib/python3.10/dist-packages/ipykernel/ipkernel.py:283: DeprecationWarning: `should_run_async` will not call `transform_cell` automatically in the future. Please pass the result to `transformed_cell` argument and any exception that happen during thetransform in `preprocessing_exc_tuple` in IPython 7.17 and above.\n",
            "  and should_run_async(code)\n"
          ]
        },
        {
          "output_type": "execute_result",
          "data": {
            "text/plain": [
              "pandas.core.frame.DataFrame"
            ]
          },
          "metadata": {},
          "execution_count": 117
        }
      ],
      "source": [
        "type(data_text)"
      ]
    },
    {
      "cell_type": "markdown",
      "id": "85bacf9a",
      "metadata": {
        "id": "85bacf9a"
      },
      "source": [
        "# 11- Short for Gibbs Sampling Dirichlet Multinomial Mixture(GSDMM)"
      ]
    },
    {
      "cell_type": "code",
      "execution_count": null,
      "id": "hbgaKlM_XinJ",
      "metadata": {
        "id": "hbgaKlM_XinJ",
        "colab": {
          "base_uri": "https://localhost:8080/"
        },
        "outputId": "d7d2b816-7664-49f2-991f-e78920a33f17"
      },
      "outputs": [
        {
          "output_type": "stream",
          "name": "stderr",
          "text": [
            "/usr/local/lib/python3.10/dist-packages/ipykernel/ipkernel.py:283: DeprecationWarning: `should_run_async` will not call `transform_cell` automatically in the future. Please pass the result to `transformed_cell` argument and any exception that happen during thetransform in `preprocessing_exc_tuple` in IPython 7.17 and above.\n",
            "  and should_run_async(code)\n"
          ]
        },
        {
          "output_type": "stream",
          "name": "stdout",
          "text": [
            "In stage 0: transferred 43065 clusters with 20 clusters populated\n"
          ]
        }
      ],
      "source": [
        "documents = data['text'].values\n",
        "mgp = MovieGroupProcess(K=20, alpha=0.1, beta=0.1, n_iters=1)\n",
        "\n",
        "# Transform documents\n",
        "tokens = [doc.split() for doc in documents]\n",
        "\n",
        "id2word = gensim.corpora.Dictionary(tokens)\n",
        "\n",
        "y = mgp.fit(tokens ,len(id2word))"
      ]
    },
    {
      "cell_type": "code",
      "execution_count": null,
      "id": "ce9f5883",
      "metadata": {
        "id": "ce9f5883",
        "colab": {
          "base_uri": "https://localhost:8080/"
        },
        "outputId": "1b2b4974-1d37-4a2b-d432-c05e103e7a4c"
      },
      "outputs": [
        {
          "output_type": "stream",
          "name": "stdout",
          "text": [
            "Number of documents per topic : [2105 1953 1819 3664 1422 1509 2408 2267 2031 4212 3759 2337 4104 1595\n",
            " 2069 1778 1532 1532 2494 3151]\n",
            "********************\n",
            "Most important clusters (by number of docs inside): [ 4  5 17 16 13 15  2  1  8 14  0  7 11  6 18 19  3 10 12  9]\n",
            "********************\n",
            "Cluster 0 : [('الامام', 1), ('منزل', 1), ('كتير', 1), ('الاميل', 1), ('الاخر', 1), ('الرابع', 1), ('حماد', 1), ('تعذر', 1), ('التطوير', 1), ('رحمة', 1)]\n",
            "Cluster 1 : [('المرور', 1), ('سالت', 1), ('نسيت', 1), ('واضافة', 1), ('اذن', 1), ('بالمنزل', 1), ('وضع', 1), ('هيكون', 1), ('تانية', 1), ('طب', 1)]\n",
            "Cluster 2 : [('سالت', 1), ('قالي', 1), ('يتسني', 1), ('8/8/2020', 1), ('الدلتا', 1), ('بسجل', 1), ('لنفس', 1), ('بالدخول', 1), ('ايستفاء', 1), ('المقدمه', 1)]\n",
            "Cluster 3 : [('تعب', 1), ('قومى', 1), ('بالخطا', 1), ('وعقد', 1), ('للتيار', 1), ('بريد', 1), ('لؤلؤة', 1), ('سيدى', 1), ('الإيصال', 1), ('لديهم', 1)]\n",
            "Cluster 4 : [('ملحوظه', 1), ('المدن', 1), ('الموظفين', 1), ('بالدفع', 1), ('احصل', 1), ('تلفونيا', 1), ('باختيار', 1), ('متوقع', 1), ('الوزارة', 1), ('مفروض', 1)]\n",
            "Cluster 5 : [('بتعديل', 1), ('شرطه', 1), ('استفساري', 1), ('والان', 1), ('بالخطا', 1), ('رفضه', 1), ('آلان', 1), ('العدادت', 1), ('لمعرفه', 1), ('شغالة', 1)]\n",
            "Cluster 6 : [('كلمة', 1), ('السر', 1), ('وده', 1), ('الارسال', 1), ('لتأكيد', 1), ('كرت', 1), ('الكرت', 1), ('والتقديم', 1), ('لتغيير', 1), ('أقدم', 1)]\n",
            "Cluster 7 : [('اتذكر', 1), ('قومى', 1), ('استكمل', 1), ('الشارع', 1), ('والموقع', 1), ('مستقل', 1), ('للتواصل', 1), ('رقم321266', 1), ('القانوني', 1), ('تابعة', 1)]\n",
            "Cluster 8 : [('عبدالرحمن', 1), ('وقالي', 1), ('ارسلته', 1), ('الجميع', 1), ('ومستوفي', 1), ('بالنظر', 1), ('وظهر', 1), ('الوجه', 1), ('الظهر', 1), ('تقدمنا', 1)]\n",
            "Cluster 9 : [('بالتركيب', 1), ('وسداد', 1), ('استعادة', 1), ('باضافة', 1), ('ومازالت', 1), ('الحاجة', 1), ('الطيران', 1), ('الثالث', 1), ('ستكون', 1), ('اتمنى', 1)]\n",
            "Cluster 10 : [('شحن', 1), ('الصحيح', 1), ('كله', 1), ('كام', 1), ('ايقونة', 1), ('اجمالي', 1), ('موثق', 1), ('الرفع', 1), ('الإيجار', 1), ('الموثق', 1)]\n",
            "Cluster 11 : [('عندكم', 1), ('403000', 1), ('وعقد', 1), ('يصدر', 1), ('لعقد', 1), ('مفعل', 1), ('التعليق', 1), ('اعمده', 1), ('بسال', 1), ('فكنت', 1)]\n",
            "Cluster 12 : [('فانا', 1), ('لرسوم', 1), ('مرجعي', 1), ('65', 1), ('اجي', 1), ('ويحدث', 1), ('وجاري', 1), ('المطار', 1), ('50', 1), ('الدولة', 1)]\n",
            "Cluster 13 : [('سالت', 1), ('اغسطس', 1), ('ظل', 1), ('احمد', 1), ('السيد', 1), ('وارغب', 1), ('وسداد', 1), ('استمر', 1), ('بيقول', 1), ('للمنزل', 1)]\n",
            "Cluster 14 : [('صحيحة', 1), ('المهندس', 1), ('جاء', 1), ('كامله', 1), ('موبايل', 1), ('اسمه', 1), ('التسجيل', 1), ('لصاحب', 1), ('بطاقة', 1), ('وعنوان', 1)]\n",
            "Cluster 15 : [('اضافتها', 1), ('حابب', 1), ('دور', 1), ('ماقدمت', 1), ('سليم', 1), ('برج', 1), ('بإرفاق', 1), ('30', 1), ('والرجاء', 1), ('والاحترام', 1)]\n",
            "Cluster 16 : [('لخدمات', 1), ('ومركز', 1), ('السر', 1), ('وشركه', 1), ('أخرى', 1), ('وهذه', 1), ('استعلم', 1), ('عادى', 1), ('وقيد', 1), ('ضياع', 1)]\n",
            "Cluster 17 : [('لعقد', 1), ('محول', 1), ('2019', 1), ('الرئيسى', 1), ('اننا', 1), ('نستطيع', 1), ('وبعت', 1), ('إعادة', 1), ('التعليق', 1), ('سدادها', 1)]\n",
            "Cluster 18 : [('لحسن', 1), ('ونسيت', 1), ('بإسم', 1), ('مصلحه', 1), ('جرين', 1), ('تاورز', 1), ('لتغير', 1), ('وبالتالي', 1), ('سليمه', 1), ('بياناتي', 1)]\n",
            "Cluster 19 : [('وش', 1), ('القيمه', 1), ('اظهار', 1), ('والتراخيص', 1), ('البياناتالتعليق', 1), ('٢٣', 1), ('جتلى', 1), ('عليكمانا', 1), ('واترفض', 1), ('منذو', 1)]\n"
          ]
        },
        {
          "output_type": "stream",
          "name": "stderr",
          "text": [
            "/usr/local/lib/python3.10/dist-packages/ipykernel/ipkernel.py:283: DeprecationWarning: `should_run_async` will not call `transform_cell` automatically in the future. Please pass the result to `transformed_cell` argument and any exception that happen during thetransform in `preprocessing_exc_tuple` in IPython 7.17 and above.\n",
            "  and should_run_async(code)\n"
          ]
        }
      ],
      "source": [
        "doc_count = np.array(mgp.cluster_doc_count)\n",
        "print('Number of documents per topic :', doc_count)\n",
        "print('*'*20)\n",
        "# Topics sorted by the number of document they are allocated to\n",
        "top_index = doc_count.argsort()\n",
        "print('Most important clusters (by number of docs inside):', top_index)\n",
        "print('*'*20)\n",
        "# Show the top 5 words in term frequency for each cluster\n",
        "for i in range(20):\n",
        "    print(\"Cluster\",i,':',sorted(mgp.cluster_word_distribution[i].items(), key=lambda item: item[1])[:10])"
      ]
    },
    {
      "cell_type": "code",
      "execution_count": null,
      "id": "44897ab7",
      "metadata": {
        "id": "44897ab7",
        "colab": {
          "base_uri": "https://localhost:8080/"
        },
        "outputId": "f1a6de7d-6c8a-40b3-e023-9ae5b425d644"
      },
      "outputs": [
        {
          "output_type": "stream",
          "name": "stderr",
          "text": [
            "/usr/local/lib/python3.10/dist-packages/ipykernel/ipkernel.py:283: DeprecationWarning: `should_run_async` will not call `transform_cell` automatically in the future. Please pass the result to `transformed_cell` argument and any exception that happen during thetransform in `preprocessing_exc_tuple` in IPython 7.17 and above.\n",
            "  and should_run_async(code)\n"
          ]
        }
      ],
      "source": [
        "def get_topics_lists(model, top_clusters, n_words):\n",
        "    '''\n",
        "    Gets lists of words in topics as a list of lists.\n",
        "\n",
        "    model: gsdmm instance\n",
        "    top_clusters:  numpy array containing indices of top_clusters\n",
        "    n_words: top n number of words to include\n",
        "\n",
        "    '''\n",
        "    # create empty list to contain topics\n",
        "    topics = []\n",
        "\n",
        "    # iterate over top n clusters\n",
        "    for cluster in top_clusters:\n",
        "        #create sorted dictionary of word distributions\n",
        "        sorted_dict = sorted(model.cluster_word_distribution[cluster].items(), key=lambda k: k[1], reverse=True)[:n_words]\n",
        "\n",
        "        #create empty list to contain words\n",
        "        topic = []\n",
        "\n",
        "        #iterate over top n words in topic\n",
        "        for k,v in sorted_dict:\n",
        "            #append words to topic list\n",
        "            topic.append(k)\n",
        "\n",
        "        #append topics to topics list\n",
        "        topics.append(topic)\n",
        "\n",
        "    return topics"
      ]
    },
    {
      "cell_type": "markdown",
      "id": "fa47c053",
      "metadata": {
        "id": "fa47c053"
      },
      "source": [
        "### GSDMM coherence with u_mass"
      ]
    },
    {
      "cell_type": "code",
      "execution_count": null,
      "id": "ad870bec",
      "metadata": {
        "id": "ad870bec",
        "colab": {
          "base_uri": "https://localhost:8080/"
        },
        "outputId": "6b13facc-02c7-4352-8e4e-405442c1f418"
      },
      "outputs": [
        {
          "output_type": "stream",
          "name": "stderr",
          "text": [
            "/usr/local/lib/python3.10/dist-packages/ipykernel/ipkernel.py:283: DeprecationWarning: `should_run_async` will not call `transform_cell` automatically in the future. Please pass the result to `transformed_cell` argument and any exception that happen during thetransform in `preprocessing_exc_tuple` in IPython 7.17 and above.\n",
            "  and should_run_async(code)\n"
          ]
        },
        {
          "output_type": "stream",
          "name": "stdout",
          "text": [
            "-21.252595803289488\n"
          ]
        }
      ],
      "source": [
        "documents = data['text'].values\n",
        "texts = [[word for word in str(document).split()] for document in documents]\n",
        "id2word = corpora.Dictionary(texts)\n",
        "corpus = [id2word.doc2bow(text) for text in texts]\n",
        "topics = get_topics_lists(mgp, top_index, 20)\n",
        "\n",
        "# evaluate model using Topic Coherence score\n",
        "cm_gsdmm = CoherenceModel(topics=topics,\n",
        "                          dictionary=id2word,\n",
        "                          corpus=bow_corpus,\n",
        "                          texts=documents,\n",
        "                          coherence='u_mass')\n",
        "\n",
        "# get coherence value\n",
        "coherence_gsdmm_u_mass = cm_gsdmm.get_coherence()\n",
        "\n",
        "print(coherence_gsdmm_u_mass)"
      ]
    },
    {
      "cell_type": "markdown",
      "id": "f3892a75",
      "metadata": {
        "id": "f3892a75"
      },
      "source": [
        "### GSDMM coherence with C_uci"
      ]
    },
    {
      "cell_type": "code",
      "execution_count": null,
      "id": "7400617f",
      "metadata": {
        "id": "7400617f",
        "colab": {
          "base_uri": "https://localhost:8080/"
        },
        "outputId": "b04a083a-8ea6-4f89-f5ff-5d1046ff3839"
      },
      "outputs": [
        {
          "output_type": "stream",
          "name": "stderr",
          "text": [
            "/usr/local/lib/python3.10/dist-packages/ipykernel/ipkernel.py:283: DeprecationWarning: `should_run_async` will not call `transform_cell` automatically in the future. Please pass the result to `transformed_cell` argument and any exception that happen during thetransform in `preprocessing_exc_tuple` in IPython 7.17 and above.\n",
            "  and should_run_async(code)\n"
          ]
        },
        {
          "output_type": "stream",
          "name": "stdout",
          "text": [
            "inf\n"
          ]
        }
      ],
      "source": [
        "documents = data['text'].values\n",
        "texts = [[word for word in str(document).split()] for document in documents]\n",
        "id2word = corpora.Dictionary(texts)\n",
        "corpus = [id2word.doc2bow(text) for text in texts]\n",
        "topics = get_topics_lists(mgp, top_index, 20)\n",
        "\n",
        "# evaluate model using Topic Coherence score\n",
        "cm_gsdmm = CoherenceModel(topics=topics,\n",
        "                          dictionary=id2word,\n",
        "                          corpus=bow_corpus,\n",
        "                          texts=documents,\n",
        "                          coherence='c_uci')\n",
        "\n",
        "# get coherence value\n",
        "coherence_gsdmm_cuci = cm_gsdmm.get_coherence()\n",
        "\n",
        "print(coherence_gsdmm_cuci)\n"
      ]
    },
    {
      "cell_type": "markdown",
      "id": "31187f2d",
      "metadata": {
        "id": "31187f2d"
      },
      "source": [
        "### GSDMM coherence with c_nmpi"
      ]
    },
    {
      "cell_type": "code",
      "execution_count": null,
      "id": "31335038",
      "metadata": {
        "id": "31335038",
        "colab": {
          "base_uri": "https://localhost:8080/"
        },
        "outputId": "dcafab22-f759-4446-a5d6-ad535da669bc"
      },
      "outputs": [
        {
          "output_type": "stream",
          "name": "stderr",
          "text": [
            "/usr/local/lib/python3.10/dist-packages/ipykernel/ipkernel.py:283: DeprecationWarning: `should_run_async` will not call `transform_cell` automatically in the future. Please pass the result to `transformed_cell` argument and any exception that happen during thetransform in `preprocessing_exc_tuple` in IPython 7.17 and above.\n",
            "  and should_run_async(code)\n"
          ]
        },
        {
          "output_type": "stream",
          "name": "stdout",
          "text": [
            "inf\n"
          ]
        }
      ],
      "source": [
        "documents = data['text'].values\n",
        "texts = [[word for word in str(document).split()] for document in documents]\n",
        "id2word = corpora.Dictionary(texts)\n",
        "corpus = [id2word.doc2bow(text) for text in texts]\n",
        "topics = get_topics_lists(mgp, top_index, 20)\n",
        "\n",
        "# evaluate model using Topic Coherence score\n",
        "cm_gsdmm = CoherenceModel(topics=topics,\n",
        "                          dictionary=id2word,\n",
        "                          corpus=bow_corpus,\n",
        "                          texts=documents,\n",
        "                          coherence='c_npmi')\n",
        "\n",
        "# get coherence value\n",
        "coherence_gsdmm_nmpi = cm_gsdmm.get_coherence()\n",
        "\n",
        "print(coherence_gsdmm_nmpi)\n"
      ]
    },
    {
      "cell_type": "markdown",
      "id": "c6a62d7c",
      "metadata": {
        "id": "c6a62d7c"
      },
      "source": [
        "### GSDMM coherence with CV"
      ]
    },
    {
      "cell_type": "code",
      "execution_count": null,
      "id": "f050c86e",
      "metadata": {
        "id": "f050c86e",
        "colab": {
          "base_uri": "https://localhost:8080/"
        },
        "outputId": "26098a1b-1e88-4b8b-d218-cc7bc13ec177"
      },
      "outputs": [
        {
          "output_type": "stream",
          "name": "stderr",
          "text": [
            "/usr/local/lib/python3.10/dist-packages/ipykernel/ipkernel.py:283: DeprecationWarning: `should_run_async` will not call `transform_cell` automatically in the future. Please pass the result to `transformed_cell` argument and any exception that happen during thetransform in `preprocessing_exc_tuple` in IPython 7.17 and above.\n",
            "  and should_run_async(code)\n"
          ]
        },
        {
          "output_type": "stream",
          "name": "stdout",
          "text": [
            "nan\n"
          ]
        }
      ],
      "source": [
        "documents = data['text'].values\n",
        "texts = [[word for word in str(document).split()] for document in documents]\n",
        "id2word = corpora.Dictionary(texts)\n",
        "corpus = [id2word.doc2bow(text) for text in texts]\n",
        "topics = get_topics_lists(mgp, top_index, 20)\n",
        "\n",
        "# evaluate model using Topic Coherence score\n",
        "cm_gsdmm = CoherenceModel(topics=topics,\n",
        "                          dictionary=id2word,\n",
        "                          corpus=bow_corpus,\n",
        "                          texts=documents,\n",
        "                          coherence='c_v')\n",
        "\n",
        "# get coherence value\n",
        "coherence_gsdmm_cv = cm_gsdmm.get_coherence()\n",
        "\n",
        "print(coherence_gsdmm_cv)\n"
      ]
    },
    {
      "cell_type": "markdown",
      "id": "493ebd24",
      "metadata": {
        "id": "493ebd24"
      },
      "source": [
        "# Evaluation models using grid_search"
      ]
    },
    {
      "cell_type": "markdown",
      "id": "8fad0e7a",
      "metadata": {
        "id": "8fad0e7a"
      },
      "source": [
        "# comparison by score"
      ]
    },
    {
      "cell_type": "code",
      "execution_count": null,
      "id": "beba28a3",
      "metadata": {
        "id": "beba28a3",
        "colab": {
          "base_uri": "https://localhost:8080/",
          "height": 419
        },
        "outputId": "e6a1bb0e-30d9-435e-9482-742ae4c58243"
      },
      "outputs": [
        {
          "output_type": "stream",
          "name": "stderr",
          "text": [
            "/usr/local/lib/python3.10/dist-packages/ipykernel/ipkernel.py:283: DeprecationWarning: `should_run_async` will not call `transform_cell` automatically in the future. Please pass the result to `transformed_cell` argument and any exception that happen during thetransform in `preprocessing_exc_tuple` in IPython 7.17 and above.\n",
            "  and should_run_async(code)\n"
          ]
        },
        {
          "output_type": "execute_result",
          "data": {
            "text/plain": [
              "     Model  Score_by_CV  Score_by_uMass  Score_by_cuci  Score_by_cnpmi\n",
              "2      HDP     0.756876   -2.189752e+01     -16.826159       -0.596562\n",
              "4      ATM     0.566895   -2.172865e+01      -9.060212       -0.323797\n",
              "9      DMR     0.507008   -1.110223e-16     -14.103073       -0.486288\n",
              "5  LDA_SEQ     0.461672   -5.094355e+00      -6.340599       -0.163989\n",
              "8     HPAM     0.460992   -1.110223e-16     -13.006103       -0.450835\n",
              "3      NMF     0.440859   -4.323521e+00      -7.035551       -0.248812\n",
              "6      PAM     0.435959   -1.110223e-16     -16.102059       -0.563725\n",
              "1      LSI     0.424483   -8.614508e+00      -8.208682       -0.202563\n",
              "0      LDA     0.377390   -6.980183e+00      -7.902150       -0.229918\n",
              "7    GSDMM          NaN   -2.125260e+01            inf             inf"
            ],
            "text/html": [
              "\n",
              "  <div id=\"df-7d4ea4db-23ae-4bc7-9d75-7ad815f27783\" class=\"colab-df-container\">\n",
              "    <div>\n",
              "<style scoped>\n",
              "    .dataframe tbody tr th:only-of-type {\n",
              "        vertical-align: middle;\n",
              "    }\n",
              "\n",
              "    .dataframe tbody tr th {\n",
              "        vertical-align: top;\n",
              "    }\n",
              "\n",
              "    .dataframe thead th {\n",
              "        text-align: right;\n",
              "    }\n",
              "</style>\n",
              "<table border=\"1\" class=\"dataframe\">\n",
              "  <thead>\n",
              "    <tr style=\"text-align: right;\">\n",
              "      <th></th>\n",
              "      <th>Model</th>\n",
              "      <th>Score_by_CV</th>\n",
              "      <th>Score_by_uMass</th>\n",
              "      <th>Score_by_cuci</th>\n",
              "      <th>Score_by_cnpmi</th>\n",
              "    </tr>\n",
              "  </thead>\n",
              "  <tbody>\n",
              "    <tr>\n",
              "      <th>2</th>\n",
              "      <td>HDP</td>\n",
              "      <td>0.756876</td>\n",
              "      <td>-2.189752e+01</td>\n",
              "      <td>-16.826159</td>\n",
              "      <td>-0.596562</td>\n",
              "    </tr>\n",
              "    <tr>\n",
              "      <th>4</th>\n",
              "      <td>ATM</td>\n",
              "      <td>0.566895</td>\n",
              "      <td>-2.172865e+01</td>\n",
              "      <td>-9.060212</td>\n",
              "      <td>-0.323797</td>\n",
              "    </tr>\n",
              "    <tr>\n",
              "      <th>9</th>\n",
              "      <td>DMR</td>\n",
              "      <td>0.507008</td>\n",
              "      <td>-1.110223e-16</td>\n",
              "      <td>-14.103073</td>\n",
              "      <td>-0.486288</td>\n",
              "    </tr>\n",
              "    <tr>\n",
              "      <th>5</th>\n",
              "      <td>LDA_SEQ</td>\n",
              "      <td>0.461672</td>\n",
              "      <td>-5.094355e+00</td>\n",
              "      <td>-6.340599</td>\n",
              "      <td>-0.163989</td>\n",
              "    </tr>\n",
              "    <tr>\n",
              "      <th>8</th>\n",
              "      <td>HPAM</td>\n",
              "      <td>0.460992</td>\n",
              "      <td>-1.110223e-16</td>\n",
              "      <td>-13.006103</td>\n",
              "      <td>-0.450835</td>\n",
              "    </tr>\n",
              "    <tr>\n",
              "      <th>3</th>\n",
              "      <td>NMF</td>\n",
              "      <td>0.440859</td>\n",
              "      <td>-4.323521e+00</td>\n",
              "      <td>-7.035551</td>\n",
              "      <td>-0.248812</td>\n",
              "    </tr>\n",
              "    <tr>\n",
              "      <th>6</th>\n",
              "      <td>PAM</td>\n",
              "      <td>0.435959</td>\n",
              "      <td>-1.110223e-16</td>\n",
              "      <td>-16.102059</td>\n",
              "      <td>-0.563725</td>\n",
              "    </tr>\n",
              "    <tr>\n",
              "      <th>1</th>\n",
              "      <td>LSI</td>\n",
              "      <td>0.424483</td>\n",
              "      <td>-8.614508e+00</td>\n",
              "      <td>-8.208682</td>\n",
              "      <td>-0.202563</td>\n",
              "    </tr>\n",
              "    <tr>\n",
              "      <th>0</th>\n",
              "      <td>LDA</td>\n",
              "      <td>0.377390</td>\n",
              "      <td>-6.980183e+00</td>\n",
              "      <td>-7.902150</td>\n",
              "      <td>-0.229918</td>\n",
              "    </tr>\n",
              "    <tr>\n",
              "      <th>7</th>\n",
              "      <td>GSDMM</td>\n",
              "      <td>NaN</td>\n",
              "      <td>-2.125260e+01</td>\n",
              "      <td>inf</td>\n",
              "      <td>inf</td>\n",
              "    </tr>\n",
              "  </tbody>\n",
              "</table>\n",
              "</div>\n",
              "    <div class=\"colab-df-buttons\">\n",
              "\n",
              "  <div class=\"colab-df-container\">\n",
              "    <button class=\"colab-df-convert\" onclick=\"convertToInteractive('df-7d4ea4db-23ae-4bc7-9d75-7ad815f27783')\"\n",
              "            title=\"Convert this dataframe to an interactive table.\"\n",
              "            style=\"display:none;\">\n",
              "\n",
              "  <svg xmlns=\"http://www.w3.org/2000/svg\" height=\"24px\" viewBox=\"0 -960 960 960\">\n",
              "    <path d=\"M120-120v-720h720v720H120Zm60-500h600v-160H180v160Zm220 220h160v-160H400v160Zm0 220h160v-160H400v160ZM180-400h160v-160H180v160Zm440 0h160v-160H620v160ZM180-180h160v-160H180v160Zm440 0h160v-160H620v160Z\"/>\n",
              "  </svg>\n",
              "    </button>\n",
              "\n",
              "  <style>\n",
              "    .colab-df-container {\n",
              "      display:flex;\n",
              "      gap: 12px;\n",
              "    }\n",
              "\n",
              "    .colab-df-convert {\n",
              "      background-color: #E8F0FE;\n",
              "      border: none;\n",
              "      border-radius: 50%;\n",
              "      cursor: pointer;\n",
              "      display: none;\n",
              "      fill: #1967D2;\n",
              "      height: 32px;\n",
              "      padding: 0 0 0 0;\n",
              "      width: 32px;\n",
              "    }\n",
              "\n",
              "    .colab-df-convert:hover {\n",
              "      background-color: #E2EBFA;\n",
              "      box-shadow: 0px 1px 2px rgba(60, 64, 67, 0.3), 0px 1px 3px 1px rgba(60, 64, 67, 0.15);\n",
              "      fill: #174EA6;\n",
              "    }\n",
              "\n",
              "    .colab-df-buttons div {\n",
              "      margin-bottom: 4px;\n",
              "    }\n",
              "\n",
              "    [theme=dark] .colab-df-convert {\n",
              "      background-color: #3B4455;\n",
              "      fill: #D2E3FC;\n",
              "    }\n",
              "\n",
              "    [theme=dark] .colab-df-convert:hover {\n",
              "      background-color: #434B5C;\n",
              "      box-shadow: 0px 1px 3px 1px rgba(0, 0, 0, 0.15);\n",
              "      filter: drop-shadow(0px 1px 2px rgba(0, 0, 0, 0.3));\n",
              "      fill: #FFFFFF;\n",
              "    }\n",
              "  </style>\n",
              "\n",
              "    <script>\n",
              "      const buttonEl =\n",
              "        document.querySelector('#df-7d4ea4db-23ae-4bc7-9d75-7ad815f27783 button.colab-df-convert');\n",
              "      buttonEl.style.display =\n",
              "        google.colab.kernel.accessAllowed ? 'block' : 'none';\n",
              "\n",
              "      async function convertToInteractive(key) {\n",
              "        const element = document.querySelector('#df-7d4ea4db-23ae-4bc7-9d75-7ad815f27783');\n",
              "        const dataTable =\n",
              "          await google.colab.kernel.invokeFunction('convertToInteractive',\n",
              "                                                    [key], {});\n",
              "        if (!dataTable) return;\n",
              "\n",
              "        const docLinkHtml = 'Like what you see? Visit the ' +\n",
              "          '<a target=\"_blank\" href=https://colab.research.google.com/notebooks/data_table.ipynb>data table notebook</a>'\n",
              "          + ' to learn more about interactive tables.';\n",
              "        element.innerHTML = '';\n",
              "        dataTable['output_type'] = 'display_data';\n",
              "        await google.colab.output.renderOutput(dataTable, element);\n",
              "        const docLink = document.createElement('div');\n",
              "        docLink.innerHTML = docLinkHtml;\n",
              "        element.appendChild(docLink);\n",
              "      }\n",
              "    </script>\n",
              "  </div>\n",
              "\n",
              "\n",
              "<div id=\"df-b29c13e9-3d38-4360-a956-7ea2c1997ddf\">\n",
              "  <button class=\"colab-df-quickchart\" onclick=\"quickchart('df-b29c13e9-3d38-4360-a956-7ea2c1997ddf')\"\n",
              "            title=\"Suggest charts\"\n",
              "            style=\"display:none;\">\n",
              "\n",
              "<svg xmlns=\"http://www.w3.org/2000/svg\" height=\"24px\"viewBox=\"0 0 24 24\"\n",
              "     width=\"24px\">\n",
              "    <g>\n",
              "        <path d=\"M19 3H5c-1.1 0-2 .9-2 2v14c0 1.1.9 2 2 2h14c1.1 0 2-.9 2-2V5c0-1.1-.9-2-2-2zM9 17H7v-7h2v7zm4 0h-2V7h2v10zm4 0h-2v-4h2v4z\"/>\n",
              "    </g>\n",
              "</svg>\n",
              "  </button>\n",
              "\n",
              "<style>\n",
              "  .colab-df-quickchart {\n",
              "      --bg-color: #E8F0FE;\n",
              "      --fill-color: #1967D2;\n",
              "      --hover-bg-color: #E2EBFA;\n",
              "      --hover-fill-color: #174EA6;\n",
              "      --disabled-fill-color: #AAA;\n",
              "      --disabled-bg-color: #DDD;\n",
              "  }\n",
              "\n",
              "  [theme=dark] .colab-df-quickchart {\n",
              "      --bg-color: #3B4455;\n",
              "      --fill-color: #D2E3FC;\n",
              "      --hover-bg-color: #434B5C;\n",
              "      --hover-fill-color: #FFFFFF;\n",
              "      --disabled-bg-color: #3B4455;\n",
              "      --disabled-fill-color: #666;\n",
              "  }\n",
              "\n",
              "  .colab-df-quickchart {\n",
              "    background-color: var(--bg-color);\n",
              "    border: none;\n",
              "    border-radius: 50%;\n",
              "    cursor: pointer;\n",
              "    display: none;\n",
              "    fill: var(--fill-color);\n",
              "    height: 32px;\n",
              "    padding: 0;\n",
              "    width: 32px;\n",
              "  }\n",
              "\n",
              "  .colab-df-quickchart:hover {\n",
              "    background-color: var(--hover-bg-color);\n",
              "    box-shadow: 0 1px 2px rgba(60, 64, 67, 0.3), 0 1px 3px 1px rgba(60, 64, 67, 0.15);\n",
              "    fill: var(--button-hover-fill-color);\n",
              "  }\n",
              "\n",
              "  .colab-df-quickchart-complete:disabled,\n",
              "  .colab-df-quickchart-complete:disabled:hover {\n",
              "    background-color: var(--disabled-bg-color);\n",
              "    fill: var(--disabled-fill-color);\n",
              "    box-shadow: none;\n",
              "  }\n",
              "\n",
              "  .colab-df-spinner {\n",
              "    border: 2px solid var(--fill-color);\n",
              "    border-color: transparent;\n",
              "    border-bottom-color: var(--fill-color);\n",
              "    animation:\n",
              "      spin 1s steps(1) infinite;\n",
              "  }\n",
              "\n",
              "  @keyframes spin {\n",
              "    0% {\n",
              "      border-color: transparent;\n",
              "      border-bottom-color: var(--fill-color);\n",
              "      border-left-color: var(--fill-color);\n",
              "    }\n",
              "    20% {\n",
              "      border-color: transparent;\n",
              "      border-left-color: var(--fill-color);\n",
              "      border-top-color: var(--fill-color);\n",
              "    }\n",
              "    30% {\n",
              "      border-color: transparent;\n",
              "      border-left-color: var(--fill-color);\n",
              "      border-top-color: var(--fill-color);\n",
              "      border-right-color: var(--fill-color);\n",
              "    }\n",
              "    40% {\n",
              "      border-color: transparent;\n",
              "      border-right-color: var(--fill-color);\n",
              "      border-top-color: var(--fill-color);\n",
              "    }\n",
              "    60% {\n",
              "      border-color: transparent;\n",
              "      border-right-color: var(--fill-color);\n",
              "    }\n",
              "    80% {\n",
              "      border-color: transparent;\n",
              "      border-right-color: var(--fill-color);\n",
              "      border-bottom-color: var(--fill-color);\n",
              "    }\n",
              "    90% {\n",
              "      border-color: transparent;\n",
              "      border-bottom-color: var(--fill-color);\n",
              "    }\n",
              "  }\n",
              "</style>\n",
              "\n",
              "  <script>\n",
              "    async function quickchart(key) {\n",
              "      const quickchartButtonEl =\n",
              "        document.querySelector('#' + key + ' button');\n",
              "      quickchartButtonEl.disabled = true;  // To prevent multiple clicks.\n",
              "      quickchartButtonEl.classList.add('colab-df-spinner');\n",
              "      try {\n",
              "        const charts = await google.colab.kernel.invokeFunction(\n",
              "            'suggestCharts', [key], {});\n",
              "      } catch (error) {\n",
              "        console.error('Error during call to suggestCharts:', error);\n",
              "      }\n",
              "      quickchartButtonEl.classList.remove('colab-df-spinner');\n",
              "      quickchartButtonEl.classList.add('colab-df-quickchart-complete');\n",
              "    }\n",
              "    (() => {\n",
              "      let quickchartButtonEl =\n",
              "        document.querySelector('#df-b29c13e9-3d38-4360-a956-7ea2c1997ddf button');\n",
              "      quickchartButtonEl.style.display =\n",
              "        google.colab.kernel.accessAllowed ? 'block' : 'none';\n",
              "    })();\n",
              "  </script>\n",
              "</div>\n",
              "    </div>\n",
              "  </div>\n"
            ]
          },
          "metadata": {},
          "execution_count": 125
        }
      ],
      "source": [
        "models = pd.DataFrame({\n",
        "    'Model': ['LDA', 'LSI','HDP','NMF','ATM','LDA_SEQ','PAM','GSDMM','HPAM','DMR'], 'Score_by_CV': [coherence_lda_cv, coherence_lsi_cv,hdp_coherence_cv,nmf_coherence_cv,coherence_ATM_CV,ldaseq_cv,PAM_cv_coherence,coherence_gsdmm_cv,HPAM_cv_coherence,DMR_cv_coherence], 'Score_by_uMass': [coherence_lda_uMass, coherence_lsi_umass,hdp_coherence_umass,nmf_coherence_uMass,coherence_ATM_uMass,ldaseq_umass,PAM_umass_coherence,coherence_gsdmm_u_mass,HPAM_umass_coherence,DMR_umass_coherence]\n",
        "      , 'Score_by_cuci': [coherence_lda_uci, coherence_lsi_uci,hdp_coherence_uci,nmf_coherence_cuci,ATM_coherence_cuci,ldaseq_cuci,PAM_cuci_coherence,coherence_gsdmm_cuci,HPAM_cuci_coherence,DMR_cuci_coherence], 'Score_by_cnpmi': [coherence_lda_npmi, coherence_lsi_nmpi,hdp_coherence_nmpi,nmf_coherence_cnmpi,ATM_coherence_cnmpi,ldaseq_cnmpi,PAM_cnpmi_coherence,coherence_gsdmm_nmpi,HPAM_cnmpi_coherence,DMR_cnmpi_coherence]})\n",
        "\n",
        "#print(models)\n",
        "models.sort_values(by='Score_by_CV', ascending=False)\n",
        "\n",
        "\n",
        "\n"
      ]
    },
    {
      "cell_type": "code",
      "execution_count": null,
      "id": "1ac890c0",
      "metadata": {
        "id": "1ac890c0",
        "colab": {
          "base_uri": "https://localhost:8080/",
          "height": 578
        },
        "outputId": "7757807f-40cf-4c35-d252-d3e36a9b9d10"
      },
      "outputs": [
        {
          "output_type": "stream",
          "name": "stderr",
          "text": [
            "/usr/local/lib/python3.10/dist-packages/ipykernel/ipkernel.py:283: DeprecationWarning: `should_run_async` will not call `transform_cell` automatically in the future. Please pass the result to `transformed_cell` argument and any exception that happen during thetransform in `preprocessing_exc_tuple` in IPython 7.17 and above.\n",
            "  and should_run_async(code)\n"
          ]
        },
        {
          "output_type": "display_data",
          "data": {
            "text/plain": [
              "<Figure size 640x480 with 1 Axes>"
            ],
            "image/png": "[encoded data removed]"
          },
          "metadata": {}
        }
      ],
      "source": [
        "\n",
        "# A python dictionary\n",
        "\n",
        "data = {\"Models\":['LDA', 'LSI','HDP','NMF','ATM','LDA_SEQ','PAM','HPAM','DMR'],\n",
        "\n",
        "        \"Score_by_CV\":[coherence_lda_cv, coherence_lsi_cv,hdp_coherence_cv,nmf_coherence_cv,coherence_ATM_CV,ldaseq_cv,PAM_cv_coherence,HPAM_cv_coherence,DMR_cv_coherence]\n",
        "\n",
        "        };\n",
        "\n",
        "# Dictionary loaded into a DataFrame\n",
        "\n",
        "dataFrame = pd.DataFrame(data=data);\n",
        "\n",
        "\n",
        "\n",
        "# Draw a vertical bar chart\n",
        "\n",
        "dataFrame.plot.bar(x=\"Models\", y=\"Score_by_CV\", rot=70, title=\"Evaluate topic modeling algorimths(CV)\");\n",
        "\n",
        "plt.show(block=True);"
      ]
    },
    {
      "cell_type": "code",
      "execution_count": null,
      "id": "8e80b4a0",
      "metadata": {
        "id": "8e80b4a0",
        "colab": {
          "base_uri": "https://localhost:8080/",
          "height": 508
        },
        "outputId": "a4a8f8e6-7809-4610-99da-729d8d43ae41"
      },
      "outputs": [
        {
          "output_type": "stream",
          "name": "stderr",
          "text": [
            "/usr/local/lib/python3.10/dist-packages/ipykernel/ipkernel.py:283: DeprecationWarning: `should_run_async` will not call `transform_cell` automatically in the future. Please pass the result to `transformed_cell` argument and any exception that happen during thetransform in `preprocessing_exc_tuple` in IPython 7.17 and above.\n",
            "  and should_run_async(code)\n"
          ]
        },
        {
          "output_type": "display_data",
          "data": {
            "text/plain": [
              "<Figure size 640x480 with 1 Axes>"
            ],
            "image/png": "[encoded data removed]"
          },
          "metadata": {}
        }
      ],
      "source": [
        "# A python dictionary\n",
        "\n",
        "data = {\"Models\":['LDA', 'LSI','HDP','NMF','ATM','LDA_SEQ','PAM','HPAM','DMR'],\n",
        "\n",
        "        \"Score_by_Umass\":[coherence_lda_uMass, coherence_lsi_umass,hdp_coherence_umass,nmf_coherence_uMass,coherence_ATM_uMass,ldaseq_umass,PAM_umass_coherence,HPAM_umass_coherence,DMR_umass_coherence]\n",
        "\n",
        "        };\n",
        "\n",
        "# Dictionary loaded into a DataFrame\n",
        "\n",
        "dataFrame = pd.DataFrame(data=data);\n",
        "\n",
        "\n",
        "\n",
        "# Draw a vertical bar chart\n",
        "\n",
        "dataFrame.plot.barh(x=\"Models\", y=\"Score_by_Umass\", title=\"Evaluate topic modeling algorithms(Umass)\");\n",
        "\n",
        "plt.show(block=True);"
      ]
    },
    {
      "cell_type": "code",
      "execution_count": null,
      "id": "57e2f22f",
      "metadata": {
        "id": "57e2f22f",
        "colab": {
          "base_uri": "https://localhost:8080/",
          "height": 508
        },
        "outputId": "b3df6bed-3cc1-47f8-f0fa-3b5081ccd872"
      },
      "outputs": [
        {
          "output_type": "stream",
          "name": "stderr",
          "text": [
            "/usr/local/lib/python3.10/dist-packages/ipykernel/ipkernel.py:283: DeprecationWarning: `should_run_async` will not call `transform_cell` automatically in the future. Please pass the result to `transformed_cell` argument and any exception that happen during thetransform in `preprocessing_exc_tuple` in IPython 7.17 and above.\n",
            "  and should_run_async(code)\n"
          ]
        },
        {
          "output_type": "display_data",
          "data": {
            "text/plain": [
              "<Figure size 640x480 with 1 Axes>"
            ],
            "image/png": "[encoded data removed]"
          },
          "metadata": {}
        }
      ],
      "source": [
        "# A python dictionary\n",
        "\n",
        "data = {\"Models\":['LDA', 'LSI','HDP','NMF','ATM','LDA_SEQ','PAM','HPAM','DMR'],\n",
        "\n",
        "        \"Score_by_Cuci\":[coherence_lda_uci, coherence_lsi_uci,hdp_coherence_uci,nmf_coherence_cuci,ATM_coherence_cuci,ldaseq_cuci,PAM_cuci_coherence,HPAM_cuci_coherence,DMR_cuci_coherence]\n",
        "\n",
        "        };\n",
        "\n",
        "# Dictionary loaded into a DataFrame\n",
        "\n",
        "dataFrame = pd.DataFrame(data=data);\n",
        "\n",
        "\n",
        "\n",
        "# Draw a vertical bar chart\n",
        "\n",
        "dataFrame.plot.barh(x=\"Models\", y=\"Score_by_Cuci\", title=\"Evaluate topic modeling algorithms (C_uci)\");\n",
        "\n",
        "plt.show(block=True);"
      ]
    }
  ],
  "metadata": {
    "colab": {
      "collapsed_sections": [
        "f56d3435",
        "7cd3cba9",
        "da66a7af",
        "27c9cf2e",
        "6dfcb698",
        "79f1dc3b"
      ],
      "provenance": [],
      "include_colab_link": true
    },
    "kernelspec": {
      "display_name": "Python 3",
      "language": "python",
      "name": "python3"
    },
    "language_info": {
      "codemirror_mode": {
        "name": "ipython",
        "version": 3
      },
      "file_extension": ".py",
      "mimetype": "text/x-python",
      "name": "python",
      "nbconvert_exporter": "python",
      "pygments_lexer": "ipython3",
      "version": "3.9.11"
    },
    "widgets": {
      "application/vnd.jupyter.widget-state+json": {
        "dfcc72d5adf2458abefbc8fe451b8e4d": {
          "model_module": "@jupyter-widgets/controls",
          "model_name": "VBoxModel",
          "model_module_version": "1.5.0",
          "state": {
            "_dom_classes": [],
            "_model_module": "@jupyter-widgets/controls",
            "_model_module_version": "1.5.0",
            "_model_name": "VBoxModel",
            "_view_count": null,
            "_view_module": "@jupyter-widgets/controls",
            "_view_module_version": "1.5.0",
            "_view_name": "VBoxView",
            "box_style": "",
            "children": [
              "IPY_MODEL_e7271da4998f48b0b9a6f1be0ecb285f",
              "IPY_MODEL_7151c9d302ef4c18a0cca3d3e292db25",
              "IPY_MODEL_c95fd76c263343bd9fbc6b10447b8e20"
            ],
            "layout": "IPY_MODEL_ec1b6a2b28de42b38c287bda7d33daa5"
          }
        },
        "e7271da4998f48b0b9a6f1be0ecb285f": {
          "model_module": "@jupyter-widgets/controls",
          "model_name": "VBoxModel",
          "model_module_version": "1.5.0",
          "state": {
            "_dom_classes": [],
            "_model_module": "@jupyter-widgets/controls",
            "_model_module_version": "1.5.0",
            "_model_name": "VBoxModel",
            "_view_count": null,
            "_view_module": "@jupyter-widgets/controls",
            "_view_module_version": "1.5.0",
            "_view_name": "VBoxView",
            "box_style": "",
            "children": [
              "IPY_MODEL_04ecf03f70284927ac1af423a7f0b038"
            ],
            "layout": "IPY_MODEL_b9fe7e18f1f843fdb3f05211ca63f3b4"
          }
        },
        "7151c9d302ef4c18a0cca3d3e292db25": {
          "model_module": "@jupyter-widgets/controls",
          "model_name": "HTMLModel",
          "model_module_version": "1.5.0",
          "state": {
            "_dom_classes": [],
            "_model_module": "@jupyter-widgets/controls",
            "_model_module_version": "1.5.0",
            "_model_name": "HTMLModel",
            "_view_count": null,
            "_view_module": "@jupyter-widgets/controls",
            "_view_module_version": "1.5.0",
            "_view_name": "HTMLView",
            "description": "",
            "description_tooltip": null,
            "layout": "IPY_MODEL_0bcbf33e32f44df5b8f85b10828d9b57",
            "placeholder": "​",
            "style": "IPY_MODEL_f4dcdffb50ab4459879187ed1e0ccdbf",
            "value": "<hr style=\"border: 0; border-bottom: 1px solid #aaa\">"
          }
        },
        "c95fd76c263343bd9fbc6b10447b8e20": {
          "model_module": "@jupyter-widgets/controls",
          "model_name": "GridBoxModel",
          "model_module_version": "1.5.0",
          "state": {
            "_dom_classes": [],
            "_model_module": "@jupyter-widgets/controls",
            "_model_module_version": "1.5.0",
            "_model_name": "GridBoxModel",
            "_view_count": null,
            "_view_module": "@jupyter-widgets/controls",
            "_view_module_version": "1.5.0",
            "_view_name": "GridBoxView",
            "box_style": "",
            "children": [
              "IPY_MODEL_873c5c519ad14e068e94b7225db97baf",
              "IPY_MODEL_bf6f21196e864498810333c6490e27c4",
              "IPY_MODEL_421aca80892b4b958a5c86d1bea9c36e"
            ],
            "layout": "IPY_MODEL_ea18c5b5c45d4d5f9970c77872c5fca0"
          }
        },
        "ec1b6a2b28de42b38c287bda7d33daa5": {
          "model_module": "@jupyter-widgets/base",
          "model_name": "LayoutModel",
          "model_module_version": "1.2.0",
          "state": {
            "_model_module": "@jupyter-widgets/base",
            "_model_module_version": "1.2.0",
            "_model_name": "LayoutModel",
            "_view_count": null,
            "_view_module": "@jupyter-widgets/base",
            "_view_module_version": "1.2.0",
            "_view_name": "LayoutView",
            "align_content": null,
            "align_items": null,
            "align_self": null,
            "border": null,
            "bottom": null,
            "display": null,
            "flex": null,
            "flex_flow": null,
            "grid_area": null,
            "grid_auto_columns": null,
            "grid_auto_flow": null,
            "grid_auto_rows": null,
            "grid_column": null,
            "grid_gap": null,
            "grid_row": null,
            "grid_template_areas": null,
            "grid_template_columns": null,
            "grid_template_rows": null,
            "height": null,
            "justify_content": null,
            "justify_items": null,
            "left": null,
            "margin": null,
            "max_height": null,
            "max_width": null,
            "min_height": null,
            "min_width": null,
            "object_fit": null,
            "object_position": null,
            "order": null,
            "overflow": null,
            "overflow_x": null,
            "overflow_y": null,
            "padding": null,
            "right": null,
            "top": null,
            "visibility": null,
            "width": null
          }
        },
        "04ecf03f70284927ac1af423a7f0b038": {
          "model_module": "@jupyter-widgets/controls",
          "model_name": "HBoxModel",
          "model_module_version": "1.5.0",
          "state": {
            "_dom_classes": [],
            "_model_module": "@jupyter-widgets/controls",
            "_model_module_version": "1.5.0",
            "_model_name": "HBoxModel",
            "_view_count": null,
            "_view_module": "@jupyter-widgets/controls",
            "_view_module_version": "1.5.0",
            "_view_name": "HBoxView",
            "box_style": "",
            "children": [
              "IPY_MODEL_303493725153465e8995fafc9a97f6dd",
              "IPY_MODEL_032e2b0caf2e42c0894fff90128d1dee"
            ],
            "layout": "IPY_MODEL_af1eace52d0c402ab9226f1f99d64b2b"
          }
        },
        "b9fe7e18f1f843fdb3f05211ca63f3b4": {
          "model_module": "@jupyter-widgets/base",
          "model_name": "LayoutModel",
          "model_module_version": "1.2.0",
          "state": {
            "_model_module": "@jupyter-widgets/base",
            "_model_module_version": "1.2.0",
            "_model_name": "LayoutModel",
            "_view_count": null,
            "_view_module": "@jupyter-widgets/base",
            "_view_module_version": "1.2.0",
            "_view_name": "LayoutView",
            "align_content": null,
            "align_items": "center",
            "align_self": null,
            "border": null,
            "bottom": null,
            "display": null,
            "flex": null,
            "flex_flow": null,
            "grid_area": null,
            "grid_auto_columns": null,
            "grid_auto_flow": null,
            "grid_auto_rows": null,
            "grid_column": null,
            "grid_gap": null,
            "grid_row": null,
            "grid_template_areas": null,
            "grid_template_columns": null,
            "grid_template_rows": null,
            "height": null,
            "justify_content": null,
            "justify_items": null,
            "left": null,
            "margin": null,
            "max_height": null,
            "max_width": null,
            "min_height": null,
            "min_width": null,
            "object_fit": null,
            "object_position": null,
            "order": null,
            "overflow": null,
            "overflow_x": null,
            "overflow_y": null,
            "padding": null,
            "right": null,
            "top": null,
            "visibility": null,
            "width": null
          }
        },
        "0bcbf33e32f44df5b8f85b10828d9b57": {
          "model_module": "@jupyter-widgets/base",
          "model_name": "LayoutModel",
          "model_module_version": "1.2.0",
          "state": {
            "_model_module": "@jupyter-widgets/base",
            "_model_module_version": "1.2.0",
            "_model_name": "LayoutModel",
            "_view_count": null,
            "_view_module": "@jupyter-widgets/base",
            "_view_module_version": "1.2.0",
            "_view_name": "LayoutView",
            "align_content": null,
            "align_items": null,
            "align_self": null,
            "border": null,
            "bottom": null,
            "display": null,
            "flex": null,
            "flex_flow": null,
            "grid_area": null,
            "grid_auto_columns": null,
            "grid_auto_flow": null,
            "grid_auto_rows": null,
            "grid_column": null,
            "grid_gap": null,
            "grid_row": null,
            "grid_template_areas": null,
            "grid_template_columns": null,
            "grid_template_rows": null,
            "height": null,
            "justify_content": null,
            "justify_items": null,
            "left": null,
            "margin": null,
            "max_height": null,
            "max_width": null,
            "min_height": null,
            "min_width": null,
            "object_fit": null,
            "object_position": null,
            "order": null,
            "overflow": null,
            "overflow_x": null,
            "overflow_y": null,
            "padding": null,
            "right": null,
            "top": null,
            "visibility": null,
            "width": null
          }
        },
        "f4dcdffb50ab4459879187ed1e0ccdbf": {
          "model_module": "@jupyter-widgets/controls",
          "model_name": "DescriptionStyleModel",
          "model_module_version": "1.5.0",
          "state": {
            "_model_module": "@jupyter-widgets/controls",
            "_model_module_version": "1.5.0",
            "_model_name": "DescriptionStyleModel",
            "_view_count": null,
            "_view_module": "@jupyter-widgets/base",
            "_view_module_version": "1.2.0",
            "_view_name": "StyleView",
            "description_width": ""
          }
        },
        "873c5c519ad14e068e94b7225db97baf": {
          "model_module": "@jupyter-widgets/controls",
          "model_name": "VBoxModel",
          "model_module_version": "1.5.0",
          "state": {
            "_dom_classes": [],
            "_model_module": "@jupyter-widgets/controls",
            "_model_module_version": "1.5.0",
            "_model_name": "VBoxModel",
            "_view_count": null,
            "_view_module": "@jupyter-widgets/controls",
            "_view_module_version": "1.5.0",
            "_view_name": "VBoxView",
            "box_style": "",
            "children": [
              "IPY_MODEL_bce3962b4f814391854d2e7c8c49d828",
              "IPY_MODEL_209893f81b0b4c93a5019d66ad439a2d",
              "IPY_MODEL_0f15a5fea04844819d9f6d4d3378171d"
            ],
            "layout": "IPY_MODEL_11a6c0f08fef4ecc8043ba6445aca26e"
          }
        },
        "bf6f21196e864498810333c6490e27c4": {
          "model_module": "@jupyter-widgets/controls",
          "model_name": "VBoxModel",
          "model_module_version": "1.5.0",
          "state": {
            "_dom_classes": [],
            "_model_module": "@jupyter-widgets/controls",
            "_model_module_version": "1.5.0",
            "_model_name": "VBoxModel",
            "_view_count": null,
            "_view_module": "@jupyter-widgets/controls",
            "_view_module_version": "1.5.0",
            "_view_name": "VBoxView",
            "box_style": "",
            "children": [
              "IPY_MODEL_7353f2a908bd43aeb2fedcd888c439e8",
              "IPY_MODEL_ef898ec953874729b7fb043334ab9f08",
              "IPY_MODEL_fb7e6524387249498999e688c1738edd"
            ],
            "layout": "IPY_MODEL_a5ed7b606ec54bee87c4e47ff31e4b98"
          }
        },
        "421aca80892b4b958a5c86d1bea9c36e": {
          "model_module": "@jupyter-widgets/controls",
          "model_name": "VBoxModel",
          "model_module_version": "1.5.0",
          "state": {
            "_dom_classes": [],
            "_model_module": "@jupyter-widgets/controls",
            "_model_module_version": "1.5.0",
            "_model_name": "VBoxModel",
            "_view_count": null,
            "_view_module": "@jupyter-widgets/controls",
            "_view_module_version": "1.5.0",
            "_view_name": "VBoxView",
            "box_style": "",
            "children": [
              "IPY_MODEL_e5e137de91bf408faf24539cbe689642",
              "IPY_MODEL_7cb1a08fc4ef49518100e2f8914ff2bd",
              "IPY_MODEL_63265b86bcad431bb3c7ee3513f32ce0"
            ],
            "layout": "IPY_MODEL_35d242b9e4e24c5098df8b0fbc1dafa7"
          }
        },
        "ea18c5b5c45d4d5f9970c77872c5fca0": {
          "model_module": "@jupyter-widgets/base",
          "model_name": "LayoutModel",
          "model_module_version": "1.2.0",
          "state": {
            "_model_module": "@jupyter-widgets/base",
            "_model_module_version": "1.2.0",
            "_model_name": "LayoutModel",
            "_view_count": null,
            "_view_module": "@jupyter-widgets/base",
            "_view_module_version": "1.2.0",
            "_view_name": "LayoutView",
            "align_content": null,
            "align_items": null,
            "align_self": null,
            "border": null,
            "bottom": null,
            "display": null,
            "flex": null,
            "flex_flow": null,
            "grid_area": null,
            "grid_auto_columns": null,
            "grid_auto_flow": null,
            "grid_auto_rows": null,
            "grid_column": null,
            "grid_gap": null,
            "grid_row": null,
            "grid_template_areas": null,
            "grid_template_columns": "1fr 1fr 1fr",
            "grid_template_rows": null,
            "height": null,
            "justify_content": null,
            "justify_items": null,
            "left": null,
            "margin": null,
            "max_height": null,
            "max_width": null,
            "min_height": null,
            "min_width": null,
            "object_fit": null,
            "object_position": null,
            "order": null,
            "overflow": null,
            "overflow_x": null,
            "overflow_y": null,
            "padding": null,
            "right": null,
            "top": null,
            "visibility": null,
            "width": null
          }
        },
        "303493725153465e8995fafc9a97f6dd": {
          "model_module": "@jupyter-widgets/controls",
          "model_name": "HTMLModel",
          "model_module_version": "1.5.0",
          "state": {
            "_dom_classes": [],
            "_model_module": "@jupyter-widgets/controls",
            "_model_module_version": "1.5.0",
            "_model_name": "HTMLModel",
            "_view_count": null,
            "_view_module": "@jupyter-widgets/controls",
            "_view_module_version": "1.5.0",
            "_view_name": "HTMLView",
            "description": "",
            "description_tooltip": null,
            "layout": "IPY_MODEL_6b4f7bc8395340feaa3665a74589eebe",
            "placeholder": "​",
            "style": "IPY_MODEL_a43878609ebf4c939b45c9caaf8a41b4",
            "value": "<b>Select a topic</b>:"
          }
        },
        "032e2b0caf2e42c0894fff90128d1dee": {
          "model_module": "@jupyter-widgets/controls",
          "model_name": "DropdownModel",
          "model_module_version": "1.5.0",
          "state": {
            "_dom_classes": [],
            "_model_module": "@jupyter-widgets/controls",
            "_model_module_version": "1.5.0",
            "_model_name": "DropdownModel",
            "_options_labels": [
              "0",
              "1",
              "2",
              "3",
              "4",
              "5",
              "6",
              "7"
            ],
            "_view_count": null,
            "_view_module": "@jupyter-widgets/controls",
            "_view_module_version": "1.5.0",
            "_view_name": "DropdownView",
            "description": "",
            "description_tooltip": null,
            "disabled": false,
            "index": 0,
            "layout": "IPY_MODEL_6dfec186ce6f4aefb4da06fb4b41da7f",
            "style": "IPY_MODEL_4f7d5fc4619d43a487e877c7cfdd1576"
          }
        },
        "af1eace52d0c402ab9226f1f99d64b2b": {
          "model_module": "@jupyter-widgets/base",
          "model_name": "LayoutModel",
          "model_module_version": "1.2.0",
          "state": {
            "_model_module": "@jupyter-widgets/base",
            "_model_module_version": "1.2.0",
            "_model_name": "LayoutModel",
            "_view_count": null,
            "_view_module": "@jupyter-widgets/base",
            "_view_module_version": "1.2.0",
            "_view_name": "LayoutView",
            "align_content": null,
            "align_items": null,
            "align_self": null,
            "border": null,
            "bottom": null,
            "display": null,
            "flex": null,
            "flex_flow": null,
            "grid_area": null,
            "grid_auto_columns": null,
            "grid_auto_flow": null,
            "grid_auto_rows": null,
            "grid_column": null,
            "grid_gap": null,
            "grid_row": null,
            "grid_template_areas": null,
            "grid_template_columns": null,
            "grid_template_rows": null,
            "height": null,
            "justify_content": null,
            "justify_items": null,
            "left": null,
            "margin": null,
            "max_height": null,
            "max_width": null,
            "min_height": null,
            "min_width": null,
            "object_fit": null,
            "object_position": null,
            "order": null,
            "overflow": null,
            "overflow_x": null,
            "overflow_y": null,
            "padding": null,
            "right": null,
            "top": null,
            "visibility": null,
            "width": null
          }
        },
        "bce3962b4f814391854d2e7c8c49d828": {
          "model_module": "@jupyter-widgets/controls",
          "model_name": "HTMLModel",
          "model_module_version": "1.5.0",
          "state": {
            "_dom_classes": [],
            "_model_module": "@jupyter-widgets/controls",
            "_model_module_version": "1.5.0",
            "_model_name": "HTMLModel",
            "_view_count": null,
            "_view_module": "@jupyter-widgets/controls",
            "_view_module_version": "1.5.0",
            "_view_name": "HTMLView",
            "description": "",
            "description_tooltip": null,
            "layout": "IPY_MODEL_6de0eee9a7944673ae42c0a44a39236c",
            "placeholder": "​",
            "style": "IPY_MODEL_f492d8c461a2452e85f24a9105e69579",
            "value": "<b>Intertopic distance plot</b>"
          }
        },
        "209893f81b0b4c93a5019d66ad439a2d": {
          "model_module": "@jupyter-widgets/controls",
          "model_name": "HBoxModel",
          "model_module_version": "1.5.0",
          "state": {
            "_dom_classes": [],
            "_model_module": "@jupyter-widgets/controls",
            "_model_module_version": "1.5.0",
            "_model_name": "HBoxModel",
            "_view_count": null,
            "_view_module": "@jupyter-widgets/controls",
            "_view_module_version": "1.5.0",
            "_view_name": "HBoxView",
            "box_style": "",
            "children": [
              "IPY_MODEL_2c2d426470be474ca9a71d019a3d74cf",
              "IPY_MODEL_0e644bb8ee8e4544b6c303fd1066c908"
            ],
            "layout": "IPY_MODEL_24d81aeea9e6450ca03e79e65d6467e5"
          }
        },
        "0f15a5fea04844819d9f6d4d3378171d": {
          "model_module": "@jupyter-widgets/output",
          "model_name": "OutputModel",
          "model_module_version": "1.0.0",
          "state": {
            "_dom_classes": [],
            "_model_module": "@jupyter-widgets/output",
            "_model_module_version": "1.0.0",
            "_model_name": "OutputModel",
            "_view_count": null,
            "_view_module": "@jupyter-widgets/output",
            "_view_module_version": "1.0.0",
            "_view_name": "OutputView",
            "layout": "IPY_MODEL_db7e8a977ba14a399b3136bde73deca0",
            "msg_id": "",
            "outputs": [
              {
                "output_type": "display_data",
                "data": {
                  "text/html": "\n<div id=\"altair-viz-374c0f9a73de4f07a1d5c44663a189dd\"></div>\n<script type=\"text/javascript\">\n  var VEGA_DEBUG = (typeof VEGA_DEBUG == \"undefined\") ? {} : VEGA_DEBUG;\n  (function(spec, embedOpt){\n    let outputDiv = document.currentScript.previousElementSibling;\n    if (outputDiv.id !== \"altair-viz-374c0f9a73de4f07a1d5c44663a189dd\") {\n      outputDiv = document.getElementById(\"altair-viz-374c0f9a73de4f07a1d5c44663a189dd\");\n    }\n    const paths = {\n      \"vega\": \"https://cdn.jsdelivr.net/npm//vega@5?noext\",\n      \"vega-lib\": \"https://cdn.jsdelivr.net/npm//vega-lib?noext\",\n      \"vega-lite\": \"https://cdn.jsdelivr.net/npm//vega-lite@4.17.0?noext\",\n      \"vega-embed\": \"https://cdn.jsdelivr.net/npm//vega-embed@6?noext\",\n    };\n\n    function maybeLoadScript(lib, version) {\n      var key = `${lib.replace(\"-\", \"\")}_version`;\n      return (VEGA_DEBUG[key] == version) ?\n        Promise.resolve(paths[lib]) :\n        new Promise(function(resolve, reject) {\n          var s = document.createElement('script');\n          document.getElementsByTagName(\"head\")[0].appendChild(s);\n          s.async = true;\n          s.onload = () => {\n            VEGA_DEBUG[key] = version;\n            return resolve(paths[lib]);\n          };\n          s.onerror = () => reject(`Error loading script: ${paths[lib]}`);\n          s.src = paths[lib];\n        });\n    }\n\n    function showError(err) {\n      outputDiv.innerHTML = `<div class=\"error\" style=\"color:red;\">${err}</div>`;\n      throw err;\n    }\n\n    function displayChart(vegaEmbed) {\n      vegaEmbed(outputDiv, spec, embedOpt)\n        .catch(err => showError(`Javascript Error: ${err.message}<br>This usually means there's a typo in your chart specification. See the javascript console for the full traceback.`));\n    }\n\n    if(typeof define === \"function\" && define.amd) {\n      requirejs.config({paths});\n      require([\"vega-embed\"], displayChart, err => showError(`Error loading script: ${err.message}`));\n    } else {\n      maybeLoadScript(\"vega\", \"5\")\n        .then(() => maybeLoadScript(\"vega-lite\", \"4.17.0\"))\n        .then(() => maybeLoadScript(\"vega-embed\", \"6\"))\n        .catch(showError)\n        .then(() => displayChart(vegaEmbed));\n    }\n  })({\"config\": {\"view\": {\"continuousWidth\": 400, \"continuousHeight\": 300, \"stroke\": \"transparent\", \"strokeWidth\": 0}, \"axis\": {\"disable\": true}, \"legend\": {\"labelFontSize\": 13, \"orient\": \"bottom\", \"titleFontSize\": 13}}, \"layer\": [{\"mark\": \"rule\", \"encoding\": {\"color\": {\"value\": \"gray\"}, \"size\": {\"value\": 0.2}, \"y\": {\"aggregate\": \"average\", \"field\": \"y\", \"type\": \"quantitative\"}}, \"height\": 500, \"width\": 300}, {\"mark\": \"rule\", \"encoding\": {\"color\": {\"value\": \"gray\"}, \"size\": {\"value\": 0.2}, \"x\": {\"aggregate\": \"average\", \"field\": \"x\", \"type\": \"quantitative\"}}, \"height\": 500, \"width\": 300}, {\"mark\": {\"type\": \"circle\", \"opacity\": 0.33, \"stroke\": \"black\", \"strokeWidth\": 1}, \"encoding\": {\"color\": {\"condition\": {\"value\": \"red\", \"test\": \"datum['topic'] == 0\"}}, \"size\": {\"field\": \"size\", \"scale\": {\"range\": [0, 3000]}, \"title\": \"Marginal topic distribution\", \"type\": \"quantitative\"}, \"tooltip\": [{\"field\": \"label\", \"type\": \"quantitative\"}, {\"field\": \"size\", \"type\": \"quantitative\"}], \"x\": {\"axis\": null, \"field\": \"x\", \"type\": \"quantitative\"}, \"y\": {\"axis\": null, \"field\": \"y\", \"type\": \"quantitative\"}}, \"height\": 500, \"width\": 300}, {\"mark\": {\"type\": \"text\", \"align\": \"center\", \"baseline\": \"middle\"}, \"encoding\": {\"size\": {\"value\": 13}, \"text\": {\"field\": \"topic\", \"type\": \"quantitative\"}, \"tooltip\": [{\"field\": \"label\", \"type\": \"quantitative\"}, {\"field\": \"size\", \"type\": \"quantitative\"}], \"x\": {\"axis\": null, \"field\": \"x\", \"type\": \"quantitative\"}, \"y\": {\"axis\": null, \"field\": \"y\", \"type\": \"quantitative\"}}, \"height\": 500, \"width\": 300}], \"data\": {\"name\": \"data-bc5577ea67bdf3934e594861a5848b71\"}, \"$schema\": \"https://vega.github.io/schema/vega-lite/v4.17.0.json\", \"datasets\": {\"data-bc5577ea67bdf3934e594861a5848b71\": [{\"x\": -97.71597290039062, \"y\": 46.6973876953125, \"topic\": 0, \"size\": 6.723459269277054, \"label\": 0}, {\"x\": -91.21430969238281, \"y\": -35.02933883666992, \"topic\": 1, \"size\": 9.369113361655547, \"label\": 1}, {\"x\": -56.155052185058594, \"y\": -67.20988464355469, \"topic\": 2, \"size\": 8.70044632557148, \"label\": 2}, {\"x\": -13.994523048400879, \"y\": -10.37989330291748, \"topic\": 3, \"size\": 10.955144600523349, \"label\": 3}, {\"x\": -56.23835372924805, \"y\": 7.627230644226074, \"topic\": 4, \"size\": 10.97988594186733, \"label\": 4}, {\"x\": 64.77080535888672, \"y\": -2.716066598892212, \"topic\": 5, \"size\": 13.819411166264961, \"label\": 5}, {\"x\": 29.913848876953125, \"y\": 38.28101348876953, \"topic\": 6, \"size\": 25.080057633435416, \"label\": 6}, {\"x\": -23.018909454345703, \"y\": 34.421138763427734, \"topic\": 7, \"size\": 14.37248170140487, \"label\": 7}]}}, {\"mode\": \"vega-lite\"});\n</script>",
                  "text/plain": "alt.LayerChart(...)"
                },
                "metadata": {}
              }
            ]
          }
        },
        "11a6c0f08fef4ecc8043ba6445aca26e": {
          "model_module": "@jupyter-widgets/base",
          "model_name": "LayoutModel",
          "model_module_version": "1.2.0",
          "state": {
            "_model_module": "@jupyter-widgets/base",
            "_model_module_version": "1.2.0",
            "_model_name": "LayoutModel",
            "_view_count": null,
            "_view_module": "@jupyter-widgets/base",
            "_view_module_version": "1.2.0",
            "_view_name": "LayoutView",
            "align_content": null,
            "align_items": "center",
            "align_self": null,
            "border": null,
            "bottom": null,
            "display": null,
            "flex": null,
            "flex_flow": null,
            "grid_area": null,
            "grid_auto_columns": null,
            "grid_auto_flow": null,
            "grid_auto_rows": null,
            "grid_column": null,
            "grid_gap": null,
            "grid_row": null,
            "grid_template_areas": null,
            "grid_template_columns": null,
            "grid_template_rows": null,
            "height": null,
            "justify_content": null,
            "justify_items": null,
            "left": null,
            "margin": null,
            "max_height": null,
            "max_width": null,
            "min_height": null,
            "min_width": null,
            "object_fit": null,
            "object_position": null,
            "order": null,
            "overflow": null,
            "overflow_x": null,
            "overflow_y": null,
            "padding": null,
            "right": null,
            "top": null,
            "visibility": null,
            "width": null
          }
        },
        "7353f2a908bd43aeb2fedcd888c439e8": {
          "model_module": "@jupyter-widgets/controls",
          "model_name": "HTMLModel",
          "model_module_version": "1.5.0",
          "state": {
            "_dom_classes": [],
            "_model_module": "@jupyter-widgets/controls",
            "_model_module_version": "1.5.0",
            "_model_name": "HTMLModel",
            "_view_count": null,
            "_view_module": "@jupyter-widgets/controls",
            "_view_module_version": "1.5.0",
            "_view_name": "HTMLView",
            "description": "",
            "description_tooltip": null,
            "layout": "IPY_MODEL_9d74f256312b41ba978eda909f76bdca",
            "placeholder": "​",
            "style": "IPY_MODEL_5f5da3adf9d4460b85a792b8c618f805",
            "value": "<b>Relevant words (terms)</b>"
          }
        },
        "ef898ec953874729b7fb043334ab9f08": {
          "model_module": "@jupyter-widgets/controls",
          "model_name": "HBoxModel",
          "model_module_version": "1.5.0",
          "state": {
            "_dom_classes": [],
            "_model_module": "@jupyter-widgets/controls",
            "_model_module_version": "1.5.0",
            "_model_name": "HBoxModel",
            "_view_count": null,
            "_view_module": "@jupyter-widgets/controls",
            "_view_module_version": "1.5.0",
            "_view_name": "HBoxView",
            "box_style": "",
            "children": [
              "IPY_MODEL_cd73ab5191a84e77a3cfc38cc4f38dcf",
              "IPY_MODEL_07198eb7652d4173ac3e0584e38bf509"
            ],
            "layout": "IPY_MODEL_b3e96f5c10854387b878c185b66a0c29"
          }
        },
        "fb7e6524387249498999e688c1738edd": {
          "model_module": "@jupyter-widgets/output",
          "model_name": "OutputModel",
          "model_module_version": "1.0.0",
          "state": {
            "_dom_classes": [],
            "_model_module": "@jupyter-widgets/output",
            "_model_module_version": "1.0.0",
            "_model_name": "OutputModel",
            "_view_count": null,
            "_view_module": "@jupyter-widgets/output",
            "_view_module_version": "1.0.0",
            "_view_name": "OutputView",
            "layout": "IPY_MODEL_29b49a5ece754981ac3dbb9229c3b0c4",
            "msg_id": "",
            "outputs": [
              {
                "output_type": "display_data",
                "data": {
                  "text/html": "\n<div id=\"altair-viz-bf66c01be3704b8daaff0fa03f8b1e82\"></div>\n<script type=\"text/javascript\">\n  var VEGA_DEBUG = (typeof VEGA_DEBUG == \"undefined\") ? {} : VEGA_DEBUG;\n  (function(spec, embedOpt){\n    let outputDiv = document.currentScript.previousElementSibling;\n    if (outputDiv.id !== \"altair-viz-bf66c01be3704b8daaff0fa03f8b1e82\") {\n      outputDiv = document.getElementById(\"altair-viz-bf66c01be3704b8daaff0fa03f8b1e82\");\n    }\n    const paths = {\n      \"vega\": \"https://cdn.jsdelivr.net/npm//vega@5?noext\",\n      \"vega-lib\": \"https://cdn.jsdelivr.net/npm//vega-lib?noext\",\n      \"vega-lite\": \"https://cdn.jsdelivr.net/npm//vega-lite@4.17.0?noext\",\n      \"vega-embed\": \"https://cdn.jsdelivr.net/npm//vega-embed@6?noext\",\n    };\n\n    function maybeLoadScript(lib, version) {\n      var key = `${lib.replace(\"-\", \"\")}_version`;\n      return (VEGA_DEBUG[key] == version) ?\n        Promise.resolve(paths[lib]) :\n        new Promise(function(resolve, reject) {\n          var s = document.createElement('script');\n          document.getElementsByTagName(\"head\")[0].appendChild(s);\n          s.async = true;\n          s.onload = () => {\n            VEGA_DEBUG[key] = version;\n            return resolve(paths[lib]);\n          };\n          s.onerror = () => reject(`Error loading script: ${paths[lib]}`);\n          s.src = paths[lib];\n        });\n    }\n\n    function showError(err) {\n      outputDiv.innerHTML = `<div class=\"error\" style=\"color:red;\">${err}</div>`;\n      throw err;\n    }\n\n    function displayChart(vegaEmbed) {\n      vegaEmbed(outputDiv, spec, embedOpt)\n        .catch(err => showError(`Javascript Error: ${err.message}<br>This usually means there's a typo in your chart specification. See the javascript console for the full traceback.`));\n    }\n\n    if(typeof define === \"function\" && define.amd) {\n      requirejs.config({paths});\n      require([\"vega-embed\"], displayChart, err => showError(`Error loading script: ${err.message}`));\n    } else {\n      maybeLoadScript(\"vega\", \"5\")\n        .then(() => maybeLoadScript(\"vega-lite\", \"4.17.0\"))\n        .then(() => maybeLoadScript(\"vega-embed\", \"6\"))\n        .catch(showError)\n        .then(() => displayChart(vegaEmbed));\n    }\n  })({\"config\": {\"view\": {\"continuousWidth\": 400, \"continuousHeight\": 300}, \"axis\": {\"labelFontSize\": 13, \"titleFontSize\": 13}, \"legend\": {\"columns\": 1, \"labelFontSize\": 13, \"labelLimit\": 250, \"titleFontSize\": 13}}, \"data\": {\"name\": \"data-5d82518d26d37500f8978fae2d7ad508\"}, \"mark\": \"bar\", \"encoding\": {\"color\": {\"field\": \"Type\", \"legend\": {\"orient\": \"bottom\"}, \"scale\": {\"scheme\": \"category20\"}, \"type\": \"nominal\"}, \"x\": {\"field\": \"Probability\", \"stack\": null, \"type\": \"quantitative\"}, \"y\": {\"field\": \"Terms\", \"sort\": null, \"title\": null, \"type\": \"nominal\"}}, \"height\": 500, \"width\": 300, \"$schema\": \"https://vega.github.io/schema/vega-lite/v4.17.0.json\", \"datasets\": {\"data-5d82518d26d37500f8978fae2d7ad508\": [{\"Terms\": \"test\", \"Type\": \"Marginal term probability, p(w)\", \"Probability\": 0.015726812204107342}, {\"Terms\": \"ka585qdz\", \"Type\": \"Marginal term probability, p(w)\", \"Probability\": 0.0018627607588507342}, {\"Terms\": \"testpng\", \"Type\": \"Marginal term probability, p(w)\", \"Probability\": 0.0018166536550420014}, {\"Terms\": \"\\u0627\\u0644\\u0639\\u0628\\u0627\\u0633\\u064a\\u0629\", \"Type\": \"Marginal term probability, p(w)\", \"Probability\": 0.0010824866943952586}, {\"Terms\": \"email\", \"Type\": \"Marginal term probability, p(w)\", \"Probability\": 0.0010526944119342314}, {\"Terms\": \"ka57t9lf\", \"Type\": \"Marginal term probability, p(w)\", \"Probability\": 0.0010328328902935466}, {\"Terms\": \"urgent\", \"Type\": \"Marginal term probability, p(w)\", \"Probability\": 0.0010328328902935466}, {\"Terms\": \"01021080268\", \"Type\": \"Marginal term probability, p(w)\", \"Probability\": 0.0010328328902935466}, {\"Terms\": \"area\", \"Type\": \"Marginal term probability, p(w)\", \"Probability\": 0.0010328328902935466}, {\"Terms\": \"gov\", \"Type\": \"Marginal term probability, p(w)\", \"Probability\": 0.0010328328902935466}, {\"Terms\": \"phone\", \"Type\": \"Marginal term probability, p(w)\", \"Probability\": 0.0010236114695318}, {\"Terms\": \"24308233400071\", \"Type\": \"Marginal term probability, p(w)\", \"Probability\": 0.0010143900487700535}, {\"Terms\": \"uninum\", \"Type\": \"Marginal term probability, p(w)\", \"Probability\": 0.001005168628008307}, {\"Terms\": \"customer\", \"Type\": \"Marginal term probability, p(w)\", \"Probability\": 0.0009590615241995742}, {\"Terms\": \"token\", \"Type\": \"Marginal term probability, p(w)\", \"Probability\": 0.0009498401034378277}, {\"Terms\": \"64\", \"Type\": \"Marginal term probability, p(w)\", \"Probability\": 0.0009427467028518689}, {\"Terms\": \"csrf\", \"Type\": \"Marginal term probability, p(w)\", \"Probability\": 0.0009406186826760812}, {\"Terms\": \"5efd1809e1befc3cc91d3682\", \"Type\": \"Marginal term probability, p(w)\", \"Probability\": 0.0009313972619143347}, {\"Terms\": \"8x\", \"Type\": \"Marginal term probability, p(w)\", \"Probability\": 0.0009313972619143347}, {\"Terms\": \"rv680\", \"Type\": \"Marginal term probability, p(w)\", \"Probability\": 0.0009221758411525881}, {\"Terms\": \"x86\", \"Type\": \"Marginal term probability, p(w)\", \"Probability\": 0.0009037329996290951}, {\"Terms\": \"\\u0662\\u0660\\u0662\\u0660\\u0645\\u0646\\u0630\", \"Type\": \"Marginal term probability, p(w)\", \"Probability\": 0.0004575581027722824}, {\"Terms\": \"\\u0627\\u0644\\u0640\\u0640\\u0641\\u0640\\u0646\\u064a\\u0640\\u0629258021788000390064017\\u0627\\u0644\\u0627\\u0633\\u0643\\u0646\\u062f\\u0631\\u064a\\u0629\\u0623\\u0628\\u0648\", \"Type\": \"Marginal term probability, p(w)\", \"Probability\": 0.00011920289482204437}, {\"Terms\": \"\\u0623\\u0634\\u0647\\u0631\\u0642\\u064a\\u0640\\u0640\\u062f\", \"Type\": \"Marginal term probability, p(w)\", \"Probability\": 0.00011494685447046905}, {\"Terms\": \"\\u0627\\u0644\\u0645\\u062d\\u0633\\u0646\", \"Type\": \"Marginal term probability, p(w)\", \"Probability\": 9.437599277118834e-05}, {\"Terms\": \"\\u0661\\u0660\\u0663\\u0664\", \"Type\": \"Marginal term probability, p(w)\", \"Probability\": 9.011995241961303e-05}, {\"Terms\": \"\\u0634\\u0628\\u0631\\u0627\\u0631\\u064a\\u0633\", \"Type\": \"Marginal term probability, p(w)\", \"Probability\": 7.947985154067473e-05}, {\"Terms\": \"\\u0643\\u0627\\u0644\\u062a\\u0627\\u0644\\u0649\\u062e\\u062f\\u0645\\u0629\", \"Type\": \"Marginal term probability, p(w)\", \"Probability\": 7.522381118909941e-05}, {\"Terms\": \"\\u0648\\u0631\\u0627\\u062b\\u0629\", \"Type\": \"Marginal term probability, p(w)\", \"Probability\": 7.309579101331174e-05}, {\"Terms\": \"wattsup\", \"Type\": \"Marginal term probability, p(w)\", \"Probability\": 7.238645095471587e-05}, {\"Terms\": \"test\", \"Type\": \"Conditional term probability, p(w|t)\", \"Probability\": 0.01572678553252999}, {\"Terms\": \"ka585qdz\", \"Type\": \"Conditional term probability, p(w|t)\", \"Probability\": 0.0018627340872733847}, {\"Terms\": \"testpng\", \"Type\": \"Conditional term probability, p(w|t)\", \"Probability\": 0.001816626983464652}, {\"Terms\": \"\\u0627\\u0644\\u0639\\u0628\\u0627\\u0633\\u064a\\u0629\", \"Type\": \"Conditional term probability, p(w|t)\", \"Probability\": 0.0010824600228179092}, {\"Terms\": \"email\", \"Type\": \"Conditional term probability, p(w|t)\", \"Probability\": 0.0010526677403568819}, {\"Terms\": \"ka57t9lf\", \"Type\": \"Conditional term probability, p(w|t)\", \"Probability\": 0.001032806218716197}, {\"Terms\": \"urgent\", \"Type\": \"Conditional term probability, p(w|t)\", \"Probability\": 0.001032806218716197}, {\"Terms\": \"01021080268\", \"Type\": \"Conditional term probability, p(w|t)\", \"Probability\": 0.001032806218716197}, {\"Terms\": \"area\", \"Type\": \"Conditional term probability, p(w|t)\", \"Probability\": 0.001032806218716197}, {\"Terms\": \"gov\", \"Type\": \"Conditional term probability, p(w|t)\", \"Probability\": 0.001032806218716197}, {\"Terms\": \"phone\", \"Type\": \"Conditional term probability, p(w|t)\", \"Probability\": 0.0010235847979544505}, {\"Terms\": \"24308233400071\", \"Type\": \"Conditional term probability, p(w|t)\", \"Probability\": 0.001014363377192704}, {\"Terms\": \"uninum\", \"Type\": \"Conditional term probability, p(w|t)\", \"Probability\": 0.0010051419564309574}, {\"Terms\": \"customer\", \"Type\": \"Conditional term probability, p(w|t)\", \"Probability\": 0.0009590348526222248}, {\"Terms\": \"token\", \"Type\": \"Conditional term probability, p(w|t)\", \"Probability\": 0.0009498134318604782}, {\"Terms\": \"64\", \"Type\": \"Conditional term probability, p(w|t)\", \"Probability\": 0.0009427200312745194}, {\"Terms\": \"csrf\", \"Type\": \"Conditional term probability, p(w|t)\", \"Probability\": 0.0009405920110987317}, {\"Terms\": \"5efd1809e1befc3cc91d3682\", \"Type\": \"Conditional term probability, p(w|t)\", \"Probability\": 0.0009313705903369852}, {\"Terms\": \"8x\", \"Type\": \"Conditional term probability, p(w|t)\", \"Probability\": 0.0009313705903369852}, {\"Terms\": \"rv680\", \"Type\": \"Conditional term probability, p(w|t)\", \"Probability\": 0.0009221491695752387}, {\"Terms\": \"x86\", \"Type\": \"Conditional term probability, p(w|t)\", \"Probability\": 0.0009037063280517456}, {\"Terms\": \"\\u0662\\u0660\\u0662\\u0660\\u0645\\u0646\\u0630\", \"Type\": \"Conditional term probability, p(w|t)\", \"Probability\": 0.0004575314311949329}, {\"Terms\": \"\\u0627\\u0644\\u0640\\u0640\\u0641\\u0640\\u0646\\u064a\\u0640\\u0629258021788000390064017\\u0627\\u0644\\u0627\\u0633\\u0643\\u0646\\u062f\\u0631\\u064a\\u0629\\u0623\\u0628\\u0648\", \"Type\": \"Conditional term probability, p(w|t)\", \"Probability\": 0.00011917622324469492}, {\"Terms\": \"\\u0623\\u0634\\u0647\\u0631\\u0642\\u064a\\u0640\\u0640\\u062f\", \"Type\": \"Conditional term probability, p(w|t)\", \"Probability\": 0.0001149201828931196}, {\"Terms\": \"\\u0627\\u0644\\u0645\\u062d\\u0633\\u0646\", \"Type\": \"Conditional term probability, p(w|t)\", \"Probability\": 9.434932119383889e-05}, {\"Terms\": \"\\u0661\\u0660\\u0663\\u0664\", \"Type\": \"Conditional term probability, p(w|t)\", \"Probability\": 9.009328084226358e-05}, {\"Terms\": \"\\u0634\\u0628\\u0631\\u0627\\u0631\\u064a\\u0633\", \"Type\": \"Conditional term probability, p(w|t)\", \"Probability\": 7.945317996332527e-05}, {\"Terms\": \"\\u0643\\u0627\\u0644\\u062a\\u0627\\u0644\\u0649\\u062e\\u062f\\u0645\\u0629\", \"Type\": \"Conditional term probability, p(w|t)\", \"Probability\": 7.519713961174995e-05}, {\"Terms\": \"\\u0648\\u0631\\u0627\\u062b\\u0629\", \"Type\": \"Conditional term probability, p(w|t)\", \"Probability\": 7.306911943596229e-05}, {\"Terms\": \"wattsup\", \"Type\": \"Conditional term probability, p(w|t)\", \"Probability\": 7.235977937736641e-05}]}}, {\"mode\": \"vega-lite\"});\n</script>",
                  "text/plain": "alt.Chart(...)"
                },
                "metadata": {}
              }
            ]
          }
        },
        "a5ed7b606ec54bee87c4e47ff31e4b98": {
          "model_module": "@jupyter-widgets/base",
          "model_name": "LayoutModel",
          "model_module_version": "1.2.0",
          "state": {
            "_model_module": "@jupyter-widgets/base",
            "_model_module_version": "1.2.0",
            "_model_name": "LayoutModel",
            "_view_count": null,
            "_view_module": "@jupyter-widgets/base",
            "_view_module_version": "1.2.0",
            "_view_name": "LayoutView",
            "align_content": null,
            "align_items": "center",
            "align_self": null,
            "border": null,
            "bottom": null,
            "display": null,
            "flex": null,
            "flex_flow": null,
            "grid_area": null,
            "grid_auto_columns": null,
            "grid_auto_flow": null,
            "grid_auto_rows": null,
            "grid_column": null,
            "grid_gap": null,
            "grid_row": null,
            "grid_template_areas": null,
            "grid_template_columns": null,
            "grid_template_rows": null,
            "height": null,
            "justify_content": null,
            "justify_items": null,
            "left": null,
            "margin": null,
            "max_height": null,
            "max_width": null,
            "min_height": null,
            "min_width": null,
            "object_fit": null,
            "object_position": null,
            "order": null,
            "overflow": null,
            "overflow_x": null,
            "overflow_y": null,
            "padding": null,
            "right": null,
            "top": null,
            "visibility": null,
            "width": null
          }
        },
        "e5e137de91bf408faf24539cbe689642": {
          "model_module": "@jupyter-widgets/controls",
          "model_name": "HTMLModel",
          "model_module_version": "1.5.0",
          "state": {
            "_dom_classes": [],
            "_model_module": "@jupyter-widgets/controls",
            "_model_module_version": "1.5.0",
            "_model_name": "HTMLModel",
            "_view_count": null,
            "_view_module": "@jupyter-widgets/controls",
            "_view_module_version": "1.5.0",
            "_view_name": "HTMLView",
            "description": "",
            "description_tooltip": null,
            "layout": "IPY_MODEL_e8e2094c31db4888a2de0a1a85e27a5e",
            "placeholder": "​",
            "style": "IPY_MODEL_8d5ba61b34624af6ac33e4830f680073",
            "value": "<b>Top documents in a topic</b>"
          }
        },
        "7cb1a08fc4ef49518100e2f8914ff2bd": {
          "model_module": "@jupyter-widgets/controls",
          "model_name": "HBoxModel",
          "model_module_version": "1.5.0",
          "state": {
            "_dom_classes": [],
            "_model_module": "@jupyter-widgets/controls",
            "_model_module_version": "1.5.0",
            "_model_name": "HBoxModel",
            "_view_count": null,
            "_view_module": "@jupyter-widgets/controls",
            "_view_module_version": "1.5.0",
            "_view_name": "HBoxView",
            "box_style": "",
            "children": [
              "IPY_MODEL_f35baa37d44b4b97b484e2d4dac642af",
              "IPY_MODEL_e04431e90216428e92eda3f14b6c9d20"
            ],
            "layout": "IPY_MODEL_056d6209cfee4793af50d572a3ee3255"
          }
        },
        "63265b86bcad431bb3c7ee3513f32ce0": {
          "model_module": "@jupyter-widgets/output",
          "model_name": "OutputModel",
          "model_module_version": "1.0.0",
          "state": {
            "_dom_classes": [],
            "_model_module": "@jupyter-widgets/output",
            "_model_module_version": "1.0.0",
            "_model_name": "OutputModel",
            "_view_count": null,
            "_view_module": "@jupyter-widgets/output",
            "_view_module_version": "1.0.0",
            "_view_name": "OutputView",
            "layout": "IPY_MODEL_f6a638de6c7e4ac3bbd369e51fe6b421",
            "msg_id": "",
            "outputs": [
              {
                "output_type": "display_data",
                "data": {
                  "text/plain": "<IPython.core.display.HTML object>",
                  "text/html": "<style>table td{text-align: left !important}table th{text-align: center !important}</style><table border=\"1\" class=\"dataframe\">\n  <thead>\n    <tr style=\"text-align: right;\">\n      <th></th>\n      <th></th>\n    </tr>\n  </thead>\n  <tbody>\n    <tr>\n      <th>0</th>\n      <td>test test test test test test test test test test test test test test test</td>\n    </tr>\n    <tr>\n      <th>1</th>\n      <td>test test test test test test test test test test test test test test test</td>\n    </tr>\n  </tbody>\n</table>"
                },
                "metadata": {}
              }
            ]
          }
        },
        "35d242b9e4e24c5098df8b0fbc1dafa7": {
          "model_module": "@jupyter-widgets/base",
          "model_name": "LayoutModel",
          "model_module_version": "1.2.0",
          "state": {
            "_model_module": "@jupyter-widgets/base",
            "_model_module_version": "1.2.0",
            "_model_name": "LayoutModel",
            "_view_count": null,
            "_view_module": "@jupyter-widgets/base",
            "_view_module_version": "1.2.0",
            "_view_name": "LayoutView",
            "align_content": null,
            "align_items": "center",
            "align_self": null,
            "border": null,
            "bottom": null,
            "display": null,
            "flex": null,
            "flex_flow": null,
            "grid_area": null,
            "grid_auto_columns": null,
            "grid_auto_flow": null,
            "grid_auto_rows": null,
            "grid_column": null,
            "grid_gap": null,
            "grid_row": null,
            "grid_template_areas": null,
            "grid_template_columns": null,
            "grid_template_rows": null,
            "height": null,
            "justify_content": null,
            "justify_items": null,
            "left": null,
            "margin": null,
            "max_height": null,
            "max_width": null,
            "min_height": null,
            "min_width": null,
            "object_fit": null,
            "object_position": null,
            "order": null,
            "overflow": null,
            "overflow_x": null,
            "overflow_y": null,
            "padding": null,
            "right": null,
            "top": null,
            "visibility": null,
            "width": null
          }
        },
        "6b4f7bc8395340feaa3665a74589eebe": {
          "model_module": "@jupyter-widgets/base",
          "model_name": "LayoutModel",
          "model_module_version": "1.2.0",
          "state": {
            "_model_module": "@jupyter-widgets/base",
            "_model_module_version": "1.2.0",
            "_model_name": "LayoutModel",
            "_view_count": null,
            "_view_module": "@jupyter-widgets/base",
            "_view_module_version": "1.2.0",
            "_view_name": "LayoutView",
            "align_content": null,
            "align_items": null,
            "align_self": null,
            "border": null,
            "bottom": null,
            "display": null,
            "flex": null,
            "flex_flow": null,
            "grid_area": null,
            "grid_auto_columns": null,
            "grid_auto_flow": null,
            "grid_auto_rows": null,
            "grid_column": null,
            "grid_gap": null,
            "grid_row": null,
            "grid_template_areas": null,
            "grid_template_columns": null,
            "grid_template_rows": null,
            "height": null,
            "justify_content": null,
            "justify_items": null,
            "left": null,
            "margin": null,
            "max_height": null,
            "max_width": null,
            "min_height": null,
            "min_width": null,
            "object_fit": null,
            "object_position": null,
            "order": null,
            "overflow": null,
            "overflow_x": null,
            "overflow_y": null,
            "padding": null,
            "right": null,
            "top": null,
            "visibility": null,
            "width": null
          }
        },
        "a43878609ebf4c939b45c9caaf8a41b4": {
          "model_module": "@jupyter-widgets/controls",
          "model_name": "DescriptionStyleModel",
          "model_module_version": "1.5.0",
          "state": {
            "_model_module": "@jupyter-widgets/controls",
            "_model_module_version": "1.5.0",
            "_model_name": "DescriptionStyleModel",
            "_view_count": null,
            "_view_module": "@jupyter-widgets/base",
            "_view_module_version": "1.2.0",
            "_view_name": "StyleView",
            "description_width": ""
          }
        },
        "6dfec186ce6f4aefb4da06fb4b41da7f": {
          "model_module": "@jupyter-widgets/base",
          "model_name": "LayoutModel",
          "model_module_version": "1.2.0",
          "state": {
            "_model_module": "@jupyter-widgets/base",
            "_model_module_version": "1.2.0",
            "_model_name": "LayoutModel",
            "_view_count": null,
            "_view_module": "@jupyter-widgets/base",
            "_view_module_version": "1.2.0",
            "_view_name": "LayoutView",
            "align_content": null,
            "align_items": null,
            "align_self": null,
            "border": null,
            "bottom": null,
            "display": null,
            "flex": null,
            "flex_flow": null,
            "grid_area": null,
            "grid_auto_columns": null,
            "grid_auto_flow": null,
            "grid_auto_rows": null,
            "grid_column": null,
            "grid_gap": null,
            "grid_row": null,
            "grid_template_areas": null,
            "grid_template_columns": null,
            "grid_template_rows": null,
            "height": null,
            "justify_content": null,
            "justify_items": null,
            "left": null,
            "margin": null,
            "max_height": null,
            "max_width": null,
            "min_height": null,
            "min_width": null,
            "object_fit": null,
            "object_position": null,
            "order": null,
            "overflow": null,
            "overflow_x": null,
            "overflow_y": null,
            "padding": null,
            "right": null,
            "top": null,
            "visibility": null,
            "width": null
          }
        },
        "4f7d5fc4619d43a487e877c7cfdd1576": {
          "model_module": "@jupyter-widgets/controls",
          "model_name": "DescriptionStyleModel",
          "model_module_version": "1.5.0",
          "state": {
            "_model_module": "@jupyter-widgets/controls",
            "_model_module_version": "1.5.0",
            "_model_name": "DescriptionStyleModel",
            "_view_count": null,
            "_view_module": "@jupyter-widgets/base",
            "_view_module_version": "1.2.0",
            "_view_name": "StyleView",
            "description_width": ""
          }
        },
        "6de0eee9a7944673ae42c0a44a39236c": {
          "model_module": "@jupyter-widgets/base",
          "model_name": "LayoutModel",
          "model_module_version": "1.2.0",
          "state": {
            "_model_module": "@jupyter-widgets/base",
            "_model_module_version": "1.2.0",
            "_model_name": "LayoutModel",
            "_view_count": null,
            "_view_module": "@jupyter-widgets/base",
            "_view_module_version": "1.2.0",
            "_view_name": "LayoutView",
            "align_content": null,
            "align_items": null,
            "align_self": null,
            "border": null,
            "bottom": null,
            "display": null,
            "flex": null,
            "flex_flow": null,
            "grid_area": null,
            "grid_auto_columns": null,
            "grid_auto_flow": null,
            "grid_auto_rows": null,
            "grid_column": null,
            "grid_gap": null,
            "grid_row": null,
            "grid_template_areas": null,
            "grid_template_columns": null,
            "grid_template_rows": null,
            "height": null,
            "justify_content": null,
            "justify_items": null,
            "left": null,
            "margin": null,
            "max_height": null,
            "max_width": null,
            "min_height": null,
            "min_width": null,
            "object_fit": null,
            "object_position": null,
            "order": null,
            "overflow": null,
            "overflow_x": null,
            "overflow_y": null,
            "padding": null,
            "right": null,
            "top": null,
            "visibility": null,
            "width": null
          }
        },
        "f492d8c461a2452e85f24a9105e69579": {
          "model_module": "@jupyter-widgets/controls",
          "model_name": "DescriptionStyleModel",
          "model_module_version": "1.5.0",
          "state": {
            "_model_module": "@jupyter-widgets/controls",
            "_model_module_version": "1.5.0",
            "_model_name": "DescriptionStyleModel",
            "_view_count": null,
            "_view_module": "@jupyter-widgets/base",
            "_view_module_version": "1.2.0",
            "_view_name": "StyleView",
            "description_width": ""
          }
        },
        "2c2d426470be474ca9a71d019a3d74cf": {
          "model_module": "@jupyter-widgets/controls",
          "model_name": "HTMLModel",
          "model_module_version": "1.5.0",
          "state": {
            "_dom_classes": [],
            "_model_module": "@jupyter-widgets/controls",
            "_model_module_version": "1.5.0",
            "_model_name": "HTMLModel",
            "_view_count": null,
            "_view_module": "@jupyter-widgets/controls",
            "_view_module_version": "1.5.0",
            "_view_name": "HTMLView",
            "description": "",
            "description_tooltip": null,
            "layout": "IPY_MODEL_1d4aaad5b708414b999b3d6c82f63466",
            "placeholder": "​",
            "style": "IPY_MODEL_cb60fa8b865d4607b20a3c17f3e834f0",
            "value": "Select a method:"
          }
        },
        "0e644bb8ee8e4544b6c303fd1066c908": {
          "model_module": "@jupyter-widgets/controls",
          "model_name": "DropdownModel",
          "model_module_version": "1.5.0",
          "state": {
            "_dom_classes": [],
            "_model_module": "@jupyter-widgets/controls",
            "_model_module_version": "1.5.0",
            "_model_name": "DropdownModel",
            "_options_labels": [
              "TSNE",
              "Spectral Embedding",
              "MDS",
              "Locally Linear Embedding (Standard)",
              "Locally Linear Embedding (LTSA)",
              "Isomap"
            ],
            "_view_count": null,
            "_view_module": "@jupyter-widgets/controls",
            "_view_module_version": "1.5.0",
            "_view_name": "DropdownView",
            "description": "",
            "description_tooltip": null,
            "disabled": false,
            "index": 0,
            "layout": "IPY_MODEL_f7191da84fa6496fa4c80bf40c299dfa",
            "style": "IPY_MODEL_dbdbe142c81047c397916273f207dc2c"
          }
        },
        "24d81aeea9e6450ca03e79e65d6467e5": {
          "model_module": "@jupyter-widgets/base",
          "model_name": "LayoutModel",
          "model_module_version": "1.2.0",
          "state": {
            "_model_module": "@jupyter-widgets/base",
            "_model_module_version": "1.2.0",
            "_model_name": "LayoutModel",
            "_view_count": null,
            "_view_module": "@jupyter-widgets/base",
            "_view_module_version": "1.2.0",
            "_view_name": "LayoutView",
            "align_content": null,
            "align_items": null,
            "align_self": null,
            "border": null,
            "bottom": null,
            "display": null,
            "flex": null,
            "flex_flow": null,
            "grid_area": null,
            "grid_auto_columns": null,
            "grid_auto_flow": null,
            "grid_auto_rows": null,
            "grid_column": null,
            "grid_gap": null,
            "grid_row": null,
            "grid_template_areas": null,
            "grid_template_columns": null,
            "grid_template_rows": null,
            "height": null,
            "justify_content": null,
            "justify_items": null,
            "left": null,
            "margin": null,
            "max_height": null,
            "max_width": null,
            "min_height": null,
            "min_width": null,
            "object_fit": null,
            "object_position": null,
            "order": null,
            "overflow": null,
            "overflow_x": null,
            "overflow_y": null,
            "padding": null,
            "right": null,
            "top": null,
            "visibility": null,
            "width": null
          }
        },
        "9d74f256312b41ba978eda909f76bdca": {
          "model_module": "@jupyter-widgets/base",
          "model_name": "LayoutModel",
          "model_module_version": "1.2.0",
          "state": {
            "_model_module": "@jupyter-widgets/base",
            "_model_module_version": "1.2.0",
            "_model_name": "LayoutModel",
            "_view_count": null,
            "_view_module": "@jupyter-widgets/base",
            "_view_module_version": "1.2.0",
            "_view_name": "LayoutView",
            "align_content": null,
            "align_items": null,
            "align_self": null,
            "border": null,
            "bottom": null,
            "display": null,
            "flex": null,
            "flex_flow": null,
            "grid_area": null,
            "grid_auto_columns": null,
            "grid_auto_flow": null,
            "grid_auto_rows": null,
            "grid_column": null,
            "grid_gap": null,
            "grid_row": null,
            "grid_template_areas": null,
            "grid_template_columns": null,
            "grid_template_rows": null,
            "height": null,
            "justify_content": null,
            "justify_items": null,
            "left": null,
            "margin": null,
            "max_height": null,
            "max_width": null,
            "min_height": null,
            "min_width": null,
            "object_fit": null,
            "object_position": null,
            "order": null,
            "overflow": null,
            "overflow_x": null,
            "overflow_y": null,
            "padding": null,
            "right": null,
            "top": null,
            "visibility": null,
            "width": null
          }
        },
        "5f5da3adf9d4460b85a792b8c618f805": {
          "model_module": "@jupyter-widgets/controls",
          "model_name": "DescriptionStyleModel",
          "model_module_version": "1.5.0",
          "state": {
            "_model_module": "@jupyter-widgets/controls",
            "_model_module_version": "1.5.0",
            "_model_name": "DescriptionStyleModel",
            "_view_count": null,
            "_view_module": "@jupyter-widgets/base",
            "_view_module_version": "1.2.0",
            "_view_name": "StyleView",
            "description_width": ""
          }
        },
        "cd73ab5191a84e77a3cfc38cc4f38dcf": {
          "model_module": "@jupyter-widgets/controls",
          "model_name": "HTMLModel",
          "model_module_version": "1.5.0",
          "state": {
            "_dom_classes": [],
            "_model_module": "@jupyter-widgets/controls",
            "_model_module_version": "1.5.0",
            "_model_name": "HTMLModel",
            "_view_count": null,
            "_view_module": "@jupyter-widgets/controls",
            "_view_module_version": "1.5.0",
            "_view_name": "HTMLView",
            "description": "",
            "description_tooltip": null,
            "layout": "IPY_MODEL_baf7904e42ae4fa383dca530c4daec22",
            "placeholder": "​",
            "style": "IPY_MODEL_4d26d7d67cc9474ab196a8550a920eac",
            "value": "Lambda value:"
          }
        },
        "07198eb7652d4173ac3e0584e38bf509": {
          "model_module": "@jupyter-widgets/controls",
          "model_name": "FloatSliderModel",
          "model_module_version": "1.5.0",
          "state": {
            "_dom_classes": [],
            "_model_module": "@jupyter-widgets/controls",
            "_model_module_version": "1.5.0",
            "_model_name": "FloatSliderModel",
            "_view_count": null,
            "_view_module": "@jupyter-widgets/controls",
            "_view_module_version": "1.5.0",
            "_view_name": "FloatSliderView",
            "continuous_update": false,
            "description": "",
            "description_tooltip": null,
            "disabled": false,
            "layout": "IPY_MODEL_006085934ad74f1088d30a786c890bcd",
            "max": 1,
            "min": 0,
            "orientation": "horizontal",
            "readout": true,
            "readout_format": ".2f",
            "step": 0.01,
            "style": "IPY_MODEL_ea5b8a0bf7b740a4b452050dce2231d4",
            "value": 0.6
          }
        },
        "b3e96f5c10854387b878c185b66a0c29": {
          "model_module": "@jupyter-widgets/base",
          "model_name": "LayoutModel",
          "model_module_version": "1.2.0",
          "state": {
            "_model_module": "@jupyter-widgets/base",
            "_model_module_version": "1.2.0",
            "_model_name": "LayoutModel",
            "_view_count": null,
            "_view_module": "@jupyter-widgets/base",
            "_view_module_version": "1.2.0",
            "_view_name": "LayoutView",
            "align_content": null,
            "align_items": null,
            "align_self": null,
            "border": null,
            "bottom": null,
            "display": null,
            "flex": null,
            "flex_flow": null,
            "grid_area": null,
            "grid_auto_columns": null,
            "grid_auto_flow": null,
            "grid_auto_rows": null,
            "grid_column": null,
            "grid_gap": null,
            "grid_row": null,
            "grid_template_areas": null,
            "grid_template_columns": null,
            "grid_template_rows": null,
            "height": null,
            "justify_content": null,
            "justify_items": null,
            "left": null,
            "margin": null,
            "max_height": null,
            "max_width": null,
            "min_height": null,
            "min_width": null,
            "object_fit": null,
            "object_position": null,
            "order": null,
            "overflow": null,
            "overflow_x": null,
            "overflow_y": null,
            "padding": null,
            "right": null,
            "top": null,
            "visibility": null,
            "width": null
          }
        },
        "e8e2094c31db4888a2de0a1a85e27a5e": {
          "model_module": "@jupyter-widgets/base",
          "model_name": "LayoutModel",
          "model_module_version": "1.2.0",
          "state": {
            "_model_module": "@jupyter-widgets/base",
            "_model_module_version": "1.2.0",
            "_model_name": "LayoutModel",
            "_view_count": null,
            "_view_module": "@jupyter-widgets/base",
            "_view_module_version": "1.2.0",
            "_view_name": "LayoutView",
            "align_content": null,
            "align_items": null,
            "align_self": null,
            "border": null,
            "bottom": null,
            "display": null,
            "flex": null,
            "flex_flow": null,
            "grid_area": null,
            "grid_auto_columns": null,
            "grid_auto_flow": null,
            "grid_auto_rows": null,
            "grid_column": null,
            "grid_gap": null,
            "grid_row": null,
            "grid_template_areas": null,
            "grid_template_columns": null,
            "grid_template_rows": null,
            "height": null,
            "justify_content": null,
            "justify_items": null,
            "left": null,
            "margin": null,
            "max_height": null,
            "max_width": null,
            "min_height": null,
            "min_width": null,
            "object_fit": null,
            "object_position": null,
            "order": null,
            "overflow": null,
            "overflow_x": null,
            "overflow_y": null,
            "padding": null,
            "right": null,
            "top": null,
            "visibility": null,
            "width": null
          }
        },
        "8d5ba61b34624af6ac33e4830f680073": {
          "model_module": "@jupyter-widgets/controls",
          "model_name": "DescriptionStyleModel",
          "model_module_version": "1.5.0",
          "state": {
            "_model_module": "@jupyter-widgets/controls",
            "_model_module_version": "1.5.0",
            "_model_name": "DescriptionStyleModel",
            "_view_count": null,
            "_view_module": "@jupyter-widgets/base",
            "_view_module_version": "1.2.0",
            "_view_name": "StyleView",
            "description_width": ""
          }
        },
        "f35baa37d44b4b97b484e2d4dac642af": {
          "model_module": "@jupyter-widgets/controls",
          "model_name": "HTMLModel",
          "model_module_version": "1.5.0",
          "state": {
            "_dom_classes": [],
            "_model_module": "@jupyter-widgets/controls",
            "_model_module_version": "1.5.0",
            "_model_name": "HTMLModel",
            "_view_count": null,
            "_view_module": "@jupyter-widgets/controls",
            "_view_module_version": "1.5.0",
            "_view_name": "HTMLView",
            "description": "",
            "description_tooltip": null,
            "layout": "IPY_MODEL_922e4e764a7e4dd29d5be48e6293725a",
            "placeholder": "​",
            "style": "IPY_MODEL_6dc14df0db1047fa84c5d6f456699bc9",
            "value": "Documents number:"
          }
        },
        "e04431e90216428e92eda3f14b6c9d20": {
          "model_module": "@jupyter-widgets/controls",
          "model_name": "IntSliderModel",
          "model_module_version": "1.5.0",
          "state": {
            "_dom_classes": [],
            "_model_module": "@jupyter-widgets/controls",
            "_model_module_version": "1.5.0",
            "_model_name": "IntSliderModel",
            "_view_count": null,
            "_view_module": "@jupyter-widgets/controls",
            "_view_module_version": "1.5.0",
            "_view_name": "IntSliderView",
            "continuous_update": false,
            "description": "",
            "description_tooltip": null,
            "disabled": false,
            "layout": "IPY_MODEL_f975da5949b44856b85c3dd751b552b6",
            "max": 100,
            "min": 1,
            "orientation": "horizontal",
            "readout": true,
            "readout_format": "d",
            "step": 1,
            "style": "IPY_MODEL_a99c2d6567914aa4b3b60c42c2748488",
            "value": 2
          }
        },
        "056d6209cfee4793af50d572a3ee3255": {
          "model_module": "@jupyter-widgets/base",
          "model_name": "LayoutModel",
          "model_module_version": "1.2.0",
          "state": {
            "_model_module": "@jupyter-widgets/base",
            "_model_module_version": "1.2.0",
            "_model_name": "LayoutModel",
            "_view_count": null,
            "_view_module": "@jupyter-widgets/base",
            "_view_module_version": "1.2.0",
            "_view_name": "LayoutView",
            "align_content": null,
            "align_items": null,
            "align_self": null,
            "border": null,
            "bottom": null,
            "display": null,
            "flex": null,
            "flex_flow": null,
            "grid_area": null,
            "grid_auto_columns": null,
            "grid_auto_flow": null,
            "grid_auto_rows": null,
            "grid_column": null,
            "grid_gap": null,
            "grid_row": null,
            "grid_template_areas": null,
            "grid_template_columns": null,
            "grid_template_rows": null,
            "height": null,
            "justify_content": null,
            "justify_items": null,
            "left": null,
            "margin": null,
            "max_height": null,
            "max_width": null,
            "min_height": null,
            "min_width": null,
            "object_fit": null,
            "object_position": null,
            "order": null,
            "overflow": null,
            "overflow_x": null,
            "overflow_y": null,
            "padding": null,
            "right": null,
            "top": null,
            "visibility": null,
            "width": null
          }
        },
        "1d4aaad5b708414b999b3d6c82f63466": {
          "model_module": "@jupyter-widgets/base",
          "model_name": "LayoutModel",
          "model_module_version": "1.2.0",
          "state": {
            "_model_module": "@jupyter-widgets/base",
            "_model_module_version": "1.2.0",
            "_model_name": "LayoutModel",
            "_view_count": null,
            "_view_module": "@jupyter-widgets/base",
            "_view_module_version": "1.2.0",
            "_view_name": "LayoutView",
            "align_content": null,
            "align_items": null,
            "align_self": null,
            "border": null,
            "bottom": null,
            "display": null,
            "flex": null,
            "flex_flow": null,
            "grid_area": null,
            "grid_auto_columns": null,
            "grid_auto_flow": null,
            "grid_auto_rows": null,
            "grid_column": null,
            "grid_gap": null,
            "grid_row": null,
            "grid_template_areas": null,
            "grid_template_columns": null,
            "grid_template_rows": null,
            "height": null,
            "justify_content": null,
            "justify_items": null,
            "left": null,
            "margin": null,
            "max_height": null,
            "max_width": null,
            "min_height": null,
            "min_width": null,
            "object_fit": null,
            "object_position": null,
            "order": null,
            "overflow": null,
            "overflow_x": null,
            "overflow_y": null,
            "padding": null,
            "right": null,
            "top": null,
            "visibility": null,
            "width": null
          }
        },
        "cb60fa8b865d4607b20a3c17f3e834f0": {
          "model_module": "@jupyter-widgets/controls",
          "model_name": "DescriptionStyleModel",
          "model_module_version": "1.5.0",
          "state": {
            "_model_module": "@jupyter-widgets/controls",
            "_model_module_version": "1.5.0",
            "_model_name": "DescriptionStyleModel",
            "_view_count": null,
            "_view_module": "@jupyter-widgets/base",
            "_view_module_version": "1.2.0",
            "_view_name": "StyleView",
            "description_width": ""
          }
        },
        "f7191da84fa6496fa4c80bf40c299dfa": {
          "model_module": "@jupyter-widgets/base",
          "model_name": "LayoutModel",
          "model_module_version": "1.2.0",
          "state": {
            "_model_module": "@jupyter-widgets/base",
            "_model_module_version": "1.2.0",
            "_model_name": "LayoutModel",
            "_view_count": null,
            "_view_module": "@jupyter-widgets/base",
            "_view_module_version": "1.2.0",
            "_view_name": "LayoutView",
            "align_content": null,
            "align_items": null,
            "align_self": null,
            "border": null,
            "bottom": null,
            "display": null,
            "flex": null,
            "flex_flow": null,
            "grid_area": null,
            "grid_auto_columns": null,
            "grid_auto_flow": null,
            "grid_auto_rows": null,
            "grid_column": null,
            "grid_gap": null,
            "grid_row": null,
            "grid_template_areas": null,
            "grid_template_columns": null,
            "grid_template_rows": null,
            "height": null,
            "justify_content": null,
            "justify_items": null,
            "left": null,
            "margin": null,
            "max_height": null,
            "max_width": null,
            "min_height": null,
            "min_width": null,
            "object_fit": null,
            "object_position": null,
            "order": null,
            "overflow": null,
            "overflow_x": null,
            "overflow_y": null,
            "padding": null,
            "right": null,
            "top": null,
            "visibility": null,
            "width": "240.0px"
          }
        },
        "dbdbe142c81047c397916273f207dc2c": {
          "model_module": "@jupyter-widgets/controls",
          "model_name": "DescriptionStyleModel",
          "model_module_version": "1.5.0",
          "state": {
            "_model_module": "@jupyter-widgets/controls",
            "_model_module_version": "1.5.0",
            "_model_name": "DescriptionStyleModel",
            "_view_count": null,
            "_view_module": "@jupyter-widgets/base",
            "_view_module_version": "1.2.0",
            "_view_name": "StyleView",
            "description_width": ""
          }
        },
        "baf7904e42ae4fa383dca530c4daec22": {
          "model_module": "@jupyter-widgets/base",
          "model_name": "LayoutModel",
          "model_module_version": "1.2.0",
          "state": {
            "_model_module": "@jupyter-widgets/base",
            "_model_module_version": "1.2.0",
            "_model_name": "LayoutModel",
            "_view_count": null,
            "_view_module": "@jupyter-widgets/base",
            "_view_module_version": "1.2.0",
            "_view_name": "LayoutView",
            "align_content": null,
            "align_items": null,
            "align_self": null,
            "border": null,
            "bottom": null,
            "display": null,
            "flex": null,
            "flex_flow": null,
            "grid_area": null,
            "grid_auto_columns": null,
            "grid_auto_flow": null,
            "grid_auto_rows": null,
            "grid_column": null,
            "grid_gap": null,
            "grid_row": null,
            "grid_template_areas": null,
            "grid_template_columns": null,
            "grid_template_rows": null,
            "height": null,
            "justify_content": null,
            "justify_items": null,
            "left": null,
            "margin": null,
            "max_height": null,
            "max_width": null,
            "min_height": null,
            "min_width": null,
            "object_fit": null,
            "object_position": null,
            "order": null,
            "overflow": null,
            "overflow_x": null,
            "overflow_y": null,
            "padding": null,
            "right": null,
            "top": null,
            "visibility": null,
            "width": null
          }
        },
        "4d26d7d67cc9474ab196a8550a920eac": {
          "model_module": "@jupyter-widgets/controls",
          "model_name": "DescriptionStyleModel",
          "model_module_version": "1.5.0",
          "state": {
            "_model_module": "@jupyter-widgets/controls",
            "_model_module_version": "1.5.0",
            "_model_name": "DescriptionStyleModel",
            "_view_count": null,
            "_view_module": "@jupyter-widgets/base",
            "_view_module_version": "1.2.0",
            "_view_name": "StyleView",
            "description_width": ""
          }
        },
        "006085934ad74f1088d30a786c890bcd": {
          "model_module": "@jupyter-widgets/base",
          "model_name": "LayoutModel",
          "model_module_version": "1.2.0",
          "state": {
            "_model_module": "@jupyter-widgets/base",
            "_model_module_version": "1.2.0",
            "_model_name": "LayoutModel",
            "_view_count": null,
            "_view_module": "@jupyter-widgets/base",
            "_view_module_version": "1.2.0",
            "_view_name": "LayoutView",
            "align_content": null,
            "align_items": null,
            "align_self": null,
            "border": null,
            "bottom": null,
            "display": null,
            "flex": null,
            "flex_flow": null,
            "grid_area": null,
            "grid_auto_columns": null,
            "grid_auto_flow": null,
            "grid_auto_rows": null,
            "grid_column": null,
            "grid_gap": null,
            "grid_row": null,
            "grid_template_areas": null,
            "grid_template_columns": null,
            "grid_template_rows": null,
            "height": null,
            "justify_content": null,
            "justify_items": null,
            "left": null,
            "margin": null,
            "max_height": null,
            "max_width": null,
            "min_height": null,
            "min_width": null,
            "object_fit": null,
            "object_position": null,
            "order": null,
            "overflow": null,
            "overflow_x": null,
            "overflow_y": null,
            "padding": null,
            "right": null,
            "top": null,
            "visibility": null,
            "width": "240.0px"
          }
        },
        "ea5b8a0bf7b740a4b452050dce2231d4": {
          "model_module": "@jupyter-widgets/controls",
          "model_name": "SliderStyleModel",
          "model_module_version": "1.5.0",
          "state": {
            "_model_module": "@jupyter-widgets/controls",
            "_model_module_version": "1.5.0",
            "_model_name": "SliderStyleModel",
            "_view_count": null,
            "_view_module": "@jupyter-widgets/base",
            "_view_module_version": "1.2.0",
            "_view_name": "StyleView",
            "description_width": "",
            "handle_color": null
          }
        },
        "922e4e764a7e4dd29d5be48e6293725a": {
          "model_module": "@jupyter-widgets/base",
          "model_name": "LayoutModel",
          "model_module_version": "1.2.0",
          "state": {
            "_model_module": "@jupyter-widgets/base",
            "_model_module_version": "1.2.0",
            "_model_name": "LayoutModel",
            "_view_count": null,
            "_view_module": "@jupyter-widgets/base",
            "_view_module_version": "1.2.0",
            "_view_name": "LayoutView",
            "align_content": null,
            "align_items": null,
            "align_self": null,
            "border": null,
            "bottom": null,
            "display": null,
            "flex": null,
            "flex_flow": null,
            "grid_area": null,
            "grid_auto_columns": null,
            "grid_auto_flow": null,
            "grid_auto_rows": null,
            "grid_column": null,
            "grid_gap": null,
            "grid_row": null,
            "grid_template_areas": null,
            "grid_template_columns": null,
            "grid_template_rows": null,
            "height": null,
            "justify_content": null,
            "justify_items": null,
            "left": null,
            "margin": null,
            "max_height": null,
            "max_width": null,
            "min_height": null,
            "min_width": null,
            "object_fit": null,
            "object_position": null,
            "order": null,
            "overflow": null,
            "overflow_x": null,
            "overflow_y": null,
            "padding": null,
            "right": null,
            "top": null,
            "visibility": null,
            "width": null
          }
        },
        "6dc14df0db1047fa84c5d6f456699bc9": {
          "model_module": "@jupyter-widgets/controls",
          "model_name": "DescriptionStyleModel",
          "model_module_version": "1.5.0",
          "state": {
            "_model_module": "@jupyter-widgets/controls",
            "_model_module_version": "1.5.0",
            "_model_name": "DescriptionStyleModel",
            "_view_count": null,
            "_view_module": "@jupyter-widgets/base",
            "_view_module_version": "1.2.0",
            "_view_name": "StyleView",
            "description_width": ""
          }
        },
        "f975da5949b44856b85c3dd751b552b6": {
          "model_module": "@jupyter-widgets/base",
          "model_name": "LayoutModel",
          "model_module_version": "1.2.0",
          "state": {
            "_model_module": "@jupyter-widgets/base",
            "_model_module_version": "1.2.0",
            "_model_name": "LayoutModel",
            "_view_count": null,
            "_view_module": "@jupyter-widgets/base",
            "_view_module_version": "1.2.0",
            "_view_name": "LayoutView",
            "align_content": null,
            "align_items": null,
            "align_self": null,
            "border": null,
            "bottom": null,
            "display": null,
            "flex": null,
            "flex_flow": null,
            "grid_area": null,
            "grid_auto_columns": null,
            "grid_auto_flow": null,
            "grid_auto_rows": null,
            "grid_column": null,
            "grid_gap": null,
            "grid_row": null,
            "grid_template_areas": null,
            "grid_template_columns": null,
            "grid_template_rows": null,
            "height": null,
            "justify_content": null,
            "justify_items": null,
            "left": null,
            "margin": null,
            "max_height": null,
            "max_width": null,
            "min_height": null,
            "min_width": null,
            "object_fit": null,
            "object_position": null,
            "order": null,
            "overflow": null,
            "overflow_x": null,
            "overflow_y": null,
            "padding": null,
            "right": null,
            "top": null,
            "visibility": null,
            "width": "240.0px"
          }
        },
        "a99c2d6567914aa4b3b60c42c2748488": {
          "model_module": "@jupyter-widgets/controls",
          "model_name": "SliderStyleModel",
          "model_module_version": "1.5.0",
          "state": {
            "_model_module": "@jupyter-widgets/controls",
            "_model_module_version": "1.5.0",
            "_model_name": "SliderStyleModel",
            "_view_count": null,
            "_view_module": "@jupyter-widgets/base",
            "_view_module_version": "1.2.0",
            "_view_name": "StyleView",
            "description_width": "",
            "handle_color": null
          }
        },
        "db7e8a977ba14a399b3136bde73deca0": {
          "model_module": "@jupyter-widgets/base",
          "model_name": "LayoutModel",
          "model_module_version": "1.2.0",
          "state": {
            "_model_module": "@jupyter-widgets/base",
            "_model_module_version": "1.2.0",
            "_model_name": "LayoutModel",
            "_view_count": null,
            "_view_module": "@jupyter-widgets/base",
            "_view_module_version": "1.2.0",
            "_view_name": "LayoutView",
            "align_content": null,
            "align_items": null,
            "align_self": null,
            "border": null,
            "bottom": null,
            "display": null,
            "flex": null,
            "flex_flow": null,
            "grid_area": null,
            "grid_auto_columns": null,
            "grid_auto_flow": null,
            "grid_auto_rows": null,
            "grid_column": null,
            "grid_gap": null,
            "grid_row": null,
            "grid_template_areas": null,
            "grid_template_columns": null,
            "grid_template_rows": null,
            "height": null,
            "justify_content": null,
            "justify_items": null,
            "left": null,
            "margin": null,
            "max_height": null,
            "max_width": null,
            "min_height": null,
            "min_width": null,
            "object_fit": null,
            "object_position": null,
            "order": null,
            "overflow": null,
            "overflow_x": null,
            "overflow_y": null,
            "padding": null,
            "right": null,
            "top": null,
            "visibility": null,
            "width": null
          }
        },
        "29b49a5ece754981ac3dbb9229c3b0c4": {
          "model_module": "@jupyter-widgets/base",
          "model_name": "LayoutModel",
          "model_module_version": "1.2.0",
          "state": {
            "_model_module": "@jupyter-widgets/base",
            "_model_module_version": "1.2.0",
            "_model_name": "LayoutModel",
            "_view_count": null,
            "_view_module": "@jupyter-widgets/base",
            "_view_module_version": "1.2.0",
            "_view_name": "LayoutView",
            "align_content": null,
            "align_items": null,
            "align_self": null,
            "border": null,
            "bottom": null,
            "display": null,
            "flex": null,
            "flex_flow": null,
            "grid_area": null,
            "grid_auto_columns": null,
            "grid_auto_flow": null,
            "grid_auto_rows": null,
            "grid_column": null,
            "grid_gap": null,
            "grid_row": null,
            "grid_template_areas": null,
            "grid_template_columns": null,
            "grid_template_rows": null,
            "height": null,
            "justify_content": null,
            "justify_items": null,
            "left": null,
            "margin": null,
            "max_height": null,
            "max_width": null,
            "min_height": null,
            "min_width": null,
            "object_fit": null,
            "object_position": null,
            "order": null,
            "overflow": null,
            "overflow_x": null,
            "overflow_y": null,
            "padding": null,
            "right": null,
            "top": null,
            "visibility": null,
            "width": null
          }
        },
        "f6a638de6c7e4ac3bbd369e51fe6b421": {
          "model_module": "@jupyter-widgets/base",
          "model_name": "LayoutModel",
          "model_module_version": "1.2.0",
          "state": {
            "_model_module": "@jupyter-widgets/base",
            "_model_module_version": "1.2.0",
            "_model_name": "LayoutModel",
            "_view_count": null,
            "_view_module": "@jupyter-widgets/base",
            "_view_module_version": "1.2.0",
            "_view_name": "LayoutView",
            "align_content": null,
            "align_items": null,
            "align_self": null,
            "border": null,
            "bottom": null,
            "display": null,
            "flex": null,
            "flex_flow": null,
            "grid_area": null,
            "grid_auto_columns": null,
            "grid_auto_flow": null,
            "grid_auto_rows": null,
            "grid_column": null,
            "grid_gap": null,
            "grid_row": null,
            "grid_template_areas": null,
            "grid_template_columns": null,
            "grid_template_rows": null,
            "height": null,
            "justify_content": null,
            "justify_items": null,
            "left": null,
            "margin": null,
            "max_height": null,
            "max_width": null,
            "min_height": null,
            "min_width": null,
            "object_fit": null,
            "object_position": null,
            "order": null,
            "overflow": null,
            "overflow_x": null,
            "overflow_y": null,
            "padding": null,
            "right": null,
            "top": null,
            "visibility": null,
            "width": null
          }
        }
      }
    }
  },
  "nbformat": 4,
  "nbformat_minor": 5
}